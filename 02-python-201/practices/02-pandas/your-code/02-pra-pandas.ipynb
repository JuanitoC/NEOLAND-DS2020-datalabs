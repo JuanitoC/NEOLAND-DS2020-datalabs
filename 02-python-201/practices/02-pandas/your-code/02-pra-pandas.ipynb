{
 "cells": [
  {
   "cell_type": "markdown",
   "metadata": {},
   "source": [
    "# Programación 201"
   ]
  },
  {
   "cell_type": "markdown",
   "metadata": {},
   "source": [
    "Librerías científicas en Python: `Pandas`\n",
    "------------------------------------------------------"
   ]
  },
  {
   "cell_type": "markdown",
   "metadata": {},
   "source": [
    "### Ejercicio 1\n",
    "\n",
    "Cargad los datos del fichero _got.csv_ en un _dataframe_. Este conjunto de datos recoge información de la [Guerra de los Cinco Reyes](https://awoiaf.westeros.org/index.php/War_of_the_Five_Kings) de las novelas de [Cancion de Hielo y Fuego](https://es.wikipedia.org/wiki/Canci%C3%B3n_de_hielo_y_fuego) de George R.R Martin.\n",
    "\n",
    "Mostrad el número de filas del _dataframe_ y las etiquetas de los ejes."
   ]
  },
  {
   "cell_type": "code",
   "execution_count": 136,
   "metadata": {},
   "outputs": [],
   "source": [
    "## esta celda será la carga del Dafaframe\n",
    "\n",
    "import pandas as pd\n",
    "import numpy as np\n",
    "# RespuestaDF_\n",
    "main_path = 'C:/Users/JD/DL2020/02-python-201/practices/02-pandas/your-code'\n",
    "file = '/got.csv'\n",
    "\n",
    "path = main_path+file\n",
    "\n",
    "DF_got = pd.read_csv(path,sep = ',')"
   ]
  },
  {
   "cell_type": "code",
   "execution_count": 137,
   "metadata": {},
   "outputs": [
    {
     "name": "stdout",
     "output_type": "stream",
     "text": [
      "Los nombres de las columnas son ['name' 'year' 'battle_number' 'attacker_king' 'defender_king'\n",
      " 'attacker_1' 'attacker_2' 'attacker_3' 'attacker_4' 'defender_1'\n",
      " 'defender_2' 'defender_3' 'defender_4' 'attacker_outcome' 'battle_type'\n",
      " 'major_death' 'major_capture' 'attacker_size' 'defender_size'\n",
      " 'attacker_commander' 'defender_commander' 'summer' 'location' 'region'\n",
      " 'note'] \n",
      "El dataset tiene un total de 38 filas y 25 columnas\n",
      "Informacion general del dataframe\n",
      "             year  battle_number  defender_3  defender_4  major_death  \\\n",
      "count   38.000000      38.000000         0.0         0.0    37.000000   \n",
      "mean   299.105263      19.500000         NaN         NaN     0.351351   \n",
      "std      0.689280      11.113055         NaN         NaN     0.483978   \n",
      "min    298.000000       1.000000         NaN         NaN     0.000000   \n",
      "25%    299.000000      10.250000         NaN         NaN     0.000000   \n",
      "50%    299.000000      19.500000         NaN         NaN     0.000000   \n",
      "75%    300.000000      28.750000         NaN         NaN     1.000000   \n",
      "max    300.000000      38.000000         NaN         NaN     1.000000   \n",
      "\n",
      "       major_capture  attacker_size  defender_size     summer  \n",
      "count      37.000000      24.000000      19.000000  37.000000  \n",
      "mean        0.297297    9942.541667    6428.157895   0.702703  \n",
      "std         0.463373   20283.092065    6225.182106   0.463373  \n",
      "min         0.000000      20.000000     100.000000   0.000000  \n",
      "25%         0.000000    1375.000000    1070.000000   0.000000  \n",
      "50%         0.000000    4000.000000    6000.000000   1.000000  \n",
      "75%         1.000000    8250.000000   10000.000000   1.000000  \n",
      "max         1.000000  100000.000000   20000.000000   1.000000  \n"
     ]
    }
   ],
   "source": [
    "print('Los nombres de las columnas son {} '.format(DF_got.columns.values))\n",
    "f,c = DF_got.shape\n",
    "print('El dataset tiene un total de {} filas y {} columnas'.format(f,c))\n",
    "print('Informacion general del dataframe')\n",
    "print(DF_got.describe())"
   ]
  },
  {
   "cell_type": "markdown",
   "metadata": {},
   "source": [
    "### Ejercicio 2\n",
    "\n",
    "Agrupad los datos cargados en el ejercicio 1 por el principal bando atacante (*attacker\\_1*). Para cada posición, mostrad el número de batallas y el resultado de la batalla (el resultado se encuentra en el campo *attacker\\_outcome*)."
   ]
  },
  {
   "cell_type": "code",
   "execution_count": 138,
   "metadata": {},
   "outputs": [
    {
     "name": "stdout",
     "output_type": "stream",
     "text": [
      "Balon/Euron Greyjoy\n",
      "          attacker_king                                               name  \\\n",
      "7   Balon/Euron Greyjoy                              Battle of Moat Cailin   \n",
      "8   Balon/Euron Greyjoy                           Battle of Deepwood Motte   \n",
      "9   Balon/Euron Greyjoy                          Battle of the Stony Shore   \n",
      "11  Balon/Euron Greyjoy                               Battle of Winterfell   \n",
      "12  Balon/Euron Greyjoy                           Sack of Torrhen's Square   \n",
      "31  Balon/Euron Greyjoy                       Battle of the Shield Islands   \n",
      "32  Balon/Euron Greyjoy  Invasion of Ryamsport, Vinetown, and Starfish ...   \n",
      "\n",
      "   attacker_outcome  \n",
      "7               win  \n",
      "8               win  \n",
      "9               win  \n",
      "11              win  \n",
      "12              win  \n",
      "31              win  \n",
      "32              win  \n",
      "Joffrey/Tommen Baratheon\n",
      "               attacker_king                         name attacker_outcome\n",
      "0   Joffrey/Tommen Baratheon   Battle of the Golden Tooth              win\n",
      "1   Joffrey/Tommen Baratheon  Battle at the Mummer's Ford              win\n",
      "2   Joffrey/Tommen Baratheon           Battle of Riverrun              win\n",
      "6   Joffrey/Tommen Baratheon                Sack of Darry              win\n",
      "13  Joffrey/Tommen Baratheon           Sack of Winterfell              win\n",
      "16  Joffrey/Tommen Baratheon          Battle of the Fords             loss\n",
      "23  Joffrey/Tommen Baratheon      Battle of the Ruby Ford              win\n",
      "24  Joffrey/Tommen Baratheon        Retaking of Harrenhal              win\n",
      "25  Joffrey/Tommen Baratheon              The Red Wedding              win\n",
      "28  Joffrey/Tommen Baratheon          Fall of Moat Cailin              win\n",
      "33  Joffrey/Tommen Baratheon  Second Seige of Storm's End              win\n",
      "34  Joffrey/Tommen Baratheon         Siege of Dragonstone              win\n",
      "35  Joffrey/Tommen Baratheon            Siege of Riverrun              win\n",
      "36  Joffrey/Tommen Baratheon           Siege of Raventree              win\n",
      "Robb Stark\n",
      "   attacker_king                           name attacker_outcome\n",
      "3     Robb Stark       Battle of the Green Fork             loss\n",
      "4     Robb Stark  Battle of the Whispering Wood              win\n",
      "5     Robb Stark            Battle of the Camps              win\n",
      "10    Robb Stark     Battle of Torrhen's Square              win\n",
      "14    Robb Stark              Battle of Oxcross              win\n",
      "17    Robb Stark              Sack of Harrenhal              win\n",
      "18    Robb Stark             Battle of the Crag              win\n",
      "20    Robb Stark                 Siege of Darry              win\n",
      "21    Robb Stark           Battle of Duskendale             loss\n",
      "26    Robb Stark               Siege of Seagard              win\n",
      "Stannis Baratheon\n",
      "        attacker_king                        name attacker_outcome\n",
      "15  Stannis Baratheon        Siege of Storm's End              win\n",
      "19  Stannis Baratheon    Battle of the Blackwater             loss\n",
      "27  Stannis Baratheon      Battle of Castle Black             loss\n",
      "30  Stannis Baratheon  Retaking of Deepwood Motte              win\n",
      "37  Stannis Baratheon         Siege of Winterfell              NaN\n"
     ]
    }
   ],
   "source": [
    "# Respuesta\n",
    "\n",
    "DF_grouped_AttackerKing = DF_got[['attacker_king','name','attacker_outcome']]\n",
    "DF_grouped_AttackerKing = DF_grouped_AttackerKing.groupby('attacker_king')\n",
    "\n",
    "for name,groups in DF_grouped_AttackerKing:\n",
    "    \"\\n\"\n",
    "    print(name) \n",
    "    print(groups)\n",
    "    \"\\n\"\n",
    "    \"\\n\"\n"
   ]
  },
  {
   "cell_type": "markdown",
   "metadata": {},
   "source": [
    "### Ejercicio 3\n",
    "\n",
    "Mostrad los datos de las batallas donde el numero de participantes supera los 15000 \"hombres\" (contando ambos bandos: *attacker\\_size* y *defender\\_size*), el resultado haya sido favorable para el atacante, y la batalla se haya producido en invierno (_summer=0_)."
   ]
  },
  {
   "cell_type": "code",
   "execution_count": 139,
   "metadata": {},
   "outputs": [
    {
     "name": "stdout",
     "output_type": "stream",
     "text": [
      "               attacker_king                        name attacker_outcome  \\\n",
      "0   Joffrey/Tommen Baratheon  Battle of the Golden Tooth              win   \n",
      "2   Joffrey/Tommen Baratheon          Battle of Riverrun              win   \n",
      "5                 Robb Stark         Battle of the Camps              win   \n",
      "14                Robb Stark           Battle of Oxcross              win   \n",
      "15         Stannis Baratheon        Siege of Storm's End              win   \n",
      "\n",
      "    attacker_size  defender_size  summer  Participantes  \n",
      "0         15000.0         4000.0     1.0        19000.0  \n",
      "2         15000.0        10000.0     1.0        25000.0  \n",
      "5          6000.0        12625.0     1.0        18625.0  \n",
      "14         6000.0        10000.0     1.0        16000.0  \n",
      "15         5000.0        20000.0     1.0        25000.0  \n"
     ]
    },
    {
     "name": "stderr",
     "output_type": "stream",
     "text": [
      "<ipython-input-139-d2c4a2a9cc3d>:5: SettingWithCopyWarning: \n",
      "A value is trying to be set on a copy of a slice from a DataFrame.\n",
      "Try using .loc[row_indexer,col_indexer] = value instead\n",
      "\n",
      "See the caveats in the documentation: https://pandas.pydata.org/pandas-docs/stable/user_guide/indexing.html#returning-a-view-versus-a-copy\n",
      "  DF_grouped_15000['attacker_size'] = DF_grouped_15000['attacker_size'].replace(np.nan,0) ## Para poder calcular la cantidad de participantes en la batalla primero hay que limpiar los nan\n",
      "<ipython-input-139-d2c4a2a9cc3d>:6: SettingWithCopyWarning: \n",
      "A value is trying to be set on a copy of a slice from a DataFrame.\n",
      "Try using .loc[row_indexer,col_indexer] = value instead\n",
      "\n",
      "See the caveats in the documentation: https://pandas.pydata.org/pandas-docs/stable/user_guide/indexing.html#returning-a-view-versus-a-copy\n",
      "  DF_grouped_15000['defender_size'] = DF_grouped_15000['defender_size'].replace(np.nan,0) ## Para poder calcular la cantidad de participantes en la batalla primero hay que limpiar los nan\n",
      "<ipython-input-139-d2c4a2a9cc3d>:7: SettingWithCopyWarning: \n",
      "A value is trying to be set on a copy of a slice from a DataFrame.\n",
      "Try using .loc[row_indexer,col_indexer] = value instead\n",
      "\n",
      "See the caveats in the documentation: https://pandas.pydata.org/pandas-docs/stable/user_guide/indexing.html#returning-a-view-versus-a-copy\n",
      "  DF_grouped_15000['Participantes']= DF_grouped_15000['attacker_size'] + DF_grouped_15000['defender_size'] ## Creo una columna con los participantes en la batalla.\n"
     ]
    }
   ],
   "source": [
    "# Respuesta\n",
    "\n",
    "DF_grouped_15000 = DF_got[['attacker_king','name','attacker_outcome','attacker_size','defender_size','summer']] ## Filtramos las columnas que nos interesan\n",
    "\n",
    "DF_grouped_15000['attacker_size'] = DF_grouped_15000['attacker_size'].replace(np.nan,0) ## Para poder calcular la cantidad de participantes en la batalla primero hay que limpiar los nan\n",
    "DF_grouped_15000['defender_size'] = DF_grouped_15000['defender_size'].replace(np.nan,0) ## Para poder calcular la cantidad de participantes en la batalla primero hay que limpiar los nan\n",
    "DF_grouped_15000['Participantes']= DF_grouped_15000['attacker_size'] + DF_grouped_15000['defender_size'] ## Creo una columna con los participantes en la batalla.\n",
    "\n",
    "DF_grouped_15000  = DF_grouped_15000[(DF_grouped_15000.Participantes > 15000) & (DF_grouped_15000.attacker_outcome =='win') & (DF_grouped_15000.summer == 1)]\n",
    "\n",
    "print(DF_grouped_15000)\n"
   ]
  },
  {
   "cell_type": "markdown",
   "metadata": {},
   "source": [
    "### Ejercicio 4\n",
    "\n",
    "Contad el número de lugares que aparecen más de una vez en _dataframe_ (campo _location_), utilizando las funciones de la librería _pandas_. ¿Existe algún lugar donde se haya realizado más de una batalla? Comprobad qué bandos estaban implicados."
   ]
  },
  {
   "cell_type": "code",
   "execution_count": 140,
   "metadata": {},
   "outputs": [
    {
     "name": "stdout",
     "output_type": "stream",
     "text": [
      "                  name\n",
      "location              \n",
      "Darry                2\n",
      "Deepwood Motte       2\n",
      "Harrenhal            2\n",
      "Moat Cailin          2\n",
      "Riverrun             3\n",
      "Storm's End          2\n",
      "Torrhen's Square     2\n",
      "Winterfell           3\n"
     ]
    }
   ],
   "source": [
    "# Respuesta\n",
    "\n",
    "DF_Location = DF_got[['location','name']].groupby('location').count() ## Filtramos las columnas que nos interesan, \n",
    "## agrupamos por location y utilizamos el campo attacker king para contar\n",
    "DF_Location = pd.DataFrame(DF_Location) ## convierto el Data series en dataframe\n",
    "DF_Location = DF_Location[DF_Location['name']>1]\n",
    "\n",
    "print(DF_Location)"
   ]
  },
  {
   "cell_type": "markdown",
   "metadata": {},
   "source": [
    "### Ejercicio 5\n",
    "\n",
    "Añadid una nueva columna al _dataframe_ con un valor booleano indicando una predicción básica de si en una cierta batalla el bando atacante será vencedor. Definiremos el valor como _True_ sí el bando atacante es mayor al defensor, y como _False_ en caso contrario. Definid como _NaN_ aquellos casos en los que no haya número de tropas en ningún bando. ¿En que casos, identificados por el número de batalla (*battle\\_number*), nuestra predicción coincide con el resultado real?"
   ]
  },
  {
   "cell_type": "code",
   "execution_count": 149,
   "metadata": {},
   "outputs": [
    {
     "name": "stderr",
     "output_type": "stream",
     "text": [
      "<ipython-input-149-87067dc643b4>:5: SettingWithCopyWarning: \n",
      "A value is trying to be set on a copy of a slice from a DataFrame.\n",
      "Try using .loc[row_indexer,col_indexer] = value instead\n",
      "\n",
      "See the caveats in the documentation: https://pandas.pydata.org/pandas-docs/stable/user_guide/indexing.html#returning-a-view-versus-a-copy\n",
      "  DF_Vencedor['attacker_size'] = DF_Vencedor['attacker_size'].replace(np.nan,0) ## Para poder calcular la cantidad de participantes en la batalla primero hay que limpiar los nan\n",
      "<ipython-input-149-87067dc643b4>:6: SettingWithCopyWarning: \n",
      "A value is trying to be set on a copy of a slice from a DataFrame.\n",
      "Try using .loc[row_indexer,col_indexer] = value instead\n",
      "\n",
      "See the caveats in the documentation: https://pandas.pydata.org/pandas-docs/stable/user_guide/indexing.html#returning-a-view-versus-a-copy\n",
      "  DF_Vencedor['defender_size'] = DF_Vencedor['defender_size'].replace(np.nan,0) ## Para poder calcular la cantidad de participantes en la batalla primero hay que limpiar los nan\n",
      "c:\\users\\jd\\appdata\\local\\programs\\python\\python38-32\\lib\\site-packages\\pandas\\core\\indexing.py:1596: SettingWithCopyWarning: \n",
      "A value is trying to be set on a copy of a slice from a DataFrame.\n",
      "Try using .loc[row_indexer,col_indexer] = value instead\n",
      "\n",
      "See the caveats in the documentation: https://pandas.pydata.org/pandas-docs/stable/user_guide/indexing.html#returning-a-view-versus-a-copy\n",
      "  self.obj[key] = _infer_fill_value(value)\n",
      "c:\\users\\jd\\appdata\\local\\programs\\python\\python38-32\\lib\\site-packages\\pandas\\core\\indexing.py:1765: SettingWithCopyWarning: \n",
      "A value is trying to be set on a copy of a slice from a DataFrame.\n",
      "Try using .loc[row_indexer,col_indexer] = value instead\n",
      "\n",
      "See the caveats in the documentation: https://pandas.pydata.org/pandas-docs/stable/user_guide/indexing.html#returning-a-view-versus-a-copy\n",
      "  isetter(loc, value)\n",
      "c:\\users\\jd\\appdata\\local\\programs\\python\\python38-32\\lib\\site-packages\\pandas\\core\\indexing.py:1765: SettingWithCopyWarning: \n",
      "A value is trying to be set on a copy of a slice from a DataFrame.\n",
      "Try using .loc[row_indexer,col_indexer] = value instead\n",
      "\n",
      "See the caveats in the documentation: https://pandas.pydata.org/pandas-docs/stable/user_guide/indexing.html#returning-a-view-versus-a-copy\n",
      "  isetter(loc, value)\n",
      "c:\\users\\jd\\appdata\\local\\programs\\python\\python38-32\\lib\\site-packages\\pandas\\core\\indexing.py:1765: SettingWithCopyWarning: \n",
      "A value is trying to be set on a copy of a slice from a DataFrame.\n",
      "Try using .loc[row_indexer,col_indexer] = value instead\n",
      "\n",
      "See the caveats in the documentation: https://pandas.pydata.org/pandas-docs/stable/user_guide/indexing.html#returning-a-view-versus-a-copy\n",
      "  isetter(loc, value)\n"
     ]
    }
   ],
   "source": [
    "# Respuesta\n",
    "\n",
    "DF_Vencedor = DF_got[['name','attacker_size','defender_size','attacker_outcome']] ## Filtramos las columnas que nos interesan\n",
    "\n",
    "DF_Vencedor['attacker_size'] = DF_Vencedor['attacker_size'].replace(np.nan,0) ## Para poder calcular la cantidad de participantes en la batalla primero hay que limpiar los nan\n",
    "DF_Vencedor['defender_size'] = DF_Vencedor['defender_size'].replace(np.nan,0) ## Para poder calcular la cantidad de participantes en la batalla primero hay que limpiar los nan\n",
    "\n",
    "##DF_Vencedor['Vencedor'] = DF_Vencedor['attacker_size'].apply(lambda x: 'True' if x > DF_Vencedor['defender_size'] else 'False')\n",
    "\n",
    "DF_Vencedor.loc[DF_Vencedor['attacker_size']>DF_Vencedor['defender_size'],'Vencedor' ] = 'win' ## Para poder hacer la comparativa es más sencillo cambiar los valores requeridos True/false por win/loss\n",
    "DF_Vencedor.loc[DF_Vencedor['attacker_size']<=DF_Vencedor['defender_size'],'Vencedor' ] = 'loss' ## Para poder hacer la comparativa es más sencillo cambiar los valores requeridos True/false por win/loss\n",
    "DF_Vencedor.loc[(DF_Vencedor['attacker_size']+DF_Vencedor['defender_size']==0),'Vencedor' ] = 'NaN'\n",
    "\n",
    "DF_Resultadoprediccion = DF_Vencedor[DF_Vencedor['Vencedor']==DF_Vencedor['attacker_outcome']]\n"
   ]
  },
  {
   "cell_type": "code",
   "execution_count": 150,
   "metadata": {},
   "outputs": [
    {
     "name": "stdout",
     "output_type": "stream",
     "text": [
      "                          name  attacker_size  defender_size attacker_outcome  \\\n",
      "0   Battle of the Golden Tooth        15000.0         4000.0              win   \n",
      "2           Battle of Riverrun        15000.0        10000.0              win   \n",
      "3     Battle of the Green Fork        18000.0        20000.0             loss   \n",
      "8     Battle of Deepwood Motte         1000.0            0.0              win   \n",
      "9    Battle of the Stony Shore          264.0            0.0              win   \n",
      "11        Battle of Winterfell           20.0            0.0              win   \n",
      "18          Battle of the Crag         6000.0            0.0              win   \n",
      "30  Retaking of Deepwood Motte         4500.0          200.0              win   \n",
      "34        Siege of Dragonstone         2000.0            0.0              win   \n",
      "35           Siege of Riverrun         3000.0            0.0              win   \n",
      "36          Siege of Raventree         1500.0            0.0              win   \n",
      "\n",
      "   Vencedor  \n",
      "0       win  \n",
      "2       win  \n",
      "3      loss  \n",
      "8       win  \n",
      "9       win  \n",
      "11      win  \n",
      "18      win  \n",
      "30      win  \n",
      "34      win  \n",
      "35      win  \n",
      "36      win  \n"
     ]
    }
   ],
   "source": [
    "print(DF_Resultadoprediccion)"
   ]
  },
  {
   "cell_type": "code",
   "execution_count": 127,
   "metadata": {},
   "outputs": [
    {
     "data": {
      "text/plain": [
       "0.0"
      ]
     },
     "execution_count": 127,
     "metadata": {},
     "output_type": "execute_result"
    }
   ],
   "source": [
    "x"
   ]
  },
  {
   "cell_type": "code",
   "execution_count": null,
   "metadata": {},
   "outputs": [],
   "source": []
  }
 ],
 "metadata": {
  "kernelspec": {
   "display_name": "Python 3",
   "language": "python",
   "name": "python3"
  },
  "language_info": {
   "codemirror_mode": {
    "name": "ipython",
    "version": 3
   },
   "file_extension": ".py",
   "mimetype": "text/x-python",
   "name": "python",
   "nbconvert_exporter": "python",
   "pygments_lexer": "ipython3",
   "version": "3.8.5"
  }
 },
 "nbformat": 4,
 "nbformat_minor": 4
}
