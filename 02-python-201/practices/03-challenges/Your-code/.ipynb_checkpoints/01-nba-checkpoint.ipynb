{
 "cells": [
  {
   "cell_type": "markdown",
   "metadata": {},
   "source": [
    "# Programación 201\n",
    "\n",
    "# NBA player of the week"
   ]
  },
  {
   "cell_type": "markdown",
   "metadata": {},
   "source": [
    "### Ejercicio 1\n",
    "\n",
    "# Descripción y enunciado\n",
    "El objetivo de esta actividad es la gestión y preparación de datos. La gestión de datos es una parte muy importante de cualquier proceso de minería de datos, ya que los datos se deben preparar y preprocesar antes de iniciar el proceso de extracción de conocimiento.\n",
    "Esta tarea ilustra algunos de los procedimientos básicos con los que nos podemos encontrar para preparar los datos: analizar los tipos de datos, tranformar valores, detectar e eliminar outliers, hacer un muestreo, etcétera.\n",
    "\n",
    "# Fichero de datos\n",
    "El conjunto de datos con el que trabajaremos en esta actividad surge de la bases de datos disponibles en Kaggle . En concreto, los datos corresponden a los jugadores nombrados jugadores de la semana desde la temporada 1984-1985 hasta la temporada 2017-2018. Estos datos nos ofrecen múltiples posibilidades para consolidar los conocimientos y competencias de manipulación de datos, preprocesado y análisis descriptivo. El fichero `NBA_player_of_the_week.csv` se encuentra adjunto.\n",
    "\n",
    "\n",
    "# Ingesta de datos\n",
    "Actualmente el fichero se encuentra en la misma carpeta de datos RMD, está en adjunto. Se enviará nueva práctica similar con los datos de ingesta a través de scraping / API / base de datos para R y Python.\n",
    "\n",
    "\n",
    "# Valoraciones\n",
    " - se valorarán los trabajos por los detalles, no vale con el solo enviar un trozo de código, sino la explicación es fundamental\n",
    " - explicar además los resumen de cada sección (carga, preparación, EDA, limpieza, nuevos atributos, discretización, split train-test)\n",
    " - conclusiones y comparativas son los más importantes para comenzar con Data Mining.\n",
    "\n"
   ]
  },
  {
   "cell_type": "code",
   "execution_count": 366,
   "metadata": {},
   "outputs": [],
   "source": [
    "import pandas as pd\n",
    "import numpy as np\n",
    "import seaborn as sns"
   ]
  },
  {
   "cell_type": "markdown",
   "metadata": {},
   "source": [
    "###  1 Cargar un juego de datos\n",
    "* Leer el fichero de datos “NBA_player_of_the_week.csv” y guardar los datos en un objeto con identificador denominado nba.*"
   ]
  },
  {
   "cell_type": "code",
   "execution_count": 367,
   "metadata": {},
   "outputs": [],
   "source": [
    "NBA = pd.read_csv('NBA_player_of_the_week.csv')"
   ]
  },
  {
   "cell_type": "markdown",
   "metadata": {},
   "source": [
    "### 2 Descripción de los datos\n",
    "* Describir brevemente la estructura de los datos: qué tipo de datos contiene, número de filas y columnas y nombre de las columnas. Realizar un resumen descriptivo de los datos.*"
   ]
  },
  {
   "cell_type": "code",
   "execution_count": 368,
   "metadata": {},
   "outputs": [
    {
     "data": {
      "text/plain": [
       "Index(['Age', 'Conference', 'Date', 'Draft Year', 'Height', 'Player',\n",
       "       'Position', 'Season', 'Season short', 'Seasons in league', 'Team',\n",
       "       'Weight', 'Real_value'],\n",
       "      dtype='object')"
      ]
     },
     "execution_count": 368,
     "metadata": {},
     "output_type": "execute_result"
    }
   ],
   "source": [
    "# Nombre de columnas\n",
    "NBA.columns"
   ]
  },
  {
   "cell_type": "code",
   "execution_count": 369,
   "metadata": {},
   "outputs": [
    {
     "data": {
      "text/plain": [
       "(1145, 13)"
      ]
     },
     "execution_count": 369,
     "metadata": {},
     "output_type": "execute_result"
    }
   ],
   "source": [
    "# Tamaño del dataframe\n",
    "NBA.shape"
   ]
  },
  {
   "cell_type": "code",
   "execution_count": 370,
   "metadata": {},
   "outputs": [
    {
     "data": {
      "text/plain": [
       "Age                    int64\n",
       "Conference            object\n",
       "Date                  object\n",
       "Draft Year             int64\n",
       "Height                object\n",
       "Player                object\n",
       "Position              object\n",
       "Season                object\n",
       "Season short           int64\n",
       "Seasons in league      int64\n",
       "Team                  object\n",
       "Weight                object\n",
       "Real_value           float64\n",
       "dtype: object"
      ]
     },
     "execution_count": 370,
     "metadata": {},
     "output_type": "execute_result"
    }
   ],
   "source": [
    "# Caracteristicas del dataframe\n",
    "NBA.dtypes"
   ]
  },
  {
   "cell_type": "code",
   "execution_count": 371,
   "metadata": {},
   "outputs": [
    {
     "data": {
      "text/html": [
       "<div>\n",
       "<style scoped>\n",
       "    .dataframe tbody tr th:only-of-type {\n",
       "        vertical-align: middle;\n",
       "    }\n",
       "\n",
       "    .dataframe tbody tr th {\n",
       "        vertical-align: top;\n",
       "    }\n",
       "\n",
       "    .dataframe thead th {\n",
       "        text-align: right;\n",
       "    }\n",
       "</style>\n",
       "<table border=\"1\" class=\"dataframe\">\n",
       "  <thead>\n",
       "    <tr style=\"text-align: right;\">\n",
       "      <th></th>\n",
       "      <th>Age</th>\n",
       "      <th>Conference</th>\n",
       "      <th>Date</th>\n",
       "      <th>Draft Year</th>\n",
       "      <th>Height</th>\n",
       "      <th>Player</th>\n",
       "      <th>Position</th>\n",
       "      <th>Season</th>\n",
       "      <th>Season short</th>\n",
       "      <th>Seasons in league</th>\n",
       "      <th>Team</th>\n",
       "      <th>Weight</th>\n",
       "      <th>Real_value</th>\n",
       "    </tr>\n",
       "  </thead>\n",
       "  <tbody>\n",
       "    <tr>\n",
       "      <th>0</th>\n",
       "      <td>29</td>\n",
       "      <td>NaN</td>\n",
       "      <td>Apr 14, 1985</td>\n",
       "      <td>1978</td>\n",
       "      <td>6-5</td>\n",
       "      <td>Micheal Ray Richardson</td>\n",
       "      <td>PG</td>\n",
       "      <td>1984-1985</td>\n",
       "      <td>1985</td>\n",
       "      <td>6</td>\n",
       "      <td>New Jersey Nets</td>\n",
       "      <td>189</td>\n",
       "      <td>1.0</td>\n",
       "    </tr>\n",
       "    <tr>\n",
       "      <th>1</th>\n",
       "      <td>23</td>\n",
       "      <td>NaN</td>\n",
       "      <td>Apr 7, 1985</td>\n",
       "      <td>1982</td>\n",
       "      <td>6-6</td>\n",
       "      <td>Derek Smith</td>\n",
       "      <td>SG</td>\n",
       "      <td>1984-1985</td>\n",
       "      <td>1985</td>\n",
       "      <td>2</td>\n",
       "      <td>Los Angeles Clippers</td>\n",
       "      <td>205</td>\n",
       "      <td>1.0</td>\n",
       "    </tr>\n",
       "    <tr>\n",
       "      <th>2</th>\n",
       "      <td>28</td>\n",
       "      <td>NaN</td>\n",
       "      <td>Apr 1, 1985</td>\n",
       "      <td>1979</td>\n",
       "      <td>6-6</td>\n",
       "      <td>Calvin Natt</td>\n",
       "      <td>F</td>\n",
       "      <td>1984-1985</td>\n",
       "      <td>1985</td>\n",
       "      <td>5</td>\n",
       "      <td>Denver Nuggets</td>\n",
       "      <td>220</td>\n",
       "      <td>1.0</td>\n",
       "    </tr>\n",
       "    <tr>\n",
       "      <th>3</th>\n",
       "      <td>37</td>\n",
       "      <td>NaN</td>\n",
       "      <td>Mar 24, 1985</td>\n",
       "      <td>1969</td>\n",
       "      <td>7-2</td>\n",
       "      <td>Kareem Abdul-Jabbar</td>\n",
       "      <td>C</td>\n",
       "      <td>1984-1985</td>\n",
       "      <td>1985</td>\n",
       "      <td>15</td>\n",
       "      <td>Los Angeles Lakers</td>\n",
       "      <td>225</td>\n",
       "      <td>1.0</td>\n",
       "    </tr>\n",
       "    <tr>\n",
       "      <th>4</th>\n",
       "      <td>28</td>\n",
       "      <td>NaN</td>\n",
       "      <td>Mar 17, 1985</td>\n",
       "      <td>1978</td>\n",
       "      <td>6-9</td>\n",
       "      <td>Larry Bird</td>\n",
       "      <td>SF</td>\n",
       "      <td>1984-1985</td>\n",
       "      <td>1985</td>\n",
       "      <td>5</td>\n",
       "      <td>Boston Celtics</td>\n",
       "      <td>220</td>\n",
       "      <td>1.0</td>\n",
       "    </tr>\n",
       "  </tbody>\n",
       "</table>\n",
       "</div>"
      ],
      "text/plain": [
       "   Age Conference          Date  Draft Year Height                  Player  \\\n",
       "0   29        NaN  Apr 14, 1985        1978    6-5  Micheal Ray Richardson   \n",
       "1   23        NaN   Apr 7, 1985        1982    6-6             Derek Smith   \n",
       "2   28        NaN   Apr 1, 1985        1979    6-6             Calvin Natt   \n",
       "3   37        NaN  Mar 24, 1985        1969    7-2     Kareem Abdul-Jabbar   \n",
       "4   28        NaN  Mar 17, 1985        1978    6-9              Larry Bird   \n",
       "\n",
       "  Position     Season  Season short  Seasons in league                  Team  \\\n",
       "0       PG  1984-1985          1985                  6       New Jersey Nets   \n",
       "1       SG  1984-1985          1985                  2  Los Angeles Clippers   \n",
       "2        F  1984-1985          1985                  5        Denver Nuggets   \n",
       "3        C  1984-1985          1985                 15    Los Angeles Lakers   \n",
       "4       SF  1984-1985          1985                  5        Boston Celtics   \n",
       "\n",
       "  Weight  Real_value  \n",
       "0    189         1.0  \n",
       "1    205         1.0  \n",
       "2    220         1.0  \n",
       "3    225         1.0  \n",
       "4    220         1.0  "
      ]
     },
     "execution_count": 371,
     "metadata": {},
     "output_type": "execute_result"
    }
   ],
   "source": [
    "### Primeras 5 lineas\n",
    "NBA.head(5)"
   ]
  },
  {
   "cell_type": "markdown",
   "metadata": {},
   "source": [
    "### 3 Preparación de la base de datos\n",
    "#### 3.1 Asignar NA a los valores ausentes en los datos de `Conference`.\n"
   ]
  },
  {
   "cell_type": "code",
   "execution_count": 372,
   "metadata": {},
   "outputs": [
    {
     "data": {
      "text/plain": [
       "array([nan, 'East', 'West'], dtype=object)"
      ]
     },
     "execution_count": 372,
     "metadata": {},
     "output_type": "execute_result"
    }
   ],
   "source": [
    "NBA['Conference'].unique()"
   ]
  },
  {
   "cell_type": "code",
   "execution_count": 373,
   "metadata": {},
   "outputs": [],
   "source": [
    "## Damos por hecho que los equipos siempre han estado en la misma conferencia, así que creamos un dataframe con \n",
    "##conferencia y equipo, elimino los valores en blanco y después los duplicados para tener los datos sólo una vez\n",
    "\n",
    "NBATEAMS = NBA[NBA['Conference'].isna()==False][['Conference','Team']].drop_duplicates()\n",
    "NBA.drop('Conference',axis=1, inplace = True)\n",
    "\n",
    "NBA = pd.merge(NBA,NBATEAMS,how='left', on = 'Team')\n"
   ]
  },
  {
   "cell_type": "code",
   "execution_count": 374,
   "metadata": {},
   "outputs": [
    {
     "data": {
      "text/plain": [
       "Team              \n",
       "Washington Bullets    8\n",
       "dtype: int64"
      ]
     },
     "execution_count": 374,
     "metadata": {},
     "output_type": "execute_result"
    }
   ],
   "source": [
    "# Reviso los equipos NA que quedan.\n",
    "NBA[NBA['Conference'].isna()][['Team']].value_counts()"
   ]
  },
  {
   "cell_type": "code",
   "execution_count": 375,
   "metadata": {},
   "outputs": [
    {
     "data": {
      "text/html": [
       "<div>\n",
       "<style scoped>\n",
       "    .dataframe tbody tr th:only-of-type {\n",
       "        vertical-align: middle;\n",
       "    }\n",
       "\n",
       "    .dataframe tbody tr th {\n",
       "        vertical-align: top;\n",
       "    }\n",
       "\n",
       "    .dataframe thead th {\n",
       "        text-align: right;\n",
       "    }\n",
       "</style>\n",
       "<table border=\"1\" class=\"dataframe\">\n",
       "  <thead>\n",
       "    <tr style=\"text-align: right;\">\n",
       "      <th></th>\n",
       "      <th>Conference</th>\n",
       "      <th>Team</th>\n",
       "    </tr>\n",
       "  </thead>\n",
       "  <tbody>\n",
       "    <tr>\n",
       "      <th>414</th>\n",
       "      <td>East</td>\n",
       "      <td>Washington Wizards</td>\n",
       "    </tr>\n",
       "  </tbody>\n",
       "</table>\n",
       "</div>"
      ],
      "text/plain": [
       "    Conference                Team\n",
       "414       East  Washington Wizards"
      ]
     },
     "execution_count": 375,
     "metadata": {},
     "output_type": "execute_result"
    }
   ],
   "source": [
    "# Reviso la conferencia en la que están los otros equipos de Washington\n",
    "NBATEAMS[NBATEAMS['Team'].str.contains('Washington')]"
   ]
  },
  {
   "cell_type": "code",
   "execution_count": 376,
   "metadata": {},
   "outputs": [],
   "source": [
    "# Asigno a los equipos conequipo `Washington Bullets` la conferencia Oeste\n",
    "NBA.loc[NBA['Conference'].isna(),'Conference'] = 'East'"
   ]
  },
  {
   "cell_type": "code",
   "execution_count": 377,
   "metadata": {},
   "outputs": [
    {
     "data": {
      "text/plain": [
       "array(['East', 'West'], dtype=object)"
      ]
     },
     "execution_count": 377,
     "metadata": {},
     "output_type": "execute_result"
    }
   ],
   "source": [
    "# Reviso que no queden datos en blanco\n",
    "NBA['Conference'].unique()"
   ]
  },
  {
   "cell_type": "markdown",
   "metadata": {},
   "source": [
    "#### 3.2 Transformar los datos de Conference en variable categórica y mostrar la tabla de frecuencia."
   ]
  },
  {
   "cell_type": "code",
   "execution_count": 378,
   "metadata": {},
   "outputs": [
    {
     "data": {
      "text/plain": [
       "0       East\n",
       "1       West\n",
       "2       East\n",
       "3       West\n",
       "4       West\n",
       "        ... \n",
       "1179    West\n",
       "1180    East\n",
       "1181    West\n",
       "1182    East\n",
       "1183    West\n",
       "Name: Conference, Length: 1184, dtype: category\n",
       "Categories (2, object): ['East', 'West']"
      ]
     },
     "execution_count": 378,
     "metadata": {},
     "output_type": "execute_result"
    }
   ],
   "source": [
    "NBA['Conference'].astype('category')"
   ]
  },
  {
   "cell_type": "code",
   "execution_count": 379,
   "metadata": {},
   "outputs": [
    {
     "data": {
      "text/plain": [
       "dtype('O')"
      ]
     },
     "execution_count": 379,
     "metadata": {},
     "output_type": "execute_result"
    }
   ],
   "source": [
    "## Reviso que sea variable categórica\n",
    "NBA['Conference'].dtypes"
   ]
  },
  {
   "cell_type": "code",
   "execution_count": 380,
   "metadata": {},
   "outputs": [
    {
     "data": {
      "text/plain": [
       "East    593\n",
       "West    591\n",
       "Name: Conference, dtype: int64"
      ]
     },
     "execution_count": 380,
     "metadata": {},
     "output_type": "execute_result"
    }
   ],
   "source": [
    "# Tabla de frecuencias\n",
    "NBA['Conference'].value_counts()"
   ]
  },
  {
   "cell_type": "markdown",
   "metadata": {},
   "source": [
    "#### 3.4 Transformar las variables Height, Player, Position, Season, Team y Weight en variables categóricas."
   ]
  },
  {
   "cell_type": "code",
   "execution_count": 381,
   "metadata": {},
   "outputs": [
    {
     "name": "stdout",
     "output_type": "stream",
     "text": [
      "Height: object\n",
      "Player: object\n",
      "Position: object\n",
      "Season: object\n",
      "Team: object\n",
      "Weight: object\n"
     ]
    }
   ],
   "source": [
    "Vartofact = ('Height' , 'Player' , 'Position' , 'Season' , 'Team' , 'Weight')\n",
    "for var in Vartofact:\n",
    "    NBA[var].astype('category')\n",
    "    print('{}: '.format(var) + str(NBA[var].dtypes) )\n",
    "    "
   ]
  },
  {
   "cell_type": "markdown",
   "metadata": {},
   "source": [
    "#### 3.5 Comprobar que estas variables no tienen valores perdidos."
   ]
  },
  {
   "cell_type": "code",
   "execution_count": 382,
   "metadata": {},
   "outputs": [
    {
     "name": "stdout",
     "output_type": "stream",
     "text": [
      "Height: 0\n",
      "Player: 0\n",
      "Position: 0\n",
      "Season: 0\n",
      "Team: 0\n",
      "Weight: 0\n"
     ]
    }
   ],
   "source": [
    "#Comprobacion de valores nulos\n",
    "Vartofact = ('Height' , 'Player' , 'Position' , 'Season' , 'Team' , 'Weight')\n",
    "for var in Vartofact:\n",
    "     print('{}: '.format(var) + str(NBA[var].isnull().sum()) )"
   ]
  },
  {
   "cell_type": "code",
   "execution_count": 383,
   "metadata": {},
   "outputs": [
    {
     "name": "stdout",
     "output_type": "stream",
     "text": [
      "Height: 0\n",
      "Player: 0\n",
      "Position: 0\n",
      "Season: 0\n",
      "Team: 0\n",
      "Weight: 0\n"
     ]
    }
   ],
   "source": [
    "#Comprobacion de infinitos\n",
    "Vartofact = ('Height' , 'Player' , 'Position' , 'Season' , 'Team' , 'Weight')\n",
    "for var in Vartofact:\n",
    "     print('{}: '.format(var) + str(NBA[var].isna().sum()) )"
   ]
  },
  {
   "cell_type": "markdown",
   "metadata": {},
   "source": [
    "#### 3.6 Calcular el número de anyos que pasan entre que salio el jugador elegido en el draft y la temporada en la que fue jugador de la semana. Denomina la variable tiempo."
   ]
  },
  {
   "cell_type": "code",
   "execution_count": 384,
   "metadata": {},
   "outputs": [],
   "source": [
    "NBA['Tiempo'] = NBA['Season short']-NBA['Draft Year']"
   ]
  },
  {
   "cell_type": "markdown",
   "metadata": {},
   "source": [
    "#### 3.7 ¿Cual es el número de años que más veces se repite entre que salen elegidos en el draft y se proclaman mejores jugadores? (moda de la variable tiempo)"
   ]
  },
  {
   "cell_type": "code",
   "execution_count": 385,
   "metadata": {},
   "outputs": [
    {
     "data": {
      "text/html": [
       "<div>\n",
       "<style scoped>\n",
       "    .dataframe tbody tr th:only-of-type {\n",
       "        vertical-align: middle;\n",
       "    }\n",
       "\n",
       "    .dataframe tbody tr th {\n",
       "        vertical-align: top;\n",
       "    }\n",
       "\n",
       "    .dataframe thead th {\n",
       "        text-align: right;\n",
       "    }\n",
       "</style>\n",
       "<table border=\"1\" class=\"dataframe\">\n",
       "  <thead>\n",
       "    <tr style=\"text-align: right;\">\n",
       "      <th></th>\n",
       "      <th>Tiempo</th>\n",
       "    </tr>\n",
       "  </thead>\n",
       "  <tbody>\n",
       "    <tr>\n",
       "      <th>7</th>\n",
       "      <td>148</td>\n",
       "    </tr>\n",
       "  </tbody>\n",
       "</table>\n",
       "</div>"
      ],
      "text/plain": [
       "   Tiempo\n",
       "7     148"
      ]
     },
     "execution_count": 385,
     "metadata": {},
     "output_type": "execute_result"
    }
   ],
   "source": [
    "NBATIEMPO = pd.DataFrame(NBA['Tiempo'].value_counts())\n",
    "NBATIEMPO[NBATIEMPO['Tiempo']==NBATIEMPO['Tiempo'].max()]"
   ]
  },
  {
   "cell_type": "markdown",
   "metadata": {},
   "source": [
    "#### 3.8 La altura de los jugadores está expresada en pies (aquellas con guión) y cm. Convertir la altura expresada en pies a centimetros [https://www.piesametros.info/](https://www.piesametros.info/). Posteriormente, eliminar el texto “cm” de los datos de tipo altura y convertir la variable en numérica. Calcular media, desviación típica y boxplot."
   ]
  },
  {
   "cell_type": "code",
   "execution_count": 386,
   "metadata": {},
   "outputs": [
    {
     "name": "stderr",
     "output_type": "stream",
     "text": [
      "<ipython-input-386-88d45343343b>:4: SettingWithCopyWarning: \n",
      "A value is trying to be set on a copy of a slice from a DataFrame.\n",
      "Try using .loc[row_indexer,col_indexer] = value instead\n",
      "\n",
      "See the caveats in the documentation: https://pandas.pydata.org/pandas-docs/stable/user_guide/indexing.html#returning-a-view-versus-a-copy\n",
      "  DF_CM['Height'] = DF_CM['Height'].str.replace('cm','')\n",
      "c:\\users\\jd\\appdata\\local\\programs\\python\\python38-32\\lib\\site-packages\\pandas\\core\\frame.py:4163: SettingWithCopyWarning: \n",
      "A value is trying to be set on a copy of a slice from a DataFrame\n",
      "\n",
      "See the caveats in the documentation: https://pandas.pydata.org/pandas-docs/stable/user_guide/indexing.html#returning-a-view-versus-a-copy\n",
      "  return super().drop(\n"
     ]
    }
   ],
   "source": [
    "## Creo dos Dataframes, uno con CM y otro con pies posteriormente hago un calculo para comprobar que todas las líneas están incluidas.\n",
    "\n",
    "DF_CM = NBA[NBA['Height'].str.contains('-')==False]\n",
    "DF_CM['Height'] = DF_CM['Height'].str.replace('cm','')\n",
    "\n",
    "## En esta operación selecciono las filas con altura en sistema imperial (SI), separo la variable altura en 2, pies y pulgadas y \n",
    "## procedo a calcular la altura en sistema metrico, posteriormente elimino las columnas pies y pulgadas\n",
    "\n",
    "DF_FT = NBA[NBA['Height'].str.contains('-')]\n",
    "FT = DF_FT['Height'].str.split(\"-\",n=1, expand=True) ## Separo el campo altura en pies y pulgadas\n",
    "FT.rename(columns= {0:'Pies', 1:'Pulgadas'},inplace = True) # renombro las columans del dataframe\n",
    "FT['Pies'] = FT['Pies'].astype('int') ## Convierto en numero\n",
    "FT['Pulgadas'] = FT['Pulgadas'].astype('int') ## convierto en numero\n",
    "FT['Height'] = FT['Pies']*30.48 +FT['Pulgadas']*2.54 ## Calculo la altura en CM\n",
    "DF_FT.drop(['Height'],axis=1, inplace=True) ## Me cargo el campo Height para poder poner el campo calculado en su lugar\n",
    "DF_FT = pd.concat([DF_FT, FT['Height']], axis=1) ## Uno el nuevo campo\n",
    "NBA = pd.concat([DF_FT, DF_CM]) ## Uno los DF con los datos modificados\n"
   ]
  },
  {
   "cell_type": "markdown",
   "metadata": {},
   "source": [
    "#### 3.9 El peso de los jugadores está expresada en libras y kg. Convertir el peso expresado en kgs en libras [https://www.metric-conversions.org/es/peso/kilogramos-a-libras.htm](https://www.metric-conversions.org/es/peso/kilogramos-a-libras.htm). Convertir la variable en numérica.Calcular media, desviación típica y boxplot."
   ]
  },
  {
   "cell_type": "code",
   "execution_count": 387,
   "metadata": {},
   "outputs": [
    {
     "name": "stderr",
     "output_type": "stream",
     "text": [
      "<ipython-input-387-dee194edb9c5>:4: SettingWithCopyWarning: \n",
      "A value is trying to be set on a copy of a slice from a DataFrame.\n",
      "Try using .loc[row_indexer,col_indexer] = value instead\n",
      "\n",
      "See the caveats in the documentation: https://pandas.pydata.org/pandas-docs/stable/user_guide/indexing.html#returning-a-view-versus-a-copy\n",
      "  DF_KG['Weight'] = DF_KG['Weight'].str.replace('kg','')\n"
     ]
    },
    {
     "ename": "TypeError",
     "evalue": "can't multiply sequence by non-int of type 'float'",
     "output_type": "error",
     "traceback": [
      "\u001b[1;31m---------------------------------------------------------------------------\u001b[0m",
      "\u001b[1;31mTypeError\u001b[0m                                 Traceback (most recent call last)",
      "\u001b[1;32mc:\\users\\jd\\appdata\\local\\programs\\python\\python38-32\\lib\\site-packages\\pandas\\core\\ops\\array_ops.py\u001b[0m in \u001b[0;36mna_arithmetic_op\u001b[1;34m(left, right, op, is_cmp)\u001b[0m\n\u001b[0;32m    142\u001b[0m     \u001b[1;32mtry\u001b[0m\u001b[1;33m:\u001b[0m\u001b[1;33m\u001b[0m\u001b[1;33m\u001b[0m\u001b[0m\n\u001b[1;32m--> 143\u001b[1;33m         \u001b[0mresult\u001b[0m \u001b[1;33m=\u001b[0m \u001b[0mexpressions\u001b[0m\u001b[1;33m.\u001b[0m\u001b[0mevaluate\u001b[0m\u001b[1;33m(\u001b[0m\u001b[0mop\u001b[0m\u001b[1;33m,\u001b[0m \u001b[0mleft\u001b[0m\u001b[1;33m,\u001b[0m \u001b[0mright\u001b[0m\u001b[1;33m)\u001b[0m\u001b[1;33m\u001b[0m\u001b[1;33m\u001b[0m\u001b[0m\n\u001b[0m\u001b[0;32m    144\u001b[0m     \u001b[1;32mexcept\u001b[0m \u001b[0mTypeError\u001b[0m\u001b[1;33m:\u001b[0m\u001b[1;33m\u001b[0m\u001b[1;33m\u001b[0m\u001b[0m\n",
      "\u001b[1;32mc:\\users\\jd\\appdata\\local\\programs\\python\\python38-32\\lib\\site-packages\\pandas\\core\\computation\\expressions.py\u001b[0m in \u001b[0;36mevaluate\u001b[1;34m(op, a, b, use_numexpr)\u001b[0m\n\u001b[0;32m    232\u001b[0m         \u001b[1;32mif\u001b[0m \u001b[0muse_numexpr\u001b[0m\u001b[1;33m:\u001b[0m\u001b[1;33m\u001b[0m\u001b[1;33m\u001b[0m\u001b[0m\n\u001b[1;32m--> 233\u001b[1;33m             \u001b[1;32mreturn\u001b[0m \u001b[0m_evaluate\u001b[0m\u001b[1;33m(\u001b[0m\u001b[0mop\u001b[0m\u001b[1;33m,\u001b[0m \u001b[0mop_str\u001b[0m\u001b[1;33m,\u001b[0m \u001b[0ma\u001b[0m\u001b[1;33m,\u001b[0m \u001b[0mb\u001b[0m\u001b[1;33m)\u001b[0m  \u001b[1;31m# type: ignore\u001b[0m\u001b[1;33m\u001b[0m\u001b[1;33m\u001b[0m\u001b[0m\n\u001b[0m\u001b[0;32m    234\u001b[0m     \u001b[1;32mreturn\u001b[0m \u001b[0m_evaluate_standard\u001b[0m\u001b[1;33m(\u001b[0m\u001b[0mop\u001b[0m\u001b[1;33m,\u001b[0m \u001b[0mop_str\u001b[0m\u001b[1;33m,\u001b[0m \u001b[0ma\u001b[0m\u001b[1;33m,\u001b[0m \u001b[0mb\u001b[0m\u001b[1;33m)\u001b[0m\u001b[1;33m\u001b[0m\u001b[1;33m\u001b[0m\u001b[0m\n",
      "\u001b[1;32mc:\\users\\jd\\appdata\\local\\programs\\python\\python38-32\\lib\\site-packages\\pandas\\core\\computation\\expressions.py\u001b[0m in \u001b[0;36m_evaluate_standard\u001b[1;34m(op, op_str, a, b)\u001b[0m\n\u001b[0;32m     67\u001b[0m     \u001b[1;32mwith\u001b[0m \u001b[0mnp\u001b[0m\u001b[1;33m.\u001b[0m\u001b[0merrstate\u001b[0m\u001b[1;33m(\u001b[0m\u001b[0mall\u001b[0m\u001b[1;33m=\u001b[0m\u001b[1;34m\"ignore\"\u001b[0m\u001b[1;33m)\u001b[0m\u001b[1;33m:\u001b[0m\u001b[1;33m\u001b[0m\u001b[1;33m\u001b[0m\u001b[0m\n\u001b[1;32m---> 68\u001b[1;33m         \u001b[1;32mreturn\u001b[0m \u001b[0mop\u001b[0m\u001b[1;33m(\u001b[0m\u001b[0ma\u001b[0m\u001b[1;33m,\u001b[0m \u001b[0mb\u001b[0m\u001b[1;33m)\u001b[0m\u001b[1;33m\u001b[0m\u001b[1;33m\u001b[0m\u001b[0m\n\u001b[0m\u001b[0;32m     69\u001b[0m \u001b[1;33m\u001b[0m\u001b[0m\n",
      "\u001b[1;31mTypeError\u001b[0m: can't multiply sequence by non-int of type 'float'",
      "\nDuring handling of the above exception, another exception occurred:\n",
      "\u001b[1;31mTypeError\u001b[0m                                 Traceback (most recent call last)",
      "\u001b[1;32m<ipython-input-387-dee194edb9c5>\u001b[0m in \u001b[0;36m<module>\u001b[1;34m\u001b[0m\n\u001b[0;32m      3\u001b[0m \u001b[0mDF_KG\u001b[0m \u001b[1;33m=\u001b[0m \u001b[0mNBA\u001b[0m\u001b[1;33m[\u001b[0m\u001b[0mNBA\u001b[0m\u001b[1;33m[\u001b[0m\u001b[1;34m'Weight'\u001b[0m\u001b[1;33m]\u001b[0m\u001b[1;33m.\u001b[0m\u001b[0mstr\u001b[0m\u001b[1;33m.\u001b[0m\u001b[0mcontains\u001b[0m\u001b[1;33m(\u001b[0m\u001b[1;34m'kg'\u001b[0m\u001b[1;33m)\u001b[0m\u001b[1;33m]\u001b[0m\u001b[1;33m\u001b[0m\u001b[1;33m\u001b[0m\u001b[0m\n\u001b[0;32m      4\u001b[0m \u001b[0mDF_KG\u001b[0m\u001b[1;33m[\u001b[0m\u001b[1;34m'Weight'\u001b[0m\u001b[1;33m]\u001b[0m \u001b[1;33m=\u001b[0m \u001b[0mDF_KG\u001b[0m\u001b[1;33m[\u001b[0m\u001b[1;34m'Weight'\u001b[0m\u001b[1;33m]\u001b[0m\u001b[1;33m.\u001b[0m\u001b[0mstr\u001b[0m\u001b[1;33m.\u001b[0m\u001b[0mreplace\u001b[0m\u001b[1;33m(\u001b[0m\u001b[1;34m'kg'\u001b[0m\u001b[1;33m,\u001b[0m\u001b[1;34m''\u001b[0m\u001b[1;33m)\u001b[0m\u001b[1;33m\u001b[0m\u001b[1;33m\u001b[0m\u001b[0m\n\u001b[1;32m----> 5\u001b[1;33m \u001b[0mDF_KG\u001b[0m\u001b[1;33m[\u001b[0m\u001b[1;34m'Weight'\u001b[0m\u001b[1;33m]\u001b[0m \u001b[1;33m=\u001b[0m \u001b[0mDF_KG\u001b[0m\u001b[1;33m[\u001b[0m\u001b[1;34m'Weight'\u001b[0m\u001b[1;33m]\u001b[0m \u001b[1;33m*\u001b[0m\u001b[1;36m2.20\u001b[0m\u001b[1;33m\u001b[0m\u001b[1;33m\u001b[0m\u001b[0m\n\u001b[0m",
      "\u001b[1;32mc:\\users\\jd\\appdata\\local\\programs\\python\\python38-32\\lib\\site-packages\\pandas\\core\\ops\\common.py\u001b[0m in \u001b[0;36mnew_method\u001b[1;34m(self, other)\u001b[0m\n\u001b[0;32m     63\u001b[0m         \u001b[0mother\u001b[0m \u001b[1;33m=\u001b[0m \u001b[0mitem_from_zerodim\u001b[0m\u001b[1;33m(\u001b[0m\u001b[0mother\u001b[0m\u001b[1;33m)\u001b[0m\u001b[1;33m\u001b[0m\u001b[1;33m\u001b[0m\u001b[0m\n\u001b[0;32m     64\u001b[0m \u001b[1;33m\u001b[0m\u001b[0m\n\u001b[1;32m---> 65\u001b[1;33m         \u001b[1;32mreturn\u001b[0m \u001b[0mmethod\u001b[0m\u001b[1;33m(\u001b[0m\u001b[0mself\u001b[0m\u001b[1;33m,\u001b[0m \u001b[0mother\u001b[0m\u001b[1;33m)\u001b[0m\u001b[1;33m\u001b[0m\u001b[1;33m\u001b[0m\u001b[0m\n\u001b[0m\u001b[0;32m     66\u001b[0m \u001b[1;33m\u001b[0m\u001b[0m\n\u001b[0;32m     67\u001b[0m     \u001b[1;32mreturn\u001b[0m \u001b[0mnew_method\u001b[0m\u001b[1;33m\u001b[0m\u001b[1;33m\u001b[0m\u001b[0m\n",
      "\u001b[1;32mc:\\users\\jd\\appdata\\local\\programs\\python\\python38-32\\lib\\site-packages\\pandas\\core\\ops\\__init__.py\u001b[0m in \u001b[0;36mwrapper\u001b[1;34m(left, right)\u001b[0m\n\u001b[0;32m    341\u001b[0m         \u001b[0mlvalues\u001b[0m \u001b[1;33m=\u001b[0m \u001b[0mextract_array\u001b[0m\u001b[1;33m(\u001b[0m\u001b[0mleft\u001b[0m\u001b[1;33m,\u001b[0m \u001b[0mextract_numpy\u001b[0m\u001b[1;33m=\u001b[0m\u001b[1;32mTrue\u001b[0m\u001b[1;33m)\u001b[0m\u001b[1;33m\u001b[0m\u001b[1;33m\u001b[0m\u001b[0m\n\u001b[0;32m    342\u001b[0m         \u001b[0mrvalues\u001b[0m \u001b[1;33m=\u001b[0m \u001b[0mextract_array\u001b[0m\u001b[1;33m(\u001b[0m\u001b[0mright\u001b[0m\u001b[1;33m,\u001b[0m \u001b[0mextract_numpy\u001b[0m\u001b[1;33m=\u001b[0m\u001b[1;32mTrue\u001b[0m\u001b[1;33m)\u001b[0m\u001b[1;33m\u001b[0m\u001b[1;33m\u001b[0m\u001b[0m\n\u001b[1;32m--> 343\u001b[1;33m         \u001b[0mresult\u001b[0m \u001b[1;33m=\u001b[0m \u001b[0marithmetic_op\u001b[0m\u001b[1;33m(\u001b[0m\u001b[0mlvalues\u001b[0m\u001b[1;33m,\u001b[0m \u001b[0mrvalues\u001b[0m\u001b[1;33m,\u001b[0m \u001b[0mop\u001b[0m\u001b[1;33m)\u001b[0m\u001b[1;33m\u001b[0m\u001b[1;33m\u001b[0m\u001b[0m\n\u001b[0m\u001b[0;32m    344\u001b[0m \u001b[1;33m\u001b[0m\u001b[0m\n\u001b[0;32m    345\u001b[0m         \u001b[1;32mreturn\u001b[0m \u001b[0mleft\u001b[0m\u001b[1;33m.\u001b[0m\u001b[0m_construct_result\u001b[0m\u001b[1;33m(\u001b[0m\u001b[0mresult\u001b[0m\u001b[1;33m,\u001b[0m \u001b[0mname\u001b[0m\u001b[1;33m=\u001b[0m\u001b[0mres_name\u001b[0m\u001b[1;33m)\u001b[0m\u001b[1;33m\u001b[0m\u001b[1;33m\u001b[0m\u001b[0m\n",
      "\u001b[1;32mc:\\users\\jd\\appdata\\local\\programs\\python\\python38-32\\lib\\site-packages\\pandas\\core\\ops\\array_ops.py\u001b[0m in \u001b[0;36marithmetic_op\u001b[1;34m(left, right, op)\u001b[0m\n\u001b[0;32m    188\u001b[0m     \u001b[1;32melse\u001b[0m\u001b[1;33m:\u001b[0m\u001b[1;33m\u001b[0m\u001b[1;33m\u001b[0m\u001b[0m\n\u001b[0;32m    189\u001b[0m         \u001b[1;32mwith\u001b[0m \u001b[0mnp\u001b[0m\u001b[1;33m.\u001b[0m\u001b[0merrstate\u001b[0m\u001b[1;33m(\u001b[0m\u001b[0mall\u001b[0m\u001b[1;33m=\u001b[0m\u001b[1;34m\"ignore\"\u001b[0m\u001b[1;33m)\u001b[0m\u001b[1;33m:\u001b[0m\u001b[1;33m\u001b[0m\u001b[1;33m\u001b[0m\u001b[0m\n\u001b[1;32m--> 190\u001b[1;33m             \u001b[0mres_values\u001b[0m \u001b[1;33m=\u001b[0m \u001b[0mna_arithmetic_op\u001b[0m\u001b[1;33m(\u001b[0m\u001b[0mlvalues\u001b[0m\u001b[1;33m,\u001b[0m \u001b[0mrvalues\u001b[0m\u001b[1;33m,\u001b[0m \u001b[0mop\u001b[0m\u001b[1;33m)\u001b[0m\u001b[1;33m\u001b[0m\u001b[1;33m\u001b[0m\u001b[0m\n\u001b[0m\u001b[0;32m    191\u001b[0m \u001b[1;33m\u001b[0m\u001b[0m\n\u001b[0;32m    192\u001b[0m     \u001b[1;32mreturn\u001b[0m \u001b[0mres_values\u001b[0m\u001b[1;33m\u001b[0m\u001b[1;33m\u001b[0m\u001b[0m\n",
      "\u001b[1;32mc:\\users\\jd\\appdata\\local\\programs\\python\\python38-32\\lib\\site-packages\\pandas\\core\\ops\\array_ops.py\u001b[0m in \u001b[0;36mna_arithmetic_op\u001b[1;34m(left, right, op, is_cmp)\u001b[0m\n\u001b[0;32m    148\u001b[0m             \u001b[1;31m#  will handle complex numbers incorrectly, see GH#32047\u001b[0m\u001b[1;33m\u001b[0m\u001b[1;33m\u001b[0m\u001b[1;33m\u001b[0m\u001b[0m\n\u001b[0;32m    149\u001b[0m             \u001b[1;32mraise\u001b[0m\u001b[1;33m\u001b[0m\u001b[1;33m\u001b[0m\u001b[0m\n\u001b[1;32m--> 150\u001b[1;33m         \u001b[0mresult\u001b[0m \u001b[1;33m=\u001b[0m \u001b[0mmasked_arith_op\u001b[0m\u001b[1;33m(\u001b[0m\u001b[0mleft\u001b[0m\u001b[1;33m,\u001b[0m \u001b[0mright\u001b[0m\u001b[1;33m,\u001b[0m \u001b[0mop\u001b[0m\u001b[1;33m)\u001b[0m\u001b[1;33m\u001b[0m\u001b[1;33m\u001b[0m\u001b[0m\n\u001b[0m\u001b[0;32m    151\u001b[0m \u001b[1;33m\u001b[0m\u001b[0m\n\u001b[0;32m    152\u001b[0m     \u001b[1;32mif\u001b[0m \u001b[0mis_cmp\u001b[0m \u001b[1;32mand\u001b[0m \u001b[1;33m(\u001b[0m\u001b[0mis_scalar\u001b[0m\u001b[1;33m(\u001b[0m\u001b[0mresult\u001b[0m\u001b[1;33m)\u001b[0m \u001b[1;32mor\u001b[0m \u001b[0mresult\u001b[0m \u001b[1;32mis\u001b[0m \u001b[0mNotImplemented\u001b[0m\u001b[1;33m)\u001b[0m\u001b[1;33m:\u001b[0m\u001b[1;33m\u001b[0m\u001b[1;33m\u001b[0m\u001b[0m\n",
      "\u001b[1;32mc:\\users\\jd\\appdata\\local\\programs\\python\\python38-32\\lib\\site-packages\\pandas\\core\\ops\\array_ops.py\u001b[0m in \u001b[0;36mmasked_arith_op\u001b[1;34m(x, y, op)\u001b[0m\n\u001b[0;32m    110\u001b[0m         \u001b[1;32mif\u001b[0m \u001b[0mmask\u001b[0m\u001b[1;33m.\u001b[0m\u001b[0many\u001b[0m\u001b[1;33m(\u001b[0m\u001b[1;33m)\u001b[0m\u001b[1;33m:\u001b[0m\u001b[1;33m\u001b[0m\u001b[1;33m\u001b[0m\u001b[0m\n\u001b[0;32m    111\u001b[0m             \u001b[1;32mwith\u001b[0m \u001b[0mnp\u001b[0m\u001b[1;33m.\u001b[0m\u001b[0merrstate\u001b[0m\u001b[1;33m(\u001b[0m\u001b[0mall\u001b[0m\u001b[1;33m=\u001b[0m\u001b[1;34m\"ignore\"\u001b[0m\u001b[1;33m)\u001b[0m\u001b[1;33m:\u001b[0m\u001b[1;33m\u001b[0m\u001b[1;33m\u001b[0m\u001b[0m\n\u001b[1;32m--> 112\u001b[1;33m                 \u001b[0mresult\u001b[0m\u001b[1;33m[\u001b[0m\u001b[0mmask\u001b[0m\u001b[1;33m]\u001b[0m \u001b[1;33m=\u001b[0m \u001b[0mop\u001b[0m\u001b[1;33m(\u001b[0m\u001b[0mxrav\u001b[0m\u001b[1;33m[\u001b[0m\u001b[0mmask\u001b[0m\u001b[1;33m]\u001b[0m\u001b[1;33m,\u001b[0m \u001b[0my\u001b[0m\u001b[1;33m)\u001b[0m\u001b[1;33m\u001b[0m\u001b[1;33m\u001b[0m\u001b[0m\n\u001b[0m\u001b[0;32m    113\u001b[0m \u001b[1;33m\u001b[0m\u001b[0m\n\u001b[0;32m    114\u001b[0m     \u001b[0mresult\u001b[0m\u001b[1;33m,\u001b[0m \u001b[0m_\u001b[0m \u001b[1;33m=\u001b[0m \u001b[0mmaybe_upcast_putmask\u001b[0m\u001b[1;33m(\u001b[0m\u001b[0mresult\u001b[0m\u001b[1;33m,\u001b[0m \u001b[1;33m~\u001b[0m\u001b[0mmask\u001b[0m\u001b[1;33m,\u001b[0m \u001b[0mnp\u001b[0m\u001b[1;33m.\u001b[0m\u001b[0mnan\u001b[0m\u001b[1;33m)\u001b[0m\u001b[1;33m\u001b[0m\u001b[1;33m\u001b[0m\u001b[0m\n",
      "\u001b[1;31mTypeError\u001b[0m: can't multiply sequence by non-int of type 'float'"
     ]
    }
   ],
   "source": [
    "## Opero de forma similar al caso anterior\n",
    "\n",
    "DF_KG = NBA[NBA['Weight'].str.contains('kg')]\n",
    "DF_KG['Weight'] = DF_KG['Weight'].str.replace('kg','')\n",
    "DF_KG['Weight'] = DF_KG['Weight'] *2.20"
   ]
  },
  {
   "cell_type": "code",
   "execution_count": 388,
   "metadata": {},
   "outputs": [
    {
     "name": "stderr",
     "output_type": "stream",
     "text": [
      "<ipython-input-388-fcb06e84ddf7>:2: SettingWithCopyWarning: \n",
      "A value is trying to be set on a copy of a slice from a DataFrame.\n",
      "Try using .loc[row_indexer,col_indexer] = value instead\n",
      "\n",
      "See the caveats in the documentation: https://pandas.pydata.org/pandas-docs/stable/user_guide/indexing.html#returning-a-view-versus-a-copy\n",
      "  DF_LB['Weight'] = DF_LB['Weight'].astype('int')\n",
      "<ipython-input-388-fcb06e84ddf7>:3: SettingWithCopyWarning: \n",
      "A value is trying to be set on a copy of a slice from a DataFrame.\n",
      "Try using .loc[row_indexer,col_indexer] = value instead\n",
      "\n",
      "See the caveats in the documentation: https://pandas.pydata.org/pandas-docs/stable/user_guide/indexing.html#returning-a-view-versus-a-copy\n",
      "  DF_LB['Weight'] = DF_LB['Weight']\n"
     ]
    }
   ],
   "source": [
    "DF_LB = NBA[NBA['Weight'].str.contains('kg')==False]\n",
    "DF_LB['Weight'] = DF_LB['Weight'].astype('int')"
   ]
  },
  {
   "cell_type": "code",
   "execution_count": 389,
   "metadata": {},
   "outputs": [],
   "source": [
    "NBA = pd.concat([DF_LB,DF_KG])"
   ]
  },
  {
   "cell_type": "code",
   "execution_count": 390,
   "metadata": {},
   "outputs": [
    {
     "data": {
      "text/html": [
       "<div>\n",
       "<style scoped>\n",
       "    .dataframe tbody tr th:only-of-type {\n",
       "        vertical-align: middle;\n",
       "    }\n",
       "\n",
       "    .dataframe tbody tr th {\n",
       "        vertical-align: top;\n",
       "    }\n",
       "\n",
       "    .dataframe thead th {\n",
       "        text-align: right;\n",
       "    }\n",
       "</style>\n",
       "<table border=\"1\" class=\"dataframe\">\n",
       "  <thead>\n",
       "    <tr style=\"text-align: right;\">\n",
       "      <th></th>\n",
       "      <th>Age</th>\n",
       "      <th>Date</th>\n",
       "      <th>Draft Year</th>\n",
       "      <th>Player</th>\n",
       "      <th>Position</th>\n",
       "      <th>Season</th>\n",
       "      <th>Season short</th>\n",
       "      <th>Seasons in league</th>\n",
       "      <th>Team</th>\n",
       "      <th>Weight</th>\n",
       "      <th>Real_value</th>\n",
       "      <th>Conference</th>\n",
       "      <th>Tiempo</th>\n",
       "      <th>Height</th>\n",
       "    </tr>\n",
       "  </thead>\n",
       "  <tbody>\n",
       "    <tr>\n",
       "      <th>0</th>\n",
       "      <td>29</td>\n",
       "      <td>Apr 14, 1985</td>\n",
       "      <td>1978</td>\n",
       "      <td>Micheal Ray Richardson</td>\n",
       "      <td>PG</td>\n",
       "      <td>1984-1985</td>\n",
       "      <td>1985</td>\n",
       "      <td>6</td>\n",
       "      <td>New Jersey Nets</td>\n",
       "      <td>189</td>\n",
       "      <td>1.0</td>\n",
       "      <td>East</td>\n",
       "      <td>7</td>\n",
       "      <td>195.58</td>\n",
       "    </tr>\n",
       "    <tr>\n",
       "      <th>1</th>\n",
       "      <td>23</td>\n",
       "      <td>Apr 7, 1985</td>\n",
       "      <td>1982</td>\n",
       "      <td>Derek Smith</td>\n",
       "      <td>SG</td>\n",
       "      <td>1984-1985</td>\n",
       "      <td>1985</td>\n",
       "      <td>2</td>\n",
       "      <td>Los Angeles Clippers</td>\n",
       "      <td>205</td>\n",
       "      <td>1.0</td>\n",
       "      <td>West</td>\n",
       "      <td>3</td>\n",
       "      <td>198.12</td>\n",
       "    </tr>\n",
       "    <tr>\n",
       "      <th>2</th>\n",
       "      <td>23</td>\n",
       "      <td>Apr 7, 1985</td>\n",
       "      <td>1982</td>\n",
       "      <td>Derek Smith</td>\n",
       "      <td>SG</td>\n",
       "      <td>1984-1985</td>\n",
       "      <td>1985</td>\n",
       "      <td>2</td>\n",
       "      <td>Los Angeles Clippers</td>\n",
       "      <td>205</td>\n",
       "      <td>1.0</td>\n",
       "      <td>East</td>\n",
       "      <td>3</td>\n",
       "      <td>198.12</td>\n",
       "    </tr>\n",
       "    <tr>\n",
       "      <th>3</th>\n",
       "      <td>28</td>\n",
       "      <td>Apr 1, 1985</td>\n",
       "      <td>1979</td>\n",
       "      <td>Calvin Natt</td>\n",
       "      <td>F</td>\n",
       "      <td>1984-1985</td>\n",
       "      <td>1985</td>\n",
       "      <td>5</td>\n",
       "      <td>Denver Nuggets</td>\n",
       "      <td>220</td>\n",
       "      <td>1.0</td>\n",
       "      <td>West</td>\n",
       "      <td>6</td>\n",
       "      <td>198.12</td>\n",
       "    </tr>\n",
       "    <tr>\n",
       "      <th>4</th>\n",
       "      <td>37</td>\n",
       "      <td>Mar 24, 1985</td>\n",
       "      <td>1969</td>\n",
       "      <td>Kareem Abdul-Jabbar</td>\n",
       "      <td>C</td>\n",
       "      <td>1984-1985</td>\n",
       "      <td>1985</td>\n",
       "      <td>15</td>\n",
       "      <td>Los Angeles Lakers</td>\n",
       "      <td>225</td>\n",
       "      <td>1.0</td>\n",
       "      <td>West</td>\n",
       "      <td>16</td>\n",
       "      <td>218.44</td>\n",
       "    </tr>\n",
       "    <tr>\n",
       "      <th>...</th>\n",
       "      <td>...</td>\n",
       "      <td>...</td>\n",
       "      <td>...</td>\n",
       "      <td>...</td>\n",
       "      <td>...</td>\n",
       "      <td>...</td>\n",
       "      <td>...</td>\n",
       "      <td>...</td>\n",
       "      <td>...</td>\n",
       "      <td>...</td>\n",
       "      <td>...</td>\n",
       "      <td>...</td>\n",
       "      <td>...</td>\n",
       "      <td>...</td>\n",
       "    </tr>\n",
       "    <tr>\n",
       "      <th>1179</th>\n",
       "      <td>28</td>\n",
       "      <td>Nov 6, 2017</td>\n",
       "      <td>2009</td>\n",
       "      <td>James Harden</td>\n",
       "      <td>SG</td>\n",
       "      <td>2017-2018</td>\n",
       "      <td>2018</td>\n",
       "      <td>8</td>\n",
       "      <td>Houston Rockets</td>\n",
       "      <td>100</td>\n",
       "      <td>0.5</td>\n",
       "      <td>West</td>\n",
       "      <td>9</td>\n",
       "      <td>196</td>\n",
       "    </tr>\n",
       "    <tr>\n",
       "      <th>1180</th>\n",
       "      <td>25</td>\n",
       "      <td>Oct 30, 2017</td>\n",
       "      <td>2013</td>\n",
       "      <td>Victor Oladipo</td>\n",
       "      <td>G</td>\n",
       "      <td>2017-2018</td>\n",
       "      <td>2018</td>\n",
       "      <td>4</td>\n",
       "      <td>Indiana Pacers</td>\n",
       "      <td>95</td>\n",
       "      <td>0.5</td>\n",
       "      <td>East</td>\n",
       "      <td>5</td>\n",
       "      <td>193</td>\n",
       "    </tr>\n",
       "    <tr>\n",
       "      <th>1181</th>\n",
       "      <td>27</td>\n",
       "      <td>Oct 30, 2017</td>\n",
       "      <td>2010</td>\n",
       "      <td>DeMarcus Cousins</td>\n",
       "      <td>C</td>\n",
       "      <td>2017-2018</td>\n",
       "      <td>2018</td>\n",
       "      <td>7</td>\n",
       "      <td>New Orleans Pelicans</td>\n",
       "      <td>122</td>\n",
       "      <td>0.5</td>\n",
       "      <td>West</td>\n",
       "      <td>8</td>\n",
       "      <td>211</td>\n",
       "    </tr>\n",
       "    <tr>\n",
       "      <th>1182</th>\n",
       "      <td>23</td>\n",
       "      <td>Oct 23, 2017</td>\n",
       "      <td>2013</td>\n",
       "      <td>Giannis Antetokounmpo</td>\n",
       "      <td>F</td>\n",
       "      <td>2017-2018</td>\n",
       "      <td>2018</td>\n",
       "      <td>4</td>\n",
       "      <td>Milwaukee Bucks</td>\n",
       "      <td>101</td>\n",
       "      <td>0.5</td>\n",
       "      <td>East</td>\n",
       "      <td>5</td>\n",
       "      <td>211</td>\n",
       "    </tr>\n",
       "    <tr>\n",
       "      <th>1183</th>\n",
       "      <td>28</td>\n",
       "      <td>Oct 23, 2017</td>\n",
       "      <td>2009</td>\n",
       "      <td>James Harden</td>\n",
       "      <td>SG</td>\n",
       "      <td>2017-2018</td>\n",
       "      <td>2018</td>\n",
       "      <td>8</td>\n",
       "      <td>Houston Rockets</td>\n",
       "      <td>100</td>\n",
       "      <td>0.5</td>\n",
       "      <td>West</td>\n",
       "      <td>9</td>\n",
       "      <td>196</td>\n",
       "    </tr>\n",
       "  </tbody>\n",
       "</table>\n",
       "<p>1184 rows × 14 columns</p>\n",
       "</div>"
      ],
      "text/plain": [
       "      Age          Date  Draft Year                  Player Position  \\\n",
       "0      29  Apr 14, 1985        1978  Micheal Ray Richardson       PG   \n",
       "1      23   Apr 7, 1985        1982             Derek Smith       SG   \n",
       "2      23   Apr 7, 1985        1982             Derek Smith       SG   \n",
       "3      28   Apr 1, 1985        1979             Calvin Natt        F   \n",
       "4      37  Mar 24, 1985        1969     Kareem Abdul-Jabbar        C   \n",
       "...   ...           ...         ...                     ...      ...   \n",
       "1179   28   Nov 6, 2017        2009            James Harden       SG   \n",
       "1180   25  Oct 30, 2017        2013          Victor Oladipo        G   \n",
       "1181   27  Oct 30, 2017        2010        DeMarcus Cousins        C   \n",
       "1182   23  Oct 23, 2017        2013   Giannis Antetokounmpo        F   \n",
       "1183   28  Oct 23, 2017        2009            James Harden       SG   \n",
       "\n",
       "         Season  Season short  Seasons in league                  Team Weight  \\\n",
       "0     1984-1985          1985                  6       New Jersey Nets    189   \n",
       "1     1984-1985          1985                  2  Los Angeles Clippers    205   \n",
       "2     1984-1985          1985                  2  Los Angeles Clippers    205   \n",
       "3     1984-1985          1985                  5        Denver Nuggets    220   \n",
       "4     1984-1985          1985                 15    Los Angeles Lakers    225   \n",
       "...         ...           ...                ...                   ...    ...   \n",
       "1179  2017-2018          2018                  8       Houston Rockets    100   \n",
       "1180  2017-2018          2018                  4        Indiana Pacers     95   \n",
       "1181  2017-2018          2018                  7  New Orleans Pelicans    122   \n",
       "1182  2017-2018          2018                  4       Milwaukee Bucks    101   \n",
       "1183  2017-2018          2018                  8       Houston Rockets    100   \n",
       "\n",
       "      Real_value Conference  Tiempo  Height  \n",
       "0            1.0       East       7  195.58  \n",
       "1            1.0       West       3  198.12  \n",
       "2            1.0       East       3  198.12  \n",
       "3            1.0       West       6  198.12  \n",
       "4            1.0       West      16  218.44  \n",
       "...          ...        ...     ...     ...  \n",
       "1179         0.5       West       9     196  \n",
       "1180         0.5       East       5     193  \n",
       "1181         0.5       West       8     211  \n",
       "1182         0.5       East       5     211  \n",
       "1183         0.5       West       9     196  \n",
       "\n",
       "[1184 rows x 14 columns]"
      ]
     },
     "execution_count": 390,
     "metadata": {},
     "output_type": "execute_result"
    }
   ],
   "source": [
    "NBA"
   ]
  },
  {
   "cell_type": "markdown",
   "metadata": {},
   "source": [
    "# 4 Información sobre posiciones en el campo y equipos.\n",
    "#### 4.1 Fusionar las categorias de posición en el campo F,F-C y FC en la categoría genérica Forward. Fusionar las categorias G,G-F y GF en la categoria genérica Guard. Renombrar la categoría ‘PG’ como ‘Point Guard’, ‘SG’ como ‘Shooting Guard’, ‘SF’ como ‘Small Forward’, ‘PF’ como ‘Power Forward’ y ‘C’ como ‘Center’."
   ]
  },
  {
   "cell_type": "code",
   "execution_count": 391,
   "metadata": {},
   "outputs": [],
   "source": [
    "NBA.loc[(NBA['Position']=='F') | (NBA['Position']=='F-C') | (NBA['Position']=='FC'),'Position'] = 'Forward'\n",
    "NBA.loc[(NBA['Position']=='G') | (NBA['Position']=='GF'),'Position'] = 'Guard'\n",
    "NBA.loc[NBA['Position']=='PG','Position'] = 'Point Guard'\n",
    "NBA.loc[NBA['Position']=='SG','Position'] = 'Shooting Guard'\n",
    "NBA.loc[NBA['Position']=='SF','Position'] = 'Small Forward'\n",
    "NBA.loc[NBA['Position']=='PF','Position'] = 'Power Forward'\n",
    "NBA.loc[NBA['Position']=='C','Position'] = 'Center'"
   ]
  },
  {
   "cell_type": "code",
   "execution_count": 392,
   "metadata": {},
   "outputs": [
    {
     "data": {
      "text/plain": [
       "array(['Point Guard', 'Shooting Guard', 'Forward', 'Center',\n",
       "       'Small Forward', 'Power Forward', 'Guard', 'G-F'], dtype=object)"
      ]
     },
     "execution_count": 392,
     "metadata": {},
     "output_type": "execute_result"
    }
   ],
   "source": [
    "NBA['Position'].unique()"
   ]
  },
  {
   "cell_type": "markdown",
   "metadata": {},
   "source": [
    "#### 4.2 ¿En que posición ha sido más veces los jugadores de la semana nombrados?"
   ]
  },
  {
   "cell_type": "code",
   "execution_count": 393,
   "metadata": {},
   "outputs": [
    {
     "data": {
      "text/html": [
       "<div>\n",
       "<style scoped>\n",
       "    .dataframe tbody tr th:only-of-type {\n",
       "        vertical-align: middle;\n",
       "    }\n",
       "\n",
       "    .dataframe tbody tr th {\n",
       "        vertical-align: top;\n",
       "    }\n",
       "\n",
       "    .dataframe thead th {\n",
       "        text-align: right;\n",
       "    }\n",
       "</style>\n",
       "<table border=\"1\" class=\"dataframe\">\n",
       "  <thead>\n",
       "    <tr style=\"text-align: right;\">\n",
       "      <th></th>\n",
       "      <th>Position</th>\n",
       "    </tr>\n",
       "  </thead>\n",
       "  <tbody>\n",
       "    <tr>\n",
       "      <th>Guard</th>\n",
       "      <td>230</td>\n",
       "    </tr>\n",
       "  </tbody>\n",
       "</table>\n",
       "</div>"
      ],
      "text/plain": [
       "       Position\n",
       "Guard       230"
      ]
     },
     "execution_count": 393,
     "metadata": {},
     "output_type": "execute_result"
    }
   ],
   "source": [
    "NBAPOSITION = pd.DataFrame(NBA['Position'].value_counts())\n",
    "NBAPOSITION[NBAPOSITION['Position']==NBAPOSITION['Position'].max()]"
   ]
  },
  {
   "cell_type": "markdown",
   "metadata": {},
   "source": [
    "#### 4.3 ¿Cuántos equipos distintos hay?"
   ]
  },
  {
   "cell_type": "code",
   "execution_count": 394,
   "metadata": {},
   "outputs": [
    {
     "data": {
      "text/plain": [
       "35"
      ]
     },
     "execution_count": 394,
     "metadata": {},
     "output_type": "execute_result"
    }
   ],
   "source": [
    "len(NBA['Team'].unique())"
   ]
  },
  {
   "cell_type": "markdown",
   "metadata": {},
   "source": [
    "#### 4.4 ¿Cuáles son los cinco equipos que más veces han sido nombrados sus jugadores como jugador de la semana?"
   ]
  },
  {
   "cell_type": "code",
   "execution_count": 395,
   "metadata": {},
   "outputs": [
    {
     "data": {
      "text/html": [
       "<div>\n",
       "<style scoped>\n",
       "    .dataframe tbody tr th:only-of-type {\n",
       "        vertical-align: middle;\n",
       "    }\n",
       "\n",
       "    .dataframe tbody tr th {\n",
       "        vertical-align: top;\n",
       "    }\n",
       "\n",
       "    .dataframe thead th {\n",
       "        text-align: right;\n",
       "    }\n",
       "</style>\n",
       "<table border=\"1\" class=\"dataframe\">\n",
       "  <thead>\n",
       "    <tr style=\"text-align: right;\">\n",
       "      <th></th>\n",
       "      <th>Team</th>\n",
       "    </tr>\n",
       "  </thead>\n",
       "  <tbody>\n",
       "    <tr>\n",
       "      <th>Los Angeles Lakers</th>\n",
       "      <td>71</td>\n",
       "    </tr>\n",
       "    <tr>\n",
       "      <th>San Antonio Spurs</th>\n",
       "      <td>61</td>\n",
       "    </tr>\n",
       "    <tr>\n",
       "      <th>Cleveland Cavaliers</th>\n",
       "      <td>59</td>\n",
       "    </tr>\n",
       "    <tr>\n",
       "      <th>Miami Heat</th>\n",
       "      <td>57</td>\n",
       "    </tr>\n",
       "    <tr>\n",
       "      <th>Houston Rockets</th>\n",
       "      <td>56</td>\n",
       "    </tr>\n",
       "  </tbody>\n",
       "</table>\n",
       "</div>"
      ],
      "text/plain": [
       "                     Team\n",
       "Los Angeles Lakers     71\n",
       "San Antonio Spurs      61\n",
       "Cleveland Cavaliers    59\n",
       "Miami Heat             57\n",
       "Houston Rockets        56"
      ]
     },
     "execution_count": 395,
     "metadata": {},
     "output_type": "execute_result"
    }
   ],
   "source": [
    "NBATEAM = pd.DataFrame(NBA['Team'].value_counts())\n",
    "NBATEAM.iloc[0:5]"
   ]
  },
  {
   "cell_type": "markdown",
   "metadata": {},
   "source": [
    "# 5 Información sobre jugadores. Estadísticos descriptivos."
   ]
  },
  {
   "cell_type": "markdown",
   "metadata": {},
   "source": [
    "#### 5.1 Crear una base datos denominada nba.unique en la que no se repita el nombre de ningún jugador.Trabajar a partir de ahora con esta base de datos."
   ]
  },
  {
   "cell_type": "code",
   "execution_count": 396,
   "metadata": {},
   "outputs": [],
   "source": [
    "Players = NBA[['Player','Draft Year','Height','Position','Weight']].drop_duplicates(subset='Player')"
   ]
  },
  {
   "cell_type": "markdown",
   "metadata": {},
   "source": [
    "#### 5.2 Listar el nombre de los 10 jugadores más bajos que han sido nombrados alguna vez jugadores de la semana. No debe repetirse ningún nombre."
   ]
  },
  {
   "cell_type": "code",
   "execution_count": 397,
   "metadata": {},
   "outputs": [
    {
     "data": {
      "text/html": [
       "<div>\n",
       "<style scoped>\n",
       "    .dataframe tbody tr th:only-of-type {\n",
       "        vertical-align: middle;\n",
       "    }\n",
       "\n",
       "    .dataframe tbody tr th {\n",
       "        vertical-align: top;\n",
       "    }\n",
       "\n",
       "    .dataframe thead th {\n",
       "        text-align: right;\n",
       "    }\n",
       "</style>\n",
       "<table border=\"1\" class=\"dataframe\">\n",
       "  <thead>\n",
       "    <tr style=\"text-align: right;\">\n",
       "      <th></th>\n",
       "      <th>Player</th>\n",
       "      <th>Draft Year</th>\n",
       "      <th>Height</th>\n",
       "      <th>Position</th>\n",
       "      <th>Weight</th>\n",
       "    </tr>\n",
       "  </thead>\n",
       "  <tbody>\n",
       "    <tr>\n",
       "      <th>7</th>\n",
       "      <td>Sleepy Floyd</td>\n",
       "      <td>1982</td>\n",
       "      <td>190.5</td>\n",
       "      <td>Point Guard</td>\n",
       "      <td>170</td>\n",
       "    </tr>\n",
       "    <tr>\n",
       "      <th>6</th>\n",
       "      <td>Darrell Griffith</td>\n",
       "      <td>1980</td>\n",
       "      <td>193.04</td>\n",
       "      <td>Shooting Guard</td>\n",
       "      <td>190</td>\n",
       "    </tr>\n",
       "    <tr>\n",
       "      <th>1</th>\n",
       "      <td>Derek Smith</td>\n",
       "      <td>1982</td>\n",
       "      <td>198.12</td>\n",
       "      <td>Shooting Guard</td>\n",
       "      <td>205</td>\n",
       "    </tr>\n",
       "    <tr>\n",
       "      <th>3</th>\n",
       "      <td>Calvin Natt</td>\n",
       "      <td>1979</td>\n",
       "      <td>198.12</td>\n",
       "      <td>Forward</td>\n",
       "      <td>220</td>\n",
       "    </tr>\n",
       "    <tr>\n",
       "      <th>8</th>\n",
       "      <td>Mark Aguirre</td>\n",
       "      <td>1981</td>\n",
       "      <td>198.12</td>\n",
       "      <td>Small Forward</td>\n",
       "      <td>232</td>\n",
       "    </tr>\n",
       "    <tr>\n",
       "      <th>10</th>\n",
       "      <td>Dominique Wilkins</td>\n",
       "      <td>1982</td>\n",
       "      <td>200.66</td>\n",
       "      <td>Small Forward</td>\n",
       "      <td>200</td>\n",
       "    </tr>\n",
       "    <tr>\n",
       "      <th>5</th>\n",
       "      <td>Larry Bird</td>\n",
       "      <td>1978</td>\n",
       "      <td>205.74</td>\n",
       "      <td>Small Forward</td>\n",
       "      <td>220</td>\n",
       "    </tr>\n",
       "    <tr>\n",
       "      <th>9</th>\n",
       "      <td>Magic Johnson</td>\n",
       "      <td>1979</td>\n",
       "      <td>205.74</td>\n",
       "      <td>Point Guard</td>\n",
       "      <td>255</td>\n",
       "    </tr>\n",
       "    <tr>\n",
       "      <th>4</th>\n",
       "      <td>Kareem Abdul-Jabbar</td>\n",
       "      <td>1969</td>\n",
       "      <td>218.44</td>\n",
       "      <td>Center</td>\n",
       "      <td>225</td>\n",
       "    </tr>\n",
       "  </tbody>\n",
       "</table>\n",
       "</div>"
      ],
      "text/plain": [
       "                 Player  Draft Year  Height        Position Weight\n",
       "7          Sleepy Floyd        1982   190.5     Point Guard    170\n",
       "6      Darrell Griffith        1980  193.04  Shooting Guard    190\n",
       "1           Derek Smith        1982  198.12  Shooting Guard    205\n",
       "3           Calvin Natt        1979  198.12         Forward    220\n",
       "8          Mark Aguirre        1981  198.12   Small Forward    232\n",
       "10    Dominique Wilkins        1982  200.66   Small Forward    200\n",
       "5            Larry Bird        1978  205.74   Small Forward    220\n",
       "9         Magic Johnson        1979  205.74     Point Guard    255\n",
       "4   Kareem Abdul-Jabbar        1969  218.44          Center    225"
      ]
     },
     "execution_count": 397,
     "metadata": {},
     "output_type": "execute_result"
    }
   ],
   "source": [
    "Players.iloc[1:10].sort_values(by='Height',ascending=True)"
   ]
  },
  {
   "cell_type": "markdown",
   "metadata": {},
   "source": [
    "#### 5.3 Listar el nombre de los 10 jugadores más altos que han sido nombrados y mostrar su altura. No debe repetirse ningún nombre."
   ]
  },
  {
   "cell_type": "code",
   "execution_count": 398,
   "metadata": {},
   "outputs": [
    {
     "data": {
      "text/html": [
       "<div>\n",
       "<style scoped>\n",
       "    .dataframe tbody tr th:only-of-type {\n",
       "        vertical-align: middle;\n",
       "    }\n",
       "\n",
       "    .dataframe tbody tr th {\n",
       "        vertical-align: top;\n",
       "    }\n",
       "\n",
       "    .dataframe thead th {\n",
       "        text-align: right;\n",
       "    }\n",
       "</style>\n",
       "<table border=\"1\" class=\"dataframe\">\n",
       "  <thead>\n",
       "    <tr style=\"text-align: right;\">\n",
       "      <th></th>\n",
       "      <th>Player</th>\n",
       "      <th>Draft Year</th>\n",
       "      <th>Height</th>\n",
       "      <th>Position</th>\n",
       "      <th>Weight</th>\n",
       "    </tr>\n",
       "  </thead>\n",
       "  <tbody>\n",
       "    <tr>\n",
       "      <th>4</th>\n",
       "      <td>Kareem Abdul-Jabbar</td>\n",
       "      <td>1969</td>\n",
       "      <td>218.44</td>\n",
       "      <td>Center</td>\n",
       "      <td>225</td>\n",
       "    </tr>\n",
       "    <tr>\n",
       "      <th>5</th>\n",
       "      <td>Larry Bird</td>\n",
       "      <td>1978</td>\n",
       "      <td>205.74</td>\n",
       "      <td>Small Forward</td>\n",
       "      <td>220</td>\n",
       "    </tr>\n",
       "    <tr>\n",
       "      <th>9</th>\n",
       "      <td>Magic Johnson</td>\n",
       "      <td>1979</td>\n",
       "      <td>205.74</td>\n",
       "      <td>Point Guard</td>\n",
       "      <td>255</td>\n",
       "    </tr>\n",
       "    <tr>\n",
       "      <th>10</th>\n",
       "      <td>Dominique Wilkins</td>\n",
       "      <td>1982</td>\n",
       "      <td>200.66</td>\n",
       "      <td>Small Forward</td>\n",
       "      <td>200</td>\n",
       "    </tr>\n",
       "    <tr>\n",
       "      <th>1</th>\n",
       "      <td>Derek Smith</td>\n",
       "      <td>1982</td>\n",
       "      <td>198.12</td>\n",
       "      <td>Shooting Guard</td>\n",
       "      <td>205</td>\n",
       "    </tr>\n",
       "    <tr>\n",
       "      <th>3</th>\n",
       "      <td>Calvin Natt</td>\n",
       "      <td>1979</td>\n",
       "      <td>198.12</td>\n",
       "      <td>Forward</td>\n",
       "      <td>220</td>\n",
       "    </tr>\n",
       "    <tr>\n",
       "      <th>8</th>\n",
       "      <td>Mark Aguirre</td>\n",
       "      <td>1981</td>\n",
       "      <td>198.12</td>\n",
       "      <td>Small Forward</td>\n",
       "      <td>232</td>\n",
       "    </tr>\n",
       "    <tr>\n",
       "      <th>6</th>\n",
       "      <td>Darrell Griffith</td>\n",
       "      <td>1980</td>\n",
       "      <td>193.04</td>\n",
       "      <td>Shooting Guard</td>\n",
       "      <td>190</td>\n",
       "    </tr>\n",
       "    <tr>\n",
       "      <th>7</th>\n",
       "      <td>Sleepy Floyd</td>\n",
       "      <td>1982</td>\n",
       "      <td>190.5</td>\n",
       "      <td>Point Guard</td>\n",
       "      <td>170</td>\n",
       "    </tr>\n",
       "  </tbody>\n",
       "</table>\n",
       "</div>"
      ],
      "text/plain": [
       "                 Player  Draft Year  Height        Position Weight\n",
       "4   Kareem Abdul-Jabbar        1969  218.44          Center    225\n",
       "5            Larry Bird        1978  205.74   Small Forward    220\n",
       "9         Magic Johnson        1979  205.74     Point Guard    255\n",
       "10    Dominique Wilkins        1982  200.66   Small Forward    200\n",
       "1           Derek Smith        1982  198.12  Shooting Guard    205\n",
       "3           Calvin Natt        1979  198.12         Forward    220\n",
       "8          Mark Aguirre        1981  198.12   Small Forward    232\n",
       "6      Darrell Griffith        1980  193.04  Shooting Guard    190\n",
       "7          Sleepy Floyd        1982   190.5     Point Guard    170"
      ]
     },
     "execution_count": 398,
     "metadata": {},
     "output_type": "execute_result"
    }
   ],
   "source": [
    "Players.iloc[1:10].sort_values(by='Height',ascending=False)"
   ]
  },
  {
   "cell_type": "markdown",
   "metadata": {},
   "source": [
    "# 6 Eliminación de outliers."
   ]
  },
  {
   "cell_type": "markdown",
   "metadata": {},
   "source": [
    "#### 6.1 Eliminar los outliers de la variable peso (Weight) y guardar en un data frame nba.avg"
   ]
  },
  {
   "cell_type": "code",
   "execution_count": 399,
   "metadata": {},
   "outputs": [
    {
     "data": {
      "text/plain": [
       "<AxesSubplot:ylabel='Weight'>"
      ]
     },
     "execution_count": 399,
     "metadata": {},
     "output_type": "execute_result"
    },
    {
     "data": {
      "image/png": "[encoded data removed]",
      "text/plain": [
       "<Figure size 432x288 with 1 Axes>"
      ]
     },
     "metadata": {
      "needs_background": "light"
     },
     "output_type": "display_data"
    }
   ],
   "source": [
    "import seaborn as sns\n",
    "import numpy as np\n",
    "Players['Weight'] = pd.to_numeric(Players['Weight'], downcast='float') ## convierto en numerico\n",
    "sns.boxplot(y=Players['Weight'])\n"
   ]
  },
  {
   "cell_type": "code",
   "execution_count": 400,
   "metadata": {},
   "outputs": [
    {
     "data": {
      "text/plain": [
       "0       189.0\n",
       "1       205.0\n",
       "3       220.0\n",
       "4       225.0\n",
       "5       220.0\n",
       "        ...  \n",
       "1075    208.0\n",
       "1077    221.0\n",
       "1085    200.0\n",
       "1087    279.0\n",
       "1097    120.0\n",
       "Name: Weight, Length: 262, dtype: float32"
      ]
     },
     "execution_count": 400,
     "metadata": {},
     "output_type": "execute_result"
    }
   ],
   "source": [
    "# Calculo los outliers\n",
    "import numpy as np\n",
    "Q1,Q3= np.percentile(Players['Weight'],[25,75]) ##Calculo los Q1 y Q2\n",
    "IQR = Q3-Q1\n",
    "OLBajo = Q1 - (1.5*IQR)\n",
    "OLAlto = Q3 + (1.5*IQR)\n",
    "Pesossinoutliers = Players[(Players['Weight']>OLBajo )&(Players['Weight']<OLAlto)]['Weight']\n",
    "Pesossinoutliers"
   ]
  },
  {
   "cell_type": "code",
   "execution_count": 497,
   "metadata": {},
   "outputs": [
    {
     "data": {
      "text/plain": [
       "<AxesSubplot:ylabel='Weight'>"
      ]
     },
     "execution_count": 497,
     "metadata": {},
     "output_type": "execute_result"
    },
    {
     "data": {
      "image/png": "[encoded data removed]",
      "text/plain": [
       "<Figure size 432x288 with 1 Axes>"
      ]
     },
     "metadata": {
      "needs_background": "light"
     },
     "output_type": "display_data"
    }
   ],
   "source": [
    "sns.boxplot(y=Pesossinoutliers)"
   ]
  },
  {
   "cell_type": "markdown",
   "metadata": {},
   "source": [
    "#### 6.2 Comparar los boxplots de los datos originales en nba.unique y de los datos del peso de nba.avg"
   ]
  },
  {
   "cell_type": "code",
   "execution_count": 498,
   "metadata": {},
   "outputs": [
    {
     "data": {
      "text/plain": [
       "<AxesSubplot:ylabel='Weight'>"
      ]
     },
     "execution_count": 498,
     "metadata": {},
     "output_type": "execute_result"
    },
    {
     "data": {
      "image/png": "[encoded data removed]",
      "text/plain": [
       "<Figure size 432x288 with 1 Axes>"
      ]
     },
     "metadata": {
      "needs_background": "light"
     },
     "output_type": "display_data"
    }
   ],
   "source": [
    "sns.boxplot(y=Pesossinoutliers,width = 1,dodge = True)"
   ]
  },
  {
   "cell_type": "code",
   "execution_count": 499,
   "metadata": {},
   "outputs": [
    {
     "data": {
      "text/plain": [
       "<AxesSubplot:ylabel='Weight'>"
      ]
     },
     "execution_count": 499,
     "metadata": {},
     "output_type": "execute_result"
    },
    {
     "data": {
      "image/png": "[encoded data removed]",
      "text/plain": [
       "<Figure size 432x288 with 1 Axes>"
      ]
     },
     "metadata": {
      "needs_background": "light"
     },
     "output_type": "display_data"
    }
   ],
   "source": [
    "sns.boxplot(y=Players['Weight'],width = 1,dodge = True)"
   ]
  },
  {
   "cell_type": "markdown",
   "metadata": {},
   "source": [
    "#### 6.3 Interpretar los resultados"
   ]
  },
  {
   "cell_type": "code",
   "execution_count": 409,
   "metadata": {},
   "outputs": [
    {
     "data": {
      "text/plain": [
       "Age                   int32\n",
       "Date                 object\n",
       "Draft Year            int64\n",
       "Player               object\n",
       "Position             object\n",
       "Season               object\n",
       "Season short          int32\n",
       "Seasons in league     int32\n",
       "Team                 object\n",
       "Weight                int32\n",
       "Real_value            int32\n",
       "Conference           object\n",
       "Tiempo                int64\n",
       "Height                int32\n",
       "dtype: object"
      ]
     },
     "execution_count": 409,
     "metadata": {},
     "output_type": "execute_result"
    }
   ],
   "source": [
    "NBA['Age'] = NBA['Age'].astype('int')\n",
    "NBA['Weight'] = NBA['Weight'].astype('int')\n",
    "NBA['Height'] = NBA['Height'].astype('int')\n",
    "NBA['Real_value'] = NBA['Real_value'].astype('int')\n",
    "NBA['Seasons in league'] = NBA['Seasons in league'].astype('int')\n",
    "NBA['Season short'] = NBA['Season short'].astype('int')\n",
    "NBA.dtypes"
   ]
  },
  {
   "cell_type": "code",
   "execution_count": 410,
   "metadata": {},
   "outputs": [
    {
     "data": {
      "text/html": [
       "<div>\n",
       "<style scoped>\n",
       "    .dataframe tbody tr th:only-of-type {\n",
       "        vertical-align: middle;\n",
       "    }\n",
       "\n",
       "    .dataframe tbody tr th {\n",
       "        vertical-align: top;\n",
       "    }\n",
       "\n",
       "    .dataframe thead th {\n",
       "        text-align: right;\n",
       "    }\n",
       "</style>\n",
       "<table border=\"1\" class=\"dataframe\">\n",
       "  <thead>\n",
       "    <tr style=\"text-align: right;\">\n",
       "      <th></th>\n",
       "      <th>Age</th>\n",
       "      <th>Draft Year</th>\n",
       "      <th>Season short</th>\n",
       "      <th>Seasons in league</th>\n",
       "      <th>Weight</th>\n",
       "      <th>Real_value</th>\n",
       "      <th>Tiempo</th>\n",
       "      <th>Height</th>\n",
       "    </tr>\n",
       "  </thead>\n",
       "  <tbody>\n",
       "    <tr>\n",
       "      <th>count</th>\n",
       "      <td>1184.000000</td>\n",
       "      <td>1184.000000</td>\n",
       "      <td>1184.000000</td>\n",
       "      <td>1184.000000</td>\n",
       "      <td>1184.000000</td>\n",
       "      <td>1184.000000</td>\n",
       "      <td>1184.000000</td>\n",
       "      <td>1184.000000</td>\n",
       "    </tr>\n",
       "    <tr>\n",
       "      <th>mean</th>\n",
       "      <td>26.724662</td>\n",
       "      <td>1997.363176</td>\n",
       "      <td>2004.288007</td>\n",
       "      <td>5.831081</td>\n",
       "      <td>216.086149</td>\n",
       "      <td>0.330236</td>\n",
       "      <td>6.924831</td>\n",
       "      <td>200.424831</td>\n",
       "    </tr>\n",
       "    <tr>\n",
       "      <th>std</th>\n",
       "      <td>3.391133</td>\n",
       "      <td>9.363597</td>\n",
       "      <td>9.421329</td>\n",
       "      <td>3.260747</td>\n",
       "      <td>45.843030</td>\n",
       "      <td>0.470497</td>\n",
       "      <td>3.280402</td>\n",
       "      <td>9.481722</td>\n",
       "    </tr>\n",
       "    <tr>\n",
       "      <th>min</th>\n",
       "      <td>19.000000</td>\n",
       "      <td>1969.000000</td>\n",
       "      <td>1985.000000</td>\n",
       "      <td>0.000000</td>\n",
       "      <td>79.000000</td>\n",
       "      <td>0.000000</td>\n",
       "      <td>1.000000</td>\n",
       "      <td>175.000000</td>\n",
       "    </tr>\n",
       "    <tr>\n",
       "      <th>25%</th>\n",
       "      <td>24.000000</td>\n",
       "      <td>1991.000000</td>\n",
       "      <td>1997.000000</td>\n",
       "      <td>3.000000</td>\n",
       "      <td>195.000000</td>\n",
       "      <td>0.000000</td>\n",
       "      <td>4.000000</td>\n",
       "      <td>193.000000</td>\n",
       "    </tr>\n",
       "    <tr>\n",
       "      <th>50%</th>\n",
       "      <td>26.000000</td>\n",
       "      <td>1998.000000</td>\n",
       "      <td>2006.000000</td>\n",
       "      <td>5.000000</td>\n",
       "      <td>220.000000</td>\n",
       "      <td>0.000000</td>\n",
       "      <td>7.000000</td>\n",
       "      <td>201.000000</td>\n",
       "    </tr>\n",
       "    <tr>\n",
       "      <th>75%</th>\n",
       "      <td>29.000000</td>\n",
       "      <td>2004.000000</td>\n",
       "      <td>2012.000000</td>\n",
       "      <td>8.000000</td>\n",
       "      <td>250.000000</td>\n",
       "      <td>1.000000</td>\n",
       "      <td>9.000000</td>\n",
       "      <td>208.000000</td>\n",
       "    </tr>\n",
       "    <tr>\n",
       "      <th>max</th>\n",
       "      <td>40.000000</td>\n",
       "      <td>2016.000000</td>\n",
       "      <td>2018.000000</td>\n",
       "      <td>17.000000</td>\n",
       "      <td>325.000000</td>\n",
       "      <td>1.000000</td>\n",
       "      <td>19.000000</td>\n",
       "      <td>228.000000</td>\n",
       "    </tr>\n",
       "  </tbody>\n",
       "</table>\n",
       "</div>"
      ],
      "text/plain": [
       "               Age   Draft Year  Season short  Seasons in league       Weight  \\\n",
       "count  1184.000000  1184.000000   1184.000000        1184.000000  1184.000000   \n",
       "mean     26.724662  1997.363176   2004.288007           5.831081   216.086149   \n",
       "std       3.391133     9.363597      9.421329           3.260747    45.843030   \n",
       "min      19.000000  1969.000000   1985.000000           0.000000    79.000000   \n",
       "25%      24.000000  1991.000000   1997.000000           3.000000   195.000000   \n",
       "50%      26.000000  1998.000000   2006.000000           5.000000   220.000000   \n",
       "75%      29.000000  2004.000000   2012.000000           8.000000   250.000000   \n",
       "max      40.000000  2016.000000   2018.000000          17.000000   325.000000   \n",
       "\n",
       "        Real_value       Tiempo       Height  \n",
       "count  1184.000000  1184.000000  1184.000000  \n",
       "mean      0.330236     6.924831   200.424831  \n",
       "std       0.470497     3.280402     9.481722  \n",
       "min       0.000000     1.000000   175.000000  \n",
       "25%       0.000000     4.000000   193.000000  \n",
       "50%       0.000000     7.000000   201.000000  \n",
       "75%       1.000000     9.000000   208.000000  \n",
       "max       1.000000    19.000000   228.000000  "
      ]
     },
     "execution_count": 410,
     "metadata": {},
     "output_type": "execute_result"
    }
   ],
   "source": [
    "NBA.describe()"
   ]
  },
  {
   "cell_type": "markdown",
   "metadata": {},
   "source": [
    "# 7 Clasificación de jugadores"
   ]
  },
  {
   "cell_type": "markdown",
   "metadata": {},
   "source": [
    "#### 7.1 Añadir una columna al conjunto de datos denominada “Altura” que contenga los valores: {“bajo”, “normal”, “alto”}. La asignación del valor depende de la altura de cada jugador. Se asigna:\n",
    "- bajo: los 50 jugadores más bajos\n",
    "- alto: los 50 jugadores más altos\n",
    "- normal: el resto de jugadores"
   ]
  },
  {
   "cell_type": "code",
   "execution_count": 433,
   "metadata": {},
   "outputs": [],
   "source": [
    "Players['Altura'] = 'Normal'\n",
    "Players['Height'] = Players['Height'].astype('int')\n",
    "Players.sort_values(by='Height',ascending=True,inplace=True)\n",
    "Players.iloc[0:50,-1] = 'Bajo'\n",
    "Players.sort_values(by='Height',ascending=False,inplace=True)\n",
    "Players.iloc[0:50,-1] = 'Alto'"
   ]
  },
  {
   "cell_type": "code",
   "execution_count": 434,
   "metadata": {},
   "outputs": [
    {
     "data": {
      "text/plain": [
       "Normal    174\n",
       "Bajo       50\n",
       "Alto       50\n",
       "Name: Altura, dtype: int64"
      ]
     },
     "execution_count": 434,
     "metadata": {},
     "output_type": "execute_result"
    }
   ],
   "source": [
    "Players['Altura'].value_counts()"
   ]
  },
  {
   "cell_type": "markdown",
   "metadata": {},
   "source": [
    "#### 7.2 Añadir una columna al conjunto de datos denominada “Peso” que contenga los valores: {“bajo”, “normal”, “alto”}. La asignación del valor depende del peso de cada jugador. Se asigna:\n",
    "- bajo: los 50 jugadores con menor peso\n",
    "- alto: los 50 jugadores con mayor peso\n",
    "- normal: el resto de jugadores"
   ]
  },
  {
   "cell_type": "code",
   "execution_count": 436,
   "metadata": {},
   "outputs": [],
   "source": [
    "Players['Peso'] = 'Normal'\n",
    "Players['Weight'] = Players['Weight'].astype('int')\n",
    "Players.sort_values(by='Weight',ascending=True,inplace=True)\n",
    "Players.iloc[0:50,-1] = 'Bajo'\n",
    "Players.sort_values(by='Weight',ascending=False,inplace=True)\n",
    "Players.iloc[0:50,-1] = 'Alto'"
   ]
  },
  {
   "cell_type": "code",
   "execution_count": 437,
   "metadata": {},
   "outputs": [
    {
     "data": {
      "text/plain": [
       "Normal    174\n",
       "Bajo       50\n",
       "Alto       50\n",
       "Name: Peso, dtype: int64"
      ]
     },
     "execution_count": 437,
     "metadata": {},
     "output_type": "execute_result"
    }
   ],
   "source": [
    "Players['Peso'].value_counts()"
   ]
  },
  {
   "cell_type": "markdown",
   "metadata": {},
   "source": [
    "#### 7.3 Calcular la media y desviación típica del peso (Weight) según la clasificación de altura de los jugadores."
   ]
  },
  {
   "cell_type": "code",
   "execution_count": 455,
   "metadata": {},
   "outputs": [
    {
     "data": {
      "text/html": [
       "<div>\n",
       "<style scoped>\n",
       "    .dataframe tbody tr th:only-of-type {\n",
       "        vertical-align: middle;\n",
       "    }\n",
       "\n",
       "    .dataframe tbody tr th {\n",
       "        vertical-align: top;\n",
       "    }\n",
       "\n",
       "    .dataframe thead tr th {\n",
       "        text-align: left;\n",
       "    }\n",
       "\n",
       "    .dataframe thead tr:last-of-type th {\n",
       "        text-align: right;\n",
       "    }\n",
       "</style>\n",
       "<table border=\"1\" class=\"dataframe\">\n",
       "  <thead>\n",
       "    <tr>\n",
       "      <th></th>\n",
       "      <th colspan=\"2\" halign=\"left\">Weight</th>\n",
       "    </tr>\n",
       "    <tr>\n",
       "      <th></th>\n",
       "      <th>mean</th>\n",
       "      <th>std</th>\n",
       "    </tr>\n",
       "    <tr>\n",
       "      <th>Peso</th>\n",
       "      <th></th>\n",
       "      <th></th>\n",
       "    </tr>\n",
       "  </thead>\n",
       "  <tbody>\n",
       "    <tr>\n",
       "      <th>Alto</th>\n",
       "      <td>262.12000</td>\n",
       "      <td>17.244508</td>\n",
       "    </tr>\n",
       "    <tr>\n",
       "      <th>Bajo</th>\n",
       "      <td>159.60000</td>\n",
       "      <td>32.675273</td>\n",
       "    </tr>\n",
       "    <tr>\n",
       "      <th>Normal</th>\n",
       "      <td>215.16092</td>\n",
       "      <td>17.152747</td>\n",
       "    </tr>\n",
       "  </tbody>\n",
       "</table>\n",
       "</div>"
      ],
      "text/plain": [
       "           Weight           \n",
       "             mean        std\n",
       "Peso                        \n",
       "Alto    262.12000  17.244508\n",
       "Bajo    159.60000  32.675273\n",
       "Normal  215.16092  17.152747"
      ]
     },
     "execution_count": 455,
     "metadata": {},
     "output_type": "execute_result"
    }
   ],
   "source": [
    "Players[['Peso','Weight']].groupby('Peso').agg(['mean','std'])"
   ]
  },
  {
   "cell_type": "markdown",
   "metadata": {},
   "source": [
    "#### 7.4 Realizar un boxplot del peso (Weight) según la clasificación de altura del jugador. Los boxplots deben estar ordenados de menos a mayor altura."
   ]
  },
  {
   "cell_type": "code",
   "execution_count": 488,
   "metadata": {},
   "outputs": [
    {
     "data": {
      "text/html": [
       "<div>\n",
       "<style scoped>\n",
       "    .dataframe tbody tr th:only-of-type {\n",
       "        vertical-align: middle;\n",
       "    }\n",
       "\n",
       "    .dataframe tbody tr th {\n",
       "        vertical-align: top;\n",
       "    }\n",
       "\n",
       "    .dataframe thead th {\n",
       "        text-align: right;\n",
       "    }\n",
       "</style>\n",
       "<table border=\"1\" class=\"dataframe\">\n",
       "  <thead>\n",
       "    <tr style=\"text-align: right;\">\n",
       "      <th></th>\n",
       "      <th>Height</th>\n",
       "    </tr>\n",
       "    <tr>\n",
       "      <th>Altura</th>\n",
       "      <th></th>\n",
       "    </tr>\n",
       "  </thead>\n",
       "  <tbody>\n",
       "    <tr>\n",
       "      <th>Bajo</th>\n",
       "      <td>185.62000</td>\n",
       "    </tr>\n",
       "    <tr>\n",
       "      <th>Normal</th>\n",
       "      <td>200.54023</td>\n",
       "    </tr>\n",
       "    <tr>\n",
       "      <th>Alto</th>\n",
       "      <td>212.80000</td>\n",
       "    </tr>\n",
       "  </tbody>\n",
       "</table>\n",
       "</div>"
      ],
      "text/plain": [
       "           Height\n",
       "Altura           \n",
       "Bajo    185.62000\n",
       "Normal  200.54023\n",
       "Alto    212.80000"
      ]
     },
     "execution_count": 488,
     "metadata": {},
     "output_type": "execute_result"
    }
   ],
   "source": [
    "## Para ordenar por altura creo esta tabla y compruebo que estábien\n",
    "Players[['Altura','Height']].groupby('Altura').mean().sort_values(by='Height')"
   ]
  },
  {
   "cell_type": "code",
   "execution_count": 489,
   "metadata": {},
   "outputs": [
    {
     "data": {
      "text/plain": [
       "Index(['Bajo', 'Normal', 'Alto'], dtype='object', name='Altura')"
      ]
     },
     "execution_count": 489,
     "metadata": {},
     "output_type": "execute_result"
    }
   ],
   "source": [
    "##Saco solo los indices\n",
    "OrdenAltura = Players[['Altura','Height']].groupby('Altura').mean().sort_values(by='Height').index\n",
    "OrdenAltura"
   ]
  },
  {
   "cell_type": "code",
   "execution_count": 490,
   "metadata": {},
   "outputs": [
    {
     "data": {
      "text/plain": [
       "<AxesSubplot:xlabel='Peso', ylabel='Weight'>"
      ]
     },
     "execution_count": 490,
     "metadata": {},
     "output_type": "execute_result"
    },
    {
     "data": {
      "image/png": "[encoded data removed]",
      "text/plain": [
       "<Figure size 432x288 with 1 Axes>"
      ]
     },
     "metadata": {
      "needs_background": "light"
     },
     "output_type": "display_data"
    }
   ],
   "source": [
    "sns.boxplot(data= Players ,y='Weight',x='Peso',order=OrdenAltura)"
   ]
  },
  {
   "cell_type": "code",
   "execution_count": null,
   "metadata": {},
   "outputs": [],
   "source": []
  }
 ],
 "metadata": {
  "kernelspec": {
   "display_name": "Python 3",
   "language": "python",
   "name": "python3"
  },
  "language_info": {
   "codemirror_mode": {
    "name": "ipython",
    "version": 3
   },
   "file_extension": ".py",
   "mimetype": "text/x-python",
   "name": "python",
   "nbconvert_exporter": "python",
   "pygments_lexer": "ipython3",
   "version": "3.8.5"
  }
 },
 "nbformat": 4,
 "nbformat_minor": 4
}
