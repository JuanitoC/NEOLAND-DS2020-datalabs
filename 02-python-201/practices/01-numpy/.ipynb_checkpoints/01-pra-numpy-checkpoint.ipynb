{
 "cells": [
  {
   "cell_type": "markdown",
   "metadata": {},
   "source": [
    "# Programación 201"
   ]
  },
  {
   "cell_type": "code",
   "execution_count": 2,
   "metadata": {},
   "outputs": [],
   "source": [
    "import numpy as np"
   ]
  },
  {
   "cell_type": "markdown",
   "metadata": {},
   "source": [
    "Librerías científicas en Python: `NumPy`\n",
    "------------------------------------------------------"
   ]
  },
  {
   "cell_type": "markdown",
   "metadata": {},
   "source": [
    "### Ejercicio 1\n",
    "Calculad la norma y el determinante de la siguiente matriz: ```[[1, 0], [2, -1]]```."
   ]
  },
  {
   "cell_type": "code",
   "execution_count": 63,
   "metadata": {},
   "outputs": [
    {
     "name": "stdout",
     "output_type": "stream",
     "text": [
      "El determinante de la matriz es: -1.0\n",
      "La norma de la matriz es: 0\n"
     ]
    }
   ],
   "source": [
    "Array = [[1, 0], [2, -1]]\n",
    "\n",
    "det = np.linalg.det(Array) ##Determinamente\n",
    "nor = np.trace(Array) ## Normal de la matriz\n",
    "\n",
    "print(\"El determinante de la matriz es: {}\".format(det))\n",
    "print(\"La norma de la matriz es: {}\".format(nor))\n",
    "# Respuesta"
   ]
  },
  {
   "cell_type": "markdown",
   "metadata": {},
   "source": [
    "### Ejercicio 2 \n",
    "Evaluad las funciones arcoseno y arcocoseno en el intervalo [0,1] y con paso (resolución) de 0.1 y guardadlas en dos _arrays_."
   ]
  },
  {
   "cell_type": "code",
   "execution_count": 18,
   "metadata": {},
   "outputs": [
    {
     "name": "stdout",
     "output_type": "stream",
     "text": [
      "[0.  0.1 0.2 0.3 0.4 0.5 0.6 0.7 0.8 0.9]\n",
      "El arcoseno de la array es: [0.0, 0.1001674211615598, 0.2013579207903308, 0.3046926540153976, 0.41151684606748806, 0.5235987755982989, 0.6435011087932845, 0.7753974966107532, 0.9272952180016123, 1.1197695149986342]\n",
      "El arcocoseno de la array es: [1.5707963267948966, 1.4706289056333368, 1.369438406004566, 1.266103672779499, 1.1592794807274085, 1.0471975511965979, 0.9272952180016121, 0.7953988301841435, 0.6435011087932843, 0.45102681179626236]\n"
     ]
    }
   ],
   "source": [
    "# Respuesta\n",
    "Array = np.arange(0,1,0.1)\n",
    "print(Array)\n",
    "Arcoseno = []\n",
    "Arcocoseno = []\n",
    "for i in Array:\n",
    "    Arcoseno.append(np.arcsin(i))\n",
    "    Arcocoseno.append(np.arccos(i))   \n",
    "    \n",
    "print(\"El arcoseno de la array es: {}\".format(Arcoseno))\n",
    "print(\"El arcocoseno de la array es: {}\".format(Arcocoseno))\n",
    "\n"
   ]
  },
  {
   "cell_type": "markdown",
   "metadata": {},
   "source": [
    "### Ejercicio 3\n",
    "Generad una lista de 100 valores enteros aleatorios de 0-9. Realizad los siguientes cálculos utilizando métodos de _numpy_:\n",
    "- Media y desviación estándar de los valores de la lista\n",
    "- Valor máximo y mínimo\n",
    "- Sumad todos los valores de la lista\n",
    "- Conseguid una lista de valores únicos"
   ]
  },
  {
   "cell_type": "code",
   "execution_count": 3,
   "metadata": {},
   "outputs": [
    {
     "name": "stdout",
     "output_type": "stream",
     "text": [
      "La media de la serie es: 4.32\n",
      "La suma de la serie es: 432\n",
      "El valor mínimo de la serie es: 0\n",
      "El valor máximo de la serie es: 9\n",
      "La desviacion estandar de la serie es: 2.959324247188875\n"
     ]
    }
   ],
   "source": [
    "# Respuesta\n",
    "Array = np.random.randint(0,10,100) ##Creo la matriz\n",
    "\n",
    "print(\"La media de la serie es: {}\".format(np.mean(Array)))\n",
    "print(\"La suma de la serie es: {}\".format(np.sum(Array)))\n",
    "print(\"El valor mínimo de la serie es: {}\".format(np.min(Array)))\n",
    "print(\"El valor máximo de la serie es: {}\".format(np.max(Array)))\n",
    "print(\"La desviacion estandar de la serie es: {}\".format(np.std(Array)))"
   ]
  },
  {
   "cell_type": "markdown",
   "metadata": {},
   "source": [
    "### Ejercicio 4\n",
    "Ordenad la matriz bidimensional ```[[5,1,7], [0,7,4], [7,23,1]]``` por filas utilizando como algoritmo de ordenación el [Merge sort](https://en.wikipedia.org/wiki/Merge_sort).\n",
    "\n",
    "**Hint:** No es necesario que implementéis el algoritmo de ordenación a mano, NumPy contiene métodos para realizar diferentes tipos de ordenación sobre diferentes estructuras de datos."
   ]
  },
  {
   "cell_type": "code",
   "execution_count": 61,
   "metadata": {},
   "outputs": [
    {
     "name": "stdout",
     "output_type": "stream",
     "text": [
      "[[ 1  5  7]\n",
      " [ 0  4  7]\n",
      " [ 1  7 23]]\n"
     ]
    }
   ],
   "source": [
    "# Respuesta\n",
    "Array = np.array([[5,1,7], [0,7,4], [7,23,1]]) ##Se crea la matriz\n",
    "Array = Array.reshape(3,3)\n",
    "Array = np.sort(Array) # Se ordena la matriz.\n",
    "print(Array)\n"
   ]
  },
  {
   "cell_type": "markdown",
   "metadata": {},
   "source": [
    "### Ejercicio 5\n",
    "Definid una función que dadas dos matrices, devuelva el valor absoluto de la multiplicación de los determinantes ambas, es decir, dadas A y B, nuestra función devolverá `|det(A) * det(B)|`."
   ]
  },
  {
   "cell_type": "code",
   "execution_count": 51,
   "metadata": {},
   "outputs": [
    {
     "name": "stdout",
     "output_type": "stream",
     "text": [
      "[[2 0 1]\n",
      " [8 9 5]\n",
      " [7 6 1]]\n",
      "[[6 0 4]\n",
      " [0 2 3]\n",
      " [8 0 0]]\n"
     ]
    }
   ],
   "source": [
    "# Respuesta\n",
    "\n",
    "## Creación y dimesionamiento de las matrices\n",
    "\n",
    "MatrizATamaño = [3,3] \n",
    "MatrizA = np.random.randint(0,10,MatrizATamaño[0]*MatrizATamaño[1] )## Creamos la matriz A\n",
    "MatrizA = MatrizA.reshape(MatrizATamaño[0],MatrizATamaño[1])\n",
    "print(MatrizA)\n",
    "\n",
    "MatrizBTamaño = [3,3] \n",
    "MatrizB = np.random.randint(0,10,MatrizBTamaño[0]*MatrizBTamaño[1] )## Creamos la matriz B\n",
    "MatrizB = MatrizB.reshape(MatrizBTamaño[0],MatrizBTamaño[1])\n",
    "print(MatrizB)\n",
    "\n"
   ]
  },
  {
   "cell_type": "code",
   "execution_count": 52,
   "metadata": {},
   "outputs": [
    {
     "data": {
      "text/plain": [
       "3647.999999999996"
      ]
     },
     "execution_count": 52,
     "metadata": {},
     "output_type": "execute_result"
    }
   ],
   "source": [
    "def multiplicar_determinantes(A,B): ## Función que realiza la multiplicación\n",
    "    return np.linalg.det(A)*np.linalg.det(B)\n",
    "\n",
    "multiplicar_determinantes(MatrizA,MatrizB)\n"
   ]
  },
  {
   "cell_type": "markdown",
   "metadata": {},
   "source": [
    "### Ejercicio 6\n",
    "Cread una matriz 10x10 que corresponda con la [matriz identidad](https://es.wikipedia.org/wiki/Matriz_identidad) usando generadores básicos de arrays. Cread una matriz identidad 10x10 (esta vez usando generadores especificos de matrices identidad) y comprobad que ambas matrices son iguales\n",
    "\n",
    "**Consideraciones**:\n",
    "- La primera matriz debe crearse usando constructores básicos de arrays, como los presentados en los Notebooks de teoría.\n",
    "* La segunda matriz debe generarse utilizando el generador de matrices identidad de numpy.\n",
    "* La comparación debe devolver True si las matrices son iguales (un único True), False de no ser así."
   ]
  },
  {
   "cell_type": "code",
   "execution_count": 41,
   "metadata": {},
   "outputs": [
    {
     "name": "stdout",
     "output_type": "stream",
     "text": [
      "[[1 0 0 0 0 0 0 0 0 0]\n",
      " [0 1 0 0 0 0 0 0 0 0]\n",
      " [0 0 1 0 0 0 0 0 0 0]\n",
      " [0 0 0 1 0 0 0 0 0 0]\n",
      " [0 0 0 0 1 0 0 0 0 0]\n",
      " [0 0 0 0 0 1 0 0 0 0]\n",
      " [0 0 0 0 0 0 1 0 0 0]\n",
      " [0 0 0 0 0 0 0 1 0 0]\n",
      " [0 0 0 0 0 0 0 0 1 0]\n",
      " [0 0 0 0 0 0 0 0 0 1]]\n",
      "[[1 0 0 0 0 0 0 0 0 0]\n",
      " [0 1 0 0 0 0 0 0 0 0]\n",
      " [0 0 1 0 0 0 0 0 0 0]\n",
      " [0 0 0 1 0 0 0 0 0 0]\n",
      " [0 0 0 0 1 0 0 0 0 0]\n",
      " [0 0 0 0 0 1 0 0 0 0]\n",
      " [0 0 0 0 0 0 1 0 0 0]\n",
      " [0 0 0 0 0 0 0 1 0 0]\n",
      " [0 0 0 0 0 0 0 0 1 0]\n",
      " [0 0 0 0 0 0 0 0 0 1]]\n",
      "<class 'numpy.ndarray'>\n",
      "<class 'numpy.ndarray'>\n"
     ]
    },
    {
     "data": {
      "text/plain": [
       "True"
      ]
     },
     "execution_count": 41,
     "metadata": {},
     "output_type": "execute_result"
    }
   ],
   "source": [
    "# Respuesta\n",
    "\n",
    "Identidad1 = z = np.zeros(100,dtype='int') ##Creamos una lista de 10x10 '0'\n",
    "\n",
    "for i in range(0,100,11): ## Cada 11 filas cambio el valor por 1\n",
    "    Identidad1[i] = 1\n",
    "    \n",
    "    \n",
    "Identidad1 = Identidad1.reshape(10,10)    \n",
    "print(Identidad1)\n",
    "\n",
    "    \n",
    "## Creacíon de la matriz de identidad usando el generador de matriz identidad\n",
    "Identidad2 = np.identity(10,dtype=int)\n",
    "#print(identidad2)\n",
    "print(Identidad2)\n",
    "\n",
    "## comparando matrices\n",
    "\n",
    "print(type(Identidad1))\n",
    "print(type(Identidad2))\n",
    "\n",
    "(Identidad1==Identidad2).all()\n",
    "\n",
    "    "
   ]
  },
  {
   "cell_type": "markdown",
   "metadata": {},
   "source": [
    "### Ejercicio 7\n",
    "Cread una matriz de 2x6 donde los valores de cada posición `(i, j)` correspondan a `i^2+j` para todo `i` par, `i/j^2` para todo `i` impar."
   ]
  },
  {
   "cell_type": "code",
   "execution_count": 11,
   "metadata": {},
   "outputs": [
    {
     "data": {
      "text/plain": [
       "array([[2., 3., 4., 5., 6., 7.],\n",
       "       [3., 2., 5., 4., 7., 6.]])"
      ]
     },
     "execution_count": 11,
     "metadata": {},
     "output_type": "execute_result"
    }
   ],
   "source": [
    "# Respuesta\n",
    "i = 2\n",
    "j = 6\n",
    "\n",
    "Matriz1 = np.zeros(i*j) ## creo un rango lleno de 0 para empezar a trabajar\n",
    "Matriz1 = Matriz1.reshape(i,j) ## Doy forma a la matriz\n",
    "\n",
    "for i1 in range(i): ##Hago un for por todas las filas y columnas en donde aplico la fórmula.\n",
    "    for j1 in range(j):\n",
    "        if i % 2 ==0:\n",
    "            Matriz1[i1][j1] = i1^2+j1\n",
    "        else:\n",
    "            Matriz1[i1][j1] = i/(j^2)         \n",
    "\n",
    "Matriz1\n"
   ]
  },
  {
   "cell_type": "markdown",
   "metadata": {},
   "source": [
    "### Ejercicio 8\n",
    "Cread dos matrices de tamaño 5x5 con números reales aleatorios. Obtened el resultado de multiplicar ambas matrices usando los dos métodos de multiplicación de matrices vistos en el Notebook de teoría. ¿Cuál es la diferencia entre ambos resultados? Cread ahora dos matrices de tamaño 4x5 y 5x5 respectivamente, repetid la operación. Describid cuál de los métodos de multiplicación podéis aplicar y porqué"
   ]
  },
  {
   "cell_type": "code",
   "execution_count": 27,
   "metadata": {},
   "outputs": [
    {
     "name": "stdout",
     "output_type": "stream",
     "text": [
      "[[9 1 1 6 0]\n",
      " [5 6 5 7 0]\n",
      " [9 0 3 0 5]\n",
      " [7 5 0 6 2]\n",
      " [1 3 6 5 8]]\n",
      "[[1 7 3 6 2]\n",
      " [8 5 8 4 1]\n",
      " [0 4 0 7 0]\n",
      " [8 3 9 2 2]\n",
      " [2 6 5 3 9]]\n",
      "[[ 9  7  3 36  0]\n",
      " [40 30 40 28  0]\n",
      " [ 0  0  0  0  0]\n",
      " [56 15  0 12  4]\n",
      " [ 2 18 30 15 72]]\n",
      "[[ 65  90  89  77  31]\n",
      " [109 106 126 103  30]\n",
      " [ 19 105  52  90  63]\n",
      " [ 99 104 125  80  49]\n",
      " [ 81 109 112  94  87]]\n",
      "[[ 65  90  89  77  31]\n",
      " [109 106 126 103  30]\n",
      " [ 19 105  52  90  63]\n",
      " [ 99 104 125  80  49]\n",
      " [ 81 109 112  94  87]]\n"
     ]
    }
   ],
   "source": [
    "# Respuesta 1: Matrices de 5x5\n",
    "MatrizA = np.random.randint(0,10,5*5 )## Creamos la matriz A\n",
    "MatrizA = MatrizA.reshape(5,5)\n",
    "print(MatrizA)\n",
    "\n",
    "MatrizB = np.random.randint(0,10,5*5 )## Creamos la matriz B\n",
    "MatrizB = MatrizB.reshape(5,5)\n",
    "print(MatrizB)\n",
    "\n",
    "print(MatrizA*MatrizB) # Multiplica elemento por elemento\n",
    "print(MatrizA.dot(MatrizB)) # Multiplica las matrices\n",
    "print(MatrizA@MatrizB) # Otra forma de multiplicar la matriz"
   ]
  },
  {
   "cell_type": "code",
   "execution_count": 36,
   "metadata": {},
   "outputs": [
    {
     "name": "stdout",
     "output_type": "stream",
     "text": [
      "[[4 6 0 3 0]\n",
      " [1 7 1 3 9]\n",
      " [0 2 0 0 2]\n",
      " [4 3 3 8 8]\n",
      " [7 3 8 3 1]]\n",
      "[[8 3 5 5]\n",
      " [1 8 6 9]\n",
      " [3 2 0 5]\n",
      " [1 3 4 4]\n",
      " [7 3 2 3]]\n"
     ]
    }
   ],
   "source": [
    "# Respuesta 2: Matrices de 5x5 y 4x5\n",
    "MatrizA = np.random.randint(0,10,5*5 )## Creamos la matriz A\n",
    "MatrizA = MatrizA.reshape(5,5)\n",
    "print(MatrizA)\n",
    "\n",
    "MatrizB = np.random.randint(0,10,4*5 )## Creamos la matriz B\n",
    "MatrizB = MatrizB.reshape(5,4)\n",
    "print(MatrizB)\n"
   ]
  },
  {
   "cell_type": "code",
   "execution_count": 35,
   "metadata": {},
   "outputs": [
    {
     "ename": "ValueError",
     "evalue": "operands could not be broadcast together with shapes (5,5) (4,5) ",
     "output_type": "error",
     "traceback": [
      "\u001b[1;31m---------------------------------------------------------------------------\u001b[0m",
      "\u001b[1;31mValueError\u001b[0m                                Traceback (most recent call last)",
      "\u001b[1;32m<ipython-input-35-694c8efabdc7>\u001b[0m in \u001b[0;36m<module>\u001b[1;34m\u001b[0m\n\u001b[1;32m----> 1\u001b[1;33m \u001b[0mprint\u001b[0m\u001b[1;33m(\u001b[0m\u001b[0mMatrizA\u001b[0m\u001b[1;33m*\u001b[0m\u001b[0mMatrizB\u001b[0m\u001b[1;33m)\u001b[0m \u001b[1;31m# Multiplica elemento por elemento\u001b[0m\u001b[1;33m\u001b[0m\u001b[1;33m\u001b[0m\u001b[0m\n\u001b[0m\u001b[0;32m      2\u001b[0m \u001b[0mprint\u001b[0m\u001b[1;33m(\u001b[0m\u001b[0mMatrizA\u001b[0m\u001b[1;33m.\u001b[0m\u001b[0mdot\u001b[0m\u001b[1;33m(\u001b[0m\u001b[0mMatrizB\u001b[0m\u001b[1;33m)\u001b[0m\u001b[1;33m)\u001b[0m \u001b[1;31m# Multiplica las matrices\u001b[0m\u001b[1;33m\u001b[0m\u001b[1;33m\u001b[0m\u001b[0m\n\u001b[0;32m      3\u001b[0m \u001b[0mprint\u001b[0m\u001b[1;33m(\u001b[0m\u001b[0mMatrizA\u001b[0m\u001b[1;33m@\u001b[0m\u001b[0mMatrizB\u001b[0m\u001b[1;33m)\u001b[0m \u001b[1;31m# Otra forma de multiplicar la matriz\u001b[0m\u001b[1;33m\u001b[0m\u001b[1;33m\u001b[0m\u001b[0m\n",
      "\u001b[1;31mValueError\u001b[0m: operands could not be broadcast together with shapes (5,5) (4,5) "
     ]
    }
   ],
   "source": [
    "## Falla la multiplicación\n",
    "\n",
    "print(MatrizA*MatrizB) # Multiplica elemento por elemento\n",
    "print(MatrizA.dot(MatrizB)) # Multiplica las matrices\n",
    "print(MatrizA@MatrizB) # Otra forma de multiplicar la matriz"
   ]
  },
  {
   "cell_type": "code",
   "execution_count": null,
   "metadata": {},
   "outputs": [],
   "source": []
  }
 ],
 "metadata": {
  "kernelspec": {
   "display_name": "Python 3",
   "language": "python",
   "name": "python3"
  },
  "language_info": {
   "codemirror_mode": {
    "name": "ipython",
    "version": 3
   },
   "file_extension": ".py",
   "mimetype": "text/x-python",
   "name": "python",
   "nbconvert_exporter": "python",
   "pygments_lexer": "ipython3",
   "version": "3.8.5"
  }
 },
 "nbformat": 4,
 "nbformat_minor": 4
}
