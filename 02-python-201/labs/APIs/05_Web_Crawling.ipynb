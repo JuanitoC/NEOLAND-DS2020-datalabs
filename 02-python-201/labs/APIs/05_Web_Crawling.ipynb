{
 "cells": [
  {
   "cell_type": "markdown",
   "metadata": {},
   "source": [
    "# Web Crawling\n",
    "\n",
    "- scrapy\n",
    "- BeautifulSoup\n",
    "- selenium\n",
    "...\n",
    "\n"
   ]
  },
  {
   "cell_type": "code",
   "execution_count": 2,
   "metadata": {},
   "outputs": [
    {
     "name": "stdout",
     "output_type": "stream",
     "text": [
      "Collecting scrapy\n",
      "  Using cached Scrapy-2.4.1-py2.py3-none-any.whl (239 kB)\n",
      "Requirement already satisfied: itemloaders>=1.0.1 in c:\\users\\jd\\appdata\\local\\programs\\python\\python38-32\\lib\\site-packages (from scrapy) (1.0.4)\n",
      "Requirement already satisfied: itemadapter>=0.1.0 in c:\\users\\jd\\appdata\\local\\programs\\python\\python38-32\\lib\\site-packages (from scrapy) (0.2.0)\n",
      "Requirement already satisfied: queuelib>=1.4.2 in c:\\users\\jd\\appdata\\local\\programs\\python\\python38-32\\lib\\site-packages (from scrapy) (1.5.0)\n",
      "Requirement already satisfied: service-identity>=16.0.0 in c:\\users\\jd\\appdata\\local\\programs\\python\\python38-32\\lib\\site-packages (from scrapy) (18.1.0)\n",
      "Requirement already satisfied: PyDispatcher>=2.0.5 in c:\\users\\jd\\appdata\\local\\programs\\python\\python38-32\\lib\\site-packages (from scrapy) (2.0.5)\n",
      "Requirement already satisfied: w3lib>=1.17.0 in c:\\users\\jd\\appdata\\local\\programs\\python\\python38-32\\lib\\site-packages (from scrapy) (1.22.0)\n",
      "Requirement already satisfied: parsel>=1.5.0 in c:\\users\\jd\\appdata\\local\\programs\\python\\python38-32\\lib\\site-packages (from scrapy) (1.6.0)\n",
      "Requirement already satisfied: cssselect>=0.9.1 in c:\\users\\jd\\appdata\\local\\programs\\python\\python38-32\\lib\\site-packages (from scrapy) (1.1.0)\n",
      "Requirement already satisfied: zope.interface>=4.1.3 in c:\\users\\jd\\appdata\\local\\programs\\python\\python38-32\\lib\\site-packages (from scrapy) (5.2.0)\n",
      "Requirement already satisfied: pyOpenSSL>=16.2.0 in c:\\users\\jd\\appdata\\local\\programs\\python\\python38-32\\lib\\site-packages (from scrapy) (20.0.1)\n",
      "Requirement already satisfied: lxml>=3.5.0 in c:\\users\\jd\\appdata\\local\\programs\\python\\python38-32\\lib\\site-packages (from scrapy) (4.6.2)\n",
      "Requirement already satisfied: cryptography>=2.0 in c:\\users\\jd\\appdata\\local\\programs\\python\\python38-32\\lib\\site-packages (from scrapy) (3.3.1)\n",
      "Requirement already satisfied: protego>=0.1.15 in c:\\users\\jd\\appdata\\local\\programs\\python\\python38-32\\lib\\site-packages (from scrapy) (0.1.16)\n",
      "Requirement already satisfied: six>=1.4.1 in c:\\users\\jd\\appdata\\local\\programs\\python\\python38-32\\lib\\site-packages (from cryptography>=2.0->scrapy) (1.15.0)\n",
      "Requirement already satisfied: cffi>=1.12 in c:\\users\\jd\\appdata\\local\\programs\\python\\python38-32\\lib\\site-packages (from cryptography>=2.0->scrapy) (1.14.3)\n",
      "Requirement already satisfied: pycparser in c:\\users\\jd\\appdata\\local\\programs\\python\\python38-32\\lib\\site-packages (from cffi>=1.12->cryptography>=2.0->scrapy) (2.20)\n",
      "Requirement already satisfied: jmespath>=0.9.5 in c:\\users\\jd\\appdata\\local\\programs\\python\\python38-32\\lib\\site-packages (from itemloaders>=1.0.1->scrapy) (0.10.0)\n",
      "Requirement already satisfied: pyasn1-modules in c:\\users\\jd\\appdata\\local\\programs\\python\\python38-32\\lib\\site-packages (from service-identity>=16.0.0->scrapy) (0.2.8)\n",
      "Requirement already satisfied: attrs>=16.0.0 in c:\\users\\jd\\appdata\\local\\programs\\python\\python38-32\\lib\\site-packages (from service-identity>=16.0.0->scrapy) (20.2.0)\n",
      "Requirement already satisfied: pyasn1 in c:\\users\\jd\\appdata\\local\\programs\\python\\python38-32\\lib\\site-packages (from service-identity>=16.0.0->scrapy) (0.4.8)\n",
      "Collecting Twisted>=17.9.0\n",
      "  Using cached Twisted-20.3.0.tar.bz2 (3.1 MB)\n",
      "Requirement already satisfied: constantly>=15.1 in c:\\users\\jd\\appdata\\local\\programs\\python\\python38-32\\lib\\site-packages (from Twisted>=17.9.0->scrapy) (15.1.0)\n",
      "Requirement already satisfied: incremental>=16.10.1 in c:\\users\\jd\\appdata\\local\\programs\\python\\python38-32\\lib\\site-packages (from Twisted>=17.9.0->scrapy) (17.5.0)\n",
      "Requirement already satisfied: Automat>=0.3.0 in c:\\users\\jd\\appdata\\local\\programs\\python\\python38-32\\lib\\site-packages (from Twisted>=17.9.0->scrapy) (20.2.0)\n",
      "Requirement already satisfied: hyperlink>=17.1.1 in c:\\users\\jd\\appdata\\local\\programs\\python\\python38-32\\lib\\site-packages (from Twisted>=17.9.0->scrapy) (20.0.1)\n",
      "Requirement already satisfied: PyHamcrest!=1.10.0,>=1.9.0 in c:\\users\\jd\\appdata\\local\\programs\\python\\python38-32\\lib\\site-packages (from Twisted>=17.9.0->scrapy) (2.0.2)\n",
      "Requirement already satisfied: idna>=2.5 in c:\\users\\jd\\appdata\\local\\programs\\python\\python38-32\\lib\\site-packages (from hyperlink>=17.1.1->Twisted>=17.9.0->scrapy) (2.10)\n",
      "Requirement already satisfied: setuptools in c:\\users\\jd\\appdata\\local\\programs\\python\\python38-32\\lib\\site-packages (from zope.interface>=4.1.3->scrapy) (47.1.0)\n",
      "Using legacy 'setup.py install' for Twisted, since package 'wheel' is not installed.\n",
      "Installing collected packages: Twisted, scrapy\n",
      "    Running setup.py install for Twisted: started\n",
      "    Running setup.py install for Twisted: finished with status 'done'\n",
      "Successfully installed Twisted-20.3.0 scrapy-2.4.1\n"
     ]
    }
   ],
   "source": [
    "# importamos la librería\n",
    "# !pip install scrapy"
   ]
  },
  {
   "cell_type": "markdown",
   "metadata": {},
   "source": [
    "```\n",
    "<a> \n",
    "   title=\"Diseño y Creación Digitales\" \n",
    "   href=\"/es/grados/diseño-creacion-digital/presentacion\" \n",
    "   class=\"card-absolute-link\">\n",
    "    &nbsp;\n",
    "</a>\n",
    "```"
   ]
  },
  {
   "cell_type": "markdown",
   "metadata": {},
   "source": [
    "***\n",
    "```\n",
    "<a>\n",
    "   title=\"Multimedia\" \n",
    "   href=\"/es/grados/multimedia/presentacion\" \n",
    "   class=\"card-absolute-link\">\n",
    "    &nbsp;\n",
    "</a> \n",
    "```"
   ]
  },
  {
   "cell_type": "markdown",
   "metadata": {},
   "source": [
    "Existe una forma de extraer estos contenidos a través de **XPATH** . Entonces si quiero sacar todos los elementos de la `class` necesitamos a través de esta sintaxis:\n",
    "```\n",
    "//a[@class=\"card-absolute-link\"]/@title\n",
    "```\n"
   ]
  },
  {
   "cell_type": "code",
   "execution_count": 3,
   "metadata": {},
   "outputs": [],
   "source": [
    "# importamos scrapy\n",
    "import scrapy\n",
    "from scrapy.crawler import CrawlerProcess"
   ]
  },
  {
   "cell_type": "code",
   "execution_count": 4,
   "metadata": {},
   "outputs": [],
   "source": [
    "# creamos primero el bicho \"araña\"\n",
    "class uoc_spider(scrapy.Spider):\n",
    "    # Asignamos un nombre al bicho\n",
    "    name = \"uoc_spider\"\n",
    "    \n",
    "    # Indicamos la url que queremos analizar\n",
    "    start_urls = [\n",
    "        \"https://estudios.uoc.edu/es/grados\"\n",
    "    ]\n",
    "    \n",
    "    # Definimos el analizador\n",
    "    def parse(self, response):\n",
    "        # Extraemos el título del grado\n",
    "        for grado in response.xpath('//a[@class=\"card-absolute-link\"]'):\n",
    "            yield {\n",
    "                'title': grado.extract()\n",
    "            }"
   ]
  },
  {
   "cell_type": "markdown",
   "metadata": {},
   "source": [
    "La idea es ir saltando de USER_AGENT con diferentes elementos en Lista `[AGENT]` "
   ]
  },
  {
   "cell_type": "code",
   "execution_count": 5,
   "metadata": {},
   "outputs": [
    {
     "name": "stderr",
     "output_type": "stream",
     "text": [
      "2020-12-26 20:37:46 [scrapy.utils.log] INFO: Scrapy 2.4.1 started (bot: scrapybot)\n",
      "2020-12-26 20:37:46 [scrapy.utils.log] INFO: Versions: lxml 4.6.2.0, libxml2 2.9.5, cssselect 1.1.0, parsel 1.6.0, w3lib 1.22.0, Twisted 20.3.0, Python 3.8.5 (tags/v3.8.5:580fbb0, Jul 20 2020, 15:43:08) [MSC v.1926 32 bit (Intel)], pyOpenSSL 20.0.1 (OpenSSL 1.1.1i  8 Dec 2020), cryptography 3.3.1, Platform Windows-10-10.0.19041-SP0\n",
      "2020-12-26 20:37:46 [scrapy.utils.log] DEBUG: Using reactor: twisted.internet.selectreactor.SelectReactor\n",
      "2020-12-26 20:37:46 [scrapy.crawler] INFO: Overridden settings:\n",
      "{'USER_AGENT': 'Mozilla/4.0 (compatible; MSIE 7.0; Windows NT 5.1)'}\n",
      "2020-12-26 20:37:46 [scrapy.extensions.telnet] INFO: Telnet Password: 4f45a2fb917705cc\n",
      "2020-12-26 20:37:46 [scrapy.middleware] INFO: Enabled extensions:\n",
      "['scrapy.extensions.corestats.CoreStats',\n",
      " 'scrapy.extensions.telnet.TelnetConsole',\n",
      " 'scrapy.extensions.logstats.LogStats']\n",
      "2020-12-26 20:37:47 [scrapy.middleware] INFO: Enabled downloader middlewares:\n",
      "['scrapy.downloadermiddlewares.httpauth.HttpAuthMiddleware',\n",
      " 'scrapy.downloadermiddlewares.downloadtimeout.DownloadTimeoutMiddleware',\n",
      " 'scrapy.downloadermiddlewares.defaultheaders.DefaultHeadersMiddleware',\n",
      " 'scrapy.downloadermiddlewares.useragent.UserAgentMiddleware',\n",
      " 'scrapy.downloadermiddlewares.retry.RetryMiddleware',\n",
      " 'scrapy.downloadermiddlewares.redirect.MetaRefreshMiddleware',\n",
      " 'scrapy.downloadermiddlewares.httpcompression.HttpCompressionMiddleware',\n",
      " 'scrapy.downloadermiddlewares.redirect.RedirectMiddleware',\n",
      " 'scrapy.downloadermiddlewares.cookies.CookiesMiddleware',\n",
      " 'scrapy.downloadermiddlewares.httpproxy.HttpProxyMiddleware',\n",
      " 'scrapy.downloadermiddlewares.stats.DownloaderStats']\n",
      "2020-12-26 20:37:47 [scrapy.middleware] INFO: Enabled spider middlewares:\n",
      "['scrapy.spidermiddlewares.httperror.HttpErrorMiddleware',\n",
      " 'scrapy.spidermiddlewares.offsite.OffsiteMiddleware',\n",
      " 'scrapy.spidermiddlewares.referer.RefererMiddleware',\n",
      " 'scrapy.spidermiddlewares.urllength.UrlLengthMiddleware',\n",
      " 'scrapy.spidermiddlewares.depth.DepthMiddleware']\n",
      "2020-12-26 20:37:47 [scrapy.middleware] INFO: Enabled item pipelines:\n",
      "[]\n",
      "2020-12-26 20:37:47 [scrapy.core.engine] INFO: Spider opened\n",
      "2020-12-26 20:37:47 [scrapy.extensions.logstats] INFO: Crawled 0 pages (at 0 pages/min), scraped 0 items (at 0 items/min)\n",
      "2020-12-26 20:37:47 [scrapy.extensions.telnet] INFO: Telnet console listening on 127.0.0.1:6023\n",
      "2020-12-26 20:37:49 [scrapy.core.engine] DEBUG: Crawled (200) <GET https://estudios.uoc.edu/es/grados> (referer: None)\n",
      "2020-12-26 20:37:49 [scrapy.core.scraper] DEBUG: Scraped from <200 https://estudios.uoc.edu/es/grados>\n",
      "{'title': '<a title=\"Ciencias Sociales\" href=\"/es/grados/ciencias-sociales/presentacion\" class=\"card-absolute-link\" onclick=\\'_euocuc402llistatarea_WAR_euocentrega3portlet_INSTANCE_kDk3_enviarPushClick(\"Ciències Socials\", \"PC02145\", \"20.42\", \"Graus\", \"Arts i Humanitats\", \"Castellà\");\\'>\\xa0</a>'}\n",
      "2020-12-26 20:37:49 [scrapy.core.scraper] DEBUG: Scraped from <200 https://estudios.uoc.edu/es/grados>\n",
      "{'title': '<a title=\"Historia, Geografia e Historia del Arte (interuniversitario: UOC, UdL)\" href=\"/es/grados/historia-geografia-arte/presentacion\" class=\"card-absolute-link\" onclick=\\'_euocuc402llistatarea_WAR_euocentrega3portlet_INSTANCE_kDk3_enviarPushClick(\"Història, Geografia i Història de l%27Art (interuniversitari: UOC, UdL)\", \"PC02094\", \"20.42\", \"Graus\", \"Arts i Humanitats\", \"Castellà\");\\'>\\xa0</a>'}\n",
      "2020-12-26 20:37:49 [scrapy.core.scraper] DEBUG: Scraped from <200 https://estudios.uoc.edu/es/grados>\n",
      "{'title': '<a title=\"Humanidades\" href=\"/es/grados/humanidades/presentacion\" class=\"card-absolute-link\" onclick=\\'_euocuc402llistatarea_WAR_euocentrega3portlet_INSTANCE_kDk3_enviarPushClick(\"Humanitats\", \"PC02147\", \"20.42\", \"Graus\", \"Arts i Humanitats\", \"Castellà\");\\'>\\xa0</a>'}\n",
      "2020-12-26 20:37:49 [scrapy.core.scraper] DEBUG: Scraped from <200 https://estudios.uoc.edu/es/grados>\n",
      "{'title': '<a title=\"Lengua y Literatura Catalanas\" href=\"/es/grados/lengua-literatura-catalanas/presentacion\" class=\"card-absolute-link\" onclick=\\'_euocuc402llistatarea_WAR_euocentrega3portlet_INSTANCE_kDk3_enviarPushClick(\"Llengua i Literatura Catalanes\", \"PC02135\", \"20.42\", \"Graus\", \"Arts i Humanitats\", \"Castellà\");\\'>\\xa0</a>'}\n",
      "2020-12-26 20:37:49 [scrapy.core.scraper] DEBUG: Scraped from <200 https://estudios.uoc.edu/es/grados>\n",
      "{'title': '<a title=\"Traducción, Interpretación y Lenguas Aplicadas (interuniversitario: UVic-UCC, UOC)\" href=\"/es/grados/traduccion-interpretacion-lenguas-aplicadas/presentacion\" class=\"card-absolute-link\" onclick=\\'_euocuc402llistatarea_WAR_euocentrega3portlet_INSTANCE_kDk3_enviarPushClick(\"Traducció, Interpretació i Llengües Aplicades (interuniversitari: UVic-UCC, UOC)\", \"PC02120\", \"51.21\", \"Graus\", \"Arts i Humanitats\", \"Castellà\");\\'>\\xa0</a>'}\n",
      "2020-12-26 20:37:49 [scrapy.core.scraper] DEBUG: Scraped from <200 https://estudios.uoc.edu/es/grados>\n",
      "{'title': '<a title=\"Antropología y Evolución Humana (interuniversitario: URV, UOC)\" href=\"/es/grados/antropologia-evolucion-humana/presentacion\" class=\"card-absolute-link\" onclick=\\'_euocuc402llistatarea_WAR_euocentrega3portlet_INSTANCE_kDk3_enviarPushClick(\"Antropologia i Evolució Humana (interuniversitari: URV, UOC)\", \"PC02115\", \"20.42\", \"Graus\", \"Arts i Humanitats\", \"Castellà\");\\'>\\xa0</a>'}\n",
      "2020-12-26 20:37:49 [scrapy.core.scraper] DEBUG: Scraped from <200 https://estudios.uoc.edu/es/grados>\n",
      "{'title': '<a title=\"Artes\" href=\"/es/grados/artes/presentacion\" class=\"card-absolute-link\" onclick=\\'_euocuc402llistatarea_WAR_euocentrega3portlet_INSTANCE_kDk3_enviarPushClick(\"Arts\", \"PC01461\", \"20.42\", \"Graus\", \"Arts i Humanitats\", \"Castellà\");\\'>\\xa0</a>'}\n",
      "2020-12-26 20:37:49 [scrapy.core.scraper] DEBUG: Scraped from <200 https://estudios.uoc.edu/es/grados>\n",
      "{'title': '<a title=\"Logopedia (interuniversitario: Uvic-UCC, UOC)\" href=\"/es/grados/logopedia-uvic-ucc/presentacion\" class=\"card-absolute-link\" onclick=\\'_euocuc402llistatarea_WAR_euocentrega3portlet_INSTANCE_kDk3_enviarPushClick(\"Logopèdia (interuniversitari: Uvic-UCC, UOC)\", \"PC02109\", \"72.0\", \"Graus\", \"Ciències de la Salut\", \"Castellà\");\\'>\\xa0</a>'}\n",
      "2020-12-26 20:37:49 [scrapy.core.scraper] DEBUG: Scraped from <200 https://estudios.uoc.edu/es/grados>\n",
      "{'title': '<a title=\"Comunicación\" href=\"/es/grados/comunicacion/presentacion\" class=\"card-absolute-link\" onclick=\\'_euocuc402llistatarea_WAR_euocentrega3portlet_INSTANCE_kDk3_enviarPushClick(\"Comunicació\", \"PC02090\", \"20.42\", \"Graus\", \"Comunicació i Informació\", \"Castellà\");\\'>\\xa0</a>'}\n",
      "2020-12-26 20:37:49 [scrapy.core.scraper] DEBUG: Scraped from <200 https://estudios.uoc.edu/es/grados>\n",
      "{'title': '<a title=\"Diseño y Creación Digitales\" href=\"/es/grados/dise%C3%B1o-creacion-digital/presentacion\" class=\"card-absolute-link\" onclick=\\'_euocuc402llistatarea_WAR_euocentrega3portlet_INSTANCE_kDk3_enviarPushClick(\"Disseny i Creació Digitals\", \"PC01819\", \"22.8\", \"Graus\", \"Comunicació i Informació\", \"Castellà\");\\'>\\xa0</a>'}\n",
      "2020-12-26 20:37:49 [scrapy.core.scraper] DEBUG: Scraped from <200 https://estudios.uoc.edu/es/grados>\n",
      "{'title': '<a title=\"Criminología\" href=\"/es/grados/criminologia/presentacion\" class=\"card-absolute-link\" onclick=\\'_euocuc402llistatarea_WAR_euocentrega3portlet_INSTANCE_kDk3_enviarPushClick(\"Criminologia\", \"PC02100\", \"20.42\", \"Graus\", \"Dret i Ciències Polítiques\", \"Castellà\");\\'>\\xa0</a>'}\n",
      "2020-12-26 20:37:49 [scrapy.core.scraper] DEBUG: Scraped from <200 https://estudios.uoc.edu/es/grados>\n",
      "{'title': '<a title=\"Gestión y Administración Pública (interuniversitario: UOC, UB)\" href=\"/es/grados/gestion-administracion-publica/presentacion\" class=\"card-absolute-link\" onclick=\\'_euocuc402llistatarea_WAR_euocentrega3portlet_INSTANCE_kDk3_enviarPushClick(\"Gestió i Administració Pública (interuniversitari: UOC, UB)\", \"PC02103\", \"20.42\", \"Graus\", \"Dret i Ciències Polítiques\", \"Castellà\");\\'>\\xa0</a>'}\n",
      "2020-12-26 20:37:49 [scrapy.core.scraper] DEBUG: Scraped from <200 https://estudios.uoc.edu/es/grados>\n",
      "{'title': '<a title=\"Derecho\" href=\"/es/grados/derecho/presentacion\" class=\"card-absolute-link\" onclick=\\'_euocuc402llistatarea_WAR_euocentrega3portlet_INSTANCE_kDk3_enviarPushClick(\"Dret\", \"PC02101\", \"20.42\", \"Graus\", \"Dret i Ciències Polítiques\", \"Castellà\");\\'>\\xa0</a>'}\n",
      "2020-12-26 20:37:49 [scrapy.core.scraper] DEBUG: Scraped from <200 https://estudios.uoc.edu/es/grados>\n",
      "{'title': '<a title=\"Doble titulación de Derecho y de Administración y Dirección de Empresas\" href=\"/es/grados/derecho-administracion-direccion-empresas-doble-titulacion/presentacion\" class=\"card-absolute-link\" onclick=\\'_euocuc402llistatarea_WAR_euocentrega3portlet_INSTANCE_kDk3_enviarPushClick(\"Doble titulació de Dret i d%27Administració i Direcció d%27Empreses\", \"PC04309\", \"0.0\", \"Graus\", \"Dret i Ciències Polítiques\", \"Castellà\");\\'>\\xa0</a>'}\n",
      "2020-12-26 20:37:49 [scrapy.core.scraper] DEBUG: Scraped from <200 https://estudios.uoc.edu/es/grados>\n",
      "{'title': '<a title=\"Relaciones Internacionales\" href=\"/es/grados/relaciones-internacionales/presentacion\" class=\"card-absolute-link\" onclick=\\'_euocuc402llistatarea_WAR_euocentrega3portlet_INSTANCE_kDk3_enviarPushClick(\"Relacions Internacionals\", \"PC02137\", \"20.42\", \"Graus\", \"Dret i Ciències Polítiques\", \"Castellà\");\\'>\\xa0</a>'}\n",
      "2020-12-26 20:37:49 [scrapy.core.scraper] DEBUG: Scraped from <200 https://estudios.uoc.edu/es/grados>\n",
      "{'title': '<a title=\"Multimedia\" href=\"/es/grados/multimedia/presentacion\" class=\"card-absolute-link\" onclick=\\'_euocuc402llistatarea_WAR_euocentrega3portlet_INSTANCE_kDk3_enviarPushClick(\"Multimèdia\", \"PC02136\", \"22.8\", \"Graus\", \"Disseny, Creació i Multimèdia\", \"Castellà\");\\'>\\xa0</a>'}\n",
      "2020-12-26 20:37:49 [scrapy.core.scraper] DEBUG: Scraped from <200 https://estudios.uoc.edu/es/grados>\n",
      "{'title': '<a title=\"Artes\" href=\"/es/grados/artes/presentacion\" class=\"card-absolute-link\" onclick=\\'_euocuc402llistatarea_WAR_euocentrega3portlet_INSTANCE_kDk3_enviarPushClick(\"Arts\", \"PC01461\", \"20.42\", \"Graus\", \"Disseny, Creació i Multimèdia\", \"Castellà\");\\'>\\xa0</a>'}\n",
      "2020-12-26 20:37:49 [scrapy.core.scraper] DEBUG: Scraped from <200 https://estudios.uoc.edu/es/grados>\n",
      "{'title': '<a title=\"Diseño y Creación Digitales\" href=\"/es/grados/dise%C3%B1o-creacion-digital/presentacion\" class=\"card-absolute-link\" onclick=\\'_euocuc402llistatarea_WAR_euocentrega3portlet_INSTANCE_kDk3_enviarPushClick(\"Disseny i Creació Digitals\", \"PC01819\", \"22.8\", \"Graus\", \"Disseny, Creació i Multimèdia\", \"Castellà\");\\'>\\xa0</a>'}\n",
      "2020-12-26 20:37:49 [scrapy.core.scraper] DEBUG: Scraped from <200 https://estudios.uoc.edu/es/grados>\n",
      "{'title': '<a title=\"Administración y Dirección de Empresas\" href=\"/es/grados/administracion-direccion-empresas/presentacion\" class=\"card-absolute-link\" onclick=\\'_euocuc402llistatarea_WAR_euocentrega3portlet_INSTANCE_kDk3_enviarPushClick(\"Administració i Direcció d%27Empreses\", \"PC02089\", \"20.42\", \"Graus\", \"Economia i Empresa\", \"Castellà\");\\'>\\xa0</a>'}\n",
      "2020-12-26 20:37:49 [scrapy.core.scraper] DEBUG: Scraped from <200 https://estudios.uoc.edu/es/grados>\n",
      "{'title': '<a title=\"Doble titulación de Administración y Dirección de Empresas y de Turismo\" href=\"/es/grados/administracion-direccion-empresas-turismo-doble-titulacion/presentacion\" class=\"card-absolute-link\" onclick=\\'_euocuc402llistatarea_WAR_euocentrega3portlet_INSTANCE_kDk3_enviarPushClick(\"Doble titulació d%27Administració i Direcció d%27Empreses i de Turisme\", \"PC04308\", \"0.0\", \"Graus\", \"Economia i Empresa\", \"Castellà\");\\'>\\xa0</a>'}\n",
      "2020-12-26 20:37:49 [scrapy.core.scraper] DEBUG: Scraped from <200 https://estudios.uoc.edu/es/grados>\n",
      "{'title': '<a title=\"Economía\" href=\"/es/grados/economia/presentacion\" class=\"card-absolute-link\" onclick=\\'_euocuc402llistatarea_WAR_euocentrega3portlet_INSTANCE_kDk3_enviarPushClick(\"Economia\", \"PC02128\", \"20.42\", \"Graus\", \"Economia i Empresa\", \"Castellà\");\\'>\\xa0</a>'}\n",
      "2020-12-26 20:37:49 [scrapy.core.scraper] DEBUG: Scraped from <200 https://estudios.uoc.edu/es/grados>\n",
      "{'title': '<a title=\"Marketing e investigación de mercados\" href=\"/es/grados/marketing-investigacion-mercados/presentacion\" class=\"card-absolute-link\" onclick=\\'_euocuc402llistatarea_WAR_euocentrega3portlet_INSTANCE_kDk3_enviarPushClick(\"Màrqueting i Investigació de Mercats\", \"PC02130\", \"20.42\", \"Graus\", \"Economia i Empresa\", \"Castellà\");\\'>\\xa0</a>'}\n",
      "2020-12-26 20:37:49 [scrapy.core.scraper] DEBUG: Scraped from <200 https://estudios.uoc.edu/es/grados>\n",
      "{'title': '<a title=\"Relaciones Laborales y Ocupación\" href=\"/es/grados/relaciones-laborales-ocupacion/presentacion\" class=\"card-absolute-link\" onclick=\\'_euocuc402llistatarea_WAR_euocentrega3portlet_INSTANCE_kDk3_enviarPushClick(\"Relacions Laborals i Ocupació\", \"PC02132\", \"20.42\", \"Graus\", \"Economia i Empresa\", \"Castellà\");\\'>\\xa0</a>'}\n",
      "2020-12-26 20:37:49 [scrapy.core.scraper] DEBUG: Scraped from <200 https://estudios.uoc.edu/es/grados>\n",
      "{'title': '<a title=\"Ciencia de Datos Aplicada /Applied Data Science\" href=\"/es/grados/data-science/presentacion\" class=\"card-absolute-link\" onclick=\\'_euocuc402llistatarea_WAR_euocentrega3portlet_INSTANCE_kDk3_enviarPushClick(\"Ciència de Dades Aplicada /Applied Data Science\", \"PC01367\", \"22.8\", \"Graus\", \"Informàtica, Multimèdia i Telecomunicació\", \"Castellà\");\\'>\\xa0</a>'}\n",
      "2020-12-26 20:37:49 [scrapy.core.scraper] DEBUG: Scraped from <200 https://estudios.uoc.edu/es/grados>\n",
      "{'title': '<a title=\"Doble titulación de Ingeniería Informática y de Administración y Dirección de Empresas\" href=\"/es/grados/informatica-ade-doble-titulacion/presentacion\" class=\"card-absolute-link\" onclick=\\'_euocuc402llistatarea_WAR_euocentrega3portlet_INSTANCE_kDk3_enviarPushClick(\"Doble titulació d%27Enginyeria Informàtica i d%27Administració i Direcció d%27Empreses\", \"PC04312\", \"0.0\", \"Graus\", \"Informàtica, Multimèdia i Telecomunicació\", \"Castellà\");\\'>\\xa0</a>'}\n",
      "2020-12-26 20:37:49 [scrapy.core.scraper] DEBUG: Scraped from <200 https://estudios.uoc.edu/es/grados>\n",
      "{'title': '<a title=\"Ingeniería Informática\" href=\"/es/grados/ingenieria-informatica/presentacion\" class=\"card-absolute-link\" onclick=\\'_euocuc402llistatarea_WAR_euocentrega3portlet_INSTANCE_kDk3_enviarPushClick(\"Enginyeria Informàtica\", \"PC02093\", \"22.8\", \"Graus\", \"Informàtica, Multimèdia i Telecomunicació\", \"Castellà\");\\'>\\xa0</a>'}\n",
      "2020-12-26 20:37:49 [scrapy.core.scraper] DEBUG: Scraped from <200 https://estudios.uoc.edu/es/grados>\n",
      "{'title': '<a title=\"Ingeniería de Tecnologías y Servicios de Telecomunicación\" href=\"/es/grados/tecnologias-telecomunicacion/presentacion\" class=\"card-absolute-link\" onclick=\\'_euocuc402llistatarea_WAR_euocentrega3portlet_INSTANCE_kDk3_enviarPushClick(\"Enginyeria de Tecnologies i Serveis de Telecomunicació\", \"PC02117\", \"22.8\", \"Graus\", \"Informàtica, Multimèdia i Telecomunicació\", \"Castellà\");\\'>\\xa0</a>'}\n",
      "2020-12-26 20:37:49 [scrapy.core.scraper] DEBUG: Scraped from <200 https://estudios.uoc.edu/es/grados>\n",
      "{'title': '<a title=\"Multimedia\" href=\"/es/grados/multimedia/presentacion\" class=\"card-absolute-link\" onclick=\\'_euocuc402llistatarea_WAR_euocentrega3portlet_INSTANCE_kDk3_enviarPushClick(\"Multimèdia\", \"PC02136\", \"22.8\", \"Graus\", \"Informàtica, Multimèdia i Telecomunicació\", \"Castellà\");\\'>\\xa0</a>'}\n",
      "2020-12-26 20:37:49 [scrapy.core.scraper] DEBUG: Scraped from <200 https://estudios.uoc.edu/es/grados>\n",
      "{'title': '<a title=\"Educación Social\" href=\"/es/grados/educacion-social/presentacion\" class=\"card-absolute-link\" onclick=\\'_euocuc402llistatarea_WAR_euocentrega3portlet_INSTANCE_kDk3_enviarPushClick(\"Educació Social\", \"PC02113\", \"20.42\", \"Graus\", \"Psicologia i Ciències de l\\' educaci>\\xa0</a>'}\n",
      "2020-12-26 20:37:49 [scrapy.core.scraper] DEBUG: Scraped from <200 https://estudios.uoc.edu/es/grados>\n",
      "{'title': '<a title=\"Psicología\" href=\"/es/grados/psicologia/presentacion\" class=\"card-absolute-link\" onclick=\\'_euocuc402llistatarea_WAR_euocentrega3portlet_INSTANCE_kDk3_enviarPushClick(\"Psicologia\", \"PC02111\", \"20.42\", \"Graus\", \"Psicologia i Ciències de l\\' educaci>\\xa0</a>'}\n",
      "2020-12-26 20:37:49 [scrapy.core.scraper] DEBUG: Scraped from <200 https://estudios.uoc.edu/es/grados>\n",
      "{'title': '<a title=\"Turismo\" href=\"/es/grados/turismo/presentacion\" class=\"card-absolute-link\" onclick=\\'_euocuc402llistatarea_WAR_euocentrega3portlet_INSTANCE_kDk3_enviarPushClick(\"Turisme\", \"PC02104\", \"20.42\", \"Graus\", \"Turisme\", \"Castellà\");\\'>\\xa0</a>'}\n",
      "2020-12-26 20:37:49 [scrapy.core.engine] INFO: Closing spider (finished)\n",
      "2020-12-26 20:37:49 [scrapy.statscollectors] INFO: Dumping Scrapy stats:\n",
      "{'downloader/request_bytes': 245,\n",
      " 'downloader/request_count': 1,\n",
      " 'downloader/request_method_count/GET': 1,\n",
      " 'downloader/response_bytes': 78890,\n",
      " 'downloader/response_count': 1,\n",
      " 'downloader/response_status_count/200': 1,\n",
      " 'elapsed_time_seconds': 2.279975,\n",
      " 'finish_reason': 'finished',\n",
      " 'finish_time': datetime.datetime(2020, 12, 26, 19, 37, 49, 353662),\n",
      " 'item_scraped_count': 31,\n",
      " 'log_count/DEBUG': 32,\n",
      " 'log_count/INFO': 10,\n",
      " 'response_received_count': 1,\n",
      " 'scheduler/dequeued': 1,\n",
      " 'scheduler/dequeued/memory': 1,\n",
      " 'scheduler/enqueued': 1,\n",
      " 'scheduler/enqueued/memory': 1,\n",
      " 'start_time': datetime.datetime(2020, 12, 26, 19, 37, 47, 73687)}\n",
      "2020-12-26 20:37:49 [scrapy.core.engine] INFO: Spider closed (finished)\n"
     ]
    }
   ],
   "source": [
    "# una vez definida la araña con la class ahora lanzamos\n",
    "if __name__ == \"__main__\":\n",
    "\n",
    "    # Creamos un crawler.\n",
    "    process = CrawlerProcess({\n",
    "        'USER_AGENT': 'Mozilla/4.0 (compatible; MSIE 7.0; Windows NT 5.1)',\n",
    "        'DOWNLOAD_HANDLERS': {'s3': None},\n",
    "        'LOG_ENABLED': True\n",
    "    })\n",
    "\n",
    "    # Inicializamos el crawler con nuestra araña.\n",
    "    process.crawl(uoc_spider)\n",
    "    \n",
    "    # Lanzamos la araña.\n",
    "    process.start()"
   ]
  },
  {
   "cell_type": "code",
   "execution_count": 8,
   "metadata": {},
   "outputs": [
    {
     "ename": "AttributeError",
     "evalue": "'CrawlerProcess' object has no attribute 'json'",
     "output_type": "error",
     "traceback": [
      "\u001b[1;31m---------------------------------------------------------------------------\u001b[0m",
      "\u001b[1;31mAttributeError\u001b[0m                            Traceback (most recent call last)",
      "\u001b[1;32m<ipython-input-8-aa54e399b3e7>\u001b[0m in \u001b[0;36m<module>\u001b[1;34m\u001b[0m\n\u001b[1;32m----> 1\u001b[1;33m \u001b[0mprocess\u001b[0m\u001b[1;33m.\u001b[0m\u001b[0mjson\u001b[0m\u001b[1;33m(\u001b[0m\u001b[1;33m)\u001b[0m\u001b[1;33m\u001b[0m\u001b[1;33m\u001b[0m\u001b[0m\n\u001b[0m",
      "\u001b[1;31mAttributeError\u001b[0m: 'CrawlerProcess' object has no attribute 'json'"
     ]
    }
   ],
   "source": [
    "process."
   ]
  },
  {
   "cell_type": "code",
   "execution_count": null,
   "metadata": {},
   "outputs": [],
   "source": []
  }
 ],
 "metadata": {
  "kernelspec": {
   "display_name": "Python 3",
   "language": "python",
   "name": "python3"
  },
  "language_info": {
   "codemirror_mode": {
    "name": "ipython",
    "version": 3
   },
   "file_extension": ".py",
   "mimetype": "text/x-python",
   "name": "python",
   "nbconvert_exporter": "python",
   "pygments_lexer": "ipython3",
   "version": "3.8.5"
  }
 },
 "nbformat": 4,
 "nbformat_minor": 4
}
