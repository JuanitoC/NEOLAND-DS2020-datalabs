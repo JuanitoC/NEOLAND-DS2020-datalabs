{
 "cells": [
  {
   "cell_type": "markdown",
   "metadata": {},
   "source": [
    "# First Kaggle challenge - Titanic\n",
    "\n",
    "## Machine Learning from Disaster\n",
    "\n",
    "- v0.1_112020\n",
    "- *uthor: marcusRB*\n",
    "- [Kaggle - Titanic challenge](https://www.kaggle.com/c/titanic/)"
   ]
  },
  {
   "cell_type": "markdown",
   "metadata": {},
   "source": [
    "***\n",
    "\n",
    "### 1. The Challenge\n",
    "The sinking of the Titanic is one of the most infamous shipwrecks in history.\n",
    "\n",
    "On April 15, 1912, during her maiden voyage, the widely considered “unsinkable” RMS Titanic sank after colliding with an iceberg. Unfortunately, there weren’t enough lifeboats for everyone onboard, resulting in the death of 1502 out of 2224 passengers and crew.\n",
    "\n",
    "While there was some element of luck involved in surviving, it seems some groups of people were more likely to survive than others.\n",
    "\n",
    "In this challenge, we ask you to build a predictive model that answers the question: “what sorts of people were more likely to survive?” using passenger data (ie name, age, gender, socio-economic class, etc).\n",
    "\n",
    "### What Data Will I Use in This Competition?\n",
    "In this competition, you’ll gain access to two similar datasets that include passenger information like name, age, gender, socio-economic class, etc. One dataset is titled `train.csv` and the other is titled `test.csv`.\n",
    "\n",
    "Train.csv will contain the details of a subset of the passengers on board (891 to be exact) and importantly, will reveal whether they survived or not, also known as the “ground truth”.\n",
    "\n",
    "The `test.csv` dataset contains similar information but does not disclose the “ground truth” for each passenger. It’s your job to predict these outcomes.\n",
    "\n",
    "Using the patterns you find in the train.csv data, predict whether the other 418 passengers on board (found in test.csv) survived."
   ]
  },
  {
   "cell_type": "markdown",
   "metadata": {},
   "source": [
    "## Workflow stages\n",
    "The competition solution workflow goes through seven stages described in the Data Science Solutions book.\n",
    "1. [X] Question or problem definition.\n",
    "2. [ ] Acquire training and testing data.\n",
    "3. [ ] Wrangle, prepare, cleanse the data.\n",
    "4. [ ] Analyze, identify patterns, and explore the data.\n",
    "5. [ ] Model, predict and solve the problem.\n",
    "6. [ ] Visualize, report, and present the problem solving steps and final solution.\n",
    "7. [ ] Supply or submit the results."
   ]
  },
  {
   "cell_type": "markdown",
   "metadata": {},
   "source": [
    "* * *\n",
    "## 2a. Check the versions of libraries"
   ]
  },
  {
   "cell_type": "code",
   "execution_count": 67,
   "metadata": {},
   "outputs": [
    {
     "name": "stdout",
     "output_type": "stream",
     "text": [
      "Python: 3.8.5 (tags/v3.8.5:580fbb0, Jul 20 2020, 15:43:08) [MSC v.1926 32 bit (Intel)]\n",
      "scipy: 1.5.2\n",
      "numpy: 1.19.2\n",
      "matplotlib: 3.3.2\n",
      "pandas: 1.1.3\n",
      "sklearn: 0.23.2\n"
     ]
    }
   ],
   "source": [
    "# Check the versions of libraries MacOS\n",
    "\n",
    "# Python version\n",
    "import sys\n",
    "print('Python: {}'.format(sys.version))\n",
    "# scipy\n",
    "import scipy\n",
    "print('scipy: {}'.format(scipy.__version__))\n",
    "# numpy\n",
    "import numpy\n",
    "print('numpy: {}'.format(numpy.__version__))\n",
    "# matplotlib\n",
    "import matplotlib\n",
    "print('matplotlib: {}'.format(matplotlib.__version__))\n",
    "# pandas\n",
    "import pandas\n",
    "print('pandas: {}'.format(pandas.__version__))\n",
    "# scikit-learn\n",
    "import sklearn\n",
    "print('sklearn: {}'.format(sklearn.__version__))"
   ]
  },
  {
   "cell_type": "code",
<<<<<<< HEAD
   "execution_count": 68,
   "metadata": {},
   "outputs": [
    {
     "name": "stdout",
     "output_type": "stream",
     "text": [
      "Requirement already satisfied: xlrd in c:\\users\\jd\\appdata\\local\\programs\\python\\python38-32\\lib\\site-packages (1.2.0)\n"
     ]
    },
    {
     "name": "stderr",
     "output_type": "stream",
     "text": [
      "WARNING: You are using pip version 20.1.1; however, version 20.2.4 is available.\n",
      "You should consider upgrading via the 'c:\\users\\jd\\appdata\\local\\programs\\python\\python38-32\\python.exe -m pip install --upgrade pip' command.\n"
     ]
    }
   ],
=======
   "execution_count": null,
   "metadata": {},
   "outputs": [],
>>>>>>> 646b4bbf7e1a8f09bf5a7965002c653771698e99
   "source": [
    "# Import new packages\n",
    "#!pip install xlrd"
   ]
  },
  {
   "cell_type": "markdown",
   "metadata": {},
   "source": [
    "## Import libraries"
   ]
  },
  {
   "cell_type": "code",
<<<<<<< HEAD
   "execution_count": 69,
=======
   "execution_count": 2,
>>>>>>> 646b4bbf7e1a8f09bf5a7965002c653771698e99
   "metadata": {},
   "outputs": [],
   "source": [
    "# data analysis and wrangling\n",
    "import pandas as pd\n",
    "import numpy as np\n",
    "import random as rnd\n",
    "from scipy.stats import norm, skew\n",
    "from scipy import stats\n",
    "import xlrd, xdrlib\n",
    "\n",
    "# visualization\n",
    "import seaborn as sns\n",
    "import matplotlib.pyplot as plt\n",
    "%matplotlib inline\n",
    "\n",
    "# data mining\n",
    "#from sklearn.impute import KNNImputer, MissingIndicator, SimpleImputer\n",
    "from sklearn import impute\n",
    "#from sklearn_pandas import categorical_imputer, CategoricalImputer\n",
    "from sklearn.pipeline import make_pipeline, make_union, Pipeline\n",
    "from sklearn import preprocessing\n",
    "# Wrangle missing value\n",
    "from sklearn.impute import SimpleImputer\n",
    "from sklearn.preprocessing import StandardScaler\n",
    "from sklearn.decomposition import PCA\n",
    "\n",
    "## Warnings and other tools\n",
    "import itertools\n",
    "import warnings\n",
    "warnings.filterwarnings(\"ignore\")"
   ]
  },
  {
   "cell_type": "markdown",
   "metadata": {},
   "source": [
    "***\n",
    "## Load dataset\n",
    "\n",
    "Kaggle provee dos datasets: `train` y `test`."
   ]
  },
  {
   "cell_type": "markdown",
   "metadata": {},
   "source": [
    "#### En el caso de realizar la conexión con la API de Kaggle \n",
    "\n",
    "Instalar la librería kaggle\n",
    "\n",
    "```\n",
    "!pip install kaggle\n",
    "```\n",
    "Sucesivamente damos permisos a la carpeta del json \n",
    "\n",
    "```\n",
    "!chmod 600 /home/*vuestro_username*/.kaggle/kaggle.json\n",
    "```\n",
    "\n",
    "Una vez habilitados los permisos a la carpeta `.kaggle` lanzamos esta linea de comando API\n",
    "\n",
    "```\n",
    "!kaggle competitions download -c titanic\n",
    "```"
   ]
  },
  {
   "cell_type": "code",
<<<<<<< HEAD
   "execution_count": 70,
=======
   "execution_count": null,
>>>>>>> 646b4bbf7e1a8f09bf5a7965002c653771698e99
   "metadata": {},
   "outputs": [],
   "source": [
    "#!pip install kaggle\n",
    "#!chmod 600 /home/jovyan/.kaggle/kaggle.json"
   ]
  },
  {
   "cell_type": "code",
<<<<<<< HEAD
   "execution_count": 71,
=======
   "execution_count": null,
>>>>>>> 646b4bbf7e1a8f09bf5a7965002c653771698e99
   "metadata": {},
   "outputs": [],
   "source": [
    "#!kaggle competitions download -c titanic"
   ]
  },
  {
   "cell_type": "markdown",
   "metadata": {},
   "source": [
    "Necesitamos ahora descomprimir el fichero.zip\n",
    "\n",
    "```\n",
    "!unzip -o titanic.zip\n",
    "```"
   ]
  },
  {
   "cell_type": "code",
<<<<<<< HEAD
   "execution_count": 72,
=======
   "execution_count": null,
>>>>>>> 646b4bbf7e1a8f09bf5a7965002c653771698e99
   "metadata": {},
   "outputs": [],
   "source": [
    "#!unzip -o titanic.zip"
   ]
  },
  {
   "cell_type": "markdown",
   "metadata": {},
   "source": [
    "***"
   ]
  },
  {
   "cell_type": "code",
<<<<<<< HEAD
   "execution_count": 73,
=======
   "execution_count": 3,
>>>>>>> 646b4bbf7e1a8f09bf5a7965002c653771698e99
   "metadata": {},
   "outputs": [],
   "source": [
    "## Load dataset\n",
    "train_dataset = pd.read_csv(\"train.csv\")\n",
    "test_dataset = pd.read_csv(\"test.csv\")\n",
    "\n",
    "# Necesitamos separar los ids de los pasajeros para utilizarlos al final del modelo de submit\n",
    "ids = test_dataset['PassengerId']"
   ]
  },
  {
   "cell_type": "code",
<<<<<<< HEAD
   "execution_count": 74,
=======
   "execution_count": 4,
>>>>>>> 646b4bbf7e1a8f09bf5a7965002c653771698e99
   "metadata": {},
   "outputs": [
    {
     "data": {
      "text/plain": [
       "0    892\n",
       "1    893\n",
       "2    894\n",
       "3    895\n",
       "4    896\n",
       "5    897\n",
       "6    898\n",
       "7    899\n",
       "8    900\n",
       "9    901\n",
       "Name: PassengerId, dtype: int64"
      ]
     },
<<<<<<< HEAD
     "execution_count": 74,
=======
     "execution_count": 4,
>>>>>>> 646b4bbf7e1a8f09bf5a7965002c653771698e99
     "metadata": {},
     "output_type": "execute_result"
    }
   ],
   "source": [
    "train_dataset.head(10)\n",
    "test_dataset.head(10)\n",
    "ids.head(10)"
   ]
  },
  {
   "cell_type": "code",
<<<<<<< HEAD
   "execution_count": 75,
=======
   "execution_count": 5,
>>>>>>> 646b4bbf7e1a8f09bf5a7965002c653771698e99
   "metadata": {},
   "outputs": [
    {
     "data": {
      "text/html": [
       "<div>\n",
       "<style scoped>\n",
       "    .dataframe tbody tr th:only-of-type {\n",
       "        vertical-align: middle;\n",
       "    }\n",
       "\n",
       "    .dataframe tbody tr th {\n",
       "        vertical-align: top;\n",
       "    }\n",
       "\n",
       "    .dataframe thead th {\n",
       "        text-align: right;\n",
       "    }\n",
       "</style>\n",
       "<table border=\"1\" class=\"dataframe\">\n",
       "  <thead>\n",
       "    <tr style=\"text-align: right;\">\n",
       "      <th></th>\n",
       "      <th>PassengerId</th>\n",
       "      <th>Survived</th>\n",
       "      <th>Pclass</th>\n",
       "      <th>Name</th>\n",
       "      <th>Sex</th>\n",
       "      <th>Age</th>\n",
       "      <th>SibSp</th>\n",
       "      <th>Parch</th>\n",
       "      <th>Ticket</th>\n",
       "      <th>Fare</th>\n",
       "      <th>Cabin</th>\n",
       "      <th>Embarked</th>\n",
       "    </tr>\n",
       "  </thead>\n",
       "  <tbody>\n",
       "    <tr>\n",
       "      <th>0</th>\n",
       "      <td>1</td>\n",
       "      <td>0.0</td>\n",
       "      <td>3</td>\n",
       "      <td>Braund, Mr. Owen Harris</td>\n",
       "      <td>male</td>\n",
       "      <td>22.0</td>\n",
       "      <td>1</td>\n",
       "      <td>0</td>\n",
       "      <td>A/5 21171</td>\n",
       "      <td>7.2500</td>\n",
       "      <td>NaN</td>\n",
       "      <td>S</td>\n",
       "    </tr>\n",
       "    <tr>\n",
       "      <th>1</th>\n",
       "      <td>2</td>\n",
       "      <td>1.0</td>\n",
       "      <td>1</td>\n",
       "      <td>Cumings, Mrs. John Bradley (Florence Briggs Th...</td>\n",
       "      <td>female</td>\n",
       "      <td>38.0</td>\n",
       "      <td>1</td>\n",
       "      <td>0</td>\n",
       "      <td>PC 17599</td>\n",
       "      <td>71.2833</td>\n",
       "      <td>C85</td>\n",
       "      <td>C</td>\n",
       "    </tr>\n",
       "    <tr>\n",
       "      <th>2</th>\n",
       "      <td>3</td>\n",
       "      <td>1.0</td>\n",
       "      <td>3</td>\n",
       "      <td>Heikkinen, Miss. Laina</td>\n",
       "      <td>female</td>\n",
       "      <td>26.0</td>\n",
       "      <td>0</td>\n",
       "      <td>0</td>\n",
       "      <td>STON/O2. 3101282</td>\n",
       "      <td>7.9250</td>\n",
       "      <td>NaN</td>\n",
       "      <td>S</td>\n",
       "    </tr>\n",
       "    <tr>\n",
       "      <th>3</th>\n",
       "      <td>4</td>\n",
       "      <td>1.0</td>\n",
       "      <td>1</td>\n",
       "      <td>Futrelle, Mrs. Jacques Heath (Lily May Peel)</td>\n",
       "      <td>female</td>\n",
       "      <td>35.0</td>\n",
       "      <td>1</td>\n",
       "      <td>0</td>\n",
       "      <td>113803</td>\n",
       "      <td>53.1000</td>\n",
       "      <td>C123</td>\n",
       "      <td>S</td>\n",
       "    </tr>\n",
       "    <tr>\n",
       "      <th>4</th>\n",
       "      <td>5</td>\n",
       "      <td>0.0</td>\n",
       "      <td>3</td>\n",
       "      <td>Allen, Mr. William Henry</td>\n",
       "      <td>male</td>\n",
       "      <td>35.0</td>\n",
       "      <td>0</td>\n",
       "      <td>0</td>\n",
       "      <td>373450</td>\n",
       "      <td>8.0500</td>\n",
       "      <td>NaN</td>\n",
       "      <td>S</td>\n",
       "    </tr>\n",
       "    <tr>\n",
       "      <th>...</th>\n",
       "      <td>...</td>\n",
       "      <td>...</td>\n",
       "      <td>...</td>\n",
       "      <td>...</td>\n",
       "      <td>...</td>\n",
       "      <td>...</td>\n",
       "      <td>...</td>\n",
       "      <td>...</td>\n",
       "      <td>...</td>\n",
       "      <td>...</td>\n",
       "      <td>...</td>\n",
       "      <td>...</td>\n",
       "    </tr>\n",
       "    <tr>\n",
       "      <th>1304</th>\n",
       "      <td>1305</td>\n",
       "      <td>NaN</td>\n",
       "      <td>3</td>\n",
       "      <td>Spector, Mr. Woolf</td>\n",
       "      <td>male</td>\n",
       "      <td>NaN</td>\n",
       "      <td>0</td>\n",
       "      <td>0</td>\n",
       "      <td>A.5. 3236</td>\n",
       "      <td>8.0500</td>\n",
       "      <td>NaN</td>\n",
       "      <td>S</td>\n",
       "    </tr>\n",
       "    <tr>\n",
       "      <th>1305</th>\n",
       "      <td>1306</td>\n",
       "      <td>NaN</td>\n",
       "      <td>1</td>\n",
       "      <td>Oliva y Ocana, Dona. Fermina</td>\n",
       "      <td>female</td>\n",
       "      <td>39.0</td>\n",
       "      <td>0</td>\n",
       "      <td>0</td>\n",
       "      <td>PC 17758</td>\n",
       "      <td>108.9000</td>\n",
       "      <td>C105</td>\n",
       "      <td>C</td>\n",
       "    </tr>\n",
       "    <tr>\n",
       "      <th>1306</th>\n",
       "      <td>1307</td>\n",
       "      <td>NaN</td>\n",
       "      <td>3</td>\n",
       "      <td>Saether, Mr. Simon Sivertsen</td>\n",
       "      <td>male</td>\n",
       "      <td>38.5</td>\n",
       "      <td>0</td>\n",
       "      <td>0</td>\n",
       "      <td>SOTON/O.Q. 3101262</td>\n",
       "      <td>7.2500</td>\n",
       "      <td>NaN</td>\n",
       "      <td>S</td>\n",
       "    </tr>\n",
       "    <tr>\n",
       "      <th>1307</th>\n",
       "      <td>1308</td>\n",
       "      <td>NaN</td>\n",
       "      <td>3</td>\n",
       "      <td>Ware, Mr. Frederick</td>\n",
       "      <td>male</td>\n",
       "      <td>NaN</td>\n",
       "      <td>0</td>\n",
       "      <td>0</td>\n",
       "      <td>359309</td>\n",
       "      <td>8.0500</td>\n",
       "      <td>NaN</td>\n",
       "      <td>S</td>\n",
       "    </tr>\n",
       "    <tr>\n",
       "      <th>1308</th>\n",
       "      <td>1309</td>\n",
       "      <td>NaN</td>\n",
       "      <td>3</td>\n",
       "      <td>Peter, Master. Michael J</td>\n",
       "      <td>male</td>\n",
       "      <td>NaN</td>\n",
       "      <td>1</td>\n",
       "      <td>1</td>\n",
       "      <td>2668</td>\n",
       "      <td>22.3583</td>\n",
       "      <td>NaN</td>\n",
       "      <td>C</td>\n",
       "    </tr>\n",
       "  </tbody>\n",
       "</table>\n",
       "<p>1309 rows × 12 columns</p>\n",
       "</div>"
      ],
      "text/plain": [
       "      PassengerId  Survived  Pclass  \\\n",
       "0               1       0.0       3   \n",
       "1               2       1.0       1   \n",
       "2               3       1.0       3   \n",
       "3               4       1.0       1   \n",
       "4               5       0.0       3   \n",
       "...           ...       ...     ...   \n",
       "1304         1305       NaN       3   \n",
       "1305         1306       NaN       1   \n",
       "1306         1307       NaN       3   \n",
       "1307         1308       NaN       3   \n",
       "1308         1309       NaN       3   \n",
       "\n",
       "                                                   Name     Sex   Age  SibSp  \\\n",
       "0                               Braund, Mr. Owen Harris    male  22.0      1   \n",
       "1     Cumings, Mrs. John Bradley (Florence Briggs Th...  female  38.0      1   \n",
       "2                                Heikkinen, Miss. Laina  female  26.0      0   \n",
       "3          Futrelle, Mrs. Jacques Heath (Lily May Peel)  female  35.0      1   \n",
       "4                              Allen, Mr. William Henry    male  35.0      0   \n",
       "...                                                 ...     ...   ...    ...   \n",
       "1304                                 Spector, Mr. Woolf    male   NaN      0   \n",
       "1305                       Oliva y Ocana, Dona. Fermina  female  39.0      0   \n",
       "1306                       Saether, Mr. Simon Sivertsen    male  38.5      0   \n",
       "1307                                Ware, Mr. Frederick    male   NaN      0   \n",
       "1308                           Peter, Master. Michael J    male   NaN      1   \n",
       "\n",
       "      Parch              Ticket      Fare Cabin Embarked  \n",
       "0         0           A/5 21171    7.2500   NaN        S  \n",
       "1         0            PC 17599   71.2833   C85        C  \n",
       "2         0    STON/O2. 3101282    7.9250   NaN        S  \n",
       "3         0              113803   53.1000  C123        S  \n",
       "4         0              373450    8.0500   NaN        S  \n",
       "...     ...                 ...       ...   ...      ...  \n",
       "1304      0           A.5. 3236    8.0500   NaN        S  \n",
       "1305      0            PC 17758  108.9000  C105        C  \n",
       "1306      0  SOTON/O.Q. 3101262    7.2500   NaN        S  \n",
       "1307      0              359309    8.0500   NaN        S  \n",
       "1308      1                2668   22.3583   NaN        C  \n",
       "\n",
       "[1309 rows x 12 columns]"
      ]
     },
     "execution_count": 75,
     "metadata": {},
     "output_type": "execute_result"
    }
   ],
   "source": [
    "# Unificamos los dos dataset para poder procesarlos conjuntamente\n",
    "titanic_list = pd.concat(objs=[train_dataset, test_dataset],\n",
    "                         axis=0).reset_index(drop=True)\n",
    "titanic_list"
   ]
  },
  {
   "cell_type": "code",
   "execution_count": 76,
   "metadata": {},
   "outputs": [
    {
     "data": {
      "text/plain": [
       "((891, 12), (418, 11))"
      ]
     },
     "execution_count": 76,
     "metadata": {},
     "output_type": "execute_result"
    }
   ],
   "source": [
    "# Comprobamos la forma de nuestro dataset\n",
    "train_dataset.shape, test_dataset.shape"
   ]
  },
  {
   "cell_type": "code",
   "execution_count": 77,
   "metadata": {},
   "outputs": [
    {
     "data": {
      "text/plain": [
       "(1309, 12)"
      ]
     },
     "execution_count": 77,
     "metadata": {},
     "output_type": "execute_result"
    }
   ],
   "source": [
    "titanic_list.shape"
   ]
  },
  {
   "cell_type": "code",
   "execution_count": 78,
   "metadata": {},
   "outputs": [
    {
     "data": {
      "text/html": [
       "<div>\n",
       "<style scoped>\n",
       "    .dataframe tbody tr th:only-of-type {\n",
       "        vertical-align: middle;\n",
       "    }\n",
       "\n",
       "    .dataframe tbody tr th {\n",
       "        vertical-align: top;\n",
       "    }\n",
       "\n",
       "    .dataframe thead th {\n",
       "        text-align: right;\n",
       "    }\n",
       "</style>\n",
       "<table border=\"1\" class=\"dataframe\">\n",
       "  <thead>\n",
       "    <tr style=\"text-align: right;\">\n",
       "      <th></th>\n",
       "      <th>PassengerId</th>\n",
       "      <th>Survived</th>\n",
       "      <th>Pclass</th>\n",
       "      <th>Name</th>\n",
       "      <th>Sex</th>\n",
       "      <th>Age</th>\n",
       "      <th>SibSp</th>\n",
       "      <th>Parch</th>\n",
       "      <th>Ticket</th>\n",
       "      <th>Fare</th>\n",
       "      <th>Cabin</th>\n",
       "      <th>Embarked</th>\n",
       "    </tr>\n",
       "  </thead>\n",
       "  <tbody>\n",
       "    <tr>\n",
       "      <th>0</th>\n",
       "      <td>1</td>\n",
       "      <td>0.0</td>\n",
       "      <td>3</td>\n",
       "      <td>Braund, Mr. Owen Harris</td>\n",
       "      <td>male</td>\n",
       "      <td>22.0</td>\n",
       "      <td>1</td>\n",
       "      <td>0</td>\n",
       "      <td>A/5 21171</td>\n",
       "      <td>7.2500</td>\n",
       "      <td>NaN</td>\n",
       "      <td>S</td>\n",
       "    </tr>\n",
       "    <tr>\n",
       "      <th>1</th>\n",
       "      <td>2</td>\n",
       "      <td>1.0</td>\n",
       "      <td>1</td>\n",
       "      <td>Cumings, Mrs. John Bradley (Florence Briggs Th...</td>\n",
       "      <td>female</td>\n",
       "      <td>38.0</td>\n",
       "      <td>1</td>\n",
       "      <td>0</td>\n",
       "      <td>PC 17599</td>\n",
       "      <td>71.2833</td>\n",
       "      <td>C85</td>\n",
       "      <td>C</td>\n",
       "    </tr>\n",
       "    <tr>\n",
       "      <th>2</th>\n",
       "      <td>3</td>\n",
       "      <td>1.0</td>\n",
       "      <td>3</td>\n",
       "      <td>Heikkinen, Miss. Laina</td>\n",
       "      <td>female</td>\n",
       "      <td>26.0</td>\n",
       "      <td>0</td>\n",
       "      <td>0</td>\n",
       "      <td>STON/O2. 3101282</td>\n",
       "      <td>7.9250</td>\n",
       "      <td>NaN</td>\n",
       "      <td>S</td>\n",
       "    </tr>\n",
       "    <tr>\n",
       "      <th>3</th>\n",
       "      <td>4</td>\n",
       "      <td>1.0</td>\n",
       "      <td>1</td>\n",
       "      <td>Futrelle, Mrs. Jacques Heath (Lily May Peel)</td>\n",
       "      <td>female</td>\n",
       "      <td>35.0</td>\n",
       "      <td>1</td>\n",
       "      <td>0</td>\n",
       "      <td>113803</td>\n",
       "      <td>53.1000</td>\n",
       "      <td>C123</td>\n",
       "      <td>S</td>\n",
       "    </tr>\n",
       "    <tr>\n",
       "      <th>4</th>\n",
       "      <td>5</td>\n",
       "      <td>0.0</td>\n",
       "      <td>3</td>\n",
       "      <td>Allen, Mr. William Henry</td>\n",
       "      <td>male</td>\n",
       "      <td>35.0</td>\n",
       "      <td>0</td>\n",
       "      <td>0</td>\n",
       "      <td>373450</td>\n",
       "      <td>8.0500</td>\n",
       "      <td>NaN</td>\n",
       "      <td>S</td>\n",
       "    </tr>\n",
       "    <tr>\n",
       "      <th>5</th>\n",
       "      <td>6</td>\n",
       "      <td>0.0</td>\n",
       "      <td>3</td>\n",
       "      <td>Moran, Mr. James</td>\n",
       "      <td>male</td>\n",
       "      <td>NaN</td>\n",
       "      <td>0</td>\n",
       "      <td>0</td>\n",
       "      <td>330877</td>\n",
       "      <td>8.4583</td>\n",
       "      <td>NaN</td>\n",
       "      <td>Q</td>\n",
       "    </tr>\n",
       "    <tr>\n",
       "      <th>6</th>\n",
       "      <td>7</td>\n",
       "      <td>0.0</td>\n",
       "      <td>1</td>\n",
       "      <td>McCarthy, Mr. Timothy J</td>\n",
       "      <td>male</td>\n",
       "      <td>54.0</td>\n",
       "      <td>0</td>\n",
       "      <td>0</td>\n",
       "      <td>17463</td>\n",
       "      <td>51.8625</td>\n",
       "      <td>E46</td>\n",
       "      <td>S</td>\n",
       "    </tr>\n",
       "    <tr>\n",
       "      <th>7</th>\n",
       "      <td>8</td>\n",
       "      <td>0.0</td>\n",
       "      <td>3</td>\n",
       "      <td>Palsson, Master. Gosta Leonard</td>\n",
       "      <td>male</td>\n",
       "      <td>2.0</td>\n",
       "      <td>3</td>\n",
       "      <td>1</td>\n",
       "      <td>349909</td>\n",
       "      <td>21.0750</td>\n",
       "      <td>NaN</td>\n",
       "      <td>S</td>\n",
       "    </tr>\n",
       "    <tr>\n",
       "      <th>8</th>\n",
       "      <td>9</td>\n",
       "      <td>1.0</td>\n",
       "      <td>3</td>\n",
       "      <td>Johnson, Mrs. Oscar W (Elisabeth Vilhelmina Berg)</td>\n",
       "      <td>female</td>\n",
       "      <td>27.0</td>\n",
       "      <td>0</td>\n",
       "      <td>2</td>\n",
       "      <td>347742</td>\n",
       "      <td>11.1333</td>\n",
       "      <td>NaN</td>\n",
       "      <td>S</td>\n",
       "    </tr>\n",
       "    <tr>\n",
       "      <th>9</th>\n",
       "      <td>10</td>\n",
       "      <td>1.0</td>\n",
       "      <td>2</td>\n",
       "      <td>Nasser, Mrs. Nicholas (Adele Achem)</td>\n",
       "      <td>female</td>\n",
       "      <td>14.0</td>\n",
       "      <td>1</td>\n",
       "      <td>0</td>\n",
       "      <td>237736</td>\n",
       "      <td>30.0708</td>\n",
       "      <td>NaN</td>\n",
       "      <td>C</td>\n",
       "    </tr>\n",
       "  </tbody>\n",
       "</table>\n",
       "</div>"
      ],
      "text/plain": [
       "   PassengerId  Survived  Pclass  \\\n",
       "0            1       0.0       3   \n",
       "1            2       1.0       1   \n",
       "2            3       1.0       3   \n",
       "3            4       1.0       1   \n",
       "4            5       0.0       3   \n",
       "5            6       0.0       3   \n",
       "6            7       0.0       1   \n",
       "7            8       0.0       3   \n",
       "8            9       1.0       3   \n",
       "9           10       1.0       2   \n",
       "\n",
       "                                                Name     Sex   Age  SibSp  \\\n",
       "0                            Braund, Mr. Owen Harris    male  22.0      1   \n",
       "1  Cumings, Mrs. John Bradley (Florence Briggs Th...  female  38.0      1   \n",
       "2                             Heikkinen, Miss. Laina  female  26.0      0   \n",
       "3       Futrelle, Mrs. Jacques Heath (Lily May Peel)  female  35.0      1   \n",
       "4                           Allen, Mr. William Henry    male  35.0      0   \n",
       "5                                   Moran, Mr. James    male   NaN      0   \n",
       "6                            McCarthy, Mr. Timothy J    male  54.0      0   \n",
       "7                     Palsson, Master. Gosta Leonard    male   2.0      3   \n",
       "8  Johnson, Mrs. Oscar W (Elisabeth Vilhelmina Berg)  female  27.0      0   \n",
       "9                Nasser, Mrs. Nicholas (Adele Achem)  female  14.0      1   \n",
       "\n",
       "   Parch            Ticket     Fare Cabin Embarked  \n",
       "0      0         A/5 21171   7.2500   NaN        S  \n",
       "1      0          PC 17599  71.2833   C85        C  \n",
       "2      0  STON/O2. 3101282   7.9250   NaN        S  \n",
       "3      0            113803  53.1000  C123        S  \n",
       "4      0            373450   8.0500   NaN        S  \n",
       "5      0            330877   8.4583   NaN        Q  \n",
       "6      0             17463  51.8625   E46        S  \n",
       "7      1            349909  21.0750   NaN        S  \n",
       "8      2            347742  11.1333   NaN        S  \n",
       "9      0            237736  30.0708   NaN        C  "
      ]
     },
     "execution_count": 78,
     "metadata": {},
     "output_type": "execute_result"
    }
   ],
   "source": [
    "titanic_list.head(10)"
   ]
  },
  {
   "cell_type": "code",
   "execution_count": 79,
   "metadata": {},
   "outputs": [
    {
     "data": {
      "text/html": [
       "<div>\n",
       "<style scoped>\n",
       "    .dataframe tbody tr th:only-of-type {\n",
       "        vertical-align: middle;\n",
       "    }\n",
       "\n",
       "    .dataframe tbody tr th {\n",
       "        vertical-align: top;\n",
       "    }\n",
       "\n",
       "    .dataframe thead th {\n",
       "        text-align: right;\n",
       "    }\n",
       "</style>\n",
       "<table border=\"1\" class=\"dataframe\">\n",
       "  <thead>\n",
       "    <tr style=\"text-align: right;\">\n",
       "      <th></th>\n",
       "      <th>PassengerId</th>\n",
       "      <th>Survived</th>\n",
       "      <th>Pclass</th>\n",
       "      <th>Name</th>\n",
       "      <th>Sex</th>\n",
       "      <th>Age</th>\n",
       "      <th>SibSp</th>\n",
       "      <th>Parch</th>\n",
       "      <th>Ticket</th>\n",
       "      <th>Fare</th>\n",
       "      <th>Cabin</th>\n",
       "      <th>Embarked</th>\n",
       "    </tr>\n",
       "  </thead>\n",
       "  <tbody>\n",
       "    <tr>\n",
       "      <th>1299</th>\n",
       "      <td>1300</td>\n",
       "      <td>NaN</td>\n",
       "      <td>3</td>\n",
       "      <td>Riordan, Miss. Johanna Hannah\"\"</td>\n",
       "      <td>female</td>\n",
       "      <td>NaN</td>\n",
       "      <td>0</td>\n",
       "      <td>0</td>\n",
       "      <td>334915</td>\n",
       "      <td>7.7208</td>\n",
       "      <td>NaN</td>\n",
       "      <td>Q</td>\n",
       "    </tr>\n",
       "    <tr>\n",
       "      <th>1300</th>\n",
       "      <td>1301</td>\n",
       "      <td>NaN</td>\n",
       "      <td>3</td>\n",
       "      <td>Peacock, Miss. Treasteall</td>\n",
       "      <td>female</td>\n",
       "      <td>3.0</td>\n",
       "      <td>1</td>\n",
       "      <td>1</td>\n",
       "      <td>SOTON/O.Q. 3101315</td>\n",
       "      <td>13.7750</td>\n",
       "      <td>NaN</td>\n",
       "      <td>S</td>\n",
       "    </tr>\n",
       "    <tr>\n",
       "      <th>1301</th>\n",
       "      <td>1302</td>\n",
       "      <td>NaN</td>\n",
       "      <td>3</td>\n",
       "      <td>Naughton, Miss. Hannah</td>\n",
       "      <td>female</td>\n",
       "      <td>NaN</td>\n",
       "      <td>0</td>\n",
       "      <td>0</td>\n",
       "      <td>365237</td>\n",
       "      <td>7.7500</td>\n",
       "      <td>NaN</td>\n",
       "      <td>Q</td>\n",
       "    </tr>\n",
       "    <tr>\n",
       "      <th>1302</th>\n",
       "      <td>1303</td>\n",
       "      <td>NaN</td>\n",
       "      <td>1</td>\n",
       "      <td>Minahan, Mrs. William Edward (Lillian E Thorpe)</td>\n",
       "      <td>female</td>\n",
       "      <td>37.0</td>\n",
       "      <td>1</td>\n",
       "      <td>0</td>\n",
       "      <td>19928</td>\n",
       "      <td>90.0000</td>\n",
       "      <td>C78</td>\n",
       "      <td>Q</td>\n",
       "    </tr>\n",
       "    <tr>\n",
       "      <th>1303</th>\n",
       "      <td>1304</td>\n",
       "      <td>NaN</td>\n",
       "      <td>3</td>\n",
       "      <td>Henriksson, Miss. Jenny Lovisa</td>\n",
       "      <td>female</td>\n",
       "      <td>28.0</td>\n",
       "      <td>0</td>\n",
       "      <td>0</td>\n",
       "      <td>347086</td>\n",
       "      <td>7.7750</td>\n",
       "      <td>NaN</td>\n",
       "      <td>S</td>\n",
       "    </tr>\n",
       "    <tr>\n",
       "      <th>1304</th>\n",
       "      <td>1305</td>\n",
       "      <td>NaN</td>\n",
       "      <td>3</td>\n",
       "      <td>Spector, Mr. Woolf</td>\n",
       "      <td>male</td>\n",
       "      <td>NaN</td>\n",
       "      <td>0</td>\n",
       "      <td>0</td>\n",
       "      <td>A.5. 3236</td>\n",
       "      <td>8.0500</td>\n",
       "      <td>NaN</td>\n",
       "      <td>S</td>\n",
       "    </tr>\n",
       "    <tr>\n",
       "      <th>1305</th>\n",
       "      <td>1306</td>\n",
       "      <td>NaN</td>\n",
       "      <td>1</td>\n",
       "      <td>Oliva y Ocana, Dona. Fermina</td>\n",
       "      <td>female</td>\n",
       "      <td>39.0</td>\n",
       "      <td>0</td>\n",
       "      <td>0</td>\n",
       "      <td>PC 17758</td>\n",
       "      <td>108.9000</td>\n",
       "      <td>C105</td>\n",
       "      <td>C</td>\n",
       "    </tr>\n",
       "    <tr>\n",
       "      <th>1306</th>\n",
       "      <td>1307</td>\n",
       "      <td>NaN</td>\n",
       "      <td>3</td>\n",
       "      <td>Saether, Mr. Simon Sivertsen</td>\n",
       "      <td>male</td>\n",
       "      <td>38.5</td>\n",
       "      <td>0</td>\n",
       "      <td>0</td>\n",
       "      <td>SOTON/O.Q. 3101262</td>\n",
       "      <td>7.2500</td>\n",
       "      <td>NaN</td>\n",
       "      <td>S</td>\n",
       "    </tr>\n",
       "    <tr>\n",
       "      <th>1307</th>\n",
       "      <td>1308</td>\n",
       "      <td>NaN</td>\n",
       "      <td>3</td>\n",
       "      <td>Ware, Mr. Frederick</td>\n",
       "      <td>male</td>\n",
       "      <td>NaN</td>\n",
       "      <td>0</td>\n",
       "      <td>0</td>\n",
       "      <td>359309</td>\n",
       "      <td>8.0500</td>\n",
       "      <td>NaN</td>\n",
       "      <td>S</td>\n",
       "    </tr>\n",
       "    <tr>\n",
       "      <th>1308</th>\n",
       "      <td>1309</td>\n",
       "      <td>NaN</td>\n",
       "      <td>3</td>\n",
       "      <td>Peter, Master. Michael J</td>\n",
       "      <td>male</td>\n",
       "      <td>NaN</td>\n",
       "      <td>1</td>\n",
       "      <td>1</td>\n",
       "      <td>2668</td>\n",
       "      <td>22.3583</td>\n",
       "      <td>NaN</td>\n",
       "      <td>C</td>\n",
       "    </tr>\n",
       "  </tbody>\n",
       "</table>\n",
       "</div>"
      ],
      "text/plain": [
       "      PassengerId  Survived  Pclass  \\\n",
       "1299         1300       NaN       3   \n",
       "1300         1301       NaN       3   \n",
       "1301         1302       NaN       3   \n",
       "1302         1303       NaN       1   \n",
       "1303         1304       NaN       3   \n",
       "1304         1305       NaN       3   \n",
       "1305         1306       NaN       1   \n",
       "1306         1307       NaN       3   \n",
       "1307         1308       NaN       3   \n",
       "1308         1309       NaN       3   \n",
       "\n",
       "                                                 Name     Sex   Age  SibSp  \\\n",
       "1299                  Riordan, Miss. Johanna Hannah\"\"  female   NaN      0   \n",
       "1300                        Peacock, Miss. Treasteall  female   3.0      1   \n",
       "1301                           Naughton, Miss. Hannah  female   NaN      0   \n",
       "1302  Minahan, Mrs. William Edward (Lillian E Thorpe)  female  37.0      1   \n",
       "1303                   Henriksson, Miss. Jenny Lovisa  female  28.0      0   \n",
       "1304                               Spector, Mr. Woolf    male   NaN      0   \n",
       "1305                     Oliva y Ocana, Dona. Fermina  female  39.0      0   \n",
       "1306                     Saether, Mr. Simon Sivertsen    male  38.5      0   \n",
       "1307                              Ware, Mr. Frederick    male   NaN      0   \n",
       "1308                         Peter, Master. Michael J    male   NaN      1   \n",
       "\n",
       "      Parch              Ticket      Fare Cabin Embarked  \n",
       "1299      0              334915    7.7208   NaN        Q  \n",
       "1300      1  SOTON/O.Q. 3101315   13.7750   NaN        S  \n",
       "1301      0              365237    7.7500   NaN        Q  \n",
       "1302      0               19928   90.0000   C78        Q  \n",
       "1303      0              347086    7.7750   NaN        S  \n",
       "1304      0           A.5. 3236    8.0500   NaN        S  \n",
       "1305      0            PC 17758  108.9000  C105        C  \n",
       "1306      0  SOTON/O.Q. 3101262    7.2500   NaN        S  \n",
       "1307      0              359309    8.0500   NaN        S  \n",
       "1308      1                2668   22.3583   NaN        C  "
      ]
     },
<<<<<<< HEAD
     "execution_count": 79,
=======
     "execution_count": 5,
>>>>>>> 646b4bbf7e1a8f09bf5a7965002c653771698e99
     "metadata": {},
     "output_type": "execute_result"
    }
   ],
   "source": [
    "titanic_list.tail(10)"
   ]
  },
  {
<<<<<<< HEAD
   "cell_type": "markdown",
   "metadata": {},
=======
   "cell_type": "code",
   "execution_count": 6,
   "metadata": {},
   "outputs": [
    {
     "data": {
      "text/plain": [
       "((891, 12), (418, 11))"
      ]
     },
     "execution_count": 6,
     "metadata": {},
     "output_type": "execute_result"
    }
   ],
>>>>>>> 646b4bbf7e1a8f09bf5a7965002c653771698e99
   "source": [
    "***\n",
    "\n",
    "## Data description\n",
    "\n",
    "Nuestro conjunto de datos tiene 12 columnas o varables, de las cuales 3 (Age, Cabin y Embarked) tienen valores no disponibles. La variable que queremos predecir es Survived, que nos indica si el pasajero sobrevivió a la tragedia del Titanic."
   ]
  },
  {
   "cell_type": "code",
<<<<<<< HEAD
   "execution_count": 80,
   "metadata": {},
   "outputs": [
    {
     "name": "stdout",
     "output_type": "stream",
     "text": [
      "<class 'pandas.core.frame.DataFrame'>\n",
      "RangeIndex: 1309 entries, 0 to 1308\n",
      "Data columns (total 12 columns):\n",
      " #   Column       Non-Null Count  Dtype  \n",
      "---  ------       --------------  -----  \n",
      " 0   PassengerId  1309 non-null   int64  \n",
      " 1   Survived     891 non-null    float64\n",
      " 2   Pclass       1309 non-null   int64  \n",
      " 3   Name         1309 non-null   object \n",
      " 4   Sex          1309 non-null   object \n",
      " 5   Age          1046 non-null   float64\n",
      " 6   SibSp        1309 non-null   int64  \n",
      " 7   Parch        1309 non-null   int64  \n",
      " 8   Ticket       1309 non-null   object \n",
      " 9   Fare         1308 non-null   float64\n",
      " 10  Cabin        295 non-null    object \n",
      " 11  Embarked     1307 non-null   object \n",
      "dtypes: float64(3), int64(4), object(5)\n",
      "memory usage: 97.2+ KB\n"
     ]
=======
   "execution_count": 7,
   "metadata": {},
   "outputs": [
    {
     "data": {
      "text/plain": [
       "(1309, 12)"
      ]
     },
     "execution_count": 7,
     "metadata": {},
     "output_type": "execute_result"
>>>>>>> 646b4bbf7e1a8f09bf5a7965002c653771698e99
    }
   ],
   "source": [
    "# Check dataframe structure\n",
    "titanic_list.info()"
   ]
  },
  {
   "cell_type": "code",
<<<<<<< HEAD
   "execution_count": 81,
=======
   "execution_count": 8,
>>>>>>> 646b4bbf7e1a8f09bf5a7965002c653771698e99
   "metadata": {},
   "outputs": [
    {
     "data": {
      "text/html": [
       "<div>\n",
       "<style scoped>\n",
       "    .dataframe tbody tr th:only-of-type {\n",
       "        vertical-align: middle;\n",
       "    }\n",
       "\n",
       "    .dataframe tbody tr th {\n",
       "        vertical-align: top;\n",
       "    }\n",
       "\n",
       "    .dataframe thead th {\n",
       "        text-align: right;\n",
       "    }\n",
       "</style>\n",
       "<table border=\"1\" class=\"dataframe\">\n",
       "  <thead>\n",
       "    <tr style=\"text-align: right;\">\n",
       "      <th></th>\n",
       "      <th>PassengerId</th>\n",
       "      <th>Survived</th>\n",
       "      <th>Pclass</th>\n",
       "      <th>Age</th>\n",
       "      <th>SibSp</th>\n",
       "      <th>Parch</th>\n",
       "      <th>Fare</th>\n",
       "    </tr>\n",
       "  </thead>\n",
       "  <tbody>\n",
       "    <tr>\n",
       "      <th>count</th>\n",
       "      <td>1309.000000</td>\n",
       "      <td>891.000000</td>\n",
       "      <td>1309.000000</td>\n",
       "      <td>1046.000000</td>\n",
       "      <td>1309.000000</td>\n",
       "      <td>1309.000000</td>\n",
       "      <td>1308.000000</td>\n",
       "    </tr>\n",
       "    <tr>\n",
       "      <th>mean</th>\n",
       "      <td>655.000000</td>\n",
       "      <td>0.383838</td>\n",
       "      <td>2.294882</td>\n",
       "      <td>29.881138</td>\n",
       "      <td>0.498854</td>\n",
       "      <td>0.385027</td>\n",
       "      <td>33.295479</td>\n",
       "    </tr>\n",
       "    <tr>\n",
       "      <th>std</th>\n",
       "      <td>378.020061</td>\n",
       "      <td>0.486592</td>\n",
       "      <td>0.837836</td>\n",
       "      <td>14.413493</td>\n",
       "      <td>1.041658</td>\n",
       "      <td>0.865560</td>\n",
       "      <td>51.758668</td>\n",
       "    </tr>\n",
       "    <tr>\n",
       "      <th>min</th>\n",
       "      <td>1.000000</td>\n",
       "      <td>0.000000</td>\n",
       "      <td>1.000000</td>\n",
       "      <td>0.170000</td>\n",
       "      <td>0.000000</td>\n",
       "      <td>0.000000</td>\n",
       "      <td>0.000000</td>\n",
       "    </tr>\n",
       "    <tr>\n",
       "      <th>25%</th>\n",
       "      <td>328.000000</td>\n",
       "      <td>0.000000</td>\n",
       "      <td>2.000000</td>\n",
       "      <td>21.000000</td>\n",
       "      <td>0.000000</td>\n",
       "      <td>0.000000</td>\n",
       "      <td>7.895800</td>\n",
       "    </tr>\n",
       "    <tr>\n",
       "      <th>50%</th>\n",
       "      <td>655.000000</td>\n",
       "      <td>0.000000</td>\n",
       "      <td>3.000000</td>\n",
       "      <td>28.000000</td>\n",
       "      <td>0.000000</td>\n",
       "      <td>0.000000</td>\n",
       "      <td>14.454200</td>\n",
       "    </tr>\n",
       "    <tr>\n",
       "      <th>75%</th>\n",
       "      <td>982.000000</td>\n",
       "      <td>1.000000</td>\n",
       "      <td>3.000000</td>\n",
       "      <td>39.000000</td>\n",
       "      <td>1.000000</td>\n",
       "      <td>0.000000</td>\n",
       "      <td>31.275000</td>\n",
       "    </tr>\n",
       "    <tr>\n",
       "      <th>max</th>\n",
       "      <td>1309.000000</td>\n",
       "      <td>1.000000</td>\n",
       "      <td>3.000000</td>\n",
       "      <td>80.000000</td>\n",
       "      <td>8.000000</td>\n",
       "      <td>9.000000</td>\n",
       "      <td>512.329200</td>\n",
       "    </tr>\n",
       "  </tbody>\n",
       "</table>\n",
       "</div>"
      ],
      "text/plain": [
       "       PassengerId    Survived       Pclass          Age        SibSp  \\\n",
       "count  1309.000000  891.000000  1309.000000  1046.000000  1309.000000   \n",
       "mean    655.000000    0.383838     2.294882    29.881138     0.498854   \n",
       "std     378.020061    0.486592     0.837836    14.413493     1.041658   \n",
       "min       1.000000    0.000000     1.000000     0.170000     0.000000   \n",
       "25%     328.000000    0.000000     2.000000    21.000000     0.000000   \n",
       "50%     655.000000    0.000000     3.000000    28.000000     0.000000   \n",
       "75%     982.000000    1.000000     3.000000    39.000000     1.000000   \n",
       "max    1309.000000    1.000000     3.000000    80.000000     8.000000   \n",
       "\n",
       "             Parch         Fare  \n",
       "count  1309.000000  1308.000000  \n",
       "mean      0.385027    33.295479  \n",
       "std       0.865560    51.758668  \n",
       "min       0.000000     0.000000  \n",
       "25%       0.000000     7.895800  \n",
       "50%       0.000000    14.454200  \n",
       "75%       0.000000    31.275000  \n",
       "max       9.000000   512.329200  "
      ]
     },
<<<<<<< HEAD
     "execution_count": 81,
=======
     "execution_count": 8,
>>>>>>> 646b4bbf7e1a8f09bf5a7965002c653771698e99
     "metadata": {},
     "output_type": "execute_result"
    }
   ],
   "source": [
    "# Describimos nuestro dataset\n",
    "titanic_list.describe()"
   ]
  },
  {
   "cell_type": "markdown",
   "metadata": {},
   "source": [
    "***\n",
    "## EDA, Visualization and transformation data\n",
    "\n",
    "realizamos el check de cada atributo, buscamos valores atípicos, nulos, errores y eventualmente creamos nuevos atributos."
   ]
  },
  {
   "cell_type": "code",
<<<<<<< HEAD
   "execution_count": 82,
=======
   "execution_count": 9,
>>>>>>> 646b4bbf7e1a8f09bf5a7965002c653771698e99
   "metadata": {},
   "outputs": [
    {
     "data": {
      "text/html": [
       "<div>\n",
       "<style scoped>\n",
       "    .dataframe tbody tr th:only-of-type {\n",
       "        vertical-align: middle;\n",
       "    }\n",
       "\n",
       "    .dataframe tbody tr th {\n",
       "        vertical-align: top;\n",
       "    }\n",
       "\n",
       "    .dataframe thead th {\n",
       "        text-align: right;\n",
       "    }\n",
       "</style>\n",
       "<table border=\"1\" class=\"dataframe\">\n",
       "  <thead>\n",
       "    <tr style=\"text-align: right;\">\n",
       "      <th></th>\n",
       "      <th>PassengerId</th>\n",
       "      <th>Survived</th>\n",
       "      <th>Pclass</th>\n",
       "      <th>Name</th>\n",
       "      <th>Sex</th>\n",
       "      <th>Age</th>\n",
       "      <th>SibSp</th>\n",
       "      <th>Parch</th>\n",
       "      <th>Ticket</th>\n",
       "      <th>Fare</th>\n",
       "      <th>Cabin</th>\n",
       "      <th>Embarked</th>\n",
       "    </tr>\n",
       "  </thead>\n",
       "  <tbody>\n",
       "    <tr>\n",
       "      <th>0</th>\n",
       "      <td>False</td>\n",
       "      <td>False</td>\n",
       "      <td>False</td>\n",
       "      <td>False</td>\n",
       "      <td>False</td>\n",
       "      <td>False</td>\n",
       "      <td>False</td>\n",
       "      <td>False</td>\n",
       "      <td>False</td>\n",
       "      <td>False</td>\n",
       "      <td>True</td>\n",
       "      <td>False</td>\n",
       "    </tr>\n",
       "    <tr>\n",
       "      <th>1</th>\n",
       "      <td>False</td>\n",
       "      <td>False</td>\n",
       "      <td>False</td>\n",
       "      <td>False</td>\n",
       "      <td>False</td>\n",
       "      <td>False</td>\n",
       "      <td>False</td>\n",
       "      <td>False</td>\n",
       "      <td>False</td>\n",
       "      <td>False</td>\n",
       "      <td>False</td>\n",
       "      <td>False</td>\n",
       "    </tr>\n",
       "    <tr>\n",
       "      <th>2</th>\n",
       "      <td>False</td>\n",
       "      <td>False</td>\n",
       "      <td>False</td>\n",
       "      <td>False</td>\n",
       "      <td>False</td>\n",
       "      <td>False</td>\n",
       "      <td>False</td>\n",
       "      <td>False</td>\n",
       "      <td>False</td>\n",
       "      <td>False</td>\n",
       "      <td>True</td>\n",
       "      <td>False</td>\n",
       "    </tr>\n",
       "    <tr>\n",
       "      <th>3</th>\n",
       "      <td>False</td>\n",
       "      <td>False</td>\n",
       "      <td>False</td>\n",
       "      <td>False</td>\n",
       "      <td>False</td>\n",
       "      <td>False</td>\n",
       "      <td>False</td>\n",
       "      <td>False</td>\n",
       "      <td>False</td>\n",
       "      <td>False</td>\n",
       "      <td>False</td>\n",
       "      <td>False</td>\n",
       "    </tr>\n",
       "    <tr>\n",
       "      <th>4</th>\n",
       "      <td>False</td>\n",
       "      <td>False</td>\n",
       "      <td>False</td>\n",
       "      <td>False</td>\n",
       "      <td>False</td>\n",
       "      <td>False</td>\n",
       "      <td>False</td>\n",
       "      <td>False</td>\n",
       "      <td>False</td>\n",
       "      <td>False</td>\n",
       "      <td>True</td>\n",
       "      <td>False</td>\n",
       "    </tr>\n",
       "    <tr>\n",
       "      <th>...</th>\n",
       "      <td>...</td>\n",
       "      <td>...</td>\n",
       "      <td>...</td>\n",
       "      <td>...</td>\n",
       "      <td>...</td>\n",
       "      <td>...</td>\n",
       "      <td>...</td>\n",
       "      <td>...</td>\n",
       "      <td>...</td>\n",
       "      <td>...</td>\n",
       "      <td>...</td>\n",
       "      <td>...</td>\n",
       "    </tr>\n",
       "    <tr>\n",
       "      <th>1304</th>\n",
       "      <td>False</td>\n",
       "      <td>True</td>\n",
       "      <td>False</td>\n",
       "      <td>False</td>\n",
       "      <td>False</td>\n",
       "      <td>True</td>\n",
       "      <td>False</td>\n",
       "      <td>False</td>\n",
       "      <td>False</td>\n",
       "      <td>False</td>\n",
       "      <td>True</td>\n",
       "      <td>False</td>\n",
       "    </tr>\n",
       "    <tr>\n",
       "      <th>1305</th>\n",
       "      <td>False</td>\n",
       "      <td>True</td>\n",
       "      <td>False</td>\n",
       "      <td>False</td>\n",
       "      <td>False</td>\n",
       "      <td>False</td>\n",
       "      <td>False</td>\n",
       "      <td>False</td>\n",
       "      <td>False</td>\n",
       "      <td>False</td>\n",
       "      <td>False</td>\n",
       "      <td>False</td>\n",
       "    </tr>\n",
       "    <tr>\n",
       "      <th>1306</th>\n",
       "      <td>False</td>\n",
       "      <td>True</td>\n",
       "      <td>False</td>\n",
       "      <td>False</td>\n",
       "      <td>False</td>\n",
       "      <td>False</td>\n",
       "      <td>False</td>\n",
       "      <td>False</td>\n",
       "      <td>False</td>\n",
       "      <td>False</td>\n",
       "      <td>True</td>\n",
       "      <td>False</td>\n",
       "    </tr>\n",
       "    <tr>\n",
       "      <th>1307</th>\n",
       "      <td>False</td>\n",
       "      <td>True</td>\n",
       "      <td>False</td>\n",
       "      <td>False</td>\n",
       "      <td>False</td>\n",
       "      <td>True</td>\n",
       "      <td>False</td>\n",
       "      <td>False</td>\n",
       "      <td>False</td>\n",
       "      <td>False</td>\n",
       "      <td>True</td>\n",
       "      <td>False</td>\n",
       "    </tr>\n",
       "    <tr>\n",
       "      <th>1308</th>\n",
       "      <td>False</td>\n",
       "      <td>True</td>\n",
       "      <td>False</td>\n",
       "      <td>False</td>\n",
       "      <td>False</td>\n",
       "      <td>True</td>\n",
       "      <td>False</td>\n",
       "      <td>False</td>\n",
       "      <td>False</td>\n",
       "      <td>False</td>\n",
       "      <td>True</td>\n",
       "      <td>False</td>\n",
       "    </tr>\n",
       "  </tbody>\n",
       "</table>\n",
       "<p>1309 rows × 12 columns</p>\n",
       "</div>"
      ],
      "text/plain": [
       "      PassengerId  Survived  Pclass   Name    Sex    Age  SibSp  Parch  \\\n",
       "0           False     False   False  False  False  False  False  False   \n",
       "1           False     False   False  False  False  False  False  False   \n",
       "2           False     False   False  False  False  False  False  False   \n",
       "3           False     False   False  False  False  False  False  False   \n",
       "4           False     False   False  False  False  False  False  False   \n",
       "...           ...       ...     ...    ...    ...    ...    ...    ...   \n",
       "1304        False      True   False  False  False   True  False  False   \n",
       "1305        False      True   False  False  False  False  False  False   \n",
       "1306        False      True   False  False  False  False  False  False   \n",
       "1307        False      True   False  False  False   True  False  False   \n",
       "1308        False      True   False  False  False   True  False  False   \n",
       "\n",
       "      Ticket   Fare  Cabin  Embarked  \n",
       "0      False  False   True     False  \n",
       "1      False  False  False     False  \n",
       "2      False  False   True     False  \n",
       "3      False  False  False     False  \n",
       "4      False  False   True     False  \n",
       "...      ...    ...    ...       ...  \n",
       "1304   False  False   True     False  \n",
       "1305   False  False  False     False  \n",
       "1306   False  False   True     False  \n",
       "1307   False  False   True     False  \n",
       "1308   False  False   True     False  \n",
       "\n",
       "[1309 rows x 12 columns]"
      ]
     },
<<<<<<< HEAD
     "execution_count": 82,
=======
     "execution_count": 9,
>>>>>>> 646b4bbf7e1a8f09bf5a7965002c653771698e99
     "metadata": {},
     "output_type": "execute_result"
    }
   ],
   "source": [
    "# Check null y NA para ambos dataset\n",
    "titanic_list.isna()\n",
    "\n",
    "# el resultado será una tabla con valores booleanos"
   ]
  },
  {
   "cell_type": "code",
<<<<<<< HEAD
   "execution_count": 83,
=======
   "execution_count": 10,
>>>>>>> 646b4bbf7e1a8f09bf5a7965002c653771698e99
   "metadata": {},
   "outputs": [
    {
     "data": {
      "text/plain": [
       "PassengerId       0\n",
       "Survived        418\n",
       "Pclass            0\n",
       "Name              0\n",
       "Sex               0\n",
       "Age             263\n",
       "SibSp             0\n",
       "Parch             0\n",
       "Ticket            0\n",
       "Fare              1\n",
       "Cabin          1014\n",
       "Embarked          2\n",
       "dtype: int64"
      ]
     },
     "execution_count": 83,
     "metadata": {},
     "output_type": "execute_result"
    }
   ],
   "source": [
    "# Necesitaré agruparlos y sumarlos\n",
    "titanic_list.isna().sum()"
   ]
  },
  {
   "cell_type": "code",
<<<<<<< HEAD
   "execution_count": 84,
=======
   "execution_count": 11,
>>>>>>> 646b4bbf7e1a8f09bf5a7965002c653771698e99
   "metadata": {},
   "outputs": [
    {
     "data": {
      "text/plain": [
       "PassengerId     0.000000\n",
       "Survived       31.932773\n",
       "Pclass          0.000000\n",
       "Name            0.000000\n",
       "Sex             0.000000\n",
       "Age            20.091673\n",
       "SibSp           0.000000\n",
       "Parch           0.000000\n",
       "Ticket          0.000000\n",
       "Fare            0.076394\n",
       "Cabin          77.463713\n",
       "Embarked        0.152788\n",
       "dtype: float64"
      ]
     },
<<<<<<< HEAD
     "execution_count": 84,
=======
     "execution_count": 11,
>>>>>>> 646b4bbf7e1a8f09bf5a7965002c653771698e99
     "metadata": {},
     "output_type": "execute_result"
    }
   ],
   "source": [
    "# Buscamos la frecuencia relativa\n",
    "titanic_list.isnull().sum()/len(titanic_list)*100"
   ]
  },
  {
   "cell_type": "markdown",
   "metadata": {},
   "source": [
    "Deberíamos realizar un trabajo de manipulación de los datos nulos para `Age`, `Embarked`, `Fare`. Para la variable `Cabin`podemos eliminarla o tratarla."
   ]
  },
  {
   "cell_type": "markdown",
   "metadata": {},
   "source": [
    "*** \n",
    "### `PassengerId`\n",
    "\n",
    "realizamos el check del atributo PassengerId"
   ]
  },
  {
   "cell_type": "code",
   "execution_count": 85,
   "metadata": {},
   "outputs": [
    {
     "data": {
      "text/plain": [
       "0     1\n",
       "1     2\n",
       "2     3\n",
       "3     4\n",
       "4     5\n",
       "5     6\n",
       "6     7\n",
       "7     8\n",
       "8     9\n",
       "9    10\n",
       "Name: PassengerId, dtype: int64"
      ]
     },
     "execution_count": 85,
     "metadata": {},
     "output_type": "execute_result"
    }
   ],
   "source": [
    "titanic_list['PassengerId'].head(10)"
   ]
  },
  {
   "cell_type": "markdown",
   "metadata": {},
   "source": [
    "No va aportar ningun valor a nuestro modelo, por lo tanto eliminaremos este atributo"
   ]
  },
  {
   "cell_type": "code",
   "execution_count": 86,
   "metadata": {},
   "outputs": [],
   "source": [
    "titanic_list_bak = titanic_list"
   ]
  },
  {
   "cell_type": "code",
<<<<<<< HEAD
   "execution_count": 87,
=======
   "execution_count": 12,
>>>>>>> 646b4bbf7e1a8f09bf5a7965002c653771698e99
   "metadata": {},
   "outputs": [
    {
     "data": {
      "text/html": [
       "<div>\n",
       "<style scoped>\n",
       "    .dataframe tbody tr th:only-of-type {\n",
       "        vertical-align: middle;\n",
       "    }\n",
       "\n",
       "    .dataframe tbody tr th {\n",
       "        vertical-align: top;\n",
       "    }\n",
       "\n",
       "    .dataframe thead th {\n",
       "        text-align: right;\n",
       "    }\n",
       "</style>\n",
       "<table border=\"1\" class=\"dataframe\">\n",
       "  <thead>\n",
       "    <tr style=\"text-align: right;\">\n",
       "      <th></th>\n",
       "      <th>PassengerId</th>\n",
       "      <th>Survived</th>\n",
       "      <th>Pclass</th>\n",
       "      <th>Name</th>\n",
       "      <th>Sex</th>\n",
       "      <th>Age</th>\n",
       "      <th>SibSp</th>\n",
       "      <th>Parch</th>\n",
       "      <th>Ticket</th>\n",
       "      <th>Fare</th>\n",
       "      <th>Cabin</th>\n",
       "      <th>Embarked</th>\n",
       "    </tr>\n",
       "  </thead>\n",
       "  <tbody>\n",
       "    <tr>\n",
       "      <th>0</th>\n",
       "      <td>1</td>\n",
       "      <td>0.0</td>\n",
       "      <td>3</td>\n",
       "      <td>Braund, Mr. Owen Harris</td>\n",
       "      <td>male</td>\n",
       "      <td>22.0</td>\n",
       "      <td>1</td>\n",
       "      <td>0</td>\n",
       "      <td>A/5 21171</td>\n",
       "      <td>7.2500</td>\n",
       "      <td>NaN</td>\n",
       "      <td>S</td>\n",
       "    </tr>\n",
       "    <tr>\n",
       "      <th>1</th>\n",
       "      <td>2</td>\n",
       "      <td>1.0</td>\n",
       "      <td>1</td>\n",
       "      <td>Cumings, Mrs. John Bradley (Florence Briggs Th...</td>\n",
       "      <td>female</td>\n",
       "      <td>38.0</td>\n",
       "      <td>1</td>\n",
       "      <td>0</td>\n",
       "      <td>PC 17599</td>\n",
       "      <td>71.2833</td>\n",
       "      <td>C85</td>\n",
       "      <td>C</td>\n",
       "    </tr>\n",
       "    <tr>\n",
       "      <th>2</th>\n",
       "      <td>3</td>\n",
       "      <td>1.0</td>\n",
       "      <td>3</td>\n",
       "      <td>Heikkinen, Miss. Laina</td>\n",
       "      <td>female</td>\n",
       "      <td>26.0</td>\n",
       "      <td>0</td>\n",
       "      <td>0</td>\n",
       "      <td>STON/O2. 3101282</td>\n",
       "      <td>7.9250</td>\n",
       "      <td>NaN</td>\n",
       "      <td>S</td>\n",
       "    </tr>\n",
       "    <tr>\n",
       "      <th>3</th>\n",
       "      <td>4</td>\n",
       "      <td>1.0</td>\n",
       "      <td>1</td>\n",
       "      <td>Futrelle, Mrs. Jacques Heath (Lily May Peel)</td>\n",
       "      <td>female</td>\n",
       "      <td>35.0</td>\n",
       "      <td>1</td>\n",
       "      <td>0</td>\n",
       "      <td>113803</td>\n",
       "      <td>53.1000</td>\n",
       "      <td>C123</td>\n",
       "      <td>S</td>\n",
       "    </tr>\n",
       "    <tr>\n",
       "      <th>4</th>\n",
       "      <td>5</td>\n",
       "      <td>0.0</td>\n",
       "      <td>3</td>\n",
       "      <td>Allen, Mr. William Henry</td>\n",
       "      <td>male</td>\n",
       "      <td>35.0</td>\n",
       "      <td>0</td>\n",
       "      <td>0</td>\n",
       "      <td>373450</td>\n",
       "      <td>8.0500</td>\n",
       "      <td>NaN</td>\n",
       "      <td>S</td>\n",
       "    </tr>\n",
       "    <tr>\n",
       "      <th>...</th>\n",
       "      <td>...</td>\n",
       "      <td>...</td>\n",
       "      <td>...</td>\n",
       "      <td>...</td>\n",
       "      <td>...</td>\n",
       "      <td>...</td>\n",
       "      <td>...</td>\n",
       "      <td>...</td>\n",
       "      <td>...</td>\n",
       "      <td>...</td>\n",
       "      <td>...</td>\n",
       "      <td>...</td>\n",
       "    </tr>\n",
       "    <tr>\n",
       "      <th>1304</th>\n",
       "      <td>1305</td>\n",
       "      <td>NaN</td>\n",
       "      <td>3</td>\n",
       "      <td>Spector, Mr. Woolf</td>\n",
       "      <td>male</td>\n",
       "      <td>NaN</td>\n",
       "      <td>0</td>\n",
       "      <td>0</td>\n",
       "      <td>A.5. 3236</td>\n",
       "      <td>8.0500</td>\n",
       "      <td>NaN</td>\n",
       "      <td>S</td>\n",
       "    </tr>\n",
       "    <tr>\n",
       "      <th>1305</th>\n",
       "      <td>1306</td>\n",
       "      <td>NaN</td>\n",
       "      <td>1</td>\n",
       "      <td>Oliva y Ocana, Dona. Fermina</td>\n",
       "      <td>female</td>\n",
       "      <td>39.0</td>\n",
       "      <td>0</td>\n",
       "      <td>0</td>\n",
       "      <td>PC 17758</td>\n",
       "      <td>108.9000</td>\n",
       "      <td>C105</td>\n",
       "      <td>C</td>\n",
       "    </tr>\n",
       "    <tr>\n",
       "      <th>1306</th>\n",
       "      <td>1307</td>\n",
       "      <td>NaN</td>\n",
       "      <td>3</td>\n",
       "      <td>Saether, Mr. Simon Sivertsen</td>\n",
       "      <td>male</td>\n",
       "      <td>38.5</td>\n",
       "      <td>0</td>\n",
       "      <td>0</td>\n",
       "      <td>SOTON/O.Q. 3101262</td>\n",
       "      <td>7.2500</td>\n",
       "      <td>NaN</td>\n",
       "      <td>S</td>\n",
       "    </tr>\n",
       "    <tr>\n",
       "      <th>1307</th>\n",
       "      <td>1308</td>\n",
       "      <td>NaN</td>\n",
       "      <td>3</td>\n",
       "      <td>Ware, Mr. Frederick</td>\n",
       "      <td>male</td>\n",
       "      <td>NaN</td>\n",
       "      <td>0</td>\n",
       "      <td>0</td>\n",
       "      <td>359309</td>\n",
       "      <td>8.0500</td>\n",
       "      <td>NaN</td>\n",
       "      <td>S</td>\n",
       "    </tr>\n",
       "    <tr>\n",
       "      <th>1308</th>\n",
       "      <td>1309</td>\n",
       "      <td>NaN</td>\n",
       "      <td>3</td>\n",
       "      <td>Peter, Master. Michael J</td>\n",
       "      <td>male</td>\n",
       "      <td>NaN</td>\n",
       "      <td>1</td>\n",
       "      <td>1</td>\n",
       "      <td>2668</td>\n",
       "      <td>22.3583</td>\n",
       "      <td>NaN</td>\n",
       "      <td>C</td>\n",
       "    </tr>\n",
       "  </tbody>\n",
       "</table>\n",
       "<p>1309 rows × 12 columns</p>\n",
       "</div>"
      ],
      "text/plain": [
       "      PassengerId  Survived  Pclass  \\\n",
       "0               1       0.0       3   \n",
       "1               2       1.0       1   \n",
       "2               3       1.0       3   \n",
       "3               4       1.0       1   \n",
       "4               5       0.0       3   \n",
       "...           ...       ...     ...   \n",
       "1304         1305       NaN       3   \n",
       "1305         1306       NaN       1   \n",
       "1306         1307       NaN       3   \n",
       "1307         1308       NaN       3   \n",
       "1308         1309       NaN       3   \n",
       "\n",
       "                                                   Name     Sex   Age  SibSp  \\\n",
       "0                               Braund, Mr. Owen Harris    male  22.0      1   \n",
       "1     Cumings, Mrs. John Bradley (Florence Briggs Th...  female  38.0      1   \n",
       "2                                Heikkinen, Miss. Laina  female  26.0      0   \n",
       "3          Futrelle, Mrs. Jacques Heath (Lily May Peel)  female  35.0      1   \n",
       "4                              Allen, Mr. William Henry    male  35.0      0   \n",
       "...                                                 ...     ...   ...    ...   \n",
       "1304                                 Spector, Mr. Woolf    male   NaN      0   \n",
       "1305                       Oliva y Ocana, Dona. Fermina  female  39.0      0   \n",
       "1306                       Saether, Mr. Simon Sivertsen    male  38.5      0   \n",
       "1307                                Ware, Mr. Frederick    male   NaN      0   \n",
       "1308                           Peter, Master. Michael J    male   NaN      1   \n",
       "\n",
       "      Parch              Ticket      Fare Cabin Embarked  \n",
       "0         0           A/5 21171    7.2500   NaN        S  \n",
       "1         0            PC 17599   71.2833   C85        C  \n",
       "2         0    STON/O2. 3101282    7.9250   NaN        S  \n",
       "3         0              113803   53.1000  C123        S  \n",
       "4         0              373450    8.0500   NaN        S  \n",
       "...     ...                 ...       ...   ...      ...  \n",
       "1304      0           A.5. 3236    8.0500   NaN        S  \n",
       "1305      0            PC 17758  108.9000  C105        C  \n",
       "1306      0  SOTON/O.Q. 3101262    7.2500   NaN        S  \n",
       "1307      0              359309    8.0500   NaN        S  \n",
       "1308      1                2668   22.3583   NaN        C  \n",
       "\n",
       "[1309 rows x 12 columns]"
      ]
     },
     "execution_count": 87,
     "metadata": {},
     "output_type": "execute_result"
    }
   ],
   "source": [
    "# Guardamos copia\n",
    "titanic_list_bak"
   ]
  },
  {
   "cell_type": "code",
   "execution_count": 88,
   "metadata": {},
   "outputs": [],
   "source": [
    "# Eliminamos el PassengerId del dataset\n",
    "titanic_list.drop(['PassengerId'],\n",
    "                  axis=1,\n",
    "                  inplace=True)"
   ]
  },
  {
   "cell_type": "code",
   "execution_count": 89,
   "metadata": {},
   "outputs": [
    {
     "data": {
      "text/html": [
       "<div>\n",
       "<style scoped>\n",
       "    .dataframe tbody tr th:only-of-type {\n",
       "        vertical-align: middle;\n",
       "    }\n",
       "\n",
       "    .dataframe tbody tr th {\n",
       "        vertical-align: top;\n",
       "    }\n",
       "\n",
       "    .dataframe thead th {\n",
       "        text-align: right;\n",
       "    }\n",
       "</style>\n",
       "<table border=\"1\" class=\"dataframe\">\n",
       "  <thead>\n",
       "    <tr style=\"text-align: right;\">\n",
       "      <th></th>\n",
       "      <th>Survived</th>\n",
       "      <th>Pclass</th>\n",
       "      <th>Name</th>\n",
       "      <th>Sex</th>\n",
       "      <th>Age</th>\n",
       "      <th>SibSp</th>\n",
       "      <th>Parch</th>\n",
       "      <th>Ticket</th>\n",
       "      <th>Fare</th>\n",
       "      <th>Cabin</th>\n",
       "      <th>Embarked</th>\n",
       "    </tr>\n",
       "  </thead>\n",
       "  <tbody>\n",
       "    <tr>\n",
       "      <th>0</th>\n",
       "      <td>0.0</td>\n",
       "      <td>3</td>\n",
       "      <td>Braund, Mr. Owen Harris</td>\n",
       "      <td>male</td>\n",
       "      <td>22.0</td>\n",
       "      <td>1</td>\n",
       "      <td>0</td>\n",
       "      <td>A/5 21171</td>\n",
       "      <td>7.2500</td>\n",
       "      <td>NaN</td>\n",
       "      <td>S</td>\n",
       "    </tr>\n",
       "    <tr>\n",
       "      <th>1</th>\n",
       "      <td>1.0</td>\n",
       "      <td>1</td>\n",
       "      <td>Cumings, Mrs. John Bradley (Florence Briggs Th...</td>\n",
       "      <td>female</td>\n",
       "      <td>38.0</td>\n",
       "      <td>1</td>\n",
       "      <td>0</td>\n",
       "      <td>PC 17599</td>\n",
       "      <td>71.2833</td>\n",
       "      <td>C85</td>\n",
       "      <td>C</td>\n",
       "    </tr>\n",
       "    <tr>\n",
       "      <th>2</th>\n",
       "      <td>1.0</td>\n",
       "      <td>3</td>\n",
       "      <td>Heikkinen, Miss. Laina</td>\n",
       "      <td>female</td>\n",
       "      <td>26.0</td>\n",
       "      <td>0</td>\n",
       "      <td>0</td>\n",
       "      <td>STON/O2. 3101282</td>\n",
       "      <td>7.9250</td>\n",
       "      <td>NaN</td>\n",
       "      <td>S</td>\n",
       "    </tr>\n",
       "    <tr>\n",
       "      <th>3</th>\n",
       "      <td>1.0</td>\n",
       "      <td>1</td>\n",
       "      <td>Futrelle, Mrs. Jacques Heath (Lily May Peel)</td>\n",
       "      <td>female</td>\n",
       "      <td>35.0</td>\n",
       "      <td>1</td>\n",
       "      <td>0</td>\n",
       "      <td>113803</td>\n",
       "      <td>53.1000</td>\n",
       "      <td>C123</td>\n",
       "      <td>S</td>\n",
       "    </tr>\n",
       "    <tr>\n",
       "      <th>4</th>\n",
       "      <td>0.0</td>\n",
       "      <td>3</td>\n",
       "      <td>Allen, Mr. William Henry</td>\n",
       "      <td>male</td>\n",
       "      <td>35.0</td>\n",
       "      <td>0</td>\n",
       "      <td>0</td>\n",
       "      <td>373450</td>\n",
       "      <td>8.0500</td>\n",
       "      <td>NaN</td>\n",
       "      <td>S</td>\n",
       "    </tr>\n",
       "    <tr>\n",
       "      <th>...</th>\n",
       "      <td>...</td>\n",
       "      <td>...</td>\n",
       "      <td>...</td>\n",
       "      <td>...</td>\n",
       "      <td>...</td>\n",
       "      <td>...</td>\n",
       "      <td>...</td>\n",
       "      <td>...</td>\n",
       "      <td>...</td>\n",
       "      <td>...</td>\n",
       "      <td>...</td>\n",
       "    </tr>\n",
       "    <tr>\n",
       "      <th>1304</th>\n",
       "      <td>NaN</td>\n",
       "      <td>3</td>\n",
       "      <td>Spector, Mr. Woolf</td>\n",
       "      <td>male</td>\n",
       "      <td>NaN</td>\n",
       "      <td>0</td>\n",
       "      <td>0</td>\n",
       "      <td>A.5. 3236</td>\n",
       "      <td>8.0500</td>\n",
       "      <td>NaN</td>\n",
       "      <td>S</td>\n",
       "    </tr>\n",
       "    <tr>\n",
<<<<<<< HEAD
       "      <th>1305</th>\n",
=======
       "      <th>22</th>\n",
       "      <td>False</td>\n",
       "      <td>True</td>\n",
       "      <td>False</td>\n",
       "      <td>False</td>\n",
       "      <td>False</td>\n",
       "      <td>False</td>\n",
       "      <td>False</td>\n",
       "      <td>False</td>\n",
       "      <td>False</td>\n",
       "      <td>False</td>\n",
       "      <td>False</td>\n",
       "      <td>False</td>\n",
       "    </tr>\n",
       "    <tr>\n",
       "      <th>23</th>\n",
       "      <td>False</td>\n",
       "      <td>False</td>\n",
       "      <td>False</td>\n",
       "      <td>False</td>\n",
       "      <td>False</td>\n",
       "      <td>False</td>\n",
       "      <td>False</td>\n",
       "      <td>False</td>\n",
       "      <td>False</td>\n",
       "      <td>False</td>\n",
       "      <td>False</td>\n",
       "      <td>False</td>\n",
       "    </tr>\n",
       "    <tr>\n",
       "      <th>24</th>\n",
       "      <td>False</td>\n",
       "      <td>True</td>\n",
       "      <td>False</td>\n",
       "      <td>False</td>\n",
       "      <td>False</td>\n",
       "      <td>False</td>\n",
       "      <td>False</td>\n",
       "      <td>False</td>\n",
       "      <td>False</td>\n",
       "      <td>False</td>\n",
       "      <td>False</td>\n",
       "      <td>False</td>\n",
       "    </tr>\n",
       "    <tr>\n",
       "      <th>25</th>\n",
       "      <td>False</td>\n",
       "      <td>True</td>\n",
       "      <td>False</td>\n",
       "      <td>False</td>\n",
       "      <td>False</td>\n",
       "      <td>False</td>\n",
       "      <td>False</td>\n",
       "      <td>False</td>\n",
       "      <td>False</td>\n",
       "      <td>False</td>\n",
       "      <td>False</td>\n",
       "      <td>False</td>\n",
       "    </tr>\n",
       "    <tr>\n",
       "      <th>26</th>\n",
       "      <td>True</td>\n",
       "      <td>True</td>\n",
       "      <td>False</td>\n",
       "      <td>False</td>\n",
       "      <td>False</td>\n",
       "      <td>False</td>\n",
       "      <td>False</td>\n",
       "      <td>False</td>\n",
       "      <td>False</td>\n",
       "      <td>False</td>\n",
       "      <td>False</td>\n",
       "      <td>False</td>\n",
       "    </tr>\n",
       "    <tr>\n",
       "      <th>27</th>\n",
       "      <td>False</td>\n",
       "      <td>False</td>\n",
       "      <td>False</td>\n",
       "      <td>False</td>\n",
       "      <td>False</td>\n",
       "      <td>False</td>\n",
       "      <td>False</td>\n",
       "      <td>False</td>\n",
       "      <td>False</td>\n",
       "      <td>False</td>\n",
       "      <td>False</td>\n",
       "      <td>False</td>\n",
       "    </tr>\n",
       "    <tr>\n",
       "      <th>28</th>\n",
       "      <td>True</td>\n",
       "      <td>True</td>\n",
       "      <td>False</td>\n",
       "      <td>False</td>\n",
       "      <td>False</td>\n",
       "      <td>False</td>\n",
       "      <td>False</td>\n",
       "      <td>False</td>\n",
       "      <td>False</td>\n",
       "      <td>False</td>\n",
       "      <td>False</td>\n",
       "      <td>False</td>\n",
       "    </tr>\n",
       "    <tr>\n",
       "      <th>29</th>\n",
       "      <td>True</td>\n",
       "      <td>True</td>\n",
       "      <td>False</td>\n",
       "      <td>False</td>\n",
       "      <td>False</td>\n",
       "      <td>False</td>\n",
       "      <td>False</td>\n",
       "      <td>False</td>\n",
       "      <td>False</td>\n",
       "      <td>False</td>\n",
       "      <td>False</td>\n",
       "      <td>False</td>\n",
       "    </tr>\n",
       "    <tr>\n",
       "      <th>...</th>\n",
       "      <td>...</td>\n",
       "      <td>...</td>\n",
       "      <td>...</td>\n",
       "      <td>...</td>\n",
       "      <td>...</td>\n",
       "      <td>...</td>\n",
       "      <td>...</td>\n",
       "      <td>...</td>\n",
       "      <td>...</td>\n",
       "      <td>...</td>\n",
       "      <td>...</td>\n",
       "      <td>...</td>\n",
       "    </tr>\n",
       "    <tr>\n",
       "      <th>1279</th>\n",
       "      <td>False</td>\n",
       "      <td>True</td>\n",
       "      <td>False</td>\n",
       "      <td>False</td>\n",
       "      <td>False</td>\n",
       "      <td>False</td>\n",
       "      <td>False</td>\n",
       "      <td>False</td>\n",
       "      <td>False</td>\n",
       "      <td>False</td>\n",
       "      <td>True</td>\n",
       "      <td>False</td>\n",
       "    </tr>\n",
       "    <tr>\n",
       "      <th>1280</th>\n",
       "      <td>False</td>\n",
       "      <td>True</td>\n",
       "      <td>False</td>\n",
       "      <td>False</td>\n",
       "      <td>False</td>\n",
       "      <td>False</td>\n",
       "      <td>False</td>\n",
       "      <td>False</td>\n",
       "      <td>False</td>\n",
       "      <td>False</td>\n",
       "      <td>True</td>\n",
       "      <td>False</td>\n",
       "    </tr>\n",
       "    <tr>\n",
       "      <th>1281</th>\n",
       "      <td>False</td>\n",
       "      <td>False</td>\n",
       "      <td>False</td>\n",
       "      <td>False</td>\n",
       "      <td>False</td>\n",
       "      <td>False</td>\n",
       "      <td>False</td>\n",
       "      <td>False</td>\n",
       "      <td>False</td>\n",
       "      <td>False</td>\n",
       "      <td>True</td>\n",
       "      <td>False</td>\n",
       "    </tr>\n",
       "    <tr>\n",
       "      <th>1282</th>\n",
       "      <td>False</td>\n",
       "      <td>False</td>\n",
       "      <td>False</td>\n",
       "      <td>False</td>\n",
       "      <td>False</td>\n",
       "      <td>False</td>\n",
       "      <td>False</td>\n",
       "      <td>False</td>\n",
       "      <td>False</td>\n",
       "      <td>False</td>\n",
       "      <td>True</td>\n",
       "      <td>False</td>\n",
       "    </tr>\n",
       "    <tr>\n",
       "      <th>1283</th>\n",
       "      <td>False</td>\n",
       "      <td>True</td>\n",
       "      <td>False</td>\n",
       "      <td>False</td>\n",
       "      <td>False</td>\n",
       "      <td>False</td>\n",
       "      <td>False</td>\n",
       "      <td>False</td>\n",
       "      <td>False</td>\n",
       "      <td>False</td>\n",
       "      <td>True</td>\n",
       "      <td>False</td>\n",
       "    </tr>\n",
       "    <tr>\n",
       "      <th>1284</th>\n",
       "      <td>False</td>\n",
       "      <td>True</td>\n",
       "      <td>False</td>\n",
       "      <td>False</td>\n",
       "      <td>False</td>\n",
       "      <td>False</td>\n",
       "      <td>False</td>\n",
       "      <td>False</td>\n",
       "      <td>False</td>\n",
       "      <td>False</td>\n",
       "      <td>True</td>\n",
       "      <td>False</td>\n",
       "    </tr>\n",
       "    <tr>\n",
       "      <th>1285</th>\n",
       "      <td>False</td>\n",
       "      <td>True</td>\n",
       "      <td>False</td>\n",
       "      <td>False</td>\n",
       "      <td>False</td>\n",
       "      <td>False</td>\n",
       "      <td>False</td>\n",
       "      <td>False</td>\n",
       "      <td>False</td>\n",
       "      <td>False</td>\n",
       "      <td>True</td>\n",
       "      <td>False</td>\n",
       "    </tr>\n",
       "    <tr>\n",
       "      <th>1286</th>\n",
       "      <td>False</td>\n",
       "      <td>False</td>\n",
       "      <td>False</td>\n",
       "      <td>False</td>\n",
       "      <td>False</td>\n",
       "      <td>False</td>\n",
       "      <td>False</td>\n",
       "      <td>False</td>\n",
       "      <td>False</td>\n",
       "      <td>False</td>\n",
       "      <td>True</td>\n",
       "      <td>False</td>\n",
       "    </tr>\n",
       "    <tr>\n",
       "      <th>1287</th>\n",
       "      <td>False</td>\n",
       "      <td>True</td>\n",
       "      <td>False</td>\n",
       "      <td>False</td>\n",
       "      <td>False</td>\n",
       "      <td>False</td>\n",
       "      <td>False</td>\n",
       "      <td>False</td>\n",
       "      <td>False</td>\n",
       "      <td>False</td>\n",
       "      <td>True</td>\n",
       "      <td>False</td>\n",
       "    </tr>\n",
       "    <tr>\n",
       "      <th>1288</th>\n",
       "      <td>False</td>\n",
       "      <td>False</td>\n",
       "      <td>False</td>\n",
       "      <td>False</td>\n",
       "      <td>False</td>\n",
       "      <td>False</td>\n",
       "      <td>False</td>\n",
       "      <td>False</td>\n",
       "      <td>False</td>\n",
       "      <td>False</td>\n",
       "      <td>True</td>\n",
       "      <td>False</td>\n",
       "    </tr>\n",
       "    <tr>\n",
       "      <th>1289</th>\n",
       "      <td>False</td>\n",
       "      <td>True</td>\n",
       "      <td>False</td>\n",
       "      <td>False</td>\n",
       "      <td>False</td>\n",
       "      <td>False</td>\n",
       "      <td>False</td>\n",
       "      <td>False</td>\n",
       "      <td>False</td>\n",
       "      <td>False</td>\n",
       "      <td>True</td>\n",
       "      <td>False</td>\n",
       "    </tr>\n",
       "    <tr>\n",
       "      <th>1290</th>\n",
       "      <td>False</td>\n",
       "      <td>True</td>\n",
       "      <td>False</td>\n",
       "      <td>False</td>\n",
       "      <td>False</td>\n",
       "      <td>False</td>\n",
       "      <td>False</td>\n",
       "      <td>False</td>\n",
       "      <td>False</td>\n",
       "      <td>False</td>\n",
       "      <td>True</td>\n",
       "      <td>False</td>\n",
       "    </tr>\n",
       "    <tr>\n",
       "      <th>1291</th>\n",
       "      <td>False</td>\n",
       "      <td>False</td>\n",
       "      <td>False</td>\n",
       "      <td>False</td>\n",
       "      <td>False</td>\n",
       "      <td>False</td>\n",
       "      <td>False</td>\n",
       "      <td>False</td>\n",
       "      <td>False</td>\n",
       "      <td>False</td>\n",
       "      <td>True</td>\n",
       "      <td>False</td>\n",
       "    </tr>\n",
       "    <tr>\n",
       "      <th>1292</th>\n",
       "      <td>False</td>\n",
       "      <td>True</td>\n",
       "      <td>False</td>\n",
       "      <td>False</td>\n",
       "      <td>False</td>\n",
       "      <td>False</td>\n",
       "      <td>False</td>\n",
       "      <td>False</td>\n",
       "      <td>False</td>\n",
       "      <td>False</td>\n",
       "      <td>True</td>\n",
       "      <td>False</td>\n",
       "    </tr>\n",
       "    <tr>\n",
       "      <th>1293</th>\n",
       "      <td>False</td>\n",
       "      <td>True</td>\n",
       "      <td>False</td>\n",
       "      <td>False</td>\n",
       "      <td>False</td>\n",
       "      <td>False</td>\n",
       "      <td>False</td>\n",
       "      <td>False</td>\n",
       "      <td>False</td>\n",
       "      <td>False</td>\n",
       "      <td>True</td>\n",
       "      <td>False</td>\n",
       "    </tr>\n",
       "    <tr>\n",
       "      <th>1294</th>\n",
       "      <td>False</td>\n",
       "      <td>True</td>\n",
       "      <td>False</td>\n",
       "      <td>False</td>\n",
       "      <td>False</td>\n",
       "      <td>False</td>\n",
       "      <td>False</td>\n",
       "      <td>False</td>\n",
       "      <td>False</td>\n",
       "      <td>False</td>\n",
       "      <td>True</td>\n",
       "      <td>False</td>\n",
       "    </tr>\n",
       "    <tr>\n",
       "      <th>1295</th>\n",
       "      <td>False</td>\n",
       "      <td>False</td>\n",
       "      <td>False</td>\n",
       "      <td>False</td>\n",
       "      <td>False</td>\n",
       "      <td>False</td>\n",
       "      <td>False</td>\n",
       "      <td>False</td>\n",
       "      <td>False</td>\n",
       "      <td>False</td>\n",
       "      <td>True</td>\n",
       "      <td>False</td>\n",
       "    </tr>\n",
       "    <tr>\n",
       "      <th>1296</th>\n",
       "      <td>False</td>\n",
       "      <td>False</td>\n",
       "      <td>False</td>\n",
       "      <td>False</td>\n",
       "      <td>False</td>\n",
       "      <td>False</td>\n",
       "      <td>False</td>\n",
       "      <td>False</td>\n",
       "      <td>False</td>\n",
       "      <td>False</td>\n",
       "      <td>True</td>\n",
       "      <td>False</td>\n",
       "    </tr>\n",
       "    <tr>\n",
       "      <th>1297</th>\n",
       "      <td>False</td>\n",
       "      <td>True</td>\n",
       "      <td>False</td>\n",
       "      <td>False</td>\n",
       "      <td>False</td>\n",
       "      <td>False</td>\n",
       "      <td>False</td>\n",
       "      <td>False</td>\n",
       "      <td>False</td>\n",
       "      <td>False</td>\n",
       "      <td>True</td>\n",
       "      <td>False</td>\n",
       "    </tr>\n",
       "    <tr>\n",
       "      <th>1298</th>\n",
       "      <td>False</td>\n",
       "      <td>False</td>\n",
       "      <td>False</td>\n",
       "      <td>False</td>\n",
       "      <td>False</td>\n",
       "      <td>False</td>\n",
       "      <td>False</td>\n",
       "      <td>False</td>\n",
       "      <td>False</td>\n",
       "      <td>False</td>\n",
       "      <td>True</td>\n",
       "      <td>False</td>\n",
       "    </tr>\n",
       "    <tr>\n",
       "      <th>1299</th>\n",
       "      <td>True</td>\n",
       "      <td>True</td>\n",
       "      <td>False</td>\n",
       "      <td>False</td>\n",
       "      <td>False</td>\n",
       "      <td>False</td>\n",
       "      <td>False</td>\n",
       "      <td>False</td>\n",
       "      <td>False</td>\n",
       "      <td>False</td>\n",
       "      <td>True</td>\n",
       "      <td>False</td>\n",
       "    </tr>\n",
       "    <tr>\n",
       "      <th>1300</th>\n",
       "      <td>False</td>\n",
       "      <td>True</td>\n",
       "      <td>False</td>\n",
       "      <td>False</td>\n",
       "      <td>False</td>\n",
       "      <td>False</td>\n",
       "      <td>False</td>\n",
       "      <td>False</td>\n",
       "      <td>False</td>\n",
       "      <td>False</td>\n",
       "      <td>True</td>\n",
       "      <td>False</td>\n",
       "    </tr>\n",
       "    <tr>\n",
       "      <th>1301</th>\n",
       "      <td>True</td>\n",
       "      <td>True</td>\n",
       "      <td>False</td>\n",
       "      <td>False</td>\n",
       "      <td>False</td>\n",
       "      <td>False</td>\n",
       "      <td>False</td>\n",
       "      <td>False</td>\n",
       "      <td>False</td>\n",
       "      <td>False</td>\n",
       "      <td>True</td>\n",
       "      <td>False</td>\n",
       "    </tr>\n",
       "    <tr>\n",
       "      <th>1302</th>\n",
       "      <td>False</td>\n",
       "      <td>False</td>\n",
       "      <td>False</td>\n",
       "      <td>False</td>\n",
       "      <td>False</td>\n",
       "      <td>False</td>\n",
       "      <td>False</td>\n",
       "      <td>False</td>\n",
       "      <td>False</td>\n",
       "      <td>False</td>\n",
       "      <td>True</td>\n",
       "      <td>False</td>\n",
       "    </tr>\n",
       "    <tr>\n",
       "      <th>1303</th>\n",
       "      <td>False</td>\n",
       "      <td>True</td>\n",
       "      <td>False</td>\n",
       "      <td>False</td>\n",
       "      <td>False</td>\n",
       "      <td>False</td>\n",
       "      <td>False</td>\n",
       "      <td>False</td>\n",
       "      <td>False</td>\n",
       "      <td>False</td>\n",
       "      <td>True</td>\n",
       "      <td>False</td>\n",
       "    </tr>\n",
       "    <tr>\n",
       "      <th>1304</th>\n",
       "      <td>True</td>\n",
       "      <td>True</td>\n",
       "      <td>False</td>\n",
       "      <td>False</td>\n",
       "      <td>False</td>\n",
       "      <td>False</td>\n",
       "      <td>False</td>\n",
       "      <td>False</td>\n",
       "      <td>False</td>\n",
       "      <td>False</td>\n",
       "      <td>True</td>\n",
       "      <td>False</td>\n",
       "    </tr>\n",
       "    <tr>\n",
       "      <th>1305</th>\n",
       "      <td>False</td>\n",
       "      <td>False</td>\n",
       "      <td>False</td>\n",
       "      <td>False</td>\n",
       "      <td>False</td>\n",
       "      <td>False</td>\n",
       "      <td>False</td>\n",
       "      <td>False</td>\n",
       "      <td>False</td>\n",
       "      <td>False</td>\n",
       "      <td>True</td>\n",
       "      <td>False</td>\n",
       "    </tr>\n",
       "    <tr>\n",
       "      <th>1306</th>\n",
       "      <td>False</td>\n",
       "      <td>True</td>\n",
       "      <td>False</td>\n",
       "      <td>False</td>\n",
       "      <td>False</td>\n",
       "      <td>False</td>\n",
       "      <td>False</td>\n",
       "      <td>False</td>\n",
       "      <td>False</td>\n",
       "      <td>False</td>\n",
       "      <td>True</td>\n",
       "      <td>False</td>\n",
       "    </tr>\n",
       "    <tr>\n",
       "      <th>1307</th>\n",
       "      <td>True</td>\n",
       "      <td>True</td>\n",
       "      <td>False</td>\n",
       "      <td>False</td>\n",
       "      <td>False</td>\n",
       "      <td>False</td>\n",
       "      <td>False</td>\n",
       "      <td>False</td>\n",
       "      <td>False</td>\n",
       "      <td>False</td>\n",
       "      <td>True</td>\n",
       "      <td>False</td>\n",
       "    </tr>\n",
       "    <tr>\n",
       "      <th>1308</th>\n",
       "      <td>True</td>\n",
       "      <td>True</td>\n",
       "      <td>False</td>\n",
       "      <td>False</td>\n",
       "      <td>False</td>\n",
       "      <td>False</td>\n",
       "      <td>False</td>\n",
       "      <td>False</td>\n",
       "      <td>False</td>\n",
       "      <td>False</td>\n",
       "      <td>True</td>\n",
       "      <td>False</td>\n",
       "    </tr>\n",
       "  </tbody>\n",
       "</table>\n",
       "<p>1309 rows × 12 columns</p>\n",
       "</div>"
      ],
      "text/plain": [
       "        Age  Cabin  Embarked   Fare   Name  Parch  PassengerId  Pclass    Sex  \\\n",
       "0     False   True     False  False  False  False        False   False  False   \n",
       "1     False  False     False  False  False  False        False   False  False   \n",
       "2     False   True     False  False  False  False        False   False  False   \n",
       "3     False  False     False  False  False  False        False   False  False   \n",
       "4     False   True     False  False  False  False        False   False  False   \n",
       "5      True   True     False  False  False  False        False   False  False   \n",
       "6     False  False     False  False  False  False        False   False  False   \n",
       "7     False   True     False  False  False  False        False   False  False   \n",
       "8     False   True     False  False  False  False        False   False  False   \n",
       "9     False   True     False  False  False  False        False   False  False   \n",
       "10    False  False     False  False  False  False        False   False  False   \n",
       "11    False  False     False  False  False  False        False   False  False   \n",
       "12    False   True     False  False  False  False        False   False  False   \n",
       "13    False   True     False  False  False  False        False   False  False   \n",
       "14    False   True     False  False  False  False        False   False  False   \n",
       "15    False   True     False  False  False  False        False   False  False   \n",
       "16    False   True     False  False  False  False        False   False  False   \n",
       "17     True   True     False  False  False  False        False   False  False   \n",
       "18    False   True     False  False  False  False        False   False  False   \n",
       "19     True   True     False  False  False  False        False   False  False   \n",
       "20    False   True     False  False  False  False        False   False  False   \n",
       "21    False  False     False  False  False  False        False   False  False   \n",
       "22    False   True     False  False  False  False        False   False  False   \n",
       "23    False  False     False  False  False  False        False   False  False   \n",
       "24    False   True     False  False  False  False        False   False  False   \n",
       "25    False   True     False  False  False  False        False   False  False   \n",
       "26     True   True     False  False  False  False        False   False  False   \n",
       "27    False  False     False  False  False  False        False   False  False   \n",
       "28     True   True     False  False  False  False        False   False  False   \n",
       "29     True   True     False  False  False  False        False   False  False   \n",
       "...     ...    ...       ...    ...    ...    ...          ...     ...    ...   \n",
       "1279  False   True     False  False  False  False        False   False  False   \n",
       "1280  False   True     False  False  False  False        False   False  False   \n",
       "1281  False  False     False  False  False  False        False   False  False   \n",
       "1282  False  False     False  False  False  False        False   False  False   \n",
       "1283  False   True     False  False  False  False        False   False  False   \n",
       "1284  False   True     False  False  False  False        False   False  False   \n",
       "1285  False   True     False  False  False  False        False   False  False   \n",
       "1286  False  False     False  False  False  False        False   False  False   \n",
       "1287  False   True     False  False  False  False        False   False  False   \n",
       "1288  False  False     False  False  False  False        False   False  False   \n",
       "1289  False   True     False  False  False  False        False   False  False   \n",
       "1290  False   True     False  False  False  False        False   False  False   \n",
       "1291  False  False     False  False  False  False        False   False  False   \n",
       "1292  False   True     False  False  False  False        False   False  False   \n",
       "1293  False   True     False  False  False  False        False   False  False   \n",
       "1294  False   True     False  False  False  False        False   False  False   \n",
       "1295  False  False     False  False  False  False        False   False  False   \n",
       "1296  False  False     False  False  False  False        False   False  False   \n",
       "1297  False   True     False  False  False  False        False   False  False   \n",
       "1298  False  False     False  False  False  False        False   False  False   \n",
       "1299   True   True     False  False  False  False        False   False  False   \n",
       "1300  False   True     False  False  False  False        False   False  False   \n",
       "1301   True   True     False  False  False  False        False   False  False   \n",
       "1302  False  False     False  False  False  False        False   False  False   \n",
       "1303  False   True     False  False  False  False        False   False  False   \n",
       "1304   True   True     False  False  False  False        False   False  False   \n",
       "1305  False  False     False  False  False  False        False   False  False   \n",
       "1306  False   True     False  False  False  False        False   False  False   \n",
       "1307   True   True     False  False  False  False        False   False  False   \n",
       "1308   True   True     False  False  False  False        False   False  False   \n",
       "\n",
       "      SibSp  Survived  Ticket  \n",
       "0     False     False   False  \n",
       "1     False     False   False  \n",
       "2     False     False   False  \n",
       "3     False     False   False  \n",
       "4     False     False   False  \n",
       "5     False     False   False  \n",
       "6     False     False   False  \n",
       "7     False     False   False  \n",
       "8     False     False   False  \n",
       "9     False     False   False  \n",
       "10    False     False   False  \n",
       "11    False     False   False  \n",
       "12    False     False   False  \n",
       "13    False     False   False  \n",
       "14    False     False   False  \n",
       "15    False     False   False  \n",
       "16    False     False   False  \n",
       "17    False     False   False  \n",
       "18    False     False   False  \n",
       "19    False     False   False  \n",
       "20    False     False   False  \n",
       "21    False     False   False  \n",
       "22    False     False   False  \n",
       "23    False     False   False  \n",
       "24    False     False   False  \n",
       "25    False     False   False  \n",
       "26    False     False   False  \n",
       "27    False     False   False  \n",
       "28    False     False   False  \n",
       "29    False     False   False  \n",
       "...     ...       ...     ...  \n",
       "1279  False      True   False  \n",
       "1280  False      True   False  \n",
       "1281  False      True   False  \n",
       "1282  False      True   False  \n",
       "1283  False      True   False  \n",
       "1284  False      True   False  \n",
       "1285  False      True   False  \n",
       "1286  False      True   False  \n",
       "1287  False      True   False  \n",
       "1288  False      True   False  \n",
       "1289  False      True   False  \n",
       "1290  False      True   False  \n",
       "1291  False      True   False  \n",
       "1292  False      True   False  \n",
       "1293  False      True   False  \n",
       "1294  False      True   False  \n",
       "1295  False      True   False  \n",
       "1296  False      True   False  \n",
       "1297  False      True   False  \n",
       "1298  False      True   False  \n",
       "1299  False      True   False  \n",
       "1300  False      True   False  \n",
       "1301  False      True   False  \n",
       "1302  False      True   False  \n",
       "1303  False      True   False  \n",
       "1304  False      True   False  \n",
       "1305  False      True   False  \n",
       "1306  False      True   False  \n",
       "1307  False      True   False  \n",
       "1308  False      True   False  \n",
       "\n",
       "[1309 rows x 12 columns]"
      ]
     },
     "execution_count": 12,
     "metadata": {},
     "output_type": "execute_result"
    }
   ],
   "source": [
    "# Check null y NA para ambos dataset\n",
    "titanic_list.isna()\n",
    "\n",
    "# el resultado será una tabla con valores booleanos"
   ]
  },
  {
   "cell_type": "code",
   "execution_count": 13,
   "metadata": {},
   "outputs": [
    {
     "data": {
      "text/plain": [
       "Age             263\n",
       "Cabin          1014\n",
       "Embarked          2\n",
       "Fare              1\n",
       "Name              0\n",
       "Parch             0\n",
       "PassengerId       0\n",
       "Pclass            0\n",
       "Sex               0\n",
       "SibSp             0\n",
       "Survived        418\n",
       "Ticket            0\n",
       "dtype: int64"
      ]
     },
     "execution_count": 13,
     "metadata": {},
     "output_type": "execute_result"
    }
   ],
   "source": [
    "# Necesitaré agruparlos y sumarlos\n",
    "titanic_list.isna().sum()"
   ]
  },
  {
   "cell_type": "code",
   "execution_count": 14,
   "metadata": {},
   "outputs": [
    {
     "data": {
      "text/plain": [
       "Age            20.091673\n",
       "Cabin          77.463713\n",
       "Embarked        0.152788\n",
       "Fare            0.076394\n",
       "Name            0.000000\n",
       "Parch           0.000000\n",
       "PassengerId     0.000000\n",
       "Pclass          0.000000\n",
       "Sex             0.000000\n",
       "SibSp           0.000000\n",
       "Survived       31.932773\n",
       "Ticket          0.000000\n",
       "dtype: float64"
      ]
     },
     "execution_count": 14,
     "metadata": {},
     "output_type": "execute_result"
    }
   ],
   "source": [
    "# Buscamos la frecuencia relativa\n",
    "titanic_list.isnull().sum()/len(titanic_list)*100"
   ]
  },
  {
   "cell_type": "markdown",
   "metadata": {},
   "source": [
    "Deberíamos realizar un trabajo de manipulación de los datos nulos para `Age`, `Embarked`, `Fare`. Para la variable `Cabin`podemos eliminarla o tratarla."
   ]
  },
  {
   "cell_type": "markdown",
   "metadata": {},
   "source": [
    "*** \n",
    "### `PassengerId`\n",
    "\n",
    "realizamos el check del atributo PassengerId"
   ]
  },
  {
   "cell_type": "code",
   "execution_count": 15,
   "metadata": {},
   "outputs": [
    {
     "data": {
      "text/plain": [
       "0     1\n",
       "1     2\n",
       "2     3\n",
       "3     4\n",
       "4     5\n",
       "5     6\n",
       "6     7\n",
       "7     8\n",
       "8     9\n",
       "9    10\n",
       "Name: PassengerId, dtype: int64"
      ]
     },
     "execution_count": 15,
     "metadata": {},
     "output_type": "execute_result"
    }
   ],
   "source": [
    "titanic_list['PassengerId'].head(10)"
   ]
  },
  {
   "cell_type": "markdown",
   "metadata": {},
   "source": [
    "No va aportar ningun valor a nuestro modelo, por lo tanto eliminaremos este atributo"
   ]
  },
  {
   "cell_type": "code",
   "execution_count": 16,
   "metadata": {},
   "outputs": [],
   "source": [
    "titanic_list_bak = titanic_list"
   ]
  },
  {
   "cell_type": "code",
   "execution_count": 17,
   "metadata": {},
   "outputs": [
    {
     "data": {
      "text/html": [
       "<div>\n",
       "<style scoped>\n",
       "    .dataframe tbody tr th:only-of-type {\n",
       "        vertical-align: middle;\n",
       "    }\n",
       "\n",
       "    .dataframe tbody tr th {\n",
       "        vertical-align: top;\n",
       "    }\n",
       "\n",
       "    .dataframe thead th {\n",
       "        text-align: right;\n",
       "    }\n",
       "</style>\n",
       "<table border=\"1\" class=\"dataframe\">\n",
       "  <thead>\n",
       "    <tr style=\"text-align: right;\">\n",
       "      <th></th>\n",
       "      <th>Age</th>\n",
       "      <th>Cabin</th>\n",
       "      <th>Embarked</th>\n",
       "      <th>Fare</th>\n",
       "      <th>Name</th>\n",
       "      <th>Parch</th>\n",
       "      <th>PassengerId</th>\n",
       "      <th>Pclass</th>\n",
       "      <th>Sex</th>\n",
       "      <th>SibSp</th>\n",
       "      <th>Survived</th>\n",
       "      <th>Ticket</th>\n",
       "    </tr>\n",
       "  </thead>\n",
       "  <tbody>\n",
       "    <tr>\n",
       "      <th>0</th>\n",
       "      <td>22.0</td>\n",
       "      <td>NaN</td>\n",
       "      <td>S</td>\n",
       "      <td>7.2500</td>\n",
       "      <td>Braund, Mr. Owen Harris</td>\n",
       "      <td>0</td>\n",
       "      <td>1</td>\n",
       "      <td>3</td>\n",
       "      <td>male</td>\n",
       "      <td>1</td>\n",
       "      <td>0.0</td>\n",
       "      <td>A/5 21171</td>\n",
       "    </tr>\n",
       "    <tr>\n",
       "      <th>1</th>\n",
       "      <td>38.0</td>\n",
       "      <td>C85</td>\n",
       "      <td>C</td>\n",
       "      <td>71.2833</td>\n",
       "      <td>Cumings, Mrs. John Bradley (Florence Briggs Th...</td>\n",
       "      <td>0</td>\n",
       "      <td>2</td>\n",
       "      <td>1</td>\n",
       "      <td>female</td>\n",
       "      <td>1</td>\n",
       "      <td>1.0</td>\n",
       "      <td>PC 17599</td>\n",
       "    </tr>\n",
       "    <tr>\n",
       "      <th>2</th>\n",
       "      <td>26.0</td>\n",
       "      <td>NaN</td>\n",
       "      <td>S</td>\n",
       "      <td>7.9250</td>\n",
       "      <td>Heikkinen, Miss. Laina</td>\n",
       "      <td>0</td>\n",
       "      <td>3</td>\n",
       "      <td>3</td>\n",
       "      <td>female</td>\n",
       "      <td>0</td>\n",
       "      <td>1.0</td>\n",
       "      <td>STON/O2. 3101282</td>\n",
       "    </tr>\n",
       "    <tr>\n",
       "      <th>3</th>\n",
       "      <td>35.0</td>\n",
       "      <td>C123</td>\n",
       "      <td>S</td>\n",
       "      <td>53.1000</td>\n",
       "      <td>Futrelle, Mrs. Jacques Heath (Lily May Peel)</td>\n",
       "      <td>0</td>\n",
       "      <td>4</td>\n",
       "      <td>1</td>\n",
       "      <td>female</td>\n",
       "      <td>1</td>\n",
       "      <td>1.0</td>\n",
       "      <td>113803</td>\n",
       "    </tr>\n",
       "    <tr>\n",
       "      <th>4</th>\n",
       "      <td>35.0</td>\n",
       "      <td>NaN</td>\n",
       "      <td>S</td>\n",
       "      <td>8.0500</td>\n",
       "      <td>Allen, Mr. William Henry</td>\n",
       "      <td>0</td>\n",
       "      <td>5</td>\n",
       "      <td>3</td>\n",
       "      <td>male</td>\n",
       "      <td>0</td>\n",
       "      <td>0.0</td>\n",
       "      <td>373450</td>\n",
       "    </tr>\n",
       "    <tr>\n",
       "      <th>5</th>\n",
       "      <td>NaN</td>\n",
       "      <td>NaN</td>\n",
       "      <td>Q</td>\n",
       "      <td>8.4583</td>\n",
       "      <td>Moran, Mr. James</td>\n",
       "      <td>0</td>\n",
       "      <td>6</td>\n",
       "      <td>3</td>\n",
       "      <td>male</td>\n",
       "      <td>0</td>\n",
       "      <td>0.0</td>\n",
       "      <td>330877</td>\n",
       "    </tr>\n",
       "    <tr>\n",
       "      <th>6</th>\n",
       "      <td>54.0</td>\n",
       "      <td>E46</td>\n",
       "      <td>S</td>\n",
       "      <td>51.8625</td>\n",
       "      <td>McCarthy, Mr. Timothy J</td>\n",
       "      <td>0</td>\n",
       "      <td>7</td>\n",
       "      <td>1</td>\n",
       "      <td>male</td>\n",
       "      <td>0</td>\n",
       "      <td>0.0</td>\n",
       "      <td>17463</td>\n",
       "    </tr>\n",
       "    <tr>\n",
       "      <th>7</th>\n",
       "      <td>2.0</td>\n",
       "      <td>NaN</td>\n",
       "      <td>S</td>\n",
       "      <td>21.0750</td>\n",
       "      <td>Palsson, Master. Gosta Leonard</td>\n",
       "      <td>1</td>\n",
       "      <td>8</td>\n",
       "      <td>3</td>\n",
       "      <td>male</td>\n",
       "      <td>3</td>\n",
       "      <td>0.0</td>\n",
       "      <td>349909</td>\n",
       "    </tr>\n",
       "    <tr>\n",
       "      <th>8</th>\n",
       "      <td>27.0</td>\n",
       "      <td>NaN</td>\n",
       "      <td>S</td>\n",
       "      <td>11.1333</td>\n",
       "      <td>Johnson, Mrs. Oscar W (Elisabeth Vilhelmina Berg)</td>\n",
       "      <td>2</td>\n",
       "      <td>9</td>\n",
       "      <td>3</td>\n",
       "      <td>female</td>\n",
       "      <td>0</td>\n",
       "      <td>1.0</td>\n",
       "      <td>347742</td>\n",
       "    </tr>\n",
       "    <tr>\n",
       "      <th>9</th>\n",
       "      <td>14.0</td>\n",
       "      <td>NaN</td>\n",
       "      <td>C</td>\n",
       "      <td>30.0708</td>\n",
       "      <td>Nasser, Mrs. Nicholas (Adele Achem)</td>\n",
       "      <td>0</td>\n",
       "      <td>10</td>\n",
       "      <td>2</td>\n",
       "      <td>female</td>\n",
       "      <td>1</td>\n",
       "      <td>1.0</td>\n",
       "      <td>237736</td>\n",
       "    </tr>\n",
       "    <tr>\n",
       "      <th>10</th>\n",
       "      <td>4.0</td>\n",
       "      <td>G6</td>\n",
       "      <td>S</td>\n",
       "      <td>16.7000</td>\n",
       "      <td>Sandstrom, Miss. Marguerite Rut</td>\n",
       "      <td>1</td>\n",
       "      <td>11</td>\n",
       "      <td>3</td>\n",
       "      <td>female</td>\n",
       "      <td>1</td>\n",
       "      <td>1.0</td>\n",
       "      <td>PP 9549</td>\n",
       "    </tr>\n",
       "    <tr>\n",
       "      <th>11</th>\n",
       "      <td>58.0</td>\n",
       "      <td>C103</td>\n",
       "      <td>S</td>\n",
       "      <td>26.5500</td>\n",
       "      <td>Bonnell, Miss. Elizabeth</td>\n",
       "      <td>0</td>\n",
       "      <td>12</td>\n",
       "      <td>1</td>\n",
       "      <td>female</td>\n",
       "      <td>0</td>\n",
       "      <td>1.0</td>\n",
       "      <td>113783</td>\n",
       "    </tr>\n",
       "    <tr>\n",
       "      <th>12</th>\n",
       "      <td>20.0</td>\n",
       "      <td>NaN</td>\n",
       "      <td>S</td>\n",
       "      <td>8.0500</td>\n",
       "      <td>Saundercock, Mr. William Henry</td>\n",
       "      <td>0</td>\n",
       "      <td>13</td>\n",
       "      <td>3</td>\n",
       "      <td>male</td>\n",
       "      <td>0</td>\n",
       "      <td>0.0</td>\n",
       "      <td>A/5. 2151</td>\n",
       "    </tr>\n",
       "    <tr>\n",
       "      <th>13</th>\n",
       "      <td>39.0</td>\n",
       "      <td>NaN</td>\n",
       "      <td>S</td>\n",
       "      <td>31.2750</td>\n",
       "      <td>Andersson, Mr. Anders Johan</td>\n",
       "      <td>5</td>\n",
       "      <td>14</td>\n",
       "      <td>3</td>\n",
       "      <td>male</td>\n",
       "      <td>1</td>\n",
       "      <td>0.0</td>\n",
       "      <td>347082</td>\n",
       "    </tr>\n",
       "    <tr>\n",
       "      <th>14</th>\n",
       "      <td>14.0</td>\n",
       "      <td>NaN</td>\n",
       "      <td>S</td>\n",
       "      <td>7.8542</td>\n",
       "      <td>Vestrom, Miss. Hulda Amanda Adolfina</td>\n",
       "      <td>0</td>\n",
       "      <td>15</td>\n",
       "      <td>3</td>\n",
       "      <td>female</td>\n",
       "      <td>0</td>\n",
       "      <td>0.0</td>\n",
       "      <td>350406</td>\n",
       "    </tr>\n",
       "    <tr>\n",
       "      <th>15</th>\n",
       "      <td>55.0</td>\n",
       "      <td>NaN</td>\n",
       "      <td>S</td>\n",
       "      <td>16.0000</td>\n",
       "      <td>Hewlett, Mrs. (Mary D Kingcome)</td>\n",
       "      <td>0</td>\n",
       "      <td>16</td>\n",
       "      <td>2</td>\n",
       "      <td>female</td>\n",
       "      <td>0</td>\n",
       "      <td>1.0</td>\n",
       "      <td>248706</td>\n",
       "    </tr>\n",
       "    <tr>\n",
       "      <th>16</th>\n",
       "      <td>2.0</td>\n",
       "      <td>NaN</td>\n",
       "      <td>Q</td>\n",
       "      <td>29.1250</td>\n",
       "      <td>Rice, Master. Eugene</td>\n",
       "      <td>1</td>\n",
       "      <td>17</td>\n",
       "      <td>3</td>\n",
       "      <td>male</td>\n",
       "      <td>4</td>\n",
       "      <td>0.0</td>\n",
       "      <td>382652</td>\n",
       "    </tr>\n",
       "    <tr>\n",
       "      <th>17</th>\n",
       "      <td>NaN</td>\n",
       "      <td>NaN</td>\n",
       "      <td>S</td>\n",
       "      <td>13.0000</td>\n",
       "      <td>Williams, Mr. Charles Eugene</td>\n",
       "      <td>0</td>\n",
       "      <td>18</td>\n",
       "      <td>2</td>\n",
       "      <td>male</td>\n",
       "      <td>0</td>\n",
       "      <td>1.0</td>\n",
       "      <td>244373</td>\n",
       "    </tr>\n",
       "    <tr>\n",
       "      <th>18</th>\n",
       "      <td>31.0</td>\n",
       "      <td>NaN</td>\n",
       "      <td>S</td>\n",
       "      <td>18.0000</td>\n",
       "      <td>Vander Planke, Mrs. Julius (Emelia Maria Vande...</td>\n",
       "      <td>0</td>\n",
       "      <td>19</td>\n",
       "      <td>3</td>\n",
       "      <td>female</td>\n",
       "      <td>1</td>\n",
       "      <td>0.0</td>\n",
       "      <td>345763</td>\n",
       "    </tr>\n",
       "    <tr>\n",
       "      <th>19</th>\n",
       "      <td>NaN</td>\n",
       "      <td>NaN</td>\n",
       "      <td>C</td>\n",
       "      <td>7.2250</td>\n",
       "      <td>Masselmani, Mrs. Fatima</td>\n",
       "      <td>0</td>\n",
       "      <td>20</td>\n",
       "      <td>3</td>\n",
       "      <td>female</td>\n",
       "      <td>0</td>\n",
       "      <td>1.0</td>\n",
       "      <td>2649</td>\n",
       "    </tr>\n",
       "    <tr>\n",
       "      <th>20</th>\n",
       "      <td>35.0</td>\n",
       "      <td>NaN</td>\n",
       "      <td>S</td>\n",
       "      <td>26.0000</td>\n",
       "      <td>Fynney, Mr. Joseph J</td>\n",
       "      <td>0</td>\n",
       "      <td>21</td>\n",
       "      <td>2</td>\n",
       "      <td>male</td>\n",
       "      <td>0</td>\n",
       "      <td>0.0</td>\n",
       "      <td>239865</td>\n",
       "    </tr>\n",
       "    <tr>\n",
       "      <th>21</th>\n",
       "      <td>34.0</td>\n",
       "      <td>D56</td>\n",
       "      <td>S</td>\n",
       "      <td>13.0000</td>\n",
       "      <td>Beesley, Mr. Lawrence</td>\n",
       "      <td>0</td>\n",
       "      <td>22</td>\n",
       "      <td>2</td>\n",
       "      <td>male</td>\n",
       "      <td>0</td>\n",
       "      <td>1.0</td>\n",
       "      <td>248698</td>\n",
       "    </tr>\n",
       "    <tr>\n",
       "      <th>22</th>\n",
       "      <td>15.0</td>\n",
       "      <td>NaN</td>\n",
       "      <td>Q</td>\n",
       "      <td>8.0292</td>\n",
       "      <td>McGowan, Miss. Anna \"Annie\"</td>\n",
       "      <td>0</td>\n",
       "      <td>23</td>\n",
       "      <td>3</td>\n",
       "      <td>female</td>\n",
       "      <td>0</td>\n",
       "      <td>1.0</td>\n",
       "      <td>330923</td>\n",
       "    </tr>\n",
       "    <tr>\n",
       "      <th>23</th>\n",
       "      <td>28.0</td>\n",
       "      <td>A6</td>\n",
       "      <td>S</td>\n",
       "      <td>35.5000</td>\n",
       "      <td>Sloper, Mr. William Thompson</td>\n",
       "      <td>0</td>\n",
       "      <td>24</td>\n",
       "      <td>1</td>\n",
       "      <td>male</td>\n",
       "      <td>0</td>\n",
       "      <td>1.0</td>\n",
       "      <td>113788</td>\n",
       "    </tr>\n",
       "    <tr>\n",
       "      <th>24</th>\n",
       "      <td>8.0</td>\n",
       "      <td>NaN</td>\n",
       "      <td>S</td>\n",
       "      <td>21.0750</td>\n",
       "      <td>Palsson, Miss. Torborg Danira</td>\n",
       "      <td>1</td>\n",
       "      <td>25</td>\n",
       "      <td>3</td>\n",
       "      <td>female</td>\n",
       "      <td>3</td>\n",
       "      <td>0.0</td>\n",
       "      <td>349909</td>\n",
       "    </tr>\n",
       "    <tr>\n",
       "      <th>25</th>\n",
       "      <td>38.0</td>\n",
       "      <td>NaN</td>\n",
       "      <td>S</td>\n",
       "      <td>31.3875</td>\n",
       "      <td>Asplund, Mrs. Carl Oscar (Selma Augusta Emilia...</td>\n",
       "      <td>5</td>\n",
       "      <td>26</td>\n",
       "      <td>3</td>\n",
       "      <td>female</td>\n",
       "      <td>1</td>\n",
       "      <td>1.0</td>\n",
       "      <td>347077</td>\n",
       "    </tr>\n",
       "    <tr>\n",
       "      <th>26</th>\n",
       "      <td>NaN</td>\n",
       "      <td>NaN</td>\n",
       "      <td>C</td>\n",
       "      <td>7.2250</td>\n",
       "      <td>Emir, Mr. Farred Chehab</td>\n",
       "      <td>0</td>\n",
       "      <td>27</td>\n",
       "      <td>3</td>\n",
       "      <td>male</td>\n",
       "      <td>0</td>\n",
       "      <td>0.0</td>\n",
       "      <td>2631</td>\n",
       "    </tr>\n",
       "    <tr>\n",
       "      <th>27</th>\n",
       "      <td>19.0</td>\n",
       "      <td>C23 C25 C27</td>\n",
       "      <td>S</td>\n",
       "      <td>263.0000</td>\n",
       "      <td>Fortune, Mr. Charles Alexander</td>\n",
       "      <td>2</td>\n",
       "      <td>28</td>\n",
       "      <td>1</td>\n",
       "      <td>male</td>\n",
       "      <td>3</td>\n",
       "      <td>0.0</td>\n",
       "      <td>19950</td>\n",
       "    </tr>\n",
       "    <tr>\n",
       "      <th>28</th>\n",
       "      <td>NaN</td>\n",
       "      <td>NaN</td>\n",
       "      <td>Q</td>\n",
       "      <td>7.8792</td>\n",
       "      <td>O'Dwyer, Miss. Ellen \"Nellie\"</td>\n",
       "      <td>0</td>\n",
       "      <td>29</td>\n",
       "      <td>3</td>\n",
       "      <td>female</td>\n",
       "      <td>0</td>\n",
       "      <td>1.0</td>\n",
       "      <td>330959</td>\n",
       "    </tr>\n",
       "    <tr>\n",
       "      <th>29</th>\n",
       "      <td>NaN</td>\n",
       "      <td>NaN</td>\n",
       "      <td>S</td>\n",
       "      <td>7.8958</td>\n",
       "      <td>Todoroff, Mr. Lalio</td>\n",
       "      <td>0</td>\n",
       "      <td>30</td>\n",
       "      <td>3</td>\n",
       "      <td>male</td>\n",
       "      <td>0</td>\n",
       "      <td>0.0</td>\n",
       "      <td>349216</td>\n",
       "    </tr>\n",
       "    <tr>\n",
       "      <th>...</th>\n",
       "      <td>...</td>\n",
       "      <td>...</td>\n",
       "      <td>...</td>\n",
       "      <td>...</td>\n",
       "      <td>...</td>\n",
       "      <td>...</td>\n",
       "      <td>...</td>\n",
       "      <td>...</td>\n",
       "      <td>...</td>\n",
       "      <td>...</td>\n",
       "      <td>...</td>\n",
       "      <td>...</td>\n",
       "    </tr>\n",
       "    <tr>\n",
       "      <th>1279</th>\n",
       "      <td>21.0</td>\n",
       "      <td>NaN</td>\n",
       "      <td>Q</td>\n",
       "      <td>7.7500</td>\n",
       "      <td>Canavan, Mr. Patrick</td>\n",
       "      <td>0</td>\n",
       "      <td>1280</td>\n",
       "      <td>3</td>\n",
       "      <td>male</td>\n",
       "      <td>0</td>\n",
       "      <td>NaN</td>\n",
       "      <td>364858</td>\n",
       "    </tr>\n",
       "    <tr>\n",
       "      <th>1280</th>\n",
       "      <td>6.0</td>\n",
       "      <td>NaN</td>\n",
       "      <td>S</td>\n",
       "      <td>21.0750</td>\n",
       "      <td>Palsson, Master. Paul Folke</td>\n",
       "      <td>1</td>\n",
       "      <td>1281</td>\n",
       "      <td>3</td>\n",
       "      <td>male</td>\n",
       "      <td>3</td>\n",
       "      <td>NaN</td>\n",
       "      <td>349909</td>\n",
       "    </tr>\n",
       "    <tr>\n",
       "      <th>1281</th>\n",
       "      <td>23.0</td>\n",
       "      <td>B24</td>\n",
       "      <td>S</td>\n",
       "      <td>93.5000</td>\n",
       "      <td>Payne, Mr. Vivian Ponsonby</td>\n",
       "      <td>0</td>\n",
       "      <td>1282</td>\n",
       "      <td>1</td>\n",
       "      <td>male</td>\n",
       "      <td>0</td>\n",
       "      <td>NaN</td>\n",
       "      <td>12749</td>\n",
       "    </tr>\n",
       "    <tr>\n",
       "      <th>1282</th>\n",
       "      <td>51.0</td>\n",
       "      <td>D28</td>\n",
       "      <td>S</td>\n",
       "      <td>39.4000</td>\n",
       "      <td>Lines, Mrs. Ernest H (Elizabeth Lindsey James)</td>\n",
       "      <td>1</td>\n",
       "      <td>1283</td>\n",
       "      <td>1</td>\n",
       "      <td>female</td>\n",
       "      <td>0</td>\n",
       "      <td>NaN</td>\n",
       "      <td>PC 17592</td>\n",
       "    </tr>\n",
       "    <tr>\n",
       "      <th>1283</th>\n",
       "      <td>13.0</td>\n",
       "      <td>NaN</td>\n",
       "      <td>S</td>\n",
       "      <td>20.2500</td>\n",
       "      <td>Abbott, Master. Eugene Joseph</td>\n",
       "      <td>2</td>\n",
       "      <td>1284</td>\n",
       "      <td>3</td>\n",
       "      <td>male</td>\n",
       "      <td>0</td>\n",
       "      <td>NaN</td>\n",
       "      <td>C.A. 2673</td>\n",
       "    </tr>\n",
       "    <tr>\n",
       "      <th>1284</th>\n",
       "      <td>47.0</td>\n",
       "      <td>NaN</td>\n",
       "      <td>S</td>\n",
       "      <td>10.5000</td>\n",
       "      <td>Gilbert, Mr. William</td>\n",
       "      <td>0</td>\n",
       "      <td>1285</td>\n",
       "      <td>2</td>\n",
       "      <td>male</td>\n",
       "      <td>0</td>\n",
       "      <td>NaN</td>\n",
       "      <td>C.A. 30769</td>\n",
       "    </tr>\n",
       "    <tr>\n",
       "      <th>1285</th>\n",
       "      <td>29.0</td>\n",
       "      <td>NaN</td>\n",
       "      <td>S</td>\n",
       "      <td>22.0250</td>\n",
       "      <td>Kink-Heilmann, Mr. Anton</td>\n",
       "      <td>1</td>\n",
       "      <td>1286</td>\n",
       "      <td>3</td>\n",
       "      <td>male</td>\n",
       "      <td>3</td>\n",
>>>>>>> 646b4bbf7e1a8f09bf5a7965002c653771698e99
       "      <td>NaN</td>\n",
       "      <td>1</td>\n",
       "      <td>Oliva y Ocana, Dona. Fermina</td>\n",
       "      <td>female</td>\n",
       "      <td>39.0</td>\n",
       "      <td>0</td>\n",
       "      <td>0</td>\n",
       "      <td>PC 17758</td>\n",
       "      <td>108.9000</td>\n",
       "      <td>C105</td>\n",
       "      <td>C</td>\n",
       "    </tr>\n",
       "    <tr>\n",
       "      <th>1306</th>\n",
       "      <td>NaN</td>\n",
       "      <td>3</td>\n",
       "      <td>Saether, Mr. Simon Sivertsen</td>\n",
       "      <td>male</td>\n",
       "      <td>38.5</td>\n",
       "      <td>0</td>\n",
       "      <td>0</td>\n",
       "      <td>SOTON/O.Q. 3101262</td>\n",
       "      <td>7.2500</td>\n",
       "      <td>NaN</td>\n",
       "      <td>S</td>\n",
       "    </tr>\n",
       "    <tr>\n",
       "      <th>1307</th>\n",
       "      <td>NaN</td>\n",
       "      <td>3</td>\n",
       "      <td>Ware, Mr. Frederick</td>\n",
       "      <td>male</td>\n",
       "      <td>NaN</td>\n",
       "      <td>0</td>\n",
       "      <td>0</td>\n",
       "      <td>359309</td>\n",
       "      <td>8.0500</td>\n",
       "      <td>NaN</td>\n",
       "      <td>S</td>\n",
       "    </tr>\n",
       "    <tr>\n",
       "      <th>1308</th>\n",
       "      <td>NaN</td>\n",
       "      <td>3</td>\n",
       "      <td>Peter, Master. Michael J</td>\n",
       "      <td>male</td>\n",
       "      <td>NaN</td>\n",
       "      <td>1</td>\n",
       "      <td>1</td>\n",
       "      <td>2668</td>\n",
       "      <td>22.3583</td>\n",
       "      <td>NaN</td>\n",
       "      <td>C</td>\n",
       "    </tr>\n",
       "  </tbody>\n",
       "</table>\n",
       "<p>1309 rows × 11 columns</p>\n",
       "</div>"
      ],
      "text/plain": [
       "      Survived  Pclass                                               Name  \\\n",
       "0          0.0       3                            Braund, Mr. Owen Harris   \n",
       "1          1.0       1  Cumings, Mrs. John Bradley (Florence Briggs Th...   \n",
       "2          1.0       3                             Heikkinen, Miss. Laina   \n",
       "3          1.0       1       Futrelle, Mrs. Jacques Heath (Lily May Peel)   \n",
       "4          0.0       3                           Allen, Mr. William Henry   \n",
       "...        ...     ...                                                ...   \n",
       "1304       NaN       3                                 Spector, Mr. Woolf   \n",
       "1305       NaN       1                       Oliva y Ocana, Dona. Fermina   \n",
       "1306       NaN       3                       Saether, Mr. Simon Sivertsen   \n",
       "1307       NaN       3                                Ware, Mr. Frederick   \n",
       "1308       NaN       3                           Peter, Master. Michael J   \n",
       "\n",
       "         Sex   Age  SibSp  Parch              Ticket      Fare Cabin Embarked  \n",
       "0       male  22.0      1      0           A/5 21171    7.2500   NaN        S  \n",
       "1     female  38.0      1      0            PC 17599   71.2833   C85        C  \n",
       "2     female  26.0      0      0    STON/O2. 3101282    7.9250   NaN        S  \n",
       "3     female  35.0      1      0              113803   53.1000  C123        S  \n",
       "4       male  35.0      0      0              373450    8.0500   NaN        S  \n",
       "...      ...   ...    ...    ...                 ...       ...   ...      ...  \n",
       "1304    male   NaN      0      0           A.5. 3236    8.0500   NaN        S  \n",
       "1305  female  39.0      0      0            PC 17758  108.9000  C105        C  \n",
       "1306    male  38.5      0      0  SOTON/O.Q. 3101262    7.2500   NaN        S  \n",
       "1307    male   NaN      0      0              359309    8.0500   NaN        S  \n",
       "1308    male   NaN      1      1                2668   22.3583   NaN        C  \n",
       "\n",
       "[1309 rows x 11 columns]"
      ]
     },
     "execution_count": 89,
     "metadata": {},
     "output_type": "execute_result"
    }
   ],
   "source": [
    "# Check dataset\n",
    "titanic_list"
   ]
  },
  {
   "cell_type": "markdown",
   "metadata": {},
   "source": [
    "***\n",
    "\n",
    "## `Survived`\n",
    "\n",
    "Nuestra variable predictora o dependiente, verificamos las correctas etiquetas `0` y `1` , aprox 38%"
   ]
  },
  {
   "cell_type": "code",
   "execution_count": 90,
   "metadata": {},
   "outputs": [
    {
     "data": {
      "text/plain": [
       "891"
      ]
     },
     "execution_count": 90,
     "metadata": {},
     "output_type": "execute_result"
    }
   ],
   "source": [
    "len(train_dataset)"
   ]
  },
  {
   "cell_type": "code",
   "execution_count": 91,
   "metadata": {},
   "outputs": [
    {
     "data": {
      "text/plain": [
       "418"
      ]
     },
     "execution_count": 91,
     "metadata": {},
     "output_type": "execute_result"
    }
   ],
   "source": [
    "len(test_dataset)"
   ]
  },
  {
   "cell_type": "code",
   "execution_count": 92,
   "metadata": {},
   "outputs": [
    {
     "data": {
      "text/plain": [
       "<AxesSubplot:xlabel='Survived'>"
      ]
     },
     "execution_count": 92,
     "metadata": {},
     "output_type": "execute_result"
    },
    {
     "data": {
      "image/png": "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\n",
      "text/plain": [
       "<Figure size 432x288 with 1 Axes>"
      ]
     },
     "metadata": {
      "needs_background": "light"
     },
     "output_type": "display_data"
    }
   ],
   "source": [
    "titanic_list['Survived'][:891] = titanic_list['Survived'][:891].astype(int)\n",
    "sns.barplot(x = \"Survived\",\n",
    "            data = titanic_list)"
   ]
  },
  {
   "cell_type": "code",
   "execution_count": 93,
   "metadata": {},
   "outputs": [
    {
     "data": {
      "text/plain": [
       "count    891.000000\n",
       "mean       0.383838\n",
       "std        0.486592\n",
       "min        0.000000\n",
       "25%        0.000000\n",
       "50%        0.000000\n",
       "75%        1.000000\n",
       "max        1.000000\n",
       "Name: Survived, dtype: float64"
      ]
     },
     "execution_count": 93,
     "metadata": {},
     "output_type": "execute_result"
    }
   ],
   "source": [
    "titanic_list.describe()['Survived']"
   ]
  },
  {
   "cell_type": "markdown",
   "metadata": {},
   "source": [
    "***\n",
    "## `Pclass`\n",
    "\n",
    "Check ticket class. Es una variable categórica con 3 valores"
   ]
  },
  {
   "cell_type": "code",
   "execution_count": 94,
   "metadata": {},
   "outputs": [
    {
     "data": {
      "text/html": [
       "<div>\n",
       "<style scoped>\n",
       "    .dataframe tbody tr th:only-of-type {\n",
       "        vertical-align: middle;\n",
       "    }\n",
       "\n",
       "    .dataframe tbody tr th {\n",
       "        vertical-align: top;\n",
       "    }\n",
       "\n",
       "    .dataframe thead th {\n",
       "        text-align: right;\n",
       "    }\n",
       "</style>\n",
       "<table border=\"1\" class=\"dataframe\">\n",
       "  <thead>\n",
       "    <tr style=\"text-align: right;\">\n",
       "      <th></th>\n",
       "      <th>Pclass</th>\n",
       "      <th>Survived</th>\n",
       "    </tr>\n",
       "  </thead>\n",
       "  <tbody>\n",
       "    <tr>\n",
       "      <th>0</th>\n",
       "      <td>1</td>\n",
       "      <td>0.629630</td>\n",
       "    </tr>\n",
       "    <tr>\n",
       "      <th>1</th>\n",
       "      <td>2</td>\n",
       "      <td>0.472826</td>\n",
       "    </tr>\n",
       "    <tr>\n",
       "      <th>2</th>\n",
       "      <td>3</td>\n",
       "      <td>0.242363</td>\n",
       "    </tr>\n",
       "  </tbody>\n",
       "</table>\n",
       "</div>"
      ],
      "text/plain": [
       "   Pclass  Survived\n",
       "0       1  0.629630\n",
       "1       2  0.472826\n",
       "2       3  0.242363"
      ]
     },
     "execution_count": 94,
     "metadata": {},
     "output_type": "execute_result"
    }
   ],
   "source": [
    "titanic_list[['Pclass','Survived']].groupby(['Pclass'], as_index=False).mean()"
   ]
  },
  {
   "cell_type": "code",
   "execution_count": 95,
   "metadata": {},
   "outputs": [
    {
     "data": {
      "text/plain": [
       "<AxesSubplot:xlabel='Pclass', ylabel='Survived'>"
      ]
     },
     "execution_count": 95,
     "metadata": {},
     "output_type": "execute_result"
    },
    {
     "data": {
      "image/png": "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\n",
      "text/plain": [
       "<Figure size 432x288 with 1 Axes>"
      ]
     },
     "metadata": {
      "needs_background": "light"
     },
     "output_type": "display_data"
    }
   ],
   "source": [
    "sns.barplot(x = 'Pclass',\n",
    "           y = 'Survived',\n",
    "           data = titanic_list)"
   ]
  },
  {
   "cell_type": "code",
   "execution_count": 96,
   "metadata": {},
   "outputs": [
    {
     "data": {
      "text/plain": [
       "<seaborn.axisgrid.FacetGrid at 0x1f237ec8>"
      ]
     },
     "execution_count": 96,
     "metadata": {},
     "output_type": "execute_result"
    },
    {
     "data": {
      "image/png": "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\n",
      "text/plain": [
       "<Figure size 360x360 with 1 Axes>"
      ]
     },
     "metadata": {
      "needs_background": "light"
     },
     "output_type": "display_data"
    }
   ],
   "source": [
    "sns.catplot(x=\"Pclass\", y=\"Survived\", hue=None,\n",
    "            markers=[\"^\", \"o\"], linestyles=[\"-\", \"--\"],\n",
    "            kind=\"point\", data=titanic_list)"
   ]
  },
  {
   "cell_type": "markdown",
   "metadata": {},
   "source": [
    "## `Sex`"
   ]
  },
  {
   "cell_type": "code",
   "execution_count": 97,
   "metadata": {},
   "outputs": [
    {
     "name": "stdout",
     "output_type": "stream",
     "text": [
      "female    466\n",
      "male      843\n",
      "Name: Sex, dtype: int64\n"
     ]
    }
   ],
   "source": [
    "# Representamos gráficamente el atributo Sex\n",
    "print(titanic_list['Sex'].value_counts(sort = False))"
   ]
  },
  {
   "cell_type": "code",
   "execution_count": 98,
   "metadata": {},
   "outputs": [
    {
     "name": "stdout",
     "output_type": "stream",
     "text": [
      "female    0.355997\n",
      "male      0.644003\n",
      "Name: Sex, dtype: float64\n"
     ]
    }
   ],
   "source": [
    "print(titanic_list['Sex'].value_counts(sort = False, normalize = True))"
   ]
  },
  {
   "cell_type": "code",
   "execution_count": 99,
   "metadata": {},
   "outputs": [
    {
     "data": {
      "text/plain": [
       "Text(0.5, 1.0, 'Survive v/s Sex')"
      ]
     },
<<<<<<< HEAD
     "execution_count": 99,
=======
     "execution_count": 17,
>>>>>>> 646b4bbf7e1a8f09bf5a7965002c653771698e99
     "metadata": {},
     "output_type": "execute_result"
    },
    {
     "data": {
      "image/png": "iVBORw0KGgoAAAANSUhEUgAAAYUAAAEWCAYAAACJ0YulAAAAOXRFWHRTb2Z0d2FyZQBNYXRwbG90bGliIHZlcnNpb24zLjMuMiwgaHR0cHM6Ly9tYXRwbG90bGliLm9yZy8vihELAAAACXBIWXMAAAsTAAALEwEAmpwYAAAaC0lEQVR4nO3debxdZX3v8c9XwiCghCFNaYIGNdVrWxmMSGsHhdqKbU1sFbFWAje36YC2lrZXaq3aqr22VVF7LTUVa3AEcQArHRC03loFAwoIaEnBmIRAjsggoGL0d//Yz1lswkmyM6x9QvJ5v177ddZ61rPW/m3Y2d+9hv2sVBWSJAE8bLoLkCTtPAwFSVLHUJAkdQwFSVLHUJAkdQwFSVLHUJB2sCTPTbI6yd1JjtoJ6nlNkvdOdx16aDAUtNNK8utJVrQP13VJ/jnJT4/heSvJ47ZjE28EXlJV+1fVF6fYfpK8JMnVSe5NckuSTyc5aTueU9ohDAXtlJKcDrwF+EtgNvAo4O+AhdNY1qgeDVy7meVvA14G/CFwMDAHeCXwrN4r2wotvPyM2M34P1w7nSQHAH8BnFZVH6mqe6rqe1X18ar649Zn7yRvSXJze7wlyd5t2SlJ/mOjbXbf/pO8O8nbk3wiybeSXJbksW3ZZ9oqV7U9lBdMUd/Dkrwyyaok65Ock+SAVtPdwB5t/f+eYt0fBX4XOKmqLq6qb1fV96vqP6rqlOH/BknObntIa5O8Lskew68vyRuT3J7kpiQnDK17eJJ/b6/tYuCQjWo4Nsl/JrkjyVVJnj607NNJXp/ks8C9wGNG+p+mXYahoJ3RTwL7AB/dTJ8/BY4FjgSOAI5h8G17VCcBfw4cCKwEXg9QVT/blh/RDv+cO8W6p7THMxh8aO4P/N+q+m5V7T+0/mOnWPc4YHVVrdhCfe8GNgCPA44CfgH4X0PLnwp8lcEH/l8DZydJW/Z+4Iq27LXA4smVkswBPgG8DjgI+CPgw0lmDW37xcBS4BHAqi3UqV2MoaCd0cHAN6pqw2b6vAj4i6paX1UTDD7gX7wVz/HRqrq8Pcf7GITLqF4EvLmqbqyqu4E/AU5KMmOEdQ8BbhluSLKmfWv/TpJHJ5kNPBt4WdtLWg+cySDIJq2qqn+oqu8Dy4FDgdlJHgU8BfizFlKfAT4+tN5vABdV1UVV9YOquhhY0Z5v0rur6tqq2lBV39uK/y7aBYzyJpbG7TbgkCQzNhMMP8IDv8Wuam2jGv5gvpfBt/1RTfXcMxic+1i7hXVvY/AB3qmquS1QvgeEwTmJPYF193/552HA6qnqr6p7W7/9GYTO7VV1z0b1HdamHw08P8mvDC3fE/jU0Pzw82g3456CdkafA74LLNpMn5sZfMBNelRrA7gH2HdyQZIf3sH1TfXcG4BbR1j3UmBukgWb6bOawes/pKpmtscjq+rHRtj+OuDAJPttVN/wtt8ztN2ZVbVfVb1hqI9DJ+/GDAXtdKrqTuBVwNuTLEqyb5I9k5yQ5K9btw8Ar0wyK8khrf/ktfhXAT+W5Mgk+wCv2coSbmXzJ1g/APxBO6G7P4MrpM7dwuGuydf2VeAdwAeTPDPJw9sJ5J8a6rMO+DfgTUke2U5sPzbJz42w/VUMDgf9eZK92iW8w3sF7wV+JckvJtkjyT5Jnp5k7pa2rd2DoaCdUlW9CTidwcnjCQbfcF8CfKx1eR2DD7+rgWuAK1sbVfVfDK5e+iRwA/CAK5FG8BpgeTvOf+IUy98FvAf4DHAT8B3gpVux/dMYXJb6ZuCbwBoGJ4RfAHy99TkZ2Au4DrgdOJ+NDjttxq8zOBH9TeDVwDmTC6pqNYPLel/B/f9d/xg/C9TEm+xIkib57UCS1DEUJEkdQ0GS1DEUJEmdh/SP1w455JCaN2/edJchSQ8pV1xxxTeqatZUyx7SoTBv3jxWrNjSEDKSpGFJNjmmlYePJEkdQ0GS1DEUJEkdQ0GS1DEUJEkdQ0GS1DEUJEkdQ0GS1DEUJEmdh/QvmneEJ//xOVvupN3OFX9z8nSXIE0L9xQkSR1DQZLUMRQkSR1DQZLUMRQkSR1DQZLU6TUUkvxBkmuTfDnJB5Lsk+TwJJclWZnk3CR7tb57t/mVbfm8PmuTJD1Yb6GQZA7we8CCqvpxYA/gJOCvgDOr6nHA7cCStsoS4PbWfmbrJ0kao74PH80AHp5kBrAvsA44Dji/LV8OLGrTC9s8bfnxSdJzfZKkIb2FQlWtBd4IfJ1BGNwJXAHcUVUbWrc1wJw2PQdY3dbd0PofvPF2kyxNsiLJiomJib7Kl6TdUp+Hjw5k8O3/cOBHgP2AZ23vdqtqWVUtqKoFs2bN2t7NSZKG9Hn46OeBm6pqoqq+B3wEeBowsx1OApgLrG3Ta4HDANryA4DbeqxPkrSRPkPh68CxSfZt5waOB64DPgU8r/VZDFzQpi9s87Tll1ZV9VifJGkjfZ5TuIzBCeMrgWvacy0DXg6cnmQlg3MGZ7dVzgYObu2nA2f0VZskaWq9Dp1dVa8GXr1R843AMVP0/Q7w/D7rkSRtnr9oliR1DAVJUsdQkCR1DAVJUsdQkCR1DAVJUsdQkCR1DAVJUsdQkCR1DAVJUsdQkCR1DAVJUsdQkCR1DAVJUsdQkCR1DAVJUqe3UEjy+CRfGnrcleRlSQ5KcnGSG9rfA1v/JHlbkpVJrk5ydF+1SZKm1uftOL9aVUdW1ZHAk4F7gY8yuM3mJVU1H7iE+2+7eQIwvz2WAmf1VZskaWrjOnx0PPDfVbUKWAgsb+3LgUVteiFwTg18HpiZ5NAx1SdJYnyhcBLwgTY9u6rWtelbgNlteg6wemidNa3tAZIsTbIiyYqJiYm+6pWk3VLvoZBkL+A5wIc2XlZVBdTWbK+qllXVgqpaMGvWrB1UpSQJxrOncAJwZVXd2uZvnTws1P6ub+1rgcOG1pvb2iRJYzKOUHgh9x86ArgQWNymFwMXDLWf3K5COha4c+gwkyRpDGb0ufEk+wHPBH5rqPkNwHlJlgCrgBNb+0XAs4GVDK5UOrXP2iRJD9ZrKFTVPcDBG7XdxuBqpI37FnBan/VIkjbPXzRLkjqGgiSpYyhIkjqGgiSpYyhIkjqGgiSpYyhIkjqGgiSpYyhIkjqGgiSpYyhIkjqGgiSpYyhIkjqGgiSpYyhIkjq9hkKSmUnOT/KVJNcn+ckkByW5OMkN7e+BrW+SvC3JyiRXJzm6z9okSQ/W957CW4F/qaonAEcA1wNnAJdU1XzgkjYPg3s5z2+PpcBZPdcmSdpIb6GQ5ADgZ4GzAarqvqq6A1gILG/dlgOL2vRC4Jwa+DwwM8mhfdUnSXqwPvcUDgcmgH9M8sUk72z3bJ5dVetan1uA2W16DrB6aP01re0BkixNsiLJiomJiR7Ll6TdT5+hMAM4Gjirqo4C7uH+Q0VAd1/m2pqNVtWyqlpQVQtmzZq1w4qVJPUbCmuANVV1WZs/n0FI3Dp5WKj9Xd+WrwUOG1p/bmuTJI1Jb6FQVbcAq5M8vjUdD1wHXAgsbm2LgQva9IXAye0qpGOBO4cOM0mSxmBGz9t/KfC+JHsBNwKnMgii85IsAVYBJ7a+FwHPBlYC97a+kqQx6jUUqupLwIIpFh0/Rd8CTuuzHknS5vmLZklSx1CQJHUMBUlSx1CQJHUMBUlSx1CQJHUMBUlSx1CQJHUMBUlSx1CQJHVGCoUkP9F3IZKk6TfqnsLfJbk8ye+2O6pJknZBI4VCVf0M8CIG9zu4Isn7kzyz18okSWM38jmFqroBeCXwcuDngLcl+UqSX+2rOEnSeI16TuFJSc4ErgeOA36lqv5Hmz6zx/okSWM06v0U/hZ4J/CKqvr2ZGNV3Zzklb1UJkkau1FD4ZeAb1fV9wGSPAzYp6rurar3bGqlJF8DvgV8H9hQVQuSHAScC8wDvgacWFW3JwnwVgZ3X7sXOKWqrtymVyVJ2iajnlP4JPDwofl9W9sonlFVR1bV5B3YzgAuqar5wCVtHuAEYH57LAXOGnH7kqQdZNRQ2Keq7p6cadP7buNzLgSWt+nlwKKh9nNq4PPAzCSHbuNzSJK2waihcE+SoydnkjwZ+PZm+k8q4N+SXJFkaWubXVXr2vQtwOw2PQdYPbTumtb2AEmWJlmRZMXExMSI5UuSRjHqOYWXAR9KcjMQ4IeBF4yw3k9X1dokPwRcnOQrwwurqpLU1hRcVcuAZQALFizYqnUlSZs3UihU1ReSPAF4fGv6alV9b4T11ra/65N8FDgGuDXJoVW1rh0eWt+6r2Xw47hJc1ubJGlMtmZAvKcATwKOBl6Y5OTNdU6yX5JHTE4DvwB8GbgQWNy6LQYuaNMXAidn4FjgzqHDTJKkMRhpTyHJe4DHAl9icHkpDM4XnLOZ1WYDHx1cacoM4P1V9S9JvgCcl2QJsAo4sfW/iMHlqCsZXJJ66la9EknSdhv1nMIC4IlVNfIx/Kq6EThiivbbgOOnaC/gtFG3L0na8UY9fPRlBieXJUm7sFH3FA4BrktyOfDdycaqek4vVUmSpsWoofCaPouQ9GBf/wvvbaUHe9Srrul1+6NekvrvSR4NzK+qTybZF9ij18okSWM36tDZvwmcD7yjNc0BPtZTTZKkaTLqiebTgKcBd0F3w50f6qsoSdL0GDUUvltV903OJJnB4HcKkqRdyKih8O9JXgE8vN2b+UPAx/srS5I0HUYNhTOACeAa4LcY/PrYO65J0i5m1KuPfgD8Q3tIknZRo459dBNTnEOoqsfs8IokSdNma8Y+mrQP8HzgoB1fjiRpOo10TqGqbht6rK2qtwC/1G9pkqRxG/Xw0dFDsw9jsOcw6l6GJOkhYtQP9jcNTW8Avsb990GQJO0iRr366Bnb+gRJ9gBWAGur6peTHA58EDgYuAJ4cVXdl2RvBjfteTJwG/CCqvratj6vJGnrjXr46PTNLa+qN29m8e8D1wOPbPN/BZxZVR9M8vfAEuCs9vf2qnpckpNavxeMUp8kaccY9cdrC4DfYTAQ3hzgtxncq/kR7TGlJHMZnJB+Z5sPcByDwfUAlgOL2vTCNk9bfnzrL0kak1HPKcwFjq6qbwEkeQ3wiar6jS2s9xbgf3N/cBwM3FFVG9r8GgYhQ/u7GqCqNiS5s/X/xog1SpK206h7CrOB+4bm72ttm5Tkl4H1VXXFNta2qe0uTbIiyYqJiYkduWlJ2u2NuqdwDnB5ko+2+UXcf6hnU54GPCfJsxn84O2RwFuBmUlmtL2FucDa1n8tcBiwpo3CegCDE84PUFXLgGUACxYscKRWSdqBRv3x2uuBU4Hb2+PUqvrLLazzJ1U1t6rmAScBl1bVi4BPAc9r3RYDF7TpC9s8bfmlVeWHviSN0aiHjwD2Be6qqrcy+DZ/+DY+58uB05OsZHDO4OzWfjZwcGs/ncHIrJKkMRr1ktRXM7gC6fHAPwJ7Au9lcIhoi6rq08Cn2/SNwDFT9PkOgzGVJEnTZNQ9hecCzwHuAaiqm9nMpaiSpIemUUPhvnZ8vwCS7NdfSZKk6TJqKJyX5B0Mrhz6TeCTeMMdSdrlbPGcQvtV8bnAE4C7GJxXeFVVXdxzbZKkMdtiKFRVJbmoqn4CMAgkaRc26uGjK5M8pddKJEnTbtRfND8V+I0kX2NwBVIY7EQ8qa/CJEnjt9lQSPKoqvo68ItjqkeSNI22tKfwMQajo65K8uGq+rUx1CRJmiZbOqcwfD+Dx/RZiCRp+m0pFGoT05KkXdCWDh8dkeQuBnsMD2/TcP+J5kduelVJ0kPNZkOhqvYYVyGSpOm3NUNnS5J2cYaCJKljKEiSOr2FQpJ9klye5Kok1yb589Z+eJLLkqxMcm6SvVr73m1+ZVs+r6/aJElT63NP4bvAcVV1BHAk8KwkxwJ/BZxZVY9jcL/nJa3/EuD21n5m6ydJGqPeQqEG7m6ze7ZHAccB57f25cCiNr2wzdOWH9+G7ZYkjUmv5xSS7JHkS8B6BsNu/zdwR1VtaF3WAHPa9BxgNUBbfidw8BTbXJpkRZIVExMTfZYvSbudXkOhqr5fVUcCc4FjGNyoZ3u3uayqFlTVglmzZm3v5iRJQ8Zy9VFV3QF8CvhJBrf0nPzR3FxgbZteCxwG0JYfANw2jvokSQN9Xn00K8nMNv1w4JnA9QzC4Xmt22LggjZ9YZunLb+0qhxvSZLGaNSb7GyLQ4HlSfZgED7nVdU/JbkO+GCS1wFfBM5u/c8G3pNkJfBN4KQea5MkTaG3UKiqq4Gjpmi/kcH5hY3bvwM8v696JElb5i+aJUkdQ0GS1DEUJEkdQ0GS1DEUJEkdQ0GS1DEUJEkdQ0GS1DEUJEkdQ0GS1DEUJEkdQ0GS1DEUJEkdQ0GS1DEUJEkdQ0GS1OnzdpyHJflUkuuSXJvk91v7QUkuTnJD+3tga0+StyVZmeTqJEf3VZskaWp97ilsAP6wqp4IHAucluSJwBnAJVU1H7ikzQOcAMxvj6XAWT3WJkmaQm+hUFXrqurKNv0t4HpgDrAQWN66LQcWtemFwDk18HlgZpJD+6pPkvRgYzmnkGQeg/s1XwbMrqp1bdEtwOw2PQdYPbTamta28baWJlmRZMXExER/RUvSbqj3UEiyP/Bh4GVVddfwsqoqoLZme1W1rKoWVNWCWbNm7cBKJUm9hkKSPRkEwvuq6iOt+dbJw0Lt7/rWvhY4bGj1ua1NkjQmfV59FOBs4PqqevPQoguBxW16MXDBUPvJ7SqkY4E7hw4zSZLGYEaP234a8GLgmiRfam2vAN4AnJdkCbAKOLEtuwh4NrASuBc4tcfaJElT6C0Uquo/gGxi8fFT9C/gtL7qkSRtmb9oliR1DAVJUsdQkCR1DAVJUsdQkCR1DAVJUsdQkCR1DAVJUsdQkCR1DAVJUsdQkCR1DAVJUsdQkCR1DAVJUsdQkCR1+rzz2ruSrE/y5aG2g5JcnOSG9vfA1p4kb0uyMsnVSY7uqy5J0qb1uafwbuBZG7WdAVxSVfOBS9o8wAnA/PZYCpzVY12SpE3oLRSq6jPANzdqXggsb9PLgUVD7efUwOeBmUkO7as2SdLUxn1OYXZVrWvTtwCz2/QcYPVQvzWt7UGSLE2yIsmKiYmJ/iqVpN3QtJ1obvdkrm1Yb1lVLaiqBbNmzeqhMknafY07FG6dPCzU/q5v7WuBw4b6zW1tkqQxGncoXAgsbtOLgQuG2k9uVyEdC9w5dJhJkjQmM/racJIPAE8HDkmyBng18AbgvCRLgFXAia37RcCzgZXAvcCpfdUlSdq03kKhql64iUXHT9G3gNP6qkWSNBp/0SxJ6hgKkqSOoSBJ6hgKkqSOoSBJ6hgKkqSOoSBJ6hgKkqSOoSBJ6hgKkqSOoSBJ6hgKkqSOoSBJ6hgKkqSOoSBJ6hgKkqTOThUKSZ6V5KtJViY5Y7rrkaTdzU4TCkn2AN4OnAA8EXhhkidOb1WStHvZaUIBOAZYWVU3VtV9wAeBhdNckyTtVnq7R/M2mAOsHppfAzx1405JlgJL2+zdSb46htp2F4cA35juInYGeePi6S5BD+R7c9KrsyO28uhNLdiZQmEkVbUMWDbddeyKkqyoqgXTXYe0Md+b47MzHT5aCxw2ND+3tUmSxmRnCoUvAPOTHJ5kL+Ak4MJprkmSdis7zeGjqtqQ5CXAvwJ7AO+qqmunuazdjYfltLPyvTkmqarprkGStJPYmQ4fSZKmmaEgSeoYCppSkqcn+afprkO7hiS/l+T6JO/rafuvSfJHfWx7d7PTnGiWtEv7XeDnq2rNdBeizXNPYReWZF6SryR5d5L/SvK+JD+f5LNJbkhyTHt8LskXk/xnksdPsZ39krwryeWtn8OPaGRJ/h54DPDPSf50qvdSklOSfCzJxUm+luQlSU5vfT6f5KDW7zeTfCHJVUk+nGTfKZ7vsUn+JckVSf5fkieM9xU/tBkKu77HAW8CntAevw78NPBHwCuArwA/U1VHAa8C/nKKbfwpcGlVHQM8A/ibJPuNoXbtAqrqt4GbGbx39mPT76UfB34VeArweuDe9r78HHBy6/ORqnpKVR0BXA8smeIplwEvraonM3if/10/r2zX5OGjXd9NVXUNQJJrgUuqqpJcA8wDDgCWJ5kPFLDnFNv4BeA5Q8ds9wEexeAfpbQ1NvVeAvhUVX0L+FaSO4GPt/ZrgCe16R9P8jpgJrA/g981dZLsD/wU8KGkGyNo7x5exy7LUNj1fXdo+gdD8z9g8P//tQz+MT43yTzg01NsI8CvVZWDD2p7TfleSvJUtvxeBXg3sKiqrkpyCvD0jbb/MOCOqjpyh1a9G/HwkQ7g/jGmTtlEn38FXpr21SvJUWOoS7um7X0vPQJYl2RP4EUbL6yqu4Cbkjy/bT9JjtjOmncrhoL+Gvg/Sb7IpvccX8vgsNLV7RDUa8dVnHY52/te+jPgMuCzDM6HTeVFwJIkVwHX4n1ZtorDXEiSOu4pSJI6hoIkqWMoSJI6hoIkqWMoSJI6hoI0hSSzk7w/yY1tDJ3PJXnuDtiuo89qp2YoSBtpP6z6GPCZqnpMG0PnJGDuNNTiqAMaK0NBerDjgPuq6u8nG6pqVVX9bZI9kvxNG6nz6iS/Bd0ewKeTnN9Gpn3f0K92n9XarmQw4ButfcrRZ9uIoRcmuRS4ZKyvXLs9v4VID/ZjwJWbWLYEuLOqnpJkb+CzSf6tLTuqrXszg1/cPi3JCuAfGATNSuDcoW1Njj77P5PMBC5P8sm27GjgSVX1zR34uqQtMhSkLUjydgbDjd8HrAKelOR5bfEBwPy27PLJm8gk+RKDUWjvZjBS7Q2t/b3A0rbu5kYMvdhA0HQwFKQHuxb4tcmZqjotySHACuDrDMbq33jI5qfzwFE+v8+W/31tbsTQe7a1eGl7eE5BerBLgX2S/M5Q2+Qdvv4V+J02SidJfnQLNxz6CjAvyWPb/AuHljn6rHY6hoK0kRqMErkI+LkkNyW5HFgOvBx4J3AdcGWSLwPvYDN7BFX1HQaHiz7RTjSvH1rs6LPa6ThKqiSp456CJKljKEiSOoaCJKljKEiSOoaCJKljKEiSOoaCJKnz/wF2Am86s6fThQAAAABJRU5ErkJggg==\n",
      "text/plain": [
       "<Figure size 432x288 with 1 Axes>"
      ]
     },
     "metadata": {
      "needs_background": "light"
     },
     "output_type": "display_data"
    },
    {
     "data": {
      "image/png": "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\n",
      "text/plain": [
       "<Figure size 360x360 with 1 Axes>"
      ]
     },
     "metadata": {
      "needs_background": "light"
     },
     "output_type": "display_data"
    }
   ],
   "source": [
    "# Visualising counts of Gender with bar graph\n",
    "sns.countplot(x=\"Sex\", data=titanic_list);\n",
    "plt.xlabel('Gender')\n",
    "plt.ylabel('Frequency')\n",
    "plt.title('Count of Gender')\n",
    "\n",
    "# Showing proportion of survival for different type of gender\n",
    "sns.catplot(x=\"Sex\", y=\"Survived\", data=titanic_list, kind=\"bar\", ci=None)\n",
    "plt.xlabel('Gender')\n",
    "plt.ylabel('Survive Percentage')\n",
    "plt.title('Survive v/s Sex')"
   ]
  },
  {
   "cell_type": "code",
<<<<<<< HEAD
   "execution_count": 100,
=======
   "execution_count": 18,
>>>>>>> 646b4bbf7e1a8f09bf5a7965002c653771698e99
   "metadata": {},
   "outputs": [],
   "source": [
    "# Procedemos a la binarización de la variable Sex en 0 y 1\n",
    "titanic_list_bak = titanic_list # guardamos copia"
   ]
  },
  {
   "cell_type": "code",
<<<<<<< HEAD
   "execution_count": 101,
=======
   "execution_count": 19,
>>>>>>> 646b4bbf7e1a8f09bf5a7965002c653771698e99
   "metadata": {},
   "outputs": [
    {
     "data": {
      "text/plain": [
       "0       0\n",
       "1       1\n",
       "2       1\n",
       "3       1\n",
       "4       0\n",
       "       ..\n",
       "1304    0\n",
       "1305    1\n",
       "1306    0\n",
       "1307    0\n",
       "1308    0\n",
       "Name: Sex, Length: 1309, dtype: int64"
      ]
     },
     "execution_count": 101,
     "metadata": {},
     "output_type": "execute_result"
    }
   ],
   "source": [
    "titanic_list['Sex'] = titanic_list['Sex'].map({\n",
    "    'female' : 1,\n",
    "    'male': 0\n",
    "})\n",
    "titanic_list['Sex']"
   ]
  },
  {
   "cell_type": "code",
   "execution_count": 102,
   "metadata": {},
   "outputs": [
    {
     "data": {
      "text/plain": [
       "0    0\n",
       "1    1\n",
       "2    1\n",
       "3    1\n",
       "4    0\n",
       "Name: Sex, dtype: int64"
      ]
     },
     "execution_count": 102,
     "metadata": {},
     "output_type": "execute_result"
    }
   ],
   "source": [
    "# Check Sex features\n",
    "titanic_list['Sex'].head()"
   ]
  },
  {
   "cell_type": "markdown",
   "metadata": {},
   "source": [
    "## `SibSp`"
   ]
  },
  {
   "cell_type": "code",
   "execution_count": 103,
   "metadata": {},
   "outputs": [
    {
     "data": {
      "text/html": [
       "<div>\n",
       "<style scoped>\n",
       "    .dataframe tbody tr th:only-of-type {\n",
       "        vertical-align: middle;\n",
       "    }\n",
       "\n",
       "    .dataframe tbody tr th {\n",
       "        vertical-align: top;\n",
       "    }\n",
       "\n",
       "    .dataframe thead th {\n",
       "        text-align: right;\n",
       "    }\n",
       "</style>\n",
       "<table border=\"1\" class=\"dataframe\">\n",
       "  <thead>\n",
       "    <tr style=\"text-align: right;\">\n",
       "      <th></th>\n",
       "      <th>SibSp</th>\n",
       "      <th>Survived</th>\n",
       "    </tr>\n",
       "  </thead>\n",
       "  <tbody>\n",
       "    <tr>\n",
       "      <th>0</th>\n",
       "      <td>0</td>\n",
       "      <td>0.345395</td>\n",
       "    </tr>\n",
       "    <tr>\n",
       "      <th>1</th>\n",
       "      <td>1</td>\n",
       "      <td>0.535885</td>\n",
       "    </tr>\n",
       "    <tr>\n",
       "      <th>2</th>\n",
       "      <td>2</td>\n",
       "      <td>0.464286</td>\n",
       "    </tr>\n",
       "    <tr>\n",
       "      <th>3</th>\n",
       "      <td>3</td>\n",
       "      <td>0.250000</td>\n",
       "    </tr>\n",
       "    <tr>\n",
       "      <th>4</th>\n",
       "      <td>4</td>\n",
       "      <td>0.166667</td>\n",
       "    </tr>\n",
       "    <tr>\n",
       "      <th>5</th>\n",
       "      <td>5</td>\n",
       "      <td>0.000000</td>\n",
       "    </tr>\n",
       "    <tr>\n",
       "      <th>6</th>\n",
       "      <td>8</td>\n",
       "      <td>0.000000</td>\n",
       "    </tr>\n",
       "  </tbody>\n",
       "</table>\n",
       "</div>"
      ],
      "text/plain": [
       "   SibSp  Survived\n",
       "0      0  0.345395\n",
       "1      1  0.535885\n",
       "2      2  0.464286\n",
       "3      3  0.250000\n",
       "4      4  0.166667\n",
       "5      5  0.000000\n",
       "6      8  0.000000"
      ]
     },
     "execution_count": 103,
     "metadata": {},
     "output_type": "execute_result"
    }
   ],
   "source": [
    "titanic_list[['SibSp','Survived']].groupby(['SibSp'], as_index=False).mean()"
   ]
  },
  {
   "cell_type": "code",
   "execution_count": 104,
   "metadata": {},
   "outputs": [
    {
     "data": {
      "image/png": "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\n",
      "text/plain": [
       "<Figure size 720x360 with 1 Axes>"
      ]
     },
     "metadata": {
      "needs_background": "light"
     },
     "output_type": "display_data"
    }
   ],
   "source": [
    "plt.figure(figsize= [10.0, 5.0])\n",
    "sns.barplot(x=\"SibSp\", y=\"Survived\", data=titanic_list)\n",
    "plt.show()"
   ]
  },
  {
   "cell_type": "markdown",
   "metadata": {},
   "source": [
    "## `Parch`"
   ]
  },
  {
   "cell_type": "code",
   "execution_count": 105,
   "metadata": {},
   "outputs": [
    {
     "data": {
      "text/html": [
       "<div>\n",
       "<style scoped>\n",
       "    .dataframe tbody tr th:only-of-type {\n",
       "        vertical-align: middle;\n",
       "    }\n",
       "\n",
       "    .dataframe tbody tr th {\n",
       "        vertical-align: top;\n",
       "    }\n",
       "\n",
       "    .dataframe thead th {\n",
       "        text-align: right;\n",
       "    }\n",
       "</style>\n",
       "<table border=\"1\" class=\"dataframe\">\n",
       "  <thead>\n",
       "    <tr style=\"text-align: right;\">\n",
       "      <th></th>\n",
       "      <th>Parch</th>\n",
       "      <th>Survived</th>\n",
       "    </tr>\n",
       "  </thead>\n",
       "  <tbody>\n",
       "    <tr>\n",
       "      <th>0</th>\n",
       "      <td>0</td>\n",
       "      <td>0.343658</td>\n",
       "    </tr>\n",
       "    <tr>\n",
       "      <th>1</th>\n",
       "      <td>1</td>\n",
       "      <td>0.550847</td>\n",
       "    </tr>\n",
       "    <tr>\n",
       "      <th>2</th>\n",
       "      <td>2</td>\n",
       "      <td>0.500000</td>\n",
       "    </tr>\n",
       "    <tr>\n",
       "      <th>3</th>\n",
       "      <td>3</td>\n",
       "      <td>0.600000</td>\n",
       "    </tr>\n",
       "    <tr>\n",
       "      <th>4</th>\n",
       "      <td>4</td>\n",
       "      <td>0.000000</td>\n",
       "    </tr>\n",
       "    <tr>\n",
       "      <th>5</th>\n",
       "      <td>5</td>\n",
       "      <td>0.200000</td>\n",
       "    </tr>\n",
       "    <tr>\n",
       "      <th>6</th>\n",
       "      <td>6</td>\n",
       "      <td>0.000000</td>\n",
       "    </tr>\n",
       "    <tr>\n",
       "      <th>7</th>\n",
       "      <td>9</td>\n",
       "      <td>NaN</td>\n",
       "    </tr>\n",
       "  </tbody>\n",
       "</table>\n",
       "</div>"
      ],
      "text/plain": [
       "   Parch  Survived\n",
       "0      0  0.343658\n",
       "1      1  0.550847\n",
       "2      2  0.500000\n",
       "3      3  0.600000\n",
       "4      4  0.000000\n",
       "5      5  0.200000\n",
       "6      6  0.000000\n",
       "7      9       NaN"
      ]
     },
     "execution_count": 105,
     "metadata": {},
     "output_type": "execute_result"
    }
   ],
   "source": [
    "titanic_list[['Parch','Survived']].groupby(['Parch'], as_index=False).mean()"
   ]
  },
  {
   "cell_type": "raw",
   "metadata": {},
   "source": []
  },
  {
   "cell_type": "code",
   "execution_count": 106,
   "metadata": {},
   "outputs": [
    {
     "data": {
      "image/png": "iVBORw0KGgoAAAANSUhEUgAAAmEAAAE9CAYAAABDUbVaAAAAOXRFWHRTb2Z0d2FyZQBNYXRwbG90bGliIHZlcnNpb24zLjMuMiwgaHR0cHM6Ly9tYXRwbG90bGliLm9yZy8vihELAAAACXBIWXMAAAsTAAALEwEAmpwYAAAV1klEQVR4nO3df7BmdX0f8PeHRYoSxOpuhGHZLFNJIjVWzZbYkvo7KdgUOtGmEq0244Sxo8aMSXZM4yDRcTqS1DZatBK1UaMiau1sGyo2StHQirCK8is4W0DZjTuACKKS4MKnf9wHe13u7l6Qc7/P3vt6zdy5zznnu8953zN37rz3fM9zTnV3AABYWYeMDgAAsBYpYQAAAyhhAAADKGEAAAMoYQAAAyhhAAADHDo6wIO1fv363rx58+gYAAAHtH379tu6e8NS2w66ErZ58+ZcccUVo2MAABxQVX1tX9tMRwIADKCEAQAMoIQBAAyghAEADKCEAQAMoIQBAAyghAEADDBZCauq91bVLVV19T62V1W9rap2VNVXquppU2UBAJg3U54J+5Mkp+xn+6lJTph9nZnknRNmAQCYK5OVsO7+bJLb9zPk9CTv7wWfT/KYqjpmqjwAAPNk5GOLjk1y86LlnbN13xgTB1hJW7duze7du3P00UfnnHPOGR0HYMUdFM+OrKozszBlmU2bNg1OAzwcdu/enV27do2OATDMyE9H7kpy3KLljbN1D9Dd53X3lu7esmHDkg8iBwA4qIwsYduSvHT2KcmnJ7mzu01FAgBrwmTTkVX14STPSrK+qnYmeUOSRyRJd/+nJBcmeX6SHUm+l+TXpsoCADBvJith3X3GAbZ3kldOtX8AgHnmjvkAAAMoYQAAAyhhAAADKGEAAAMoYQAAAyhhAAADKGEAAAMoYQAAAyhhAAADKGEAAAMoYQAAAyhhAAADKGEAAAMoYQAAAyhhAAADKGEAAAMoYQAAAyhhAAADKGEAAAMoYQAAAyhhAAADKGEAAAMoYQAAAyhhAAADKGEAAAMoYQAAAyhhAAADKGEAAAMoYQAAAyhhAAADKGEAAAMoYQAAAyhhAAADKGEAAAMoYQAAAyhhAAADKGEAAAMoYQAAAyhhAAADKGEAAAMoYQAAAyhhAAADKGEAAANMWsKq6pSqur6qdlTV65bYvqmqLq6qL1XVV6rq+VPmAQCYF5OVsKpal+TcJKcmOTHJGVV14l7DXp/kgu5+apIXJXnHVHkAAObJlGfCTkqyo7tv6O57kpyf5PS9xnSSR89eH5XkrybMAwAwNw6d8L2PTXLzouWdSX5urzFnJ/lUVb06yRFJnjdhHgCAuTH6wvwzkvxJd29M8vwkH6iqB2SqqjOr6oqquuLWW29d8ZAAAA+3KUvYriTHLVreOFu32MuTXJAk3f1/khyeZP3eb9Td53X3lu7esmHDhoniAgCsnClL2OVJTqiq46vqsCxceL9trzFfT/LcJKmqJ2ahhDnVBQCsepOVsO7ek+RVSS5Kcl0WPgV5TVW9sapOmw37rSS/XlVfTvLhJP+qu3uqTAAA82LKC/PT3RcmuXCvdWcten1tkpOnzAAAMI9GX5gPALAmKWEAAAMoYQAAAyhhAAADKGEAAAMoYQAAAyhhAAADKGEAAAMoYQAAAyhhAAADKGEAAAMoYQAAAyhhAAADKGEAAAMoYQAAAyhhAAADKGEAAAMoYQAAAyhhAAADKGEAAAMoYQAAAyhhAAADKGEAAAMoYQAAAyhhAAADKGEAAAMoYQAAAyhhAAADKGEAAAMoYQAAAyhhAAADKGEAAAMoYQAAAyhhAAADKGEAAAMoYQAAAxw6OgCry9atW7N79+4cffTROeecc0bHAYC5pYTxsNq9e3d27do1OgYAzD3TkQAAAyhhAAADKGEAAAMoYQAAA7gwHybmE6MALGXSM2FVdUpVXV9VO6rqdfsY8ytVdW1VXVNVH5oyD4xw/ydGd+/ePToKAHNksjNhVbUuyblJfiHJziSXV9W27r520ZgTkvxukpO7+1tV9eNT5QEAmCdTTkeelGRHd9+QJFV1fpLTk1y7aMyvJzm3u7+VJN19y4R5ADhImdZnNZqyhB2b5OZFyzuT/NxeY34ySarq0iTrkpzd3Z/c+42q6swkZybJpk2bJgkLJJc845krtq+7D12XVOXunTtXbL/P/OwlK7IfHn5uBM1qtN8SVlV3Jel9be/uRz8M+z8hybOSbEzy2ar6me6+Y6/9nJfkvCTZsmXLPvMAABws9lvCuvvIJKmqNyX5RpIPJKkkL05yzAHee1eS4xYtb5ytW2xnksu6+/tJbqyqr2ahlF2+3B8AAOBgtNxPR57W3e/o7ru6+9vd/c4sXN+1P5cnOaGqjq+qw5K8KMm2vcb81yycBUtVrc/C9OQNyw0PAHCwWm4J+25Vvbiq1lXVIVX14iTf3d8/6O49SV6V5KIk1yW5oLuvqao3VtVps2EXJflmVV2b5OIkv9Pd33xoPwoAwMFjuRfm/2qSP5p9dZJLZ+v2q7svTHLhXuvOWvS6k7x29gUAsGYsq4R190058PQjAADLtKzpyKr6yar6dFVdPVt+clW9ftpoAACr13KvCfvjLNzZ/vtJ0t1fycKF9gAAPATLLWGP6u4v7LVuz8MdBgBgrVhuCbutqv5OZjduraoXZuG+YQAAPATL/XTkK7Nwx/qfrqpdSW7Mwg1bAQB4CJZbwr7W3c+rqiOSHNLdd00ZCgBgtVtuCbuxqj6Z5CNJPjNhHibw9Tf+zIrta8/tj01yaPbc/rUV2++ms65akf0AwMNpudeE/XSSP8/CtOSNVfUfq+rnp4sFALC6LauEdff3uvuC7v7lJE9N8ugkl0yaDABgFVvumbBU1TOr6h1Jtic5PMmvTJYKAGCVW9Y1YVV1U5IvJbkgCw/Z3u/DuwEA2L/lXpj/5O7+9qRJAADWkP2WsKra2t3nJHlzVfXe27v7NyZLBgCwih3oTNh1s+9XTB0EAGAt2W8J6+7/Nnt5VXd/cQXyAACsCcv9dOS/q6rrqupNVfWkSRMBAKwBy71P2LOTPDvJrUneVVVXVdXrJ00GALCKLfs+Yd29u7vfluQVSa5MctZUoQAAVrtllbCqemJVnV1VVyV5e5L/nWTjpMkAAFax5d4n7L1Jzk/yj7v7rybMAyvm5LefvCL7OeyOw3JIDsnNd9y8Yvu89NWXrsh+AHjoDljCqmpdkhu7+49WIA8AwJpwwOnI7r43yXFVddgK5AEAWBOWOx15Y5JLq2pbkh88N7K73zpJKgCAVW65Jez/zr4OSXLkdHEAANaGZZWw7v79qYMAAKwlyyphVXVxkqUe4P2chz0RAMAasNzpyN9e9PrwJC9IsufhjwMAsDYsdzpy+16rLq2qL0yQBwBgTVjudORjFy0ekmRLkqMmSQQAsAYsdzpye/7/NWF7ktyU5OVTBAIAWAv2W8Kq6u8nubm7j58tvywL14PdlOTaydMBAKxSB7pj/ruS3JMkVfWMJP82yfuS3JnkvGmjcTBaf/h9efwj92T94feNjgIAc+1A05Hruvv22et/keS87v54ko9X1ZWTJuOg9NtPvmN0BAA4KBzoTNi6qrq/qD03yWcWbVvu9WQAAOzlQEXqw0kuqarbktyd5HNJUlVPyMKUJAAAD8F+S1h3v7mqPp3kmCSf6u77PyF5SJJXTx0OAGC1OuCUYnd/fol1X50mDgDA2nCga8IAAJiAEgYAMIASBgAwgBIGADDApCWsqk6pquurakdVvW4/415QVV1VW6bMAwAwLyYrYVW1Lsm5SU5NcmKSM6rqxCXGHZnkNUkumyoLAMC8mfJM2ElJdnT3Dd19T5Lzk5y+xLg3JXlLkr+eMAsAwFyZsoQdm+TmRcs7Z+t+oKqeluS47v6zCXMAAMydYRfmV9UhSd6a5LeWMfbMqrqiqq649dZbpw8HADCxKUvYriTHLVreOFt3vyOTPCnJ/6qqm5I8Pcm2pS7O7+7zuntLd2/ZsGHDhJEBAFbGlCXs8iQnVNXxVXVYkhcl2Xb/xu6+s7vXd/fm7t6c5PNJTuvuKybMBAAwFyYrYd29J8mrklyU5LokF3T3NVX1xqo6bar9AgAcDA74AO8fRXdfmOTCvdadtY+xz5oyC4zSj+rcl/vSj+rRUQCYI5OWsNVs69at2b17d44++uicc845o+Mwx75/8vdHRwBgDilhD9Hu3buza9euAw8EAFiCZ0cCAAyghAEADKCEAQAMoIQBAAyghAEADKCEAQAMoIQBAAyghAEADLCqbtb6s7/z/hXb15G33ZV1Sb5+210rtt/tf/DSFdkPADA9Z8IAAAZQwgAABlDCAAAGUMIAAAZQwgAABlDCAAAGUMIAAAZQwgAABlDCAAAGWFV3zF9J9x12xA99BwB4MJSwh+i7J/zi6AgAwEHMdCQAwABKGADAAEoYAMAAShgAwABKGADAAEoYAMAAShgAwABKGADAAEoYAMAAShgAwABKGADAAEoYAMAAShgAwABKGADAAEoYAMAAShgAwABKGADAAEoYAMAAShgAwABKGADAAEoYAMAAk5awqjqlqq6vqh1V9boltr+2qq6tqq9U1aer6iemzAMAMC8mK2FVtS7JuUlOTXJikjOq6sS9hn0pyZbufnKSjyU5Z6o8AADzZMozYScl2dHdN3T3PUnOT3L64gHdfXF3f2+2+PkkGyfMAwAwN6YsYccmuXnR8s7Zun15eZL/MWEeAIC5cejoAElSVS9JsiXJM/ex/cwkZybJpk2bVjAZAPvy5pe8cMX2dfstdy583/2NFdvv7/3px1ZkP6xdU54J25XkuEXLG2frfkhVPS/J7yU5rbv/Zqk36u7zuntLd2/ZsGHDJGGBlfWY7jy2O4/pHh0FYIgpz4RdnuSEqjo+C+XrRUl+dfGAqnpqknclOaW7b5kwCzBnXnLvfaMjAAw12Zmw7t6T5FVJLkpyXZILuvuaqnpjVZ02G/YHSX4syUer6sqq2jZVHgCAeTLpNWHdfWGSC/dad9ai18+bcv8AAPPKHfMBAAZQwgAABlDCAAAGUMIAAAZQwgAABlDCAAAGUMIAAAZQwgAABlDCAAAGUMIAAAZQwgAABlDCAAAGUMIAAAZQwgAABlDCAAAGUMIAAAZQwgAABlDCAAAGUMIAAAZQwgAABlDCAAAGUMIAAAZQwgAABlDCAAAGUMIAAAZQwgAABlDCAAAGUMIAAAZQwgAABlDCAAAGUMIAAAZQwgAABlDCAAAGUMIAAAZQwgAABlDCAAAGUMIAAAZQwgAABlDCAAAGUMIAAAZQwgAABlDCAAAGUMIAAAaYtIRV1SlVdX1V7aiq1y2x/W9V1Udm2y+rqs1T5gEAmBeTlbCqWpfk3CSnJjkxyRlVdeJew16e5Fvd/YQk/z7JW6bKAwAwT6Y8E3ZSkh3dfUN335Pk/CSn7zXm9CTvm73+WJLnVlVNmAkAYC5MWcKOTXLzouWds3VLjunuPUnuTPK4CTMBAMyFQ0cHWI6qOjPJmbPF71TV9SPzLLI+yW0rtbP6w5et1K5+VCt6XPKGg+Lk6cr+rvzGQXFMkpX+XTl4TrSv7HE5eKxPctufrdDOXv/Bg+L3xe/K0ubpuPzEvjZMWcJ2JTlu0fLG2bqlxuysqkOTHJXkm3u/UXefl+S8iXI+ZFV1RXdvGZ1j3jguD+SYLM1xWZrjsjTH5YEck6UdLMdlyunIy5OcUFXHV9VhSV6UZNteY7Yluf/0zguTfKa7e8JMAABzYbIzYd29p6peleSiJOuSvLe7r6mqNya5oru3JXlPkg9U1Y4kt2ehqAEArHqTXhPW3RcmuXCvdWctev3XSf75lBkmNndTpHPCcXkgx2RpjsvSHJelOS4P5Jgs7aA4LmX2DwBg5XlsEQDAAErYQ3CgxzGtVVX13qq6paquHp1lXlTVcVV1cVVdW1XXVNVrRmeaB1V1eFV9oaq+PDsuvz8607yoqnVV9aWq+u+js8yLqrqpqq6qqiur6orReeZFVT2mqj5WVX9ZVddV1T8YnWkeVNVrqurq2d+W3xydZ39MRz5Is8cxfTXJL2ThBrSXJzmju68dGmwOVNUzknwnyfu7+0mj88yDqjomyTHd/cWqOjLJ9iT/bK3/vsyejHFEd3+nqh6R5C+SvKa7Pz842nBV9dokW5I8urt/aXSeeVBVNyXZ0t3zct+nuVBV70vyue5+9+wuBI/q7jsGxxqqqp6UhSf0nJTkniSfTPKK7t4xNNg+OBP24C3ncUxrUnd/NgufcmWmu7/R3V+cvb4ryXV54JMj1pxe8J3Z4iNmX2v+f4RVtTHJP0ny7tFZmG9VdVSSZ2ThLgPp7nvWegGbeWKSy7r7e7Mn8VyS5JcHZ9onJezBW87jmOABqmpzkqcmuWxwlLkwm3a7MsktSf5ndzsuyX9IsjXJfYNzzJtO8qmq2j57ggrJ8UluTfKfZ9PX766qI0aHmgNXJ/lHVfW4qnpUkufnh28cP1eUMFgBVfVjST6e5De7+9uj88yD7r63u5+ShadpnDSbRlizquqXktzS3dtHZ5lDP9/dT0tyapJXzi59WOsOTfK0JO/s7qcm+W6SNX+Ncndfl+QtST6VhanIK5PcOzLT/ihhD95yHscEPzC75unjST7Y3f9ldJ55M5tCuTjJKYOjjHZyktNm1z+dn+Q5VfWnYyPNh+7eNft+S5JPZOGykLVuZ5Kdi84gfywLpWzN6+73dPfPdvczknwrC9dxzyUl7MFbzuOYIMkPLkB/T5Lruvuto/PMi6raUFWPmb1+ZBY+6PKXQ0MN1t2/290bu3tzFv6ufKa7XzI41nBVdcTsQy2ZTbf9YhamnNa07t6d5Oaq+qnZqucmWdMf+LlfVf347PumLFwP9qGxifZt0jvmr0b7ehzT4Fhzoao+nORZSdZX1c4kb+ju94xNNdzJSf5lkqtm1z8lyb+ZPU1iLTsmyftmnzY+JMkF3e2WDCzl8Uk+sfD/mRya5EPd/cmxkebGq5N8cHZC4IYkvzY4z7z4eFU9Lsn3k7xynj+w4BYVAAADmI4EABhACQMAGEAJAwAYQAkDABhACQMAGEAJA1adqrq3qq6sqqur6qOzx5f8KO+3uarW/L2pgIeXEgasRnd391O6+0lJ7knyiuX8o6py70RgxShhwGr3uSRPqKp/WlWXzR52/OdV9fgkqaqzq+oDVXVpkg9U1eOr6hNV9eXZ1z+cvc+6qvrjqrqmqj41u9M/wEOmhAGr1uzM1qlJrkryF0mePnvY8flJti4aemKS53X3GUneluSS7v57WXgW3/1PxDghybnd/XeT3JHkBSvyQwCrllPvwGr0yEWPifpcFp7f+VNJPlJVxyQ5LMmNi8Zv6+67Z6+fk+SlSdLd9ya5s6r+dpIbu/v+99yeZPOUPwCw+ilhwGp0d3c/ZfGKqnp7krd297aqelaSsxdt/u4y3vNvFr2+N4npSOBHYjoSWCuOSrJr9vpl+xn36ST/Okmqal1VHTV1MGBtUsKAteLsJB+tqu1JbtvPuNckeXZVXZWFaccTVyAbsAZVd4/OAACw5jgTBgAwgBIGADCAEgYAMIASBgAwgBIGADCAEgYAMIASBgAwgBIGADDA/wPxiifVVKth/wAAAABJRU5ErkJggg==\n",
      "text/plain": [
       "<Figure size 720x360 with 1 Axes>"
      ]
     },
     "metadata": {
      "needs_background": "light"
     },
     "output_type": "display_data"
    }
   ],
   "source": [
    "plt.figure(figsize= [10.0, 5.0])\n",
    "sns.barplot(x=\"Parch\", y=\"Survived\", data=titanic_list)\n",
    "plt.show()"
   ]
  },
  {
   "cell_type": "markdown",
   "metadata": {},
   "source": [
    "## `Ticket`\n",
    "\n",
    "Ticket number no aporta información"
   ]
  },
  {
   "cell_type": "code",
   "execution_count": 107,
   "metadata": {},
   "outputs": [
    {
     "data": {
      "text/plain": [
       "0           A/5 21171\n",
       "1            PC 17599\n",
       "2    STON/O2. 3101282\n",
       "3              113803\n",
       "4              373450\n",
       "5              330877\n",
       "6               17463\n",
       "7              349909\n",
       "8              347742\n",
       "9              237736\n",
       "Name: Ticket, dtype: object"
      ]
     },
     "execution_count": 107,
     "metadata": {},
     "output_type": "execute_result"
    }
   ],
   "source": [
    "titanic_list['Ticket'].head(10)"
   ]
  },
  {
   "cell_type": "code",
   "execution_count": 108,
   "metadata": {},
   "outputs": [],
   "source": [
    "# Eliminamos la columna Ticket\n",
    "titanic_list.drop(['Ticket'],\n",
    "                 axis = 1,\n",
    "                 inplace = True)"
   ]
  },
  {
   "cell_type": "code",
   "execution_count": 109,
   "metadata": {},
   "outputs": [
    {
     "data": {
      "text/html": [
       "<div>\n",
       "<style scoped>\n",
       "    .dataframe tbody tr th:only-of-type {\n",
       "        vertical-align: middle;\n",
       "    }\n",
       "\n",
       "    .dataframe tbody tr th {\n",
       "        vertical-align: top;\n",
       "    }\n",
       "\n",
       "    .dataframe thead th {\n",
       "        text-align: right;\n",
       "    }\n",
       "</style>\n",
       "<table border=\"1\" class=\"dataframe\">\n",
       "  <thead>\n",
       "    <tr style=\"text-align: right;\">\n",
       "      <th></th>\n",
       "      <th>Survived</th>\n",
       "      <th>Pclass</th>\n",
       "      <th>Name</th>\n",
       "      <th>Sex</th>\n",
       "      <th>Age</th>\n",
       "      <th>SibSp</th>\n",
       "      <th>Parch</th>\n",
       "      <th>Fare</th>\n",
       "      <th>Cabin</th>\n",
       "      <th>Embarked</th>\n",
       "    </tr>\n",
       "  </thead>\n",
       "  <tbody>\n",
       "    <tr>\n",
       "      <th>0</th>\n",
       "      <td>0.0</td>\n",
       "      <td>3</td>\n",
       "      <td>Braund, Mr. Owen Harris</td>\n",
       "      <td>0</td>\n",
       "      <td>22.0</td>\n",
       "      <td>1</td>\n",
       "      <td>0</td>\n",
       "      <td>7.2500</td>\n",
       "      <td>NaN</td>\n",
       "      <td>S</td>\n",
       "    </tr>\n",
       "    <tr>\n",
       "      <th>1</th>\n",
       "      <td>1.0</td>\n",
       "      <td>1</td>\n",
       "      <td>Cumings, Mrs. John Bradley (Florence Briggs Th...</td>\n",
       "      <td>1</td>\n",
       "      <td>38.0</td>\n",
       "      <td>1</td>\n",
       "      <td>0</td>\n",
       "      <td>71.2833</td>\n",
       "      <td>C85</td>\n",
       "      <td>C</td>\n",
       "    </tr>\n",
       "    <tr>\n",
       "      <th>2</th>\n",
       "      <td>1.0</td>\n",
       "      <td>3</td>\n",
       "      <td>Heikkinen, Miss. Laina</td>\n",
       "      <td>1</td>\n",
       "      <td>26.0</td>\n",
       "      <td>0</td>\n",
       "      <td>0</td>\n",
       "      <td>7.9250</td>\n",
       "      <td>NaN</td>\n",
       "      <td>S</td>\n",
       "    </tr>\n",
       "    <tr>\n",
       "      <th>3</th>\n",
       "      <td>1.0</td>\n",
       "      <td>1</td>\n",
       "      <td>Futrelle, Mrs. Jacques Heath (Lily May Peel)</td>\n",
       "      <td>1</td>\n",
       "      <td>35.0</td>\n",
       "      <td>1</td>\n",
       "      <td>0</td>\n",
       "      <td>53.1000</td>\n",
       "      <td>C123</td>\n",
       "      <td>S</td>\n",
       "    </tr>\n",
       "    <tr>\n",
       "      <th>4</th>\n",
       "      <td>0.0</td>\n",
       "      <td>3</td>\n",
       "      <td>Allen, Mr. William Henry</td>\n",
       "      <td>0</td>\n",
       "      <td>35.0</td>\n",
       "      <td>0</td>\n",
       "      <td>0</td>\n",
       "      <td>8.0500</td>\n",
       "      <td>NaN</td>\n",
       "      <td>S</td>\n",
       "    </tr>\n",
       "    <tr>\n",
       "      <th>5</th>\n",
       "      <td>0.0</td>\n",
       "      <td>3</td>\n",
       "      <td>Moran, Mr. James</td>\n",
       "      <td>0</td>\n",
       "      <td>NaN</td>\n",
       "      <td>0</td>\n",
       "      <td>0</td>\n",
       "      <td>8.4583</td>\n",
       "      <td>NaN</td>\n",
       "      <td>Q</td>\n",
       "    </tr>\n",
       "    <tr>\n",
       "      <th>6</th>\n",
       "      <td>0.0</td>\n",
       "      <td>1</td>\n",
       "      <td>McCarthy, Mr. Timothy J</td>\n",
       "      <td>0</td>\n",
       "      <td>54.0</td>\n",
       "      <td>0</td>\n",
       "      <td>0</td>\n",
       "      <td>51.8625</td>\n",
       "      <td>E46</td>\n",
       "      <td>S</td>\n",
       "    </tr>\n",
       "    <tr>\n",
       "      <th>7</th>\n",
       "      <td>0.0</td>\n",
       "      <td>3</td>\n",
       "      <td>Palsson, Master. Gosta Leonard</td>\n",
       "      <td>0</td>\n",
       "      <td>2.0</td>\n",
       "      <td>3</td>\n",
       "      <td>1</td>\n",
       "      <td>21.0750</td>\n",
       "      <td>NaN</td>\n",
       "      <td>S</td>\n",
       "    </tr>\n",
       "    <tr>\n",
       "      <th>8</th>\n",
       "      <td>1.0</td>\n",
       "      <td>3</td>\n",
       "      <td>Johnson, Mrs. Oscar W (Elisabeth Vilhelmina Berg)</td>\n",
       "      <td>1</td>\n",
       "      <td>27.0</td>\n",
       "      <td>0</td>\n",
       "      <td>2</td>\n",
       "      <td>11.1333</td>\n",
       "      <td>NaN</td>\n",
       "      <td>S</td>\n",
       "    </tr>\n",
       "    <tr>\n",
       "      <th>9</th>\n",
       "      <td>1.0</td>\n",
       "      <td>2</td>\n",
       "      <td>Nasser, Mrs. Nicholas (Adele Achem)</td>\n",
       "      <td>1</td>\n",
       "      <td>14.0</td>\n",
       "      <td>1</td>\n",
       "      <td>0</td>\n",
       "      <td>30.0708</td>\n",
       "      <td>NaN</td>\n",
       "      <td>C</td>\n",
       "    </tr>\n",
       "  </tbody>\n",
       "</table>\n",
       "</div>"
      ],
      "text/plain": [
       "   Survived  Pclass                                               Name  Sex  \\\n",
       "0       0.0       3                            Braund, Mr. Owen Harris    0   \n",
       "1       1.0       1  Cumings, Mrs. John Bradley (Florence Briggs Th...    1   \n",
       "2       1.0       3                             Heikkinen, Miss. Laina    1   \n",
       "3       1.0       1       Futrelle, Mrs. Jacques Heath (Lily May Peel)    1   \n",
       "4       0.0       3                           Allen, Mr. William Henry    0   \n",
       "5       0.0       3                                   Moran, Mr. James    0   \n",
       "6       0.0       1                            McCarthy, Mr. Timothy J    0   \n",
       "7       0.0       3                     Palsson, Master. Gosta Leonard    0   \n",
       "8       1.0       3  Johnson, Mrs. Oscar W (Elisabeth Vilhelmina Berg)    1   \n",
       "9       1.0       2                Nasser, Mrs. Nicholas (Adele Achem)    1   \n",
       "\n",
       "    Age  SibSp  Parch     Fare Cabin Embarked  \n",
       "0  22.0      1      0   7.2500   NaN        S  \n",
       "1  38.0      1      0  71.2833   C85        C  \n",
       "2  26.0      0      0   7.9250   NaN        S  \n",
       "3  35.0      1      0  53.1000  C123        S  \n",
       "4  35.0      0      0   8.0500   NaN        S  \n",
       "5   NaN      0      0   8.4583   NaN        Q  \n",
       "6  54.0      0      0  51.8625   E46        S  \n",
       "7   2.0      3      1  21.0750   NaN        S  \n",
       "8  27.0      0      2  11.1333   NaN        S  \n",
       "9  14.0      1      0  30.0708   NaN        C  "
      ]
     },
<<<<<<< HEAD
     "execution_count": 109,
=======
     "execution_count": 19,
>>>>>>> 646b4bbf7e1a8f09bf5a7965002c653771698e99
     "metadata": {},
     "output_type": "execute_result"
    }
   ],
   "source": [
    "titanic_list.head(10)"
   ]
  },
  {
   "cell_type": "markdown",
   "metadata": {},
   "source": [
    "***\n",
    "\n",
    "## `Embarked`\n",
    "Tenemos 3 valores: `C` for Cherbourg, `Q` for Queenstown, `S` for Southampton."
   ]
  },
  {
   "cell_type": "code",
<<<<<<< HEAD
   "execution_count": 110,
=======
   "execution_count": 20,
>>>>>>> 646b4bbf7e1a8f09bf5a7965002c653771698e99
   "metadata": {},
   "outputs": [
    {
     "data": {
      "text/html": [
       "<div>\n",
       "<style scoped>\n",
       "    .dataframe tbody tr th:only-of-type {\n",
       "        vertical-align: middle;\n",
       "    }\n",
       "\n",
       "    .dataframe tbody tr th {\n",
       "        vertical-align: top;\n",
       "    }\n",
       "\n",
       "    .dataframe thead th {\n",
       "        text-align: right;\n",
       "    }\n",
       "</style>\n",
       "<table border=\"1\" class=\"dataframe\">\n",
       "  <thead>\n",
       "    <tr style=\"text-align: right;\">\n",
       "      <th></th>\n",
       "      <th>Embarked</th>\n",
       "      <th>Survived</th>\n",
       "    </tr>\n",
       "  </thead>\n",
       "  <tbody>\n",
       "    <tr>\n",
       "      <th>0</th>\n",
       "      <td>C</td>\n",
       "      <td>0.553571</td>\n",
       "    </tr>\n",
       "    <tr>\n",
       "      <th>1</th>\n",
       "      <td>Q</td>\n",
       "      <td>0.389610</td>\n",
       "    </tr>\n",
       "    <tr>\n",
       "      <th>2</th>\n",
       "      <td>S</td>\n",
       "      <td>0.336957</td>\n",
       "    </tr>\n",
       "  </tbody>\n",
       "</table>\n",
       "</div>"
      ],
      "text/plain": [
       "  Embarked  Survived\n",
       "0        C  0.553571\n",
       "1        Q  0.389610\n",
       "2        S  0.336957"
      ]
     },
     "execution_count": 110,
     "metadata": {},
     "output_type": "execute_result"
    }
   ],
   "source": [
    "titanic_list[['Embarked','Survived']].groupby(['Embarked'], as_index=False).mean()"
   ]
  },
  {
   "cell_type": "code",
   "execution_count": 111,
   "metadata": {},
   "outputs": [
    {
     "data": {
      "text/plain": [
       "'S'"
      ]
     },
     "execution_count": 111,
     "metadata": {},
     "output_type": "execute_result"
    }
   ],
   "source": [
    "# Tenemos que tratar los valores nulos. Un método es con el most_frequent\n",
    "freq_port = titanic_list.Embarked.dropna().mode()[0]\n",
    "freq_port"
   ]
  },
  {
   "cell_type": "code",
   "execution_count": 112,
   "metadata": {},
   "outputs": [],
   "source": [
    "# Asignamos el valor frecuente\n",
    "titanic_list['Embarked'] = titanic_list['Embarked'].fillna(freq_port)"
   ]
  },
  {
   "cell_type": "code",
   "execution_count": 113,
   "metadata": {},
   "outputs": [
    {
     "data": {
      "text/plain": [
       "count     1309\n",
       "unique       3\n",
       "top          S\n",
       "freq       916\n",
       "Name: Embarked, dtype: object"
      ]
     },
     "execution_count": 113,
     "metadata": {},
     "output_type": "execute_result"
    }
   ],
   "source": [
    "# Raelizamos el check de su distribución\n",
    "titanic_list['Embarked'].describe()"
   ]
  },
  {
   "cell_type": "code",
   "execution_count": 114,
   "metadata": {},
   "outputs": [
    {
     "data": {
      "text/html": [
       "<div>\n",
       "<style scoped>\n",
       "    .dataframe tbody tr th:only-of-type {\n",
       "        vertical-align: middle;\n",
       "    }\n",
       "\n",
       "    .dataframe tbody tr th {\n",
       "        vertical-align: top;\n",
       "    }\n",
       "\n",
       "    .dataframe thead th {\n",
       "        text-align: right;\n",
       "    }\n",
       "</style>\n",
       "<table border=\"1\" class=\"dataframe\">\n",
       "  <thead>\n",
       "    <tr style=\"text-align: right;\">\n",
       "      <th></th>\n",
       "      <th>Embarked</th>\n",
       "      <th>Survived</th>\n",
       "    </tr>\n",
       "  </thead>\n",
       "  <tbody>\n",
       "    <tr>\n",
       "      <th>0</th>\n",
       "      <td>C</td>\n",
       "      <td>0.553571</td>\n",
       "    </tr>\n",
       "    <tr>\n",
       "      <th>1</th>\n",
       "      <td>Q</td>\n",
       "      <td>0.389610</td>\n",
       "    </tr>\n",
       "    <tr>\n",
       "      <th>2</th>\n",
       "      <td>S</td>\n",
       "      <td>0.339009</td>\n",
       "    </tr>\n",
       "  </tbody>\n",
       "</table>\n",
       "</div>"
      ],
      "text/plain": [
       "  Embarked  Survived\n",
       "0        C  0.553571\n",
       "1        Q  0.389610\n",
       "2        S  0.339009"
      ]
     },
<<<<<<< HEAD
     "execution_count": 114,
=======
     "execution_count": 20,
>>>>>>> 646b4bbf7e1a8f09bf5a7965002c653771698e99
     "metadata": {},
     "output_type": "execute_result"
    }
   ],
   "source": [
    "# Visualizamos la variable Embarked\n",
    "titanic_list[['Embarked','Survived']].groupby(['Embarked'], as_index=False).mean()"
   ]
  },
  {
   "cell_type": "code",
   "execution_count": 115,
   "metadata": {},
   "outputs": [
    {
     "data": {
      "image/png": "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\n",
      "text/plain": [
       "<Figure size 720x360 with 1 Axes>"
      ]
     },
     "metadata": {
      "needs_background": "light"
     },
     "output_type": "display_data"
    }
   ],
   "source": [
    "plt.figure(figsize= [10.0, 5.0])\n",
    "sns.barplot(x=\"Embarked\", y=\"Survived\", data=titanic_list)\n",
    "plt.show()"
   ]
  },
  {
   "cell_type": "markdown",
   "metadata": {},
   "source": [
    "***\n",
    "## `Fare Pendiente DE REALIZAR\n",
    "\n",
    "buscamos la distribución de la variable continua"
   ]
  },
  {
   "cell_type": "code",
<<<<<<< HEAD
   "execution_count": 116,
=======
   "execution_count": 21,
>>>>>>> 646b4bbf7e1a8f09bf5a7965002c653771698e99
   "metadata": {},
   "outputs": [
    {
     "data": {
      "text/plain": [
       "8.0500     60\n",
       "13.0000    59\n",
       "7.7500     55\n",
       "26.0000    50\n",
       "7.8958     49\n",
       "           ..\n",
       "33.5000     1\n",
       "7.8000      1\n",
       "26.3875     1\n",
       "15.5792     1\n",
       "7.1417      1\n",
       "Name: Fare, Length: 281, dtype: int64"
      ]
     },
<<<<<<< HEAD
     "execution_count": 116,
=======
     "execution_count": 21,
>>>>>>> 646b4bbf7e1a8f09bf5a7965002c653771698e99
     "metadata": {},
     "output_type": "execute_result"
    }
   ],
   "source": [
    "titanic_list['Fare'].value_counts()"
   ]
  },
  {
   "cell_type": "code",
<<<<<<< HEAD
   "execution_count": 117,
=======
   "execution_count": 22,
>>>>>>> 646b4bbf7e1a8f09bf5a7965002c653771698e99
   "metadata": {},
   "outputs": [
    {
     "data": {
      "text/plain": [
<<<<<<< HEAD
       "count    1308.000000\n",
       "mean       33.295479\n",
       "std        51.758668\n",
       "min         0.000000\n",
       "25%         7.895800\n",
       "50%        14.454200\n",
       "75%        31.275000\n",
       "max       512.329200\n",
       "Name: Fare, dtype: float64"
      ]
     },
     "execution_count": 117,
     "metadata": {},
     "output_type": "execute_result"
=======
       "<matplotlib.axes._subplots.AxesSubplot at 0x7fc89c225e80>"
      ]
     },
     "execution_count": 22,
     "metadata": {},
     "output_type": "execute_result"
    },
    {
     "data": {
      "image/png": "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\n",
      "text/plain": [
       "<Figure size 432x288 with 1 Axes>"
      ]
     },
     "metadata": {
      "needs_background": "light"
     },
     "output_type": "display_data"
>>>>>>> 646b4bbf7e1a8f09bf5a7965002c653771698e99
    }
   ],
   "source": [
    "titanic_list['Fare'].describe()"
   ]
  },
  {
   "cell_type": "code",
<<<<<<< HEAD
   "execution_count": 118,
=======
   "execution_count": 23,
>>>>>>> 646b4bbf7e1a8f09bf5a7965002c653771698e99
   "metadata": {},
   "outputs": [
    {
     "data": {
      "text/plain": [
       "1"
      ]
     },
<<<<<<< HEAD
     "execution_count": 118,
=======
     "execution_count": 23,
>>>>>>> 646b4bbf7e1a8f09bf5a7965002c653771698e99
     "metadata": {},
     "output_type": "execute_result"
    }
   ],
   "source": [
    "titanic_list['Fare'].isna().sum()"
   ]
  },
  {
   "cell_type": "code",
<<<<<<< HEAD
   "execution_count": 119,
=======
   "execution_count": 24,
>>>>>>> 646b4bbf7e1a8f09bf5a7965002c653771698e99
   "metadata": {},
   "outputs": [
    {
     "data": {
      "text/plain": [
       "0         7.2500\n",
       "1        71.2833\n",
       "2         7.9250\n",
       "3        53.1000\n",
       "4         8.0500\n",
       "          ...   \n",
       "1304      8.0500\n",
       "1305    108.9000\n",
       "1306      7.2500\n",
       "1307      8.0500\n",
       "1308     22.3583\n",
       "Name: Fare, Length: 1309, dtype: float64"
      ]
     },
<<<<<<< HEAD
     "execution_count": 119,
=======
     "execution_count": 24,
>>>>>>> 646b4bbf7e1a8f09bf5a7965002c653771698e99
     "metadata": {},
     "output_type": "execute_result"
    }
   ],
   "source": [
    "# Tratamos los valorse nulos \n",
    "# Doing same steps before for the second dataset\n",
    "s = titanic_list['Fare'].value_counts(normalize=True)\n",
    "missing = titanic_list['Fare'].isnull()\n",
    "titanic_list.loc[missing,'Fare'] = np.random.choice(s.index, size=len(titanic_list[missing]),\n",
    "                                                      p=s.values).astype(int)\n",
    "titanic_list['Fare']"
   ]
  },
  {
   "cell_type": "code",
<<<<<<< HEAD
   "execution_count": 120,
=======
   "execution_count": 25,
>>>>>>> 646b4bbf7e1a8f09bf5a7965002c653771698e99
   "metadata": {},
   "outputs": [
    {
     "data": {
      "text/plain": [
<<<<<<< HEAD
       "<AxesSubplot:xlabel='Fare', ylabel='Density'>"
      ]
     },
     "execution_count": 120,
=======
       "<matplotlib.axes._subplots.AxesSubplot at 0x7fc89b1195f8>"
      ]
     },
     "execution_count": 25,
>>>>>>> 646b4bbf7e1a8f09bf5a7965002c653771698e99
     "metadata": {},
     "output_type": "execute_result"
    },
    {
     "data": {
<<<<<<< HEAD
      "image/png": "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\n",
=======
      "image/png": "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\n",
>>>>>>> 646b4bbf7e1a8f09bf5a7965002c653771698e99
      "text/plain": [
       "<Figure size 432x288 with 1 Axes>"
      ]
     },
     "metadata": {
      "needs_background": "light"
     },
     "output_type": "display_data"
    }
   ],
   "source": [
    "sns.distplot(titanic_list['Fare'])"
   ]
  },
  {
   "cell_type": "code",
<<<<<<< HEAD
   "execution_count": 121,
=======
   "execution_count": 26,
>>>>>>> 646b4bbf7e1a8f09bf5a7965002c653771698e99
   "metadata": {},
   "outputs": [
    {
     "data": {
      "text/plain": [
<<<<<<< HEAD
       "<AxesSubplot:xlabel='Fare', ylabel='Density'>"
      ]
     },
     "execution_count": 121,
=======
       "<seaborn.axisgrid.FacetGrid at 0x7fc89aa367b8>"
      ]
     },
     "execution_count": 26,
>>>>>>> 646b4bbf7e1a8f09bf5a7965002c653771698e99
     "metadata": {},
     "output_type": "execute_result"
    },
    {
     "data": {
<<<<<<< HEAD
      "image/png": "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\n",
=======
      "image/png": "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\n",
>>>>>>> 646b4bbf7e1a8f09bf5a7965002c653771698e99
      "text/plain": [
       "<Figure size 432x288 with 1 Axes>"
      ]
     },
     "metadata": {
      "needs_background": "light"
     },
     "output_type": "display_data"
    }
   ],
   "source": [
    "# Para poder normalizar los valores\n",
    "titanic_list['Fare'] = np.log1p(titanic_list['Fare'])\n",
    "sns.distplot(titanic_list['Fare'] , fit = norm)"
   ]
  },
  {
   "cell_type": "markdown",
   "metadata": {},
   "source": [
<<<<<<< HEAD
    "# `Cabin`"
=======
    "## `Sex`"
   ]
  },
  {
   "cell_type": "code",
   "execution_count": 27,
   "metadata": {},
   "outputs": [
    {
     "name": "stdout",
     "output_type": "stream",
     "text": [
      "male      843\n",
      "female    466\n",
      "Name: Sex, dtype: int64\n"
     ]
    }
   ],
   "source": [
    "# Representamos gráficamente el atributo Sex\n",
    "print(titanic_list['Sex'].value_counts(sort = False))"
>>>>>>> 646b4bbf7e1a8f09bf5a7965002c653771698e99
   ]
  },
  {
   "cell_type": "code",
<<<<<<< HEAD
   "execution_count": 122,
=======
   "execution_count": 28,
>>>>>>> 646b4bbf7e1a8f09bf5a7965002c653771698e99
   "metadata": {},
   "outputs": [
    {
     "name": "stdout",
     "output_type": "stream",
     "text": [
<<<<<<< HEAD
      "B94     1\n",
      "C31     2\n",
      "C125    2\n",
      "B37     1\n",
      "B38     1\n",
      "       ..\n",
      "B11     1\n",
      "D11     1\n",
      "C45     1\n",
      "E8      2\n",
      "D50     1\n",
      "Name: Cabin, Length: 186, dtype: int64\n",
      "B94     0.00339\n",
      "C31     0.00678\n",
      "C125    0.00678\n",
      "B37     0.00339\n",
      "B38     0.00339\n",
      "         ...   \n",
      "B11     0.00339\n",
      "D11     0.00339\n",
      "C45     0.00339\n",
      "E8      0.00678\n",
      "D50     0.00339\n",
      "Name: Cabin, Length: 186, dtype: float64\n"
     ]
    },
=======
      "male      0.644003\n",
      "female    0.355997\n",
      "Name: Sex, dtype: float64\n"
     ]
    }
   ],
   "source": [
    "print(titanic_list['Sex'].value_counts(sort = False, normalize = True))"
   ]
  },
  {
   "cell_type": "code",
   "execution_count": 29,
   "metadata": {},
   "outputs": [
>>>>>>> 646b4bbf7e1a8f09bf5a7965002c653771698e99
    {
     "data": {
      "text/plain": [
       "Text(0.5, 1.0, 'Survive v/s Cabin')"
      ]
     },
<<<<<<< HEAD
     "execution_count": 122,
=======
     "execution_count": 29,
>>>>>>> 646b4bbf7e1a8f09bf5a7965002c653771698e99
     "metadata": {},
     "output_type": "execute_result"
    },
    {
     "data": {
      "image/png": "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\n",
      "text/plain": [
       "<Figure size 432x288 with 1 Axes>"
      ]
     },
     "metadata": {
      "needs_background": "light"
     },
     "output_type": "display_data"
    },
    {
     "data": {
      "image/png": "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\n",
      "text/plain": [
       "<Figure size 360x360 with 1 Axes>"
      ]
     },
     "metadata": {
      "needs_background": "light"
     },
     "output_type": "display_data"
    }
   ],
   "source": [
    "# Printing counts and percentage of male and female\n",
    "print(titanic_list['Cabin'].value_counts(sort=False))\n",
    "print(titanic_list['Cabin'].value_counts(sort=False,normalize=True))\n",
    "# Making variable  categorical \n",
    "#sub['SEX'] = sub['SEX'].astype('category')\n",
    "# Visualising counts of Gender with bar graph\n",
    "sns.countplot(x=\"Cabin\", data=titanic_list);\n",
    "plt.xlabel('Cabin')\n",
    "plt.ylabel('Frequency')\n",
    "plt.title('Count of Gender')\n",
    "# Showing proportion of survival for different type of gender\n",
    "sns.catplot(x=\"Cabin\", y=\"Survived\", data=titanic_list, kind=\"bar\", ci=None)\n",
    "plt.xlabel('Cabin')\n",
    "plt.ylabel('Survive Percentage')\n",
    "plt.title('Survive v/s Cabin')"
   ]
  },
  {
<<<<<<< HEAD
   "cell_type": "markdown",
=======
   "cell_type": "code",
   "execution_count": 30,
>>>>>>> 646b4bbf7e1a8f09bf5a7965002c653771698e99
   "metadata": {},
   "source": [
    "## Por el momento dejamos la variable `Cabin`"
   ]
  },
  {
   "cell_type": "markdown",
   "metadata": {},
   "source": [
    "## 'Name'\n",
    "### Variable categórica tenemos. 'Mr.', 'Miss' o 'Master'"
   ]
  },
  {
   "cell_type": "code",
<<<<<<< HEAD
   "execution_count": 123,
=======
   "execution_count": 31,
>>>>>>> 646b4bbf7e1a8f09bf5a7965002c653771698e99
   "metadata": {},
   "outputs": [
    {
     "data": {
      "text/plain": [
       "0                              Braund, Mr. Owen Harris\n",
       "1    Cumings, Mrs. John Bradley (Florence Briggs Th...\n",
       "2                               Heikkinen, Miss. Laina\n",
       "3         Futrelle, Mrs. Jacques Heath (Lily May Peel)\n",
       "4                             Allen, Mr. William Henry\n",
       "5                                     Moran, Mr. James\n",
       "6                              McCarthy, Mr. Timothy J\n",
       "7                       Palsson, Master. Gosta Leonard\n",
       "8    Johnson, Mrs. Oscar W (Elisabeth Vilhelmina Berg)\n",
       "9                  Nasser, Mrs. Nicholas (Adele Achem)\n",
       "Name: Name, dtype: object"
      ]
     },
<<<<<<< HEAD
     "execution_count": 123,
=======
     "execution_count": 31,
>>>>>>> 646b4bbf7e1a8f09bf5a7965002c653771698e99
     "metadata": {},
     "output_type": "execute_result"
    }
   ],
   "source": [
    "# check\n",
    "titanic_list['Name'].head(10)"
   ]
  },
  {
   "cell_type": "code",
<<<<<<< HEAD
   "execution_count": 124,
=======
   "execution_count": 32,
>>>>>>> 646b4bbf7e1a8f09bf5a7965002c653771698e99
   "metadata": {},
   "outputs": [
    {
     "name": "stdout",
     "output_type": "stream",
     "text": [
      "Help on module re:\n",
      "\n",
      "NAME\n",
      "    re - Support for regular expressions (RE).\n",
      "\n",
      "MODULE REFERENCE\n",
      "    https://docs.python.org/3.8/library/re\n",
      "    \n",
      "    The following documentation is automatically generated from the Python\n",
      "    source files.  It may be incomplete, incorrect or include features that\n",
      "    are considered implementation detail and may vary between Python\n",
      "    implementations.  When in doubt, consult the module reference at the\n",
      "    location listed above.\n",
      "\n",
      "DESCRIPTION\n",
      "    This module provides regular expression matching operations similar to\n",
      "    those found in Perl.  It supports both 8-bit and Unicode strings; both\n",
      "    the pattern and the strings being processed can contain null bytes and\n",
      "    characters outside the US ASCII range.\n",
      "    \n",
      "    Regular expressions can contain both special and ordinary characters.\n",
      "    Most ordinary characters, like \"A\", \"a\", or \"0\", are the simplest\n",
      "    regular expressions; they simply match themselves.  You can\n",
      "    concatenate ordinary characters, so last matches the string 'last'.\n",
      "    \n",
      "    The special characters are:\n",
      "        \".\"      Matches any character except a newline.\n",
      "        \"^\"      Matches the start of the string.\n",
      "        \"$\"      Matches the end of the string or just before the newline at\n",
      "                 the end of the string.\n",
      "        \"*\"      Matches 0 or more (greedy) repetitions of the preceding RE.\n",
      "                 Greedy means that it will match as many repetitions as possible.\n",
      "        \"+\"      Matches 1 or more (greedy) repetitions of the preceding RE.\n",
      "        \"?\"      Matches 0 or 1 (greedy) of the preceding RE.\n",
      "        *?,+?,?? Non-greedy versions of the previous three special characters.\n",
      "        {m,n}    Matches from m to n repetitions of the preceding RE.\n",
      "        {m,n}?   Non-greedy version of the above.\n",
      "        \"\\\\\"     Either escapes special characters or signals a special sequence.\n",
      "        []       Indicates a set of characters.\n",
      "                 A \"^\" as the first character indicates a complementing set.\n",
      "        \"|\"      A|B, creates an RE that will match either A or B.\n",
      "        (...)    Matches the RE inside the parentheses.\n",
      "                 The contents can be retrieved or matched later in the string.\n",
      "        (?aiLmsux) The letters set the corresponding flags defined below.\n",
      "        (?:...)  Non-grouping version of regular parentheses.\n",
      "        (?P<name>...) The substring matched by the group is accessible by name.\n",
      "        (?P=name)     Matches the text matched earlier by the group named name.\n",
      "        (?#...)  A comment; ignored.\n",
      "        (?=...)  Matches if ... matches next, but doesn't consume the string.\n",
      "        (?!...)  Matches if ... doesn't match next.\n",
      "        (?<=...) Matches if preceded by ... (must be fixed length).\n",
      "        (?<!...) Matches if not preceded by ... (must be fixed length).\n",
      "        (?(id/name)yes|no) Matches yes pattern if the group with id/name matched,\n",
      "                           the (optional) no pattern otherwise.\n",
      "    \n",
      "    The special sequences consist of \"\\\\\" and a character from the list\n",
      "    below.  If the ordinary character is not on the list, then the\n",
      "    resulting RE will match the second character.\n",
      "        \\number  Matches the contents of the group of the same number.\n",
      "        \\A       Matches only at the start of the string.\n",
      "        \\Z       Matches only at the end of the string.\n",
      "        \\b       Matches the empty string, but only at the start or end of a word.\n",
      "        \\B       Matches the empty string, but not at the start or end of a word.\n",
      "        \\d       Matches any decimal digit; equivalent to the set [0-9] in\n",
      "                 bytes patterns or string patterns with the ASCII flag.\n",
      "                 In string patterns without the ASCII flag, it will match the whole\n",
      "                 range of Unicode digits.\n",
      "        \\D       Matches any non-digit character; equivalent to [^\\d].\n",
      "        \\s       Matches any whitespace character; equivalent to [ \\t\\n\\r\\f\\v] in\n",
      "                 bytes patterns or string patterns with the ASCII flag.\n",
      "                 In string patterns without the ASCII flag, it will match the whole\n",
      "                 range of Unicode whitespace characters.\n",
      "        \\S       Matches any non-whitespace character; equivalent to [^\\s].\n",
      "        \\w       Matches any alphanumeric character; equivalent to [a-zA-Z0-9_]\n",
      "                 in bytes patterns or string patterns with the ASCII flag.\n",
      "                 In string patterns without the ASCII flag, it will match the\n",
      "                 range of Unicode alphanumeric characters (letters plus digits\n",
      "                 plus underscore).\n",
      "                 With LOCALE, it will match the set [0-9_] plus characters defined\n",
      "                 as letters for the current locale.\n",
      "        \\W       Matches the complement of \\w.\n",
      "        \\\\       Matches a literal backslash.\n",
      "    \n",
      "    This module exports the following functions:\n",
      "        match     Match a regular expression pattern to the beginning of a string.\n",
      "        fullmatch Match a regular expression pattern to all of a string.\n",
      "        search    Search a string for the presence of a pattern.\n",
      "        sub       Substitute occurrences of a pattern found in a string.\n",
      "        subn      Same as sub, but also return the number of substitutions made.\n",
      "        split     Split a string by the occurrences of a pattern.\n",
      "        findall   Find all occurrences of a pattern in a string.\n",
      "        finditer  Return an iterator yielding a Match object for each match.\n",
      "        compile   Compile a pattern into a Pattern object.\n",
      "        purge     Clear the regular expression cache.\n",
      "        escape    Backslash all non-alphanumerics in a string.\n",
      "    \n",
      "    Each function other than purge and escape can take an optional 'flags' argument\n",
      "    consisting of one or more of the following module constants, joined by \"|\".\n",
      "    A, L, and U are mutually exclusive.\n",
      "        A  ASCII       For string patterns, make \\w, \\W, \\b, \\B, \\d, \\D\n",
      "                       match the corresponding ASCII character categories\n",
      "                       (rather than the whole Unicode categories, which is the\n",
      "                       default).\n",
      "                       For bytes patterns, this flag is the only available\n",
      "                       behaviour and needn't be specified.\n",
      "        I  IGNORECASE  Perform case-insensitive matching.\n",
      "        L  LOCALE      Make \\w, \\W, \\b, \\B, dependent on the current locale.\n",
      "        M  MULTILINE   \"^\" matches the beginning of lines (after a newline)\n",
      "                       as well as the string.\n",
      "                       \"$\" matches the end of lines (before a newline) as well\n",
      "                       as the end of the string.\n",
      "        S  DOTALL      \".\" matches any character at all, including the newline.\n",
      "        X  VERBOSE     Ignore whitespace and comments for nicer looking RE's.\n",
      "        U  UNICODE     For compatibility only. Ignored for string patterns (it\n",
      "                       is the default), and forbidden for bytes patterns.\n",
      "    \n",
      "    This module also defines an exception 'error'.\n",
      "\n",
      "CLASSES\n",
      "    builtins.Exception(builtins.BaseException)\n",
      "        error\n",
      "    builtins.object\n",
      "        Match\n",
      "        Pattern\n",
      "    \n",
      "    class Match(builtins.object)\n",
      "     |  The result of re.match() and re.search().\n",
      "     |  Match objects always have a boolean value of True.\n",
      "     |  \n",
      "     |  Methods defined here:\n",
      "     |  \n",
      "     |  __copy__(self, /)\n",
      "     |  \n",
      "     |  __deepcopy__(self, memo, /)\n",
      "     |  \n",
      "     |  __getitem__(self, key, /)\n",
      "     |      Return self[key].\n",
      "     |  \n",
      "     |  __repr__(self, /)\n",
      "     |      Return repr(self).\n",
      "     |  \n",
      "     |  end(self, group=0, /)\n",
      "     |      Return index of the end of the substring matched by group.\n",
      "     |  \n",
      "     |  expand(self, /, template)\n",
      "     |      Return the string obtained by doing backslash substitution on the string template, as done by the sub() method.\n",
      "     |  \n",
      "     |  group(...)\n",
      "     |      group([group1, ...]) -> str or tuple.\n",
      "     |      Return subgroup(s) of the match by indices or names.\n",
      "     |      For 0 returns the entire match.\n",
      "     |  \n",
      "     |  groupdict(self, /, default=None)\n",
      "     |      Return a dictionary containing all the named subgroups of the match, keyed by the subgroup name.\n",
      "     |      \n",
      "     |      default\n",
      "     |        Is used for groups that did not participate in the match.\n",
      "     |  \n",
      "     |  groups(self, /, default=None)\n",
      "     |      Return a tuple containing all the subgroups of the match, from 1.\n",
      "     |      \n",
      "     |      default\n",
      "     |        Is used for groups that did not participate in the match.\n",
      "     |  \n",
      "     |  span(self, group=0, /)\n",
      "     |      For match object m, return the 2-tuple (m.start(group), m.end(group)).\n",
      "     |  \n",
      "     |  start(self, group=0, /)\n",
      "     |      Return index of the start of the substring matched by group.\n",
      "     |  \n",
      "     |  ----------------------------------------------------------------------\n",
      "     |  Data descriptors defined here:\n",
      "     |  \n",
      "     |  endpos\n",
      "     |      The index into the string beyond which the RE engine will not go.\n",
      "     |  \n",
      "     |  lastgroup\n",
      "     |      The name of the last matched capturing group.\n",
      "     |  \n",
      "     |  lastindex\n",
      "     |      The integer index of the last matched capturing group.\n",
      "     |  \n",
      "     |  pos\n",
      "     |      The index into the string at which the RE engine started looking for a match.\n",
      "     |  \n",
      "     |  re\n",
      "     |      The regular expression object.\n",
      "     |  \n",
      "     |  regs\n",
      "     |  \n",
      "     |  string\n",
      "     |      The string passed to match() or search().\n",
      "    \n",
      "    class Pattern(builtins.object)\n",
      "     |  Compiled regular expression object.\n",
      "     |  \n",
      "     |  Methods defined here:\n",
      "     |  \n",
      "     |  __copy__(self, /)\n",
      "     |  \n",
      "     |  __deepcopy__(self, memo, /)\n",
      "     |  \n",
      "     |  __eq__(self, value, /)\n",
      "     |      Return self==value.\n",
      "     |  \n",
      "     |  __ge__(self, value, /)\n",
      "     |      Return self>=value.\n",
      "     |  \n",
      "     |  __gt__(self, value, /)\n",
      "     |      Return self>value.\n",
      "     |  \n",
      "     |  __hash__(self, /)\n",
      "     |      Return hash(self).\n",
      "     |  \n",
      "     |  __le__(self, value, /)\n",
      "     |      Return self<=value.\n",
      "     |  \n",
      "     |  __lt__(self, value, /)\n",
      "     |      Return self<value.\n",
      "     |  \n",
      "     |  __ne__(self, value, /)\n",
      "     |      Return self!=value.\n",
      "     |  \n",
      "     |  __repr__(self, /)\n",
      "     |      Return repr(self).\n",
      "     |  \n",
      "     |  findall(self, /, string, pos=0, endpos=2147483647)\n",
      "     |      Return a list of all non-overlapping matches of pattern in string.\n",
      "     |  \n",
      "     |  finditer(self, /, string, pos=0, endpos=2147483647)\n",
      "     |      Return an iterator over all non-overlapping matches for the RE pattern in string.\n",
      "     |      \n",
      "     |      For each match, the iterator returns a match object.\n",
      "     |  \n",
      "     |  fullmatch(self, /, string, pos=0, endpos=2147483647)\n",
      "     |      Matches against all of the string.\n",
      "     |  \n",
      "     |  match(self, /, string, pos=0, endpos=2147483647)\n",
      "     |      Matches zero or more characters at the beginning of the string.\n",
      "     |  \n",
      "     |  scanner(self, /, string, pos=0, endpos=2147483647)\n",
      "     |  \n",
      "     |  search(self, /, string, pos=0, endpos=2147483647)\n",
      "     |      Scan through string looking for a match, and return a corresponding match object instance.\n",
      "     |      \n",
      "     |      Return None if no position in the string matches.\n",
      "     |  \n",
      "     |  split(self, /, string, maxsplit=0)\n",
      "     |      Split string by the occurrences of pattern.\n",
      "     |  \n",
      "     |  sub(self, /, repl, string, count=0)\n",
      "     |      Return the string obtained by replacing the leftmost non-overlapping occurrences of pattern in string by the replacement repl.\n",
      "     |  \n",
      "     |  subn(self, /, repl, string, count=0)\n",
      "     |      Return the tuple (new_string, number_of_subs_made) found by replacing the leftmost non-overlapping occurrences of pattern with the replacement repl.\n",
      "     |  \n",
      "     |  ----------------------------------------------------------------------\n",
      "     |  Data descriptors defined here:\n",
      "     |  \n",
      "     |  flags\n",
      "     |      The regex matching flags.\n",
      "     |  \n",
      "     |  groupindex\n",
      "     |      A dictionary mapping group names to group numbers.\n",
      "     |  \n",
      "     |  groups\n",
      "     |      The number of capturing groups in the pattern.\n",
      "     |  \n",
      "     |  pattern\n",
      "     |      The pattern string from which the RE object was compiled.\n",
      "    \n",
      "    class error(builtins.Exception)\n",
      "     |  error(msg, pattern=None, pos=None)\n",
      "     |  \n",
      "     |  Exception raised for invalid regular expressions.\n",
      "     |  \n",
      "     |  Attributes:\n",
      "     |  \n",
      "     |      msg: The unformatted error message\n",
      "     |      pattern: The regular expression pattern\n",
      "     |      pos: The index in the pattern where compilation failed (may be None)\n",
      "     |      lineno: The line corresponding to pos (may be None)\n",
      "     |      colno: The column corresponding to pos (may be None)\n",
      "     |  \n",
      "     |  Method resolution order:\n",
      "     |      error\n",
      "     |      builtins.Exception\n",
      "     |      builtins.BaseException\n",
      "     |      builtins.object\n",
      "     |  \n",
      "     |  Methods defined here:\n",
      "     |  \n",
      "     |  __init__(self, msg, pattern=None, pos=None)\n",
      "     |      Initialize self.  See help(type(self)) for accurate signature.\n",
      "     |  \n",
      "     |  ----------------------------------------------------------------------\n",
      "     |  Data descriptors defined here:\n",
      "     |  \n",
      "     |  __weakref__\n",
      "     |      list of weak references to the object (if defined)\n",
      "     |  \n",
      "     |  ----------------------------------------------------------------------\n",
      "     |  Static methods inherited from builtins.Exception:\n",
      "     |  \n",
      "     |  __new__(*args, **kwargs) from builtins.type\n",
      "     |      Create and return a new object.  See help(type) for accurate signature.\n",
      "     |  \n",
      "     |  ----------------------------------------------------------------------\n",
      "     |  Methods inherited from builtins.BaseException:\n",
      "     |  \n",
      "     |  __delattr__(self, name, /)\n",
      "     |      Implement delattr(self, name).\n",
      "     |  \n",
      "     |  __getattribute__(self, name, /)\n",
      "     |      Return getattr(self, name).\n",
      "     |  \n",
      "     |  __reduce__(...)\n",
      "     |      Helper for pickle.\n",
      "     |  \n",
      "     |  __repr__(self, /)\n",
      "     |      Return repr(self).\n",
      "     |  \n",
      "     |  __setattr__(self, name, value, /)\n",
      "     |      Implement setattr(self, name, value).\n",
      "     |  \n",
      "     |  __setstate__(...)\n",
      "     |  \n",
      "     |  __str__(self, /)\n",
      "     |      Return str(self).\n",
      "     |  \n",
      "     |  with_traceback(...)\n",
      "     |      Exception.with_traceback(tb) --\n",
      "     |      set self.__traceback__ to tb and return self.\n",
      "     |  \n",
      "     |  ----------------------------------------------------------------------\n",
      "     |  Data descriptors inherited from builtins.BaseException:\n",
      "     |  \n",
      "     |  __cause__\n",
      "     |      exception cause\n",
      "     |  \n",
      "     |  __context__\n",
      "     |      exception context\n",
      "     |  \n",
      "     |  __dict__\n",
      "     |  \n",
      "     |  __suppress_context__\n",
      "     |  \n",
      "     |  __traceback__\n",
      "     |  \n",
      "     |  args\n",
      "\n",
      "FUNCTIONS\n",
      "    compile(pattern, flags=0)\n",
      "        Compile a regular expression pattern, returning a Pattern object.\n",
      "    \n",
      "    escape(pattern)\n",
      "        Escape special characters in a string.\n",
      "    \n",
      "    findall(pattern, string, flags=0)\n",
      "        Return a list of all non-overlapping matches in the string.\n",
      "        \n",
      "        If one or more capturing groups are present in the pattern, return\n",
      "        a list of groups; this will be a list of tuples if the pattern\n",
      "        has more than one group.\n",
      "        \n",
      "        Empty matches are included in the result.\n",
      "    \n",
      "    finditer(pattern, string, flags=0)\n",
      "        Return an iterator over all non-overlapping matches in the\n",
      "        string.  For each match, the iterator returns a Match object.\n",
      "        \n",
      "        Empty matches are included in the result.\n",
      "    \n",
      "    fullmatch(pattern, string, flags=0)\n",
      "        Try to apply the pattern to all of the string, returning\n",
      "        a Match object, or None if no match was found.\n",
      "    \n",
      "    match(pattern, string, flags=0)\n",
      "        Try to apply the pattern at the start of the string, returning\n",
      "        a Match object, or None if no match was found.\n",
      "    \n",
      "    purge()\n",
      "        Clear the regular expression caches\n",
      "    \n",
      "    search(pattern, string, flags=0)\n",
      "        Scan through string looking for a match to the pattern, returning\n",
      "        a Match object, or None if no match was found.\n",
      "    \n",
      "    split(pattern, string, maxsplit=0, flags=0)\n",
      "        Split the source string by the occurrences of the pattern,\n",
      "        returning a list containing the resulting substrings.  If\n",
      "        capturing parentheses are used in pattern, then the text of all\n",
      "        groups in the pattern are also returned as part of the resulting\n",
      "        list.  If maxsplit is nonzero, at most maxsplit splits occur,\n",
      "        and the remainder of the string is returned as the final element\n",
      "        of the list.\n",
      "    \n",
      "    sub(pattern, repl, string, count=0, flags=0)\n",
      "        Return the string obtained by replacing the leftmost\n",
      "        non-overlapping occurrences of the pattern in string by the\n",
      "        replacement repl.  repl can be either a string or a callable;\n",
      "        if a string, backslash escapes in it are processed.  If it is\n",
      "        a callable, it's passed the Match object and must return\n",
      "        a replacement string to be used.\n",
      "    \n",
      "    subn(pattern, repl, string, count=0, flags=0)\n",
      "        Return a 2-tuple containing (new_string, number).\n",
      "        new_string is the string obtained by replacing the leftmost\n",
      "        non-overlapping occurrences of the pattern in the source\n",
      "        string by the replacement repl.  number is the number of\n",
      "        substitutions that were made. repl can be either a string or a\n",
      "        callable; if a string, backslash escapes in it are processed.\n",
      "        If it is a callable, it's passed the Match object and must\n",
      "        return a replacement string to be used.\n",
      "    \n",
      "    template(pattern, flags=0)\n",
      "        Compile a template pattern, returning a Pattern object\n",
      "\n",
      "DATA\n",
      "    A = re.ASCII\n",
      "    ASCII = re.ASCII\n",
      "    DOTALL = re.DOTALL\n",
      "    I = re.IGNORECASE\n",
      "    IGNORECASE = re.IGNORECASE\n",
      "    L = re.LOCALE\n",
      "    LOCALE = re.LOCALE\n",
      "    M = re.MULTILINE\n",
      "    MULTILINE = re.MULTILINE\n",
      "    S = re.DOTALL\n",
      "    U = re.UNICODE\n",
      "    UNICODE = re.UNICODE\n",
      "    VERBOSE = re.VERBOSE\n",
      "    X = re.VERBOSE\n",
      "    __all__ = ['match', 'fullmatch', 'search', 'sub', 'subn', 'split', 'fi...\n",
      "\n",
      "VERSION\n",
      "    2.2.1\n",
      "\n",
      "FILE\n",
      "    c:\\users\\jd\\appdata\\local\\programs\\python\\python38-32\\lib\\re.py\n",
      "\n",
      "\n"
     ]
    }
   ],
   "source": [
    "import re\n",
    "help(re)"
   ]
  },
  {
   "cell_type": "markdown",
   "metadata": {},
   "source": [
    "### creamos una función para la extracción del título que se encuentra con el siguiente patrón.\n",
    "```\n",
    "\n",
    "string, ESPACE Título punto SPACE\n",
    "```\n"
   ]
  },
  {
   "cell_type": "code",
   "execution_count": 125,
   "metadata": {},
   "outputs": [],
   "source": [
    "def get_title(name):\n",
    "    title_search = re.search(' ([A-Za-z]+)\\.', name)\n",
    "    if title_search:\n",
    "        return title_search.group(1)\n",
    "    return \"\""
   ]
  },
  {
   "cell_type": "code",
   "execution_count": 126,
   "metadata": {},
   "outputs": [],
   "source": [
    "# Aplicamos esta función a una nueva columna del dataset\n",
    "titanic_list['TitleName'] = titanic_list['Name'].apply(get_title)"
   ]
  },
  {
   "cell_type": "code",
   "execution_count": 127,
   "metadata": {},
   "outputs": [
    {
     "data": {
      "text/plain": [
       "0        Mr\n",
       "1       Mrs\n",
       "2      Miss\n",
       "3       Mrs\n",
       "4        Mr\n",
       "5        Mr\n",
       "6        Mr\n",
       "7    Master\n",
       "8       Mrs\n",
       "9       Mrs\n",
       "Name: TitleName, dtype: object"
      ]
     },
<<<<<<< HEAD
     "execution_count": 127,
=======
     "execution_count": 32,
>>>>>>> 646b4bbf7e1a8f09bf5a7965002c653771698e99
     "metadata": {},
     "output_type": "execute_result"
    }
   ],
   "source": [
    "titanic_list['TitleName'].head(10)"
   ]
  },
  {
   "cell_type": "code",
<<<<<<< HEAD
   "execution_count": 128,
=======
   "execution_count": 33,
>>>>>>> 646b4bbf7e1a8f09bf5a7965002c653771698e99
   "metadata": {},
   "outputs": [
    {
     "data": {
      "text/html": [
       "<div>\n",
       "<style scoped>\n",
       "    .dataframe tbody tr th:only-of-type {\n",
       "        vertical-align: middle;\n",
       "    }\n",
       "\n",
       "    .dataframe tbody tr th {\n",
       "        vertical-align: top;\n",
       "    }\n",
       "\n",
       "    .dataframe thead th {\n",
       "        text-align: right;\n",
       "    }\n",
       "</style>\n",
       "<table border=\"1\" class=\"dataframe\">\n",
       "  <thead>\n",
       "    <tr style=\"text-align: right;\">\n",
       "      <th>Sex</th>\n",
       "      <th>0</th>\n",
       "      <th>1</th>\n",
       "    </tr>\n",
       "    <tr>\n",
       "      <th>TitleName</th>\n",
       "      <th></th>\n",
       "      <th></th>\n",
       "    </tr>\n",
       "  </thead>\n",
       "  <tbody>\n",
       "    <tr>\n",
       "      <th>Capt</th>\n",
       "      <td>1</td>\n",
       "      <td>0</td>\n",
       "    </tr>\n",
       "    <tr>\n",
       "      <th>Col</th>\n",
       "      <td>4</td>\n",
       "      <td>0</td>\n",
       "    </tr>\n",
       "    <tr>\n",
       "      <th>Countess</th>\n",
       "      <td>0</td>\n",
       "      <td>1</td>\n",
       "    </tr>\n",
       "    <tr>\n",
       "      <th>Don</th>\n",
       "      <td>1</td>\n",
       "      <td>0</td>\n",
       "    </tr>\n",
       "    <tr>\n",
       "      <th>Dona</th>\n",
       "      <td>0</td>\n",
       "      <td>1</td>\n",
       "    </tr>\n",
       "    <tr>\n",
       "      <th>Dr</th>\n",
       "      <td>7</td>\n",
       "      <td>1</td>\n",
       "    </tr>\n",
       "    <tr>\n",
       "      <th>Jonkheer</th>\n",
       "      <td>1</td>\n",
       "      <td>0</td>\n",
       "    </tr>\n",
       "    <tr>\n",
       "      <th>Lady</th>\n",
       "      <td>0</td>\n",
       "      <td>1</td>\n",
       "    </tr>\n",
       "    <tr>\n",
       "      <th>Major</th>\n",
       "      <td>2</td>\n",
       "      <td>0</td>\n",
       "    </tr>\n",
       "    <tr>\n",
       "      <th>Master</th>\n",
       "      <td>61</td>\n",
       "      <td>0</td>\n",
       "    </tr>\n",
       "    <tr>\n",
       "      <th>Miss</th>\n",
       "      <td>0</td>\n",
       "      <td>260</td>\n",
       "    </tr>\n",
       "    <tr>\n",
       "      <th>Mlle</th>\n",
       "      <td>0</td>\n",
       "      <td>2</td>\n",
       "    </tr>\n",
       "    <tr>\n",
       "      <th>Mme</th>\n",
       "      <td>0</td>\n",
       "      <td>1</td>\n",
       "    </tr>\n",
       "    <tr>\n",
       "      <th>Mr</th>\n",
       "      <td>757</td>\n",
       "      <td>0</td>\n",
       "    </tr>\n",
       "    <tr>\n",
       "      <th>Mrs</th>\n",
       "      <td>0</td>\n",
       "      <td>197</td>\n",
       "    </tr>\n",
       "    <tr>\n",
       "      <th>Ms</th>\n",
       "      <td>0</td>\n",
       "      <td>2</td>\n",
       "    </tr>\n",
       "    <tr>\n",
       "      <th>Rev</th>\n",
       "      <td>8</td>\n",
       "      <td>0</td>\n",
       "    </tr>\n",
       "    <tr>\n",
       "      <th>Sir</th>\n",
       "      <td>1</td>\n",
       "      <td>0</td>\n",
       "    </tr>\n",
       "  </tbody>\n",
       "</table>\n",
       "</div>"
      ],
      "text/plain": [
       "Sex          0    1\n",
       "TitleName          \n",
       "Capt         1    0\n",
       "Col          4    0\n",
       "Countess     0    1\n",
       "Don          1    0\n",
       "Dona         0    1\n",
       "Dr           7    1\n",
       "Jonkheer     1    0\n",
       "Lady         0    1\n",
       "Major        2    0\n",
       "Master      61    0\n",
       "Miss         0  260\n",
       "Mlle         0    2\n",
       "Mme          0    1\n",
       "Mr         757    0\n",
       "Mrs          0  197\n",
       "Ms           0    2\n",
       "Rev          8    0\n",
       "Sir          1    0"
      ]
     },
<<<<<<< HEAD
     "execution_count": 128,
=======
     "execution_count": 33,
>>>>>>> 646b4bbf7e1a8f09bf5a7965002c653771698e99
     "metadata": {},
     "output_type": "execute_result"
    }
   ],
   "source": [
    "# check\n",
    "pd.crosstab(titanic_list['TitleName'],titanic_list['Sex'])"
   ]
  },
  {
   "cell_type": "code",
   "execution_count": 130,
   "metadata": {},
   "outputs": [],
   "source": [
    "##Convertimos a variable categorica\n",
    "ListaTitle = titanic_list['TitleName'].value_counts(ascending = True)\n",
    "ListaTitle= ListaTitle[0:-4]\n",
    "ListaTitle = ListaTitle.index\n",
    "#istaTitle"
   ]
  },
  {
   "cell_type": "code",
   "execution_count": 131,
   "metadata": {},
   "outputs": [],
   "source": [
    "## Convertimos a variable categorica\n",
    "ListaTitle = titanic_list['TitleName'].value_counts(ascending = True) ## Listado de variables ordenadas\n",
    "ListaTitle= ListaTitle[0:-4] # Retiramos todas menos las 4 mas importantes\n",
    "ListaTitle = ListaTitle.index # Seleccionamos los indices\n",
    "titanic_list['TitleName'] = titanic_list['TitleName'].replace(ListaTitle,'Rare') ##reemplazamos las categorias por `Rare`"
   ]
  },
  {
   "cell_type": "code",
<<<<<<< HEAD
   "execution_count": 278,
=======
   "execution_count": 34,
>>>>>>> 646b4bbf7e1a8f09bf5a7965002c653771698e99
   "metadata": {},
   "outputs": [
    {
     "data": {
<<<<<<< HEAD
=======
      "image/png": "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\n",
>>>>>>> 646b4bbf7e1a8f09bf5a7965002c653771698e99
      "text/plain": [
       "<AxesSubplot:xlabel='TitleName', ylabel='Survived'>"
      ]
     },
     "execution_count": 278,
     "metadata": {},
     "output_type": "execute_result"
    },
    {
     "data": {
      "image/png": "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\n",
      "text/plain": [
       "<Figure size 432x288 with 1 Axes>"
      ]
     },
     "metadata": {
      "needs_background": "light"
     },
     "output_type": "display_data"
    }
   ],
   "source": [
    "sns.barplot(x=\"TitleName\", y=\"Survived\", data=titanic_list, estimator = np.mean, ci=0)"
   ]
  },
  {
   "cell_type": "code",
<<<<<<< HEAD
   "execution_count": 132,
=======
   "execution_count": 35,
>>>>>>> 646b4bbf7e1a8f09bf5a7965002c653771698e99
   "metadata": {},
   "outputs": [
    {
     "data": {
      "text/html": [
       "<div>\n",
       "<style scoped>\n",
       "    .dataframe tbody tr th:only-of-type {\n",
       "        vertical-align: middle;\n",
       "    }\n",
       "\n",
       "    .dataframe tbody tr th {\n",
       "        vertical-align: top;\n",
       "    }\n",
       "\n",
       "    .dataframe thead th {\n",
       "        text-align: right;\n",
       "    }\n",
       "</style>\n",
       "<table border=\"1\" class=\"dataframe\">\n",
       "  <thead>\n",
       "    <tr style=\"text-align: right;\">\n",
       "      <th>Sex</th>\n",
       "      <th>0</th>\n",
       "      <th>1</th>\n",
       "    </tr>\n",
       "    <tr>\n",
       "      <th>TitleName</th>\n",
       "      <th></th>\n",
       "      <th></th>\n",
       "    </tr>\n",
       "  </thead>\n",
       "  <tbody>\n",
       "    <tr>\n",
       "      <th>Master</th>\n",
       "      <td>61</td>\n",
       "      <td>0</td>\n",
       "    </tr>\n",
       "    <tr>\n",
       "      <th>Miss</th>\n",
       "      <td>0</td>\n",
       "      <td>260</td>\n",
       "    </tr>\n",
       "    <tr>\n",
       "      <th>Mr</th>\n",
       "      <td>757</td>\n",
       "      <td>0</td>\n",
       "    </tr>\n",
       "    <tr>\n",
       "      <th>Mrs</th>\n",
       "      <td>0</td>\n",
       "      <td>197</td>\n",
       "    </tr>\n",
       "    <tr>\n",
       "      <th>Rare</th>\n",
       "      <td>25</td>\n",
       "      <td>9</td>\n",
       "    </tr>\n",
       "  </tbody>\n",
       "</table>\n",
       "</div>"
      ],
      "text/plain": [
       "Sex          0    1\n",
       "TitleName          \n",
       "Master      61    0\n",
       "Miss         0  260\n",
       "Mr         757    0\n",
       "Mrs          0  197\n",
       "Rare        25    9"
      ]
     },
<<<<<<< HEAD
     "execution_count": 132,
=======
     "execution_count": 35,
>>>>>>> 646b4bbf7e1a8f09bf5a7965002c653771698e99
     "metadata": {},
     "output_type": "execute_result"
    }
   ],
   "source": [
    "# check\n",
    "pd.crosstab(titanic_list['TitleName'],titanic_list['Sex'])"
   ]
  },
  {
   "cell_type": "markdown",
   "metadata": {},
   "source": [
    "# `Age`"
   ]
  },
  {
   "cell_type": "code",
   "execution_count": 140,
   "metadata": {},
   "outputs": [],
   "source": [
    "bins = [-1,0,5,12,18,24,35,50,65,np.inf]\n",
    "labels = ['Unknown','Baby','Child','Teenager','Student','Young Adults','Adult','Mid-Senior','Senior']"
   ]
  },
  {
   "cell_type": "code",
   "execution_count": 141,
   "metadata": {},
   "outputs": [],
   "source": [
    "# Imputamos los valores nulos con -0.5\n",
    "titanic_list['Age'] = titanic_list['Age'].fillna(-0.5)"
   ]
  },
  {
   "cell_type": "code",
<<<<<<< HEAD
   "execution_count": 142,
=======
   "execution_count": 36,
>>>>>>> 646b4bbf7e1a8f09bf5a7965002c653771698e99
   "metadata": {},
   "outputs": [
    {
     "data": {
<<<<<<< HEAD
=======
      "image/png": "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\n",
>>>>>>> 646b4bbf7e1a8f09bf5a7965002c653771698e99
      "text/plain": [
       "<bound method Series.unique of Series([], Name: Age, dtype: float64)>"
      ]
     },
     "execution_count": 142,
     "metadata": {},
     "output_type": "execute_result"
    }
   ],
   "source": [
    "titanic_list[titanic_list['Age'].isna()]['Age'].unique"
   ]
  },
  {
   "cell_type": "code",
   "execution_count": 143,
   "metadata": {},
   "outputs": [],
   "source": [
    "titanic_list['AgeGroup'] = pd.cut(titanic_list['Age'], bins, labels = labels)"
   ]
  },
  {
   "cell_type": "code",
   "execution_count": 145,
   "metadata": {},
   "outputs": [
    {
     "data": {
      "text/plain": [
       "['Student', 'Adult', 'Young Adults', 'Unknown', 'Mid-Senior', 'Baby', 'Teenager', 'Child', 'Senior']\n",
       "Categories (9, object): ['Unknown' < 'Baby' < 'Child' < 'Teenager' ... 'Young Adults' < 'Adult' < 'Mid-Senior' < 'Senior']"
      ]
     },
     "execution_count": 145,
     "metadata": {},
     "output_type": "execute_result"
    }
   ],
   "source": [
    "titanic_list['AgeGroup'].unique()"
   ]
  },
  {
   "cell_type": "code",
   "execution_count": 153,
   "metadata": {},
   "outputs": [
    {
     "data": {
      "text/plain": [
       "<AxesSubplot:xlabel='AgeGroup', ylabel='Survived'>"
      ]
     },
     "execution_count": 153,
     "metadata": {},
     "output_type": "execute_result"
    },
    {
     "data": {
      "image/png": "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\n",
      "text/plain": [
       "<Figure size 432x288 with 1 Axes>"
      ]
     },
     "metadata": {
      "needs_background": "light"
     },
     "output_type": "display_data"
    }
   ],
   "source": [
    "sns.barplot(data= titanic_list, x='AgeGroup', y ='Survived')"
   ]
  },
  {
   "cell_type": "markdown",
   "metadata": {},
   "source": [
    "*** \n",
    "\n",
    "### Features Engineering\n",
    "\n",
    "creación de nuevos atributos, o extracción de nuevos atributos."
   ]
  },
  {
   "cell_type": "markdown",
   "metadata": {},
   "source": [
    "# FamilySize "
   ]
  },
  {
<<<<<<< HEAD
   "cell_type": "markdown",
   "metadata": {},
=======
   "cell_type": "code",
   "execution_count": 37,
   "metadata": {},
   "outputs": [
    {
     "data": {
      "text/plain": [
       "0           A/5 21171\n",
       "1            PC 17599\n",
       "2    STON/O2. 3101282\n",
       "3              113803\n",
       "4              373450\n",
       "5              330877\n",
       "6               17463\n",
       "7              349909\n",
       "8              347742\n",
       "9              237736\n",
       "Name: Ticket, dtype: object"
      ]
     },
     "execution_count": 37,
     "metadata": {},
     "output_type": "execute_result"
    }
   ],
>>>>>>> 646b4bbf7e1a8f09bf5a7965002c653771698e99
   "source": [
    "### Suma de `SibSp` y `Parch`"
   ]
  },
  {
   "cell_type": "code",
<<<<<<< HEAD
   "execution_count": 161,
=======
   "execution_count": 38,
>>>>>>> 646b4bbf7e1a8f09bf5a7965002c653771698e99
   "metadata": {},
   "outputs": [],
   "source": [
    "# creamos un nuevo atributo\n",
    "titanic_list['FamilySize'] = titanic_list['SibSp'] + titanic_list['Parch']"
   ]
  },
  {
   "cell_type": "code",
<<<<<<< HEAD
   "execution_count": 162,
=======
   "execution_count": 39,
>>>>>>> 646b4bbf7e1a8f09bf5a7965002c653771698e99
   "metadata": {},
   "outputs": [
    {
     "data": {
      "text/html": [
       "<div>\n",
       "<style scoped>\n",
       "    .dataframe tbody tr th:only-of-type {\n",
       "        vertical-align: middle;\n",
       "    }\n",
       "\n",
       "    .dataframe tbody tr th {\n",
       "        vertical-align: top;\n",
       "    }\n",
       "\n",
       "    .dataframe thead th {\n",
       "        text-align: right;\n",
       "    }\n",
       "</style>\n",
       "<table border=\"1\" class=\"dataframe\">\n",
       "  <thead>\n",
       "    <tr style=\"text-align: right;\">\n",
       "      <th></th>\n",
       "      <th>FamilySize</th>\n",
       "      <th>Survived</th>\n",
       "    </tr>\n",
       "  </thead>\n",
       "  <tbody>\n",
       "    <tr>\n",
       "      <th>0</th>\n",
       "      <td>0</td>\n",
       "      <td>0.303538</td>\n",
       "    </tr>\n",
       "    <tr>\n",
       "      <th>1</th>\n",
       "      <td>1</td>\n",
       "      <td>0.552795</td>\n",
       "    </tr>\n",
       "    <tr>\n",
       "      <th>2</th>\n",
       "      <td>2</td>\n",
       "      <td>0.578431</td>\n",
       "    </tr>\n",
       "    <tr>\n",
       "      <th>3</th>\n",
       "      <td>3</td>\n",
       "      <td>0.724138</td>\n",
       "    </tr>\n",
       "    <tr>\n",
       "      <th>4</th>\n",
       "      <td>4</td>\n",
       "      <td>0.200000</td>\n",
       "    </tr>\n",
       "    <tr>\n",
       "      <th>5</th>\n",
       "      <td>5</td>\n",
       "      <td>0.136364</td>\n",
       "    </tr>\n",
       "    <tr>\n",
       "      <th>6</th>\n",
       "      <td>6</td>\n",
       "      <td>0.333333</td>\n",
       "    </tr>\n",
       "    <tr>\n",
       "      <th>7</th>\n",
       "      <td>7</td>\n",
       "      <td>0.000000</td>\n",
       "    </tr>\n",
       "    <tr>\n",
       "      <th>8</th>\n",
       "      <td>10</td>\n",
       "      <td>0.000000</td>\n",
       "    </tr>\n",
       "  </tbody>\n",
       "</table>\n",
       "</div>"
      ],
      "text/plain": [
       "   FamilySize  Survived\n",
       "0           0  0.303538\n",
       "1           1  0.552795\n",
       "2           2  0.578431\n",
       "3           3  0.724138\n",
       "4           4  0.200000\n",
       "5           5  0.136364\n",
       "6           6  0.333333\n",
       "7           7  0.000000\n",
       "8          10  0.000000"
      ]
     },
     "execution_count": 162,
     "metadata": {},
     "output_type": "execute_result"
    }
   ],
   "source": [
    "# Creamos un nuevo atributo FamilySize\n",
    "titanic_list[['FamilySize','Survived']].groupby(['FamilySize'], as_index = False).mean()"
   ]
  },
  {
   "cell_type": "code",
   "execution_count": 180,
   "metadata": {},
   "outputs": [
    {
     "data": {
      "text/plain": [
       "<AxesSubplot:xlabel='FamilySize', ylabel='Survived'>"
      ]
     },
     "execution_count": 180,
     "metadata": {},
     "output_type": "execute_result"
    },
    {
     "data": {
      "image/png": "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\n",
      "text/plain": [
       "<Figure size 432x288 with 1 Axes>"
      ]
     },
     "metadata": {
      "needs_background": "light"
     },
     "output_type": "display_data"
    }
   ],
   "source": [
    "sns.barplot(x='FamilySize', y='Survived', data = titanic_list)"
   ]
  },
  {
   "cell_type": "code",
   "execution_count": 175,
   "metadata": {},
   "outputs": [
    {
     "data": {
      "text/plain": [
       "Index(['Survived', 'Pclass', 'Name', 'Sex', 'Age', 'SibSp', 'Parch', 'Fare',\n",
       "       'Cabin', 'Embarked', 'TitleName', 'AgeGroup', 'FamiliSize',\n",
       "       'FamilySize'],\n",
       "      dtype='object')"
      ]
     },
     "execution_count": 175,
     "metadata": {},
     "output_type": "execute_result"
    }
   ],
   "source": [
    "titanic_list.drop('FamiliSize',axis =1)\n",
    "titanic_list.columns"
   ]
  },
  {
   "cell_type": "code",
   "execution_count": 181,
   "metadata": {},
   "outputs": [
    {
     "data": {
      "text/plain": [
       "1309"
      ]
     },
     "execution_count": 181,
     "metadata": {},
     "output_type": "execute_result"
    }
   ],
   "source": [
    "len(titanic_list)"
   ]
  },
  {
   "cell_type": "markdown",
   "metadata": {},
   "source": [
    "***\n",
    "\n",
    "## 'IsAlone'\n",
    "\n",
    "### creamos una nueva dimensión del pasajero que viaja solo"
   ]
  },
  {
   "cell_type": "code",
   "execution_count": 208,
   "metadata": {},
   "outputs": [],
   "source": [
    "titanic_list['IsAlone'] = 0\n",
    "titanic_list.loc[titanic_list['FamilySize']==1,'IsAlone'] = 1"
   ]
  },
  {
   "cell_type": "code",
   "execution_count": 209,
   "metadata": {},
   "outputs": [
    {
     "data": {
      "text/plain": [
       "array([1, 0], dtype=int64)"
      ]
     },
     "execution_count": 209,
     "metadata": {},
     "output_type": "execute_result"
    }
   ],
   "source": [
    "titanic_list['IsAlone'].unique()"
   ]
  },
  {
   "cell_type": "code",
   "execution_count": 210,
   "metadata": {},
   "outputs": [
    {
     "data": {
      "text/plain": [
       "<AxesSubplot:xlabel='IsAlone', ylabel='Survived'>"
      ]
     },
<<<<<<< HEAD
     "execution_count": 210,
=======
     "execution_count": 39,
>>>>>>> 646b4bbf7e1a8f09bf5a7965002c653771698e99
     "metadata": {},
     "output_type": "execute_result"
    },
    {
     "data": {
      "image/png": "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\n",
      "text/plain": [
       "<Figure size 432x288 with 1 Axes>"
      ]
     },
     "metadata": {
      "needs_background": "light"
     },
     "output_type": "display_data"
    }
   ],
   "source": [
    "sns.barplot(x='IsAlone', y='Survived', data = titanic_list, hue ='Sex')"
   ]
  },
  {
   "cell_type": "code",
   "execution_count": 203,
   "metadata": {},
   "outputs": [
    {
     "data": {
      "text/plain": [
       "array([1, 'Esta Solito'], dtype=object)"
      ]
     },
     "execution_count": 203,
     "metadata": {},
     "output_type": "execute_result"
    }
   ],
   "source": [
    "titanic_list['IsAlone'].unique()"
   ]
  },
  {
   "cell_type": "markdown",
   "metadata": {},
   "source": [
    "# `FareGroup`\n",
    "\n",
    "Creamos grupos de tarifas"
   ]
  },
  {
   "cell_type": "code",
   "execution_count": 221,
   "metadata": {},
   "outputs": [],
   "source": [
    "labels = ['Basic','Bronze','Silver','Gold']\n",
    "titanic_list['FareGroup'] = pd.qcut(titanic_list['Fare'],q=4,labels=labels)"
   ]
  },
  {
   "cell_type": "code",
<<<<<<< HEAD
   "execution_count": 223,
=======
   "execution_count": 40,
>>>>>>> 646b4bbf7e1a8f09bf5a7965002c653771698e99
   "metadata": {},
   "outputs": [
    {
     "data": {
      "text/html": [
       "<div>\n",
       "<style scoped>\n",
       "    .dataframe tbody tr th:only-of-type {\n",
       "        vertical-align: middle;\n",
       "    }\n",
       "\n",
       "    .dataframe tbody tr th {\n",
       "        vertical-align: top;\n",
       "    }\n",
       "\n",
       "    .dataframe thead th {\n",
       "        text-align: right;\n",
       "    }\n",
       "</style>\n",
       "<table border=\"1\" class=\"dataframe\">\n",
       "  <thead>\n",
       "    <tr style=\"text-align: right;\">\n",
       "      <th></th>\n",
       "      <th>FareGroup</th>\n",
       "      <th>Survived</th>\n",
       "    </tr>\n",
       "  </thead>\n",
       "  <tbody>\n",
       "    <tr>\n",
       "      <th>0</th>\n",
       "      <td>Basic</td>\n",
       "      <td>0.197309</td>\n",
       "    </tr>\n",
       "    <tr>\n",
       "      <th>1</th>\n",
       "      <td>Bronze</td>\n",
       "      <td>0.303571</td>\n",
       "    </tr>\n",
       "    <tr>\n",
       "      <th>2</th>\n",
       "      <td>Silver</td>\n",
       "      <td>0.441048</td>\n",
       "    </tr>\n",
       "    <tr>\n",
       "      <th>3</th>\n",
       "      <td>Gold</td>\n",
       "      <td>0.600000</td>\n",
       "    </tr>\n",
       "  </tbody>\n",
       "</table>\n",
       "</div>"
      ],
      "text/plain": [
       "  FareGroup  Survived\n",
       "0     Basic  0.197309\n",
       "1    Bronze  0.303571\n",
       "2    Silver  0.441048\n",
       "3      Gold  0.600000"
      ]
     },
<<<<<<< HEAD
     "execution_count": 223,
=======
     "execution_count": 40,
>>>>>>> 646b4bbf7e1a8f09bf5a7965002c653771698e99
     "metadata": {},
     "output_type": "execute_result"
    }
   ],
   "source": [
    "titanic_list[['FareGroup','Survived']].groupby(['FareGroup'], as_index = False).mean()"
   ]
  },
  {
   "cell_type": "code",
<<<<<<< HEAD
   "execution_count": 225,
=======
   "execution_count": 41,
>>>>>>> 646b4bbf7e1a8f09bf5a7965002c653771698e99
   "metadata": {},
   "outputs": [
    {
     "data": {
      "text/plain": [
       "<AxesSubplot:xlabel='FareGroup', ylabel='Survived'>"
      ]
     },
<<<<<<< HEAD
     "execution_count": 225,
     "metadata": {},
     "output_type": "execute_result"
    },
=======
     "execution_count": 41,
     "metadata": {},
     "output_type": "execute_result"
    }
   ],
   "source": [
    "# Tenemos que tratar los valores nulos. Un método es con el most_frequent\n",
    "freq_port = titanic_list.Embarked.dropna().mode()[0]\n",
    "freq_port"
   ]
  },
  {
   "cell_type": "code",
   "execution_count": 42,
   "metadata": {},
   "outputs": [],
   "source": [
    "# Asignamos el valor frecuente\n",
    "titanic_list['Embarked'] = titanic_list['Embarked'].fillna(freq_port)"
   ]
  },
  {
   "cell_type": "code",
   "execution_count": 43,
   "metadata": {},
   "outputs": [
>>>>>>> 646b4bbf7e1a8f09bf5a7965002c653771698e99
    {
     "data": {
      "image/png": "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\n",
      "text/plain": [
       "<Figure size 432x288 with 1 Axes>"
      ]
     },
<<<<<<< HEAD
     "metadata": {
      "needs_background": "light"
     },
     "output_type": "display_data"
=======
     "execution_count": 43,
     "metadata": {},
     "output_type": "execute_result"
>>>>>>> 646b4bbf7e1a8f09bf5a7965002c653771698e99
    }
   ],
   "source": [
    "sns.barplot(x='FareGroup', y='Survived', data = titanic_list, hue ='Sex', estimator=np.sum)"
   ]
  },
  {
   "cell_type": "code",
<<<<<<< HEAD
   "execution_count": 232,
=======
   "execution_count": 44,
>>>>>>> 646b4bbf7e1a8f09bf5a7965002c653771698e99
   "metadata": {},
   "outputs": [
    {
     "data": {
      "text/html": [
       "<div>\n",
       "<style scoped>\n",
       "    .dataframe tbody tr th:only-of-type {\n",
       "        vertical-align: middle;\n",
       "    }\n",
       "\n",
       "    .dataframe tbody tr th {\n",
       "        vertical-align: top;\n",
       "    }\n",
       "\n",
       "    .dataframe thead th {\n",
       "        text-align: right;\n",
       "    }\n",
       "</style>\n",
       "<table border=\"1\" class=\"dataframe\">\n",
       "  <thead>\n",
       "    <tr style=\"text-align: right;\">\n",
       "      <th>Sex</th>\n",
       "      <th>0</th>\n",
       "      <th>1</th>\n",
       "    </tr>\n",
       "    <tr>\n",
       "      <th>FareGroup</th>\n",
       "      <th></th>\n",
       "      <th></th>\n",
       "    </tr>\n",
       "  </thead>\n",
       "  <tbody>\n",
       "    <tr>\n",
       "      <th>Basic</th>\n",
       "      <td>0.077778</td>\n",
       "      <td>0.697674</td>\n",
       "    </tr>\n",
       "    <tr>\n",
       "      <th>Bronze</th>\n",
       "      <td>0.159236</td>\n",
       "      <td>0.641791</td>\n",
       "    </tr>\n",
       "    <tr>\n",
       "      <th>Silver</th>\n",
       "      <td>0.274809</td>\n",
       "      <td>0.663265</td>\n",
       "    </tr>\n",
       "    <tr>\n",
       "      <th>Gold</th>\n",
       "      <td>0.311927</td>\n",
       "      <td>0.896226</td>\n",
       "    </tr>\n",
       "  </tbody>\n",
       "</table>\n",
       "</div>"
      ],
      "text/plain": [
       "Sex               0         1\n",
       "FareGroup                    \n",
       "Basic      0.077778  0.697674\n",
       "Bronze     0.159236  0.641791\n",
       "Silver     0.274809  0.663265\n",
       "Gold       0.311927  0.896226"
      ]
     },
<<<<<<< HEAD
     "execution_count": 232,
=======
     "execution_count": 44,
>>>>>>> 646b4bbf7e1a8f09bf5a7965002c653771698e99
     "metadata": {},
     "output_type": "execute_result"
    }
   ],
   "source": [
    "pandas.pivot_table(data=titanic_list,values='Survived',columns= ['Sex'],index=['FareGroup'])"
   ]
  },
  {
   "cell_type": "markdown",
   "metadata": {},
   "source": [
    "# `InCabin`\n",
    "\n",
    "Creamos una nueva dimensión InCabin que nos indica si el pasajero estuvo o no en la cabina"
   ]
  },
  {
   "cell_type": "code",
   "execution_count": 237,
   "metadata": {},
   "outputs": [],
   "source": [
    "# Creamos la nueva dimensión excluyendo el resto de pasajeros con valores nulos. !Ojo¡ son el 78%\n",
    "titanic_list['InCabin'] = ~titanic_list['Cabin'].isnull()"
   ]
  },
  {
   "cell_type": "code",
<<<<<<< HEAD
   "execution_count": 238,
=======
   "execution_count": 45,
>>>>>>> 646b4bbf7e1a8f09bf5a7965002c653771698e99
   "metadata": {},
   "outputs": [
    {
     "data": {
<<<<<<< HEAD
=======
      "image/png": "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\n",
>>>>>>> 646b4bbf7e1a8f09bf5a7965002c653771698e99
      "text/plain": [
       "0       False\n",
       "1        True\n",
       "2       False\n",
       "3        True\n",
       "4       False\n",
       "        ...  \n",
       "1304    False\n",
       "1305     True\n",
       "1306    False\n",
       "1307    False\n",
       "1308    False\n",
       "Name: InCabin, Length: 1309, dtype: bool"
      ]
     },
     "execution_count": 238,
     "metadata": {},
     "output_type": "execute_result"
    }
   ],
   "source": [
    "titanic_list['InCabin']"
   ]
  },
  {
   "cell_type": "code",
   "execution_count": 239,
   "metadata": {},
   "outputs": [
    {
     "data": {
      "text/plain": [
       "<AxesSubplot:xlabel='InCabin', ylabel='Survived'>"
      ]
     },
     "execution_count": 239,
     "metadata": {},
     "output_type": "execute_result"
    },
    {
     "data": {
      "image/png": "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\n",
      "text/plain": [
       "<Figure size 432x288 with 1 Axes>"
      ]
     },
     "metadata": {
      "needs_background": "light"
     },
     "output_type": "display_data"
    }
   ],
   "source": [
    "sns.barplot( data = titanic_list, x='InCabin', y ='Survived')"
   ]
  },
  {
   "cell_type": "markdown",
   "metadata": {},
   "source": [
    "***\n",
<<<<<<< HEAD
=======
    "## `Fare` \n",
>>>>>>> 646b4bbf7e1a8f09bf5a7965002c653771698e99
    "\n",
    "### `Fare per person`"
   ]
  },
  {
   "cell_type": "code",
<<<<<<< HEAD
   "execution_count": 249,
   "metadata": {},
   "outputs": [],
   "source": [
    "titanic_list['Fare_per_Person'] = titanic_list['Fare'] / (titanic_list['FamilySize']+1)"
   ]
  },
  {
   "cell_type": "code",
   "execution_count": 250,
=======
   "execution_count": 46,
>>>>>>> 646b4bbf7e1a8f09bf5a7965002c653771698e99
   "metadata": {},
   "outputs": [
    {
     "data": {
      "text/plain": [
       "count    1309.000000\n",
       "mean        2.095685\n",
       "std         0.986345\n",
       "min         0.000000\n",
       "25%         1.403193\n",
       "50%         2.169054\n",
       "75%         2.442347\n",
       "max         6.240917\n",
       "Name: Fare_per_Person, dtype: float64"
      ]
     },
<<<<<<< HEAD
     "execution_count": 250,
=======
     "execution_count": 46,
>>>>>>> 646b4bbf7e1a8f09bf5a7965002c653771698e99
     "metadata": {},
     "output_type": "execute_result"
    }
   ],
   "source": [
    "titanic_list['Fare_per_Person'].describe()"
   ]
  },
  {
   "cell_type": "code",
<<<<<<< HEAD
   "execution_count": 265,
=======
   "execution_count": 47,
>>>>>>> 646b4bbf7e1a8f09bf5a7965002c653771698e99
   "metadata": {},
   "outputs": [
    {
     "data": {
      "text/plain": [
       "<AxesSubplot:xlabel='FareGroup', ylabel='Fare_per_Person'>"
      ]
     },
<<<<<<< HEAD
     "execution_count": 265,
=======
     "execution_count": 47,
>>>>>>> 646b4bbf7e1a8f09bf5a7965002c653771698e99
     "metadata": {},
     "output_type": "execute_result"
    },
    {
     "data": {
      "image/png": "iVBORw0KGgoAAAANSUhEUgAAAXkAAAEGCAYAAACAd+UpAAAAOXRFWHRTb2Z0d2FyZQBNYXRwbG90bGliIHZlcnNpb24zLjMuMiwgaHR0cHM6Ly9tYXRwbG90bGliLm9yZy8vihELAAAACXBIWXMAAAsTAAALEwEAmpwYAAAakUlEQVR4nO3df5xddX3n8dd7wmACAVOZASFDGGoiCJRKmEZsqYJuKLEWyxYfKlqHht08HluW0CJQdaVWUNxtV2sni0oU7LBCF7SKLBokRVPUqpiQ8CMQklkaYIBIJhBCwpBMMp/945xJZobMzD1z75lz5+T9fDzmMfece3587pmbT773e7/n81VEYGZm5dRQdABmZpYfJ3kzsxJzkjczKzEneTOzEnOSNzMrsYOKDmCwpqamaG1tLToMM7NJZdWqVT0R0by/5+oqybe2trJy5cqiwzAzm1QkPTnSc+6uMTMrMSd5M7MSc5I3MysxJ3kzsxJzkjczKzEneTOzEnOSNzMrsboaJ29mVisdHR10dXWNe//u7m4AWlpaqopj9uzZLF68uKpjVMNJ3sxsP3p7e4sOoSac5M2slKptPQ/s39HRUYtwCuM+eTOzEnOSNzMrMSd5M7MSyz3JS5oh6duS1kl6TNLb8z6nmZklJuKL138A7o6ICyQdDBwyAec0MzNyTvKSXg+8A7gIICJ2AbvyPKeZme2Td3fN8cBm4BuSVkv6uqRDB28gaZGklZJWbt68OedwzMwOLHkn+YOAucBXIuI0YAfw8cEbRMTSiGiLiLbm5v3OXmVmZuOUd5LvBroj4pfp8rdJkr6ZmU2AXJN8RGwCnpZ0Qrrq3cCjeZ7TzMz2mYjRNZcCt6Qja54A/mwCzmlmZkxAko+INUBb3ucxM7PX8h2vZmYl5iRvZlZiTvJmZiXmJG9mVmJO8mZmJeYkb2ZWYk7yZmYl5iRvZlZiTvJmZiXmJG9mVmJO8mZmJeYkb2ZWYk7yZmYl5iRvZlZiTvJmZiXmJG9mVmJO8mZmJeYkb2ZWYk7yZmYl5iRvZlZiTvJmZiXmJG9mVmIH5X0CSRuBl4E9wO6IaMv7nGZmlsg9yafOjoieCTqXmZml3F1jZlZiE5HkA7hH0ipJiybgfGZmlpqI7pozI+IZSUcCyyWti4j7Bp5ME/8igFmzZk1AOGZmB47cW/IR8Uz6+3ngu8C8Yc8vjYi2iGhrbm7OOxwzswNKrkle0qGSDht4DJwDPJLnOc3MbJ+8u2uOAr4raeBct0bE3Tmf08zMUrkm+Yh4AvjtPM9hZmYj8xBKM7MSc5I3MysxJ3kzsxJzkjczKzEneTOzEnOSNzMrMSd5M7MSc5I3MysxJ3kzsxJzkjczKzEneTOzEnOSNzMrMSd5M7MSc5I3MysxJ3kzsxJzkjczK7FMk4ZImkIy29Pe/SLiqVoHZWZmtVFxkpd0KfBp4NdAf7o6gFNziMvMzGogS0v+MuCEiNiSVzBmZlZbWfrknwZeyisQMzOrvSwt+SeAFZK+D+wcWBkRX6x5VGZmVhNZkvxT6c/B6Y+ZmdW5ipN8RHwGQNL0dHl7XkGZmVltVNwnL+kUSauBtcBaSasknVzhvlMkrZZ013gDNTOz7LJ88boUuDwijouI44CPAV+rcN/LgMeyBmdmZtXJkuQPjYgfDyxExArg0LF2ktQC/CHw9czRmZlZVbIk+SckXS2pNf35FMmIm7F8CbiKfTdQDSFpkaSVklZu3rw5QzhmZjaWLEl+IdAMfCf9aUrXjUjSe4HnI2LVSNtExNKIaIuItubm5gzhmJnZWLKMrnkRWAx7a9gcGhHbxtjt94DzJL0HmAocLumbEfGR8QZsZmaVyzK65lZJh0s6FHgYeFTSlaPtExGfiIiWiGgFPgj8yAnezGziZOmuOSltuf8xsAw4HvjTPIIyM7PayJLkGyU1kiT5OyOij6QKZUUiYkVEvDdjfGZmVoUsSf6rwEaSYZP3SToOGKtP3szMClTRF6+SGoBfR8TMQeueAs7OKzAzM6teRS35iOgnGes+eF1ExO5cojIzs5rIUoXyXyRdAdwG7BhYGREv1DwqMzugdXR00NXVVWgMGzZsAGDx4sWFxgEwe/bscceRJcl/IP19yaB1AfzmuM5sZjaCrq4u1q1ZwxsLjGGgm2PrmjUFRgGbqtw/y81Qx1d5LjOzir0RuBgVHUbhbqx8EON+ZbkZ6hBJn5K0NF2ek5YtMDOzOpVlCOU3gF3A76bLzwCfrXlEZmZWM1mS/Jsi4m+BPoCIeAX8WcrMrJ5lSfK7JE0jvctV0psYNKG3mZnVnyyjaz4N3A0cK+kWkgqTF+URlNmBqBbDBru7uwFoaWkZ9zGqGa5n9SdLkl8N/AnwNpJumssioieXqMxsXHp7e4sOwerMmEle0h8BNwG7gT3AByLiZ3kHZnagqUXreeAYHR0dVR/LyqGSPvnPAb8fEUeTtOSvyzckMzOrlUqS/O6IWAcQEb8EDss3JDMzq5VK+uSPlHT5SMsR8cXah2VmZrVQSZL/GkNb78OXzcysTo2Z5CPiM5UcSNInIuLz1YdkZma1kuVmqLG8v4bHMjOzGsgyTn4sLnFgB6x6qH8O9VMD3TdU1Y9aJvnq6mGaTWJdXV2sXrsaZhQcSH/ya/Uzq4uLYWtxp7bXckverFZmQP9Z/UVHUbiGFbXsBbZqVfTXkDRF0l+Osdm3ahCPmZnVUKUTee8BPjTGNq+5E1bSVEn3S3pQ0lpJFY3UMTOz2sjSXfMzSf+L107k/cAo++wE3hUR2yU1Aj+VtCwifjG+cM3MLIssSf6t6e9rBq0L4F0j7RARAWxPFxvTH39Ba2Y2QbJM5H32eE4gaQqwCpgNXJ/Wvxn8/CJgEcCsWbPGcwozMxtBlom8j5J0o6Rl6fJJki4ea7+I2BMRbwVagHmSThn2/NKIaIuItubm5ozhm5nZaLKMdfpH4IfAMenyeuAvKt05IrYCPwbOzXBOMzOrQpYk3xQRt5PebhERA5OIjEhSs6QZ6eNpwHxg3fhCNTOzrLJ88bpD0hHsm8j7DOClMfY5GuhM++UbgNsj4q5xRWpmZpllSfKXA3cCb5L0M6AZuGC0HSLiIeC08YdnZmbVyDK65gFJ7wROIClh8HhE9OUWmZmZVa3iJC9pKvDnwJkkXTY/kfTViHg1r+DMzKw6WbprbgZeBpakyxcC/xvXkT9g1aK8bnd3NwAtLS1VHcelbc32L0uSPyUiThq0/GNJj9Y6IDuw9Pb2Fh2CWallSfIPSDpjoO6MpLcBK/MJyyaDWrScB47R0dFR9bHM7LWyJPnTgX+T9FS6PAt4XNLDJGVqTq15dGZmVpUsSX7UO1Ul/UZEvFhlPDaB6mHKunqZrg7cr2/llGUI5ZOjPS/pAWBu1RHZhOnq6mL9Iw8wa/qoNy7n6uC+5KbrVzf+qrAYAJ7aPqXQ85vlxdP/HeBmTd/Dp9q2j71hyX125fSiQzDLRS0nY3SdeDOzOuMZd83MSqyWSd7dNWZmdSZTkpd0pqQ/Sx83Szp+0NPvrmlkZmZWtSwzQ30a+CvgE+mqRuCbA89HxAu1Dc3MzKqVpSV/PnAesAMgIp4FDssjKDMzq40sSX5XRAT7Jg05NJ+QzMysVrKMk79d0g3ADEn/GVgIfC2fsGwidHd3s+PlKR4jDjz58hQOTStimpVJRUlekoDbgBOBbSQTh/x1RCzPMTYzM6tSRUk+IkLSDyLitwAn9pJoaWlh/dbnC43h168kPYZHHdJfaBxS9TXtzepR1lLDvxMRhRUZWbhwIc8991xVx9i5cyf9/cUmFICGhgZe97rXVXWMo48+mptuumnc+8+ePbuq83d3d1ddD753d7L/rr5pVR1n2rRpVSXpN1P99TCrR1mS/NuAD0t6kmSEjZjgEsNbt25l+45XYEoVJXf6+yGKr8CwJ/rpe3VXFQfYzdatW6uKodqKi54Zyqz+ZcmWf5BbFBVqaWlh84vb6D/kDYXFoFe3ARBTDy8sBoCGV14ovHvBSdWs/mUuNSzpSGBqJftIOpZkbtijSIZeLo2IfxhHnEB9fJx+/PGX2LlzJ2+ZdTyNjY0FRvLGurgeZlbfKk7yks4DvgAcAzwPHAc8Bpw8ym67gY9FxAOSDgNWSVoeEeOaG7YeWo7nn38+vb29zJkzh8svv7zocMxKqbu7m5eBG13clueA7VUM783SXXMtcAbwLxFxmqSzgY+MtkNEPJfGSES8LOkxYCZQ2ATg1fQj9/X1sWXLFgC+973vsWHDhnG35t2HbGYTIUuS74uILZIaJDVExI8lfanSnSW1AqcBv8wYY93YtGnT3scRwaZNmzj22GMLjMisnFpaWtja08PFLm7LjQQzqvj+LUuS3yppOnAfcIuk50nr2Iwl3e+fgb+IiG3DnlsELAKYNWtWhnDGp5rW87nnDp3mtre3l46OjmpDMjPLzZi1ayQNZN73Aa8AfwncDfw/4I8q2L+RJMHfEhHfGf58RCyNiLaIaGtubs4S+4SbP3/+3u6ZxsZGzjnnnIIjMjMbXSUFyu4AiIgdwLciYndEdEZER0RsGW3HtBzCjcBjEfHFqqMtWHt7+97HkoYsm5nVo0qS/OBOsd/MePzfA/4UeJekNenPezIeo240NTUxc+ZMAI455hiOOOKIgiMyMxtdJX3yMcLjsXeM+Cklmhawp6eHZ599FoBnn32WLVu2ONGbWV2rpCX/25K2SXoZODV9vE3Sy5K2jbl3iXR2dhJpSYSIoLOzs+CIzMxGN2aSj4gpEXF4RBwWEQeljweWi723f4ItX76cvr4+IBkzf8899xQckZnZ6DJN5H2g8+gaM5tsnOQzaG9vJxkw5NE1ZjY5OMln0NTUxDHHHAN4dI2ZTQ5O8hn09PTwzDPPAPtG15iZ1TMn+QwGj6bx6Bozmwyc5DPw6Bozm2yc5DPw6Bozm2yqmCz1wNPe3s6yZcuAZCJuj66xAd3d3fASNKxwu4mt0B3jn+TCasvvyAyamppYsGABkliwYIFH15hZ3XNLPqP29nY2btzoVnyNLFy4kK6uLk488USWLl1adDjj1tLSwmZtpv+s/qJDKVzDigZaZhY7ybzt4ySfUVNTE0uWLCk6jNIYmIpx3bp1BUdiVk7urrHCLFy4cMjyokWLCorErLyc5K0wwydUd2verPac5M3MSsxJ3sysxPzFq5nVpU3Ajdkmo6upgcpURQ+U3gTMqGJ/J3kzqzuzZ88uOgQ2b9gAwIw5cwqNYwbVXQ8n+YzWr1/PZZddxpIlS+rijWhWRosXLy46hL0xdHR0FBxJddwnn9FVV13Fjh07uPLKK4sOxcxsTE7yGaxfv54XXngBgC1btrxmCKCZWb1xks/gqquuGrLs1ryZ1btck7ykmyQ9L+mRPM8zUQZa8QM8M5SZ1bu8W/L/CJyb8zlskjrkkENGXTaz6uU6uiYi7pPUmuc5bPK65ppruOKKK/Yuf+5znyswmhrYWgf15Lenv6cXGMNWYGaB57chCh9CKWkRsAhg1qxZBUdjE2nevHlDlk8//fSCIqlevQyn3ZCO7Z4zs8Cx3TPr53pYHST5iFgKLAVoa2sr7va2CkybNo3e3t4hyzZ+N9xww5DlG2+8kYsvvrigaKpTD+O6oTxju612PLomg2uvvXbI8nXXXVdQJOVwyy23DFnu7OwsKBKz8nKSz2DevHl7W+/Tpk2b1N0LZnZgyHsI5T8BPwdOkNQtaXJ+Fh/k2muvpaGhwa14M5sU8h5d86E8j29mZqNzd01GV199Nf39/Xzyk58sOhQzszE5yWdw//337x1d09vby6pVqwqOyMxsdE7yGVx99dVDlt2aN7N65ySfweAx8vtbNjOrN07yVpipU6eOumxm1XOSz2D4Ha6+47U6p5122pDluXPnFhSJWXk5yWfgO15r68EHHxyyvGbNmmICMSsxJ/kMfMdrbc2fP5+GhuQt2NDQwDnnnFNwRGbl4ySfke94rZ329nYOOii5H6+xsZH29vaCIzIrn8KrUE428+bNY8WKFUWHUQpNTU0sWLCAO++8kwULFnDEEUcUHVKhOjo6qp43eKDUcDVVMWfPnl03VTWtek7yVqj29nY2btzoVnyNeDCADeckb4VqampiyZIlRYdRF9x6tjy4Tz6jnp4eLr30Uk/iXSO+nmb5cks+o87OTh566CE6Ozu5/PLLiw5n0vP1tLxU+x1HLb7fgOK/43BLPoOenh6WLVtGRLBs2TK3Pqvk62n1bNq0aaX4jsMt+Qw6OzuJSKah7e/vd+uzSr6elid/x5FwSz6D5cuX09fXB0BfXx/33HNPwRFNbr6eZvlzks9g/vz5NDY2AsnNO75Dszq+nmb5c5LPoL29HUlAchu+x3ZXx9fTLH9O8hkM3KEpyXdo1oCvp1n+/MVrRr5Ds7Z8Pc3ypYHRDfWgra0tVq5cWXQYZmaTiqRVEdG2v+fcks/owgsvpLu7m9bWVm6++eaiwzEzG1XuffKSzpX0uKQuSR/P+3x56+7uBmDjxo3FBmJmVoFck7ykKcD1wALgJOBDkk7K85x5uvDCC4csf/SjHy0oEjOzyuTdkp8HdEXEExGxC/g/wPtyPmduBlrxA9yaN7N6l3eSnwk8PWi5O123l6RFklZKWrl58+acwzEzO7AUPk4+IpZGRFtEtDU3NxcdjplZqeSd5J8Bjh203JKum5RaWlqGLLe2thYTiJlZhfJO8r8C5kg6XtLBwAeBO3M+Z25uvfXWIcseQmlm9S7XJB8Ru4H/CvwQeAy4PSLW5nnOvA205t2KN7PJIPeboSLiB8AP8j7PRBnemjczq2eFf/FqZmb5cZI3MysxJ3kzsxJzkjczK7G6KjUsaTPwZNFxVKAJ6Ck6iBLx9awtX8/amSzX8riI2O/dpHWV5CcLSStHqt1s2fl61pavZ+2U4Vq6u8bMrMSc5M3MSsxJfnyWFh1Ayfh61pavZ+1M+mvpPnkzsxJzS97MrMSc5M3MSsxJHpC0R9IaSQ9KekDS747zOF+fzHPYjletrp+9lqT/JmmtpIfSa/y2we8zSRslNRUd52Qj6ShJt0p6QtIqST+XdP4o258l6a4Rnqvrv0HuVSgnid6IeCuApD8APg+8M+tBIuI/1TiuyWLM6yfpoLT0tFVI0tuB9wJzI2JnmkgOrvX7TJJIvp/rr+Vx61X6eu8AOiPiwnTdccB5RcaVF7fkX+tw4EUASdMl3Zu2Th+W9L50/aGSvp+2XB+R9IF0/QpJbenjc9P9HpR0b2GvZuINvn5nSfqJpDuBRyVNlfSN9FqulnR2ut1Fkr4j6W5JGyT9bbr+vLT1ukbS45L+PV1/uqR/TVtgP5R0dFEvNmdHAz0RsRMgInoi4tnB77MBkv67pEsGLf+NpCvSx1dK+lX6aeAz6brW9JreDDzC0Bncyu5dwK6I+OrAioh4MiKWjPQeHUzSEZLuST9hfR3QRAafWUQc8D/AHmANsA54CTg9XX8QcHj6uAnoIvmD/gnwtUH7vz79vQJoA5pJJjA/Pl3/hqJfY0HX7yxgx6Dr8DHgpvTxicBTwFTgIuAJ4PXp8pPAscPOcTtwCdAI/BvQnK7/wMAxy/YDTE+v63rgy8A7B7/P0scb0/fmacC/Dtr3UZLEfQ7JMECRNOruAt4BtAL9wBlFv84Cruti4O9HeG6k9+hZwF3p+g7gr9PHfwgE0FT06xrpx901icHdDW8HbpZ0Csk/jOskvYPkH8RM4CjgYeALkv4HyR/+J8OOdwZwX0T8O0BEvDAxL6MwI10/gPsHrgNwJrAEICLWSXoSeHP63L0R8VJ6jEeB40j+o0TSVek5rk+PewqwPPnUzRTguZxfXyEiYruk04HfB84GbpP08RG2XS3pSEnHkDQyXoyIpyVdRpLoV6ebTgfmkCSvJyPiF7m/kDon6XqS9+YuoJuR36MD3gH8x3Sb70t6cQLDzcxJfpiI+Hna99kMvCf9fXpE9EnaCEyNiPWS5qbPf1bSvRFxTXFR149h1w+Slnwldg56vIf0vSnpPwDvJ/mHBcl/vGsj4u01CLfuRcQekpb7CkkPA+2jbP4t4ALgjcBt6ToBn4+IGwZvKKmVyv82ZbOW5NM4ABFxSfqeXUmS5EvFffLDSDqRpHW4haT74Pk0wZ9N0rokbS29EhHfBP4OmDvsML8A3iHp+HT7N0xU/EUbdv2G+wnw4XS7NwOzgMdHOdZxwPXA+yOiN139ONCcfmJAUqOkk2v3CuqHpBMkzRm06q2MXqX1NuCDJIn+W+m6HwILJU1PjzlT0pE5hDuZ/AiYKum/DFp3SPq7kvfofcDAF7YLgN/INdoquSWfmCZpTfpYQHtE7JF0C/B/0xbUSpI+Z4DfAv5OUj/QBwx+sxARmyUtAr4jqQF4Hpg/Aa+jKCNdv+HbfRn4Sno9dwMXRTJqZKTjXgQcAdyRbvNsRLxH0gVAh6TXk7yHv0TSOiub6cASSTNIrlcXsAj49v42joi1kg4DnomI59J190h6C/Dz9BpuBz5C8mnpgBQRIemPgb9PuwI3k3yq+Svge4z9Hv0M8E+S1pJ8P/TURMaflcsamJmVmLtrzMxKzEnezKzEnOTNzErMSd7MrMSc5M3MSsxJ3kpB+yphDvy01uCYmSoVmtUjj5O3sthbWqFS0sjVF9Pn7qCCSoVyhU2rY27JWylp5Aqir6m+uL8qjYxSqTA9zkWS7pT0I+BeSW+QdEd6jF9IOjXdbm81yHT5kTSGVknrJN0i6TFJ35Y0cNelWc04yVtZTBvUVfNd4FXg/IiYS1Lc6wvad9viHODLEXEycEK6PI+kbMDpaUG6k4EHxjjnXOCCiHgnyV2QqyPiVOCTwM0VxHxCGsdbgG3An1f+cs0q4+4aK4sh3TWSGtl/BVEYWn3xHPZfpXGIwZUKI+J30tXLB1UYPZO06FVE/EhJzfHDx4j56Yj4Wfr4myQlcP9nJS/WrFJO8lZWH2Y/FUTT5wZXXxypSuO7GblS4YBKqjjuZugn5qmDHg+vKeIaI1Zz7q6xstpvBdH9GKlK42iVCvdncPXCs0hmdNpGMqnH3HT9XOD4QfvMGqimSVLV8KcVvzqzCrklb2U1UgXRIUaq0hgRz49SqXB//ga4SdJDwCvsq/v+z8BH04qFvySZ5WnA48Alkm4imcnpK+N8rWYjchVKswKk4/jviohTxtrWrBrurjEzKzG35M3MSswteTOzEnOSNzMrMSd5M7MSc5I3MysxJ3kzsxL7/1+7lo33hKAxAAAAAElFTkSuQmCC\n",
      "text/plain": [
       "<Figure size 432x288 with 1 Axes>"
      ]
     },
     "metadata": {
      "needs_background": "light"
     },
     "output_type": "display_data"
    }
   ],
   "source": [
    "sns.boxplot(data=titanic_list, x= 'FareGroup', y = 'Fare_per_Person')"
   ]
  },
  {
   "cell_type": "code",
<<<<<<< HEAD
   "execution_count": 277,
=======
   "execution_count": 48,
>>>>>>> 646b4bbf7e1a8f09bf5a7965002c653771698e99
   "metadata": {},
   "outputs": [
    {
     "data": {
      "text/plain": [
       "<seaborn.axisgrid.FacetGrid at 0x2691f688>"
      ]
     },
<<<<<<< HEAD
     "execution_count": 277,
=======
     "execution_count": 48,
>>>>>>> 646b4bbf7e1a8f09bf5a7965002c653771698e99
     "metadata": {},
     "output_type": "execute_result"
    },
    {
     "data": {
      "image/png": "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\n",
      "text/plain": [
       "<Figure size 1510.38x360 with 4 Axes>"
      ]
     },
     "metadata": {
      "needs_background": "light"
     },
     "output_type": "display_data"
    }
   ],
   "source": [
<<<<<<< HEAD
    "sns.relplot(data=titanic_list, x= 'FamilySize', y = 'Fare_per_Person',hue='FareGroup',col='FareGroup',kind='scatter')"
=======
    "titanic_list['Fare'].isna().sum()"
   ]
  },
  {
   "cell_type": "code",
   "execution_count": 49,
   "metadata": {},
   "outputs": [
    {
     "data": {
      "text/plain": [
       "0         7.2500\n",
       "1        71.2833\n",
       "2         7.9250\n",
       "3        53.1000\n",
       "4         8.0500\n",
       "5         8.4583\n",
       "6        51.8625\n",
       "7        21.0750\n",
       "8        11.1333\n",
       "9        30.0708\n",
       "10       16.7000\n",
       "11       26.5500\n",
       "12        8.0500\n",
       "13       31.2750\n",
       "14        7.8542\n",
       "15       16.0000\n",
       "16       29.1250\n",
       "17       13.0000\n",
       "18       18.0000\n",
       "19        7.2250\n",
       "20       26.0000\n",
       "21       13.0000\n",
       "22        8.0292\n",
       "23       35.5000\n",
       "24       21.0750\n",
       "25       31.3875\n",
       "26        7.2250\n",
       "27      263.0000\n",
       "28        7.8792\n",
       "29        7.8958\n",
       "          ...   \n",
       "1279      7.7500\n",
       "1280     21.0750\n",
       "1281     93.5000\n",
       "1282     39.4000\n",
       "1283     20.2500\n",
       "1284     10.5000\n",
       "1285     22.0250\n",
       "1286     60.0000\n",
       "1287      7.2500\n",
       "1288     79.2000\n",
       "1289      7.7750\n",
       "1290      7.7333\n",
       "1291    164.8667\n",
       "1292     21.0000\n",
       "1293     59.4000\n",
       "1294     47.1000\n",
       "1295     27.7208\n",
       "1296     13.8625\n",
       "1297     10.5000\n",
       "1298    211.5000\n",
       "1299      7.7208\n",
       "1300     13.7750\n",
       "1301      7.7500\n",
       "1302     90.0000\n",
       "1303      7.7750\n",
       "1304      8.0500\n",
       "1305    108.9000\n",
       "1306      7.2500\n",
       "1307      8.0500\n",
       "1308     22.3583\n",
       "Name: Fare, Length: 1309, dtype: float64"
      ]
     },
     "execution_count": 49,
     "metadata": {},
     "output_type": "execute_result"
    }
   ],
   "source": [
    "# Tratamos los valorse nulos \n",
    "# Doing same steps before for the second dataset\n",
    "s = titanic_list['Fare'].value_counts(normalize=True)\n",
    "missing = titanic_list['Fare'].isnull()\n",
    "titanic_list.loc[missing,'Fare'] = np.random.choice(s.index, size=len(titanic_list[missing]),\n",
    "                                                      p=s.values).astype(int)\n",
    "titanic_list['Fare']"
>>>>>>> 646b4bbf7e1a8f09bf5a7965002c653771698e99
   ]
  },
  {
   "cell_type": "code",
<<<<<<< HEAD
   "execution_count": 251,
   "metadata": {},
   "outputs": [
    {
     "data": {
=======
   "execution_count": 50,
   "metadata": {},
   "outputs": [
    {
     "data": {
      "text/plain": [
       "<matplotlib.axes._subplots.AxesSubplot at 0x7fc897f986d8>"
      ]
     },
     "execution_count": 50,
     "metadata": {},
     "output_type": "execute_result"
    },
    {
     "data": {
      "image/png": "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\n",
>>>>>>> 646b4bbf7e1a8f09bf5a7965002c653771698e99
      "text/plain": [
       "Index(['Survived', 'Pclass', 'Name', 'Sex', 'Age', 'SibSp', 'Parch', 'Fare',\n",
       "       'Cabin', 'Embarked', 'TitleName', 'AgeGroup', 'FamilySize', 'IsAlone',\n",
       "       'FareGroup', 'InCabin', 'Fare_per_Person'],\n",
       "      dtype='object')"
      ]
     },
     "execution_count": 251,
     "metadata": {},
     "output_type": "execute_result"
    }
   ],
   "source": [
    "titanic_list.column"
   ]
  },
  {
   "cell_type": "markdown",
   "metadata": {},
   "source": [
    "# Save 1s stage EDA"
   ]
  },
  {
   "cell_type": "code",
<<<<<<< HEAD
   "execution_count": 255,
=======
   "execution_count": 52,
>>>>>>> 646b4bbf7e1a8f09bf5a7965002c653771698e99
   "metadata": {},
   "outputs": [
    {
     "data": {
      "text/plain": [
       "<matplotlib.axes._subplots.AxesSubplot at 0x7fc895dd03c8>"
      ]
     },
     "execution_count": 52,
     "metadata": {},
     "output_type": "execute_result"
    },
    {
     "data": {
      "image/png": "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\n",
      "text/plain": [
       "<Figure size 432x288 with 1 Axes>"
      ]
     },
     "metadata": {
      "needs_background": "light"
     },
     "output_type": "display_data"
    }
   ],
   "source": [
    "titanic_list.to_csv('titanic_list.csv', index = False)"
   ]
  },
  {
   "cell_type": "markdown",
   "metadata": {},
   "source": [
    "## `Cabin`"
   ]
  },
  {
   "cell_type": "code",
   "execution_count": 53,
   "metadata": {},
   "outputs": [
    {
     "data": {
      "text/plain": [
       "array([nan, 'C85', 'C123', 'E46', 'G6', 'C103', 'D56', 'A6',\n",
       "       'C23 C25 C27', 'B78', 'D33', 'B30', 'C52', 'B28', 'C83', 'F33',\n",
       "       'F G73', 'E31', 'A5', 'D10 D12', 'D26', 'C110', 'B58 B60', 'E101',\n",
       "       'F E69', 'D47', 'B86', 'F2', 'C2', 'E33', 'B19', 'A7', 'C49', 'F4',\n",
       "       'A32', 'B4', 'B80', 'A31', 'D36', 'D15', 'C93', 'C78', 'D35',\n",
       "       'C87', 'B77', 'E67', 'B94', 'C125', 'C99', 'C118', 'D7', 'A19',\n",
       "       'B49', 'D', 'C22 C26', 'C106', 'C65', 'E36', 'C54',\n",
       "       'B57 B59 B63 B66', 'C7', 'E34', 'C32', 'B18', 'C124', 'C91', 'E40',\n",
       "       'T', 'C128', 'D37', 'B35', 'E50', 'C82', 'B96 B98', 'E10', 'E44',\n",
       "       'A34', 'C104', 'C111', 'C92', 'E38', 'D21', 'E12', 'E63', 'A14',\n",
       "       'B37', 'C30', 'D20', 'B79', 'E25', 'D46', 'B73', 'C95', 'B38',\n",
       "       'B39', 'B22', 'C86', 'C70', 'A16', 'C101', 'C68', 'A10', 'E68',\n",
       "       'B41', 'A20', 'D19', 'D50', 'D9', 'A23', 'B50', 'A26', 'D48',\n",
       "       'E58', 'C126', 'B71', 'B51 B53 B55', 'D49', 'B5', 'B20', 'F G63',\n",
       "       'C62 C64', 'E24', 'C90', 'C45', 'E8', 'B101', 'D45', 'C46', 'D30',\n",
       "       'E121', 'D11', 'E77', 'F38', 'B3', 'D6', 'B82 B84', 'D17', 'A36',\n",
       "       'B102', 'B69', 'E49', 'C47', 'D28', 'E17', 'A24', 'C50', 'B42',\n",
       "       'C148', 'B45', 'B36', 'A21', 'D34', 'A9', 'C31', 'B61', 'C53',\n",
       "       'D43', 'C130', 'C132', 'C55 C57', 'C116', 'F', 'A29', 'C6', 'C28',\n",
       "       'C51', 'C97', 'D22', 'B10', 'E45', 'E52', 'A11', 'B11', 'C80',\n",
       "       'C89', 'F E46', 'B26', 'F E57', 'A18', 'E60', 'E39 E41',\n",
       "       'B52 B54 B56', 'C39', 'B24', 'D40', 'D38', 'C105'], dtype=object)"
      ]
     },
     "execution_count": 53,
     "metadata": {},
     "output_type": "execute_result"
    }
   ],
   "source": [
    "pd.unique(titanic_list.Cabin)"
   ]
  },
  {
   "cell_type": "code",
   "execution_count": 54,
   "metadata": {},
   "outputs": [
    {
     "name": "stdout",
     "output_type": "stream",
     "text": [
      "B37            1\n",
      "D45            1\n",
      "C22 C26        4\n",
      "B35            2\n",
      "C104           1\n",
      "D46            1\n",
      "B18            2\n",
      "B20            2\n",
      "E10            1\n",
      "B50            1\n",
      "B30            1\n",
      "E121           2\n",
      "C62 C64        2\n",
      "C106           2\n",
      "E36            1\n",
      "C83            2\n",
      "E39 E41        1\n",
      "F33            4\n",
      "D34            1\n",
      "A16            1\n",
      "F E46          1\n",
      "E17            1\n",
      "B80            1\n",
      "F2             4\n",
      "E25            2\n",
      "B69            2\n",
      "A20            1\n",
      "D11            1\n",
      "A24            1\n",
      "C82            1\n",
      "              ..\n",
      "C6             2\n",
      "B51 B53 B55    3\n",
      "B96 B98        4\n",
      "B82 B84        1\n",
      "D30            2\n",
      "C39            1\n",
      "A14            1\n",
      "E50            2\n",
      "A18            1\n",
      "C46            2\n",
      "B102           1\n",
      "A23            1\n",
      "E67            2\n",
      "C65            2\n",
      "C23 C25 C27    6\n",
      "B58 B60        3\n",
      "C101           3\n",
      "C31            2\n",
      "C105           1\n",
      "C116           2\n",
      "G6             5\n",
      "C89            2\n",
      "B19            1\n",
      "F              1\n",
      "B5             2\n",
      "D40            1\n",
      "C111           1\n",
      "C53            1\n",
      "B77            2\n",
      "C86            2\n",
      "Name: Cabin, Length: 186, dtype: int64\n",
      "B37            0.003390\n",
      "D45            0.003390\n",
      "C22 C26        0.013559\n",
      "B35            0.006780\n",
      "C104           0.003390\n",
      "D46            0.003390\n",
      "B18            0.006780\n",
      "B20            0.006780\n",
      "E10            0.003390\n",
      "B50            0.003390\n",
      "B30            0.003390\n",
      "E121           0.006780\n",
      "C62 C64        0.006780\n",
      "C106           0.006780\n",
      "E36            0.003390\n",
      "C83            0.006780\n",
      "E39 E41        0.003390\n",
      "F33            0.013559\n",
      "D34            0.003390\n",
      "A16            0.003390\n",
      "F E46          0.003390\n",
      "E17            0.003390\n",
      "B80            0.003390\n",
      "F2             0.013559\n",
      "E25            0.006780\n",
      "B69            0.006780\n",
      "A20            0.003390\n",
      "D11            0.003390\n",
      "A24            0.003390\n",
      "C82            0.003390\n",
      "                 ...   \n",
      "C6             0.006780\n",
      "B51 B53 B55    0.010169\n",
      "B96 B98        0.013559\n",
      "B82 B84        0.003390\n",
      "D30            0.006780\n",
      "C39            0.003390\n",
      "A14            0.003390\n",
      "E50            0.006780\n",
      "A18            0.003390\n",
      "C46            0.006780\n",
      "B102           0.003390\n",
      "A23            0.003390\n",
      "E67            0.006780\n",
      "C65            0.006780\n",
      "C23 C25 C27    0.020339\n",
      "B58 B60        0.010169\n",
      "C101           0.010169\n",
      "C31            0.006780\n",
      "C105           0.003390\n",
      "C116           0.006780\n",
      "G6             0.016949\n",
      "C89            0.006780\n",
      "B19            0.003390\n",
      "F              0.003390\n",
      "B5             0.006780\n",
      "D40            0.003390\n",
      "C111           0.003390\n",
      "C53            0.003390\n",
      "B77            0.006780\n",
      "C86            0.006780\n",
      "Name: Cabin, Length: 186, dtype: float64\n"
     ]
    },
    {
     "data": {
      "text/plain": [
       "Text(0.5, 1.0, 'Survive v/s Cabin')"
      ]
     },
     "execution_count": 54,
     "metadata": {},
     "output_type": "execute_result"
    },
    {
     "data": {
      "image/png": "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\n",
      "text/plain": [
       "<Figure size 432x288 with 1 Axes>"
      ]
     },
     "metadata": {
      "needs_background": "light"
     },
     "output_type": "display_data"
    },
    {
     "data": {
      "image/png": "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\n",
      "text/plain": [
       "<Figure size 360x360 with 1 Axes>"
      ]
     },
     "metadata": {
      "needs_background": "light"
     },
     "output_type": "display_data"
    }
   ],
   "source": [
    "# Printing counts and percentage of male and female\n",
    "print(titanic_list['Cabin'].value_counts(sort=False))\n",
    "print(titanic_list['Cabin'].value_counts(sort=False,normalize=True))\n",
    "\n",
    "# Making variable  categorical \n",
    "#sub['SEX'] = sub['SEX'].astype('category')\n",
    "\n",
    "# Visualising counts of Gender with bar graph\n",
    "sns.countplot(x=\"Cabin\", data=titanic_list);\n",
    "plt.xlabel('Cabin')\n",
    "plt.ylabel('Frequency')\n",
    "plt.title('Count of Gender')\n",
    "\n",
    "# Showing proportion of survival for different type of gender\n",
    "sns.catplot(x=\"Cabin\", y=\"Survived\", data=titanic_list, kind=\"bar\", ci=None)\n",
    "plt.xlabel('Cabin')\n",
    "plt.ylabel('Survive Percentage')\n",
    "plt.title('Survive v/s Cabin')"
   ]
  },
  {
   "cell_type": "markdown",
   "metadata": {},
   "source": [
    "Dejamos por el momento la variable `Cabin`"
   ]
  },
  {
   "cell_type": "markdown",
   "metadata": {},
   "source": [
    "## `Name`\n",
    "\n",
    "Variable categórica tenemos Mr. Miss o Master."
   ]
  },
  {
   "cell_type": "code",
   "execution_count": 55,
   "metadata": {},
   "outputs": [
    {
     "data": {
      "text/plain": [
       "0                              Braund, Mr. Owen Harris\n",
       "1    Cumings, Mrs. John Bradley (Florence Briggs Th...\n",
       "2                               Heikkinen, Miss. Laina\n",
       "3         Futrelle, Mrs. Jacques Heath (Lily May Peel)\n",
       "4                             Allen, Mr. William Henry\n",
       "5                                     Moran, Mr. James\n",
       "6                              McCarthy, Mr. Timothy J\n",
       "7                       Palsson, Master. Gosta Leonard\n",
       "8    Johnson, Mrs. Oscar W (Elisabeth Vilhelmina Berg)\n",
       "9                  Nasser, Mrs. Nicholas (Adele Achem)\n",
       "Name: Name, dtype: object"
      ]
     },
     "execution_count": 55,
     "metadata": {},
     "output_type": "execute_result"
    }
   ],
   "source": [
    "# check\n",
    "titanic_list['Name'].head(10)"
   ]
  },
  {
   "cell_type": "code",
   "execution_count": 59,
   "metadata": {},
   "outputs": [
    {
     "data": {
      "text/plain": [
       "23"
      ]
     },
     "execution_count": 59,
     "metadata": {},
     "output_type": "execute_result"
    }
   ],
   "source": [
    "len(titanic_list['Name'][0])"
   ]
  },
  {
   "cell_type": "code",
   "execution_count": 58,
   "metadata": {},
   "outputs": [
    {
     "name": "stdout",
     "output_type": "stream",
     "text": [
      "Help on module re:\n",
      "\n",
      "NAME\n",
      "    re - Support for regular expressions (RE).\n",
      "\n",
      "MODULE REFERENCE\n",
      "    https://docs.python.org/3.7/library/re\n",
      "    \n",
      "    The following documentation is automatically generated from the Python\n",
      "    source files.  It may be incomplete, incorrect or include features that\n",
      "    are considered implementation detail and may vary between Python\n",
      "    implementations.  When in doubt, consult the module reference at the\n",
      "    location listed above.\n",
      "\n",
      "DESCRIPTION\n",
      "    This module provides regular expression matching operations similar to\n",
      "    those found in Perl.  It supports both 8-bit and Unicode strings; both\n",
      "    the pattern and the strings being processed can contain null bytes and\n",
      "    characters outside the US ASCII range.\n",
      "    \n",
      "    Regular expressions can contain both special and ordinary characters.\n",
      "    Most ordinary characters, like \"A\", \"a\", or \"0\", are the simplest\n",
      "    regular expressions; they simply match themselves.  You can\n",
      "    concatenate ordinary characters, so last matches the string 'last'.\n",
      "    \n",
      "    The special characters are:\n",
      "        \".\"      Matches any character except a newline.\n",
      "        \"^\"      Matches the start of the string.\n",
      "        \"$\"      Matches the end of the string or just before the newline at\n",
      "                 the end of the string.\n",
      "        \"*\"      Matches 0 or more (greedy) repetitions of the preceding RE.\n",
      "                 Greedy means that it will match as many repetitions as possible.\n",
      "        \"+\"      Matches 1 or more (greedy) repetitions of the preceding RE.\n",
      "        \"?\"      Matches 0 or 1 (greedy) of the preceding RE.\n",
      "        *?,+?,?? Non-greedy versions of the previous three special characters.\n",
      "        {m,n}    Matches from m to n repetitions of the preceding RE.\n",
      "        {m,n}?   Non-greedy version of the above.\n",
      "        \"\\\\\"     Either escapes special characters or signals a special sequence.\n",
      "        []       Indicates a set of characters.\n",
      "                 A \"^\" as the first character indicates a complementing set.\n",
      "        \"|\"      A|B, creates an RE that will match either A or B.\n",
      "        (...)    Matches the RE inside the parentheses.\n",
      "                 The contents can be retrieved or matched later in the string.\n",
      "        (?aiLmsux) Set the A, I, L, M, S, U, or X flag for the RE (see below).\n",
      "        (?:...)  Non-grouping version of regular parentheses.\n",
      "        (?P<name>...) The substring matched by the group is accessible by name.\n",
      "        (?P=name)     Matches the text matched earlier by the group named name.\n",
      "        (?#...)  A comment; ignored.\n",
      "        (?=...)  Matches if ... matches next, but doesn't consume the string.\n",
      "        (?!...)  Matches if ... doesn't match next.\n",
      "        (?<=...) Matches if preceded by ... (must be fixed length).\n",
      "        (?<!...) Matches if not preceded by ... (must be fixed length).\n",
      "        (?(id/name)yes|no) Matches yes pattern if the group with id/name matched,\n",
      "                           the (optional) no pattern otherwise.\n",
      "    \n",
      "    The special sequences consist of \"\\\\\" and a character from the list\n",
      "    below.  If the ordinary character is not on the list, then the\n",
      "    resulting RE will match the second character.\n",
      "        \\number  Matches the contents of the group of the same number.\n",
      "        \\A       Matches only at the start of the string.\n",
      "        \\Z       Matches only at the end of the string.\n",
      "        \\b       Matches the empty string, but only at the start or end of a word.\n",
      "        \\B       Matches the empty string, but not at the start or end of a word.\n",
      "        \\d       Matches any decimal digit; equivalent to the set [0-9] in\n",
      "                 bytes patterns or string patterns with the ASCII flag.\n",
      "                 In string patterns without the ASCII flag, it will match the whole\n",
      "                 range of Unicode digits.\n",
      "        \\D       Matches any non-digit character; equivalent to [^\\d].\n",
      "        \\s       Matches any whitespace character; equivalent to [ \\t\\n\\r\\f\\v] in\n",
      "                 bytes patterns or string patterns with the ASCII flag.\n",
      "                 In string patterns without the ASCII flag, it will match the whole\n",
      "                 range of Unicode whitespace characters.\n",
      "        \\S       Matches any non-whitespace character; equivalent to [^\\s].\n",
      "        \\w       Matches any alphanumeric character; equivalent to [a-zA-Z0-9_]\n",
      "                 in bytes patterns or string patterns with the ASCII flag.\n",
      "                 In string patterns without the ASCII flag, it will match the\n",
      "                 range of Unicode alphanumeric characters (letters plus digits\n",
      "                 plus underscore).\n",
      "                 With LOCALE, it will match the set [0-9_] plus characters defined\n",
      "                 as letters for the current locale.\n",
      "        \\W       Matches the complement of \\w.\n",
      "        \\\\       Matches a literal backslash.\n",
      "    \n",
      "    This module exports the following functions:\n",
      "        match     Match a regular expression pattern to the beginning of a string.\n",
      "        fullmatch Match a regular expression pattern to all of a string.\n",
      "        search    Search a string for the presence of a pattern.\n",
      "        sub       Substitute occurrences of a pattern found in a string.\n",
      "        subn      Same as sub, but also return the number of substitutions made.\n",
      "        split     Split a string by the occurrences of a pattern.\n",
      "        findall   Find all occurrences of a pattern in a string.\n",
      "        finditer  Return an iterator yielding a Match object for each match.\n",
      "        compile   Compile a pattern into a Pattern object.\n",
      "        purge     Clear the regular expression cache.\n",
      "        escape    Backslash all non-alphanumerics in a string.\n",
      "    \n",
      "    Some of the functions in this module takes flags as optional parameters:\n",
      "        A  ASCII       For string patterns, make \\w, \\W, \\b, \\B, \\d, \\D\n",
      "                       match the corresponding ASCII character categories\n",
      "                       (rather than the whole Unicode categories, which is the\n",
      "                       default).\n",
      "                       For bytes patterns, this flag is the only available\n",
      "                       behaviour and needn't be specified.\n",
      "        I  IGNORECASE  Perform case-insensitive matching.\n",
      "        L  LOCALE      Make \\w, \\W, \\b, \\B, dependent on the current locale.\n",
      "        M  MULTILINE   \"^\" matches the beginning of lines (after a newline)\n",
      "                       as well as the string.\n",
      "                       \"$\" matches the end of lines (before a newline) as well\n",
      "                       as the end of the string.\n",
      "        S  DOTALL      \".\" matches any character at all, including the newline.\n",
      "        X  VERBOSE     Ignore whitespace and comments for nicer looking RE's.\n",
      "        U  UNICODE     For compatibility only. Ignored for string patterns (it\n",
      "                       is the default), and forbidden for bytes patterns.\n",
      "    \n",
      "    This module also defines an exception 'error'.\n",
      "\n",
      "CLASSES\n",
      "    builtins.Exception(builtins.BaseException)\n",
      "        error\n",
      "    builtins.object\n",
      "        Match\n",
      "        Pattern\n",
      "    \n",
      "    class Match(builtins.object)\n",
      "     |  The result of re.match() and re.search().\n",
      "     |  Match objects always have a boolean value of True.\n",
      "     |  \n",
      "     |  Methods defined here:\n",
      "     |  \n",
      "     |  __copy__(self, /)\n",
      "     |  \n",
      "     |  __deepcopy__(self, memo, /)\n",
      "     |  \n",
      "     |  __getitem__(self, key, /)\n",
      "     |      Return self[key].\n",
      "     |  \n",
      "     |  __repr__(self, /)\n",
      "     |      Return repr(self).\n",
      "     |  \n",
      "     |  end(self, group=0, /)\n",
      "     |      Return index of the end of the substring matched by group.\n",
      "     |  \n",
      "     |  expand(self, /, template)\n",
      "     |      Return the string obtained by doing backslash substitution on the string template, as done by the sub() method.\n",
      "     |  \n",
      "     |  group(...)\n",
      "     |      group([group1, ...]) -> str or tuple.\n",
      "     |      Return subgroup(s) of the match by indices or names.\n",
      "     |      For 0 returns the entire match.\n",
      "     |  \n",
      "     |  groupdict(self, /, default=None)\n",
      "     |      Return a dictionary containing all the named subgroups of the match, keyed by the subgroup name.\n",
      "     |      \n",
      "     |      default\n",
      "     |        Is used for groups that did not participate in the match.\n",
      "     |  \n",
      "     |  groups(self, /, default=None)\n",
      "     |      Return a tuple containing all the subgroups of the match, from 1.\n",
      "     |      \n",
      "     |      default\n",
      "     |        Is used for groups that did not participate in the match.\n",
      "     |  \n",
      "     |  span(self, group=0, /)\n",
      "     |      For match object m, return the 2-tuple (m.start(group), m.end(group)).\n",
      "     |  \n",
      "     |  start(self, group=0, /)\n",
      "     |      Return index of the start of the substring matched by group.\n",
      "     |  \n",
      "     |  ----------------------------------------------------------------------\n",
      "     |  Data descriptors defined here:\n",
      "     |  \n",
      "     |  endpos\n",
      "     |      The index into the string beyond which the RE engine will not go.\n",
      "     |  \n",
      "     |  lastgroup\n",
      "     |      The name of the last matched capturing group.\n",
      "     |  \n",
      "     |  lastindex\n",
      "     |      The integer index of the last matched capturing group.\n",
      "     |  \n",
      "     |  pos\n",
      "     |      The index into the string at which the RE engine started looking for a match.\n",
      "     |  \n",
      "     |  re\n",
      "     |      The regular expression object.\n",
      "     |  \n",
      "     |  regs\n",
      "     |  \n",
      "     |  string\n",
      "     |      The string passed to match() or search().\n",
      "    \n",
      "    class Pattern(builtins.object)\n",
      "     |  Compiled regular expression object.\n",
      "     |  \n",
      "     |  Methods defined here:\n",
      "     |  \n",
      "     |  __copy__(self, /)\n",
      "     |  \n",
      "     |  __deepcopy__(self, memo, /)\n",
      "     |  \n",
      "     |  __eq__(self, value, /)\n",
      "     |      Return self==value.\n",
      "     |  \n",
      "     |  __ge__(self, value, /)\n",
      "     |      Return self>=value.\n",
      "     |  \n",
      "     |  __gt__(self, value, /)\n",
      "     |      Return self>value.\n",
      "     |  \n",
      "     |  __hash__(self, /)\n",
      "     |      Return hash(self).\n",
      "     |  \n",
      "     |  __le__(self, value, /)\n",
      "     |      Return self<=value.\n",
      "     |  \n",
      "     |  __lt__(self, value, /)\n",
      "     |      Return self<value.\n",
      "     |  \n",
      "     |  __ne__(self, value, /)\n",
      "     |      Return self!=value.\n",
      "     |  \n",
      "     |  __repr__(self, /)\n",
      "     |      Return repr(self).\n",
      "     |  \n",
      "     |  findall(self, /, string, pos=0, endpos=9223372036854775807)\n",
      "     |      Return a list of all non-overlapping matches of pattern in string.\n",
      "     |  \n",
      "     |  finditer(self, /, string, pos=0, endpos=9223372036854775807)\n",
      "     |      Return an iterator over all non-overlapping matches for the RE pattern in string.\n",
      "     |      \n",
      "     |      For each match, the iterator returns a match object.\n",
      "     |  \n",
      "     |  fullmatch(self, /, string, pos=0, endpos=9223372036854775807)\n",
      "     |      Matches against all of the string.\n",
      "     |  \n",
      "     |  match(self, /, string, pos=0, endpos=9223372036854775807)\n",
      "     |      Matches zero or more characters at the beginning of the string.\n",
      "     |  \n",
      "     |  scanner(self, /, string, pos=0, endpos=9223372036854775807)\n",
      "     |  \n",
      "     |  search(self, /, string, pos=0, endpos=9223372036854775807)\n",
      "     |      Scan through string looking for a match, and return a corresponding match object instance.\n",
      "     |      \n",
      "     |      Return None if no position in the string matches.\n",
      "     |  \n",
      "     |  split(self, /, string, maxsplit=0)\n",
      "     |      Split string by the occurrences of pattern.\n",
      "     |  \n",
      "     |  sub(self, /, repl, string, count=0)\n",
      "     |      Return the string obtained by replacing the leftmost non-overlapping occurrences of pattern in string by the replacement repl.\n",
      "     |  \n",
      "     |  subn(self, /, repl, string, count=0)\n",
      "     |      Return the tuple (new_string, number_of_subs_made) found by replacing the leftmost non-overlapping occurrences of pattern with the replacement repl.\n",
      "     |  \n",
      "     |  ----------------------------------------------------------------------\n",
      "     |  Data descriptors defined here:\n",
      "     |  \n",
      "     |  flags\n",
      "     |      The regex matching flags.\n",
      "     |  \n",
      "     |  groupindex\n",
      "     |      A dictionary mapping group names to group numbers.\n",
      "     |  \n",
      "     |  groups\n",
      "     |      The number of capturing groups in the pattern.\n",
      "     |  \n",
      "     |  pattern\n",
      "     |      The pattern string from which the RE object was compiled.\n",
      "    \n",
      "    class error(builtins.Exception)\n",
      "     |  error(msg, pattern=None, pos=None)\n",
      "     |  \n",
      "     |  Exception raised for invalid regular expressions.\n",
      "     |  \n",
      "     |  Attributes:\n",
      "     |  \n",
      "     |      msg: The unformatted error message\n",
      "     |      pattern: The regular expression pattern\n",
      "     |      pos: The index in the pattern where compilation failed (may be None)\n",
      "     |      lineno: The line corresponding to pos (may be None)\n",
      "     |      colno: The column corresponding to pos (may be None)\n",
      "     |  \n",
      "     |  Method resolution order:\n",
      "     |      error\n",
      "     |      builtins.Exception\n",
      "     |      builtins.BaseException\n",
      "     |      builtins.object\n",
      "     |  \n",
      "     |  Methods defined here:\n",
      "     |  \n",
      "     |  __init__(self, msg, pattern=None, pos=None)\n",
      "     |      Initialize self.  See help(type(self)) for accurate signature.\n",
      "     |  \n",
      "     |  ----------------------------------------------------------------------\n",
      "     |  Data descriptors defined here:\n",
      "     |  \n",
      "     |  __weakref__\n",
      "     |      list of weak references to the object (if defined)\n",
      "     |  \n",
      "     |  ----------------------------------------------------------------------\n",
      "     |  Static methods inherited from builtins.Exception:\n",
      "     |  \n",
      "     |  __new__(*args, **kwargs) from builtins.type\n",
      "     |      Create and return a new object.  See help(type) for accurate signature.\n",
      "     |  \n",
      "     |  ----------------------------------------------------------------------\n",
      "     |  Methods inherited from builtins.BaseException:\n",
      "     |  \n",
      "     |  __delattr__(self, name, /)\n",
      "     |      Implement delattr(self, name).\n",
      "     |  \n",
      "     |  __getattribute__(self, name, /)\n",
      "     |      Return getattr(self, name).\n",
      "     |  \n",
      "     |  __reduce__(...)\n",
      "     |      Helper for pickle.\n",
      "     |  \n",
      "     |  __repr__(self, /)\n",
      "     |      Return repr(self).\n",
      "     |  \n",
      "     |  __setattr__(self, name, value, /)\n",
      "     |      Implement setattr(self, name, value).\n",
      "     |  \n",
      "     |  __setstate__(...)\n",
      "     |  \n",
      "     |  __str__(self, /)\n",
      "     |      Return str(self).\n",
      "     |  \n",
      "     |  with_traceback(...)\n",
      "     |      Exception.with_traceback(tb) --\n",
      "     |      set self.__traceback__ to tb and return self.\n",
      "     |  \n",
      "     |  ----------------------------------------------------------------------\n",
      "     |  Data descriptors inherited from builtins.BaseException:\n",
      "     |  \n",
      "     |  __cause__\n",
      "     |      exception cause\n",
      "     |  \n",
      "     |  __context__\n",
      "     |      exception context\n",
      "     |  \n",
      "     |  __dict__\n",
      "     |  \n",
      "     |  __suppress_context__\n",
      "     |  \n",
      "     |  __traceback__\n",
      "     |  \n",
      "     |  args\n",
      "\n",
      "FUNCTIONS\n",
      "    compile(pattern, flags=0)\n",
      "        Compile a regular expression pattern, returning a Pattern object.\n",
      "    \n",
      "    escape(pattern)\n",
      "        Escape special characters in a string.\n",
      "    \n",
      "    findall(pattern, string, flags=0)\n",
      "        Return a list of all non-overlapping matches in the string.\n",
      "        \n",
      "        If one or more capturing groups are present in the pattern, return\n",
      "        a list of groups; this will be a list of tuples if the pattern\n",
      "        has more than one group.\n",
      "        \n",
      "        Empty matches are included in the result.\n",
      "    \n",
      "    finditer(pattern, string, flags=0)\n",
      "        Return an iterator over all non-overlapping matches in the\n",
      "        string.  For each match, the iterator returns a Match object.\n",
      "        \n",
      "        Empty matches are included in the result.\n",
      "    \n",
      "    fullmatch(pattern, string, flags=0)\n",
      "        Try to apply the pattern to all of the string, returning\n",
      "        a Match object, or None if no match was found.\n",
      "    \n",
      "    match(pattern, string, flags=0)\n",
      "        Try to apply the pattern at the start of the string, returning\n",
      "        a Match object, or None if no match was found.\n",
      "    \n",
      "    purge()\n",
      "        Clear the regular expression caches\n",
      "    \n",
      "    search(pattern, string, flags=0)\n",
      "        Scan through string looking for a match to the pattern, returning\n",
      "        a Match object, or None if no match was found.\n",
      "    \n",
      "    split(pattern, string, maxsplit=0, flags=0)\n",
      "        Split the source string by the occurrences of the pattern,\n",
      "        returning a list containing the resulting substrings.  If\n",
      "        capturing parentheses are used in pattern, then the text of all\n",
      "        groups in the pattern are also returned as part of the resulting\n",
      "        list.  If maxsplit is nonzero, at most maxsplit splits occur,\n",
      "        and the remainder of the string is returned as the final element\n",
      "        of the list.\n",
      "    \n",
      "    sub(pattern, repl, string, count=0, flags=0)\n",
      "        Return the string obtained by replacing the leftmost\n",
      "        non-overlapping occurrences of the pattern in string by the\n",
      "        replacement repl.  repl can be either a string or a callable;\n",
      "        if a string, backslash escapes in it are processed.  If it is\n",
      "        a callable, it's passed the Match object and must return\n",
      "        a replacement string to be used.\n",
      "    \n",
      "    subn(pattern, repl, string, count=0, flags=0)\n",
      "        Return a 2-tuple containing (new_string, number).\n",
      "        new_string is the string obtained by replacing the leftmost\n",
      "        non-overlapping occurrences of the pattern in the source\n",
      "        string by the replacement repl.  number is the number of\n",
      "        substitutions that were made. repl can be either a string or a\n",
      "        callable; if a string, backslash escapes in it are processed.\n",
      "        If it is a callable, it's passed the Match object and must\n",
      "        return a replacement string to be used.\n",
      "    \n",
      "    template(pattern, flags=0)\n",
      "        Compile a template pattern, returning a Pattern object\n",
      "\n",
      "DATA\n",
      "    A = <RegexFlag.ASCII: 256>\n",
      "    ASCII = <RegexFlag.ASCII: 256>\n",
      "    DOTALL = <RegexFlag.DOTALL: 16>\n",
      "    I = <RegexFlag.IGNORECASE: 2>\n",
      "    IGNORECASE = <RegexFlag.IGNORECASE: 2>\n",
      "    L = <RegexFlag.LOCALE: 4>\n",
      "    LOCALE = <RegexFlag.LOCALE: 4>\n",
      "    M = <RegexFlag.MULTILINE: 8>\n",
      "    MULTILINE = <RegexFlag.MULTILINE: 8>\n",
      "    S = <RegexFlag.DOTALL: 16>\n",
      "    U = <RegexFlag.UNICODE: 32>\n",
      "    UNICODE = <RegexFlag.UNICODE: 32>\n",
      "    VERBOSE = <RegexFlag.VERBOSE: 64>\n",
      "    X = <RegexFlag.VERBOSE: 64>\n",
      "    __all__ = ['match', 'fullmatch', 'search', 'sub', 'subn', 'split', 'fi...\n",
      "\n",
      "VERSION\n",
      "    2.2.1\n",
      "\n",
      "FILE\n",
      "    /opt/conda/lib/python3.7/re.py\n",
      "\n",
      "\n"
     ]
    }
   ],
   "source": [
    "# Creamos una función para realizar la extracción de los títulos según un patrón - utilizando la función RE (RegExp)\n",
    "# https://es.wikipedia.org/wiki/Expresi%C3%B3n_regular\n",
    "import re\n",
    "help(re)"
   ]
  },
  {
   "cell_type": "markdown",
   "metadata": {},
   "source": [
    "***\n",
    "Creamos una función para la extracción del título que se encuentra con el siguente patrón\n",
    "```\n",
    "string coma space TITULO punto space\n",
    "```"
   ]
  },
  {
   "cell_type": "code",
   "execution_count": 61,
   "metadata": {},
   "outputs": [],
   "source": [
    "# Creamos la función\n",
    "def get_title(name):\n",
    "    title_search = re.search(' ([A-Za-z]+)\\.', name)\n",
    "    if title_search:\n",
    "        return title_search.group(1)\n",
    "    return \"\""
   ]
  },
  {
   "cell_type": "code",
   "execution_count": 62,
   "metadata": {},
   "outputs": [],
   "source": [
    "# Aplicamos esta función a una nueva dimensión / columna / atributo del dataset\n",
    "titanic_list['TitleName'] = titanic_list['Name'].apply(get_title)"
   ]
  },
  {
   "cell_type": "code",
   "execution_count": 64,
   "metadata": {},
   "outputs": [
    {
     "data": {
      "text/plain": [
       "0        Mr\n",
       "1       Mrs\n",
       "2      Miss\n",
       "3       Mrs\n",
       "4        Mr\n",
       "5        Mr\n",
       "6        Mr\n",
       "7    Master\n",
       "8       Mrs\n",
       "9       Mrs\n",
       "Name: TitleName, dtype: object"
      ]
     },
     "execution_count": 64,
     "metadata": {},
     "output_type": "execute_result"
    }
   ],
   "source": [
    "titanic_list['TitleName'].head(10)"
   ]
  },
  {
   "cell_type": "code",
   "execution_count": 66,
   "metadata": {},
   "outputs": [
    {
     "data": {
      "text/html": [
       "<div>\n",
       "<style scoped>\n",
       "    .dataframe tbody tr th:only-of-type {\n",
       "        vertical-align: middle;\n",
       "    }\n",
       "\n",
       "    .dataframe tbody tr th {\n",
       "        vertical-align: top;\n",
       "    }\n",
       "\n",
       "    .dataframe thead th {\n",
       "        text-align: right;\n",
       "    }\n",
       "</style>\n",
       "<table border=\"1\" class=\"dataframe\">\n",
       "  <thead>\n",
       "    <tr style=\"text-align: right;\">\n",
       "      <th>Sex</th>\n",
       "      <th>0</th>\n",
       "      <th>1</th>\n",
       "    </tr>\n",
       "    <tr>\n",
       "      <th>TitleName</th>\n",
       "      <th></th>\n",
       "      <th></th>\n",
       "    </tr>\n",
       "  </thead>\n",
       "  <tbody>\n",
       "    <tr>\n",
       "      <th>Capt</th>\n",
       "      <td>1</td>\n",
       "      <td>0</td>\n",
       "    </tr>\n",
       "    <tr>\n",
       "      <th>Col</th>\n",
       "      <td>4</td>\n",
       "      <td>0</td>\n",
       "    </tr>\n",
       "    <tr>\n",
       "      <th>Countess</th>\n",
       "      <td>0</td>\n",
       "      <td>1</td>\n",
       "    </tr>\n",
       "    <tr>\n",
       "      <th>Don</th>\n",
       "      <td>1</td>\n",
       "      <td>0</td>\n",
       "    </tr>\n",
       "    <tr>\n",
       "      <th>Dona</th>\n",
       "      <td>0</td>\n",
       "      <td>1</td>\n",
       "    </tr>\n",
       "    <tr>\n",
       "      <th>Dr</th>\n",
       "      <td>7</td>\n",
       "      <td>1</td>\n",
       "    </tr>\n",
       "    <tr>\n",
       "      <th>Jonkheer</th>\n",
       "      <td>1</td>\n",
       "      <td>0</td>\n",
       "    </tr>\n",
       "    <tr>\n",
       "      <th>Lady</th>\n",
       "      <td>0</td>\n",
       "      <td>1</td>\n",
       "    </tr>\n",
       "    <tr>\n",
       "      <th>Major</th>\n",
       "      <td>2</td>\n",
       "      <td>0</td>\n",
       "    </tr>\n",
       "    <tr>\n",
       "      <th>Master</th>\n",
       "      <td>61</td>\n",
       "      <td>0</td>\n",
       "    </tr>\n",
       "    <tr>\n",
       "      <th>Miss</th>\n",
       "      <td>0</td>\n",
       "      <td>260</td>\n",
       "    </tr>\n",
       "    <tr>\n",
       "      <th>Mlle</th>\n",
       "      <td>0</td>\n",
       "      <td>2</td>\n",
       "    </tr>\n",
       "    <tr>\n",
       "      <th>Mme</th>\n",
       "      <td>0</td>\n",
       "      <td>1</td>\n",
       "    </tr>\n",
       "    <tr>\n",
       "      <th>Mr</th>\n",
       "      <td>757</td>\n",
       "      <td>0</td>\n",
       "    </tr>\n",
       "    <tr>\n",
       "      <th>Mrs</th>\n",
       "      <td>0</td>\n",
       "      <td>197</td>\n",
       "    </tr>\n",
       "    <tr>\n",
       "      <th>Ms</th>\n",
       "      <td>0</td>\n",
       "      <td>2</td>\n",
       "    </tr>\n",
       "    <tr>\n",
       "      <th>Rev</th>\n",
       "      <td>8</td>\n",
       "      <td>0</td>\n",
       "    </tr>\n",
       "    <tr>\n",
       "      <th>Sir</th>\n",
       "      <td>1</td>\n",
       "      <td>0</td>\n",
       "    </tr>\n",
       "  </tbody>\n",
       "</table>\n",
       "</div>"
      ],
      "text/plain": [
       "Sex          0    1\n",
       "TitleName          \n",
       "Capt         1    0\n",
       "Col          4    0\n",
       "Countess     0    1\n",
       "Don          1    0\n",
       "Dona         0    1\n",
       "Dr           7    1\n",
       "Jonkheer     1    0\n",
       "Lady         0    1\n",
       "Major        2    0\n",
       "Master      61    0\n",
       "Miss         0  260\n",
       "Mlle         0    2\n",
       "Mme          0    1\n",
       "Mr         757    0\n",
       "Mrs          0  197\n",
       "Ms           0    2\n",
       "Rev          8    0\n",
       "Sir          1    0"
      ]
     },
     "execution_count": 66,
     "metadata": {},
     "output_type": "execute_result"
    }
   ],
   "source": [
    "# check\n",
    "pd.crosstab(titanic_list['TitleName'], titanic_list['Sex'])"
   ]
  },
  {
   "cell_type": "code",
   "execution_count": 73,
   "metadata": {},
   "outputs": [
    {
     "data": {
      "image/png": "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\n",
      "text/plain": [
       "<Figure size 432x288 with 1 Axes>"
      ]
     },
     "metadata": {
      "needs_background": "light"
     },
     "output_type": "display_data"
    }
   ],
   "source": [
    "import matplotlib.pyplot as plt\n",
    "sns.barplot(x=\"TitleName\", y=\"Survived\", data=titanic_list, ci=90)\n",
    "plt.show()"
   ]
  },
  {
   "cell_type": "code",
   "execution_count": 76,
   "metadata": {},
   "outputs": [],
   "source": [
    "# Convertimos a variable categorica\n",
    "listaTitle = ['Lady', 'Countess', 'Capt', 'Col', 'Don', 'Dr', 'Major', 'Rev', 'Sir', 'Jonkheer','Dona']\n",
    "titanic_list[\"TitleName\"] = titanic_list[\"TitleName\"].replace(listaTitle, 'Rare')"
   ]
  },
  {
   "cell_type": "code",
   "execution_count": 77,
   "metadata": {},
   "outputs": [
    {
     "data": {
      "text/html": [
       "<div>\n",
       "<style scoped>\n",
       "    .dataframe tbody tr th:only-of-type {\n",
       "        vertical-align: middle;\n",
       "    }\n",
       "\n",
       "    .dataframe tbody tr th {\n",
       "        vertical-align: top;\n",
       "    }\n",
       "\n",
       "    .dataframe thead th {\n",
       "        text-align: right;\n",
       "    }\n",
       "</style>\n",
       "<table border=\"1\" class=\"dataframe\">\n",
       "  <thead>\n",
       "    <tr style=\"text-align: right;\">\n",
       "      <th>Sex</th>\n",
       "      <th>0</th>\n",
       "      <th>1</th>\n",
       "    </tr>\n",
       "    <tr>\n",
       "      <th>TitleName</th>\n",
       "      <th></th>\n",
       "      <th></th>\n",
       "    </tr>\n",
       "  </thead>\n",
       "  <tbody>\n",
       "    <tr>\n",
       "      <th>Master</th>\n",
       "      <td>61</td>\n",
       "      <td>0</td>\n",
       "    </tr>\n",
       "    <tr>\n",
       "      <th>Miss</th>\n",
       "      <td>0</td>\n",
       "      <td>260</td>\n",
       "    </tr>\n",
       "    <tr>\n",
       "      <th>Mlle</th>\n",
       "      <td>0</td>\n",
       "      <td>2</td>\n",
       "    </tr>\n",
       "    <tr>\n",
       "      <th>Mme</th>\n",
       "      <td>0</td>\n",
       "      <td>1</td>\n",
       "    </tr>\n",
       "    <tr>\n",
       "      <th>Mr</th>\n",
       "      <td>757</td>\n",
       "      <td>0</td>\n",
       "    </tr>\n",
       "    <tr>\n",
       "      <th>Mrs</th>\n",
       "      <td>0</td>\n",
       "      <td>197</td>\n",
       "    </tr>\n",
       "    <tr>\n",
       "      <th>Ms</th>\n",
       "      <td>0</td>\n",
       "      <td>2</td>\n",
       "    </tr>\n",
       "    <tr>\n",
       "      <th>Rare</th>\n",
       "      <td>25</td>\n",
       "      <td>4</td>\n",
       "    </tr>\n",
       "  </tbody>\n",
       "</table>\n",
       "</div>"
      ],
      "text/plain": [
       "Sex          0    1\n",
       "TitleName          \n",
       "Master      61    0\n",
       "Miss         0  260\n",
       "Mlle         0    2\n",
       "Mme          0    1\n",
       "Mr         757    0\n",
       "Mrs          0  197\n",
       "Ms           0    2\n",
       "Rare        25    4"
      ]
     },
     "execution_count": 77,
     "metadata": {},
     "output_type": "execute_result"
    }
   ],
   "source": [
    "# Check the results\n",
    "pd.crosstab(titanic_list['TitleName'], titanic_list['Sex'])"
   ]
  },
  {
   "cell_type": "code",
   "execution_count": 78,
   "metadata": {},
   "outputs": [
    {
     "data": {
      "text/html": [
       "<div>\n",
       "<style scoped>\n",
       "    .dataframe tbody tr th:only-of-type {\n",
       "        vertical-align: middle;\n",
       "    }\n",
       "\n",
       "    .dataframe tbody tr th {\n",
       "        vertical-align: top;\n",
       "    }\n",
       "\n",
       "    .dataframe thead th {\n",
       "        text-align: right;\n",
       "    }\n",
       "</style>\n",
       "<table border=\"1\" class=\"dataframe\">\n",
       "  <thead>\n",
       "    <tr style=\"text-align: right;\">\n",
       "      <th>Survived</th>\n",
       "      <th>0.0</th>\n",
       "      <th>1.0</th>\n",
       "    </tr>\n",
       "    <tr>\n",
       "      <th>TitleName</th>\n",
       "      <th></th>\n",
       "      <th></th>\n",
       "    </tr>\n",
       "  </thead>\n",
       "  <tbody>\n",
       "    <tr>\n",
       "      <th>Master</th>\n",
       "      <td>17</td>\n",
       "      <td>23</td>\n",
       "    </tr>\n",
       "    <tr>\n",
       "      <th>Miss</th>\n",
       "      <td>55</td>\n",
       "      <td>127</td>\n",
       "    </tr>\n",
       "    <tr>\n",
       "      <th>Mlle</th>\n",
       "      <td>0</td>\n",
       "      <td>2</td>\n",
       "    </tr>\n",
       "    <tr>\n",
       "      <th>Mme</th>\n",
       "      <td>0</td>\n",
       "      <td>1</td>\n",
       "    </tr>\n",
       "    <tr>\n",
       "      <th>Mr</th>\n",
       "      <td>436</td>\n",
       "      <td>81</td>\n",
       "    </tr>\n",
       "    <tr>\n",
       "      <th>Mrs</th>\n",
       "      <td>26</td>\n",
       "      <td>99</td>\n",
       "    </tr>\n",
       "    <tr>\n",
       "      <th>Ms</th>\n",
       "      <td>0</td>\n",
       "      <td>1</td>\n",
       "    </tr>\n",
       "    <tr>\n",
       "      <th>Rare</th>\n",
       "      <td>15</td>\n",
       "      <td>8</td>\n",
       "    </tr>\n",
       "  </tbody>\n",
       "</table>\n",
       "</div>"
      ],
      "text/plain": [
       "Survived   0.0  1.0\n",
       "TitleName          \n",
       "Master      17   23\n",
       "Miss        55  127\n",
       "Mlle         0    2\n",
       "Mme          0    1\n",
       "Mr         436   81\n",
       "Mrs         26   99\n",
       "Ms           0    1\n",
       "Rare        15    8"
      ]
     },
     "execution_count": 78,
     "metadata": {},
     "output_type": "execute_result"
    }
   ],
   "source": [
    "# check survived\n",
    "pd.crosstab(titanic_list['TitleName'], titanic_list['Survived'])"
   ]
  },
  {
   "cell_type": "markdown",
   "metadata": {},
   "source": [
    "## `Age`\n"
   ]
  },
  {
   "cell_type": "code",
   "execution_count": 79,
   "metadata": {},
   "outputs": [
    {
     "data": {
      "text/plain": [
       "<matplotlib.axes._subplots.AxesSubplot at 0x7fc891f52748>"
      ]
     },
     "execution_count": 79,
     "metadata": {},
     "output_type": "execute_result"
    },
    {
     "data": {
      "image/png": "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\n",
      "text/plain": [
       "<Figure size 432x288 with 1 Axes>"
      ]
     },
     "metadata": {
      "needs_background": "light"
     },
     "output_type": "display_data"
    }
   ],
   "source": [
    "sns.barplot(x='Age', y='Survived', data=titanic_list)"
   ]
  },
  {
   "cell_type": "code",
   "execution_count": 80,
   "metadata": {},
   "outputs": [
    {
     "data": {
      "text/plain": [
       "count    1046.000000\n",
       "mean       29.881138\n",
       "std        14.413493\n",
       "min         0.170000\n",
       "25%        21.000000\n",
       "50%        28.000000\n",
       "75%        39.000000\n",
       "max        80.000000\n",
       "Name: Age, dtype: float64"
      ]
     },
     "execution_count": 80,
     "metadata": {},
     "output_type": "execute_result"
    }
   ],
   "source": [
    "titanic_list.Age.describe()"
   ]
  },
  {
   "cell_type": "code",
   "execution_count": 82,
   "metadata": {},
   "outputs": [],
   "source": [
    "bins = [-1, 0, 5, 12, 18, 24, 35, 50, 65, np.inf]\n",
    "labels = ['Unknown', 'Baby', 'Child', 'Teenager', 'Student', 'Young Adult', 'Adult', 'Mid-Senior', 'Senior']"
   ]
  },
  {
   "cell_type": "code",
   "execution_count": 83,
   "metadata": {},
   "outputs": [],
   "source": [
    "# Imputamos los valores nulos con -0.5\n",
    "titanic_list['Age'] = titanic_list['Age'].fillna(-0.5)"
   ]
  },
  {
   "cell_type": "code",
   "execution_count": 84,
   "metadata": {},
   "outputs": [],
   "source": [
    "# Creamos un nuevo atributo de agrupaciones\n",
    "titanic_list['AgeGroup'] = pd.cut(titanic_list['Age'], bins, labels = labels)"
   ]
  },
  {
   "cell_type": "code",
   "execution_count": 87,
   "metadata": {},
   "outputs": [
    {
     "data": {
      "text/plain": [
       "0         Student\n",
       "1           Adult\n",
       "2     Young Adult\n",
       "3     Young Adult\n",
       "4     Young Adult\n",
       "5         Unknown\n",
       "6      Mid-Senior\n",
       "7            Baby\n",
       "8     Young Adult\n",
       "9        Teenager\n",
       "10           Baby\n",
       "11     Mid-Senior\n",
       "12        Student\n",
       "13          Adult\n",
       "14       Teenager\n",
       "15     Mid-Senior\n",
       "16           Baby\n",
       "17        Unknown\n",
       "18    Young Adult\n",
       "19        Unknown\n",
       "Name: AgeGroup, dtype: category\n",
       "Categories (9, object): [Unknown < Baby < Child < Teenager ... Young Adult < Adult < Mid-Senior < Senior]"
      ]
     },
     "execution_count": 87,
     "metadata": {},
     "output_type": "execute_result"
    }
   ],
   "source": [
    "titanic_list['AgeGroup'].head(20)"
   ]
  },
  {
   "cell_type": "code",
   "execution_count": 88,
   "metadata": {},
   "outputs": [
    {
     "data": {
      "text/plain": [
       "<matplotlib.axes._subplots.AxesSubplot at 0x7fc888fa7470>"
      ]
     },
     "execution_count": 88,
     "metadata": {},
     "output_type": "execute_result"
    },
    {
     "data": {
      "image/png": "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\n",
      "text/plain": [
       "<Figure size 432x288 with 1 Axes>"
      ]
     },
     "metadata": {
      "needs_background": "light"
     },
     "output_type": "display_data"
    }
   ],
   "source": [
    "sns.barplot(x = \"AgeGroup\", y = \"Survived\" , data = titanic_list)"
   ]
  },
  {
   "cell_type": "markdown",
   "metadata": {},
   "source": [
    "*** \n",
    "\n",
    "\n",
    "## Features Engineering\n",
    "\n",
    "creación de nuevos atributos, o extracción de nuevos atributos"
   ]
  },
  {
   "cell_type": "markdown",
   "metadata": {},
   "source": [
    "### FamilySize\n",
    "\n",
    "Suma de `SibSp` y `Parch`"
   ]
  },
  {
   "cell_type": "code",
   "execution_count": 140,
   "metadata": {},
   "outputs": [],
   "source": [
    "# creamos un nuevo atributo FamilySize\n",
    "titanic_list['FamilySize'] = titanic_list['SibSp'] + titanic_list['Parch']"
   ]
  },
  {
   "cell_type": "code",
   "execution_count": 141,
   "metadata": {},
   "outputs": [
    {
     "data": {
      "text/html": [
       "<div>\n",
       "<style scoped>\n",
       "    .dataframe tbody tr th:only-of-type {\n",
       "        vertical-align: middle;\n",
       "    }\n",
       "\n",
       "    .dataframe tbody tr th {\n",
       "        vertical-align: top;\n",
       "    }\n",
       "\n",
       "    .dataframe thead th {\n",
       "        text-align: right;\n",
       "    }\n",
       "</style>\n",
       "<table border=\"1\" class=\"dataframe\">\n",
       "  <thead>\n",
       "    <tr style=\"text-align: right;\">\n",
       "      <th></th>\n",
       "      <th>FamilySize</th>\n",
       "      <th>Survived</th>\n",
       "    </tr>\n",
       "  </thead>\n",
       "  <tbody>\n",
       "    <tr>\n",
       "      <th>0</th>\n",
       "      <td>0</td>\n",
       "      <td>0.303538</td>\n",
       "    </tr>\n",
       "    <tr>\n",
       "      <th>1</th>\n",
       "      <td>1</td>\n",
       "      <td>0.552795</td>\n",
       "    </tr>\n",
       "    <tr>\n",
       "      <th>2</th>\n",
       "      <td>2</td>\n",
       "      <td>0.578431</td>\n",
       "    </tr>\n",
       "    <tr>\n",
       "      <th>3</th>\n",
       "      <td>3</td>\n",
       "      <td>0.724138</td>\n",
       "    </tr>\n",
       "    <tr>\n",
       "      <th>4</th>\n",
       "      <td>4</td>\n",
       "      <td>0.200000</td>\n",
       "    </tr>\n",
       "    <tr>\n",
       "      <th>5</th>\n",
       "      <td>5</td>\n",
       "      <td>0.136364</td>\n",
       "    </tr>\n",
       "    <tr>\n",
       "      <th>6</th>\n",
       "      <td>6</td>\n",
       "      <td>0.333333</td>\n",
       "    </tr>\n",
       "    <tr>\n",
       "      <th>7</th>\n",
       "      <td>7</td>\n",
       "      <td>0.000000</td>\n",
       "    </tr>\n",
       "    <tr>\n",
       "      <th>8</th>\n",
       "      <td>10</td>\n",
       "      <td>0.000000</td>\n",
       "    </tr>\n",
       "  </tbody>\n",
       "</table>\n",
       "</div>"
      ],
      "text/plain": [
       "   FamilySize  Survived\n",
       "0           0  0.303538\n",
       "1           1  0.552795\n",
       "2           2  0.578431\n",
       "3           3  0.724138\n",
       "4           4  0.200000\n",
       "5           5  0.136364\n",
       "6           6  0.333333\n",
       "7           7  0.000000\n",
       "8          10  0.000000"
      ]
     },
     "execution_count": 141,
     "metadata": {},
     "output_type": "execute_result"
    }
   ],
   "source": [
    "titanic_list[['FamilySize', 'Survived']].groupby(['FamilySize'], as_index = False).mean()"
   ]
  },
  {
   "cell_type": "code",
   "execution_count": 93,
   "metadata": {},
   "outputs": [
    {
     "data": {
      "text/plain": [
       "<matplotlib.axes._subplots.AxesSubplot at 0x7fc889314ef0>"
      ]
     },
     "execution_count": 93,
     "metadata": {},
     "output_type": "execute_result"
    },
    {
     "data": {
      "image/png": "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\n",
      "text/plain": [
       "<Figure size 432x288 with 1 Axes>"
      ]
     },
     "metadata": {
      "needs_background": "light"
     },
     "output_type": "display_data"
    }
   ],
   "source": [
    "sns.barplot(x = \"FamilySize\", y = \"Survived\", data = titanic_list)"
   ]
  },
  {
   "cell_type": "markdown",
   "metadata": {},
   "source": [
    "***\n",
    "\n",
    "### `IsAlone`\n",
    "\n",
    "creamos una nueva dimensión del pasajero que viaja solo\n"
   ]
  },
  {
   "cell_type": "code",
   "execution_count": 145,
   "metadata": {},
   "outputs": [],
   "source": [
    "# Creamos el atributo IsAlone = 0\n",
    "titanic_list['IsAlone'] = 0\n",
    "\n",
    "# Buscamos el valor de FamilySize == 0 y lo copiamos en IsAlone = 1, el resto se quedan en ceros\n",
    "titanic_list.loc[titanic_list['FamilySize'] == 0, 'IsAlone'] = 1"
   ]
  },
  {
   "cell_type": "code",
   "execution_count": 146,
   "metadata": {},
   "outputs": [
    {
     "data": {
      "text/html": [
       "<div>\n",
       "<style scoped>\n",
       "    .dataframe tbody tr th:only-of-type {\n",
       "        vertical-align: middle;\n",
       "    }\n",
       "\n",
       "    .dataframe tbody tr th {\n",
       "        vertical-align: top;\n",
       "    }\n",
       "\n",
       "    .dataframe thead th {\n",
       "        text-align: right;\n",
       "    }\n",
       "</style>\n",
       "<table border=\"1\" class=\"dataframe\">\n",
       "  <thead>\n",
       "    <tr style=\"text-align: right;\">\n",
       "      <th></th>\n",
       "      <th>IsAlone</th>\n",
       "      <th>Survived</th>\n",
       "    </tr>\n",
       "  </thead>\n",
       "  <tbody>\n",
       "    <tr>\n",
       "      <th>0</th>\n",
       "      <td>0</td>\n",
       "      <td>0.505650</td>\n",
       "    </tr>\n",
       "    <tr>\n",
       "      <th>1</th>\n",
       "      <td>1</td>\n",
       "      <td>0.303538</td>\n",
       "    </tr>\n",
       "  </tbody>\n",
       "</table>\n",
       "</div>"
      ],
      "text/plain": [
       "   IsAlone  Survived\n",
       "0        0  0.505650\n",
       "1        1  0.303538"
      ]
     },
     "execution_count": 146,
     "metadata": {},
     "output_type": "execute_result"
    }
   ],
   "source": [
    "# Check \n",
    "titanic_list[['IsAlone', 'Survived']].groupby(['IsAlone'], as_index = False).mean()"
   ]
  },
  {
   "cell_type": "code",
   "execution_count": 113,
   "metadata": {},
   "outputs": [
    {
     "data": {
      "text/plain": [
       "<matplotlib.axes._subplots.AxesSubplot at 0x7fc88a041dd8>"
      ]
     },
     "execution_count": 113,
     "metadata": {},
     "output_type": "execute_result"
    },
    {
     "data": {
      "image/png": "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\n",
      "text/plain": [
       "<Figure size 432x288 with 1 Axes>"
      ]
     },
     "metadata": {
      "needs_background": "light"
     },
     "output_type": "display_data"
    }
   ],
   "source": [
    "sns.barplot(x = 'IsAlone', y = 'Survived', data = titanic_list)"
   ]
  },
  {
   "cell_type": "markdown",
   "metadata": {},
   "source": [
    "***\n",
    "\n",
    "## `FareGroup`\n",
    "\n",
    "creamos grupos de tarifas"
   ]
  },
  {
   "cell_type": "code",
   "execution_count": 147,
   "metadata": {},
   "outputs": [],
   "source": [
    "# Creamos 4 grupos nuevos de tarifas\n",
    "fareLabels = ['Basic', 'Bronce', 'Silver', 'Gold']\n",
    "\n",
    "# com la función qcut creamos en 5 cuantiles y le asignamos las etiquetas\n",
    "titanic_list['FareGroup'] = pd.qcut(titanic_list['Fare'], 4, labels = fareLabels)"
   ]
  },
  {
   "cell_type": "code",
   "execution_count": 148,
   "metadata": {},
   "outputs": [
    {
     "data": {
      "text/html": [
       "<div>\n",
       "<style scoped>\n",
       "    .dataframe tbody tr th:only-of-type {\n",
       "        vertical-align: middle;\n",
       "    }\n",
       "\n",
       "    .dataframe tbody tr th {\n",
       "        vertical-align: top;\n",
       "    }\n",
       "\n",
       "    .dataframe thead th {\n",
       "        text-align: right;\n",
       "    }\n",
       "</style>\n",
       "<table border=\"1\" class=\"dataframe\">\n",
       "  <thead>\n",
       "    <tr style=\"text-align: right;\">\n",
       "      <th></th>\n",
       "      <th>FareGroup</th>\n",
       "      <th>Survived</th>\n",
       "    </tr>\n",
       "  </thead>\n",
       "  <tbody>\n",
       "    <tr>\n",
       "      <th>0</th>\n",
       "      <td>Basic</td>\n",
       "      <td>0.197309</td>\n",
       "    </tr>\n",
       "    <tr>\n",
       "      <th>1</th>\n",
       "      <td>Bronce</td>\n",
       "      <td>0.303571</td>\n",
       "    </tr>\n",
       "    <tr>\n",
       "      <th>2</th>\n",
       "      <td>Silver</td>\n",
       "      <td>0.441048</td>\n",
       "    </tr>\n",
       "    <tr>\n",
       "      <th>3</th>\n",
       "      <td>Gold</td>\n",
       "      <td>0.600000</td>\n",
       "    </tr>\n",
       "  </tbody>\n",
       "</table>\n",
       "</div>"
      ],
      "text/plain": [
       "  FareGroup  Survived\n",
       "0     Basic  0.197309\n",
       "1    Bronce  0.303571\n",
       "2    Silver  0.441048\n",
       "3      Gold  0.600000"
      ]
     },
     "execution_count": 148,
     "metadata": {},
     "output_type": "execute_result"
    }
   ],
   "source": [
    "titanic_list[['FareGroup' , 'Survived']].groupby(['FareGroup'], as_index = False).mean()"
   ]
  },
  {
   "cell_type": "code",
   "execution_count": 149,
   "metadata": {},
   "outputs": [
    {
     "data": {
      "text/plain": [
       "<matplotlib.axes._subplots.AxesSubplot at 0x7fc88be1ed30>"
      ]
     },
     "execution_count": 149,
     "metadata": {},
     "output_type": "execute_result"
    },
    {
     "data": {
      "image/png": "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\n",
      "text/plain": [
       "<Figure size 432x288 with 1 Axes>"
      ]
     },
     "metadata": {
      "needs_background": "light"
     },
     "output_type": "display_data"
    }
   ],
   "source": [
    "sns.barplot(x = \"FareGroup\" , y = \"Survived\", data = titanic_list, hue = \"Sex\", palette = \"coolwarm\")"
   ]
  },
  {
   "cell_type": "markdown",
   "metadata": {},
   "source": [
    "***\n",
    "\n",
    "## `InCabin`\n",
    "\n",
    "creamos una nueva dimensión InCabin que nos indica si el pasajero estuvo o no en la cabina"
   ]
  },
  {
   "cell_type": "code",
   "execution_count": 129,
   "metadata": {},
   "outputs": [],
   "source": [
    "# creamos la nueva dimensión excluyendo el resto de pasajeros con valores nulos. ¡Ojo! son el 78%-...\n",
    "titanic_list['InCabin'] = ~titanic_list['Cabin'].isnull()"
   ]
  },
  {
   "cell_type": "code",
   "execution_count": 130,
   "metadata": {},
   "outputs": [
    {
     "data": {
      "text/plain": [
       "<matplotlib.axes._subplots.AxesSubplot at 0x7fc88b468ef0>"
      ]
     },
     "execution_count": 130,
     "metadata": {},
     "output_type": "execute_result"
    },
    {
     "data": {
      "image/png": "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\n",
      "text/plain": [
       "<Figure size 432x288 with 1 Axes>"
      ]
     },
     "metadata": {
      "needs_background": "light"
     },
     "output_type": "display_data"
    }
   ],
   "source": [
    "sns.barplot(x = 'InCabin', y = 'Survived', data = titanic_list)"
   ]
  },
  {
   "cell_type": "markdown",
   "metadata": {},
   "source": [
    "***\n",
    "\n",
    "### `Fare per person`\n",
    "\n",
    "tarifa por pasajero"
   ]
  },
  {
   "cell_type": "code",
   "execution_count": 150,
   "metadata": {},
   "outputs": [],
   "source": [
    "# Es realizar la \n",
    "titanic_list['Fare_per_Person'] = titanic_list['Fare'] / (titanic_list['FamilySize'] + 1)"
   ]
  },
  {
   "cell_type": "code",
   "execution_count": 151,
   "metadata": {},
   "outputs": [
    {
     "data": {
      "text/plain": [
       "0       0.567346\n",
       "1       0.832019\n",
       "2       1.159662\n",
       "3       0.803802\n",
       "4       1.164014\n",
       "5       1.177698\n",
       "6       1.602956\n",
       "7       0.281926\n",
       "8       0.417202\n",
       "9       0.744907\n",
       "10      0.451392\n",
       "11      1.462330\n",
       "12      1.164014\n",
       "13      0.214050\n",
       "14      1.157162\n",
       "15      1.343703\n",
       "16      0.247137\n",
       "17      1.291725\n",
       "18      0.686153\n",
       "19      1.133715\n",
       "20      1.457646\n",
       "21      1.291725\n",
       "22      1.163296\n",
       "23      1.525472\n",
       "24      0.281926\n",
       "25      0.214161\n",
       "26      1.133715\n",
       "27      0.313903\n",
       "28      1.158048\n",
       "29      1.158634\n",
       "          ...   \n",
       "1279    1.153433\n",
       "1280    0.281926\n",
       "1281    1.713546\n",
       "1282    0.773657\n",
       "1283    0.466762\n",
       "1284    1.236154\n",
       "1285    0.283974\n",
       "1286    0.815685\n",
       "1287    1.134691\n",
       "1288    0.561176\n",
       "1289    1.154333\n",
       "1290    1.152830\n",
       "1291    1.810121\n",
       "1292    0.704400\n",
       "1293    0.814717\n",
       "1294    1.583768\n",
       "1295    0.735963\n",
       "1296    1.308020\n",
       "1297    0.618077\n",
       "1298    0.616621\n",
       "1299    1.152378\n",
       "1300    0.435474\n",
       "1301    1.153433\n",
       "1302    0.853360\n",
       "1303    1.154333\n",
       "1304    1.164014\n",
       "1305    1.740391\n",
       "1306    1.134691\n",
       "1307    1.164014\n",
       "1308    0.474446\n",
       "Name: Fare_per_Person, Length: 1309, dtype: float64"
      ]
     },
     "execution_count": 151,
     "metadata": {},
     "output_type": "execute_result"
    }
   ],
   "source": [
    "titanic_list['Fare_per_Person']"
   ]
  },
  {
   "cell_type": "code",
   "execution_count": 152,
   "metadata": {},
   "outputs": [
    {
     "data": {
      "text/plain": [
       "count    1309.000000\n",
       "mean        0.977075\n",
       "std         0.416707\n",
       "min         0.000000\n",
       "25%         0.627074\n",
       "50%         1.152830\n",
       "75%         1.236154\n",
       "max         1.979748\n",
       "Name: Fare_per_Person, dtype: float64"
      ]
     },
     "execution_count": 152,
     "metadata": {},
     "output_type": "execute_result"
    }
   ],
   "source": [
    "titanic_list['Fare_per_Person'].describe()"
   ]
  },
  {
   "cell_type": "markdown",
   "metadata": {},
   "source": [
    "*** \n",
    "# Save 1s stage EDA"
   ]
  },
  {
   "cell_type": "code",
   "execution_count": 153,
   "metadata": {},
   "outputs": [],
   "source": [
    "titanic_list.to_csv('titanic_list.csv', index = False)"
   ]
  }
 ],
 "metadata": {
  "kernelspec": {
   "display_name": "Python 3",
   "language": "python",
   "name": "python3"
  },
  "language_info": {
   "codemirror_mode": {
    "name": "ipython",
    "version": 3
   },
   "file_extension": ".py",
   "mimetype": "text/x-python",
   "name": "python",
   "nbconvert_exporter": "python",
   "pygments_lexer": "ipython3",
   "version": "3.7.3"
  }
 },
 "nbformat": 4,
 "nbformat_minor": 4
}
