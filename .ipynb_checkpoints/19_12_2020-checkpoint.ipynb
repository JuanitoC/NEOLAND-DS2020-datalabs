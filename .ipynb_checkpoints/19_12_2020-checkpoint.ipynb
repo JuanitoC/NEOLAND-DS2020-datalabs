{
 "metadata": {
  "language_info": {
   "codemirror_mode": {
    "name": "ipython",
    "version": 3
   },
   "file_extension": ".py",
   "mimetype": "text/x-python",
   "name": "python",
   "nbconvert_exporter": "python",
   "pygments_lexer": "ipython3",
   "version": "3.8.5-final"
  },
  "orig_nbformat": 2,
  "kernelspec": {
   "name": "python3",
   "display_name": "Python 3",
   "language": "python"
  }
 },
 "nbformat": 4,
 "nbformat_minor": 2,
 "cells": [
  {
   "source": [
    "# Prueba de Conociemiento\n",
    "\n",
    "\n",
    "### Ejercicio 2\n"
   ],
   "cell_type": "markdown",
   "metadata": {}
  },
  {
   "source": [
    "## Nombre de los componentes\n",
    "\n",
    "- Juan "
   ],
   "cell_type": "markdown",
   "metadata": {}
  },
  {
   "cell_type": "code",
   "execution_count": 1,
   "metadata": {},
   "outputs": [],
   "source": [
    "import pandas as pd \n",
    "import numpy as np\n",
    "import matplotlib.pyplot as plt \n",
    "import seaborn as sns \n",
    "import os \n",
    "import os.path\n",
    "from pathlib import Path\n",
    "from datetime import datetime\n",
    "from datetime import timedelta"
   ]
  },
  {
   "cell_type": "code",
   "execution_count": 2,
   "metadata": {},
   "outputs": [],
   "source": [
    "#importamos ficheros\n",
    "gestiones = pd.read_csv(\"/home/eduardo/Downloads/Gestiones.csv\",sep=\";\")\n",
    "movimientos = pd.read_csv(\"/home/eduardo/Downloads/Movimientos.csv\",sep=\";\")"
   ]
  },
  {
   "cell_type": "code",
   "execution_count": 3,
   "metadata": {},
   "outputs": [
    {
     "output_type": "stream",
     "name": "stdout",
     "text": [
      "<class 'pandas.core.frame.DataFrame'>\nRangeIndex: 2124392 entries, 0 to 2124391\nData columns (total 4 columns):\n #   Column       Dtype  \n---  ------       -----  \n 0   id_contrato  int64  \n 1   fecha_alta   object \n 2   id_gestion   int64  \n 3   estrategia   float64\ndtypes: float64(1), int64(2), object(1)\nmemory usage: 64.8+ MB\n"
     ]
    }
   ],
   "source": [
    "#verificamos la informacion del datraframe por si tenemos NA's\n",
    "gestiones.info()"
   ]
  },
  {
   "cell_type": "code",
   "execution_count": 4,
   "metadata": {},
   "outputs": [
    {
     "output_type": "stream",
     "name": "stdout",
     "text": [
      "<class 'pandas.core.frame.DataFrame'>\nRangeIndex: 21316 entries, 0 to 21315\nData columns (total 5 columns):\n #   Column         Non-Null Count  Dtype \n---  ------         --------------  ----- \n 0   id_contrato    21316 non-null  int64 \n 1   fecha_recobro  21316 non-null  object\n 2   principal      21316 non-null  object\n 3   gastos         21316 non-null  object\n 4   intereses      21316 non-null  object\ndtypes: int64(1), object(4)\nmemory usage: 832.8+ KB\n"
     ]
    }
   ],
   "source": [
    "#verificamos la informacion del datraframe por si tenemos NA's\n",
    "movimientos.info()"
   ]
  },
  {
   "cell_type": "code",
   "execution_count": 5,
   "metadata": {},
   "outputs": [
    {
     "output_type": "execute_result",
     "data": {
      "text/plain": [
       "   id_contrato fecha_recobro principal gastos intereses\n",
       "0     27001453    2020-11-04    131,61      0         0\n",
       "1     27001483    2020-11-25         0  47,53         0\n",
       "2     27022011    2020-11-19    117,56      0         0\n",
       "3     27022133    2020-11-03    519,24      0         0\n",
       "4     27022133    2020-11-05     374,6      0         0\n",
       "5     27022237    2020-11-12     16,14      0         0\n",
       "6     27022237    2020-11-19    102,13      0         0\n",
       "7     27022237    2020-11-22     16,06      0         0\n",
       "8     27022237    2020-11-25     669,2      0         0\n",
       "9     27022305    2020-11-21       200      0         0"
      ],
      "text/html": "<div>\n<style scoped>\n    .dataframe tbody tr th:only-of-type {\n        vertical-align: middle;\n    }\n\n    .dataframe tbody tr th {\n        vertical-align: top;\n    }\n\n    .dataframe thead th {\n        text-align: right;\n    }\n</style>\n<table border=\"1\" class=\"dataframe\">\n  <thead>\n    <tr style=\"text-align: right;\">\n      <th></th>\n      <th>id_contrato</th>\n      <th>fecha_recobro</th>\n      <th>principal</th>\n      <th>gastos</th>\n      <th>intereses</th>\n    </tr>\n  </thead>\n  <tbody>\n    <tr>\n      <th>0</th>\n      <td>27001453</td>\n      <td>2020-11-04</td>\n      <td>131,61</td>\n      <td>0</td>\n      <td>0</td>\n    </tr>\n    <tr>\n      <th>1</th>\n      <td>27001483</td>\n      <td>2020-11-25</td>\n      <td>0</td>\n      <td>47,53</td>\n      <td>0</td>\n    </tr>\n    <tr>\n      <th>2</th>\n      <td>27022011</td>\n      <td>2020-11-19</td>\n      <td>117,56</td>\n      <td>0</td>\n      <td>0</td>\n    </tr>\n    <tr>\n      <th>3</th>\n      <td>27022133</td>\n      <td>2020-11-03</td>\n      <td>519,24</td>\n      <td>0</td>\n      <td>0</td>\n    </tr>\n    <tr>\n      <th>4</th>\n      <td>27022133</td>\n      <td>2020-11-05</td>\n      <td>374,6</td>\n      <td>0</td>\n      <td>0</td>\n    </tr>\n    <tr>\n      <th>5</th>\n      <td>27022237</td>\n      <td>2020-11-12</td>\n      <td>16,14</td>\n      <td>0</td>\n      <td>0</td>\n    </tr>\n    <tr>\n      <th>6</th>\n      <td>27022237</td>\n      <td>2020-11-19</td>\n      <td>102,13</td>\n      <td>0</td>\n      <td>0</td>\n    </tr>\n    <tr>\n      <th>7</th>\n      <td>27022237</td>\n      <td>2020-11-22</td>\n      <td>16,06</td>\n      <td>0</td>\n      <td>0</td>\n    </tr>\n    <tr>\n      <th>8</th>\n      <td>27022237</td>\n      <td>2020-11-25</td>\n      <td>669,2</td>\n      <td>0</td>\n      <td>0</td>\n    </tr>\n    <tr>\n      <th>9</th>\n      <td>27022305</td>\n      <td>2020-11-21</td>\n      <td>200</td>\n      <td>0</td>\n      <td>0</td>\n    </tr>\n  </tbody>\n</table>\n</div>"
     },
     "metadata": {},
     "execution_count": 5
    }
   ],
   "source": [
    "#vemos el head del data frame para darnos \n",
    "movimientos.head(10)"
   ]
  },
  {
   "cell_type": "code",
   "execution_count": 6,
   "metadata": {},
   "outputs": [
    {
     "output_type": "execute_result",
     "data": {
      "text/plain": [
       "   id_contrato           fecha_alta  id_gestion  estrategia\n",
       "0     27158634  2020-10-01 09:33:48           1       101.0\n",
       "1     27161639  2020-10-01 09:34:30           1       101.0\n",
       "2     27162169  2020-10-01 09:35:55           1       101.0\n",
       "3     27164007  2020-10-01 09:36:38           1       101.0\n",
       "4     27126831  2020-10-01 09:50:25           1       101.0\n",
       "5     27031658  2020-10-01 10:04:49           1       106.0\n",
       "6     27030648  2020-10-01 10:14:42           1       106.0\n",
       "7     27069515  2020-10-01 10:16:50           1       107.0\n",
       "8     27097145  2020-10-01 10:19:36           1       106.0\n",
       "9     27137603  2020-10-01 10:27:58           1       103.0"
      ],
      "text/html": "<div>\n<style scoped>\n    .dataframe tbody tr th:only-of-type {\n        vertical-align: middle;\n    }\n\n    .dataframe tbody tr th {\n        vertical-align: top;\n    }\n\n    .dataframe thead th {\n        text-align: right;\n    }\n</style>\n<table border=\"1\" class=\"dataframe\">\n  <thead>\n    <tr style=\"text-align: right;\">\n      <th></th>\n      <th>id_contrato</th>\n      <th>fecha_alta</th>\n      <th>id_gestion</th>\n      <th>estrategia</th>\n    </tr>\n  </thead>\n  <tbody>\n    <tr>\n      <th>0</th>\n      <td>27158634</td>\n      <td>2020-10-01 09:33:48</td>\n      <td>1</td>\n      <td>101.0</td>\n    </tr>\n    <tr>\n      <th>1</th>\n      <td>27161639</td>\n      <td>2020-10-01 09:34:30</td>\n      <td>1</td>\n      <td>101.0</td>\n    </tr>\n    <tr>\n      <th>2</th>\n      <td>27162169</td>\n      <td>2020-10-01 09:35:55</td>\n      <td>1</td>\n      <td>101.0</td>\n    </tr>\n    <tr>\n      <th>3</th>\n      <td>27164007</td>\n      <td>2020-10-01 09:36:38</td>\n      <td>1</td>\n      <td>101.0</td>\n    </tr>\n    <tr>\n      <th>4</th>\n      <td>27126831</td>\n      <td>2020-10-01 09:50:25</td>\n      <td>1</td>\n      <td>101.0</td>\n    </tr>\n    <tr>\n      <th>5</th>\n      <td>27031658</td>\n      <td>2020-10-01 10:04:49</td>\n      <td>1</td>\n      <td>106.0</td>\n    </tr>\n    <tr>\n      <th>6</th>\n      <td>27030648</td>\n      <td>2020-10-01 10:14:42</td>\n      <td>1</td>\n      <td>106.0</td>\n    </tr>\n    <tr>\n      <th>7</th>\n      <td>27069515</td>\n      <td>2020-10-01 10:16:50</td>\n      <td>1</td>\n      <td>107.0</td>\n    </tr>\n    <tr>\n      <th>8</th>\n      <td>27097145</td>\n      <td>2020-10-01 10:19:36</td>\n      <td>1</td>\n      <td>106.0</td>\n    </tr>\n    <tr>\n      <th>9</th>\n      <td>27137603</td>\n      <td>2020-10-01 10:27:58</td>\n      <td>1</td>\n      <td>103.0</td>\n    </tr>\n  </tbody>\n</table>\n</div>"
     },
     "metadata": {},
     "execution_count": 6
    }
   ],
   "source": [
    "gestiones.head(10)"
   ]
  },
  {
   "cell_type": "code",
   "execution_count": 7,
   "metadata": {},
   "outputs": [],
   "source": [
    "movimientos[\"cobros\"] = movimientos[\"principal\"] + movimientos[\"gastos\"] + movimientos[\"intereses\"]"
   ]
  },
  {
   "cell_type": "code",
   "execution_count": 8,
   "metadata": {},
   "outputs": [
    {
     "output_type": "execute_result",
     "data": {
      "text/plain": [
       "   id_contrato fecha_recobro principal gastos intereses    cobros\n",
       "0     27001453    2020-11-04    131,61      0         0  131,6100\n",
       "1     27001483    2020-11-25         0  47,53         0   047,530\n",
       "2     27022011    2020-11-19    117,56      0         0  117,5600\n",
       "3     27022133    2020-11-03    519,24      0         0  519,2400\n",
       "4     27022133    2020-11-05     374,6      0         0   374,600\n",
       "5     27022237    2020-11-12     16,14      0         0   16,1400\n",
       "6     27022237    2020-11-19    102,13      0         0  102,1300\n",
       "7     27022237    2020-11-22     16,06      0         0   16,0600\n",
       "8     27022237    2020-11-25     669,2      0         0   669,200\n",
       "9     27022305    2020-11-21       200      0         0     20000"
      ],
      "text/html": "<div>\n<style scoped>\n    .dataframe tbody tr th:only-of-type {\n        vertical-align: middle;\n    }\n\n    .dataframe tbody tr th {\n        vertical-align: top;\n    }\n\n    .dataframe thead th {\n        text-align: right;\n    }\n</style>\n<table border=\"1\" class=\"dataframe\">\n  <thead>\n    <tr style=\"text-align: right;\">\n      <th></th>\n      <th>id_contrato</th>\n      <th>fecha_recobro</th>\n      <th>principal</th>\n      <th>gastos</th>\n      <th>intereses</th>\n      <th>cobros</th>\n    </tr>\n  </thead>\n  <tbody>\n    <tr>\n      <th>0</th>\n      <td>27001453</td>\n      <td>2020-11-04</td>\n      <td>131,61</td>\n      <td>0</td>\n      <td>0</td>\n      <td>131,6100</td>\n    </tr>\n    <tr>\n      <th>1</th>\n      <td>27001483</td>\n      <td>2020-11-25</td>\n      <td>0</td>\n      <td>47,53</td>\n      <td>0</td>\n      <td>047,530</td>\n    </tr>\n    <tr>\n      <th>2</th>\n      <td>27022011</td>\n      <td>2020-11-19</td>\n      <td>117,56</td>\n      <td>0</td>\n      <td>0</td>\n      <td>117,5600</td>\n    </tr>\n    <tr>\n      <th>3</th>\n      <td>27022133</td>\n      <td>2020-11-03</td>\n      <td>519,24</td>\n      <td>0</td>\n      <td>0</td>\n      <td>519,2400</td>\n    </tr>\n    <tr>\n      <th>4</th>\n      <td>27022133</td>\n      <td>2020-11-05</td>\n      <td>374,6</td>\n      <td>0</td>\n      <td>0</td>\n      <td>374,600</td>\n    </tr>\n    <tr>\n      <th>5</th>\n      <td>27022237</td>\n      <td>2020-11-12</td>\n      <td>16,14</td>\n      <td>0</td>\n      <td>0</td>\n      <td>16,1400</td>\n    </tr>\n    <tr>\n      <th>6</th>\n      <td>27022237</td>\n      <td>2020-11-19</td>\n      <td>102,13</td>\n      <td>0</td>\n      <td>0</td>\n      <td>102,1300</td>\n    </tr>\n    <tr>\n      <th>7</th>\n      <td>27022237</td>\n      <td>2020-11-22</td>\n      <td>16,06</td>\n      <td>0</td>\n      <td>0</td>\n      <td>16,0600</td>\n    </tr>\n    <tr>\n      <th>8</th>\n      <td>27022237</td>\n      <td>2020-11-25</td>\n      <td>669,2</td>\n      <td>0</td>\n      <td>0</td>\n      <td>669,200</td>\n    </tr>\n    <tr>\n      <th>9</th>\n      <td>27022305</td>\n      <td>2020-11-21</td>\n      <td>200</td>\n      <td>0</td>\n      <td>0</td>\n      <td>20000</td>\n    </tr>\n  </tbody>\n</table>\n</div>"
     },
     "metadata": {},
     "execution_count": 8
    }
   ],
   "source": [
    "movimientos.head(10)"
   ]
  },
  {
   "cell_type": "code",
   "execution_count": 9,
   "metadata": {},
   "outputs": [],
   "source": [
    "#combinamos los dataframes\n",
    "new_df = movimientos.merge(gestiones, how='inner', on=\"id_contrato\")"
   ]
  },
  {
   "cell_type": "code",
   "execution_count": 10,
   "metadata": {},
   "outputs": [
    {
     "output_type": "execute_result",
     "data": {
      "text/plain": [
       "   id_contrato fecha_recobro principal gastos intereses    cobros  \\\n",
       "0     27001453    2020-11-04    131,61      0         0  131,6100   \n",
       "1     27001453    2020-11-04    131,61      0         0  131,6100   \n",
       "2     27001453    2020-11-04    131,61      0         0  131,6100   \n",
       "3     27001453    2020-11-04    131,61      0         0  131,6100   \n",
       "4     27001453    2020-11-04    131,61      0         0  131,6100   \n",
       "5     27001453    2020-11-04    131,61      0         0  131,6100   \n",
       "6     27001453    2020-11-04    131,61      0         0  131,6100   \n",
       "7     27001453    2020-11-04    131,61      0         0  131,6100   \n",
       "8     27001453    2020-11-04    131,61      0         0  131,6100   \n",
       "9     27001453    2020-11-04    131,61      0         0  131,6100   \n",
       "\n",
       "            fecha_alta  id_gestion  estrategia  \n",
       "0  2020-10-02 22:25:00           6        46.0  \n",
       "1  2020-10-05 22:25:00           6        46.0  \n",
       "2  2020-10-07 22:25:00           6        46.0  \n",
       "3  2020-10-10 22:25:00           6        46.0  \n",
       "4  2020-10-13 22:25:00           6        46.0  \n",
       "5  2020-10-15 22:25:00           6        46.0  \n",
       "6  2020-10-17 22:25:00           6        46.0  \n",
       "7  2020-10-19 22:25:00           6        46.0  \n",
       "8  2020-10-21 22:25:00           6        46.0  \n",
       "9  2020-10-23 22:25:00           6        46.0  "
      ],
      "text/html": "<div>\n<style scoped>\n    .dataframe tbody tr th:only-of-type {\n        vertical-align: middle;\n    }\n\n    .dataframe tbody tr th {\n        vertical-align: top;\n    }\n\n    .dataframe thead th {\n        text-align: right;\n    }\n</style>\n<table border=\"1\" class=\"dataframe\">\n  <thead>\n    <tr style=\"text-align: right;\">\n      <th></th>\n      <th>id_contrato</th>\n      <th>fecha_recobro</th>\n      <th>principal</th>\n      <th>gastos</th>\n      <th>intereses</th>\n      <th>cobros</th>\n      <th>fecha_alta</th>\n      <th>id_gestion</th>\n      <th>estrategia</th>\n    </tr>\n  </thead>\n  <tbody>\n    <tr>\n      <th>0</th>\n      <td>27001453</td>\n      <td>2020-11-04</td>\n      <td>131,61</td>\n      <td>0</td>\n      <td>0</td>\n      <td>131,6100</td>\n      <td>2020-10-02 22:25:00</td>\n      <td>6</td>\n      <td>46.0</td>\n    </tr>\n    <tr>\n      <th>1</th>\n      <td>27001453</td>\n      <td>2020-11-04</td>\n      <td>131,61</td>\n      <td>0</td>\n      <td>0</td>\n      <td>131,6100</td>\n      <td>2020-10-05 22:25:00</td>\n      <td>6</td>\n      <td>46.0</td>\n    </tr>\n    <tr>\n      <th>2</th>\n      <td>27001453</td>\n      <td>2020-11-04</td>\n      <td>131,61</td>\n      <td>0</td>\n      <td>0</td>\n      <td>131,6100</td>\n      <td>2020-10-07 22:25:00</td>\n      <td>6</td>\n      <td>46.0</td>\n    </tr>\n    <tr>\n      <th>3</th>\n      <td>27001453</td>\n      <td>2020-11-04</td>\n      <td>131,61</td>\n      <td>0</td>\n      <td>0</td>\n      <td>131,6100</td>\n      <td>2020-10-10 22:25:00</td>\n      <td>6</td>\n      <td>46.0</td>\n    </tr>\n    <tr>\n      <th>4</th>\n      <td>27001453</td>\n      <td>2020-11-04</td>\n      <td>131,61</td>\n      <td>0</td>\n      <td>0</td>\n      <td>131,6100</td>\n      <td>2020-10-13 22:25:00</td>\n      <td>6</td>\n      <td>46.0</td>\n    </tr>\n    <tr>\n      <th>5</th>\n      <td>27001453</td>\n      <td>2020-11-04</td>\n      <td>131,61</td>\n      <td>0</td>\n      <td>0</td>\n      <td>131,6100</td>\n      <td>2020-10-15 22:25:00</td>\n      <td>6</td>\n      <td>46.0</td>\n    </tr>\n    <tr>\n      <th>6</th>\n      <td>27001453</td>\n      <td>2020-11-04</td>\n      <td>131,61</td>\n      <td>0</td>\n      <td>0</td>\n      <td>131,6100</td>\n      <td>2020-10-17 22:25:00</td>\n      <td>6</td>\n      <td>46.0</td>\n    </tr>\n    <tr>\n      <th>7</th>\n      <td>27001453</td>\n      <td>2020-11-04</td>\n      <td>131,61</td>\n      <td>0</td>\n      <td>0</td>\n      <td>131,6100</td>\n      <td>2020-10-19 22:25:00</td>\n      <td>6</td>\n      <td>46.0</td>\n    </tr>\n    <tr>\n      <th>8</th>\n      <td>27001453</td>\n      <td>2020-11-04</td>\n      <td>131,61</td>\n      <td>0</td>\n      <td>0</td>\n      <td>131,6100</td>\n      <td>2020-10-21 22:25:00</td>\n      <td>6</td>\n      <td>46.0</td>\n    </tr>\n    <tr>\n      <th>9</th>\n      <td>27001453</td>\n      <td>2020-11-04</td>\n      <td>131,61</td>\n      <td>0</td>\n      <td>0</td>\n      <td>131,6100</td>\n      <td>2020-10-23 22:25:00</td>\n      <td>6</td>\n      <td>46.0</td>\n    </tr>\n  </tbody>\n</table>\n</div>"
     },
     "metadata": {},
     "execution_count": 10
    }
   ],
   "source": [
    "new_df.head(10)"
   ]
  },
  {
   "cell_type": "code",
   "execution_count": 11,
   "metadata": {},
   "outputs": [
    {
     "output_type": "stream",
     "name": "stdout",
     "text": [
      "<class 'pandas.core.frame.DataFrame'>\nInt64Index: 472567 entries, 0 to 472566\nData columns (total 9 columns):\n #   Column         Non-Null Count   Dtype  \n---  ------         --------------   -----  \n 0   id_contrato    472567 non-null  int64  \n 1   fecha_recobro  472567 non-null  object \n 2   principal      472567 non-null  object \n 3   gastos         472567 non-null  object \n 4   intereses      472567 non-null  object \n 5   cobros         472567 non-null  object \n 6   fecha_alta     472567 non-null  object \n 7   id_gestion     472567 non-null  int64  \n 8   estrategia     472567 non-null  float64\ndtypes: float64(1), int64(2), object(6)\nmemory usage: 36.1+ MB\n"
     ]
    }
   ],
   "source": [
    "new_df.info()"
   ]
  },
  {
   "cell_type": "code",
   "execution_count": 12,
   "metadata": {},
   "outputs": [],
   "source": [
    "new_df['fecha_alta'] = pd.to_datetime(new_df[\"fecha_alta\"],format=\"%Y-%m-%d\")"
   ]
  },
  {
   "cell_type": "code",
   "execution_count": 13,
   "metadata": {},
   "outputs": [],
   "source": [
    "new_df[\"fecha_recobro\"] = pd.to_datetime(new_df[\"fecha_recobro\"],format=\"%Y-%m-%d\")"
   ]
  },
  {
   "cell_type": "code",
   "execution_count": 14,
   "metadata": {},
   "outputs": [],
   "source": [
    "new_df[\"new_date\"] = new_df[\"fecha_recobro\"] - timedelta(days=30)"
   ]
  },
  {
   "cell_type": "code",
   "execution_count": 15,
   "metadata": {},
   "outputs": [],
   "source": [
    "new_df[\"boleano\"] =\"\""
   ]
  },
  {
   "cell_type": "code",
   "execution_count": 16,
   "metadata": {},
   "outputs": [],
   "source": [
    "def resultado_fecha(fila):\n",
    "    fecha_1 = fila.fecha_alta\n",
    "    fecha_2 = fila.new_date\n",
    "    if fecha_1 < fecha_2:\n",
    "        return True\n",
    "    else:\n",
    "        return False\n",
    "\n",
    "        "
   ]
  },
  {
   "cell_type": "code",
   "execution_count": 17,
   "metadata": {},
   "outputs": [],
   "source": [
    "new_df['boleano'] = new_df.apply(resultado_fecha, axis=1)"
   ]
  },
  {
   "cell_type": "code",
   "execution_count": 18,
   "metadata": {},
   "outputs": [],
   "source": [
    "new_df_grouped = new_df.drop(new_df[new_df.boleano == False].index)"
   ]
  },
  {
   "cell_type": "code",
   "execution_count": 19,
   "metadata": {},
   "outputs": [
    {
     "output_type": "execute_result",
     "data": {
      "text/plain": [
       "     id_contrato fecha_recobro principal gastos intereses    cobros  \\\n",
       "0       27001453    2020-11-04    131,61      0         0  131,6100   \n",
       "77      27022305    2020-11-21       200      0         0     20000   \n",
       "78      27022305    2020-11-21       200      0         0     20000   \n",
       "79      27022305    2020-11-21       200      0         0     20000   \n",
       "89      27022305    2020-11-21       200      0         0     20000   \n",
       "91      27022305    2020-11-30     768,9      0         0   768,900   \n",
       "92      27022305    2020-11-30     768,9      0         0   768,900   \n",
       "93      27022305    2020-11-30     768,9      0         0   768,900   \n",
       "103     27022305    2020-11-30     768,9      0         0   768,900   \n",
       "121     27022346    2020-11-20     76,11      0         0   76,1100   \n",
       "\n",
       "             fecha_alta  id_gestion  estrategia   new_date  boleano  \n",
       "0   2020-10-02 22:25:00           6        46.0 2020-10-05     True  \n",
       "77  2020-10-02 22:25:00           6       107.0 2020-10-22     True  \n",
       "78  2020-10-05 22:25:00           6       107.0 2020-10-22     True  \n",
       "79  2020-10-07 22:25:00           6       107.0 2020-10-22     True  \n",
       "89  2020-10-21 00:00:00          41       107.0 2020-10-22     True  \n",
       "91  2020-10-02 22:25:00           6       107.0 2020-10-31     True  \n",
       "92  2020-10-05 22:25:00           6       107.0 2020-10-31     True  \n",
       "93  2020-10-07 22:25:00           6       107.0 2020-10-31     True  \n",
       "103 2020-10-21 00:00:00          41       107.0 2020-10-31     True  \n",
       "121 2020-10-08 00:00:00          41       106.0 2020-10-21     True  "
      ],
      "text/html": "<div>\n<style scoped>\n    .dataframe tbody tr th:only-of-type {\n        vertical-align: middle;\n    }\n\n    .dataframe tbody tr th {\n        vertical-align: top;\n    }\n\n    .dataframe thead th {\n        text-align: right;\n    }\n</style>\n<table border=\"1\" class=\"dataframe\">\n  <thead>\n    <tr style=\"text-align: right;\">\n      <th></th>\n      <th>id_contrato</th>\n      <th>fecha_recobro</th>\n      <th>principal</th>\n      <th>gastos</th>\n      <th>intereses</th>\n      <th>cobros</th>\n      <th>fecha_alta</th>\n      <th>id_gestion</th>\n      <th>estrategia</th>\n      <th>new_date</th>\n      <th>boleano</th>\n    </tr>\n  </thead>\n  <tbody>\n    <tr>\n      <th>0</th>\n      <td>27001453</td>\n      <td>2020-11-04</td>\n      <td>131,61</td>\n      <td>0</td>\n      <td>0</td>\n      <td>131,6100</td>\n      <td>2020-10-02 22:25:00</td>\n      <td>6</td>\n      <td>46.0</td>\n      <td>2020-10-05</td>\n      <td>True</td>\n    </tr>\n    <tr>\n      <th>77</th>\n      <td>27022305</td>\n      <td>2020-11-21</td>\n      <td>200</td>\n      <td>0</td>\n      <td>0</td>\n      <td>20000</td>\n      <td>2020-10-02 22:25:00</td>\n      <td>6</td>\n      <td>107.0</td>\n      <td>2020-10-22</td>\n      <td>True</td>\n    </tr>\n    <tr>\n      <th>78</th>\n      <td>27022305</td>\n      <td>2020-11-21</td>\n      <td>200</td>\n      <td>0</td>\n      <td>0</td>\n      <td>20000</td>\n      <td>2020-10-05 22:25:00</td>\n      <td>6</td>\n      <td>107.0</td>\n      <td>2020-10-22</td>\n      <td>True</td>\n    </tr>\n    <tr>\n      <th>79</th>\n      <td>27022305</td>\n      <td>2020-11-21</td>\n      <td>200</td>\n      <td>0</td>\n      <td>0</td>\n      <td>20000</td>\n      <td>2020-10-07 22:25:00</td>\n      <td>6</td>\n      <td>107.0</td>\n      <td>2020-10-22</td>\n      <td>True</td>\n    </tr>\n    <tr>\n      <th>89</th>\n      <td>27022305</td>\n      <td>2020-11-21</td>\n      <td>200</td>\n      <td>0</td>\n      <td>0</td>\n      <td>20000</td>\n      <td>2020-10-21 00:00:00</td>\n      <td>41</td>\n      <td>107.0</td>\n      <td>2020-10-22</td>\n      <td>True</td>\n    </tr>\n    <tr>\n      <th>91</th>\n      <td>27022305</td>\n      <td>2020-11-30</td>\n      <td>768,9</td>\n      <td>0</td>\n      <td>0</td>\n      <td>768,900</td>\n      <td>2020-10-02 22:25:00</td>\n      <td>6</td>\n      <td>107.0</td>\n      <td>2020-10-31</td>\n      <td>True</td>\n    </tr>\n    <tr>\n      <th>92</th>\n      <td>27022305</td>\n      <td>2020-11-30</td>\n      <td>768,9</td>\n      <td>0</td>\n      <td>0</td>\n      <td>768,900</td>\n      <td>2020-10-05 22:25:00</td>\n      <td>6</td>\n      <td>107.0</td>\n      <td>2020-10-31</td>\n      <td>True</td>\n    </tr>\n    <tr>\n      <th>93</th>\n      <td>27022305</td>\n      <td>2020-11-30</td>\n      <td>768,9</td>\n      <td>0</td>\n      <td>0</td>\n      <td>768,900</td>\n      <td>2020-10-07 22:25:00</td>\n      <td>6</td>\n      <td>107.0</td>\n      <td>2020-10-31</td>\n      <td>True</td>\n    </tr>\n    <tr>\n      <th>103</th>\n      <td>27022305</td>\n      <td>2020-11-30</td>\n      <td>768,9</td>\n      <td>0</td>\n      <td>0</td>\n      <td>768,900</td>\n      <td>2020-10-21 00:00:00</td>\n      <td>41</td>\n      <td>107.0</td>\n      <td>2020-10-31</td>\n      <td>True</td>\n    </tr>\n    <tr>\n      <th>121</th>\n      <td>27022346</td>\n      <td>2020-11-20</td>\n      <td>76,11</td>\n      <td>0</td>\n      <td>0</td>\n      <td>76,1100</td>\n      <td>2020-10-08 00:00:00</td>\n      <td>41</td>\n      <td>106.0</td>\n      <td>2020-10-21</td>\n      <td>True</td>\n    </tr>\n  </tbody>\n</table>\n</div>"
     },
     "metadata": {},
     "execution_count": 19
    }
   ],
   "source": [
    "new_df_grouped.head(10)"
   ]
  },
  {
   "cell_type": "code",
   "execution_count": 20,
   "metadata": {},
   "outputs": [],
   "source": [
    "new_df_grouped['cobro_por_estrategia']=''"
   ]
  },
  {
   "cell_type": "code",
   "execution_count": 21,
   "metadata": {},
   "outputs": [],
   "source": [
    "lista =[1 ,  14  , 45 , 105 ,1083 ,5492, 5997 ,6242, 6245 ,6297 ,6298 ,6299 ,6300 ,6301 ,6304 ,6305, 6306, 6311 ,6315 ,6316 ,6317 ,6319 ,6320 ,6322, 6326, 6327,6328 ,6329 ,6330, 6423 ]"
   ]
  },
  {
   "cell_type": "code",
   "execution_count": 36,
   "metadata": {},
   "outputs": [],
   "source": [
    "new_df_grouped_2 = new_df_grouped[(new_df_grouped.estrategia==103) &( new_df_grouped.id_gestion.isin(lista))]"
   ]
  },
  {
   "cell_type": "code",
   "execution_count": 41,
   "metadata": {},
   "outputs": [
    {
     "output_type": "execute_result",
     "data": {
      "text/plain": [
       "        id_contrato fecha_recobro principal gastos intereses     cobros  \\\n",
       "79898      27142396    2020-11-26    576,17      0         0   576,1700   \n",
       "86975      27153137    2020-11-26   1160,66      0         0  1160,6600   \n",
       "157286     27181150    2020-11-24     802,6      0         0    802,600   \n",
       "162494     27181910    2020-11-23     11,25      0         0    11,2500   \n",
       "162530     27181910    2020-11-24    628,19      0         0   628,1900   \n",
       "178523     27188623    2020-11-18     15,25      0         0    15,2500   \n",
       "178543     27188623    2020-11-24    245,52      0         0   245,5200   \n",
       "182740     27189456    2020-11-24    789,88      0         0   789,8800   \n",
       "182898     27189509    2020-11-28     44,75      0         0    44,7500   \n",
       "192629     27193628    2020-11-11        40      0         0       4000   \n",
       "192697     27193628    2020-11-24    751,38      0         0   751,3800   \n",
       "197913     27198075    2020-11-24     574,5      0         0    574,500   \n",
       "203912     27198763    2020-11-24    208,55      0         0   208,5500   \n",
       "205381     27198978    2020-11-18      33,6      0         0     33,600   \n",
       "205409     27198978    2020-11-23    553,56      0         0   553,5600   \n",
       "205677     27198999    2020-11-24    882,08      0         0   882,0800   \n",
       "207248     27199360    2020-11-24    578,82      0         0   578,8200   \n",
       "210076     27199663    2020-11-24      3,37      0         0     3,3700   \n",
       "212576     27200151    2020-11-28    208,17      0         0   208,1700   \n",
       "213735     27200401    2020-11-24    509,86      0         0   509,8600   \n",
       "213870     27200493    2020-11-24    308,75      0         0   308,7500   \n",
       "214484     27201385    2020-11-24    622,19      0         0   622,1900   \n",
       "215169     27201471    2020-11-24    594,22      0         0   594,2200   \n",
       "225414     27204956    2020-11-24    541,81      0         0   541,8100   \n",
       "228204     27205304    2020-11-24    113,29      0         0   113,2900   \n",
       "\n",
       "                fecha_alta  id_gestion  estrategia   new_date  boleano  \\\n",
       "79898  2020-10-23 13:29:54           1       103.0 2020-10-27     True   \n",
       "86975  2020-10-24 09:15:25           1       103.0 2020-10-27     True   \n",
       "157286 2020-10-07 12:19:07        6320       103.0 2020-10-25     True   \n",
       "162494 2020-10-06 20:37:02        6319       103.0 2020-10-24     True   \n",
       "162530 2020-10-06 20:37:02        6319       103.0 2020-10-25     True   \n",
       "178523 2020-10-09 13:29:30        6320       103.0 2020-10-19     True   \n",
       "178543 2020-10-09 13:29:30        6320       103.0 2020-10-25     True   \n",
       "182740 2020-10-08 13:01:56        6320       103.0 2020-10-25     True   \n",
       "182898 2020-10-08 09:50:22           1       103.0 2020-10-29     True   \n",
       "192629 2020-10-08 13:14:35        6320       103.0 2020-10-12     True   \n",
       "192697 2020-10-16 17:18:40        6319       103.0 2020-10-25     True   \n",
       "197913 2020-10-22 20:37:47           1       103.0 2020-10-25     True   \n",
       "203912 2020-10-15 19:25:13        6320       103.0 2020-10-25     True   \n",
       "205381 2020-10-15 12:29:59           1       103.0 2020-10-19     True   \n",
       "205409 2020-10-15 12:29:59           1       103.0 2020-10-24     True   \n",
       "205677 2020-10-17 10:42:37           1       103.0 2020-10-25     True   \n",
       "207248 2020-10-22 14:04:20           1       103.0 2020-10-25     True   \n",
       "210076 2020-10-21 09:17:47        6320       103.0 2020-10-25     True   \n",
       "212576 2020-10-15 17:57:21        6320       103.0 2020-10-29     True   \n",
       "213735 2020-10-21 09:45:37           1       103.0 2020-10-25     True   \n",
       "213870 2020-10-23 19:51:39           1       103.0 2020-10-25     True   \n",
       "214484 2020-10-16 14:57:47           1       103.0 2020-10-25     True   \n",
       "215169 2020-10-21 10:03:19           1       103.0 2020-10-25     True   \n",
       "225414 2020-10-21 09:27:45        5492       103.0 2020-10-25     True   \n",
       "228204 2020-10-23 09:11:12        6320       103.0 2020-10-25     True   \n",
       "\n",
       "       cobro_por_estrategia  \n",
       "79898                        \n",
       "86975                        \n",
       "157286                       \n",
       "162494                       \n",
       "162530                       \n",
       "178523                       \n",
       "178543                       \n",
       "182740                       \n",
       "182898                       \n",
       "192629                       \n",
       "192697                       \n",
       "197913                       \n",
       "203912                       \n",
       "205381                       \n",
       "205409                       \n",
       "205677                       \n",
       "207248                       \n",
       "210076                       \n",
       "212576                       \n",
       "213735                       \n",
       "213870                       \n",
       "214484                       \n",
       "215169                       \n",
       "225414                       \n",
       "228204                       "
      ],
      "text/html": "<div>\n<style scoped>\n    .dataframe tbody tr th:only-of-type {\n        vertical-align: middle;\n    }\n\n    .dataframe tbody tr th {\n        vertical-align: top;\n    }\n\n    .dataframe thead th {\n        text-align: right;\n    }\n</style>\n<table border=\"1\" class=\"dataframe\">\n  <thead>\n    <tr style=\"text-align: right;\">\n      <th></th>\n      <th>id_contrato</th>\n      <th>fecha_recobro</th>\n      <th>principal</th>\n      <th>gastos</th>\n      <th>intereses</th>\n      <th>cobros</th>\n      <th>fecha_alta</th>\n      <th>id_gestion</th>\n      <th>estrategia</th>\n      <th>new_date</th>\n      <th>boleano</th>\n      <th>cobro_por_estrategia</th>\n    </tr>\n  </thead>\n  <tbody>\n    <tr>\n      <th>79898</th>\n      <td>27142396</td>\n      <td>2020-11-26</td>\n      <td>576,17</td>\n      <td>0</td>\n      <td>0</td>\n      <td>576,1700</td>\n      <td>2020-10-23 13:29:54</td>\n      <td>1</td>\n      <td>103.0</td>\n      <td>2020-10-27</td>\n      <td>True</td>\n      <td></td>\n    </tr>\n    <tr>\n      <th>86975</th>\n      <td>27153137</td>\n      <td>2020-11-26</td>\n      <td>1160,66</td>\n      <td>0</td>\n      <td>0</td>\n      <td>1160,6600</td>\n      <td>2020-10-24 09:15:25</td>\n      <td>1</td>\n      <td>103.0</td>\n      <td>2020-10-27</td>\n      <td>True</td>\n      <td></td>\n    </tr>\n    <tr>\n      <th>157286</th>\n      <td>27181150</td>\n      <td>2020-11-24</td>\n      <td>802,6</td>\n      <td>0</td>\n      <td>0</td>\n      <td>802,600</td>\n      <td>2020-10-07 12:19:07</td>\n      <td>6320</td>\n      <td>103.0</td>\n      <td>2020-10-25</td>\n      <td>True</td>\n      <td></td>\n    </tr>\n    <tr>\n      <th>162494</th>\n      <td>27181910</td>\n      <td>2020-11-23</td>\n      <td>11,25</td>\n      <td>0</td>\n      <td>0</td>\n      <td>11,2500</td>\n      <td>2020-10-06 20:37:02</td>\n      <td>6319</td>\n      <td>103.0</td>\n      <td>2020-10-24</td>\n      <td>True</td>\n      <td></td>\n    </tr>\n    <tr>\n      <th>162530</th>\n      <td>27181910</td>\n      <td>2020-11-24</td>\n      <td>628,19</td>\n      <td>0</td>\n      <td>0</td>\n      <td>628,1900</td>\n      <td>2020-10-06 20:37:02</td>\n      <td>6319</td>\n      <td>103.0</td>\n      <td>2020-10-25</td>\n      <td>True</td>\n      <td></td>\n    </tr>\n    <tr>\n      <th>178523</th>\n      <td>27188623</td>\n      <td>2020-11-18</td>\n      <td>15,25</td>\n      <td>0</td>\n      <td>0</td>\n      <td>15,2500</td>\n      <td>2020-10-09 13:29:30</td>\n      <td>6320</td>\n      <td>103.0</td>\n      <td>2020-10-19</td>\n      <td>True</td>\n      <td></td>\n    </tr>\n    <tr>\n      <th>178543</th>\n      <td>27188623</td>\n      <td>2020-11-24</td>\n      <td>245,52</td>\n      <td>0</td>\n      <td>0</td>\n      <td>245,5200</td>\n      <td>2020-10-09 13:29:30</td>\n      <td>6320</td>\n      <td>103.0</td>\n      <td>2020-10-25</td>\n      <td>True</td>\n      <td></td>\n    </tr>\n    <tr>\n      <th>182740</th>\n      <td>27189456</td>\n      <td>2020-11-24</td>\n      <td>789,88</td>\n      <td>0</td>\n      <td>0</td>\n      <td>789,8800</td>\n      <td>2020-10-08 13:01:56</td>\n      <td>6320</td>\n      <td>103.0</td>\n      <td>2020-10-25</td>\n      <td>True</td>\n      <td></td>\n    </tr>\n    <tr>\n      <th>182898</th>\n      <td>27189509</td>\n      <td>2020-11-28</td>\n      <td>44,75</td>\n      <td>0</td>\n      <td>0</td>\n      <td>44,7500</td>\n      <td>2020-10-08 09:50:22</td>\n      <td>1</td>\n      <td>103.0</td>\n      <td>2020-10-29</td>\n      <td>True</td>\n      <td></td>\n    </tr>\n    <tr>\n      <th>192629</th>\n      <td>27193628</td>\n      <td>2020-11-11</td>\n      <td>40</td>\n      <td>0</td>\n      <td>0</td>\n      <td>4000</td>\n      <td>2020-10-08 13:14:35</td>\n      <td>6320</td>\n      <td>103.0</td>\n      <td>2020-10-12</td>\n      <td>True</td>\n      <td></td>\n    </tr>\n    <tr>\n      <th>192697</th>\n      <td>27193628</td>\n      <td>2020-11-24</td>\n      <td>751,38</td>\n      <td>0</td>\n      <td>0</td>\n      <td>751,3800</td>\n      <td>2020-10-16 17:18:40</td>\n      <td>6319</td>\n      <td>103.0</td>\n      <td>2020-10-25</td>\n      <td>True</td>\n      <td></td>\n    </tr>\n    <tr>\n      <th>197913</th>\n      <td>27198075</td>\n      <td>2020-11-24</td>\n      <td>574,5</td>\n      <td>0</td>\n      <td>0</td>\n      <td>574,500</td>\n      <td>2020-10-22 20:37:47</td>\n      <td>1</td>\n      <td>103.0</td>\n      <td>2020-10-25</td>\n      <td>True</td>\n      <td></td>\n    </tr>\n    <tr>\n      <th>203912</th>\n      <td>27198763</td>\n      <td>2020-11-24</td>\n      <td>208,55</td>\n      <td>0</td>\n      <td>0</td>\n      <td>208,5500</td>\n      <td>2020-10-15 19:25:13</td>\n      <td>6320</td>\n      <td>103.0</td>\n      <td>2020-10-25</td>\n      <td>True</td>\n      <td></td>\n    </tr>\n    <tr>\n      <th>205381</th>\n      <td>27198978</td>\n      <td>2020-11-18</td>\n      <td>33,6</td>\n      <td>0</td>\n      <td>0</td>\n      <td>33,600</td>\n      <td>2020-10-15 12:29:59</td>\n      <td>1</td>\n      <td>103.0</td>\n      <td>2020-10-19</td>\n      <td>True</td>\n      <td></td>\n    </tr>\n    <tr>\n      <th>205409</th>\n      <td>27198978</td>\n      <td>2020-11-23</td>\n      <td>553,56</td>\n      <td>0</td>\n      <td>0</td>\n      <td>553,5600</td>\n      <td>2020-10-15 12:29:59</td>\n      <td>1</td>\n      <td>103.0</td>\n      <td>2020-10-24</td>\n      <td>True</td>\n      <td></td>\n    </tr>\n    <tr>\n      <th>205677</th>\n      <td>27198999</td>\n      <td>2020-11-24</td>\n      <td>882,08</td>\n      <td>0</td>\n      <td>0</td>\n      <td>882,0800</td>\n      <td>2020-10-17 10:42:37</td>\n      <td>1</td>\n      <td>103.0</td>\n      <td>2020-10-25</td>\n      <td>True</td>\n      <td></td>\n    </tr>\n    <tr>\n      <th>207248</th>\n      <td>27199360</td>\n      <td>2020-11-24</td>\n      <td>578,82</td>\n      <td>0</td>\n      <td>0</td>\n      <td>578,8200</td>\n      <td>2020-10-22 14:04:20</td>\n      <td>1</td>\n      <td>103.0</td>\n      <td>2020-10-25</td>\n      <td>True</td>\n      <td></td>\n    </tr>\n    <tr>\n      <th>210076</th>\n      <td>27199663</td>\n      <td>2020-11-24</td>\n      <td>3,37</td>\n      <td>0</td>\n      <td>0</td>\n      <td>3,3700</td>\n      <td>2020-10-21 09:17:47</td>\n      <td>6320</td>\n      <td>103.0</td>\n      <td>2020-10-25</td>\n      <td>True</td>\n      <td></td>\n    </tr>\n    <tr>\n      <th>212576</th>\n      <td>27200151</td>\n      <td>2020-11-28</td>\n      <td>208,17</td>\n      <td>0</td>\n      <td>0</td>\n      <td>208,1700</td>\n      <td>2020-10-15 17:57:21</td>\n      <td>6320</td>\n      <td>103.0</td>\n      <td>2020-10-29</td>\n      <td>True</td>\n      <td></td>\n    </tr>\n    <tr>\n      <th>213735</th>\n      <td>27200401</td>\n      <td>2020-11-24</td>\n      <td>509,86</td>\n      <td>0</td>\n      <td>0</td>\n      <td>509,8600</td>\n      <td>2020-10-21 09:45:37</td>\n      <td>1</td>\n      <td>103.0</td>\n      <td>2020-10-25</td>\n      <td>True</td>\n      <td></td>\n    </tr>\n    <tr>\n      <th>213870</th>\n      <td>27200493</td>\n      <td>2020-11-24</td>\n      <td>308,75</td>\n      <td>0</td>\n      <td>0</td>\n      <td>308,7500</td>\n      <td>2020-10-23 19:51:39</td>\n      <td>1</td>\n      <td>103.0</td>\n      <td>2020-10-25</td>\n      <td>True</td>\n      <td></td>\n    </tr>\n    <tr>\n      <th>214484</th>\n      <td>27201385</td>\n      <td>2020-11-24</td>\n      <td>622,19</td>\n      <td>0</td>\n      <td>0</td>\n      <td>622,1900</td>\n      <td>2020-10-16 14:57:47</td>\n      <td>1</td>\n      <td>103.0</td>\n      <td>2020-10-25</td>\n      <td>True</td>\n      <td></td>\n    </tr>\n    <tr>\n      <th>215169</th>\n      <td>27201471</td>\n      <td>2020-11-24</td>\n      <td>594,22</td>\n      <td>0</td>\n      <td>0</td>\n      <td>594,2200</td>\n      <td>2020-10-21 10:03:19</td>\n      <td>1</td>\n      <td>103.0</td>\n      <td>2020-10-25</td>\n      <td>True</td>\n      <td></td>\n    </tr>\n    <tr>\n      <th>225414</th>\n      <td>27204956</td>\n      <td>2020-11-24</td>\n      <td>541,81</td>\n      <td>0</td>\n      <td>0</td>\n      <td>541,8100</td>\n      <td>2020-10-21 09:27:45</td>\n      <td>5492</td>\n      <td>103.0</td>\n      <td>2020-10-25</td>\n      <td>True</td>\n      <td></td>\n    </tr>\n    <tr>\n      <th>228204</th>\n      <td>27205304</td>\n      <td>2020-11-24</td>\n      <td>113,29</td>\n      <td>0</td>\n      <td>0</td>\n      <td>113,2900</td>\n      <td>2020-10-23 09:11:12</td>\n      <td>6320</td>\n      <td>103.0</td>\n      <td>2020-10-25</td>\n      <td>True</td>\n      <td></td>\n    </tr>\n  </tbody>\n</table>\n</div>"
     },
     "metadata": {},
     "execution_count": 41
    }
   ],
   "source": [
    "new_df_grouped_2.drop_duplicates(subset=['id_contrato','fecha_recobro'])"
   ]
  },
  {
   "cell_type": "code",
   "execution_count": 42,
   "metadata": {},
   "outputs": [],
   "source": [
    "new_df_grouped_2['cobro_por_estrategia']=  1.5"
   ]
  },
  {
   "cell_type": "code",
   "execution_count": 43,
   "metadata": {},
   "outputs": [
    {
     "output_type": "execute_result",
     "data": {
      "text/plain": [
       "        id_contrato fecha_recobro principal gastos intereses     cobros  \\\n",
       "79898      27142396    2020-11-26    576,17      0         0   576,1700   \n",
       "79941      27142396    2020-11-26    576,17      0         0   576,1700   \n",
       "79942      27142396    2020-11-26    576,17      0         0   576,1700   \n",
       "86975      27153137    2020-11-26   1160,66      0         0  1160,6600   \n",
       "87000      27153137    2020-11-26   1160,66      0         0  1160,6600   \n",
       "87001      27153137    2020-11-26   1160,66      0         0  1160,6600   \n",
       "87006      27153137    2020-11-26   1160,66      0         0  1160,6600   \n",
       "157286     27181150    2020-11-24     802,6      0         0    802,600   \n",
       "157287     27181150    2020-11-24     802,6      0         0    802,600   \n",
       "162494     27181910    2020-11-23     11,25      0         0    11,2500   \n",
       "\n",
       "                fecha_alta  id_gestion  estrategia   new_date  boleano  \\\n",
       "79898  2020-10-23 13:29:54           1       103.0 2020-10-27     True   \n",
       "79941  2020-10-23 14:07:33        6319       103.0 2020-10-27     True   \n",
       "79942  2020-10-17 11:26:36        6320       103.0 2020-10-27     True   \n",
       "86975  2020-10-24 09:15:25           1       103.0 2020-10-27     True   \n",
       "87000  2020-10-22 12:47:14        5492       103.0 2020-10-27     True   \n",
       "87001  2020-10-21 10:31:12        6320       103.0 2020-10-27     True   \n",
       "87006  2020-10-20 10:52:48        6326       103.0 2020-10-27     True   \n",
       "157286 2020-10-07 12:19:07        6320       103.0 2020-10-25     True   \n",
       "157287 2020-10-16 14:02:41        6320       103.0 2020-10-25     True   \n",
       "162494 2020-10-06 20:37:02        6319       103.0 2020-10-24     True   \n",
       "\n",
       "        cobro_por_estrategia  \n",
       "79898                    1.5  \n",
       "79941                    1.5  \n",
       "79942                    1.5  \n",
       "86975                    1.5  \n",
       "87000                    1.5  \n",
       "87001                    1.5  \n",
       "87006                    1.5  \n",
       "157286                   1.5  \n",
       "157287                   1.5  \n",
       "162494                   1.5  "
      ],
      "text/html": "<div>\n<style scoped>\n    .dataframe tbody tr th:only-of-type {\n        vertical-align: middle;\n    }\n\n    .dataframe tbody tr th {\n        vertical-align: top;\n    }\n\n    .dataframe thead th {\n        text-align: right;\n    }\n</style>\n<table border=\"1\" class=\"dataframe\">\n  <thead>\n    <tr style=\"text-align: right;\">\n      <th></th>\n      <th>id_contrato</th>\n      <th>fecha_recobro</th>\n      <th>principal</th>\n      <th>gastos</th>\n      <th>intereses</th>\n      <th>cobros</th>\n      <th>fecha_alta</th>\n      <th>id_gestion</th>\n      <th>estrategia</th>\n      <th>new_date</th>\n      <th>boleano</th>\n      <th>cobro_por_estrategia</th>\n    </tr>\n  </thead>\n  <tbody>\n    <tr>\n      <th>79898</th>\n      <td>27142396</td>\n      <td>2020-11-26</td>\n      <td>576,17</td>\n      <td>0</td>\n      <td>0</td>\n      <td>576,1700</td>\n      <td>2020-10-23 13:29:54</td>\n      <td>1</td>\n      <td>103.0</td>\n      <td>2020-10-27</td>\n      <td>True</td>\n      <td>1.5</td>\n    </tr>\n    <tr>\n      <th>79941</th>\n      <td>27142396</td>\n      <td>2020-11-26</td>\n      <td>576,17</td>\n      <td>0</td>\n      <td>0</td>\n      <td>576,1700</td>\n      <td>2020-10-23 14:07:33</td>\n      <td>6319</td>\n      <td>103.0</td>\n      <td>2020-10-27</td>\n      <td>True</td>\n      <td>1.5</td>\n    </tr>\n    <tr>\n      <th>79942</th>\n      <td>27142396</td>\n      <td>2020-11-26</td>\n      <td>576,17</td>\n      <td>0</td>\n      <td>0</td>\n      <td>576,1700</td>\n      <td>2020-10-17 11:26:36</td>\n      <td>6320</td>\n      <td>103.0</td>\n      <td>2020-10-27</td>\n      <td>True</td>\n      <td>1.5</td>\n    </tr>\n    <tr>\n      <th>86975</th>\n      <td>27153137</td>\n      <td>2020-11-26</td>\n      <td>1160,66</td>\n      <td>0</td>\n      <td>0</td>\n      <td>1160,6600</td>\n      <td>2020-10-24 09:15:25</td>\n      <td>1</td>\n      <td>103.0</td>\n      <td>2020-10-27</td>\n      <td>True</td>\n      <td>1.5</td>\n    </tr>\n    <tr>\n      <th>87000</th>\n      <td>27153137</td>\n      <td>2020-11-26</td>\n      <td>1160,66</td>\n      <td>0</td>\n      <td>0</td>\n      <td>1160,6600</td>\n      <td>2020-10-22 12:47:14</td>\n      <td>5492</td>\n      <td>103.0</td>\n      <td>2020-10-27</td>\n      <td>True</td>\n      <td>1.5</td>\n    </tr>\n    <tr>\n      <th>87001</th>\n      <td>27153137</td>\n      <td>2020-11-26</td>\n      <td>1160,66</td>\n      <td>0</td>\n      <td>0</td>\n      <td>1160,6600</td>\n      <td>2020-10-21 10:31:12</td>\n      <td>6320</td>\n      <td>103.0</td>\n      <td>2020-10-27</td>\n      <td>True</td>\n      <td>1.5</td>\n    </tr>\n    <tr>\n      <th>87006</th>\n      <td>27153137</td>\n      <td>2020-11-26</td>\n      <td>1160,66</td>\n      <td>0</td>\n      <td>0</td>\n      <td>1160,6600</td>\n      <td>2020-10-20 10:52:48</td>\n      <td>6326</td>\n      <td>103.0</td>\n      <td>2020-10-27</td>\n      <td>True</td>\n      <td>1.5</td>\n    </tr>\n    <tr>\n      <th>157286</th>\n      <td>27181150</td>\n      <td>2020-11-24</td>\n      <td>802,6</td>\n      <td>0</td>\n      <td>0</td>\n      <td>802,600</td>\n      <td>2020-10-07 12:19:07</td>\n      <td>6320</td>\n      <td>103.0</td>\n      <td>2020-10-25</td>\n      <td>True</td>\n      <td>1.5</td>\n    </tr>\n    <tr>\n      <th>157287</th>\n      <td>27181150</td>\n      <td>2020-11-24</td>\n      <td>802,6</td>\n      <td>0</td>\n      <td>0</td>\n      <td>802,600</td>\n      <td>2020-10-16 14:02:41</td>\n      <td>6320</td>\n      <td>103.0</td>\n      <td>2020-10-25</td>\n      <td>True</td>\n      <td>1.5</td>\n    </tr>\n    <tr>\n      <th>162494</th>\n      <td>27181910</td>\n      <td>2020-11-23</td>\n      <td>11,25</td>\n      <td>0</td>\n      <td>0</td>\n      <td>11,2500</td>\n      <td>2020-10-06 20:37:02</td>\n      <td>6319</td>\n      <td>103.0</td>\n      <td>2020-10-24</td>\n      <td>True</td>\n      <td>1.5</td>\n    </tr>\n  </tbody>\n</table>\n</div>"
     },
     "metadata": {},
     "execution_count": 43
    }
   ],
   "source": [
    "new_df_grouped_2.head(10)"
   ]
  },
  {
   "cell_type": "code",
   "execution_count": 44,
   "metadata": {},
   "outputs": [],
   "source": [
    "new_df_grouped_3 = new_df_grouped[(new_df_grouped.estrategia!=103) &( new_df_grouped.id_gestion.isin(lista))]"
   ]
  },
  {
   "cell_type": "code",
   "execution_count": null,
   "metadata": {},
   "outputs": [],
   "source": [
    "#new_df_grouped_3['cobro_por_estrategia']=  new_df_grouped_3['cobros']*0.4\n"
   ]
  }
 ]
}