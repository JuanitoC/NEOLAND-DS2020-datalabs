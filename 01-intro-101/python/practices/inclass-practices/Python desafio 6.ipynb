{
 "cells": [
  {
   "cell_type": "code",
   "execution_count": 32,
   "metadata": {},
   "outputs": [
    {
     "data": {
      "text/plain": [
       "['ATOM    232  N   CYS A  28       3.977   8.402   0.487  1.00 10.53           N',\n",
       " 'ATOM    233  CA  CYS A  28       3.295   9.146   1.517  1.00 10.04           C',\n",
       " 'ATOM    234  C   CYS A  28       4.174  10.264   2.053  1.00 10.31           C',\n",
       " 'ATOM    235  O   CYS A  28       5.378  10.108   2.202  1.00 12.91           O',\n",
       " 'ATOM    236  CB  CYS A  28       2.912   8.210   2.680  1.00  9.81           C',\n",
       " 'ATOM    237  SG  CYS A  28       1.804   6.853   2.197  1.00  9.93           S',\n",
       " 'ATOM    238  N   GLY A  29       3.546  11.391   2.430  1.00 10.76           N',\n",
       " 'ATOM    239  CA  GLY A  29       4.295  12.472   3.049  1.00 11.93           C',\n",
       " 'ATOM    240  C   GLY A  29       3.416  13.524   3.596  1.00 12.60           C',\n",
       " 'ATOM    241  O   GLY A  29       3.985  14.574   4.052  1.00 15.82           O']"
      ]
     },
     "execution_count": 32,
     "metadata": {},
     "output_type": "execute_result"
    }
   ],
   "source": [
    "molecula = \"\"\"\n",
    "ATOM    232  N   CYS A  28       3.977   8.402   0.487  1.00 10.53           N\n",
    "ATOM    233  CA  CYS A  28       3.295   9.146   1.517  1.00 10.04           C\n",
    "ATOM    234  C   CYS A  28       4.174  10.264   2.053  1.00 10.31           C\n",
    "ATOM    235  O   CYS A  28       5.378  10.108   2.202  1.00 12.91           O\n",
    "ATOM    236  CB  CYS A  28       2.912   8.210   2.680  1.00  9.81           C\n",
    "ATOM    237  SG  CYS A  28       1.804   6.853   2.197  1.00  9.93           S\n",
    "ATOM    238  N   GLY A  29       3.546  11.391   2.430  1.00 10.76           N\n",
    "ATOM    239  CA  GLY A  29       4.295  12.472   3.049  1.00 11.93           C\n",
    "ATOM    240  C   GLY A  29       3.416  13.524   3.596  1.00 12.60           C\n",
    "ATOM    241  O   GLY A  29       3.985  14.574   4.052  1.00 15.82           O\n",
    "\"\"\"\n",
    "lines = molecula.splitlines()\n",
    "\n",
    "lines_atom = list()\n",
    "for l in lines:\n",
    "    if l.startswith(\"ATOM\"):\n",
    "        lines_atom.append(l)\n",
    "\n",
    "lines_atom"
   ]
  },
  {
   "cell_type": "code",
   "execution_count": 35,
   "metadata": {},
   "outputs": [
    {
     "data": {
      "text/plain": [
       "{'N': ['ATOM    232  N   CYS A  28       3.977   8.402   0.487  1.00 10.53           N',\n",
       "  'ATOM    238  N   GLY A  29       3.546  11.391   2.430  1.00 10.76           N'],\n",
       " 'C': ['ATOM    233  CA  CYS A  28       3.295   9.146   1.517  1.00 10.04           C',\n",
       "  'ATOM    234  C   CYS A  28       4.174  10.264   2.053  1.00 10.31           C',\n",
       "  'ATOM    236  CB  CYS A  28       2.912   8.210   2.680  1.00  9.81           C',\n",
       "  'ATOM    239  CA  GLY A  29       4.295  12.472   3.049  1.00 11.93           C',\n",
       "  'ATOM    240  C   GLY A  29       3.416  13.524   3.596  1.00 12.60           C'],\n",
       " 'O': ['ATOM    235  O   CYS A  28       5.378  10.108   2.202  1.00 12.91           O',\n",
       "  'ATOM    241  O   GLY A  29       3.985  14.574   4.052  1.00 15.82           O'],\n",
       " 'S': ['ATOM    237  SG  CYS A  28       1.804   6.853   2.197  1.00  9.93           S']}"
      ]
     },
     "execution_count": 35,
     "metadata": {},
     "output_type": "execute_result"
    }
   ],
   "source": [
    "### Creamos un dict vacio\n",
    "\n",
    "dic_tipo = {}\n",
    "\n",
    "for line in lines_atom:\n",
    "    tipo = line[-1]\n",
    "    if not dic_tipo.get(tipo):\n",
    "        dic_tipo[tipo] = [line]\n",
    "    else:\n",
    "        dic_tipo[tipo].append(line)\n",
    "        \n",
    "dic_tipo\n",
    "    "
   ]
  },
  {
   "cell_type": "code",
   "execution_count": null,
   "metadata": {},
   "outputs": [],
   "source": []
  }
 ],
 "metadata": {
  "kernelspec": {
   "display_name": "Python 3",
   "language": "python",
   "name": "python3"
  },
  "language_info": {
   "codemirror_mode": {
    "name": "ipython",
    "version": 3
   },
   "file_extension": ".py",
   "mimetype": "text/x-python",
   "name": "python",
   "nbconvert_exporter": "python",
   "pygments_lexer": "ipython3",
   "version": "3.8.3"
  }
 },
 "nbformat": 4,
 "nbformat_minor": 4
}
