{
 "cells": [
  {
   "cell_type": "code",
   "execution_count": 2,
   "metadata": {
    "jupyter": {
     "source_hidden": true
    }
   },
   "outputs": [],
   "source": [
    "### mark "
   ]
  },
  {
   "cell_type": "markdown",
   "metadata": {},
   "source": [
    "Bus\n",
    "Este bus tiene un sistema de control de subida y bajada de pasajeros para monitorizar el número de ocupantes que lleva y así detectar cuando hay un aforo demasiado alto.\n",
    "\n",
    "En cada parada la subida y bajada de pasajeros se representa por una tupla compuesta por dos números enteros.\n",
    "\n",
    "bus_stop = (in, out)\n",
    "La sucesión de paradas se representa con una lista estas tuplas.\n",
    "\n",
    "stops = [(in1, out1), (in2, out2), (in3, out3), (in4, out4)]\n",
    "Objetivos:\n",
    "listas, tuplas\n",
    "bucles while/for\n",
    "mínimo, máximo, longitud\n",
    "media, desviación estandard\n",
    "Tareas\n",
    "Calcula el número de paradas.\n",
    "Asigna a una variable una lista cuyos elementos sean el número de pasajeros en cada parada (in-out),\n",
    "Halla el máximo de ocupación del autobús.\n",
    "Calcula la media de la ocupación. Y la desviación estandard.\n",
    "In [ ]:\n",
    "\n",
    "\n",
    "# 1. Calcula el número de paradas. \n",
    "\n",
    "\n",
    "# 2. Asigna a una variable una lista cuyos elementos sean el número de pasajeros en \n",
    "# cada parada: Cada elemento depende del elemento previo en la lista + in - out.  \n",
    "\n",
    "\n",
    "# 3. Halla el máximo de ocupación del autobús. \n",
    "\n",
    "\n",
    "# 4. Calcula la media de la ocupación. Y la desviación estandard."
   ]
  },
  {
   "cell_type": "code",
   "execution_count": 18,
   "metadata": {},
   "outputs": [
    {
     "name": "stdout",
     "output_type": "stream",
     "text": [
      "La linea de autobús tiene 9 paradas\n"
     ]
    }
   ],
   "source": [
    "## Definiciones básicas.\n",
    "import numpy as np\n",
    "\n",
    "stops=  [(10, 0), (4, 1), (3, 5), (3, 4), (5, 1), (1, 5), (5, 8), (4, 6), (2, 3)]\n",
    "\n",
    "\n",
    "## Numero de paradas\n",
    "Numero_de_paradas = len(stops)\n",
    "print('La linea de autobús tiene {} paradas'.format(Numero_de_paradas))\n",
    "Pasajeros_por_parada_lista= []\n",
    "\n",
    "Pasajeros_en_la_parada = 0\n",
    "\n",
    "for stop in stops:\n",
    "    Pasajeros_en_la_parada = Pasajeros_en_la_parada + stop[0]- stop[1]\n",
    "    Pasajeros_por_parada_lista.append(Pasajeros_en_la_parada)\n",
    "    \n",
    "\n",
    "### Máximo de ocupacíon\n",
    "Max_ocupacion = round(np.max( Pasajeros_por_parada_lista),2)\n",
    "### Media de ocupación.\n",
    "Mn_ocupacion = round(np.mean( Pasajeros_por_parada_lista),2)\n",
    "### Desviación standar\n",
    "Std_ocupacion = round(np.std( Pasajeros_por_parada_lista),2)\n",
    "\n",
    "\n",
    "\n",
    "\n"
   ]
  },
  {
   "cell_type": "code",
   "execution_count": 20,
   "metadata": {},
   "outputs": [
    {
     "name": "stdout",
     "output_type": "stream",
     "text": [
      "La linea de autobús tiene 9 paradas\n",
      "La linea de autobús tiene un máximo de ocupación de 14 pasajeros\n",
      "La linea de autobús tiene una media de ocupación 9.33 pasajeros\n",
      "La ocupación de la línea tiene una desviación de 3.2 pasajeros\n"
     ]
    }
   ],
   "source": [
    "### Soluciones\n",
    "print('La linea de autobús tiene {} paradas'.format(Numero_de_paradas))\n",
    "### Máximo de ocupación\n",
    "print('La linea de autobús tiene un máximo de ocupación de {} pasajeros'.format(Max_ocupacion))\n",
    "### Media de ocupación\n",
    "print('La linea de autobús tiene una media de ocupación {} pasajeros'.format(Mn_ocupacion))\n",
    "### Desviación standar\n",
    "print('La ocupación de la línea tiene una desviación de {} pasajeros'.format(Std_ocupacion))\n"
   ]
  },
  {
   "cell_type": "code",
   "execution_count": null,
   "metadata": {},
   "outputs": [],
   "source": []
  }
 ],
 "metadata": {
  "kernelspec": {
   "display_name": "Python 3",
   "language": "python",
   "name": "python3"
  },
  "language_info": {
   "codemirror_mode": {
    "name": "ipython",
    "version": 3
   },
   "file_extension": ".py",
   "mimetype": "text/x-python",
   "name": "python",
   "nbconvert_exporter": "python",
   "pygments_lexer": "ipython3",
   "version": "3.8.3"
  }
 },
 "nbformat": 4,
 "nbformat_minor": 4
}
