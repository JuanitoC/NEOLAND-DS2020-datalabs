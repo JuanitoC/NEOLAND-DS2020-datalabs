{
 "cells": [
  {
   "cell_type": "markdown",
   "metadata": {},
   "source": [
    "\n",
    "Robin Hood:\n",
    "Estamos en plena competición para ganar el concurso de tiro con arco en Sherwood. Con nuestro arco y flechas disparamos sobre una diana e intentamos acertar lo más cerca posible del centro.\n",
    "\n",
    "El centro de la diana viene representado por los valores (0, 0) en los ejes de coordenadas.\n",
    "\n",
    "Objetivos:\n",
    "estructuras de datos: listas, conjuntos, tuplas\n",
    "operadores lógicos: if-elif-else\n",
    "bucle: while/for\n",
    "cálculo de mínimo (sorting opcional)\n",
    "Descripción:\n",
    "En el espacio de 2 dimensiones un punto se puede definir por un par de valores que corresponden a la coordenada horizontal (x) y a la vertical (y). El espacio puede quedar dividido en 4 zonas (cuadrantes): Q1, Q2, Q3, Q4. Cuyo punto de unión único es el punto (0, 0).\n",
    "\n",
    "Si un punto se encuentra en Q1 tanto su coordenada x como la y son positivas. Te dejo un enlace a wikipedia para que te familiarices con estos cuadrantes.\n",
    "\n",
    "https://es.wikipedia.org/wiki/Coordenadas_cartesianas\n",
    "\n",
    "https://es.wikipedia.org/wiki/Distancia_euclidiana\n",
    "\n",
    "Tareas\n",
    "Robin Hood es famoso por acertar a una flecha con otra flecha. ¿Lo ha conseguido?\n",
    "Calcula cuántos flechazos han caido en cada cuadrante.\n",
    "Halla el punto más cercano al centro. Calcula su distancia al centro\n",
    "Si la diana tiene un radio de 9, calcula el número de flechas que hay que recoger al bosque.\n",
    "\n",
    "puntos = [(4,5), (-0,2), (4,7), (1,-3), (3,-2), (4,5), \n",
    "          (3,2), (5,7), (-5,7), (2,2), (-4,5), (0,-2), \n",
    "          (-4,7), (-1,3), (-3,2), (-4,-5), (-3,2), \n",
    "          (5,7), (5,7), (2,2), (9, 9), (-8, -9)]\n",
    "\n"
   ]
  },
  {
   "cell_type": "code",
   "execution_count": 2,
   "metadata": {},
   "outputs": [],
   "source": [
    "### Definiciones básicas\n",
    "\n",
    "Q1= 0\n",
    "Q2= 0\n",
    "Q3= 0\n",
    "Q4= 0\n",
    "## Algunos disparos tienen una puntuación de 0 en alguno de sus ejes, por lo tanto no es posible \n",
    "## determinar su cuadrante, para ellos se usará el Q0\n",
    "Q0= 0\n",
    "\n",
    "puntos = [(4,5), (-0,2), (4,7), (1,-3), (3,-2), (4,5), \n",
    "          (3,2), (5,7), (-5,7), (2,2), (-4,5), (0,-2), \n",
    "          (-4,7), (-1,3), (-3,2), (-4,-5), (-3,2), \n",
    "          (5,7), (5,7), (2,2), (9, 9), (-8, -9)]\n",
    "\n",
    "distancia_al_centro_list = list()\n",
    "import math\n"
   ]
  },
  {
   "cell_type": "code",
   "execution_count": 3,
   "metadata": {},
   "outputs": [],
   "source": [
    "Q0L = []\n",
    "for disparo in puntos:\n",
    "    ## La distancia al centro se calcula mediante el teorema de pitágoras, tomando los ejes X e Y como los catetos.\n",
    "    distancia_al_centro = round(math.sqrt(disparo[0]**2+disparo[1]**2),2)\n",
    "    distancia_al_centro_list.append(distancia_al_centro)  \n",
    "    ## Asignación de cuadrante\n",
    "    if disparo[0]>0 and disparo[1]>0:\n",
    "        Q2 +=1\n",
    "    elif disparo[0]>0 and disparo[1]<0:    \n",
    "        Q4 +=1\n",
    "    elif disparo[0]<0 and disparo[1]>0:\n",
    "        Q1 +=1     \n",
    "    elif disparo[0]<0 and disparo[1]<0: \n",
    "        Q3 +=1\n",
    "    else:\n",
    "        Q0L.append(disparo)\n",
    "        Q0 +=1"
   ]
  },
  {
   "cell_type": "code",
   "execution_count": 3,
   "metadata": {},
   "outputs": [],
   "source": [
    "## Flecha sobre flecha\n",
    "disparos_unicos = set(puntos)\n",
    "flecha_sobre_flecha = len(puntos)-len(disparos_unicos)"
   ]
  },
  {
   "cell_type": "code",
   "execution_count": 4,
   "metadata": {},
   "outputs": [],
   "source": [
    "## Flechas en el bosque:\n",
    "flechas_bosque_count = [+1 for flecha in distancia_al_centro_list if flecha>9]\n",
    "flechas_bosque = len(flechas_bosque_count)"
   ]
  },
  {
   "cell_type": "code",
   "execution_count": 5,
   "metadata": {},
   "outputs": [],
   "source": [
    "## Flecha más cercana\n",
    "distancia_mas_cercana = min(distancia_al_centro_list)"
   ]
  },
  {
   "cell_type": "code",
   "execution_count": 6,
   "metadata": {},
   "outputs": [
    {
     "name": "stdout",
     "output_type": "stream",
     "text": [
      "Robin Hood ha disparado flecha sobre flecha 5 veces.\n",
      "Robin Hood ha disparado 2 flechas al bosque.\n",
      "La flecha más cercana al centro ha estado a una distancia de 2.0.\n",
      "Robin Hood ha disparado 6 flechas al Q1\n",
      "Robin Hood ha disparado 10 flechas al Q2\n",
      "Robin Hood ha disparado 2 flechas al Q3\n",
      "Robin Hood ha disparado 2 flechas al Q4\n",
      "Robin Hood ha disparado 2 flechas al Q0\n"
     ]
    }
   ],
   "source": [
    "### Imprimimos resultados\n",
    "print('Robin Hood ha disparado flecha sobre flecha {} veces.'.format(flecha_sobre_flecha))\n",
    "print('Robin Hood ha disparado {} flechas al bosque.'.format(flechas_bosque))\n",
    "print('La flecha más cercana al centro ha estado a una distancia de {}.'.format(distancia_mas_cercana))\n",
    "print('Robin Hood ha disparado {} flechas al Q1'.format(Q1))\n",
    "print('Robin Hood ha disparado {} flechas al Q2'.format(Q2))\n",
    "print('Robin Hood ha disparado {} flechas al Q3'.format(Q3))\n",
    "print('Robin Hood ha disparado {} flechas al Q4'.format(Q4))\n",
    "print('Robin Hood ha disparado {} flechas al Q0'.format(Q0))"
   ]
  },
  {
   "cell_type": "code",
   "execution_count": null,
   "metadata": {},
   "outputs": [],
   "source": []
  }
 ],
 "metadata": {
  "kernelspec": {
   "display_name": "Python 3",
   "language": "python",
   "name": "python3"
  },
  "language_info": {
   "codemirror_mode": {
    "name": "ipython",
    "version": 3
   },
   "file_extension": ".py",
   "mimetype": "text/x-python",
   "name": "python",
   "nbconvert_exporter": "python",
   "pygments_lexer": "ipython3",
   "version": "3.8.3"
  }
 },
 "nbformat": 4,
 "nbformat_minor": 4
}
