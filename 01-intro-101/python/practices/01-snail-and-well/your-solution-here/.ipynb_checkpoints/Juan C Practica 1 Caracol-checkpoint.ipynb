{
 "cells": [
  {
   "cell_type": "markdown",
   "metadata": {},
   "source": [
    "\n",
    "01 - Caracol y el pozo\n",
    "Un caracol cae en el fondo de un pozo de 125 cm. Cada día el caracol sube 30 cm. pero por la noche, mientras duerme, resbala 20 cm debido a que las paredes son húmedas. ¿Cuantos días tarda en escapar del pozo?\n",
    "\n",
    "TIP: https://www.vix.com/es/btg/curiosidades/59215/acertijos-matematicos-el-caracol-en-el-pozo-facil\n",
    "\n",
    "TIP: http://puzzles.nigelcoldwell.co.uk/sixtytwo.htm\n",
    "\n",
    "Solución\n",
    "In [1]:\n",
    "# Asigna los datos del problema a variables con nombres representativos\n",
    "# altura del pozo, avance diario, retroceso nocturno, distancia acumulada\n",
    "\n",
    "\n",
    "# Asigna 0 a la variable que representa la solución\n",
    "\n",
    "\n",
    "# Escribe el código que soluciona el problema\n",
    "\n",
    "\n",
    "# Imprime el resultado con print('Dias =', dias)\n",
    "Objetivos\n",
    "Tratamiento de variables\n",
    "Uso de bucle while\n",
    "Uso de condicionales if-else\n",
    "Imprimir por consola\n",
    "Bonus\n",
    "La distancia recorrida por el caracol viene ahora definida por una lista.\n",
    "\n",
    "avance_cm = [30, 21, 33, 77, 44, 45, 23, 45, 12, 34, 55]\n",
    "¿Cuánto tarda en subir el pozo? ¿Cuál es su máximo de desplazamiento en un día? ¿Y su mínimo? ¿Cuál es su media de velocidad durante el día? ¿Cuál es la desviación típica de su desplazamiento durante el día?\n",
    "\n",
    "In [2]:\n",
    "# Asigna los datos del problema a variables con nombres representativos\n",
    "# altura del pozo, avance diario, retroceso nocturno, distancia acumulada\n",
    "\n",
    "\n",
    "# Asigna 0 a la variable que representa la solución\n",
    "\n",
    "\n",
    "# Escribe el código que soluciona el problema\n",
    "\n",
    "\n",
    "# Imprime el resultado con print('Dias =', dias)\n",
    "\n",
    "\n",
    "# ¿Cuál es su máximo de desplazamiento en un día? ¿Y su mínimo?\n",
    "\n",
    "\n",
    "# ¿Cuál es su media de avance?\n",
    "\n",
    "\n",
    "# ¿Cuál es la desviación típica de su desplazamiento durante el día?"
   ]
  },
  {
   "cell_type": "code",
   "execution_count": 1,
   "metadata": {},
   "outputs": [],
   "source": [
    "### Definiciones basicas\n",
    "import numpy as np\n",
    "avance_cm = [30, 21, 33, 77, 44, 45, 23, 45, 12, 34, 55]\n",
    "dias = 0\n",
    "altura_pozo = 125\n",
    "avance_diario = 0\n",
    "retroceso_nocturno =20\n",
    "distancia_acumulada = 0\n",
    "\n",
    "### dias que tarda en salir\n",
    "for avance in avance_cm:\n",
    "    dias +=1\n",
    "    avance_diario = avance\n",
    "    distancia_acumulada = distancia_acumulada + avance_diario - retroceso_nocturno\n",
    "    if distancia_acumulada >125:\n",
    "        break\n",
    "        \n",
    "### minimo desplazamiento de los días que tarda en salir.\n",
    "minimo_desplazamiento= np.min(avance_cm[0:dias-1])\n",
    "### maximo desplazamiento de los días que tarda en salir.\n",
    "maximo_desplazamiento= np.max(avance_cm[0:dias-1])\n",
    "\n",
    "### media de avance  de los días que tarda en salir.\n",
    "media_desplazamiento= round(np.mean(avance_cm[0:dias-1]),2)\n",
    "\n",
    "### desviación típica  de los días que tarda en salir.\n",
    "desviacion_desplazamiento= round(np.std(avance_cm[0:dias-1]),2)\n",
    "  \n",
    "  \n",
    "        \n",
    "\n"
   ]
  },
  {
   "cell_type": "code",
   "execution_count": 2,
   "metadata": {},
   "outputs": [
    {
     "name": "stdout",
     "output_type": "stream",
     "text": [
      "El caracol tarda 6 días en salir del pozo\n",
      " 21 cm es el mínimo que se movió el caracol para salir\n",
      " 77 cm es el máximo que se movió el caracol para salir\n",
      " 41.0 cm es la media que se movió el caracol para salir\n",
      " 19.44 cm es la desviacion tipica de los dias que se movió el caracol para salir\n"
     ]
    }
   ],
   "source": [
    "### Resultados\n",
    "print('El caracol tarda {} días en salir del pozo'.format(dias))\n",
    "print(' {} cm es el mínimo que se movió el caracol para salir'.format(minimo_desplazamiento))\n",
    "print(' {} cm es el máximo que se movió el caracol para salir'.format(maximo_desplazamiento))\n",
    "print(' {} cm es la media que se movió el caracol para salir'.format(media_desplazamiento))\n",
    "print(' {} cm es la desviacion tipica de los dias que se movió el caracol para salir'.format(desviacion_desplazamiento))"
   ]
  },
  {
   "cell_type": "code",
   "execution_count": null,
   "metadata": {},
   "outputs": [],
   "source": []
  }
 ],
 "metadata": {
  "kernelspec": {
   "display_name": "Python 3",
   "language": "python",
   "name": "python3"
  },
  "language_info": {
   "codemirror_mode": {
    "name": "ipython",
    "version": 3
   },
   "file_extension": ".py",
   "mimetype": "text/x-python",
   "name": "python",
   "nbconvert_exporter": "python",
   "pygments_lexer": "ipython3",
   "version": "3.8.3"
  }
 },
 "nbformat": 4,
 "nbformat_minor": 4
}
