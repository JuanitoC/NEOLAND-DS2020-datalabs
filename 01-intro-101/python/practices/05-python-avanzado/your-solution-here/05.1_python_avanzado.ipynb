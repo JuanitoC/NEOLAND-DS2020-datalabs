{
 "cells": [
  {
   "cell_type": "markdown",
   "metadata": {},
   "source": [
    "Programación para *Data Science*\n",
    "============================\n",
    "\n",
    "Intro101 - 05.1: Conceptos avanzados de Python\n",
    "--------------------------------------\n",
    "\n",
    "En este Notebook encontraréis dos conjuntos de ejercicios: un primer conjunto de ejercicios para practicar y que no puntuan, pero que recomendamos intentar resolver y un segundo conjunto que evaluaremos como actividad."
   ]
  },
  {
   "cell_type": "markdown",
   "metadata": {},
   "source": [
    "## Ejercicios para practicar\n",
    "\n",
    "**Los siguientes 3 ejercicios no puntuan**, pero os recomendamos que los intentéis resolver antes de pasar a los ejercicios propios. También podéis encontrar las soluciones a estos ejercicios al final del Notebook. "
   ]
  },
  {
   "cell_type": "markdown",
   "metadata": {},
   "source": [
    "### Ejercicio 1\n",
    "\n",
    "El siguiente ejercicio consiste en pasar un número en base 16 (hexadecimal, 0-9/A-F) a base 10 (decimal). Para hacerlo, debéis crear una **función** que dado un _string_ que representa un número en hexadecimal, por ejemplo, `AE3F`, devuelva el número \n",
    "natural correspondiente. En este caso, el resultado sería `44607`."
   ]
  },
  {
   "cell_type": "code",
   "execution_count": 13,
   "metadata": {},
   "outputs": [
    {
     "name": "stdin",
     "output_type": "stream",
     "text": [
      "Introduce un valor hexadecimal ae3f\n"
     ]
    },
    {
     "name": "stdout",
     "output_type": "stream",
     "text": [
      "44607\n"
     ]
    }
   ],
   "source": [
    "### Para hace esto usaremos la función int\n",
    "I = input('Introduce un valor hexadecimal')\n",
    "\n",
    "print(int(I,16))\n",
    "\n",
    "\n"
   ]
  },
  {
   "cell_type": "markdown",
   "metadata": {},
   "source": [
    "### Ejercicio 2\n",
    "\n",
    "Las excepciones son errores detectados en tiempo de ejecución. Pueden y deben ser manejadas por el programador para minimizar el riesgo de que un determinado programa falle de forma no controlada. Escribid, en lenguaje Python, cómo generar y capturar la siguiente excepción: **ZeroDivisionError**."
   ]
  },
  {
   "cell_type": "code",
   "execution_count": 15,
   "metadata": {},
   "outputs": [
    {
     "name": "stdout",
     "output_type": "stream",
     "text": [
      "Error evitado\n"
     ]
    }
   ],
   "source": [
    "# Respuesta\n",
    "\n",
    "try:\n",
    "    print( 1/0 ) ### generación del error\n",
    "except ZeroDivisionError:  ### Captura del error  \n",
    "    print('Error evitado') \n",
    "\n"
   ]
  },
  {
   "cell_type": "markdown",
   "metadata": {},
   "source": [
    "### Ejercicio 3\n",
    "\n",
    "Completad el código necesario para calcular el número de vocales y de consonantes respectivamente de un texto."
   ]
  },
  {
   "cell_type": "code",
   "execution_count": 40,
   "metadata": {},
   "outputs": [
    {
     "name": "stdout",
     "output_type": "stream",
     "text": [
      "Hola a todos! \n"
     ]
    }
   ],
   "source": [
    "texto = \"Hola a todos! \"\n",
    "print(texto)"
   ]
  },
  {
   "cell_type": "code",
   "execution_count": 41,
   "metadata": {},
   "outputs": [
    {
     "name": "stdout",
     "output_type": "stream",
     "text": [
      "Bienvenidos!\n"
     ]
    }
   ],
   "source": [
    "texto_2 = \"Bienvenidos!\"\n",
    "print(texto_2)"
   ]
  },
  {
   "cell_type": "code",
   "execution_count": 42,
   "metadata": {},
   "outputs": [],
   "source": [
    "def imprime(argumento):\n",
    "    nuevo = argumento + texto_2\n",
    "    print(nuevo)"
   ]
  },
  {
   "cell_type": "code",
   "execution_count": 43,
   "metadata": {},
   "outputs": [
    {
     "name": "stdout",
     "output_type": "stream",
     "text": [
      "Hola a todos! Bienvenidos!\n"
     ]
    }
   ],
   "source": [
    "imprime(texto)"
   ]
  },
  {
   "cell_type": "code",
   "execution_count": null,
   "metadata": {},
   "outputs": [],
   "source": []
  },
  {
   "cell_type": "code",
   "execution_count": 44,
   "metadata": {},
   "outputs": [
    {
     "name": "stdout",
     "output_type": "stream",
     "text": [
      "Hola a todos! Bienvenidos!\n"
     ]
    }
   ],
   "source": [
    "imprime(texto)"
   ]
  },
  {
   "cell_type": "code",
   "execution_count": null,
   "metadata": {},
   "outputs": [],
   "source": []
  },
  {
   "cell_type": "markdown",
   "metadata": {},
   "source": [
    "Pseudocódigo\n",
    "\n",
    "Dado un texto con n palabras\n",
    "la operación tiene que contar vocales y consonantes\n",
    "\n",
    "SI en el texto existe una vocal\n",
    "    IF:\n",
    "        num_vocales +1\n",
    "    ELSE desde (A AND la Z) OR (ç AND ñ):\n",
    "        num_consonantes +1"
   ]
  },
  {
   "cell_type": "code",
   "execution_count": 45,
   "metadata": {
    "attributes": {
     "classes": [
      "sourceCode"
     ],
     "id": ""
    }
   },
   "outputs": [
    {
     "name": "stdout",
     "output_type": "stream",
     "text": [
      "El número de vocales es 44.\n",
      "El número de consonantes es 62.\n"
     ]
    }
   ],
   "source": [
    "def contar_vocales_y_consonantes(texto):\n",
    "    # Cuenta las vocales contenidas en el string texto y también las consonantes.\n",
    "    num_vocales = 0\n",
    "    num_consonantes = 0\n",
    "\n",
    "    # Código que hay que completar.\n",
    "    # texto = texto.decode('utf-8')\n",
    "    # print(texto)\n",
    "    \n",
    "    # Definimos una lista con las vocales en unicode\n",
    "    vocales = [u'a', u'e', u'i', u'o', u'u', u'à', u'á', u'ä', u'ï', u'è', u'é', u'í', u'ï', u'ò', u'ó', u'ú', u'ü']\n",
    "    \n",
    "    for t in texto.lower():\n",
    "        if t in vocales:\n",
    "            num_vocales += 1\n",
    "        elif t > 'a' and t <= 'z' or t == u'ç' or t == u'ñ':\n",
    "            num_consonantes += 1\n",
    "            \n",
    "    return num_vocales, num_consonantes\n",
    "\n",
    "texto = \"Orbiting Earth in the spaceship, I saw how beautiful our planet is. \\\n",
    "            People, let us preserve and increase this beauty, not destroy it!\"\n",
    "\n",
    "num_vocales, num_consonantes = contar_vocales_y_consonantes(texto)\n",
    "print (\"El número de vocales es %d.\" % num_vocales)\n",
    "print (\"El número de consonantes es %d.\" % num_consonantes)"
   ]
  },
  {
   "cell_type": "markdown",
   "metadata": {},
   "source": [
    "---\n",
    "\n",
    "## Ejercicios y preguntas teóricas\n",
    "\n",
    "A continuación encontraréis los **ejercicios y preguntas teóricas que debéis completar en este módulo intro-101** y que forman parte de la evaluación de esta unidad."
   ]
  },
  {
   "cell_type": "markdown",
   "metadata": {},
   "source": [
    "### Pregunta 1\n",
    "\n",
    "Las funciones _range_ y _xrange_ pueden utilizarse con la misma finalidad, pero su funcionamiento es diferente. Poned un ejemplo donde sería recomendable intercambiar la función _range_ por la función _xrange_.\n",
    "\n",
    "**Respuesta:**"
   ]
  },
  {
   "cell_type": "markdown",
   "metadata": {},
   "source": [
    "Escribid vuestra respuesta aquí"
   ]
  },
  {
   "cell_type": "markdown",
   "metadata": {},
   "source": [
    "### Pregunta 2\n",
    "\n",
    "a) Explicad brevemente cada línea de código del siguiente bloque (añadid comentarios en el mismo bloque de código):"
   ]
  },
  {
   "cell_type": "code",
   "execution_count": 38,
   "metadata": {
    "tags": []
   },
   "outputs": [
    {
     "name": "stdout",
     "output_type": "stream",
     "text": [
      "Primera iteración: número generado = 0\n",
      "Primera iteración: número generado = 1\n",
      "Primera iteración: número generado = 2\n",
      "Primera iteración: número generado = 3\n",
      "Primera iteración: número generado = 4\n",
      "Primera iteración: número generado = 5\n",
      "Primera iteración: número generado = 6\n",
      "Primera iteración: número generado = 7\n",
      "Primera iteración: número generado = 8\n",
      "Primera iteración: número generado = 9\n"
     ]
    }
   ],
   "source": [
    "# Añadid vuestros comentarios de código en este mismo bloque\n",
    "\n",
    "def create_generator(): ### define una función\n",
    "    for i in range(10): ### Ejecuta un for sobre una lista de 10 elementos\n",
    "        yield i ### lo que devuelve la función, al ser un yield una vez ejecutada mantendrá el último valor(9) y al volver a ejecutarse comenzará con ese valor\n",
    "        \n",
    "num_generator = create_generator() ### Crea el objeto num_generator, le da el valor de la función create_generator\n",
    "for i in num_generator: ###Ejecuta la función e imprime el valor de i por cada iteración.\n",
    "    print(\"Primera iteración: número generado =\", i\n",
    "\n",
    "    \n",
    "for j in num_generator:### Crea el objeto num_generator, le da el valor de la función create_generator\n",
    "    print(\"Segunda iteración: número generado =\", j)### Ejecuta la función e imprime el valor de j por cada iteración. Importante. num generator nos devuelve un valor con un 'yield' por lo que al ejecutarse por segunda vez mantiene el último valor que tuvo \n",
    "                                                    ### y es a su vez el valor de salida del for en create_generator() por lo tanto la segunda y posterior llamada a la función no hacen nada."
   ]
  },
  {
   "cell_type": "markdown",
   "metadata": {},
   "source": [
    "b) Explicad brevemente la salida por pantalla que observamos al ejecutar el código anterior\n",
    "\n",
    "\n",
    "\n",
    "**Respuesta**"
   ]
  },
  {
   "cell_type": "markdown",
   "metadata": {},
   "source": [
    "Corresponde a los prints de la primera llamada a la función create_generator.\n",
    "\n",
    "La función create_generator devuelve un 'yield' por lo tanto cuando se vuelve a llamar, comienza con el último valor que acabo la anterior iteración, es decir el valor del fin del for por lo que no hace nada."
   ]
  },
  {
   "cell_type": "markdown",
   "metadata": {},
   "source": [
    "### Ejercicio 1\n",
    "\n",
    "Escribid una función que dada una lista de planetas del sistema solar, pregunte al usuario que introduzca una posición y muestre el plante correspondiente a dicha posición. Por ejemplo, si tenemos la siguiente lista: `['Mercurio', 'Venus', 'Tierra', 'Marte']` y el usuario nos ha introducido la posición `3`, hemos de mostrar como resultado por pantalla: `Tierra`.\n",
    "\n",
    "Consideraciones:\n",
    "\n",
    "- La posición que introduzca el usuario tiene que ser un número entero estrictamente positivo.\n",
    "- La función debe controlar el acceso a una posición fuera de la lista mediante una **excepción**. Por ejemplo, en el caso anterior debemos mostrar una mensaje de error si el usuario pide acceder a la posición 10.\n"
   ]
  },
  {
   "cell_type": "code",
   "execution_count": 13,
   "metadata": {},
   "outputs": [
    {
     "data": {
      "text/plain": [
       "['Mercurio', 'Venus', 'Tierra', 'Marte']"
      ]
     },
     "execution_count": 13,
     "metadata": {},
     "output_type": "execute_result"
    }
   ],
   "source": [
    "# Respuesta\n",
    "planetas = ['Mercurio', 'Venus', 'Tierra', 'Marte']\n",
    "planetas"
   ]
  },
  {
   "cell_type": "code",
   "execution_count": 14,
   "metadata": {},
   "outputs": [
    {
     "data": {
      "text/plain": [
       "list"
      ]
     },
     "execution_count": 14,
     "metadata": {},
     "output_type": "execute_result"
    }
   ],
   "source": [
    "type(planetas)"
   ]
  },
  {
   "cell_type": "code",
   "execution_count": 15,
   "metadata": {},
   "outputs": [
    {
     "data": {
      "text/plain": [
       "4"
      ]
     },
     "execution_count": 15,
     "metadata": {},
     "output_type": "execute_result"
    }
   ],
   "source": [
    "len(planetas)"
   ]
  },
  {
   "cell_type": "code",
   "execution_count": 16,
   "metadata": {},
   "outputs": [
    {
     "data": {
      "text/plain": [
       "'Mercurio'"
      ]
     },
     "execution_count": 16,
     "metadata": {},
     "output_type": "execute_result"
    }
   ],
   "source": [
    "planetas[0]"
   ]
  },
  {
   "cell_type": "code",
   "execution_count": 17,
   "metadata": {},
   "outputs": [
    {
     "data": {
      "text/plain": [
       "'Venus'"
      ]
     },
     "execution_count": 17,
     "metadata": {},
     "output_type": "execute_result"
    }
   ],
   "source": [
    "planetas[1]"
   ]
  },
  {
   "cell_type": "code",
   "execution_count": 18,
   "metadata": {},
   "outputs": [
    {
     "name": "stdout",
     "output_type": "stream",
     "text": [
      "Mercurio\n",
      "Venus\n",
      "Tierra\n",
      "Marte\n"
     ]
    }
   ],
   "source": [
    "for planeta in planetas:\n",
    "    print(planeta)"
   ]
  },
  {
   "cell_type": "code",
   "execution_count": 20,
   "metadata": {},
   "outputs": [
    {
     "name": "stdout",
     "output_type": "stream",
     "text": [
      "0 Mercurio\n",
      "1 Venus\n",
      "2 Tierra\n",
      "3 Marte\n"
     ]
    }
   ],
   "source": [
    "for i, planeta in enumerate(planetas):\n",
    "    print(i, planeta)"
   ]
  },
  {
   "cell_type": "code",
   "execution_count": null,
   "metadata": {},
   "outputs": [],
   "source": []
  },
  {
   "cell_type": "code",
   "execution_count": null,
   "metadata": {},
   "outputs": [],
   "source": []
  },
  {
   "cell_type": "markdown",
   "metadata": {},
   "source": [
    "### Ejercicio 2\n",
    "\n",
    "Dada una lista de planetas del sistema solar, determinad cuales de estos planetas tienen una masa superior a la de la Tierra. Por ejemplo, si la lista inicial es `['Venus', 'Marte', 'Saturno']`, el resultado que mostraríamos por pantalla sería `['Saturno']` ya que el planeta Saturno tiene una masa `95.2` veces superior a la Tierra.\n",
    "\n",
    "Consideraciones:\n",
    "\n",
    "- Debéis tener en cuenta que el nombre de los planetas que nos pasan por parámetro puede estar en minúsculas, mayúsculas o una combinación de ambas.\n",
    "- Podéis asumir que no habrá acentos en el nombre de los planetas.\n",
    "- Debéis determinar aquellos planetas que tiene una massa estrictamente superior a la de la Tierra.\n",
    "- No habrá planetas repetidos en la lista que nos pasan por parámetro.\n"
   ]
  },
  {
   "cell_type": "code",
   "execution_count": 69,
   "metadata": {},
   "outputs": [],
   "source": [
    "masas = {'Mercurio': 0.06, 'Venus': 0.82, 'Tierra': 1, 'Marte': 0.11, 'Jupiter': 317.8, \n",
    "          'Saturno': 95.2, 'Urano': 14.6, 'Neptuno': 17.2, 'Pluto': 0.0022}"
   ]
  },
  {
   "cell_type": "code",
   "execution_count": 62,
   "metadata": {},
   "outputs": [
    {
     "data": {
      "text/plain": [
       "dict"
      ]
     },
     "execution_count": 62,
     "metadata": {},
     "output_type": "execute_result"
    }
   ],
   "source": [
    "type(masas)"
   ]
  },
  {
   "cell_type": "code",
   "execution_count": 63,
   "metadata": {},
   "outputs": [
    {
     "data": {
      "text/plain": [
       "9"
      ]
     },
     "execution_count": 63,
     "metadata": {},
     "output_type": "execute_result"
    }
   ],
   "source": [
    "len(masas)"
   ]
  },
  {
   "cell_type": "code",
   "execution_count": 70,
   "metadata": {},
   "outputs": [
    {
     "ename": "KeyError",
     "evalue": "0",
     "output_type": "error",
     "traceback": [
      "\u001b[1;31m---------------------------------------------------------------------------\u001b[0m",
      "\u001b[1;31mKeyError\u001b[0m                                  Traceback (most recent call last)",
      "\u001b[1;32m<ipython-input-70-66c629b6384e>\u001b[0m in \u001b[0;36m<module>\u001b[1;34m\u001b[0m\n\u001b[0;32m      1\u001b[0m \u001b[1;31m# Llamar el primer elemento del diccionario\u001b[0m\u001b[1;33m\u001b[0m\u001b[1;33m\u001b[0m\u001b[1;33m\u001b[0m\u001b[0m\n\u001b[1;32m----> 2\u001b[1;33m \u001b[0mmasas\u001b[0m\u001b[1;33m[\u001b[0m\u001b[1;36m0\u001b[0m\u001b[1;33m]\u001b[0m\u001b[1;33m\u001b[0m\u001b[1;33m\u001b[0m\u001b[0m\n\u001b[0m",
      "\u001b[1;31mKeyError\u001b[0m: 0"
     ]
    }
   ],
   "source": [
    "# Llamar el primer elemento del diccionario\n",
    "masas[0]"
   ]
  },
  {
   "cell_type": "code",
   "execution_count": 71,
   "metadata": {},
   "outputs": [
    {
     "data": {
      "text/plain": [
       "dict_keys(['Mercurio', 'Venus', 'Tierra', 'Marte', 'Jupiter', 'Saturno', 'Urano', 'Neptuno', 'Pluto'])"
      ]
     },
     "execution_count": 71,
     "metadata": {},
     "output_type": "execute_result"
    }
   ],
   "source": [
    "masas.keys()"
   ]
  },
  {
   "cell_type": "code",
   "execution_count": 72,
   "metadata": {},
   "outputs": [
    {
     "data": {
      "text/plain": [
       "dict_values([0.06, 0.82, 1, 0.11, 317.8, 95.2, 14.6, 17.2, 0.0022])"
      ]
     },
     "execution_count": 72,
     "metadata": {},
     "output_type": "execute_result"
    }
   ],
   "source": [
    "masas.values()"
   ]
  },
  {
   "cell_type": "code",
   "execution_count": 73,
   "metadata": {},
   "outputs": [
    {
     "data": {
      "text/plain": [
       "17.2"
      ]
     },
     "execution_count": 73,
     "metadata": {},
     "output_type": "execute_result"
    }
   ],
   "source": [
    "masas['Neptuno']"
   ]
  },
  {
   "cell_type": "code",
   "execution_count": null,
   "metadata": {},
   "outputs": [],
   "source": []
  },
  {
   "cell_type": "code",
   "execution_count": 1,
   "metadata": {
    "attributes": {
     "classes": [
      "sourceCode"
     ],
     "id": ""
    }
   },
   "outputs": [
    {
     "name": "stdout",
     "output_type": "stream",
     "text": [
      "[]\n",
      "['Jupiter', 'Saturno']\n",
      "['Urano', 'Tierra', 'Neptuno']\n",
      "['Tierra', 'Saturno']\n"
     ]
    }
   ],
   "source": [
    "# Masas medidas con respecto a la Tierra\n",
    "# Es decir, un valor de 14.6 representaria una masa 14.6 veces superior a la de la Tierra\n",
    "masas = {'Mercurio': 0.06, 'Venus': 0.82, 'Tierra': 1, 'Marte': 0.11, 'Jupiter': 317.8, \n",
    "          'Saturno': 95.2, 'Urano': 14.6, 'Neptuno': 17.2, 'Pluto': 0.0022}\n",
    "\n",
    "Nuevoplanetaslist = []\n",
    "planetas_masa_superior = []\n",
    "Nuevoplaneta = ''\n",
    "count = 0\n",
    "\n",
    "def listcleaner(planetas_lc):\n",
    "    #Nuevoplanetaslist = []\n",
    "    for planeta in planetas_lc:\n",
    "        Nuevoplaneta = '' \n",
    "        count = 0\n",
    "        for char in planeta:\n",
    "            if count >0:\n",
    "                Nuevoplaneta +=  char.lower()\n",
    "            else:\n",
    "                Nuevoplaneta +=  char.upper()\n",
    "                count +=1\n",
    "        Nuevoplanetaslist.append(Nuevoplaneta)  \n",
    " \n",
    "\n",
    "        \n",
    "def planetas_mas_grandes_que_Tierra(planetas):\n",
    "    \n",
    "    global Nuevoplanetaslist    \n",
    "    \n",
    "    planetas_masa_superior = []\n",
    "    Nuevoplanetaslist = []\n",
    "    listcleaner(planetas)\n",
    "\n",
    "    for planeta in Nuevoplanetaslist:\n",
    "        if masas[planeta] >= masas['Tierra']:\n",
    "            planetas_masa_superior.append(planeta) \n",
    "  \n",
    "                \n",
    "    return planetas_masa_superior\n",
    "\n",
    "# Ejemplos de uso de la función anterior\n",
    "print(planetas_mas_grandes_que_Tierra(['Venus', 'Mercurio', 'Marte']))\n",
    "print(planetas_mas_grandes_que_Tierra(['Jupiter', 'Saturno', 'Pluto']))\n",
    "print(planetas_mas_grandes_que_Tierra(['urano', 'tierra', 'neptuno', 'marte', 'Venus']))\n",
    "print(planetas_mas_grandes_que_Tierra(['Tierra', 'MeRcUrIo', 'PLUTO', 'SATURNO']))\n",
    "\n",
    "\n",
    "\n",
    "\n",
    "# Podéis añadir más ejemplos si lo consideráis oportuno"
   ]
  },
  {
   "cell_type": "markdown",
   "metadata": {},
   "source": [
    "### Ejercicio 3\n",
    "\n",
    "Completad las siguientes funciones y documentad el código si lo consideráis oportuno. Finalmente, escribid al menos un ejemplo de uso para cada función.\n"
   ]
  },
  {
   "cell_type": "markdown",
   "metadata": {},
   "source": [
    "### Ejercicio 4\n",
    "\n",
    "Escribid una función que dado un número entero positivo, `N`, genere un fichero con el nombre `output.txt` que contendrá `N` líneas, donde cada línea deberá mostrar una número consecutivo de letras `A`.\n",
    "\n",
    "Por ejemplo, si `N = 4`, el fichero generado deberá contener el siguiente contenido:\n",
    "\n",
    "```\n",
    "A\n",
    "AA\n",
    "AAA\n",
    "AAAA\n",
    "```\n"
   ]
  },
  {
   "cell_type": "code",
   "execution_count": 2,
   "metadata": {
    "attributes": {
     "classes": [
      "sourceCode"
     ],
     "id": ""
    }
   },
   "outputs": [
    {
     "name": "stdin",
     "output_type": "stream",
     "text": [
      "Introduce un numero entero positivo 14\n"
     ]
    }
   ],
   "source": [
    "# Respuesta\n",
    "\n",
    "\n",
    "\n",
    "Outputdata = []\n",
    "numero_de_filas =int(input('Introduce un numero entero positivo'))\n",
    "Outputtxtfile = open(\"Output.txt\",\"w+\")\n",
    "\n",
    "for fila in range(numero_de_filas):\n",
    "    Outputtxtfile.write(\"A\"*fila+\"\\n\")\n",
    "\n",
    "\n",
    "Outputtxtfile.close()\n"
   ]
  },
  {
   "cell_type": "markdown",
   "metadata": {},
   "source": [
    "### Ejercicio 5 \n",
    "\n",
    "Dada una cadena de caracteres, `s`, de longitud `n` y un número entero positivo `k`, siendo `k` un divisor de `n`, podemos dividir la cadena `s` en `n / k` sub-cadenas de la misma longitud.\n",
    "\n",
    "Escribid una función que, dada una cadena `s` y un número entero `k`, devuelva las `n/k` sub-cadenas teniendo en cuenta las siguientes consideraciones:\n",
    "\n",
    "- El orden de los caracteres en las sub-cadenas debe ser el mismo que en la cadena original.\n",
    "- Todos los caracteres de las sub-cadenas deben aparecer una única vez. Es decir, si un caracter se repite dentro de una sub-cadena, sólo hemos de mostrar la primera ocurrencia.\n",
    "\n",
    "Por ejemplo, si tenemmos\n",
    "<code>\n",
    "s = AABCCAADA\n",
    "k = 3\n",
    "</code>\n",
    "\n",
    "el resultado a mostrar por pantalla sería:\n",
    "<code>\n",
    "AB\n",
    "CA\n",
    "AD\n",
    "</code>\n",
    "\n",
    "Tenemos que la longitud de la cadena es 9 y por lo tanto, podemos formar 3 sub-cadenas:\n",
    "\n",
    "`AAB -> AB` (el caracter A se repite dos veces)\n",
    "\n",
    "`CCA -> CA` (el caracter C se repite dos veces)\n",
    "\n",
    "`ADA -> AD` (el caracter A se repite dos veces)\n"
   ]
  },
  {
   "cell_type": "code",
   "execution_count": 6,
   "metadata": {},
   "outputs": [
    {
     "name": "stdout",
     "output_type": "stream",
     "text": [
      "ERROR! Session/line number was not unique in database. History logging moved to new session 187\n"
     ]
    },
    {
     "name": "stdin",
     "output_type": "stream",
     "text": [
      "Introduce el valor de s 12345123341123412222\n",
      "Introduce el valor de k 5\n"
     ]
    },
    {
     "name": "stdout",
     "output_type": "stream",
     "text": [
      "12345\n",
      "1234\n",
      "1234\n",
      "12\n"
     ]
    }
   ],
   "source": [
    "# Respuesta\n",
    "\n",
    "s = input('Introduce el valor de s')\n",
    "k = int(input('Introduce el valor de k'))\n",
    "\n",
    "while len(s) !=0:\n",
    "    sub_s = ''\n",
    "    sub_s =s[0:k]\n",
    "    s = s[0+k:len(s)]\n",
    "\n",
    "    \n",
    "    sub_s2 = ''\n",
    "    for char in sub_s:\n",
    "\n",
    "        if sub_s2.count(char):\n",
    "            next\n",
    "        else:\n",
    "            sub_s2 = sub_s2 + char\n",
    "\n",
    "    print(sub_s2)\n",
    "\n",
    "\n",
    "\n",
    "\n"
   ]
  },
  {
   "cell_type": "markdown",
   "metadata": {},
   "source": [
    "### Ejercicio 6 (Opcional)\n",
    "\n",
    "Al final de la Edad Media, en Francia, el diplomático francés Blaise de Vigenère desarrollo un algoritmo para cifrar mensajes que nadie fue capaz de romper durante aproximadamente 250 años. El algoritmo se conoce con el nombre de [cifrado de Vigenère](https://es.wikipedia.org/wiki/Cifrado_de_Vigen%C3%A8re).\n",
    "\n",
    "El cifrado de Vigenère consiste en añadir a cada una de las letras de un texto un desplazamiento a partir de una clave secreta para conseguir una nueva letra diferente de la original. Veamos un ejemplo:\n",
    "\n",
    "Si asignamos el número 1 a la primera letra del abecedario, A, 2 a la siguiente, B, etc., imaginad que tenemos el siguiente mensaje:\n",
    "<code>\n",
    "ABC\n",
    "123\n",
    "</code>\n",
    "\n",
    "y la siguiente clave secreta:\n",
    "<code>\n",
    "DEF\n",
    "456\n",
    "</code>\n",
    "\n",
    "A cada letra del mensaje original aplicamos un desplazamiento en función de la misma posición dentro de la clave secreta. Por lo tanto, el mensaje cifrado quedaría de la siguiente forma:\n",
    "<code>\n",
    "   E       G       I\n",
    "(1 + 4) (2 + 5) (3 + 6)\n",
    "</code>\n",
    "\n",
    "Escribid una función que, dado un mensaje y una clave secreta, calcule y devuelva el mensaje cifrado.\n",
    "\n",
    "*Consideraciones.*\n",
    "\n",
    "- Utilizad como alfabeto de entrada **el alfabeto inglés en mayúsculas**.\n",
    "- El valor por defecto de la clave secreta será **DATASCI**."
   ]
  },
  {
   "cell_type": "code",
   "execution_count": 1,
   "metadata": {
    "attributes": {
     "classes": [
      "sourceCode"
     ],
     "id": ""
    }
   },
   "outputs": [
    {
     "name": "stdout",
     "output_type": "stream",
     "text": [
      "\n"
     ]
    }
   ],
   "source": [
    "def cifrado_vigenere(mensaje, clave=\"DATASCI\"):\n",
    "    \"\"\"\n",
    "    Cifra el mensaje utilizando el cifrado de Vigenère\n",
    "    \"\"\"\n",
    "    mensaje_cifrado = \"\"\n",
    "\n",
    "    # Código que hay que completar\n",
    "\n",
    "    return mensaje_cifrado\n",
    "\n",
    "# Aquí podéis añadir más ejemplos:\n",
    "print(cifrado_vigenere(\"ATACAREMOS AL AMANECER\"))"
   ]
  },
  {
   "cell_type": "markdown",
   "metadata": {},
   "source": [
    "---\n",
    "\n",
    "## Soluciones ejercicios para practicar"
   ]
  },
  {
   "cell_type": "markdown",
   "metadata": {},
   "source": [
    "### Ejercicio 1\n",
    "\n",
    "El siguiente ejercicio consiste en pasar un número en base 16 (hexadecimal, 0-9/A-F) a base 10 (decimal). Para hacerlo, debéis crear una **función** que dado un _string_ que representa un número en hexadecimal, por ejemplo, `AE3F`, devuelva el número \n",
    "natural correspondiente. En este caso, el resultado sería `44607`.\n",
    "\n",
    "**Respuesta**"
   ]
  },
  {
   "cell_type": "markdown",
   "metadata": {},
   "source": [
    "En Python disponemos de una función muy útil que nos permite pasar a un número decimal des de cualquier base (```int(x, base=y)```). Dado que el objetivo es jugar un poco con el lenguaje Python, vamos a usar dicha función sólo de forma parcial para calcular el número decimal correspondiente a cada carácter hexadecimal individualmente.\n",
    "\n",
    "La fórmula para convertir un número hexadecimal a un número decimal, tomando como ejemplo el número AE3F, es:\n",
    "\n",
    "```A * 16**3 + E * 16**2 + 3 * 16**1 + F * 16**0 = 10 * 16**3 + 14 * 16**2 + 3 * 16**1 + 15 * 16**0```"
   ]
  },
  {
   "cell_type": "code",
   "execution_count": 53,
   "metadata": {},
   "outputs": [
    {
     "name": "stdout",
     "output_type": "stream",
     "text": [
      "44607\n",
      "4095\n",
      "291\n"
     ]
    }
   ],
   "source": [
    "# Importamos el string '0123456789abcdefABCDEF' que nos puede ser muy útil para comprobar el formato \n",
    "from string import hexdigits\n",
    "\n",
    "def hex_to_dec(numero_hexadecimal):\n",
    "    # Primero, comprobamos que el número que se pasa por parámetro es hexadecimal\n",
    "    if all(c in hexdigits for c in numero_hexadecimal):\n",
    "        # Definimos la base para realizar las operaciones\n",
    "        base = 16\n",
    "        numero_decimal = 0\n",
    "        \n",
    "        # Invertimos el número hexadecimal para que nos sea más fácil trabajar con los índices\n",
    "        numero_hexadecimal = numero_hexadecimal[::-1]\n",
    "        \n",
    "        for i in range(len(numero_hexadecimal)):\n",
    "            # Para cada carácter hexadecimal aplicamos la formula c * base ** i,\n",
    "            # donde c es la representación decimal del carácter y \n",
    "            # sumamos el resultado al resultado obtenido en la iteración anterior\n",
    "            numero_decimal += int(numero_hexadecimal[i], 16) * base**i\n",
    "            \n",
    "        return numero_decimal\n",
    "    else:\n",
    "        print('El número introducido no es hexadecimal')\n",
    "\n",
    "print(hex_to_dec('AE3F'))\n",
    "print(hex_to_dec('FFF'))\n",
    "print(hex_to_dec('123'))"
   ]
  },
  {
   "cell_type": "markdown",
   "metadata": {},
   "source": [
    "### Ejercicio 2\n",
    "\n",
    "Las excepciones son errores detectados en tiempo de ejecución. Pueden y deben ser manejadas por el programador para minimizar el riesgo de que un determinado programa falle de forma no controlada. Escribid, en lenguaje Python, cómo generar y capturar la siguiente excepción: **ZeroDivisionError**.\n",
    "\n",
    "**Respuesta**"
   ]
  },
  {
   "cell_type": "markdown",
   "metadata": {},
   "source": [
    "En Pyhon podemos utilizar el bloque try ... except para capturar excepciones. Primero se intentará ejecutar el código dentro del bloque try y si hay una excepción se buscará una instrucción except que capture dicha excepción. En caso de encontrarla se ejecutará el código dentro del bloque except."
   ]
  },
  {
   "cell_type": "code",
   "execution_count": 5,
   "metadata": {},
   "outputs": [
    {
     "name": "stdout",
     "output_type": "stream",
     "text": [
      "¡Cuidado! División por cero.\n"
     ]
    }
   ],
   "source": [
    "try:\n",
    "    print( 5/0) # División por cero - genera ZeroDivisionError\n",
    "except ZeroDivisionError:\n",
    "    print(\"¡Cuidado! División por cero.\")"
   ]
  },
  {
   "cell_type": "markdown",
   "metadata": {},
   "source": [
    "### Ejercicio 3\n",
    "\n",
    "Completad el código necesario para calcular el número de vocales y de consonantes respectivamente de un texto.\n",
    "\n",
    "**Respuesta**"
   ]
  },
  {
   "cell_type": "code",
   "execution_count": 24,
   "metadata": {},
   "outputs": [
    {
     "name": "stdout",
     "output_type": "stream",
     "text": [
      "El número de vocales es de 44\n",
      "El número de consonantes es de 62\n"
     ]
    }
   ],
   "source": [
    "def contar_vocales_y_consonantes(texto):\n",
    "    # Cuenta las vocales contenidas en el string texto y también las consonantes.\n",
    "    num_vocales = 0\n",
    "    num_consonantes = 0\n",
    "    \n",
    "    # Definimos una lista con las vocales\n",
    "    vocales = ['a', 'e', 'i', 'o', 'u']\n",
    "    \n",
    "    for c in texto.lower(): # Podemos convertir el texto a minúsculas para simplificar los cálculos\n",
    "        if c in vocales:\n",
    "            num_vocales += 1\n",
    "        elif c > 'a' and c <= 'z':\n",
    "            num_consonantes += 1\n",
    "    \n",
    "    return num_vocales, num_consonantes\n",
    "\n",
    "texto = \"Orbiting Earth in the spaceship, I saw how beautiful our planet is. \\\n",
    "            People, let us preserve and increase this beauty, not destroy it!\"\n",
    "\n",
    "num_vocales, num_consonantes = contar_vocales_y_consonantes(texto)\n",
    "print (\"El número de vocales es de %d\" % num_vocales)\n",
    "print (\"El número de consonantes es de %d\" % num_consonantes)"
   ]
  },
  {
   "cell_type": "markdown",
   "metadata": {},
   "source": [
    "Si queremos considerar también las vocales acentuadas o caracteres especiales, podemos modificar el código anterior para tenerlo en cuenta:"
   ]
  },
  {
   "cell_type": "code",
   "execution_count": 25,
   "metadata": {},
   "outputs": [
    {
     "ename": "AttributeError",
     "evalue": "'str' object has no attribute 'decode'",
     "output_type": "error",
     "traceback": [
      "\u001b[1;31m---------------------------------------------------------------------------\u001b[0m",
      "\u001b[1;31mAttributeError\u001b[0m                            Traceback (most recent call last)",
      "\u001b[1;32m<ipython-input-25-f086ca5f1626>\u001b[0m in \u001b[0;36m<module>\u001b[1;34m\u001b[0m\n\u001b[0;32m     24\u001b[0m             \u001b[0mPeople\u001b[0m\u001b[1;33m,\u001b[0m \u001b[0mlet\u001b[0m \u001b[0mus\u001b[0m \u001b[0mpreserve\u001b[0m \u001b[1;32mand\u001b[0m \u001b[0mincrease\u001b[0m \u001b[0mthis\u001b[0m \u001b[0mbeauty\u001b[0m\u001b[1;33m,\u001b[0m \u001b[1;32mnot\u001b[0m \u001b[0mdestroy\u001b[0m \u001b[0mit\u001b[0m\u001b[0;31m!\u001b[0m\u001b[0;31m\"\u001b[0m\u001b[1;33m\u001b[0m\u001b[1;33m\u001b[0m\u001b[0m\n\u001b[0;32m     25\u001b[0m \u001b[1;33m\u001b[0m\u001b[0m\n\u001b[1;32m---> 26\u001b[1;33m \u001b[0mnum_vocales\u001b[0m\u001b[1;33m,\u001b[0m \u001b[0mnum_consonantes\u001b[0m \u001b[1;33m=\u001b[0m \u001b[0mcontar_vocales_y_consonantes\u001b[0m\u001b[1;33m(\u001b[0m\u001b[0mtexto\u001b[0m\u001b[1;33m)\u001b[0m\u001b[1;33m\u001b[0m\u001b[1;33m\u001b[0m\u001b[0m\n\u001b[0m\u001b[0;32m     27\u001b[0m \u001b[0mprint\u001b[0m \u001b[1;33m(\u001b[0m\u001b[1;34m\"El número de vocales es de %d\"\u001b[0m \u001b[1;33m%\u001b[0m \u001b[0mnum_vocales\u001b[0m\u001b[1;33m)\u001b[0m\u001b[1;33m\u001b[0m\u001b[1;33m\u001b[0m\u001b[0m\n\u001b[0;32m     28\u001b[0m \u001b[0mprint\u001b[0m \u001b[1;33m(\u001b[0m\u001b[1;34m\"El número de consonantes es de %d\"\u001b[0m \u001b[1;33m%\u001b[0m \u001b[0mnum_consonantes\u001b[0m\u001b[1;33m)\u001b[0m\u001b[1;33m\u001b[0m\u001b[1;33m\u001b[0m\u001b[0m\n",
      "\u001b[1;32m<ipython-input-25-f086ca5f1626>\u001b[0m in \u001b[0;36mcontar_vocales_y_consonantes\u001b[1;34m(texto)\u001b[0m\n\u001b[0;32m      8\u001b[0m     \u001b[1;31m# pero si nuestro código se puediera ejecutar fuera del Notebook podríamos\u001b[0m\u001b[1;33m\u001b[0m\u001b[1;33m\u001b[0m\u001b[1;33m\u001b[0m\u001b[0m\n\u001b[0;32m      9\u001b[0m     \u001b[1;31m# incluir la codificación como otro parámetro de la función\u001b[0m\u001b[1;33m\u001b[0m\u001b[1;33m\u001b[0m\u001b[1;33m\u001b[0m\u001b[0m\n\u001b[1;32m---> 10\u001b[1;33m     \u001b[0mtexto\u001b[0m \u001b[1;33m=\u001b[0m \u001b[0mtexto\u001b[0m\u001b[1;33m.\u001b[0m\u001b[0mdecode\u001b[0m\u001b[1;33m(\u001b[0m\u001b[1;34m'utf-8'\u001b[0m\u001b[1;33m)\u001b[0m\u001b[1;33m\u001b[0m\u001b[1;33m\u001b[0m\u001b[0m\n\u001b[0m\u001b[0;32m     11\u001b[0m \u001b[1;33m\u001b[0m\u001b[0m\n\u001b[0;32m     12\u001b[0m     \u001b[1;31m# Definimos una lista con las vocales en unicode\u001b[0m\u001b[1;33m\u001b[0m\u001b[1;33m\u001b[0m\u001b[1;33m\u001b[0m\u001b[0m\n",
      "\u001b[1;31mAttributeError\u001b[0m: 'str' object has no attribute 'decode'"
     ]
    }
   ],
   "source": [
    "def contar_vocales_y_consonantes(texto):\n",
    "    # Cuenta las vocales contenidas en el string texto y también las consonantes.\n",
    "    num_vocales = 0\n",
    "    num_consonantes = 0\n",
    "    \n",
    "    # Convertimos el texto a Unicode\n",
    "    # En este caso sabemos seguro que la codificación de caracteres es UTF-8,  \n",
    "    # pero si nuestro código se puediera ejecutar fuera del Notebook podríamos \n",
    "    # incluir la codificación como otro parámetro de la función\n",
    "    texto = texto.decode('utf-8')\n",
    "    \n",
    "    # Definimos una lista con las vocales en unicode\n",
    "    vocales = [u'a', u'e', u'i', u'o', u'u', u'à', u'á', u'è', u'é', u'í', u'ï', u'ò', u'ó', u'ú', u'ü']\n",
    "    \n",
    "    for c in texto.lower(): # Podemos convertir el texto a minúsculas para simplificar los cálculos\n",
    "        if c in vocales:\n",
    "            num_vocales += 1\n",
    "        elif c > 'a' and c <= 'z' or c == u'ç' or c == u'ñ':\n",
    "            num_consonantes += 1\n",
    "    \n",
    "    return num_vocales, num_consonantes\n",
    "\n",
    "texto = \"Orbiting Earth in the spaceship, I saw how beautiful our planet is. \\\n",
    "            People, let us preserve and increase this beauty, not destroy it!\"\n",
    "\n",
    "num_vocales, num_consonantes = contar_vocales_y_consonantes(texto)\n",
    "print (\"El número de vocales es de %d\" % num_vocales)\n",
    "print (\"El número de consonantes es de %d\" % num_consonantes)\n",
    "\n",
    "texto = \"áéióúY\"\n",
    "num_vocales, num_consonantes = contar_vocales_y_consonantes(texto)\n",
    "print( \"El número de vocales es de %d\" % num_vocales)\n",
    "print (\"El número de consonantes es de %d\" % num_consonantes)"
   ]
  },
  {
   "cell_type": "code",
   "execution_count": null,
   "metadata": {},
   "outputs": [],
   "source": []
  }
 ],
 "metadata": {
  "kernelspec": {
   "display_name": "Python 3",
   "language": "python",
   "name": "python3"
  },
  "language_info": {
   "codemirror_mode": {
    "name": "ipython",
    "version": 3
   },
   "file_extension": ".py",
   "mimetype": "text/x-python",
   "name": "python",
   "nbconvert_exporter": "python",
   "pygments_lexer": "ipython3",
   "version": "3.8.5"
  }
 },
 "nbformat": 4,
 "nbformat_minor": 4
}
