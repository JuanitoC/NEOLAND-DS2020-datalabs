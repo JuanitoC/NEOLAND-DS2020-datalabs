{
 "cells": [
  {
   "cell_type": "code",
   "execution_count": 7,
   "metadata": {},
   "outputs": [],
   "source": [
    "## Definiciones basicas\n",
    "\n",
    "import random\n",
    "guess = 0\n",
    "count = 1\n",
    "Tirada = random.randint(1,10)"
   ]
  },
  {
   "cell_type": "code",
   "execution_count": 8,
   "metadata": {},
   "outputs": [],
   "source": [
    "def realizar_tirada(guessrt,countrt,tiradart):\n",
    "    guessrt = input('Intento nº: {} Adivina un numero entre 1 y 10'.format(countrt))\n",
    "    Validation(guessrt,countrt,tiradart)"
   ]
  },
  {
   "cell_type": "code",
   "execution_count": 9,
   "metadata": {},
   "outputs": [],
   "source": [
    "def Validation(guessvl,countvl,tiradavl):\n",
    "    if guessvl.isnumeric() == False: ## Si el valor no es numérico pide una nueva tirada\n",
    "        print('Introduzca solo números')\n",
    "        realizar_tirada(guessvl,countvl,tiradavl)\n",
    "    elif int(guessvl)<tiradavl: ## Si el valor es demasiado bajo pide una nueva tirada\n",
    "        print('El número es demasiado bajo, vuelva a intentarlo') \n",
    "        countvl+=1\n",
    "        realizar_tirada(guessvl,countvl,tiradavl)\n",
    "    elif int(guessvl)>tiradavl: ## Si el valor es demasiado alto pide una nueva tirada\n",
    "        print('El número es demasiado alto, vuelva a intentarlo')\n",
    "        countvl+=1\n",
    "        realizar_tirada(guessvl,countvl,tiradavl)\n",
    "    else: ## Si el valor cumple todas las condiciones procedemos a checkear la tirada\n",
    "        guessvl = int(guessvl)\n",
    "        print(\"Has acertado el intento {}\".format(countvl))\n",
    "            \n",
    " "
   ]
  },
  {
   "cell_type": "code",
   "execution_count": null,
   "metadata": {},
   "outputs": [
    {
     "name": "stdin",
     "output_type": "stream",
     "text": [
      "Intento nº: 1 Adivina un numero entre 1 y 10 1\n"
     ]
    },
    {
     "name": "stdout",
     "output_type": "stream",
     "text": [
      "El número es demasiado bajo, vuelva a intentarlo\n"
     ]
    },
    {
     "name": "stdin",
     "output_type": "stream",
     "text": [
      "Intento nº: 2 Adivina un numero entre 1 y 10 14\n"
     ]
    },
    {
     "name": "stdout",
     "output_type": "stream",
     "text": [
      "El número es demasiado alto, vuelva a intentarlo\n"
     ]
    }
   ],
   "source": [
    "realizar_tirada(guess,count,Tirada)"
   ]
  },
  {
   "cell_type": "markdown",
   "metadata": {},
   "source": [
    "## MEJORA DEL JUEGO ANTERIOR\n",
    "\n",
    "Recompile el juego de adivinación de números, pero esta vez:\n",
    "\n",
    "- Muestre el número del intento actual.\n",
    "- Si el número propuesto es demasiado bajo, indíquele al usuario \"El número es demasiado bajo, vuelva a intentarlo\".\n",
    "- Si el número propuesto es demasiado alto, indíquele al usuario \"El número es demasiado alto, vuelva a intentarlo\".\n",
    "- Si el usuario escribe un valor no numérico, indíquele al usuario \"Introduzca solo números\".\n",
    "\n",
    "Además, tome nota de la salida. Las solicitudes y los mensajes han cambiado en comparación con el desafío original.\n",
    "\n",
    "Independientemente de cómo lo haga, el código debería producir una salida similar a la siguiente (debido a la respuesta y a las suposiciones generadas aleatoriamente):\n",
    "\n",
    "\n",
    "```output\n",
    "Guess a number between 1 and 10\n",
    "Enter guess #1: 5\n",
    "Your guess is too low, try again!\n",
    "Enter guess #2: 8\n",
    "Your guess is too high, try again!\n",
    "Enter guess #3: 7\n",
    "Your guess is too high, try again!\n",
    "Enter guess #4: 6\n",
    "You guessed it in 4 tries!\n",
    "```\n",
    "\n",
    "Si el usuario escribe un valor que no es numérico, muestre un mensaje de error. En la siguiente salida de ejemplo, el usuario escribe algunas cadenas y se le recuerda que solo debe introducir números.\n",
    "\n",
    "\n",
    "```output\n",
    "Guess a number between 1 and 10\n",
    "Enter guess #1: Bob\n",
    "Numbers only, please!\n",
    "Enter guess #2: Beth\n",
    "Numbers only, please!\n",
    "Enter guess #3: 5\n",
    "You guessed it in 3 tries!"
   ]
  }
 ],
 "metadata": {
  "kernelspec": {
   "display_name": "Python 3",
   "language": "python",
   "name": "python3"
  },
  "language_info": {
   "codemirror_mode": {
    "name": "ipython",
    "version": 3
   },
   "file_extension": ".py",
   "mimetype": "text/x-python",
   "name": "python",
   "nbconvert_exporter": "python",
   "pygments_lexer": "ipython3",
   "version": "3.8.3"
  }
 },
 "nbformat": 4,
 "nbformat_minor": 4
}
