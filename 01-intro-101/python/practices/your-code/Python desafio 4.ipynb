{
 "cells": [
  {
   "cell_type": "markdown",
   "metadata": {},
   "source": [
    "Crear una calculadora sencilla sin definir funciones - parte 1\n",
    "Cree una calculadora sencilla que acepte un primer número, una operación y un segundo número.\n",
    "\n",
    "Este es un resultado de ejemplo, en el que un usuario ha escrito 4, ** y 5* en los cuadros de entrada:\n",
    "\n",
    "output\n",
    "Simple calculator!\n",
    "First number? 4\n",
    "Operation? *\n",
    "Second number? 5\n",
    "product of 4 * 5 equals 20\n",
    "El programa debe aceptar un símbolo, como el símbolo de asterisco (*), para realizar una multiplicación y generar un producto. Asegúrese de implementar lógica para estos resultados:\n",
    "\n",
    "Suma\n",
    "Resta\n",
    "Multiplicación\n",
    "Cociente\n",
    "Exponente\n",
    "Módulo\n",
    "Si el usuario no escribe un valor numérico, muestre este mensaje:\n",
    "\n",
    "output\n",
    "Please input a number.\n",
    "Si el usuario escribe una operación que no se reconoce, muestre este mensaje:\n",
    "\n",
    "output\n",
    "Operation not recognized.\n",
    "Tanto si tiene dificultades y necesita echar un vistazo a la solución como si finaliza el ejercicio correctamente, continúe para ver una solución a este desafío."
   ]
  },
  {
   "cell_type": "code",
   "execution_count": 17,
   "metadata": {},
   "outputs": [
    {
     "name": "stdin",
     "output_type": "stream",
     "text": [
      "Introduce valor 1 45\n",
      "Introduce valor 2 5\n",
      "Que operación quieres realizar +\n"
     ]
    }
   ],
   "source": [
    "valor1= input('Introduce valor 1')\n",
    "valor2= input('Introduce valor 2')\n",
    "operador =input('Que operación quieres realizar')\n",
    "Operadoresvalidos = ('+','-','/','//','*','**')"
   ]
  },
  {
   "cell_type": "code",
   "execution_count": 19,
   "metadata": {},
   "outputs": [
    {
     "name": "stdout",
     "output_type": "stream",
     "text": [
      "50.0\n"
     ]
    }
   ],
   "source": [
    "if valor1.isnumeric() and valor2.isnumeric()  and Operadoresvalidos.count(operador)==1:\n",
    "    valor1 = float(valor1)\n",
    "    valor2 = float(valor2)\n",
    "    \n",
    "    if operador == '+':\n",
    "        print(valor1+valor2)\n",
    "\n",
    "    if operador == '-':\n",
    "        print(valor1-valor2)\n",
    "\n",
    "    if operador == '*':\n",
    "        print(valor1*valor2)\n",
    "\n",
    "    if operador == '/':\n",
    "        print(valor1/valor2)\n",
    "\n",
    "    if operador == '**':\n",
    "        print(valor1**valor2)\n",
    "\n",
    "    if operador == '//':\n",
    "        print(valor1//valor2)\n",
    "    \n",
    "    \n",
    "    "
   ]
  },
  {
   "cell_type": "code",
   "execution_count": null,
   "metadata": {},
   "outputs": [],
   "source": []
  }
 ],
 "metadata": {
  "kernelspec": {
   "display_name": "Python 3",
   "language": "python",
   "name": "python3"
  },
  "language_info": {
   "codemirror_mode": {
    "name": "ipython",
    "version": 3
   },
   "file_extension": ".py",
   "mimetype": "text/x-python",
   "name": "python",
   "nbconvert_exporter": "python",
   "pygments_lexer": "ipython3",
   "version": "3.8.3"
  }
 },
 "nbformat": 4,
 "nbformat_minor": 4
}
