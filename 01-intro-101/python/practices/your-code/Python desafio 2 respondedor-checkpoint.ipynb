{
 "cells": [
  {
   "cell_type": "markdown",
   "metadata": {},
   "source": [
    "Si el usuario responde con 'no' o 'n', imprima la frase 'Exiting'\n",
    "\n",
    "Obtenga la salida siguiente en este escenario de 'no'. El usuario ha especificado 'no' cuando se le solicitó.\n",
    "\n",
    "ResultadosCopiar\n",
    "\n",
    "'' Output\n",
    "Would you like to continue? yes\n",
    "Continuing ...\n",
    "Complete!\n",
    "''"
   ]
  },
  {
   "cell_type": "code",
   "execution_count": 13,
   "metadata": {},
   "outputs": [
    {
     "name": "stdin",
     "output_type": "stream",
     "text": [
      "Quieres Continuar y\n"
     ]
    }
   ],
   "source": []
  },
  {
   "cell_type": "code",
   "execution_count": 26,
   "metadata": {},
   "outputs": [],
   "source": [
    "def respondedor():\n",
    "    respuesta = input('Quieres Continuar')\n",
    "    if respuesta == 'yes' or respuesta == 'y':\n",
    "        print('Continuing ...')\n",
    "        print('Complete!')\n",
    "    elif respuesta == 'not' or respuesta == 'n':\n",
    "        print('Exiting')\n",
    "    else:\n",
    "        print('Intenta contestar nuevamente yes or not')\n",
    "        respondedor()\n",
    "    \n",
    "    "
   ]
  },
  {
   "cell_type": "code",
   "execution_count": null,
   "metadata": {},
   "outputs": [],
   "source": []
  }
 ],
 "metadata": {
  "kernelspec": {
   "display_name": "Python 3",
   "language": "python",
   "name": "python3"
  },
  "language_info": {
   "codemirror_mode": {
    "name": "ipython",
    "version": 3
   },
   "file_extension": ".py",
   "mimetype": "text/x-python",
   "name": "python",
   "nbconvert_exporter": "python",
   "pygments_lexer": "ipython3",
   "version": "3.8.3"
  }
 },
 "nbformat": 4,
 "nbformat_minor": 4
}
