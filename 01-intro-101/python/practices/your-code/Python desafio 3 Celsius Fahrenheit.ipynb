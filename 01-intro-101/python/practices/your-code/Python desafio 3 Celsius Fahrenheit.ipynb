{
 "cells": [
  {
   "cell_type": "markdown",
   "metadata": {},
   "source": [
    "Convertidor Fahrenheit a Celsius\n",
    "Escribir un programa que convierta la temperatura de Fahrenheit a Celsius\n",
    "\n",
    "En este código se muestra la fórmula matemática para convertir una temperatura medida en grados Fahrenheit a una temperatura medida en grados Celsius:\n",
    "\n",
    "Copiar\n",
    "\n",
    "celsius = (fahrenheit - 32) * 5/9\n",
    "Use esta fórmula para compilar un programa que solicite a los usuarios una temperatura en grados Fahrenheit, realice la conversión a Celsius y, después, muestre la temperatura en grados Celsius.\n",
    "\n",
    "Si el usuario escribe el valor 55, el programa debe generar este resultado:\n",
    "\n",
    "ResultadosCopiar\n",
    "\n",
    "output\n",
    "What is the temperature in fahrenheit?  55\n",
    "Temperature in celsius is 12\n",
    "Pero si el usuario escribe un valor no válido, el programa debe indicarle que hay un problema y, después, cerrar el programa. En este caso, si el usuario escribe el valor Bob, el programa debe generar este resultado:\n",
    "\n",
    "ResultadosCopiar\n",
    "\n",
    "output\n",
    "What is the temperature in fahrenheit?  bob\n",
    "Input is not a number.\n",
    "Nota\n",
    "\n",
    "Para comprobar el trabajo, use un conversor de temperatura en línea y confirme que el resultado del programa coincide con el del conversor.\n",
    "\n",
    "Tanto si tiene dificultades y necesita echar un vistazo a la solución como si finaliza el ejercicio correctamente, continúe para ver una solución a este desafío."
   ]
  },
  {
   "cell_type": "code",
   "execution_count": 1,
   "metadata": {},
   "outputs": [],
   "source": [
    "### Función que realiza la conversión.\n",
    "\n",
    "def Fahrenheit_to_celsius(Fah):\n",
    "    \n",
    "    Celsius = (Fah - 32) * 5/9 \n",
    "    print(Celsius)\n",
    "    \n",
    "    \n",
    "### Función que realiza la validación de los datos.\n",
    "\n",
    "def validation(Temp_validation):    \n",
    " \n",
    "    if Temp_validation == 'Bob'or Temp_validation == 'bob':\n",
    "        print('{} input is not a number'.format(Temp_validation))\n",
    "    else:\n",
    "        try:\n",
    "            int(Temp_validation)\n",
    "        except ValueError:\n",
    "            print('{} es un valor Incorrecto. Saliendo del programa'.format(Temp_validation))      \n",
    "        Temp = int(Temp_validation)    \n",
    "        Fahrenheit_to_celsius(Temp)    \n",
    "    \n",
    "    "
   ]
  },
  {
   "cell_type": "code",
   "execution_count": null,
   "metadata": {},
   "outputs": [],
   "source": [
    "Temp = input('Introduce una temperatura Fah')\n",
    "\n",
    "validation(Temp)\n"
   ]
  },
  {
   "cell_type": "code",
   "execution_count": null,
   "metadata": {},
   "outputs": [],
   "source": []
  }
 ],
 "metadata": {
  "kernelspec": {
   "display_name": "Python 3",
   "language": "python",
   "name": "python3"
  },
  "language_info": {
   "codemirror_mode": {
    "name": "ipython",
    "version": 3
   },
   "file_extension": ".py",
   "mimetype": "text/x-python",
   "name": "python",
   "nbconvert_exporter": "python",
   "pygments_lexer": "ipython3",
   "version": "3.8.3"
  }
 },
 "nbformat": 4,
 "nbformat_minor": 4
}
