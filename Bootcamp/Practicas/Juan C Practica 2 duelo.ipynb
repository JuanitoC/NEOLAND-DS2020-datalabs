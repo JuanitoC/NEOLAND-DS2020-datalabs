{
 "cells": [
  {
   "cell_type": "markdown",
   "metadata": {},
   "source": [
    "Duelo de magos\n",
    "Estás presenciando una batalla épica entre dos poderosos magos: Gandalf y Saruman. Cada mago tiene 10 hechizos de potencia variable en su mente y los van a lanzar uno tras otro. El ganador del duelo será el que gane más de esos choques entre hechizos. Los hechizos se representan como una lista de 10 números enteros cuyo valor equivale a la potencia del hechizo.\n",
    "\n",
    "gandalf = [10, 11, 13, 30, 22, 11, 10, 33, 22, 22]\n",
    "saruman = [23, 66, 12, 43, 12, 10, 44, 23, 12, 17]\n",
    "Por ejemplo:\n",
    "\n",
    "El primer choque lo gana Saruman: 10 contra 23, gana el 23\n",
    "El segundo choque gana Saruman: 11 contra 66, gana el 66\n",
    "etc.\n",
    "Vas a crear dos variables, una por cada mago, donde se almacenarán la suma de choques de hechizos ganados. En función de qué variable sea mayor al final del duelo, mostrarás por pantalla uno de los tres siguientes resultados:\n",
    "\n",
    "Gandalf gana\n",
    "Saruman gana\n",
    "Empate\n",
    "El primer choque lo gana Saruman: 10 contra 23, gana el 23\n",
    "El segundo choque gana Saruman: 11 contra 66, gana el 66\n",
    "etc.\n",
    "Solución\n",
    "In [1]:\n",
    "# Asignamos las listas de hechizos a variables\n",
    "gandalf = [10, 11, 13, 30, 22, 11, 10, 33, 22, 22]\n",
    "saruman = [23, 66, 12, 43, 12, 10, 44, 23, 12, 17]\n",
    "\n",
    "# Asignamos 0 a cada variable que almacena las victorias\n",
    "\n",
    "\n",
    "# Ejecución de los choques de hechizos\n",
    "\n",
    "\n",
    "# Comprobamos quién ha ganado, no olvides la posibilidad de empate. \n",
    "# Imprime el resultado en función del ganador.\n",
    "Objetivos\n",
    "Tratamiento de listas\n",
    "Uso de bucle for\n",
    "Uso de condicionales if-elif-else\n",
    "Uso de las funciones range(), len()\n",
    "Imprimir por consola\n"
   ]
  },
  {
   "cell_type": "code",
   "execution_count": 2,
   "metadata": {},
   "outputs": [
    {
     "name": "stdout",
     "output_type": "stream",
     "text": [
      "El 1 choque lo gana Saruman: 10 contra 23, gana el 23 \n",
      "El 2 choque lo gana Saruman: 11 contra 66, gana el 66 \n",
      "El 3 choque lo gana Gandalf: 13 contra 12, gana el 13 \n",
      "El 4 choque lo gana Saruman: 30 contra 43, gana el 43 \n",
      "El 5 choque lo gana Gandalf: 22 contra 12, gana el 22 \n",
      "El 6 choque lo gana Gandalf: 11 contra 10, gana el 11 \n",
      "El 7 choque lo gana Saruman: 10 contra 44, gana el 44 \n",
      "El 8 choque lo gana Gandalf: 33 contra 23, gana el 33 \n",
      "El 9 choque lo gana Gandalf: 22 contra 12, gana el 22 \n",
      "El 10 choque lo gana Gandalf: 22 contra 17, gana el 22 \n",
      "Gandalf Gana\n"
     ]
    }
   ],
   "source": [
    "# Asignamos las listas de hechizos a variables\n",
    "gandalf = [10, 11, 13, 30, 22, 11, 10, 33, 22, 22]\n",
    "saruman = [23, 66, 12, 43, 12, 10, 44, 23, 12, 17]\n",
    "# Asignamos 0 a cada variable que almacena las victorias\n",
    "Victoria_Gandalf = 0\n",
    "Victoria_Saruman = 0\n",
    "##Creamos una lista a modo de contador para saber el combate en que estamos.\n",
    "powerfullspells =range(0,len(gandalf))\n",
    "\n",
    "for spell in powerfullspells:\n",
    "    if gandalf[spell] > saruman[spell]:\n",
    "        Victoria_Gandalf += 1\n",
    "        print(\"El {} choque lo gana Gandalf: {} contra {}, gana el {} \".format(spell+1, gandalf[spell],saruman[spell],gandalf[spell]))\n",
    "    else:\n",
    "        Victoria_Saruman +=1\n",
    "        print(\"El {} choque lo gana Saruman: {} contra {}, gana el {} \".format(spell+1, gandalf[spell],saruman[spell],saruman[spell]))\n",
    "\n",
    "        \n",
    "if Victoria_Gandalf> Victoria_Saruman:\n",
    "    print(\"Gandalf Gana\")\n",
    "elif Victoria_Gandalf< Victoria_Saruman:\n",
    "    print(\"Saruman Gana\")  \n",
    "else:\n",
    "    print(\"Empate\")\n",
    "\n",
    "\n",
    "# Ejecución de los choques de hechizos\n",
    "\n",
    "\n",
    "# Comprobamos quién ha ganado, no olvides la posibilidad de empate. \n",
    "# Imprime el resultado en función del ganador.\n"
   ]
  },
  {
   "cell_type": "code",
   "execution_count": null,
   "metadata": {},
   "outputs": [],
   "source": []
  }
 ],
 "metadata": {
  "kernelspec": {
   "display_name": "Python 3",
   "language": "python",
   "name": "python3"
  },
  "language_info": {
   "codemirror_mode": {
    "name": "ipython",
    "version": 3
   },
   "file_extension": ".py",
   "mimetype": "text/x-python",
   "name": "python",
   "nbconvert_exporter": "python",
   "pygments_lexer": "ipython3",
   "version": "3.8.3"
  }
 },
 "nbformat": 4,
 "nbformat_minor": 4
}
