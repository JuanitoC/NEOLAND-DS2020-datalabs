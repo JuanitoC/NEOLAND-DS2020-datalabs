{
 "cells": [
  {
   "cell_type": "markdown",
   "metadata": {},
   "source": [
    "Python - desafío 1\n",
    "Qué va a crear\n",
    "En este desafío, creará un contador de calorías que solicita al usuario lo siguiente:\n",
    "\n",
    "La fecha actual (en cualquier formato)\n",
    "Calorías ingeridas en el desayuno\n",
    "Calorías ingeridas en la comida\n",
    "Calorías ingeridas en la cena\n",
    "Calorías ingeridas en tentempiés\n",
    "Después, el programa sumará todas las calorías y les dará formato de mensaje."
   ]
  },
  {
   "cell_type": "code",
   "execution_count": 4,
   "metadata": {},
   "outputs": [],
   "source": [
    "## Función que realiza los cálculos\n",
    "\n",
    "def calorias_ingeridas (Fecha, Caldesayuno, CalComida, CalCena,CalTentempie):\n",
    "    CI = int(Caldesayuno) + int(CalComida) + int(CalCena) +int (CalTentempie)\n",
    "    return print (\"Las calorías ingeridas el día {} ascienden a {}\".format(Fecha,CI))\n",
    "\n"
   ]
  },
  {
   "cell_type": "code",
   "execution_count": 5,
   "metadata": {},
   "outputs": [
    {
     "name": "stdin",
     "output_type": "stream",
     "text": [
      "Que día es hoy 25.09\n",
      "Calorías ingeridas en el desayuno 500\n",
      "Calorías ingeridas en la comida 700\n",
      "Calorias ingeridas en la cena 800\n",
      "Calorías ingeridas en el snack 900\n"
     ]
    }
   ],
   "source": [
    "## Toma de datos\n",
    "\n",
    "day =input('Que día es hoy')\n",
    "breakfast =input('Calorías ingeridas en el desayuno')\n",
    "lunch = input('Calorías ingeridas en la comida')\n",
    "dinner =input('Calorias ingeridas en la cena')\n",
    "snack = input('Calorías ingeridas en el snack')"
   ]
  },
  {
   "cell_type": "code",
   "execution_count": 6,
   "metadata": {},
   "outputs": [
    {
     "name": "stdout",
     "output_type": "stream",
     "text": [
      "Las calorías ingeridas el día 25.09 ascienden a 2900\n"
     ]
    }
   ],
   "source": [
    "## Llamada a la función\n",
    "calorias_ingeridas(day,breakfast,lunch,dinner,snack)"
   ]
  },
  {
   "cell_type": "code",
   "execution_count": 11,
   "metadata": {},
   "outputs": [
    {
     "name": "stdin",
     "output_type": "stream",
     "text": [
      "Que día es hoy 29.09\n",
      "Calorías ingeridas en el desayuno 5\n",
      "Calorías ingeridas en la comida 60\n",
      "Calorias ingeridas en la cena 700\n",
      "Calorías ingeridas en el snack 800\n"
     ]
    },
    {
     "name": "stdout",
     "output_type": "stream",
     "text": [
      "Las calorías ingeridas el día 29.09 ascienden a 1565\n"
     ]
    }
   ],
   "source": [
    "### Otra forma de hacerlo, meter todas la variables en una lista \n",
    "\n",
    "variables = list()\n",
    "variables.append(input('Que día es hoy'))\n",
    "variables.append(input('Calorías ingeridas en el desayuno'))\n",
    "variables.append(input('Calorías ingeridas en la comida'))\n",
    "variables.append(input('Calorias ingeridas en la cena'))\n",
    "variables.append(input('Calorías ingeridas en el snack'))\n",
    "\n",
    "\n",
    "calorias_ingeridas(variables[0],variables[1],variables[2],variables[3],variables[4])\n"
   ]
  }
 ],
 "metadata": {
  "kernelspec": {
   "display_name": "Python 3",
   "language": "python",
   "name": "python3"
  },
  "language_info": {
   "codemirror_mode": {
    "name": "ipython",
    "version": 3
   },
   "file_extension": ".py",
   "mimetype": "text/x-python",
   "name": "python",
   "nbconvert_exporter": "python",
   "pygments_lexer": "ipython3",
   "version": "3.8.3"
  }
 },
 "nbformat": 4,
 "nbformat_minor": 4
}
