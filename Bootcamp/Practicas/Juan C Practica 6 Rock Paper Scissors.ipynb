{
 "cells": [
  {
   "cell_type": "code",
   "execution_count": null,
   "metadata": {},
   "outputs": [],
   "source": []
  },
  {
   "cell_type": "code",
   "execution_count": null,
   "metadata": {},
   "outputs": [],
   "source": [
    "\n",
    "Opciones = {\"1\":\"Piedra\",\"2\":\"Papel\",\"3\":\"Tijera\"} ## Usamos un diccionario para definir las variantes\n",
    "import random\n",
    "Numpartidas = \"\"\n",
    "\n",
    "## En esta función se elige el número de partidas y se valida que sea un valor correcto, si es un valor incorrecto vuelve a llamar a la función, de ser correcto llama a la función Partida\n",
    "def ElegirNumPartidas():\n",
    "    global Numpartidas, PlayerChoice, NPartida, ComputerChoice\n",
    "    Numpartidas = input(\"Elige cuantas partidas quieres jugar (impar)\")\n",
    "    if Numpartidas.isnumeric():\n",
    "        if int(Numpartidas)%2 != 0:\n",
    "            Numpartidas = round(int(Numpartidas))\n",
    "            Partida()\n",
    "        else:\n",
    "            print(\"{} no es un número impar. Introduce un número impar\".format(Numpartidas))\n",
    "            ElegirNumPartidas()\n",
    "            \n",
    "    else:\n",
    "        print(\"{} no es un número impar. Introduce un número impar\".format(Numpartidas))\n",
    "        ElegirNumPartidas()       \n",
    "\n",
    "\n",
    "    "
   ]
  },
  {
   "cell_type": "code",
   "execution_count": null,
   "metadata": {},
   "outputs": [],
   "source": [
    "### Función principal\n",
    "\n",
    "def Partida():\n",
    "    global Numpartidas, PlayerChoice, NPartida, ComputerChoice, VED\n",
    "    print(Numpartidas)\n",
    "    type(Numpartidas)\n",
    "    VED = [0,0,0] ##Matriz que cuenta las Victorias, empates y derrotas del jugador\n",
    "    ## contador de partidas\n",
    "    NPartida = 0\n",
    "    while NPartida != Numpartidas:\n",
    "        NPartida = NPartida+1\n",
    "        PlayerChoice = input(\"Elige Piedra (1), Papel (2) o Tijera (3)\")\n",
    "        if not PlayerChoice in Opciones:\n",
    "            print(\"{} no es un valor válido. Inténtalo de nuevo\".format(PlayerChoice))\n",
    "            Partida()\n",
    "        else:\n",
    "            PartidaResultado()"
   ]
  },
  {
   "cell_type": "code",
   "execution_count": null,
   "metadata": {},
   "outputs": [],
   "source": [
    "def PartidaResultado():\n",
    "    global Numpartidas, PlayerChoice, NPartida, ComputerChoice, VED\n",
    "    ComputerChoice = random.randint(1,3)\n",
    "    if PlayerChoice == 1: ## Jugador elige papel.\n",
    "        if ComputerChoice == 1: ## Jugador y computadora eligen papel.\n",
    "            Empate()\n",
    "        elif ComputerChoice ==2: ## Jugador elige papel y computadora elige piedra.\n",
    "            Victoria()          \n",
    "        else: ## Jugador elige papel y computadora elige tijera.\n",
    "            Derrota()           \n",
    "    elif PlayerChoice == 2: ## Jugador elige piedra\n",
    "        if ComputerChoice == 1: ## Jugador elige piedra y computadora elige papel\n",
    "            Derrota() \n",
    "        elif ComputerChoice ==2: ## Jugador elige piedra y computadora elige piedra\n",
    "            Empate()\n",
    "        else: ##jugador elige piedra y computadora elige tijera\n",
    "            Derrota()\n",
    "    else: ## Jugador elige tiera\n",
    "        if ComputerChoice == 1: ## Jugador elige tijera y computadora elige papel\n",
    "            Victoria()   \n",
    "        elif ComputerChoice ==2: ## Jugador elige tijera y computadora elige piedra\n",
    "            Derrota()\n",
    "        else: ## Jugador elige tijera y computadora elige tijera   \n",
    "            Empate()\n",
    "\n",
    "    \n",
    "  "
   ]
  },
  {
   "cell_type": "code",
   "execution_count": 4,
   "metadata": {},
   "outputs": [],
   "source": [
    "def Victoria():\n",
    "    global Numpartidas, PlayerChoice, NPartida, ComputerChoice, VED\n",
    "    print(\"Jugador elige {} y computadora elige {}, gana Jugador\".format(Opciones[str(PlayerChoice)],Opciones[str(ComputerChoice)])) \n",
    "    VED[0] = VED[0]+ 1\n",
    "    print(\"Victorias: {}, Empates: {}, Derrotas: {}\".format(VED[0],VED[1],VED[2]))"
   ]
  },
  {
   "cell_type": "code",
   "execution_count": 5,
   "metadata": {},
   "outputs": [],
   "source": [
    "def Empate():\n",
    "    global Numpartidas, PlayerChoice, NPartida, ComputerChoice, VED\n",
    "    print(\"Jugador y computadora eligen {}, es un empate\".format(Opciones[str(PlayerChoice)]))\n",
    "    VED[1] = VED[1] + 1\n",
    "    print(\"Victorias: {}, Empates: {}, Derrotas: {}\".format(VED[0],VED[1],VED[2]))"
   ]
  },
  {
   "cell_type": "code",
   "execution_count": 6,
   "metadata": {},
   "outputs": [],
   "source": [
    "def Derrota():\n",
    "    global Numpartidas, PlayerChoice, NPartida, ComputerChoice, VED\n",
    "    print(\"Jugador elige {} y computadora elige {}, gana Computadora\".format(Opciones[str(PlayerChoice)],Opciones[str(ComputerChoice)])) \n",
    "    VED[2] = VED[2]+ 1\n",
    "    print(\"Victorias: {}, Empates: {}, Derrotas: {}\".format(VED[0],VED[1],VED[2]))"
   ]
  },
  {
   "cell_type": "code",
   "execution_count": null,
   "metadata": {},
   "outputs": [
    {
     "name": "stdin",
     "output_type": "stream",
     "text": [
      "Elige cuantas partidas quieres jugar (impar) 7\n"
     ]
    },
    {
     "name": "stdout",
     "output_type": "stream",
     "text": [
      "7\n"
     ]
    },
    {
     "name": "stdin",
     "output_type": "stream",
     "text": [
      "Elige Piedra (1), Papel (2) o Tijera (3) 1\n"
     ]
    },
    {
     "name": "stdout",
     "output_type": "stream",
     "text": [
      "Jugador elige Piedra y computadora elige Piedra, gana Jugador\n",
      "Victorias: 4, Empates: 1, Derrotas: 1\n"
     ]
    },
    {
     "name": "stdin",
     "output_type": "stream",
     "text": [
      "Elige Piedra (1), Papel (2) o Tijera (3) 1\n"
     ]
    },
    {
     "name": "stdout",
     "output_type": "stream",
     "text": [
      "Jugador elige Piedra y computadora elige Piedra, gana Jugador\n",
      "Victorias: 5, Empates: 1, Derrotas: 1\n"
     ]
    },
    {
     "name": "stdin",
     "output_type": "stream",
     "text": [
      "Elige Piedra (1), Papel (2) o Tijera (3) 1\n"
     ]
    },
    {
     "name": "stdout",
     "output_type": "stream",
     "text": [
      "Jugador elige Piedra y computadora elige Papel, gana Computadora\n",
      "Victorias: 5, Empates: 1, Derrotas: 2\n"
     ]
    },
    {
     "name": "stdin",
     "output_type": "stream",
     "text": [
      "Elige Piedra (1), Papel (2) o Tijera (3) 1\n"
     ]
    },
    {
     "name": "stdout",
     "output_type": "stream",
     "text": [
      "Jugador y computadora eligen Piedra, es un empate\n",
      "Victorias: 5, Empates: 2, Derrotas: 2\n"
     ]
    },
    {
     "name": "stdin",
     "output_type": "stream",
     "text": [
      "Elige Piedra (1), Papel (2) o Tijera (3) 1\n"
     ]
    },
    {
     "name": "stdout",
     "output_type": "stream",
     "text": [
      "Jugador elige Piedra y computadora elige Papel, gana Computadora\n",
      "Victorias: 5, Empates: 2, Derrotas: 3\n"
     ]
    }
   ],
   "source": [
    "ElegirNumPartidas()"
   ]
  },
  {
   "cell_type": "code",
   "execution_count": null,
   "metadata": {},
   "outputs": [],
   "source": []
  }
 ],
 "metadata": {
  "kernelspec": {
   "display_name": "Python 3",
   "language": "python",
   "name": "python3"
  },
  "language_info": {
   "codemirror_mode": {
    "name": "ipython",
    "version": 3
   },
   "file_extension": ".py",
   "mimetype": "text/x-python",
   "name": "python",
   "nbconvert_exporter": "python",
   "pygments_lexer": "ipython3",
   "version": "3.8.3"
  }
 },
 "nbformat": 4,
 "nbformat_minor": 4
}
