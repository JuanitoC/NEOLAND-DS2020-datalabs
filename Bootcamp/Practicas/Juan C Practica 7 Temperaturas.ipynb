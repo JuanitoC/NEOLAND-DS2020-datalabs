{
 "cells": [
  {
   "cell_type": "markdown",
   "metadata": {},
   "source": [
    "emperatura del procesador\n",
    "Tenemos un sensor de temperatura en el procesador el servidor de nuestra empresa. Queremos analizar los datos proporcionados para analizar si debemos cambiar de sistema de refrigeración por uno mejor. Es caro y como analista de datos no podemos tomar decisiones sin base.\n",
    "\n",
    "Proporcionamos las temperaturas medidas a lo largo de las 24 horas de un día en una estructura de datos tipo lista compuesta de 24 números enteros:\n",
    "\n",
    "temperaturas_C = [33,66,65,0,59,60,62,64,70,76,80,69,80,83,68,79,61,53,50,49,53,48,45,39]\n",
    "Problema\n",
    "Si el sensor detecta más de 4 horas con temperaturas mayores o igual que 70ºC o alguna temperatura superior a 80ºC o la media fuera superior a 65ºC a lo largo de todo el día, deberemos dar la orden de cambiar el sistema de refrigeración para evitar dañar el procesador.\n",
    "\n",
    "Te vamos a guiar paso a paso para que puedas tomar la decisión calculando algunos pasos intermedios:\n",
    "\n",
    "Temperatura mínima\n",
    "Temperatura máxima\n",
    "Temperaturas igual o superior a 70ºC\n",
    "Media de temperaturas a lo largo del día.\n",
    "Si hubiera un fallo en el sensor a las 03:00 y no capturáramos el dato, ¿Cómo estímarias el valor que nos falta? Corrige ese valor en la lista de temperaturas.\n",
    "Bonus: Nuestro personal de mantenimiento es de Estados Unidos y no entiende el sistema métrico internacional. Pása las temperaturas a Grados Fahrenheit.\n",
    "Fórmula: F = 1.8 * C + 32\n",
    "\n",
    "web: https://es.wikipedia.org/wiki/Grado_Fahrenheit\n",
    "\n",
    "Toma la decisión\n",
    "Recuerda que si el sensor detecta más de 4 horas con temperaturas mayores o igual que 70ºC o alguna temperatura superior a 80ºC o la media fuera superior a 65ºC a lo largo de todo el día, deberemos dar la orden de cambiar el sistema de refrigeración para evitar el peligro de dañar el equipamiento:\n",
    "\n",
    "más de 4 horas con temperaturas mayores o igual que 70ºC\n",
    "alguna temperatura superior a 80ºC\n",
    "media fuera superior a 65ºC a lo largo de todo el día Si se cumple alguna de estas tres habrá que cambiar el sistema de refrigeración.\n",
    "Objetivos\n",
    "Tratamiento de listas\n",
    "Uso de bucle o list comprenhention\n",
    "Cálculo de la media, minimo y máximo.\n",
    "Filtrado de listas.\n",
    "Interpolar un valor atípico.\n",
    "Operadores lógicos.\n",
    "Imprimir por consola"
   ]
  },
  {
   "cell_type": "code",
   "execution_count": 54,
   "metadata": {},
   "outputs": [
    {
     "name": "stdout",
     "output_type": "stream",
     "text": [
      "Se detendría el sensor por una temperatura superior a 80C la 14 hora\n"
     ]
    }
   ],
   "source": [
    "temperaturas_C = [33,66,65,0,59,60,62,64,70,76,80,69,80,83,68,79,61,53,50,49,53,48,45,39]\n",
    "horas = range(0, len(temperaturas_C))\n",
    "media_acumulada = 0\n",
    "import numpy as np\n",
    "\n",
    "Horas_mayor_70 = []\n",
    "\n",
    "\n",
    "### Se para Cuando:\n",
    "### Más de 4 horas con temperaturas mayores o iguales a 70\n",
    "### Temperatura superior a 80C\n",
    "### Media acumulada superior a 65C\n",
    "\n",
    "for hora in horas:\n",
    "    Temp_acumulada= temperaturas_C[0:hora]\n",
    "    media_acumulada = np.mean(Temp_acumulada)\n",
    "    Horas_mayor_70 = []    \n",
    "    Horas_mayor_70 = [temp for temp in Temp_acumulada if temp>= 70 ]\n",
    "   \n",
    "  \n",
    "    \n",
    "    if temperaturas_C[hora] > 80:\n",
    "        print(\"Se detendría el sensor por una temperatura superior a 80C la {} hora\".format(hora+1))  \n",
    "        break\n",
    "    if media_acumulada >= 65:\n",
    "        print(\"Se detendría el sensor por una temperatura media superior o igual  a 65C la {} hora \".format(hora+1))\n",
    "        break\n",
    "    if len(Horas_mayor_70) >= 4:    \n",
    "        print(\"Se detendría el sensor por una temperatura superior o igual  a 70C durante 4 horas la {} hora \".format(hora+1))  \n",
    "        break\n",
    "        \n",
    "        \n",
    "    \n",
    "    \n",
    "\n",
    "    \n",
    "    \n",
    "        \n",
    "\n",
    "\n",
    "    \n",
    "\n",
    "\n"
   ]
  },
  {
   "cell_type": "code",
   "execution_count": null,
   "metadata": {},
   "outputs": [],
   "source": []
  },
  {
   "cell_type": "code",
   "execution_count": null,
   "metadata": {},
   "outputs": [],
   "source": []
  },
  {
   "cell_type": "code",
   "execution_count": null,
   "metadata": {},
   "outputs": [],
   "source": []
  }
 ],
 "metadata": {
  "kernelspec": {
   "display_name": "Python 3",
   "language": "python",
   "name": "python3"
  },
  "language_info": {
   "codemirror_mode": {
    "name": "ipython",
    "version": 3
   },
   "file_extension": ".py",
   "mimetype": "text/x-python",
   "name": "python",
   "nbconvert_exporter": "python",
   "pygments_lexer": "ipython3",
   "version": "3.8.3"
  }
 },
 "nbformat": 4,
 "nbformat_minor": 4
}
