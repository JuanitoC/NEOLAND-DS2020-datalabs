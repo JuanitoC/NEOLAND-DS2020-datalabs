{
 "cells": [
  {
   "cell_type": "markdown",
   "metadata": {},
   "source": [
    "# Clase 11 de noviembre de 2020\n",
    "## Ejemplos T-Test de una muestra\n",
    "## Ejemplos T-Test de dos muestras\n",
    "## Ejemplos T-Test Pareados\n",
    "## Ejemplos Independencia datos cualitativos\n",
    "### Test de Inepdencia $\\chi^2$\n",
    "## Anova"
   ]
  },
  {
   "cell_type": "code",
   "execution_count": 1,
   "metadata": {},
   "outputs": [],
   "source": [
    "## Librerias\n",
    "\n",
    "import pandas as pd\n",
    "import numpy as np\n",
    "import scipy.stats as stats\n",
    "import matplotlib.pyplot as plt\n",
    "import math"
   ]
  },
  {
   "cell_type": "code",
   "execution_count": 16,
   "metadata": {},
   "outputs": [],
   "source": [
    "## Genreamos una semilla aleatoria\n",
    "np.random.seed(1)"
   ]
  },
  {
   "cell_type": "code",
   "execution_count": 17,
   "metadata": {},
   "outputs": [],
   "source": [
    "poblacion1=stats.poisson.rvs(loc=18,mu=35,size=450000)\n",
    "poblacion2=stats.poisson.rvs(loc=18,mu=15,size=150000)\n",
    "España=np.concatenate((poblacion1, poblacion2))"
   ]
  },
  {
   "cell_type": "code",
   "execution_count": 18,
   "metadata": {},
   "outputs": [],
   "source": [
    "Granada1 = stats.poisson.rvs(loc=18, mu=35, size=30)\n",
    "Granada2 = stats.poisson.rvs(loc=18, mu=14, size=20)\n",
    "Granada = np.concatenate((Granada1, Granada2))"
   ]
  },
  {
   "cell_type": "code",
   "execution_count": 19,
   "metadata": {},
   "outputs": [
    {
     "name": "stdout",
     "output_type": "stream",
     "text": [
      "47.988895\n",
      "45.2\n"
     ]
    }
   ],
   "source": [
    "print( España.mean() )\n",
    "print( Granada.mean() )"
   ]
  },
  {
   "cell_type": "markdown",
   "metadata": {},
   "source": [
    "$$\\begin{array}{cc}\n",
    "H_0: & \\mu_G=\\mu_{ES}\\\\\n",
    "H_1: & \\mu_G\\neq\\mu_{ES} \n",
    "\\end{array}$$"
   ]
  },
  {
   "cell_type": "code",
   "execution_count": 20,
   "metadata": {},
   "outputs": [
    {
     "name": "stdout",
     "output_type": "stream",
     "text": [
      "Aceptamos Hipotesis Nula\n"
     ]
    }
   ],
   "source": [
    "estadistico, p_Valor=stats.ttest_1samp(Granada,España.mean())\n",
    "\n",
    "if p_Valor<0.05:\n",
    "    print(\"Rechazamos Hipotesis Nula\")\n",
    "else:\n",
    "    print(\"Aceptamos Hipotesis Nula\")\n"
   ]
  },
  {
   "cell_type": "markdown",
   "metadata": {},
   "source": [
    "### T-Test de dos muestras\n",
    "\n",
    "$$\\begin{array}{cc}\n",
    "H_0: & \\mu_G=\\mu_{Ma}\\\\\n",
    "H_1: & \\mu_G\\neq\\mu_{Ma} \n",
    "\\end{array}$$"
   ]
  },
  {
   "cell_type": "code",
   "execution_count": 21,
   "metadata": {},
   "outputs": [],
   "source": [
    "Madrid1 = stats.poisson.rvs(loc=18, mu=34, size=120)\n",
    "Madrid2 = stats.poisson.rvs(loc=18, mu=13, size=80)\n",
    "Madrid = np.concatenate((Madrid1, Madrid2))"
   ]
  },
  {
   "cell_type": "code",
   "execution_count": 22,
   "metadata": {},
   "outputs": [
    {
     "data": {
      "text/plain": [
       "Ttest_indResult(statistic=0.9346960995394972, pvalue=0.3529398654301582)"
      ]
     },
     "execution_count": 22,
     "metadata": {},
     "output_type": "execute_result"
    }
   ],
   "source": [
    "stats.ttest_ind(Granada,Madrid,equal_var=False)"
   ]
  },
  {
   "cell_type": "markdown",
   "metadata": {},
   "source": [
    "### T- Test Pareado"
   ]
  },
  {
   "cell_type": "code",
   "execution_count": 26,
   "metadata": {},
   "outputs": [],
   "source": [
    "np.random.seed(234)\n",
    "\n",
    "peso_precovid=stats.norm.rvs(scale=30,loc=250,size=1000)\n",
    "peso_postcovid=peso_precovid + stats.norm.rvs(scale=10,loc=1.25,size=1000)"
   ]
  },
  {
   "cell_type": "code",
   "execution_count": 29,
   "metadata": {},
   "outputs": [],
   "source": [
    "Peso=pd.DataFrame({\"peso_precovid\":peso_precovid,\n",
    "                   \"peso_postcovid\":peso_postcovid,\n",
    "                   \"Cambio de peso\":-peso_precovid+peso_postcovid                  \n",
    "                  })"
   ]
  },
  {
   "cell_type": "code",
   "execution_count": 30,
   "metadata": {},
   "outputs": [
    {
     "data": {
      "text/html": [
       "<div>\n",
       "<style scoped>\n",
       "    .dataframe tbody tr th:only-of-type {\n",
       "        vertical-align: middle;\n",
       "    }\n",
       "\n",
       "    .dataframe tbody tr th {\n",
       "        vertical-align: top;\n",
       "    }\n",
       "\n",
       "    .dataframe thead th {\n",
       "        text-align: right;\n",
       "    }\n",
       "</style>\n",
       "<table border=\"1\" class=\"dataframe\">\n",
       "  <thead>\n",
       "    <tr style=\"text-align: right;\">\n",
       "      <th></th>\n",
       "      <th>peso_precovid</th>\n",
       "      <th>peso_postcovid</th>\n",
       "      <th>Cambio de peso</th>\n",
       "    </tr>\n",
       "  </thead>\n",
       "  <tbody>\n",
       "    <tr>\n",
       "      <th>count</th>\n",
       "      <td>1000.000000</td>\n",
       "      <td>1000.000000</td>\n",
       "      <td>1000.000000</td>\n",
       "    </tr>\n",
       "    <tr>\n",
       "      <th>mean</th>\n",
       "      <td>250.085520</td>\n",
       "      <td>251.244027</td>\n",
       "      <td>1.158506</td>\n",
       "    </tr>\n",
       "    <tr>\n",
       "      <th>std</th>\n",
       "      <td>30.324344</td>\n",
       "      <td>31.953647</td>\n",
       "      <td>10.112285</td>\n",
       "    </tr>\n",
       "    <tr>\n",
       "      <th>min</th>\n",
       "      <td>137.798281</td>\n",
       "      <td>126.257583</td>\n",
       "      <td>-29.798163</td>\n",
       "    </tr>\n",
       "    <tr>\n",
       "      <th>25%</th>\n",
       "      <td>230.177244</td>\n",
       "      <td>229.789843</td>\n",
       "      <td>-5.973713</td>\n",
       "    </tr>\n",
       "    <tr>\n",
       "      <th>50%</th>\n",
       "      <td>250.550752</td>\n",
       "      <td>251.364715</td>\n",
       "      <td>0.991133</td>\n",
       "    </tr>\n",
       "    <tr>\n",
       "      <th>75%</th>\n",
       "      <td>269.294031</td>\n",
       "      <td>272.720401</td>\n",
       "      <td>8.365497</td>\n",
       "    </tr>\n",
       "    <tr>\n",
       "      <th>max</th>\n",
       "      <td>362.560614</td>\n",
       "      <td>370.916951</td>\n",
       "      <td>32.419810</td>\n",
       "    </tr>\n",
       "  </tbody>\n",
       "</table>\n",
       "</div>"
      ],
      "text/plain": [
       "       peso_precovid  peso_postcovid  Cambio de peso\n",
       "count    1000.000000     1000.000000     1000.000000\n",
       "mean      250.085520      251.244027        1.158506\n",
       "std        30.324344       31.953647       10.112285\n",
       "min       137.798281      126.257583      -29.798163\n",
       "25%       230.177244      229.789843       -5.973713\n",
       "50%       250.550752      251.364715        0.991133\n",
       "75%       269.294031      272.720401        8.365497\n",
       "max       362.560614      370.916951       32.419810"
      ]
     },
     "execution_count": 30,
     "metadata": {},
     "output_type": "execute_result"
    }
   ],
   "source": [
    "Peso.describe()"
   ]
  },
  {
   "cell_type": "code",
   "execution_count": 32,
   "metadata": {},
   "outputs": [
    {
     "data": {
      "text/plain": [
       "Ttest_relResult(statistic=-3.622839108433472, pvalue=0.00030605398934524964)"
      ]
     },
     "execution_count": 32,
     "metadata": {},
     "output_type": "execute_result"
    }
   ],
   "source": [
    "stats.ttest_rel(peso_precovid,peso_postcovid)"
   ]
  },
  {
   "cell_type": "markdown",
   "metadata": {},
   "source": [
    "## Datos Cualitativos"
   ]
  },
  {
   "cell_type": "code",
   "execution_count": 33,
   "metadata": {},
   "outputs": [],
   "source": [
    "Nacional = pd.DataFrame([\"Matematicas\"]*100000 + [\"Educacion Fisica\"]*60000 +\\\n",
    "                        [\"Lengua\"]*50000 + [\"Ingles\"]*15000 + [\"Otras\"]*35000)\n",
    "\n",
    "\n",
    "Granada=pd.DataFrame([\"Matematicas\"]*600 + [\"Educacion Fisica\"]*300 +\\\n",
    "                        [\"Lengua\"]*250 + [\"Ingles\"]*75 + [\"Otras\"]*150)"
   ]
  },
  {
   "cell_type": "code",
   "execution_count": 36,
   "metadata": {},
   "outputs": [
    {
     "name": "stdout",
     "output_type": "stream",
     "text": [
      "col_0             Recuento\n",
      "0                         \n",
      "Educacion Fisica     60000\n",
      "Ingles               15000\n",
      "Lengua               50000\n",
      "Matematicas         100000\n",
      "Otras                35000\n",
      " \n",
      "col_0             Recuento\n",
      "0                         \n",
      "Educacion Fisica       300\n",
      "Ingles                  75\n",
      "Lengua                 250\n",
      "Matematicas            600\n",
      "Otras                  150\n"
     ]
    }
   ],
   "source": [
    "Tabla_Nacional = pd.crosstab(index=Nacional[0], columns=\"Recuento\")\n",
    "Tabla_Granada = pd.crosstab(index=Granada[0], columns=\"Recuento\")\n",
    "\n",
    "print(Tabla_Nacional)\n",
    "print(\" \")\n",
    "\n",
    "print(Tabla_Granada)"
   ]
  },
  {
   "cell_type": "markdown",
   "metadata": {},
   "source": [
    "el test $\\chi^2$\n",
    "\n",
    "$$\\begin{equation}\n",
    "\\sum{\\frac{(\\text{Observados}-\\text{Esperado})^2 }{\\text{Esperado}}}\n",
    "\\end{equation}$$"
   ]
  },
  {
   "cell_type": "code",
   "execution_count": null,
   "metadata": {},
   "outputs": [],
   "source": [
    "Observado=Tabla_Granada\n",
    "\n",
    "Ratios=Tabla_Nacional/len(Nacional)\n",
    "Esperado=Ratios*len(Granada)"
   ]
  },
  {
   "cell_type": "code",
   "execution_count": 39,
   "metadata": {},
   "outputs": [
    {
     "name": "stdout",
     "output_type": "stream",
     "text": [
      "col_0               Recuento\n",
      "0                           \n",
      "Educacion Fisica  317.307692\n",
      "Ingles             79.326923\n",
      "Lengua            264.423077\n",
      "Matematicas       528.846154\n",
      "Otras             185.096154\n"
     ]
    }
   ],
   "source": [
    "print(Esperado)"
   ]
  },
  {
   "cell_type": "code",
   "execution_count": 42,
   "metadata": {},
   "outputs": [
    {
     "name": "stdout",
     "output_type": "stream",
     "text": [
      "col_0\n",
      "Recuento    18.194805\n",
      "dtype: float64\n"
     ]
    }
   ],
   "source": [
    "chi_cuadrado=((Observado-Esperado)**2/Esperado).sum()\n",
    "print(chi_cuadrado)"
   ]
  },
  {
   "cell_type": "code",
   "execution_count": 45,
   "metadata": {},
   "outputs": [
    {
     "name": "stdout",
     "output_type": "stream",
     "text": [
      "9.487729036781154\n"
     ]
    }
   ],
   "source": [
    "valor_Critico=stats.chi2.ppf(q=0.95,\n",
    "                            df=4)\n",
    "print(valor_Critico)"
   ]
  },
  {
   "cell_type": "code",
   "execution_count": 47,
   "metadata": {},
   "outputs": [
    {
     "name": "stdout",
     "output_type": "stream",
     "text": [
      "[0.]\n"
     ]
    }
   ],
   "source": [
    "p_valor=1-stats.chi.cdf(x=chi_cuadrado,df=4)\n",
    "print(p_valor)"
   ]
  },
  {
   "cell_type": "code",
   "execution_count": 48,
   "metadata": {},
   "outputs": [
    {
     "data": {
      "text/plain": [
       "Power_divergenceResult(statistic=array([18.19480519]), pvalue=array([0.00113047]))"
      ]
     },
     "execution_count": 48,
     "metadata": {},
     "output_type": "execute_result"
    }
   ],
   "source": [
    "stats.chisquare(Observado, Esperado)"
   ]
  },
  {
   "cell_type": "markdown",
   "metadata": {},
   "source": [
    "## Doble Entrada"
   ]
  },
  {
   "cell_type": "code",
   "execution_count": 63,
   "metadata": {},
   "outputs": [],
   "source": [
    "np.random.seed(321)"
   ]
  },
  {
   "cell_type": "code",
   "execution_count": 64,
   "metadata": {},
   "outputs": [],
   "source": [
    "voto_Estado=np.random.choice(a=[\"Michigan\",\"Pensilvania\",\"Texas\",\"Arizona\",\"California\"],\n",
    "                             p=[0.15,0.15,0.25,0.1,0.35],\n",
    "                             size=10000)\n",
    "\n",
    "voto_partido=np.random.choice(a=[\"Democrata\",\"Liberales\",\"Republicano\"],\n",
    "                              p=[0.45,0.15,0.4],\n",
    "                              size=10000)\n",
    "\n",
    "votos=pd.DataFrame({\"Estados\":voto_Estado,\n",
    "                    \"Partido\":voto_partido\n",
    "                   })"
   ]
  },
  {
   "cell_type": "code",
   "execution_count": 65,
   "metadata": {},
   "outputs": [
    {
     "name": "stdout",
     "output_type": "stream",
     "text": [
      "              Democrata  Liberales  Republicano  Suma_Fila\n",
      "Michigan            451        150          412       1013\n",
      "Pensilvania        1553        522         1411       3486\n",
      "Texas               685        235          566       1486\n",
      "Arizona             746        215          549       1510\n",
      "California         1124        377         1004       2505\n",
      "Suma_Columna       4559       1499         3942      10000\n"
     ]
    }
   ],
   "source": [
    "votos_tab=pd.crosstab(voto_Estado,voto_partido,margins=True)\n",
    "votos_tab.columns=[\"Democrata\",\"Liberales\",\"Republicano\",\"Suma_Fila\"]\n",
    "votos_tab.index=[\"Michigan\",\"Pensilvania\",\"Texas\",\"Arizona\",\"California\",\"Suma_Columna\"]\n",
    "print(votos_tab)"
   ]
  },
  {
   "cell_type": "markdown",
   "metadata": {},
   "source": [
    "La idea de outer"
   ]
  },
  {
   "cell_type": "markdown",
   "metadata": {},
   "source": [
    "$$(a_0,a_1,a_2)\\times(b_0,b_1,b_2)= \n",
    "\\begin{pmatrix}\n",
    "a_0*b_0 & a_0*b_1 & a_0*b_2 \\\\\n",
    "a_1*b_0 & a_1*b_1 & a_1*b_2 \\\\\n",
    "a_2*b_0 & a_2*b_1 & a_2*b_2 \n",
    "\\end{pmatrix}$$"
   ]
  },
  {
   "cell_type": "code",
   "execution_count": 71,
   "metadata": {},
   "outputs": [
    {
     "data": {
      "text/plain": [
       "461.8267"
      ]
     },
     "execution_count": 71,
     "metadata": {},
     "output_type": "execute_result"
    }
   ],
   "source": [
    "4559*1013/10000"
   ]
  },
  {
   "cell_type": "code",
   "execution_count": 67,
   "metadata": {},
   "outputs": [],
   "source": [
    "esperados=np.outer(votos_tab[\"Suma_Fila\"][0:5],votos_tab.loc[\"Suma_Columna\"][0:3])/10000"
   ]
  },
  {
   "cell_type": "code",
   "execution_count": 68,
   "metadata": {},
   "outputs": [],
   "source": [
    "esperados=pd.DataFrame(esperados)\n"
   ]
  },
  {
   "cell_type": "code",
   "execution_count": 70,
   "metadata": {},
   "outputs": [
    {
     "data": {
      "text/html": [
       "<div>\n",
       "<style scoped>\n",
       "    .dataframe tbody tr th:only-of-type {\n",
       "        vertical-align: middle;\n",
       "    }\n",
       "\n",
       "    .dataframe tbody tr th {\n",
       "        vertical-align: top;\n",
       "    }\n",
       "\n",
       "    .dataframe thead th {\n",
       "        text-align: right;\n",
       "    }\n",
       "</style>\n",
       "<table border=\"1\" class=\"dataframe\">\n",
       "  <thead>\n",
       "    <tr style=\"text-align: right;\">\n",
       "      <th></th>\n",
       "      <th>Democrata</th>\n",
       "      <th>Liberales</th>\n",
       "      <th>Republicano</th>\n",
       "    </tr>\n",
       "  </thead>\n",
       "  <tbody>\n",
       "    <tr>\n",
       "      <th>Michigan</th>\n",
       "      <td>461.8267</td>\n",
       "      <td>151.8487</td>\n",
       "      <td>399.3246</td>\n",
       "    </tr>\n",
       "    <tr>\n",
       "      <th>Pensilvania</th>\n",
       "      <td>1589.2674</td>\n",
       "      <td>522.5514</td>\n",
       "      <td>1374.1812</td>\n",
       "    </tr>\n",
       "    <tr>\n",
       "      <th>Texas</th>\n",
       "      <td>677.4674</td>\n",
       "      <td>222.7514</td>\n",
       "      <td>585.7812</td>\n",
       "    </tr>\n",
       "    <tr>\n",
       "      <th>Arizona</th>\n",
       "      <td>688.4090</td>\n",
       "      <td>226.3490</td>\n",
       "      <td>595.2420</td>\n",
       "    </tr>\n",
       "    <tr>\n",
       "      <th>California</th>\n",
       "      <td>1142.0295</td>\n",
       "      <td>375.4995</td>\n",
       "      <td>987.4710</td>\n",
       "    </tr>\n",
       "  </tbody>\n",
       "</table>\n",
       "</div>"
      ],
      "text/plain": [
       "             Democrata  Liberales  Republicano\n",
       "Michigan      461.8267   151.8487     399.3246\n",
       "Pensilvania  1589.2674   522.5514    1374.1812\n",
       "Texas         677.4674   222.7514     585.7812\n",
       "Arizona       688.4090   226.3490     595.2420\n",
       "California   1142.0295   375.4995     987.4710"
      ]
     },
     "execution_count": 70,
     "metadata": {},
     "output_type": "execute_result"
    }
   ],
   "source": [
    "esperados.columns=[\"Democrata\",\"Liberales\",\"Republicano\"]\n",
    "esperados.index=[\"Michigan\",\"Pensilvania\",\"Texas\",\"Arizona\",\"California\"]\n",
    "esperados"
   ]
  },
  {
   "cell_type": "code",
   "execution_count": 72,
   "metadata": {},
   "outputs": [],
   "source": [
    "observados=votos_tab.iloc[0:5,0:3]"
   ]
  },
  {
   "cell_type": "code",
   "execution_count": 74,
   "metadata": {},
   "outputs": [
    {
     "data": {
      "text/plain": [
       "13.465287892366476"
      ]
     },
     "execution_count": 74,
     "metadata": {},
     "output_type": "execute_result"
    }
   ],
   "source": [
    " ((observados-esperados)**2/esperados).sum().sum()"
   ]
  },
  {
   "cell_type": "code",
   "execution_count": 75,
   "metadata": {},
   "outputs": [
    {
     "name": "stdout",
     "output_type": "stream",
     "text": [
      "15.50731305586545\n"
     ]
    }
   ],
   "source": [
    "critico=stats.chi2.ppf(0.95,8)\n",
    "print(critico)"
   ]
  },
  {
   "cell_type": "code",
   "execution_count": 78,
   "metadata": {},
   "outputs": [
    {
     "name": "stdout",
     "output_type": "stream",
     "text": [
      "0.09681183469723353\n"
     ]
    }
   ],
   "source": [
    "p_valor=1-stats.chi2.cdf(((observados-esperados)**2/esperados).sum().sum(),8)\n",
    "print(p_valor)"
   ]
  },
  {
   "cell_type": "code",
   "execution_count": null,
   "metadata": {},
   "outputs": [],
   "source": [
    "stats.chi2_contingency(observados)"
   ]
  },
  {
   "cell_type": "code",
   "execution_count": 79,
   "metadata": {},
   "outputs": [
    {
     "data": {
      "text/plain": [
       "(13.465287892366478,\n",
       " 0.0968118346972335,\n",
       " 8,\n",
       " array([[ 461.8267,  151.8487,  399.3246],\n",
       "        [1589.2674,  522.5514, 1374.1812],\n",
       "        [ 677.4674,  222.7514,  585.7812],\n",
       "        [ 688.409 ,  226.349 ,  595.242 ],\n",
       "        [1142.0295,  375.4995,  987.471 ]]))"
      ]
     },
     "execution_count": 79,
     "metadata": {},
     "output_type": "execute_result"
    }
   ],
   "source": []
  },
  {
   "cell_type": "markdown",
   "metadata": {},
   "source": [
    "# ANOVA"
   ]
  },
  {
   "cell_type": "code",
   "execution_count": 80,
   "metadata": {},
   "outputs": [],
   "source": [
    "np.random.seed(345)\n",
    "\n",
    "\n",
    "Peliculas=[\"Senor_Anillos\",\"Star_Wars\",\"Gladiator\",\"Vengadores\",\"Caballero_Oscuro\"]\n",
    "\n",
    "\n",
    "voto_pelicula=np.random.choice(a=Peliculas,\n",
    "                              p=[0.1,0.2,0.2,0.15,0.35],\n",
    "                              size=1000)\n",
    "\n",
    "voto_Edad= stats.poisson.rvs(loc=18,\n",
    "                            mu=25,\n",
    "                            size=1000)\n",
    "\n",
    "votos_df=pd.DataFrame({\"Peliculas\":voto_pelicula,\n",
    "                      \"Edad\":voto_Edad})\n",
    "\n",
    "\n",
    "\n",
    "\n"
   ]
  },
  {
   "cell_type": "code",
   "execution_count": 82,
   "metadata": {},
   "outputs": [
    {
     "name": "stdout",
     "output_type": "stream",
     "text": [
      "{'Caballero_Oscuro': Int64Index([  1,   6,  13,  14,  19,  20,  24,  32,  34,  35,\n",
      "            ...\n",
      "            959, 962, 963, 972, 974, 975, 979, 984, 990, 994],\n",
      "           dtype='int64', length=327), 'Gladiator': Int64Index([  0,   2,   5,   7,  26,  27,  30,  45,  46,  50,\n",
      "            ...\n",
      "            948, 960, 967, 968, 973, 977, 978, 982, 987, 992],\n",
      "           dtype='int64', length=204), 'Senor_Anillos': Int64Index([  8,  18,  40,  54,  60,  64,  65,  82,  92, 101,\n",
      "            ...\n",
      "            949, 964, 966, 971, 985, 986, 988, 991, 995, 999],\n",
      "           dtype='int64', length=106), 'Star_Wars': Int64Index([  4,  11,  12,  15,  16,  21,  23,  28,  29,  31,\n",
      "            ...\n",
      "            961, 969, 970, 976, 980, 981, 983, 989, 996, 997],\n",
      "           dtype='int64', length=227), 'Vengadores': Int64Index([  3,   9,  10,  17,  22,  25,  62,  66,  69,  72,\n",
      "            ...\n",
      "            913, 915, 929, 936, 937, 938, 942, 965, 993, 998],\n",
      "           dtype='int64', length=136)}\n"
     ]
    }
   ],
   "source": [
    "grupos_df=votos_df.groupby('Peliculas').groups\n",
    "print(grupos_df)"
   ]
  },
  {
   "cell_type": "markdown",
   "metadata": {},
   "source": [
    "Extraemos los diferentes grupos"
   ]
  },
  {
   "cell_type": "code",
   "execution_count": 86,
   "metadata": {},
   "outputs": [],
   "source": [
    "Senor_Anillos=voto_Edad[grupos_df[\"Senor_Anillos\"]]\n",
    "Star_Wars=voto_Edad[grupos_df[\"Star_Wars\"]]\n",
    "Gladiator=voto_Edad[grupos_df[\"Gladiator\"]]\n",
    "Vengadores=voto_Edad[grupos_df[\"Vengadores\"]]\n",
    "Caballero_Oscuro=voto_Edad[grupos_df[\"Caballero_Oscuro\"]]"
   ]
  },
  {
   "cell_type": "code",
   "execution_count": 87,
   "metadata": {},
   "outputs": [
    {
     "data": {
      "text/plain": [
       "F_onewayResult(statistic=0.5343920055080505, pvalue=0.710501147706021)"
      ]
     },
     "execution_count": 87,
     "metadata": {},
     "output_type": "execute_result"
    }
   ],
   "source": [
    "stats.f_oneway(Senor_Anillos,Star_Wars,Gladiator,Vengadores,Caballero_Oscuro)"
   ]
  },
  {
   "cell_type": "code",
   "execution_count": 88,
   "metadata": {},
   "outputs": [],
   "source": [
    "import statsmodels.api as sm\n",
    "from statsmodels.formula.api import ols"
   ]
  },
  {
   "cell_type": "code",
   "execution_count": 92,
   "metadata": {},
   "outputs": [],
   "source": [
    "model=ols('Edad~Peliculas',\n",
    "   data=votos_df).fit()"
   ]
  },
  {
   "cell_type": "code",
   "execution_count": 93,
   "metadata": {},
   "outputs": [
    {
     "data": {
      "text/html": [
       "<div>\n",
       "<style scoped>\n",
       "    .dataframe tbody tr th:only-of-type {\n",
       "        vertical-align: middle;\n",
       "    }\n",
       "\n",
       "    .dataframe tbody tr th {\n",
       "        vertical-align: top;\n",
       "    }\n",
       "\n",
       "    .dataframe thead th {\n",
       "        text-align: right;\n",
       "    }\n",
       "</style>\n",
       "<table border=\"1\" class=\"dataframe\">\n",
       "  <thead>\n",
       "    <tr style=\"text-align: right;\">\n",
       "      <th></th>\n",
       "      <th>sum_sq</th>\n",
       "      <th>df</th>\n",
       "      <th>F</th>\n",
       "      <th>PR(&gt;F)</th>\n",
       "    </tr>\n",
       "  </thead>\n",
       "  <tbody>\n",
       "    <tr>\n",
       "      <th>Peliculas</th>\n",
       "      <td>53.379931</td>\n",
       "      <td>4.0</td>\n",
       "      <td>0.534392</td>\n",
       "      <td>0.710501</td>\n",
       "    </tr>\n",
       "    <tr>\n",
       "      <th>Residual</th>\n",
       "      <td>24847.411069</td>\n",
       "      <td>995.0</td>\n",
       "      <td>NaN</td>\n",
       "      <td>NaN</td>\n",
       "    </tr>\n",
       "  </tbody>\n",
       "</table>\n",
       "</div>"
      ],
      "text/plain": [
       "                 sum_sq     df         F    PR(>F)\n",
       "Peliculas     53.379931    4.0  0.534392  0.710501\n",
       "Residual   24847.411069  995.0       NaN       NaN"
      ]
     },
     "execution_count": 93,
     "metadata": {},
     "output_type": "execute_result"
    }
   ],
   "source": [
    "sm.stats.anova_lm(model,typ=2)"
   ]
  },
  {
   "cell_type": "code",
   "execution_count": 118,
   "metadata": {},
   "outputs": [],
   "source": [
    "Wars_Edad=stats.poisson.rvs(loc=18,mu=28,size=1000)\n",
    "voto_Edad= stats.poisson.rvs(loc=18,\n",
    "                            mu=25,\n",
    "                            size=1000)\n",
    "voto_Edad=np.where(voto_pelicula==\"Star_Wars\",Wars_Edad,voto_Edad)"
   ]
  },
  {
   "cell_type": "code",
   "execution_count": 119,
   "metadata": {},
   "outputs": [],
   "source": [
    "votos_df=pd.DataFrame({\"Peliculas\":voto_pelicula,\n",
    "                      \"Edad\":voto_Edad})"
   ]
  },
  {
   "cell_type": "code",
   "execution_count": 120,
   "metadata": {},
   "outputs": [
    {
     "data": {
      "text/html": [
       "<div>\n",
       "<style scoped>\n",
       "    .dataframe tbody tr th:only-of-type {\n",
       "        vertical-align: middle;\n",
       "    }\n",
       "\n",
       "    .dataframe tbody tr th {\n",
       "        vertical-align: top;\n",
       "    }\n",
       "\n",
       "    .dataframe thead th {\n",
       "        text-align: right;\n",
       "    }\n",
       "</style>\n",
       "<table border=\"1\" class=\"dataframe\">\n",
       "  <thead>\n",
       "    <tr style=\"text-align: right;\">\n",
       "      <th></th>\n",
       "      <th>sum_sq</th>\n",
       "      <th>df</th>\n",
       "      <th>F</th>\n",
       "      <th>PR(&gt;F)</th>\n",
       "    </tr>\n",
       "  </thead>\n",
       "  <tbody>\n",
       "    <tr>\n",
       "      <th>Peliculas</th>\n",
       "      <td>1906.764492</td>\n",
       "      <td>4.0</td>\n",
       "      <td>17.990916</td>\n",
       "      <td>2.825223e-14</td>\n",
       "    </tr>\n",
       "    <tr>\n",
       "      <th>Residual</th>\n",
       "      <td>26363.731508</td>\n",
       "      <td>995.0</td>\n",
       "      <td>NaN</td>\n",
       "      <td>NaN</td>\n",
       "    </tr>\n",
       "  </tbody>\n",
       "</table>\n",
       "</div>"
      ],
      "text/plain": [
       "                 sum_sq     df          F        PR(>F)\n",
       "Peliculas   1906.764492    4.0  17.990916  2.825223e-14\n",
       "Residual   26363.731508  995.0        NaN           NaN"
      ]
     },
     "execution_count": 120,
     "metadata": {},
     "output_type": "execute_result"
    }
   ],
   "source": [
    "model1=ols('Edad~Peliculas',\n",
    "   data=votos_df).fit()\n",
    "sm.stats.anova_lm(model1,typ=2)"
   ]
  },
  {
   "cell_type": "code",
   "execution_count": 103,
   "metadata": {},
   "outputs": [],
   "source": [
    "parejas=[]"
   ]
  },
  {
   "cell_type": "code",
   "execution_count": 106,
   "metadata": {},
   "outputs": [],
   "source": [
    "for Pelicula1 in range(4):\n",
    "    for Pelicula2 in range(Pelicula1 +1,5):\n",
    "        parejas.append((Peliculas[Pelicula1],Peliculas[Pelicula2]))"
   ]
  },
  {
   "cell_type": "code",
   "execution_count": 108,
   "metadata": {},
   "outputs": [
    {
     "name": "stdout",
     "output_type": "stream",
     "text": [
      "[('Senor_Anillos', 'Star_Wars'), ('Senor_Anillos', 'Gladiator'), ('Senor_Anillos', 'Vengadores'), ('Senor_Anillos', 'Caballero_Oscuro'), ('Star_Wars', 'Gladiator'), ('Star_Wars', 'Vengadores'), ('Star_Wars', 'Caballero_Oscuro'), ('Gladiator', 'Vengadores'), ('Gladiator', 'Caballero_Oscuro'), ('Vengadores', 'Caballero_Oscuro')]\n"
     ]
    }
   ],
   "source": [
    "print(parejas)"
   ]
  },
  {
   "cell_type": "code",
   "execution_count": null,
   "metadata": {},
   "outputs": [],
   "source": [
    "for Pelicula1, Pelicula2 in parejas:\n",
    "    print(\"\\n\",Pelicula1,\"-vs-\",Pelicula2)\n",
    "    print(stats.ttest_ind(voto_Edad[grupos_df[Pelicula1]],\n",
    "                         voto_Edad[grupos_df[Pelicula2]]))\n",
    "print(\"---------------------------------------------------------\")"
   ]
  },
  {
   "cell_type": "code",
   "execution_count": 113,
   "metadata": {},
   "outputs": [
    {
     "name": "stdout",
     "output_type": "stream",
     "text": [
      "\n",
      " Senor_Anillos -vs- Star_Wars\n",
      "\n",
      " Star_Wars -vs- Gladiator\n",
      "\n",
      " Star_Wars -vs- Vengadores\n",
      "\n",
      " Star_Wars -vs- Caballero_Oscuro\n"
     ]
    }
   ],
   "source": [
    "for Pelicula1, Pelicula2 in parejas:\n",
    "    estadistico,p_valor=stats.ttest_ind(voto_Edad[grupos_df[Pelicula1]],\n",
    "                         voto_Edad[grupos_df[Pelicula2]])\n",
    "    if p_valor<0.05:\n",
    "        print(\"\\n\",Pelicula1,\"-vs-\",Pelicula2)"
   ]
  },
  {
   "cell_type": "code",
   "execution_count": 121,
   "metadata": {},
   "outputs": [],
   "source": [
    "from statsmodels.stats.multicomp import pairwise_tukeyhsd\n",
    "\n",
    "\n",
    "tukey=pairwise_tukeyhsd(voto_Edad,voto_pelicula,alpha=0.05)"
   ]
  },
  {
   "cell_type": "code",
   "execution_count": 122,
   "metadata": {},
   "outputs": [
    {
     "data": {
      "text/html": [
       "<table class=\"simpletable\">\n",
       "<caption>Multiple Comparison of Means - Tukey HSD,FWER=0.05</caption>\n",
       "<tr>\n",
       "       <th>group1</th>         <th>group2</th>     <th>meandiff</th>  <th>lower</th>   <th>upper</th> <th>reject</th>\n",
       "</tr>\n",
       "<tr>\n",
       "  <td>Caballero_Oscuro</td>   <td>Gladiator</td>    <td>0.3243</td>  <td>-0.9307</td> <td>1.5793</td>  <td>False</td>\n",
       "</tr>\n",
       "<tr>\n",
       "  <td>Caballero_Oscuro</td> <td>Senor_Anillos</td>  <td>-0.3373</td> <td>-1.9095</td> <td>1.2349</td>  <td>False</td>\n",
       "</tr>\n",
       "<tr>\n",
       "  <td>Caballero_Oscuro</td>   <td>Star_Wars</td>    <td>3.1597</td>  <td>1.9445</td>   <td>4.375</td>  <td>True</td> \n",
       "</tr>\n",
       "<tr>\n",
       "  <td>Caballero_Oscuro</td>  <td>Vengadores</td>    <td>-0.6046</td> <td>-2.0399</td> <td>0.8307</td>  <td>False</td>\n",
       "</tr>\n",
       "<tr>\n",
       "      <td>Gladiator</td>    <td>Senor_Anillos</td>  <td>-0.6616</td> <td>-2.3458</td> <td>1.0227</td>  <td>False</td>\n",
       "</tr>\n",
       "<tr>\n",
       "      <td>Gladiator</td>      <td>Star_Wars</td>    <td>2.8354</td>  <td>1.4783</td>  <td>4.1925</td>  <td>True</td> \n",
       "</tr>\n",
       "<tr>\n",
       "      <td>Gladiator</td>     <td>Vengadores</td>    <td>-0.9289</td> <td>-2.4861</td> <td>0.6283</td>  <td>False</td>\n",
       "</tr>\n",
       "<tr>\n",
       "    <td>Senor_Anillos</td>    <td>Star_Wars</td>     <td>3.497</td>  <td>1.8422</td>  <td>5.1518</td>  <td>True</td> \n",
       "</tr>\n",
       "<tr>\n",
       "    <td>Senor_Anillos</td>   <td>Vengadores</td>    <td>-0.2673</td> <td>-2.0899</td> <td>1.5552</td>  <td>False</td>\n",
       "</tr>\n",
       "<tr>\n",
       "      <td>Star_Wars</td>     <td>Vengadores</td>    <td>-3.7643</td> <td>-5.2897</td> <td>-2.239</td>  <td>True</td> \n",
       "</tr>\n",
       "</table>"
      ],
      "text/plain": [
       "<class 'statsmodels.iolib.table.SimpleTable'>"
      ]
     },
     "execution_count": 122,
     "metadata": {},
     "output_type": "execute_result"
    }
   ],
   "source": [
    "tukey.summary()"
   ]
  },
  {
   "cell_type": "code",
   "execution_count": 123,
   "metadata": {},
   "outputs": [
    {
     "data": {
      "image/png": "[encoded data removed]",
      "text/plain": [
       "<Figure size 720x432 with 1 Axes>"
      ]
     },
     "execution_count": 123,
     "metadata": {},
     "output_type": "execute_result"
    },
    {
     "data": {
      "image/png": "[encoded data removed]",
      "text/plain": [
       "<Figure size 720x432 with 1 Axes>"
      ]
     },
     "metadata": {
      "needs_background": "light"
     },
     "output_type": "display_data"
    }
   ],
   "source": [
    "tukey.plot_simultaneous()"
   ]
  }
 ],
 "metadata": {
  "kernelspec": {
   "display_name": "Python 3",
   "language": "python",
   "name": "python3"
  },
  "language_info": {
   "codemirror_mode": {
    "name": "ipython",
    "version": 3
   },
   "file_extension": ".py",
   "mimetype": "text/x-python",
   "name": "python",
   "nbconvert_exporter": "python",
   "pygments_lexer": "ipython3",
   "version": "3.7.1"
  }
 },
 "nbformat": 4,
 "nbformat_minor": 2
}
