{
 "cells": [
  {
   "cell_type": "markdown",
   "metadata": {},
   "source": [
    "# Contrastes de hipótesis en Python\n",
    "Librerias que vamos a utilziar "
   ]
  },
  {
   "cell_type": "code",
   "execution_count": null,
   "metadata": {},
   "outputs": [],
   "source": [
    "import statsmodels.api as sm\n",
    "import numpy as np\n",
    "import matplotlib.pyplot as plt\n",
    "import statistics as st\n",
    "import pandas as pd\n",
    "import os.path\n",
    "ruta=\"F:/Neoland/Data/Test Hipotesis/\""
   ]
  },
  {
   "cell_type": "markdown",
   "metadata": {},
   "source": [
    "## Contrastes para la proporción poblacional $p$\n",
    "\n",
    "### Contrastes de una muestra\n",
    "\n",
    "$$\n",
    "\\left\\{\n",
    "\\begin{array}{ll}\n",
    "H_0: & p = 0.52 \\\\\n",
    "H_1: & p > 0.52\n",
    "\\end{array}\n",
    "\\right.\n",
    "$$\n",
    "\n",
    "- 1018 personas encuestadas\n",
    "- 570 personas que creen que el problema de insomnio de sus hijos son las redes sociales y uso de dispositivos electrónicos"
   ]
  },
  {
   "cell_type": "code",
   "execution_count": null,
   "metadata": {},
   "outputs": [],
   "source": [
    "n = 1018\n",
    "x = 570\n",
    "p_null = 0.52\n",
    "p_hat = x/n\n",
    "print(\"p_hat = {ph}\".format(ph=p_hat))\n"
   ]
  },
  {
   "cell_type": "markdown",
   "metadata": {},
   "source": [
    "Para hacer un contraste de una proporción, se utiliza de `sm.stats`"
   ]
  },
  {
   "cell_type": "code",
   "execution_count": null,
   "metadata": {},
   "outputs": [],
   "source": [
    "\n",
    "ht = sm.stats.proportions_ztest(x, n, p_null, alternative = 'larger')\n",
    "print(\"El estadístico de contraste es {ec} y su p-valor es {pv}\".format(ec=ht[0], pv=ht[1]))\n"
   ]
  },
  {
   "cell_type": "markdown",
   "metadata": {},
   "source": [
    "### Contrastes de dos muestras\n",
    "\n",
    "$$\n",
    "\\left\\{\n",
    "\\begin{array}{ll}\n",
    "H_0: & p_1 - p_2 = 0 \\\\\n",
    "H_1: & p_1 - p_2 \\neq 0\n",
    "\\end{array}\n",
    "\\right.\n",
    "$$\n",
    "donde $p_1$ es la proporción de analistas que prefieren R y $p_2$ proporción de analistas que prefieren Python.\n",
    "\n",
    "- 247 analistas, 36.8% prefieren R\n",
    "- 308 analistas, 38.9% prefieren Python"
   ]
  },
  {
   "cell_type": "code",
   "execution_count": null,
   "metadata": {},
   "outputs": [],
   "source": [
    "n1 = 247\n",
    "p1 = .368\n",
    "\n",
    "n2 = 308\n",
    "p2 = .389\n",
    "\n",
    "\n",
    "population1 = np.random.binomial(1, p1, n1)\n",
    "population2 = np.random.binomial(1, p2, n2)\n",
    "\n",
    "print(population1)\n",
    "print(population2)"
   ]
  },
  {
   "cell_type": "code",
   "execution_count": null,
   "metadata": {},
   "outputs": [],
   "source": [
    "from scipy import stats\n",
    "t_test, p_value =stats.ttest_ind(population1, population2)\n",
    "if p_value < 0.05:\n",
    "  print(\"Rechazamos la hipótesis nula\")\n",
    "else:\n",
    "  print(\"Se acepta la hipótesis nula\")"
   ]
  },
  {
   "cell_type": "markdown",
   "metadata": {},
   "source": [
    "## Contrastes para la media poblacional $\\mu$\n",
    "\n",
    "### Contrastes de una muestra\n",
    "#### Ejemplo 1"
   ]
  },
  {
   "cell_type": "code",
   "execution_count": null,
   "metadata": {},
   "outputs": [],
   "source": [
    "data = [80.57, 98.96, 85.28, 83.83, 69.94, 89.59, 91.09, 66.25, 91.21, 82.7 , 73.54, 81.99, 54.01, 82.89, 75.88, 98.32, 107.2 , 85.53, 79.08, 84.3 , 89.32, 86.35, 78.98, 92.26, 87.01]"
   ]
  },
  {
   "cell_type": "markdown",
   "metadata": {},
   "source": [
    "$$\n",
    "\\left\\{\n",
    "\\begin{array}{ll}\n",
    "H_0: & \\mu = 80 \\\\\n",
    "H_1: & \\mu > 80\n",
    "\\end{array}\n",
    "\\right.\n",
    "$$\n",
    "donde $\\mu$ representa la media de los saltos de la competición."
   ]
  },
  {
   "cell_type": "code",
   "execution_count": null,
   "metadata": {},
   "outputs": [],
   "source": [
    "n = len(data)\n",
    "x_bar = st.mean(data)\n",
    "s_tilde = st.stdev(data)\n",
    "print(\"El tamaño de la muestra es {n}, la media muestral es {x_bar} y la desviación muestral {s_tilde}\".format(n=n, x_bar = x_bar, s_tilde = s_tilde))\n",
    "\n",
    "sm.stats.ztest(data, value = 80, alternative = \"larger\")"
   ]
  },
  {
   "cell_type": "markdown",
   "metadata": {},
   "source": [
    "#### Ejemplo 2"
   ]
  },
  {
   "cell_type": "code",
   "execution_count": null,
   "metadata": {},
   "outputs": [],
   "source": [
    "fichero = os.path.join(ruta,\"edades.csv\")\n",
    "edad = pd.read_csv(fichero)\n",
    "print(edad)"
   ]
  },
  {
   "cell_type": "code",
   "execution_count": null,
   "metadata": {},
   "outputs": [],
   "source": [
    "edad_media = np.mean(edad[\"Edad\"])\n",
    "edad_s_muestral = np.std(edad[\"Edad\"])\n",
    "print(\"La edad media es {a} y la desviación típica es {b}\".format(a=edad_media, b=edad_s_muestral))"
   ]
  },
  {
   "cell_type": "markdown",
   "metadata": {},
   "source": [
    "$$\n",
    "\\left\\{\n",
    "\\begin{array}{ll}\n",
    "H_0: & \\mu = 30 \\\\\n",
    "H_1: & \\mu \\neq 30\n",
    "\\end{array}\n",
    "\\right.\n",
    "$$"
   ]
  },
  {
   "cell_type": "code",
   "execution_count": null,
   "metadata": {},
   "outputs": [],
   "source": [
    "from scipy.stats import ttest_1samp\n",
    "ttest, pval = ttest_1samp(edad, 30)\n",
    "print(\"El p valor del contraste es \", pval)\n",
    "\n",
    "if pval < 0.05:\n",
    "  print(\"Rechazamos la hipótesis nula\")\n",
    "else:\n",
    "  print(\"Se acepta la hipótesis nula\")"
   ]
  },
  {
   "cell_type": "markdown",
   "metadata": {},
   "source": [
    "### Contrastes de dos muestras\n",
    "\n",
    "\n",
    "El contraste que queremos llevar a cabo es\n",
    "\n",
    "$$\n",
    "\\left\\{\n",
    "\\begin{array}{ll}\n",
    "H_0: & \\mu_1 = \\mu_2 \\\\\n",
    "H_1: & \\mu_1 \\neq \\mu_2\n",
    "\\end{array}\n",
    "\\right.\n",
    "$$"
   ]
  },
  {
   "cell_type": "markdown",
   "metadata": {},
   "source": [
    "#### Ejemplo 1"
   ]
  },
  {
   "cell_type": "code",
   "execution_count": null,
   "metadata": {},
   "outputs": [],
   "source": [
    "fichero = os.path.join(ruta,\"nhanes_2015_2016.csv\")\n",
    "data = pd.read_csv(fichero)\n",
    "data.head()"
   ]
  },
  {
   "cell_type": "code",
   "execution_count": null,
   "metadata": {},
   "outputs": [],
   "source": [
    "females = data[data[\"RIAGENDR\"]==2]\n",
    "males = data[data[\"RIAGENDR\"]==1]\n",
    "\n",
    "print(\"El número de mujeres de la muestra son: {fem_n} y el número de hombres es: {mal_n}\".format(fem_n = len(females), mal_n=len(males)))"
   ]
  },
  {
   "cell_type": "markdown",
   "metadata": {},
   "source": [
    "Escogemos una columna (en mi caso he cogido BMXWT)\n",
    "Por si acaso eliminaremos los NAs de nuestros datos:\n",
    "   "
   ]
  },
  {
   "cell_type": "code",
   "execution_count": null,
   "metadata": {},
   "outputs": [],
   "source": [
    "fem_BMXWT = females[\"BMXWT\"].dropna()\n",
    "mal_BMXWT = males[\"BMXWT\"].dropna()\n",
    "print(\"El número de mujeres de la muestra son: {fem_n} y el número de hombres es: {mal_n}\".format(fem_n = len(fem_BMXWT), mal_n=len(mal_BMXWT)))\n",
    "sm.stats.ztest(fem_BMXWT, mal_BMXWT, alternative = \"two-sided\")"
   ]
  },
  {
   "cell_type": "markdown",
   "metadata": {},
   "source": [
    "#### Ejemplo 2\n",
    "\n",
    "Comparamos dos medias de dos muestras independiendtes"
   ]
  },
  {
   "cell_type": "markdown",
   "metadata": {},
   "source": [
    "$$\n",
    "\\left\\{\n",
    "\\begin{array}{ll}\n",
    "H_0: & \\mu_1 = \\mu_2 \\\\\n",
    "H_1: & \\mu_1 \\neq \\mu_2\n",
    "\\end{array}\n",
    "\\right.\n",
    "$$"
   ]
  },
  {
   "cell_type": "code",
   "execution_count": null,
   "metadata": {},
   "outputs": [],
   "source": [
    "fichero_semana1 = os.path.join(ruta,\"semana1.csv\")\n",
    "fichero_semana2 = os.path.join(ruta,\"semana2.csv\")\n",
    "Semana1 = pd.read_csv(fichero_semana1)\n",
    "Semana2 = pd.read_csv(fichero_semana2)"
   ]
  },
  {
   "cell_type": "code",
   "execution_count": null,
   "metadata": {},
   "outputs": [],
   "source": [
    "Semana1.head()"
   ]
  },
  {
   "cell_type": "code",
   "execution_count": null,
   "metadata": {},
   "outputs": [],
   "source": [
    "Semana2.head()"
   ]
  },
  {
   "cell_type": "code",
   "execution_count": null,
   "metadata": {},
   "outputs": [],
   "source": [
    "print(\"Media de la semana 1: \", np.mean(Semana1[\"time\"]))\n",
    "print(\"Media de la semana 2: \", np.mean(Semana2[\"time\"]))\n",
    "print(\"Desviación típica de la semana 1: \", np.std(Semana1[\"time\"]))\n",
    "print(\"Desviación típica de la semana 2: \", np.std(Semana2[\"time\"]))"
   ]
  },
  {
   "cell_type": "code",
   "execution_count": 2,
   "metadata": {},
   "outputs": [
    {
     "ename": "NameError",
     "evalue": "name 'Semana1' is not defined",
     "output_type": "error",
     "traceback": [
      "\u001b[1;31m---------------------------------------------------------------------------\u001b[0m",
      "\u001b[1;31mNameError\u001b[0m                                 Traceback (most recent call last)",
      "\u001b[1;32m<ipython-input-2-7a3971c617de>\u001b[0m in \u001b[0;36m<module>\u001b[1;34m\u001b[0m\n\u001b[0;32m      1\u001b[0m \u001b[1;32mfrom\u001b[0m \u001b[0mscipy\u001b[0m\u001b[1;33m.\u001b[0m\u001b[0mstats\u001b[0m \u001b[1;32mimport\u001b[0m \u001b[0mttest_ind\u001b[0m\u001b[1;33m\u001b[0m\u001b[1;33m\u001b[0m\u001b[0m\n\u001b[1;32m----> 2\u001b[1;33m \u001b[0mt_test\u001b[0m\u001b[1;33m,\u001b[0m \u001b[0mp_value\u001b[0m \u001b[1;33m=\u001b[0m \u001b[0mttest_ind\u001b[0m\u001b[1;33m(\u001b[0m\u001b[0mSemana1\u001b[0m\u001b[1;33m,\u001b[0m \u001b[0mSemana2\u001b[0m\u001b[1;33m)\u001b[0m\u001b[1;33m\u001b[0m\u001b[1;33m\u001b[0m\u001b[0m\n\u001b[0m\u001b[0;32m      3\u001b[0m \u001b[0mprint\u001b[0m\u001b[1;33m(\u001b[0m\u001b[1;34m\"El p-valor del contraste es\"\u001b[0m\u001b[1;33m,\u001b[0m\u001b[0mp_value\u001b[0m\u001b[1;33m)\u001b[0m\u001b[1;33m\u001b[0m\u001b[1;33m\u001b[0m\u001b[0m\n\u001b[0;32m      4\u001b[0m \u001b[1;33m\u001b[0m\u001b[0m\n\u001b[0;32m      5\u001b[0m \u001b[1;32mif\u001b[0m \u001b[0mp_value\u001b[0m \u001b[1;33m<\u001b[0m \u001b[1;36m0.05\u001b[0m\u001b[1;33m:\u001b[0m\u001b[1;33m\u001b[0m\u001b[1;33m\u001b[0m\u001b[0m\n",
      "\u001b[1;31mNameError\u001b[0m: name 'Semana1' is not defined"
     ]
    }
   ],
   "source": [
    "from scipy.stats import ttest_ind\n",
    "t_test, p_value = ttest_ind(Semana1, Semana2)\n",
    "print(\"El p-valor del contraste es\",p_value)\n",
    "\n",
    "if p_value < 0.05:\n",
    "  print(\"Rechazamos la hipótesis nula\")\n",
    "else:\n",
    "  print(\"Se acepta la hipótesis nula\")"
   ]
  },
  {
   "cell_type": "markdown",
   "metadata": {},
   "source": [
    "#### Ejemplo 3\n",
    "Comparamos dos muestras pareadas.\n",
    "En la utilización de un medicamento. "
   ]
  },
  {
   "cell_type": "markdown",
   "metadata": {},
   "source": [
    "$$\n",
    "\\left\\{\n",
    "\\begin{array}{ll}\n",
    "H_0: & \\mu_1 = \\mu_2 \\\\\n",
    "H_1: & \\mu_1 \\neq \\mu_2\n",
    "\\end{array}\n",
    "\\right.\n",
    "$$"
   ]
  },
  {
   "cell_type": "code",
   "execution_count": null,
   "metadata": {},
   "outputs": [],
   "source": [
    "from scipy.stats import ttest_rel\n",
    "t_test, p_value = ttest_rel(Semana1, Semana2)\n",
    "print(\"El p-valor del contraste es\",p_value)\n",
    "\n",
    "if p_value < 0.05:\n",
    "  print(\"Rechazamos la hipótesis nula\")\n",
    "else:\n",
    "  print(\"Se acepta la hipótesis nula\")"
   ]
  },
  {
   "cell_type": "markdown",
   "metadata": {},
   "source": [
    "## Comparando la Varianza y la media de dos poblaciones (varianzas iguales)"
   ]
  },
  {
   "cell_type": "code",
   "execution_count": null,
   "metadata": {},
   "outputs": [],
   "source": [
    "import numpy as np\n",
    "from math import sqrt\n",
    "import pandas as pd \n",
    "from scipy import stats\n",
    "from scipy.stats import f \n",
    "import statsmodels.api as sm\n",
    "import statsmodels.stats.api as sms\n",
    "import matplotlib.pyplot as plt\n",
    "%matplotlib inline"
   ]
  },
  {
   "cell_type": "markdown",
   "metadata": {},
   "source": [
    "Comparacion de la varianza de las notas de varones y mujeres"
   ]
  },
  {
   "cell_type": "code",
   "execution_count": null,
   "metadata": {},
   "outputs": [],
   "source": [
    "notas=[50,75,80,68,95,84,78,87,56,61,75,89,80,70,83]\n",
    "genero=['f','f','f','f','f','f','f','f','m','m','m','m','m','m','m']\n",
    "a=pd.DataFrame({'notas' : notas,'genero' : genero})"
   ]
  },
  {
   "cell_type": "code",
   "execution_count": null,
   "metadata": {},
   "outputs": [],
   "source": [
    "a.boxplot(column='notas',by='genero')"
   ]
  },
  {
   "cell_type": "code",
   "execution_count": null,
   "metadata": {},
   "outputs": [],
   "source": [
    "## Manera poco eficiente\n",
    "mujeres=[50,75,80,68,95,84,78,87]\n",
    "varones=[56,61,75,89,80,70,83]"
   ]
  },
  {
   "cell_type": "code",
   "execution_count": null,
   "metadata": {},
   "outputs": [],
   "source": [
    "# Practicamos hacer una funcion que halle p-valor de la prueba estadistica de F \n",
    "# para probar igualdad de varianza de dos grupos\n",
    "def Ftest(grupo1,grupo2):\n",
    "    #Esta funcion calcula el p-value de la prueba F\n",
    "    a1 = 1.0*np.array(grupo1)\n",
    "    n1 = len(a1)\n",
    "    a2 = 1.0*np.array(grupo2)\n",
    "    n2 = len(a2)\n",
    "    s1, s2 = np.std(a1,ddof=1), np.std(a2,ddof=1)\n",
    "    test=(s1/s2)**2\n",
    "    ## Por ser de dos colas y al no ser simetrica la funcion F de snedecor\n",
    "    ## el p-valor se calculoa asi\n",
    "    p_valor=2*min(f.cdf(test,n1-1,n2-1),1-f.cdf(test,n1-1,n2-1))\n",
    "    print (\"El F experimenta es:\",test,\"El p-valor es:\", p_valor)    \n",
    "return"
   ]
  },
  {
   "cell_type": "markdown",
   "metadata": {},
   "source": [
    "### Comparando las varianzas\n",
    "\n",
    "$$\n",
    "\\left\\{\n",
    "\\begin{array}{ll}\n",
    "H_0: & \\sigma_1^2=\\sigma_2^2 \\\\\n",
    "H_1: & \\sigma_1^2\\neq\\sigma_2^2\n",
    "\\end{array}\n",
    "\\right.\n",
    "$$\n",
    "\n",
    "#### Prueba Estadistica:\n",
    "## $$F=\\frac{s{_1}^2}{s{_2}^2}$$"
   ]
  },
  {
   "cell_type": "code",
   "execution_count": null,
   "metadata": {},
   "outputs": [],
   "source": [
    "Ftest(mujeres,varones)"
   ]
  },
  {
   "cell_type": "code",
   "execution_count": null,
   "metadata": {},
   "outputs": [],
   "source": [
    "# Manera eficiente\n",
    "#Extrayendo los dos grupos de un dataframe \n",
    "grupo1=a.query('genero==\"f\"')['notas']\n",
    "grupo2=a.query('genero==\"m\"')['notas']\n",
    "Ftest(grupo1,grupo2)"
   ]
  },
  {
   "cell_type": "markdown",
   "metadata": {},
   "source": [
    "#### Ejemplo para comparar los scores en aprovechamiento matematico de estudiante de escueal publica y privada"
   ]
  },
  {
   "cell_type": "code",
   "execution_count": null,
   "metadata": {},
   "outputs": [],
   "source": [
    "#\n",
    "aprovech=pd.read_csv(\"http://academic.uprm.edu/eacuna/aprovech.csv\",sep=\",\")\n",
    "aprovech.head()"
   ]
  },
  {
   "cell_type": "code",
   "execution_count": null,
   "metadata": {},
   "outputs": [],
   "source": [
    "#Extrayendo los dos grupos\n",
    "grupo1=aprovech.query('Escuela==\"privada\"')['Aprovech']\n",
    "grupo2=aprovech.query('Escuela==\"publica\"')['Aprovech']"
   ]
  },
  {
   "cell_type": "code",
   "execution_count": null,
   "metadata": {},
   "outputs": [],
   "source": [
    "grupo1.var()"
   ]
  },
  {
   "cell_type": "code",
   "execution_count": null,
   "metadata": {},
   "outputs": [],
   "source": [
    "grupo2.var()"
   ]
  },
  {
   "cell_type": "code",
   "execution_count": null,
   "metadata": {},
   "outputs": [],
   "source": [
    "Ftest(grupo1,grupo2)"
   ]
  },
  {
   "cell_type": "code",
   "execution_count": null,
   "metadata": {},
   "outputs": [],
   "source": [
    "aprovech.boxplot(column='Aprovech',by='Escuela')"
   ]
  },
  {
   "cell_type": "markdown",
   "metadata": {},
   "source": [
    "### Probando igualdad de dos medias asumiendo igual varianza\n",
    "$$\n",
    "\\left\\{\n",
    "\\begin{array}{ll}\n",
    "H_0: & \\mu_1 = \\mu_2 \\\\\n",
    "H_1: & \\mu_1 \\neq \\mu_2\n",
    "\\end{array}\n",
    "\\right.\n",
    "$$"
   ]
  },
  {
   "cell_type": "code",
   "execution_count": null,
   "metadata": {},
   "outputs": [],
   "source": [
    "stats.ttest_ind(grupo1, grupo2, equal_var = True)"
   ]
  },
  {
   "cell_type": "markdown",
   "metadata": {},
   "source": [
    "## Comparando media de dos poblaciones (varianzas distintas) y Muestras pareadas"
   ]
  },
  {
   "cell_type": "code",
   "execution_count": null,
   "metadata": {},
   "outputs": [],
   "source": [
    "import numpy as np\n",
    "from math import sqrt\n",
    "import pandas as pd\n",
    "from scipy import stats\n",
    "from scipy.stats  import norm, t, f, ttest_1samp\n",
    "import statsmodels.api as sm\n",
    "import statsmodels.stats.api as sms\n",
    "import matplotlib.pyplot as plt\n",
    "%matplotlib inline"
   ]
  },
  {
   "cell_type": "code",
   "execution_count": 1,
   "metadata": {},
   "outputs": [
    {
     "ename": "NameError",
     "evalue": "name 'pd' is not defined",
     "output_type": "error",
     "traceback": [
      "\u001b[1;31m---------------------------------------------------------------------------\u001b[0m",
      "\u001b[1;31mNameError\u001b[0m                                 Traceback (most recent call last)",
      "\u001b[1;32m<ipython-input-1-20b98b4927c7>\u001b[0m in \u001b[0;36m<module>\u001b[1;34m\u001b[0m\n\u001b[0;32m      1\u001b[0m \u001b[1;31m#Leyendo los datos para comparar los promedio denotas (gpa) segun el genero del estudiante\u001b[0m\u001b[1;33m\u001b[0m\u001b[1;33m\u001b[0m\u001b[1;33m\u001b[0m\u001b[0m\n\u001b[1;32m----> 2\u001b[1;33m \u001b[0mgpasex\u001b[0m\u001b[1;33m=\u001b[0m\u001b[0mpd\u001b[0m\u001b[1;33m.\u001b[0m\u001b[0mread_csv\u001b[0m\u001b[1;33m(\u001b[0m\u001b[1;34m\"http://academic.uprm.edu/eacuna/gpasex.csv\"\u001b[0m\u001b[1;33m,\u001b[0m\u001b[0msep\u001b[0m\u001b[1;33m=\u001b[0m\u001b[1;34m\",\"\u001b[0m\u001b[1;33m)\u001b[0m\u001b[1;33m\u001b[0m\u001b[1;33m\u001b[0m\u001b[0m\n\u001b[0m",
      "\u001b[1;31mNameError\u001b[0m: name 'pd' is not defined"
     ]
    }
   ],
   "source": [
    "#Leyendo los datos para comparar los promedio denotas (gpa) segun el genero del estudiante\n",
    "gpasex=pd.read_csv(\"http://academic.uprm.edu/eacuna/gpasex.csv\",sep=\",\")"
   ]
  },
  {
   "cell_type": "code",
   "execution_count": null,
   "metadata": {},
   "outputs": [],
   "source": [
    "gpasex.head()"
   ]
  },
  {
   "cell_type": "code",
   "execution_count": null,
   "metadata": {},
   "outputs": [],
   "source": [
    "gpasex.info()"
   ]
  },
  {
   "cell_type": "code",
   "execution_count": null,
   "metadata": {},
   "outputs": [],
   "source": [
    "gpasex.boxplot(column='gpa',by='genero')"
   ]
  },
  {
   "cell_type": "code",
   "execution_count": null,
   "metadata": {},
   "outputs": [],
   "source": [
    "grupo1=gpasex.query('genero==\"mujer\"')['gpa']\n",
    "grupo2=gpasex.query('genero==\"hombre\"')['gpa']"
   ]
  },
  {
   "cell_type": "code",
   "execution_count": null,
   "metadata": {},
   "outputs": [],
   "source": [
    "Ftest(grupo1,grupo2)"
   ]
  },
  {
   "cell_type": "code",
   "execution_count": null,
   "metadata": {},
   "outputs": [],
   "source": [
    "ttest, pvalue,dof=sms.ttest_ind(grupo1, grupo2, usevar = 'unequal', alternative=\"larger\")\n",
    "print (\"ttest es:\",ttest,\"p-value es:\",pvalue,\"grados de libertad son:\",dof)"
   ]
  },
  {
   "cell_type": "markdown",
   "metadata": {},
   "source": [
    "## COMPARACION DE DOS GRUPOS USANDO MUESTRAS PAREADAS"
   ]
  },
  {
   "cell_type": "code",
   "execution_count": null,
   "metadata": {},
   "outputs": [],
   "source": [
    "presion=pd.read_table(\"http://academic.uprm.edu/eacuna/ejemplo715.txt\",delim_whitespace=True)"
   ]
  },
  {
   "cell_type": "code",
   "execution_count": null,
   "metadata": {},
   "outputs": [],
   "source": [
    "presion.head()"
   ]
  },
  {
   "cell_type": "code",
   "execution_count": null,
   "metadata": {},
   "outputs": [],
   "source": [
    "#Extrayendo los presiones de los pacientes antes y despues  \n",
    "antes=np.array(presion[['Antes']])\n",
    "despues=np.array(presion[[\"Despues\"]])\n",
    "despues"
   ]
  },
  {
   "cell_type": "markdown",
   "metadata": {},
   "source": [
    "#### Prueba de muestras pareadas\n",
    "$$\n",
    "\\left\\{\n",
    "\\begin{array}{ll}\n",
    "H_0: & \\mu_{Antes} = \\mu_{Despues} \\\\\n",
    "H_1: & \\mu_{Antes} \\neq \\mu_{Despues}\n",
    "\\end{array}\n",
    "\\right.\n",
    "$$"
   ]
  },
  {
   "cell_type": "code",
   "execution_count": null,
   "metadata": {},
   "outputs": [],
   "source": [
    "stats.ttest_rel(antes,despues)"
   ]
  },
  {
   "cell_type": "markdown",
   "metadata": {},
   "source": [
    "A nosotros nos interesa que el tiempo de Antes sea superior, para poder vender nuestro medicamento, es decir, ese tipo de test no es, debería ser el siguiente\n",
    "$$\n",
    "\\left\\{\n",
    "\\begin{array}{ll}\n",
    "H_0: & \\mu_{Antes} \\leq \\mu_{Despues} \\\\\n",
    "H_1: & \\mu_{Antes} > \\mu_{Despues}\n",
    "\\end{array}\n",
    "\\right.\n",
    "$$"
   ]
  },
  {
   "cell_type": "markdown",
   "metadata": {},
   "source": [
    "y por tanto, tener que rechazar $H_0$"
   ]
  },
  {
   "cell_type": "markdown",
   "metadata": {},
   "source": [
    "Esta función no nos permite hacer de una cola y solo hace de dos."
   ]
  }
 ],
 "metadata": {
  "kernelspec": {
   "display_name": "Python 3",
   "language": "python",
   "name": "python3"
  },
  "language_info": {
   "codemirror_mode": {
    "name": "ipython",
    "version": 3
   },
   "file_extension": ".py",
   "mimetype": "text/x-python",
   "name": "python",
   "nbconvert_exporter": "python",
   "pygments_lexer": "ipython3",
   "version": "3.8.5"
  }
 },
 "nbformat": 4,
 "nbformat_minor": 4
}
