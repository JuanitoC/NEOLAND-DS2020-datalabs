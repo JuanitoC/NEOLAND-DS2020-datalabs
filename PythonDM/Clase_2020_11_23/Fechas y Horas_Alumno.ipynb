{
 "cells": [
  {
   "cell_type": "markdown",
   "metadata": {},
   "source": [
    "# Manejo de fecha y hora en Python"
   ]
  },
  {
   "cell_type": "markdown",
   "metadata": {},
   "source": [
    "## Librería datetime\n",
    "Este modulo contiene funciones para hacer análisis, cambiar de formato y realizar operaciones aritméticas con fechas y horas.\n",
    "\n",
    "Esta compuesta por varias funciones para manejar la fecha y tiempos. \n",
    "\n",
    "Algunas son:\n",
    "* time\n",
    "* date\n",
    "* datetime\n",
    "* tzinfo\n",
    "* timezone\n",
    "* timedelta\n",
    "\n",
    "### Propiedades\n",
    "* Los objetos son inmutables <sup>[[1]](#inmutable)</sup>\n",
    "* Los objetos son hashables, pueden ser utilizados como llave en un diccionario. no son una tupla, no son un string, son un tipo de datos especial.\n",
    "* Son eficientes para ser almacenados utilizando el módulo pickle.\n",
    "* Los objetos de tipo date y datetime puede almacenar un año mínimo de 1 y máximo de 9999.\n",
    "    \n",
    " <a name=\"inmutable\">[1]</a> Que un objeto sea inmutable significa que no puede ser cambiado luego de haber sido creado. \n",
    " \n",
    "\n",
    " \n",
    "#### Ejemplo\n",
    "\n",
    "**Obtener la fecha y hora actuales.**\n",
    "\n",
    "Se puede obtener solo la fecha o solo la hora con el metodo date(), time();"
   ]
  },
  {
   "cell_type": "code",
   "execution_count": 7,
   "metadata": {},
   "outputs": [
    {
     "name": "stdout",
     "output_type": "stream",
     "text": [
      "2020-11-25 18:04:37.805085\n"
     ]
    }
   ],
   "source": [
    "import datetime\n",
    "datetime_object=datetime.datetime.now()\n",
    "print(datetime_object)"
   ]
  },
  {
   "cell_type": "markdown",
   "metadata": {},
   "source": [
    "#### Función time\n",
    "Para crear horarios"
   ]
  },
  {
   "cell_type": "code",
   "execution_count": 2,
   "metadata": {},
   "outputs": [
    {
     "name": "stdout",
     "output_type": "stream",
     "text": [
      "a =  00:00:00\n",
      "b =  11:34:56\n",
      "c =  11:34:56.001234\n"
     ]
    }
   ],
   "source": [
    "from datetime import time\n",
    "## time(hora, minuto, segundo,microsegundos)\n",
    "a=time() #creamos una hora vacia\n",
    "print(\"a = \",a)\n",
    "b=time(11,34,56)#creamos una hora determianda\n",
    "print(\"b = \",b)\n",
    "c=time(11,34,56,1234) #creamos una hora determinada con microsegundos\n",
    "print(\"c = \",c)\n"
   ]
  },
  {
   "cell_type": "markdown",
   "metadata": {},
   "source": [
    "### Funcion Datetime\n",
    "Para crear fechas"
   ]
  },
  {
   "cell_type": "code",
   "execution_count": 3,
   "metadata": {},
   "outputs": [
    {
     "name": "stdout",
     "output_type": "stream",
     "text": [
      "2020-11-24 00:00:00\n",
      "2020-11-24 19:10:12.123456\n"
     ]
    }
   ],
   "source": [
    "from datetime import datetime\n",
    "#datetime(year,month,day)\n",
    "a=datetime(2020,11,24)\n",
    "print(a)\n",
    "\n",
    "#datetime(year,month,day,hour,minute,second,microsecond)\n",
    "b=datetime(2020,11,24,19,10,12,123456)\n",
    "print(b)"
   ]
  },
  {
   "cell_type": "markdown",
   "metadata": {},
   "source": [
    "#### Podemos convertir objetos datetime a string"
   ]
  },
  {
   "cell_type": "code",
   "execution_count": 4,
   "metadata": {},
   "outputs": [
    {
     "name": "stdout",
     "output_type": "stream",
     "text": [
      "La hora es  18:59:31\n",
      "s1:  11/23/2020, 18:59:31\n",
      "s1:  23/11/2020, 18:59:31\n"
     ]
    }
   ],
   "source": [
    "ahora=datetime.now()\n",
    "\n",
    "t=ahora.strftime(\"%H:%M:%S\")\n",
    "print(\"La hora es \",t)\n",
    "\n",
    "s1=ahora.strftime(\"%m/%d/%Y, %H:%M:%S\")\n",
    "print(\"s1: \",s1)\n",
    "\n",
    "s1=ahora.strftime(\"%d/%m/%Y, %H:%M:%S\")\n",
    "print(\"s1: \",s1)"
   ]
  },
  {
   "cell_type": "markdown",
   "metadata": {},
   "source": [
    "$$\\begin{array}{|c|l|l|}\n",
    "\\hline\n",
    "\\text{Símbolo} & \\text{Significado}&\\text{Ejemplo}\\\\ \\hline\n",
    "\\%a &\\text{Día de la semana abreviado}&\\text{Wed}\\\\\n",
    "\\%A&\\text{Nombre completo del día de la semana}&\\text{Wednesday}\\\\\n",
    "\\%w&\\text{Número del día de la semana – 0 (Domingo) al 6 (Sábado)}&\\text{3}\\\\\n",
    "\\%d&\\text{Día del mes (rellenado con cero)}&\\text{13}\\\\\n",
    "\\%b&\\text{Nombre del mes abreviado}&\\text{Jan}\\\\\n",
    "\\%B&\\text{Nombre completo del mes}&\\text{January}\\\\\n",
    "\\%m&\\text{Mes del año}&\\text{01}\\\\\n",
    "\\%y&\\text{Año sin siglo}&\\text{16}\\\\\n",
    "\\%Y&\\text{Año con siglo}&\\text{2016}\\\\\n",
    "\\%H&\\text{Hora del reloj de 24 horas}&\\text{17}\\\\\n",
    "\\%I&\\text{Hora del reloj de 12 horas}&\\text{05}\\\\\n",
    "\\%p&\\text{AM/PM}&\\text{PM}\\\\\n",
    "\\%M&\\text{Minutos}&\\text{00}\\\\\n",
    "\\%S&\\text{Segundos}&\\text{00}\\\\\n",
    "\\%f&\\text{Microsegundos}&\\text{000000}\\\\\n",
    "\\%z&\\text{Desplazamiento UTC para objetos con reconocimiento de zona horaria}&\\text{-0500}\\\\\n",
    "\\%Z&\\text{Nombre de la zona horaria}&\\text{EST}\\\\\n",
    "\\%j&\\text{Día del año}&\\text{013}\\\\\n",
    "\\%W&\\text{Semana del año}&\\text{02}\\\\\n",
    "\\%c&\\text{Representación de fecha y hora para el lugar presente}&\\text{Wed Jan 13 17:00:00 2016}\\\\\n",
    "\\%x&\\text{Representación de fecha para el lugar presente}&\\text{01/13/16}\\\\\n",
    "\\%X&\\text{Representación de hora para el lugar presente}&\\text{17:00:00}\\\\\n",
    "\\%\\%&\\text{Un caractér \\% literal}&\\text{\\%}\\\\ \\hline\n",
    "\\end{array}$$"
   ]
  },
  {
   "cell_type": "markdown",
   "metadata": {},
   "source": [
    "### Convertir un string a objeto datetime\n",
    "strptime() maneja dos argumentos:\n",
    "\n",
    "* Una cadena que contien fecha y hora.\n",
    "* Y el formato de la cadena."
   ]
  },
  {
   "cell_type": "code",
   "execution_count": 5,
   "metadata": {},
   "outputs": [
    {
     "name": "stdout",
     "output_type": "stream",
     "text": [
      "fecha_string = 24 November, 2020\n",
      "fecha_objeto = 2020-11-24 00:00:00\n"
     ]
    }
   ],
   "source": [
    "from datetime import datetime\n",
    "fecha_string=\"24 November, 2020\"\n",
    "print(\"fecha_string =\", fecha_string)\n",
    "\n",
    "fecha_objeto=datetime.strptime(fecha_string,\"%d %B, %Y\")\n",
    "print(\"fecha_objeto =\", fecha_objeto)"
   ]
  },
  {
   "cell_type": "markdown",
   "metadata": {},
   "source": [
    "#### Timestamp\n",
    "Timestamp es una secuencia de caracteres que denotan la fecha y hora. Es muy común encontrar bases de datos que manejan esta marca temporal, utilizando el formato **Tiempo Unix** o también conocido como **POSIX**, el cual está definido como la cantidad de segundos transcurridos desde la medianoche del 1 de enero de 1970.\n",
    "\n",
    "El viernes 13 de febrero de 2009, exactamente a las 23:31:30 (UTC), el tiempo Unix igualó a '1234567890'. Google celebró este momento añadiendo durante unos instantes en el logotipo de su página principal el código: date +%s comando que muestra la fecha actual en formato 'Unix Time'.\n",
    "\n",
    "en el 2038 nos encontraremos con un inconveniente proveniente de esta forma de manejar el tiempo. Y es que el tipo de dato time_t usado para guardar el contador de segundos es un entero de 32 bits con signo, es decir, que puede representar un rango de números entre -2 147 483 648 y 2 147 483 647 ($-2^{31}$ y $2^{31}$-1; 1 bit para el signo, y 31 para representar su valor en complemento a dos), por lo que el último segundo representable con este formato será a las 03:14:07 UTC del 19 de enero de 2038, cuando el contador llegue a 2 147 483 647. Un segundo después, el contador se desbordará y saltará al valor -2 147 483 648, que causará el fallo de programas que interpretarán el tiempo como que están en 1901 (dependiendo de la implementación), en vez de en 2038\n",
    "\n",
    "##### Convertir un timestamp a objeto datatime y viceversa"
   ]
  },
  {
   "cell_type": "code",
   "execution_count": 6,
   "metadata": {},
   "outputs": [
    {
     "name": "stdout",
     "output_type": "stream",
     "text": [
      "timestamp=  1606154371.660489\n",
      "tiempo=  2020-11-23 18:59:31.660489\n"
     ]
    }
   ],
   "source": [
    "from datetime import datetime\n",
    "\n",
    "ahora=datetime.now()\n",
    "timestamp=datetime.timestamp(ahora)\n",
    "print(\"timestamp= \", timestamp)\n",
    "\n",
    "tiempo=datetime.fromtimestamp(timestamp)\n",
    "print(\"tiempo= \",tiempo)"
   ]
  },
  {
   "cell_type": "markdown",
   "metadata": {},
   "source": [
    "#### Artimética con fechas\n",
    "La matemática fecha usa los operadores aritméticos estándar."
   ]
  },
  {
   "cell_type": "code",
   "execution_count": 1,
   "metadata": {},
   "outputs": [
    {
     "name": "stdout",
     "output_type": "stream",
     "text": [
      "Hoy:  2020-11-25\n",
      "un_dia:  1 day, 0:00:00\n",
      "Ayer: 2020-11-24\n",
      "Mañana:  2020-11-26\n",
      "\n",
      "Mañana - Ayer:  2 days, 0:00:00\n",
      "Ayer - Mañana:  -2 days, 0:00:00\n",
      "España gano la copa del mundo hace  3789 days, 0:00:00\n",
      "España gano la copa del mundo hace  3789 days, 0:00:00\n",
      "<class 'datetime.timedelta'>\n",
      "<class 'datetime.timedelta'>\n"
     ]
    }
   ],
   "source": [
    " import datetime\n",
    "Hoy = datetime.date.today()\n",
    "print('Hoy: ', Hoy)\n",
    "\n",
    "un_dia = datetime.timedelta(days=1)\n",
    "print('un_dia: ', un_dia)\n",
    "\n",
    "Ayer = Hoy - un_dia\n",
    "print('Ayer:', Ayer)\n",
    "\n",
    "Manana = Hoy + un_dia\n",
    "print('Mañana: ', Manana)\n",
    "\n",
    "print()\n",
    "print('Mañana - Ayer: ', Manana - Ayer)\n",
    "print('Ayer - Mañana: ', Ayer - Manana)\n",
    "\n",
    "\n",
    "\n",
    "from datetime import datetime, date\n",
    "\n",
    "t1=date(year=2020,month=11,day=24)\n",
    "t2=date(year=2010,month=7,day=11)\n",
    "t3=t1-t2\n",
    "print(\"España gano la copa del mundo hace \",t3)\n",
    "\n",
    "t4=datetime(year=2020,month=11,day=24,hour=19,minute=32,second=43)\n",
    "t5=datetime(year=2010,month=7,day=11,hour=23,minute=13,second=26)\n",
    "t6=t4-t5\n",
    "print(\"España gano la copa del mundo hace \",t3)\n",
    "\n",
    "print(type(t3))\n",
    "print(type(t6))"
   ]
  },
  {
   "cell_type": "markdown",
   "metadata": {},
   "source": []
  },
  {
   "cell_type": "markdown",
   "metadata": {},
   "source": [
    "##### Operaciones con timedelta()\n",
    "Un objeto timedelta también admite aritmética con enteros, números de coma flotante y otras instancias "
   ]
  },
  {
   "cell_type": "code",
   "execution_count": 8,
   "metadata": {},
   "outputs": [
    {
     "name": "stdout",
     "output_type": "stream",
     "text": [
      "1 dia    : 1 day, 0:00:00\n",
      "5 dias   : 5 days, 0:00:00\n",
      "1.5 dias : 1 day, 12:00:00\n",
      "1/4 dia  : 6:00:00\n",
      "comidas por horas de trabajo : 7.0\n"
     ]
    }
   ],
   "source": [
    "import datetime\n",
    "un_dia = datetime.timedelta(days=1)\n",
    "print('1 dia    :', un_dia)\n",
    "print('5 dias   :', un_dia * 5)\n",
    "print('1.5 dias :', un_dia * 1.5)\n",
    "print('1/4 dia  :', un_dia / 4)\n",
    "\n",
    "# Hora para comer\n",
    "dia_trabajo = datetime.timedelta(hours=7)\n",
    "Hora_para_comer = datetime.timedelta(hours=1)\n",
    "print('comidas por horas de trabajo :', dia_trabajo / Hora_para_comer)"
   ]
  },
  {
   "cell_type": "markdown",
   "metadata": {},
   "source": [
    "En este ejemplo, se computan varios múltiplos de un solo día, con el timedelta resultante conteniendo el número apropiado de días u horas. El último ejemplo demuestra cómo calcular valores combinando dos objetos timedelta. En este caso, el resultado es un número de coma flotante."
   ]
  },
  {
   "cell_type": "markdown",
   "metadata": {},
   "source": [
    "### Combinando fechas y horas\n",
    "Usa la clase datetime para mantener los valores que consisten en componentes fechas y componentes de tiempo. Al igual que con date, hay varios métodos de clase convenientes para crear instancias datetime de otros valores comunes."
   ]
  },
  {
   "cell_type": "code",
   "execution_count": 6,
   "metadata": {},
   "outputs": [
    {
     "name": "stdout",
     "output_type": "stream",
     "text": [
      "Ahora:  2020-11-25 17:20:26.259889\n",
      "Hoy:  2020-11-25 17:20:26.259890\n",
      "UTC Ahora:  2020-11-25 16:20:26.259889\n",
      "\n",
      "year           : 2020\n",
      "month          : 11\n",
      "day            : 25\n",
      "hour           : 17\n",
      "minute         : 20\n",
      "second         : 26\n",
      "microsecond    : 260890\n"
     ]
    }
   ],
   "source": [
    "import datetime\n",
    "\n",
    "print('Ahora: ', datetime.datetime.now())\n",
    "print('Hoy: ', datetime.datetime.today())\n",
    "print('UTC Ahora: ', datetime.datetime.utcnow())\n",
    "print()\n",
    "\n",
    "FIELDS = [\n",
    "    'year', 'month', 'day',\n",
    "    'hour', 'minute', 'second',\n",
    "    'microsecond',\n",
    "]\n",
    "\n",
    "d = datetime.datetime.now()\n",
    "for attr in FIELDS:\n",
    "    print('{:15}: {}'.format(attr, getattr(d, attr)))"
   ]
  },
  {
   "cell_type": "markdown",
   "metadata": {},
   "source": [
    "#### Zonas horarias\n",
    "Dentro de datetime, las zonas horarias están representadas por subclases de tzinfo. Como tzinfo es una clase base abstracta, aplicaciones necesitan definir una subclase y proporcionar implementaciones para algunos métodos para hacerla útil.\n",
    "\n",
    "datetime incluye una implementación algo ingenua en la clase timezone que usa un desplazamiento fijo de UTC, y lo hace no admite diferentes valores de desplazamiento en diferentes días del año, como dónde se aplica el horario de verano, o donde el desplazamiento de UTC ha cambiado con el tiempo."
   ]
  },
  {
   "cell_type": "code",
   "execution_count": 10,
   "metadata": {},
   "outputs": [
    {
     "name": "stdout",
     "output_type": "stream",
     "text": [
      "UTC-06:00 : 2020-11-23 11:59:32.210826-06:00\n",
      "UTC : 2020-11-23 17:59:32.210826+00:00\n",
      "UTC+06:00 : 2020-11-23 23:59:32.210826+06:00\n",
      "Hora estándar romance       : 2020-11-23 18:59:32.210826+01:00\n"
     ]
    }
   ],
   "source": [
    "import datetime\n",
    "\n",
    "min6 = datetime.timezone(datetime.timedelta(hours=-6))\n",
    "plus6 = datetime.timezone(datetime.timedelta(hours=6))\n",
    "d = datetime.datetime.now(min6)\n",
    "\n",
    "print(min6, ':', d)\n",
    "print(datetime.timezone.utc, ':',\n",
    "      d.astimezone(datetime.timezone.utc))\n",
    "print(plus6, ':', d.astimezone(plus6))\n",
    "\n",
    "# convertir la hora ctual en timezone\n",
    "d_system = d.astimezone()\n",
    "print(d_system.tzinfo, '      :', d_system)"
   ]
  },
  {
   "cell_type": "markdown",
   "metadata": {},
   "source": [
    "Para convertir un valor de fecha y hora de una zona horaria a otra, usa astimezone(). En el ejemplo anterior, dos zonas horarias separadas 6 horas a cada lado de UTC se muestran, y la instancia utc de datetime.timezone también se usa como referencia. La última línea del resultado muestra el valor en la zona horaria del sistema, adquirida por invocando astimezone() sin argumento."
   ]
  },
  {
   "cell_type": "code",
   "execution_count": null,
   "metadata": {},
   "outputs": [],
   "source": []
  },
  {
   "cell_type": "code",
   "execution_count": null,
   "metadata": {},
   "outputs": [],
   "source": []
  },
  {
   "cell_type": "markdown",
   "metadata": {},
   "source": [
    "#### Libreria time\n",
    "Python contiene una librería para manejar las tareas relacionadas con el tiempo.\n",
    "\n",
    "\n",
    "las funciones de este modulo hacen uso de librerias de C"
   ]
  },
  {
   "cell_type": "markdown",
   "metadata": {},
   "source": [
    "### time.time()\n",
    "Regresa el número de segundos pasados, utilizando el formato time unix"
   ]
  },
  {
   "cell_type": "code",
   "execution_count": 11,
   "metadata": {},
   "outputs": [
    {
     "name": "stdout",
     "output_type": "stream",
     "text": [
      "1606154372.3554387\n"
     ]
    }
   ],
   "source": [
    "import time\n",
    "segundos=time.time()\n",
    "print(segundos)"
   ]
  },
  {
   "cell_type": "markdown",
   "metadata": {},
   "source": [
    "#### time.ctime()\n",
    "Toma como argumento la cantidad de segundo en formato time unix y retonar un string que representa el tiempo local con fecha y hora"
   ]
  },
  {
   "cell_type": "code",
   "execution_count": 12,
   "metadata": {},
   "outputs": [
    {
     "name": "stdout",
     "output_type": "stream",
     "text": [
      "Mon Nov 23 18:59:32 2020\n"
     ]
    }
   ],
   "source": [
    "import time\n",
    "hora_local=time.ctime(time.time())\n",
    "print(hora_local)"
   ]
  },
  {
   "cell_type": "markdown",
   "metadata": {},
   "source": [
    "#### Comparando valores\n",
    "Los valores de fecha y hora se pueden comparar utilizando los operador estándar de comparación para determinar cuál es anterior o posterior."
   ]
  },
  {
   "cell_type": "code",
   "execution_count": 5,
   "metadata": {},
   "outputs": [
    {
     "name": "stdout",
     "output_type": "stream",
     "text": [
      "Times:\n",
      "  t1: 12:55:00\n",
      "  t2: 13:05:00\n",
      "  t1 < t2: True\n",
      "\n",
      "Dates:\n",
      "  d1: 2020-11-23\n",
      "  d2: 2020-11-24\n",
      "  d1 > d2: False\n"
     ]
    }
   ],
   "source": [
    "import datetime\n",
    "import time\n",
    "\n",
    "print('Times:')\n",
    "t1 = datetime.time(12, 55, 0)\n",
    "print('  t1:', t1)\n",
    "t2 = datetime.time(13, 5, 0)\n",
    "print('  t2:', t2)\n",
    "print('  t1 < t2:', t1 < t2)\n",
    "\n",
    "print()\n",
    "print('Dates:')\n",
    "d1 = datetime.date.today()\n",
    "print('  d1:', d1)\n",
    "d2 = datetime.date.today() + datetime.timedelta(days=1)\n",
    "print('  d2:', d2)\n",
    "print('  d1 > d2:', d1 > d2)"
   ]
  },
  {
   "cell_type": "markdown",
   "metadata": {},
   "source": [
    "#### time.sleep()\n",
    "Pausa la ejecucion de un hilo tomando como argumento el numero de segundos que se debe pausar"
   ]
  },
  {
   "cell_type": "code",
   "execution_count": 6,
   "metadata": {},
   "outputs": [
    {
     "name": "stdout",
     "output_type": "stream",
     "text": [
      "Voy a descansar\n",
      "Que buena siesta\n",
      "Voy a descansar\n",
      "Que buena siesta\n",
      "Voy a descansar\n",
      "Que buena siesta\n",
      "Voy a descansar\n",
      "Que buena siesta\n",
      "Voy a descansar\n",
      "Que buena siesta\n"
     ]
    }
   ],
   "source": [
    "for i in range(5):\n",
    "    print(\"Voy a descansar\")\n",
    "    time.sleep(i)\n",
    "    print(\"Que buena siesta\")\n",
    "    "
   ]
  },
  {
   "cell_type": "code",
   "execution_count": null,
   "metadata": {},
   "outputs": [],
   "source": []
  }
 ],
 "metadata": {
  "kernelspec": {
   "display_name": "Python 3",
   "language": "python",
   "name": "python3"
  },
  "language_info": {
   "codemirror_mode": {
    "name": "ipython",
    "version": 3
   },
   "file_extension": ".py",
   "mimetype": "text/x-python",
   "name": "python",
   "nbconvert_exporter": "python",
   "pygments_lexer": "ipython3",
   "version": "3.8.5"
  }
 },
 "nbformat": 4,
 "nbformat_minor": 4
}
