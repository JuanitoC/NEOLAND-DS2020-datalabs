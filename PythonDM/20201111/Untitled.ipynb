{
 "cells": [
  {
   "cell_type": "code",
   "execution_count": 29,
   "metadata": {},
   "outputs": [],
   "source": [
    "import pandas as pd"
   ]
  },
  {
   "cell_type": "code",
   "execution_count": 2,
   "metadata": {},
   "outputs": [
    {
     "name": "stdout",
     "output_type": "stream",
     "text": [
      "Index(['Key_Objeto', 'Key_Tienda', 'Precio', 'Fecha_Entrada'], dtype='object')\n",
      "Index(['Key_Objeto', 'Nombre'], dtype='object')\n",
      "Index(['Key_Tienda', 'Tienda'], dtype='object')\n",
      "0\n",
      "0\n"
     ]
    }
   ],
   "source": [
    "### Abrimos ficheros.\n",
    "Objeto = pd.read_csv(\"Objeto.csv\",sep=\";\")\n",
    "Precio = pd.read_csv(\"Precio.csv\",sep=\";\",decimal= \",\")\n",
    "Tienda = pd.read_csv(\"Tienda.csv\",sep=\";\")\n",
    "\n",
    "## Mediante columnas vemos los nombres de los campos para poder hacer los merges\n",
    "print(Precio.columns)\n",
    "print(Objeto.columns)\n",
    "print(Tienda.columns)\n",
    "\n",
    "## vamos a comprobar que los campos \"key\" tienen solo un valor antes de hacer el merge\n",
    "\n",
    "f ,c = Objeto.shape\n",
    "print(f- len(set(Objeto['Key_Objeto'])))\n",
    "\n",
    "f ,c = Tienda.shape\n",
    "print(f- len(set(Tienda['Key_Tienda'])))\n",
    "\n",
    "\n"
   ]
  },
  {
   "cell_type": "code",
   "execution_count": 3,
   "metadata": {},
   "outputs": [
    {
     "data": {
      "text/html": [
       "<div>\n",
       "<style scoped>\n",
       "    .dataframe tbody tr th:only-of-type {\n",
       "        vertical-align: middle;\n",
       "    }\n",
       "\n",
       "    .dataframe tbody tr th {\n",
       "        vertical-align: top;\n",
       "    }\n",
       "\n",
       "    .dataframe thead th {\n",
       "        text-align: right;\n",
       "    }\n",
       "</style>\n",
       "<table border=\"1\" class=\"dataframe\">\n",
       "  <thead>\n",
       "    <tr style=\"text-align: right;\">\n",
       "      <th></th>\n",
       "      <th>Key_Objeto</th>\n",
       "      <th>Key_Tienda</th>\n",
       "      <th>Precio</th>\n",
       "      <th>Fecha_Entrada</th>\n",
       "      <th>Nombre</th>\n",
       "      <th>Tienda</th>\n",
       "    </tr>\n",
       "  </thead>\n",
       "  <tbody>\n",
       "    <tr>\n",
       "      <th>0</th>\n",
       "      <td>86060</td>\n",
       "      <td>10</td>\n",
       "      <td>613.629998</td>\n",
       "      <td>2020-08-13</td>\n",
       "      <td>ADDADIIA</td>\n",
       "      <td>Tienda_302</td>\n",
       "    </tr>\n",
       "    <tr>\n",
       "      <th>1</th>\n",
       "      <td>243600</td>\n",
       "      <td>10</td>\n",
       "      <td>1481.645588</td>\n",
       "      <td>2020-06-30</td>\n",
       "      <td>AIADIDAA</td>\n",
       "      <td>Tienda_302</td>\n",
       "    </tr>\n",
       "    <tr>\n",
       "      <th>2</th>\n",
       "      <td>243601</td>\n",
       "      <td>10</td>\n",
       "      <td>840.673657</td>\n",
       "      <td>2020-06-30</td>\n",
       "      <td>AIADIDAA</td>\n",
       "      <td>Tienda_302</td>\n",
       "    </tr>\n",
       "    <tr>\n",
       "      <th>3</th>\n",
       "      <td>544634</td>\n",
       "      <td>10</td>\n",
       "      <td>1040.701988</td>\n",
       "      <td>2020-08-12</td>\n",
       "      <td>AJDIAAIA</td>\n",
       "      <td>Tienda_302</td>\n",
       "    </tr>\n",
       "    <tr>\n",
       "      <th>4</th>\n",
       "      <td>544636</td>\n",
       "      <td>10</td>\n",
       "      <td>1979.095188</td>\n",
       "      <td>2020-08-12</td>\n",
       "      <td>AJDIAAIA</td>\n",
       "      <td>Tienda_302</td>\n",
       "    </tr>\n",
       "  </tbody>\n",
       "</table>\n",
       "</div>"
      ],
      "text/plain": [
       "   Key_Objeto  Key_Tienda       Precio Fecha_Entrada    Nombre      Tienda\n",
       "0       86060          10   613.629998    2020-08-13  ADDADIIA  Tienda_302\n",
       "1      243600          10  1481.645588    2020-06-30  AIADIDAA  Tienda_302\n",
       "2      243601          10   840.673657    2020-06-30  AIADIDAA  Tienda_302\n",
       "3      544634          10  1040.701988    2020-08-12  AJDIAAIA  Tienda_302\n",
       "4      544636          10  1979.095188    2020-08-12  AJDIAAIA  Tienda_302"
      ]
     },
     "execution_count": 3,
     "metadata": {},
     "output_type": "execute_result"
    }
   ],
   "source": [
    "## Hacemos el merge \n",
    "\n",
    "## Precio + Objeto\n",
    "Total_DF = Precio.merge(Objeto, on='Key_Objeto', how='left')\n",
    "\n",
    "## Añado Tienda\n",
    "Total_DF = Total_DF.merge(Tienda, on='Key_Tienda', how='left')\n",
    "\n",
    "\n",
    "Total_DF.head()"
   ]
  },
  {
   "cell_type": "code",
   "execution_count": 9,
   "metadata": {},
   "outputs": [
    {
     "data": {
      "text/plain": [
       "(151688, 4)"
      ]
     },
     "execution_count": 9,
     "metadata": {},
     "output_type": "execute_result"
    }
   ],
   "source": [
    "Total_DF  =Total_DF.drop(['Key_Objeto','Key_Tienda'],axis=1)\n",
    "Total_DF.shape\n"
   ]
  },
  {
   "cell_type": "code",
   "execution_count": 74,
   "metadata": {},
   "outputs": [
    {
     "name": "stdout",
     "output_type": "stream",
     "text": [
      "                          Precio\n",
      "Tienda     Nombre               \n",
      "Tienda_112 AAAJDDJA   611.761582\n",
      "           AADAJDJA  -151.836098\n",
      "           AADJAIIA  1337.881077\n",
      "           ADAAIIIA   748.278432\n",
      "           ADADIDAD  -659.412296\n",
      "...                          ...\n",
      "Tienda_732 AIAJJJIJ  1211.902768\n",
      "           AIAJJJJA   941.408104\n",
      "           AIAJJJJD  1688.534454\n",
      "           AIJAIIAD   537.545492\n",
      "           AIJDIADD  1177.890999\n",
      "\n",
      "[10748 rows x 1 columns]\n",
      "               Precio                                   \n",
      "Tienda     Tienda_112   Tienda_302 Tienda_652 Tienda_732\n",
      "Nombre                                                  \n",
      "AAAAAAAA          NaN  1129.864869        NaN        NaN\n",
      "AAAAAADA          NaN   719.407188        NaN        NaN\n",
      "AAAAAAIA          NaN  1106.618803        NaN        NaN\n",
      "AAAAAAJA          NaN   978.343061        NaN        NaN\n",
      "AAAAADAA          NaN   860.602212        NaN        NaN\n",
      "...               ...          ...        ...        ...\n",
      "AJJJIDDA          NaN  1566.025154        NaN        NaN\n",
      "AJJJIDIA          NaN  1636.767457        NaN        NaN\n",
      "AJJJIJDA          NaN   399.257471        NaN        NaN\n",
      "IDAIADA   1292.869932          NaN        NaN        NaN\n",
      "IJIIIAA    -84.264983          NaN        NaN        NaN\n",
      "\n",
      "[8041 rows x 4 columns]\n"
     ]
    }
   ],
   "source": [
    "ANOVA = pd.DataFrame(Total_DF.groupby(['Tienda','Nombre'])['Precio'].mean())\n",
    "print(ANOVA)\n",
    "ANOVA = ANOVA.unstack(0)\n",
    "print(ANOVA)\n",
    "\n",
    "\n",
    "\n",
    "##pivoted = chi2.pivot(index='Nombre',columns='Tienda',values='Precio')"
   ]
  },
  {
   "cell_type": "code",
   "execution_count": 68,
   "metadata": {},
   "outputs": [
    {
     "ename": "TypeError",
     "evalue": "read_csv() got an unexpected keyword argument 'columns'",
     "output_type": "error",
     "traceback": [
      "\u001b[1;31m---------------------------------------------------------------------------\u001b[0m",
      "\u001b[1;31mTypeError\u001b[0m                                 Traceback (most recent call last)",
      "\u001b[1;32m<ipython-input-68-bb4abecfb974>\u001b[0m in \u001b[0;36m<module>\u001b[1;34m\u001b[0m\n\u001b[1;32m----> 1\u001b[1;33m \u001b[0mANOVA\u001b[0m \u001b[1;33m=\u001b[0m \u001b[0mpd\u001b[0m\u001b[1;33m.\u001b[0m\u001b[0mread_csv\u001b[0m\u001b[1;33m(\u001b[0m\u001b[1;34m\"ANOVA.csv\"\u001b[0m\u001b[1;33m,\u001b[0m\u001b[0msep\u001b[0m\u001b[1;33m=\u001b[0m\u001b[1;34m\";\"\u001b[0m\u001b[1;33m,\u001b[0m\u001b[0mcolumns\u001b[0m \u001b[1;33m=\u001b[0m \u001b[1;33m[\u001b[0m\u001b[1;34m'Objeto'\u001b[0m\u001b[1;33m,\u001b[0m\u001b[1;34m'Tienda 112'\u001b[0m\u001b[1;33m,\u001b[0m\u001b[1;34m'Tienda 302'\u001b[0m\u001b[1;33m,\u001b[0m\u001b[1;34m'Tienda 652'\u001b[0m\u001b[1;33m,\u001b[0m\u001b[1;34m'Tienda 732'\u001b[0m\u001b[1;33m]\u001b[0m\u001b[1;33m)\u001b[0m\u001b[1;33m\u001b[0m\u001b[1;33m\u001b[0m\u001b[0m\n\u001b[0m",
      "\u001b[1;31mTypeError\u001b[0m: read_csv() got an unexpected keyword argument 'columns'"
     ]
    }
   ],
   "source": [
    "ANOVA = pd.read_csv(\"ANOVA.csv\",sep=\";\",columns = ['Objeto','Tienda 112','Tienda 302','Tienda 652','Tienda 732'])"
   ]
  },
  {
   "cell_type": "code",
   "execution_count": null,
   "metadata": {},
   "outputs": [],
   "source": []
  }
 ],
 "metadata": {
  "kernelspec": {
   "display_name": "Python 3",
   "language": "python",
   "name": "python3"
  },
  "language_info": {
   "codemirror_mode": {
    "name": "ipython",
    "version": 3
   },
   "file_extension": ".py",
   "mimetype": "text/x-python",
   "name": "python",
   "nbconvert_exporter": "python",
   "pygments_lexer": "ipython3",
   "version": "3.8.5"
  }
 },
 "nbformat": 4,
 "nbformat_minor": 4
}
