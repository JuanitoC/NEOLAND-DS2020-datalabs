{
 "cells": [
  {
   "cell_type": "code",
   "execution_count": null,
   "metadata": {},
   "outputs": [],
   "source": [
    "import pandas as pd\n",
    "\n",
    "DF = pd.read_csv('https://datos.comunidad.madrid/catalogo/dataset/7da43feb-8d4d-47e0-abd5-3d022d29d09e/resource/f22c3f43-c5d0-41a4-96dc-719214d56968/download/covid19_tia_muni_y_distritos_s.csv',sep=';',encoding='mbcs')\n",
    "\n",
    "DF['FI1'] =pd.to_datetime(DF['fecha_informe']).dt.date\n",
    "\n",
    "DF['tasa_incidencia_acumulada_ultimos_14dias'] = DF['tasa_incidencia_acumulada_ultimos_14dias'].str.replace(',','.')\n",
    "DF['tasa_incidencia_acumulada_ultimos_14dias'] = DF['tasa_incidencia_acumulada_ultimos_14dias'].astype('float')\n",
    "\n",
    "NewDF= DF[['municipio_distrito','tasa_incidencia_acumulada_ultimos_14dias','FI1']]\n",
    "NewDF.rename(columns={'municipio_distrito':'MD','tasa_incidencia_acumulada_ultimos_14dias':'TIA14'},inplace=True)\n",
    "\n",
    "decil10 = np.percentile(NewDF.loc[NewDF['FI1']==datetime.date(2020, 10, 27),'TIA14'],90)\n",
    "\n",
    "MDDecil10 = NewDF.loc[(NewDF['FI1']==datetime.date(2020, 10, 27))&(NewDF['TIA14']>=decil10),['MD']]\n",
    "NewDF.loc[(NewDF['FI1']==datetime.date(2020, 10, 27))&(NewDF['TIA14']>=decil10),['MD','TIA14']].sort_values(by='TIA14')\n",
    "\n"
   ]
  }
 ],
 "metadata": {
  "kernelspec": {
   "display_name": "Python 3",
   "language": "python",
   "name": "python3"
  },
  "language_info": {
   "codemirror_mode": {
    "name": "ipython",
    "version": 3
   },
   "file_extension": ".py",
   "mimetype": "text/x-python",
   "name": "python",
   "nbconvert_exporter": "python",
   "pygments_lexer": "ipython3",
   "version": "3.8.5"
  }
 },
 "nbformat": 4,
 "nbformat_minor": 4
}
