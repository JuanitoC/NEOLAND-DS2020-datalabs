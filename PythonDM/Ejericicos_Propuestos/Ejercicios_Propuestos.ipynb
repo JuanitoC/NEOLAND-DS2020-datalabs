{
 "cells": [
  {
   "cell_type": "markdown",
   "metadata": {},
   "source": [
    "# Ejercicios de Programación Resueltos"
   ]
  },
  {
   "cell_type": "markdown",
   "metadata": {},
   "source": [
    "## Ejercicio 1"
   ]
  },
  {
   "cell_type": "markdown",
   "metadata": {},
   "source": [
    "Calcule una función que determine si un año es bisiesto o no.\n",
    "Recuerde que un año es bisiesto si es multiplo de 4 o es multiplo de 400.\n",
    "Es decir, los años 1700, 1800 o 1900 son divisbles por 4 divisibles pero no divisbles por 400.\n",
    "En cambio, los años 1600 o 2000 son divisbles por 4 divisibles y divisbles por 400."
   ]
  },
  {
   "cell_type": "code",
   "execution_count": null,
   "metadata": {},
   "outputs": [],
   "source": [
    "## Ejercicio 2\n",
    "def calcularanyo(year):\n",
    "        if int(year) % 4 == 0:\n",
    "            print(\"{} es año bisiesto\".format(year))\n",
    "        else:\n",
    "            print(\"{} no es año bisiesto\".format(year))\n",
    "\n",
    "def introduciranyo():\n",
    "    Y = input(\"Introduce un año\")\n",
    "    if Y.isnumeric() == False:\n",
    "        print('{} es un valor Incorrecto. Introduce otro valor'.format(Y)) \n",
    "        introduciranyo()\n",
    "    else:\n",
    "        calcularanyo(Y)\n",
    "        \n",
    "introduciranyo()"
   ]
  },
  {
   "cell_type": "markdown",
   "metadata": {},
   "source": [
    "Escriba la función que dada una cantidad de dinero calcule el desglose en billetes y monedas, empezando por el billete mayor al menor y contemplando solo las monedas de 2€ y 1€. Por ejemplo, para la cantidad de dinero, 1378€\n",
    "* 2 billetes de 500€\n",
    "* 1 billete  de 200€\n",
    "* 1 billete  de 100€\n",
    "* 1 billete  de  50€\n",
    "* 1 billete  de  20€\n",
    "* 1 billete  de   5€\n",
    "* 1 moneda   de   2€\n",
    "* 1 moneda   de   1€"
   ]
  },
  {
   "cell_type": "code",
   "execution_count": 77,
   "metadata": {},
   "outputs": [
    {
     "name": "stdout",
     "output_type": "stream",
     "text": [
      "El cambio para 878 es de:\n",
      "1 de 500\n",
      "1 de 200\n",
      "1 de 100\n",
      "1 de 50\n",
      "1 de 20\n",
      "1 de 5\n",
      "1 de 2\n",
      "1 de 1\n"
     ]
    }
   ],
   "source": [
    "import math # importamos la librería math para poder redondear hacia abajo.\n",
    "def CalcularCambio(Importe):\n",
    "    print(\"El cambio para {} es de:\".format(Importe))\n",
    "    Billetesymonedas = (500,200,100,50,20,5,2,1) # Estos son los billetes y monedas de los que disponemos,\n",
    "    # estos importes se pueden modificar.\n",
    "    Cambio = [0,0,0,0,0,0,0,0] # Esta matriz será la que almacene los importes de cambio.\n",
    "    for X in range(len(Billetesymonedas)):\n",
    "        Cambio[X] = math.floor(Importe /Billetesymonedas[X]) ## Hace la división y redondea hacia abajo\n",
    "        print(\"{} de {}\".format(Cambio[X],Billetesymonedas[X])) \n",
    "        Importe = Importe - Cambio[X]*Billetesymonedas[X] ## resta el importe que ya hemos 'Ubicado' \n",
    "\n",
    "CalcularCambio(878)"
   ]
  },
  {
   "cell_type": "markdown",
   "metadata": {},
   "source": [
    "## Ejercicio 3"
   ]
  },
  {
   "cell_type": "markdown",
   "metadata": {},
   "source": [
    "Un banco está intersado en llevar el registro de clientes que solicitan una extracción de dinero de un cajero, para ello el cliente debe introducir la cantidad de dinero a extraer del cajero y éste le devolverá el desglose de dicha cantidad en billetes de de 200 a 10 euros. \n",
    "\n",
    "Al finalizar la operación, se debe quedar en un fichero de registro una traza de los billetes dispensado al cliente junto con su nombre, sus apellidos y la *hora local* en el que se realizó dicha operacion. Guarda el fichero en el formato que más comodo te resulte.\n",
    "\n",
    "Por ejemplo, para la cantidad de dinero, 370€\n",
    "* 1 billete  de 200€\n",
    "* 1 billete  de 100€\n",
    "* 1 billete  de  50€\n",
    "* 1 billete  de  20€\n"
   ]
  },
  {
   "cell_type": "code",
   "execution_count": 116,
   "metadata": {},
   "outputs": [],
   "source": [
    "import math # importamos la librería math para poder redondear hacia abajo.\n",
    "import time\n",
    "import getpass\n",
    "\n",
    "f = open(\"Listado.txt\",\"a\")\n",
    "\n",
    "def CalcularCambio(Importe):\n",
    "    Billetesymonedas = (200,100,50,20) # Estos son los billetes y monedas de los que disponemos,\n",
    "    # estos importes se pueden modificar.\n",
    "    Cambio = [0,0,0,0,0,0] # Esta matriz será la que almacene los importes de cambio.\n",
    "    for X in range(len(Billetesymonedas)):\n",
    "        Cambio[X] = math.floor(Importe /Billetesymonedas[X]) ## Hace la división y redondea hacia abajo\n",
    "        Importe = Importe - Cambio[X]*Billetesymonedas[X] ## resta el importe que ya hemos 'Ubicado'    \n",
    "    Cambio[X+1] = time.asctime()\n",
    "    Cambio[X+2] = getpass.getuser()  \n",
    "    NuevaLinea= '{},{},{},{},{},{}'.format(Cambio[0],Cambio[1],Cambio[2],Cambio[3],Cambio[4],Cambio[5])+'\\n'\n",
    "    f.write(NuevaLinea)\n",
    "\n",
    "        \n",
    "CalcularCambio(95)"
   ]
  }
 ],
 "metadata": {
  "kernelspec": {
   "display_name": "Python 3",
   "language": "python",
   "name": "python3"
  },
  "language_info": {
   "codemirror_mode": {
    "name": "ipython",
    "version": 3
   },
   "file_extension": ".py",
   "mimetype": "text/x-python",
   "name": "python",
   "nbconvert_exporter": "python",
   "pygments_lexer": "ipython3",
   "version": "3.8.5"
  }
 },
 "nbformat": 4,
 "nbformat_minor": 4
}
